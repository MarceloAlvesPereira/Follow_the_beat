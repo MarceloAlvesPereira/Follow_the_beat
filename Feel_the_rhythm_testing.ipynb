{
 "cells": [
  {
   "cell_type": "code",
   "execution_count": null,
   "id": "11dd7a96",
   "metadata": {
    "ExecuteTime": {
     "end_time": "2021-12-18T13:34:10.261169Z",
     "start_time": "2021-12-18T13:34:09.704032Z"
    }
   },
   "outputs": [],
   "source": [
    "# import cProfile\n",
    "# import collections\n",
    "import datetime\n",
    "\n",
    "import os\n",
    "import pickle\n",
    "# import sys\n",
    "import time\n",
    "\n",
    "# import numpy as np\n",
    "import pandas as pd\n",
    "\n",
    "# from datetime import datetime\n",
    "from dotenv import load_dotenv\n",
    "\n",
    "pd.options.display.float_format = \"{:.2f}\".format\n",
    "# plt.rcParams.update({'font.size': 18})"
   ]
  },
  {
   "cell_type": "code",
   "execution_count": null,
   "id": "9b1f7920",
   "metadata": {
    "ExecuteTime": {
     "end_time": "2021-12-18T13:34:10.790020Z",
     "start_time": "2021-12-18T13:34:10.344132Z"
    }
   },
   "outputs": [],
   "source": [
    "load_dotenv()\n",
    "SPOTIPY_API = os.getenv('SPOTIPY_API')\n",
    "SPOTIPY_API_KEY = os.getenv('SPOTIPY_API_KEY')\n",
    "scope=''\n",
    "\n",
    "# https://spotipy.readthedocs.io/en/latest/#\n",
    "import spotipy\n",
    "from spotipy.oauth2 import SpotifyClientCredentials\n",
    "client_credentials_manager = SpotifyClientCredentials(client_id=SPOTIPY_API, client_secret=SPOTIPY_API_KEY)\n",
    "\n",
    "# help(sp)\n",
    "sp = spotipy.Spotify(client_credentials_manager=client_credentials_manager,requests_timeout=300)"
   ]
  },
  {
   "cell_type": "markdown",
   "id": "31c57dbd",
   "metadata": {},
   "source": [
    "# Get features"
   ]
  },
  {
   "cell_type": "code",
   "execution_count": null,
   "id": "b4ca8c04",
   "metadata": {
    "ExecuteTime": {
     "end_time": "2021-12-18T14:45:01.363846Z",
     "start_time": "2021-12-18T14:45:01.347065Z"
    }
   },
   "outputs": [],
   "source": [
    "# https://www.thedataschool.co.uk/penny-richmond/howtogetdataoffspotify\n",
    "\n",
    "def analyze_playlist(user_id, playlist_id):\n",
    "\n",
    "    # Create empty dataframe\n",
    "    playlist_features_list = [\"artist\", \"album\", \"track_name\", \"track_id\", \"danceability\", \"energy\", \"key\", \"loudness\",\"mode\", \"speechiness\", \"instrumentalness\", \"liveness\", \"valence\", \"tempo\", \"duration_ms\", \"time_signature\"]\n",
    "\n",
    "    playlist_df = pd.DataFrame(columns = playlist_features_list)\n",
    "\n",
    "    # Loop through every track in the playlist, extract features and append the features to the playlist df\n",
    "\n",
    "    playlist = sp.user_playlist_tracks(user_id, playlist_id)[\"tracks\"][\"items\"]\n",
    "    for track in playlist:\n",
    "        # Create empty dict\n",
    "        playlist_features = {}\n",
    "        # Get metadata\n",
    "        playlist_features[\"artist\"] = track[\"track\"][\"album\"][\"artists\"][0][\"name\"]\n",
    "        playlist_features[\"album\"] = track[\"track\"][\"album\"][\"name\"]\n",
    "        playlist_features[\"track_name\"] = track[\"track\"][\"name\"]\n",
    "        playlist_features[\"track_id\"] = track[\"track\"][\"id\"]\n",
    "\n",
    "    # Get audio features\n",
    "        audio_features = sp.audio_features(playlist_features[\"track_id\"])[0]\n",
    "        for feature in playlist_features_list[4:]:\n",
    "            playlist_features[feature] = audio_features[feature]\n",
    "\n",
    "        # Concat the dfs\n",
    "        track_df = pd.DataFrame(playlist_features, index = [0])\n",
    "        playlist_df = pd.concat([playlist_df, track_df], ignore_index = True)\n",
    "\n",
    "    return playlist_df"
   ]
  },
  {
   "cell_type": "code",
   "execution_count": null,
   "id": "730524d9",
   "metadata": {
    "ExecuteTime": {
     "end_time": "2021-12-18T14:57:25.156920Z",
     "start_time": "2021-12-18T14:57:25.139968Z"
    }
   },
   "outputs": [],
   "source": [
    "# df = analyze_playlist('12158094445','3whqQJWBWirCJW1EeeMw5V')\n",
    "# df"
   ]
  },
  {
   "cell_type": "markdown",
   "id": "43ba0fda",
   "metadata": {},
   "source": [
    "# Audio Features"
   ]
  },
  {
   "cell_type": "code",
   "execution_count": null,
   "id": "4ce99a4a",
   "metadata": {
    "ExecuteTime": {
     "end_time": "2021-12-18T14:48:39.826867Z",
     "start_time": "2021-12-18T14:48:39.731506Z"
    }
   },
   "outputs": [],
   "source": [
    "# https://towardsdatascience.com/spotify-api-audio-features-5d8bcbd780b2\n",
    "audio_features = sp.audio_features('0LyfQWJT6nXafLPZqxe9Of')\n",
    "audio_features"
   ]
  },
  {
   "cell_type": "markdown",
   "id": "0193af4d",
   "metadata": {},
   "source": [
    "# GSA"
   ]
  },
  {
   "cell_type": "code",
   "execution_count": null,
   "id": "83f54f3b",
   "metadata": {
    "ExecuteTime": {
     "end_time": "2021-12-18T15:35:04.787618Z",
     "start_time": "2021-12-18T15:35:04.781629Z"
    },
    "scrolled": true
   },
   "outputs": [],
   "source": [
    "# https://medium.com/analytics-vidhya/easily-analyse-audio-features-from-spotify-playlists-part-1-3b004cd406b3\n",
    "import GSA\n",
    "myPlaylist = GSA.getInformation('37i9dQZF1DX3hgbB9nrEB1', verbose=True)"
   ]
  }
 ],
 "metadata": {
  "hide_input": false,
  "kernelspec": {
   "display_name": "Python 3",
   "language": "python",
   "name": "python3"
  },
  "language_info": {
   "codemirror_mode": {
    "name": "ipython",
    "version": 3
   },
   "file_extension": ".py",
   "mimetype": "text/x-python",
   "name": "python",
   "nbconvert_exporter": "python",
   "pygments_lexer": "ipython3",
   "version": "3.8.10"
  },
  "toc": {
   "base_numbering": 1,
   "nav_menu": {},
   "number_sections": true,
   "sideBar": true,
   "skip_h1_title": false,
   "title_cell": "Table of Contents",
   "title_sidebar": "Contents",
   "toc_cell": false,
   "toc_position": {},
   "toc_section_display": true,
   "toc_window_display": false
  },
  "varInspector": {
   "cols": {
    "lenName": 16,
    "lenType": 16,
    "lenVar": 40
   },
   "kernels_config": {
    "python": {
     "delete_cmd_postfix": "",
     "delete_cmd_prefix": "del ",
     "library": "var_list.py",
     "varRefreshCmd": "print(var_dic_list())"
    },
    "r": {
     "delete_cmd_postfix": ") ",
     "delete_cmd_prefix": "rm(",
     "library": "var_list.r",
     "varRefreshCmd": "cat(var_dic_list()) "
    }
   },
   "types_to_exclude": [
    "module",
    "function",
    "builtin_function_or_method",
    "instance",
    "_Feature"
   ],
   "window_display": false
  }
 },
 "nbformat": 4,
 "nbformat_minor": 5
}
