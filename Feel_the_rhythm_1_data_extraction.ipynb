{
 "cells": [
  {
   "cell_type": "code",
   "execution_count": null,
   "id": "11dd7a96",
   "metadata": {
    "ExecuteTime": {
     "end_time": "2021-12-18T13:34:10.261169Z",
     "start_time": "2021-12-18T13:34:09.704032Z"
    }
   },
   "outputs": [],
   "source": [
    "# import cProfile\n",
    "# import collections\n",
    "import datetime\n",
    "\n",
    "import os\n",
    "import pickle\n",
    "# import sys\n",
    "import time\n",
    "\n",
    "# import numpy as np\n",
    "import pandas as pd\n",
    "\n",
    "# from datetime import datetime\n",
    "from dotenv import load_dotenv\n",
    "\n",
    "pd.options.display.float_format = \"{:.2f}\".format\n",
    "# plt.rcParams.update({'font.size': 18})"
   ]
  },
  {
   "cell_type": "code",
   "execution_count": null,
   "id": "9b1f7920",
   "metadata": {
    "ExecuteTime": {
     "end_time": "2021-12-18T13:34:10.790020Z",
     "start_time": "2021-12-18T13:34:10.344132Z"
    }
   },
   "outputs": [],
   "source": [
    "load_dotenv()\n",
    "SPOTIPY_API = os.getenv('SPOTIPY_API')\n",
    "SPOTIPY_API_KEY = os.getenv('SPOTIPY_API_KEY')\n",
    "scope=''\n",
    "\n",
    "# https://spotipy.readthedocs.io/en/latest/#\n",
    "import spotipy\n",
    "from spotipy.oauth2 import SpotifyClientCredentials\n",
    "client_credentials_manager = SpotifyClientCredentials(client_id=SPOTIPY_API, client_secret=SPOTIPY_API_KEY)\n",
    "\n",
    "# help(sp)\n",
    "sp = spotipy.Spotify(client_credentials_manager=client_credentials_manager,requests_timeout=300)"
   ]
  },
  {
   "cell_type": "markdown",
   "id": "8ec88536",
   "metadata": {},
   "source": [
    "# 1. Get user and playlist IDs"
   ]
  },
  {
   "cell_type": "code",
   "execution_count": null,
   "id": "df9866c8",
   "metadata": {
    "ExecuteTime": {
     "end_time": "2021-12-18T13:34:14.452346Z",
     "start_time": "2021-12-18T13:34:14.445365Z"
    }
   },
   "outputs": [],
   "source": [
    "n = 950 # max = 950\n",
    "p_limit = 50 # limit of playlists max = 50\n",
    "years = range(2018,2022,1)"
   ]
  },
  {
   "cell_type": "code",
   "execution_count": null,
   "id": "2ac0a23e",
   "metadata": {
    "ExecuteTime": {
     "end_time": "2021-12-18T03:33:21.141273Z",
     "start_time": "2021-12-18T03:33:18.504366Z"
    }
   },
   "outputs": [],
   "source": [
    "# Extract the user and playlist IDs\n",
    "format = '%d/%m/%Y %H:%M'\n",
    "t = time.time()\n",
    "\n",
    "# check if data extraction already exists then load if it exists, otherwise performs the data request from API and save the file\n",
    "data_path = os.getcwd() + '\\\\data\\\\external\\\\raw_1_uid_pid.pkl'\n",
    "if os.path.exists(data_path):\n",
    "    print('Playlist ID and User ID - Data already requested from API - Loaded: ' + data_path)\n",
    "    # load file only if the next step was not executed (getting tracks)\n",
    "    data_path_2 = os.getcwd() + '\\\\data\\\\external\\\\raw_2_playlists.pkl'\n",
    "    if not(os.path.exists(data_path_2)):\n",
    "        with open(data_path, 'rb') as f:\n",
    "            uid_pid_raw = pickle.load(f)\n",
    "else:\n",
    "    print('Playlist ID and User ID - Data requested from API - Saved: ' + data_path)\n",
    "    # list of all user ids (UID) and playlist ids (PID)\n",
    "    uid_pid_raw = []\n",
    "    \n",
    "    for y in years:\n",
    "        txt = 'year:' + str(y)\n",
    "        print(txt)\n",
    "        for i in range(0,n,1):\n",
    "            if i % 100 == 0:\n",
    "                t_now = datetime.datetime.now().strftime(format)\n",
    "                calc_eta = datetime.datetime.now() + datetime.timedelta(seconds = n - i) * (time.time() - t) / (i + 1)\n",
    "                calc_eta = calc_eta.strftime(format)\n",
    "                print(\"%s - %d/%d elapsed time (min): %.1f - ETA: %s\" % (t_now, i, n, (time.time()-t)/60 ,calc_eta))\n",
    "            uid_pid = sp.search(q=txt, type='playlist', limit=p_limit, offset=i,market='US')\n",
    "            uid_pid_raw.append(uid_pid)\n",
    "    # Save the data\n",
    "    with open(data_path, 'wb') as f:\n",
    "        pickle.dump(uid_pid_raw, f)\n",
    "        \n",
    "print(len(uid_pid_raw)) # CHECK WHY THE COUNT OF PLAYLISTS DECREASED"
   ]
  },
  {
   "cell_type": "markdown",
   "id": "42b189d5",
   "metadata": {},
   "source": [
    "# 2. Get the details of each playlist"
   ]
  },
  {
   "cell_type": "code",
   "execution_count": null,
   "id": "c1693337",
   "metadata": {
    "ExecuteTime": {
     "end_time": "2021-12-18T03:40:00.602086Z",
     "start_time": "2021-12-18T03:40:00.579152Z"
    }
   },
   "outputs": [],
   "source": [
    "# extract = True\n",
    "extract = False\n",
    "\n",
    "# Get the detail of all playlists\n",
    "format = '%d/%m/%Y %H:%M'\n",
    "t = time.time()\n",
    "\n",
    "n = len(uid_pid_raw)\n",
    "data_path = os.getcwd() + '\\\\data\\\\external\\\\raw_2_playlists_N.pkl'\n",
    "if extract == True:\n",
    "    print('Details of each playlist - Data requested from API - Saved:' + data_path)\n",
    "    # Get details of all playlists\n",
    "    playlists_full = []\n",
    "    print('Getting details of all playlists')\n",
    "    for i, uid_pid in enumerate(uid_pid_raw):\n",
    "        if i % 100 == 0 and i > 0:\n",
    "            playlists_full = []\n",
    "            t_now = datetime.datetime.now().strftime(format)\n",
    "            calc_eta = datetime.datetime.now() + datetime.timedelta(seconds = n - i) * (time.time() - t) / (i + 1)\n",
    "            calc_eta = calc_eta.strftime(format)\n",
    "            print(\"%s - %d/%d elapsed time (min): %.1f - ETA: %s\" % (t_now, i, n, (time.time()-t)/60 ,calc_eta))\n",
    "\n",
    "        for user in uid_pid['playlists']['items']:\n",
    "            pid = user['id']\n",
    "            uid = user['owner']['id']\n",
    "            playlist = sp.user_playlist(uid, pid)\n",
    "            playlists_full.append(playlist)\n",
    "\n",
    "        # Save the data\n",
    "        if i % 100 == 0 and i > 0:\n",
    "            print(i)\n",
    "            data_path = os.getcwd() + '\\\\data\\\\external\\\\raw_2_playlists_' + str(int(i/100)) + '.pkl'\n",
    "            print(data_path)\n",
    "            with open(data_path, 'wb') as f:\n",
    "                pickle.dump(playlists_full, f)"
   ]
  }
 ],
 "metadata": {
  "hide_input": false,
  "kernelspec": {
   "display_name": "Python 3",
   "language": "python",
   "name": "python3"
  },
  "language_info": {
   "codemirror_mode": {
    "name": "ipython",
    "version": 3
   },
   "file_extension": ".py",
   "mimetype": "text/x-python",
   "name": "python",
   "nbconvert_exporter": "python",
   "pygments_lexer": "ipython3",
   "version": "3.8.10"
  },
  "toc": {
   "base_numbering": 1,
   "nav_menu": {},
   "number_sections": true,
   "sideBar": true,
   "skip_h1_title": false,
   "title_cell": "Table of Contents",
   "title_sidebar": "Contents",
   "toc_cell": false,
   "toc_position": {},
   "toc_section_display": true,
   "toc_window_display": false
  },
  "varInspector": {
   "cols": {
    "lenName": 16,
    "lenType": 16,
    "lenVar": 40
   },
   "kernels_config": {
    "python": {
     "delete_cmd_postfix": "",
     "delete_cmd_prefix": "del ",
     "library": "var_list.py",
     "varRefreshCmd": "print(var_dic_list())"
    },
    "r": {
     "delete_cmd_postfix": ") ",
     "delete_cmd_prefix": "rm(",
     "library": "var_list.r",
     "varRefreshCmd": "cat(var_dic_list()) "
    }
   },
   "types_to_exclude": [
    "module",
    "function",
    "builtin_function_or_method",
    "instance",
    "_Feature"
   ],
   "window_display": false
  }
 },
 "nbformat": 4,
 "nbformat_minor": 5
}
