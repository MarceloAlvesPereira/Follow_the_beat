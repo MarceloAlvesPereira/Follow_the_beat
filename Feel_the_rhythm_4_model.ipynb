{
 "cells": [
  {
   "cell_type": "code",
   "execution_count": 1,
   "id": "6de699c6",
   "metadata": {
    "ExecuteTime": {
     "end_time": "2022-05-22T13:48:13.222831Z",
     "start_time": "2022-05-22T13:48:10.504006Z"
    }
   },
   "outputs": [],
   "source": [
    "import collections\n",
    "import datetime\n",
    "import math\n",
    "\n",
    "import os\n",
    "import time\n",
    "\n",
    "import numpy as np\n",
    "import pandas as pd\n",
    "from scipy.sparse import csr_matrix\n",
    "\n",
    "import pickle\n",
    "\n",
    "import matplotlib.pyplot as plt\n",
    "import seaborn as sns\n",
    "\n",
    "from sklearn.preprocessing import MinMaxScaler\n",
    "\n",
    "import random\n",
    "\n",
    "import gc\n",
    "\n",
    "pd.options.display.float_format = \"{:.2f}\".format\n",
    "format = '%d/%m/%Y %H:%M'"
   ]
  },
  {
   "cell_type": "markdown",
   "id": "9ef48a7a",
   "metadata": {},
   "source": [
    "# Load data"
   ]
  },
  {
   "cell_type": "markdown",
   "id": "c614bb88",
   "metadata": {},
   "source": [
    "Load all data required."
   ]
  },
  {
   "cell_type": "code",
   "execution_count": 2,
   "id": "58b47e8d",
   "metadata": {
    "ExecuteTime": {
     "end_time": "2022-05-22T13:48:13.254229Z",
     "start_time": "2022-05-22T13:48:13.229282Z"
    }
   },
   "outputs": [],
   "source": [
    "def load_file(data_path, msg):\n",
    "    if msg != '':\n",
    "        txt = msg + ' - ' + data_path\n",
    "    else:\n",
    "        txt = data_path\n",
    "\n",
    "    if os.path.exists(data_path):\n",
    "        print('Loaded: ' + txt)\n",
    "        with open(data_path, 'rb') as f:\n",
    "            file_loaded = pickle.load(f)\n",
    "        return file_loaded\n",
    "    else:\n",
    "        print('File not found: ' + txt)"
   ]
  },
  {
   "cell_type": "code",
   "execution_count": 4,
   "id": "88715dd5",
   "metadata": {
    "ExecuteTime": {
     "end_time": "2022-05-22T13:48:14.247502Z",
     "start_time": "2022-05-22T13:48:13.272698Z"
    }
   },
   "outputs": [
    {
     "name": "stdout",
     "output_type": "stream",
     "text": [
      "Loaded: All tracks as a dictionary - C:\\Users\\map_f\\OneDrive\\Documents\\GitHub\\Follow_the_beat\\data\\processed\\4_tracks_dict.pkl\n",
      "85458\n",
      "\n",
      "Loaded: All artists as a dictionary - C:\\Users\\map_f\\OneDrive\\Documents\\GitHub\\Follow_the_beat\\data\\processed\\5_artists_dict.pkl\n",
      "28669\n",
      "\n",
      "Loaded: All albums as a dictionary - C:\\Users\\map_f\\OneDrive\\Documents\\GitHub\\Follow_the_beat\\data\\processed\\6_albums_dict.pkl\n",
      "62095\n"
     ]
    }
   ],
   "source": [
    "# All tracks\n",
    "data_path = os.getcwd() + '\\\\data\\\\processed\\\\4_tracks_dict.pkl'\n",
    "txt = 'All tracks as a dictionary - ' + data_path\n",
    "\n",
    "if os.path.exists(data_path):\n",
    "    print('Loaded: ' + txt)\n",
    "    with open(data_path, 'rb') as f:\n",
    "        tracks_dict = pickle.load(f)\n",
    "else:\n",
    "    tracks_dict = dict_all_tracks(data_path, playlists_dict)\n",
    "\n",
    "print(len(tracks_dict))\n",
    "print()\n",
    "\n",
    "# All artists\n",
    "data_path = os.getcwd() + '\\\\data\\\\processed\\\\5_artists_dict.pkl'\n",
    "txt = 'All artists as a dictionary - ' + data_path\n",
    "\n",
    "if os.path.exists(data_path):\n",
    "    print('Loaded: ' + txt)\n",
    "    with open(data_path, 'rb') as f:\n",
    "        artists_dict = pickle.load(f)\n",
    "else:\n",
    "    artists_dict = dict_all_artists(data_path, playlists_dict)\n",
    "\n",
    "print(len(artists_dict))\n",
    "print()\n",
    "\n",
    "# All albums\n",
    "data_path = os.getcwd() + '\\\\data\\\\processed\\\\6_albums_dict.pkl'\n",
    "txt = 'All albums as a dictionary - ' + data_path\n",
    "\n",
    "if os.path.exists(data_path):\n",
    "    print('Loaded: ' + txt)\n",
    "    with open(data_path, 'rb') as f:\n",
    "        albums_dict = pickle.load(f)\n",
    "else:\n",
    "    albums_dict = dict_all_albums(data_path, playlists_dict)\n",
    "print(len(albums_dict))"
   ]
  },
  {
   "cell_type": "code",
   "execution_count": 5,
   "id": "705d70c5",
   "metadata": {
    "ExecuteTime": {
     "end_time": "2022-05-22T13:48:16.865007Z",
     "start_time": "2022-05-22T13:48:14.250115Z"
    }
   },
   "outputs": [
    {
     "name": "stdout",
     "output_type": "stream",
     "text": [
      "Loaded: Playlists dictionary (training) - C:\\Users\\map_f\\OneDrive\\Documents\\GitHub\\Follow_the_beat\\data\\processed\\3_playlists_dict_train.pkl\n",
      "Loaded: Playlists dictionary (test) - C:\\Users\\map_f\\OneDrive\\Documents\\GitHub\\Follow_the_beat\\data\\processed\\3_playlists_dict_test.pkl\n",
      "Playlist - training set: 1243\n",
      "Playlist - test set: 533\n",
      "\n",
      "Loaded: Tracks dictionary (training) - C:\\Users\\map_f\\OneDrive\\Documents\\GitHub\\Follow_the_beat\\data\\processed\\4_tracks_dict_train.pkl\n",
      "Loaded: Tracks dictionary (test) - C:\\Users\\map_f\\OneDrive\\Documents\\GitHub\\Follow_the_beat\\data\\processed\\4_tracks_dict_test.pkl\n",
      "Tracks - training set: 63699\n",
      "Tracks - test set: 31183\n",
      "\n",
      "Loaded: Artist dictionary (training) - C:\\Users\\map_f\\OneDrive\\Documents\\GitHub\\Follow_the_beat\\data\\processed\\5_artists_dict_train.pkl\n",
      "Loaded: Artist dictionary (test) - C:\\Users\\map_f\\OneDrive\\Documents\\GitHub\\Follow_the_beat\\data\\processed\\5_artists_dict_test.pkl\n",
      "Artist - training set: 22639\n",
      "Artist - test set: 12780\n",
      "\n",
      "Loaded: Albums dictionary (training) - C:\\Users\\map_f\\OneDrive\\Documents\\GitHub\\Follow_the_beat\\data\\processed\\6_albums_dict_train.pkl\n",
      "Loaded: Albums dictionary (test) - C:\\Users\\map_f\\OneDrive\\Documents\\GitHub\\Follow_the_beat\\data\\processed\\6_albums_dict_test.pkl\n",
      "Albums - training set: 46688\n",
      "Albums - test set: 24258\n",
      "\n"
     ]
    }
   ],
   "source": [
    "# Load all data\n",
    "playlists_train = load_file(\n",
    "    os.getcwd() + '\\\\data\\\\processed\\\\3_playlists_dict_train.pkl',\n",
    "    'Playlists dictionary (training)')\n",
    "playlists_test = load_file(\n",
    "    os.getcwd() + '\\\\data\\\\processed\\\\3_playlists_dict_test.pkl',\n",
    "    'Playlists dictionary (test)')\n",
    "print('Playlist - training set: ' + str(len(playlists_train)))\n",
    "print('Playlist - test set: ' + str(len(playlists_test)))\n",
    "print()\n",
    "\n",
    "tracks_dict_train = load_file(\n",
    "    os.getcwd() + '\\\\data\\\\processed\\\\4_tracks_dict_train.pkl',\n",
    "    'Tracks dictionary (training)')\n",
    "tracks_dict_test = load_file(\n",
    "    os.getcwd() + '\\\\data\\\\processed\\\\4_tracks_dict_test.pkl',\n",
    "    'Tracks dictionary (test)')\n",
    "print('Tracks - training set: ' + str(len(tracks_dict_train)))\n",
    "print('Tracks - test set: ' + str(len(tracks_dict_test)))\n",
    "print()\n",
    "\n",
    "artists_dict_train = load_file(\n",
    "    os.getcwd() + '\\\\data\\\\processed\\\\5_artists_dict_train.pkl',\n",
    "    'Artist dictionary (training)')\n",
    "artists_dict_test = load_file(\n",
    "    os.getcwd() + '\\\\data\\\\processed\\\\5_artists_dict_test.pkl',\n",
    "    'Artist dictionary (test)')\n",
    "print('Artist - training set: ' + str(len(artists_dict_train)))\n",
    "print('Artist - test set: ' + str(len(artists_dict_test)))\n",
    "print()\n",
    "\n",
    "albums_dict_train = load_file(\n",
    "    os.getcwd() + '\\\\data\\\\processed\\\\6_albums_dict_train.pkl',\n",
    "    'Albums dictionary (training)')\n",
    "albums_dict_test = load_file(\n",
    "    os.getcwd() + '\\\\data\\\\processed\\\\6_albums_dict_test.pkl',\n",
    "    'Albums dictionary (test)')\n",
    "print('Albums - training set: ' + str(len(albums_dict_train)))\n",
    "print('Albums - test set: ' + str(len(albums_dict_test)))\n",
    "print()"
   ]
  },
  {
   "cell_type": "markdown",
   "id": "9531b371",
   "metadata": {},
   "source": [
    "## Create data frames to perform analysis"
   ]
  },
  {
   "cell_type": "code",
   "execution_count": 6,
   "id": "3eea615e",
   "metadata": {
    "ExecuteTime": {
     "end_time": "2022-05-22T13:48:25.643932Z",
     "start_time": "2022-05-22T13:48:16.866976Z"
    }
   },
   "outputs": [
    {
     "name": "stdout",
     "output_type": "stream",
     "text": [
      "df_playlists_train: (4, 1243)\n",
      "df_playlists_test: (4, 533)\n",
      "df_tracks_train: (7, 63699)\n",
      "df_tracks_test: (7, 31183)\n",
      "df_artists_train: (3, 22639)\n",
      "df_artists_test: (3, 12780)\n",
      "df_albums_train: (4, 46688)\n",
      "df_albums_test: (4, 24258)\n"
     ]
    }
   ],
   "source": [
    "gc.collect()\n",
    "df_playlists_train = playlists_train.T\n",
    "print(\"df_playlists_train:\", df_playlists_train.shape)\n",
    "\n",
    "df_playlists_test = playlists_test.T\n",
    "print(\"df_playlists_test:\", df_playlists_test.shape)\n",
    "\n",
    "df_tracks_train = pd.DataFrame.from_dict(tracks_dict_train, orient='index')\n",
    "df_tracks_train = df_tracks_train.T\n",
    "print(\"df_tracks_train:\", df_tracks_train.shape)\n",
    "\n",
    "df_tracks_test = pd.DataFrame.from_dict(tracks_dict_test, orient='index')\n",
    "df_tracks_test = df_tracks_test.T\n",
    "print(\"df_tracks_test:\", df_tracks_test.shape)\n",
    "\n",
    "df_artists_train = pd.DataFrame.from_dict(artists_dict_train, orient='index')\n",
    "df_artists_train = df_artists_train.T\n",
    "print(\"df_artists_train:\", df_artists_train.shape)\n",
    "\n",
    "df_artists_test = pd.DataFrame.from_dict(artists_dict_test, orient='index')\n",
    "df_artists_test = df_artists_test.T\n",
    "print(\"df_artists_test:\", df_artists_test.shape)\n",
    "\n",
    "df_albums_train = pd.DataFrame.from_dict(albums_dict_train, orient='index')\n",
    "df_albums_train = df_albums_train.T\n",
    "print(\"df_albums_train:\", df_albums_train.shape)\n",
    "\n",
    "df_albums_test = pd.DataFrame.from_dict(albums_dict_test, orient='index')\n",
    "df_albums_test = df_albums_test.T\n",
    "print(\"df_albums_test:\", df_albums_test.shape)"
   ]
  },
  {
   "cell_type": "markdown",
   "id": "5271f0bd",
   "metadata": {},
   "source": [
    "# Co-occurrence matrix"
   ]
  },
  {
   "cell_type": "markdown",
   "id": "6147b809",
   "metadata": {},
   "source": [
    "## Tracks co-occurrence matrix"
   ]
  },
  {
   "cell_type": "code",
   "execution_count": 7,
   "id": "d3dc0998",
   "metadata": {
    "ExecuteTime": {
     "end_time": "2022-05-22T13:48:25.659273Z",
     "start_time": "2022-05-22T13:48:25.647921Z"
    }
   },
   "outputs": [],
   "source": [
    "def co_occurrence_matrix_tracks(playlists_dict, tracks_dict):\n",
    "    matrix = {}\n",
    "    for i, item in enumerate(tracks_dict):\n",
    "        tracks_matched = []\n",
    "        for j, playlist_id in enumerate(tracks_dict[item]['in_playlist']):\n",
    "            for tr, track in enumerate(playlists_dict[playlist_id]['tracks']):\n",
    "                tracks_matched.append(track['id'])\n",
    "        counter = collections.Counter(tracks_matched)\n",
    "        b = pd.DataFrame.from_dict(counter, orient='index', columns=['cnt'])\n",
    "        b = b.sort_values('cnt', ascending=False)\n",
    "\n",
    "        min_max = MinMaxScaler()\n",
    "        b['count_scaled'] = min_max.fit_transform(b[['cnt']])\n",
    "        b['rank'] = b['count_scaled'].rank(method='average', ascending=False)\n",
    "\n",
    "        matrix.update({item: b})\n",
    "    return (matrix)"
   ]
  },
  {
   "cell_type": "markdown",
   "id": "dba37002",
   "metadata": {},
   "source": [
    "## Artists co-occurrence matrix"
   ]
  },
  {
   "cell_type": "code",
   "execution_count": 8,
   "id": "12365288",
   "metadata": {
    "ExecuteTime": {
     "end_time": "2022-05-22T13:48:25.674800Z",
     "start_time": "2022-05-22T13:48:25.663072Z"
    }
   },
   "outputs": [],
   "source": [
    "def co_occurrence_matrix_artists(playlists_dict, artists_dict):\n",
    "    matrix = {}\n",
    "    for i, item in enumerate(artists_dict):\n",
    "        artist_matched = []\n",
    "        for j, playlist_id in enumerate(artists_dict[item]['in_playlist']):\n",
    "            for tr, track in enumerate(playlists_dict[playlist_id]['tracks']):\n",
    "                for a, artist in enumerate(track['artists']):\n",
    "                    artist_matched.append(artist['id'])\n",
    "        counter = collections.Counter(artist_matched)\n",
    "        b = pd.DataFrame.from_dict(counter, orient='index', columns=['cnt'])\n",
    "        b = b.sort_values('cnt', ascending=False)\n",
    "\n",
    "        min_max = MinMaxScaler()\n",
    "        b['count_scaled'] = min_max.fit_transform(b[['cnt']])\n",
    "        b['rank'] = b['count_scaled'].rank(method='average', ascending=False)\n",
    "\n",
    "        matrix.update({item: b})\n",
    "    return (matrix)"
   ]
  },
  {
   "cell_type": "markdown",
   "id": "c039515c",
   "metadata": {},
   "source": [
    "## Albums co-occurrence matrix"
   ]
  },
  {
   "cell_type": "code",
   "execution_count": 9,
   "id": "c856667f",
   "metadata": {
    "ExecuteTime": {
     "end_time": "2022-05-22T13:48:25.689759Z",
     "start_time": "2022-05-22T13:48:25.676794Z"
    }
   },
   "outputs": [],
   "source": [
    "def co_occurrence_matrix_albums(playlists_dict, albums_dict):\n",
    "    matrix = {}\n",
    "    for i, item in enumerate(albums_dict):\n",
    "        albums_matched = []\n",
    "        for j, playlist_id in enumerate(albums_dict[item]['in_playlist']):\n",
    "            for tr, track in enumerate(playlists_dict[playlist_id]['tracks']):\n",
    "                albums_matched.append(track['album']['id'])\n",
    "        counter = collections.Counter(albums_matched)\n",
    "        b = pd.DataFrame.from_dict(counter, orient='index', columns=['cnt'])\n",
    "        b = b.sort_values('cnt', ascending=False)\n",
    "\n",
    "        min_max = MinMaxScaler()\n",
    "        b['count_scaled'] = min_max.fit_transform(b[[\"cnt\"]])\n",
    "        b[\"rank\"] = b['count_scaled'].rank(method='average', ascending=False)\n",
    "\n",
    "        matrix.update({item: b})\n",
    "    return (matrix)"
   ]
  },
  {
   "cell_type": "markdown",
   "id": "f09e1bad",
   "metadata": {},
   "source": [
    "##  Create all co-ocurrence matrix"
   ]
  },
  {
   "cell_type": "code",
   "execution_count": 10,
   "id": "289f9da8",
   "metadata": {
    "ExecuteTime": {
     "end_time": "2022-05-22T13:48:25.704979Z",
     "start_time": "2022-05-22T13:48:25.691755Z"
    }
   },
   "outputs": [],
   "source": [
    "def co_ocurrence(playlist, df, data_path, txt):\n",
    "    # check if data extraction already exists then load if it exists, otherwise run query\n",
    "    if os.path.exists(data_path):\n",
    "        print('Co-occurrence ' + txt + ' - Loaded: ' + data_path)\n",
    "        # load file only if the next step was not executed (getting tracks)\n",
    "        with open(data_path, 'rb') as f:\n",
    "            co_occurrence = pickle.load(f)\n",
    "    else:\n",
    "        print('Co-occurrence ' + txt + ' - Saved: ' + data_path)\n",
    "        # list of all user ids (UID) and playlist ids (PID)\n",
    "        uid_pid_raw = []\n",
    "\n",
    "        if txt == 'tracks':\n",
    "            co_occurrence = co_occurrence_matrix_tracks(playlist, df)\n",
    "        elif txt == 'artists':\n",
    "            co_occurrence = co_occurrence_matrix_artists(playlist, df)\n",
    "        elif txt == 'albums':\n",
    "            co_occurrence = co_occurrence_matrix_albums(playlist, df)\n",
    "\n",
    "        # Save the data\n",
    "        with open(data_path, 'wb') as f:\n",
    "            pickle.dump(co_occurrence, f)\n",
    "\n",
    "    len(co_occurrence)\n",
    "    return co_occurrence"
   ]
  },
  {
   "cell_type": "code",
   "execution_count": 11,
   "id": "65bd1d88",
   "metadata": {
    "ExecuteTime": {
     "end_time": "2022-05-22T13:59:20.815200Z",
     "start_time": "2022-05-22T13:48:25.706943Z"
    }
   },
   "outputs": [
    {
     "name": "stdout",
     "output_type": "stream",
     "text": [
      "Co-occurrence tracks - Saved: C:\\Users\\map_f\\OneDrive\\Documents\\GitHub\\Follow_the_beat\\data\\processed\\7_co_occurrence_tracks_train.pkl\n",
      "Co-occurrence artists - Saved: C:\\Users\\map_f\\OneDrive\\Documents\\GitHub\\Follow_the_beat\\data\\processed\\7_co_occurrence_artists_train.pkl\n",
      "Co-occurrence albums - Saved: C:\\Users\\map_f\\OneDrive\\Documents\\GitHub\\Follow_the_beat\\data\\processed\\7_co_occurrence_albums_train.pkl\n",
      "co_occurrence_tracks_train: 63699\n",
      "\n",
      "co_occurrence_artists_train: 22639\n",
      "\n",
      "co_occurrence_albums_train: 46688\n"
     ]
    }
   ],
   "source": [
    "gc.collect()\n",
    "\n",
    "d = []\n",
    "t_start = time.time()\n",
    "co_occurrence_tracks_train = co_ocurrence(\n",
    "    df_playlists_train, df_tracks_train,\n",
    "    os.getcwd() + '\\\\data\\\\processed\\\\7_co_occurrence_tracks_train.pkl',\n",
    "    'tracks')\n",
    "t_end = time.time()\n",
    "d.append({'task': 'co_ocurrence_tracks', 'run_time': t_end - t_start})\n",
    "\n",
    "t_start = time.time()\n",
    "co_occurrence_artists_train = co_ocurrence(\n",
    "    df_playlists_train, df_artists_train,\n",
    "    os.getcwd() + '\\\\data\\\\processed\\\\7_co_occurrence_artists_train.pkl',\n",
    "    'artists')\n",
    "t_end = time.time()\n",
    "d.append({'task': 'co_ocurrence_artists', 'run_time': t_end - t_start})\n",
    "\n",
    "t_start = time.time()\n",
    "co_occurrence_albums_train = co_ocurrence(\n",
    "    df_playlists_train, df_albums_train,\n",
    "    os.getcwd() + '\\\\data\\\\processed\\\\7_co_occurrence_albums_train.pkl',\n",
    "    'albums')\n",
    "t_end = time.time()\n",
    "d.append({'task': 'co_ocurrence_albums', 'run_time': t_end - t_start})\n",
    "\n",
    "print(\"co_occurrence_tracks_train:\", len(co_occurrence_tracks_train))\n",
    "print()\n",
    "print(\"co_occurrence_artists_train:\", len(co_occurrence_artists_train))\n",
    "print()\n",
    "print(\"co_occurrence_albums_train:\", len(co_occurrence_albums_train))"
   ]
  },
  {
   "cell_type": "markdown",
   "id": "26a67f57",
   "metadata": {},
   "source": [
    "# Model"
   ]
  },
  {
   "cell_type": "code",
   "execution_count": 13,
   "id": "ed2ea1eb",
   "metadata": {
    "ExecuteTime": {
     "end_time": "2022-05-22T13:59:20.845817Z",
     "start_time": "2022-05-22T13:59:20.833710Z"
    }
   },
   "outputs": [],
   "source": [
    "def prepare_inputs(playlist_trx, trx_train, trx_test, fraction):\n",
    "    trx = playlist_trx.tracks\n",
    "    n = int((len(trx) + 1) * fraction)\n",
    "\n",
    "    ids = pd.DataFrame(trx).id  # ids of the original playlist\n",
    "    selected_ids = random.sample(ids.values.tolist(), n)\n",
    "\n",
    "    db = trx_train.T\n",
    "    trx_available = db[~db.id.isin(selected_ids)]\n",
    "    \n",
    "    aux = trx_test.T.id\n",
    "    tst = trx_test.T\n",
    "    reference_trx = tst[aux.isin(selected_ids)]\n",
    "    expected_trx = tst[~aux.isin(selected_ids)\n",
    "                              & aux.isin(ids)]\n",
    "\n",
    "    return trx_available, reference_trx, expected_trx"
   ]
  },
  {
   "cell_type": "code",
   "execution_count": 14,
   "id": "91765016",
   "metadata": {
    "ExecuteTime": {
     "end_time": "2022-05-22T13:59:20.861263Z",
     "start_time": "2022-05-22T13:59:20.850136Z"
    }
   },
   "outputs": [],
   "source": [
    "def get_tracks_from_playlist(pid):\n",
    "    p = playlists_train.loc[pid].tracks\n",
    "    pid = pd.DataFrame(p)\n",
    "    return pid\n",
    "\n",
    "# a = get_tracks_from_playlist('5mveLg9twuCna0WwuzvXch')"
   ]
  },
  {
   "cell_type": "markdown",
   "id": "6f474740",
   "metadata": {},
   "source": [
    "## Random"
   ]
  },
  {
   "cell_type": "code",
   "execution_count": 15,
   "id": "37ae7041",
   "metadata": {
    "ExecuteTime": {
     "end_time": "2022-05-22T13:59:20.876397Z",
     "start_time": "2022-05-22T13:59:20.864160Z"
    },
    "run_control": {
     "marked": false
    }
   },
   "outputs": [],
   "source": [
    "def get_trk_rnd(playlist_trx, trx_train, trx_test, ref_fraction):\n",
    "    trx_available, reference_trx, expected_trx = prepare_inputs(\n",
    "        playlist_trx, trx_train, trx_test, ref_fraction)\n",
    "\n",
    "    select = random.sample(trx_available['id'].values.tolist(),\n",
    "                           len(expected_trx))\n",
    "\n",
    "    selected_trx = trx_available[trx_available.id.isin(select)]\n",
    "    \n",
    "    selected_trx = selected_trx.drop_duplicates(subset=['id'], keep=False)\n",
    "\n",
    "    return reference_trx, expected_trx, selected_trx\n",
    "\n",
    "\n",
    "# reference_trx, expected_trx, selected_trx = get_trk_rnd(\n",
    "#     df_playlists_test['1h4bUPnrpgn8qXGJ5dvTsu'], df_tracks_train,\n",
    "#     df_tracks_test, .5)\n",
    "# print(len(reference_trx), len(expected_trx), len(selected_trx))\n",
    "# reference_trx, expected_trx, selected_trx"
   ]
  },
  {
   "cell_type": "markdown",
   "id": "cf894af3",
   "metadata": {},
   "source": [
    "## Stratified selection"
   ]
  },
  {
   "cell_type": "code",
   "execution_count": 16,
   "id": "56db6eb9",
   "metadata": {
    "ExecuteTime": {
     "end_time": "2022-05-22T13:59:32.946645Z",
     "start_time": "2022-05-22T13:59:20.878372Z"
    }
   },
   "outputs": [
    {
     "name": "stdout",
     "output_type": "stream",
     "text": [
      "Loaded: All tracks as a dictionary - C:\\Users\\map_f\\OneDrive\\Documents\\GitHub\\Follow_the_beat\\data\\processed\\4_tracks_dict.pkl\n",
      "85458\n"
     ]
    }
   ],
   "source": [
    "# All tracks\n",
    "data_path = os.getcwd() + '\\\\data\\\\processed\\\\4_tracks_dict.pkl'\n",
    "txt = 'All tracks as a dictionary - ' + data_path\n",
    "\n",
    "if os.path.exists(data_path):\n",
    "    print('Loaded: ' + txt)\n",
    "    with open(data_path, 'rb') as f:\n",
    "        tracks_dict = pickle.load(f)\n",
    "else:\n",
    "    tracks_dict = dict_all_tracks(data_path, playlists_dict)\n",
    "\n",
    "print(len(tracks_dict))\n",
    "\n",
    "df_tracks = pd.DataFrame.from_dict(tracks_dict)\n",
    "df_tracks = df_tracks.T\n",
    "df_tracks['cnt'] = df_tracks.in_playlist.str.len()\n",
    "df_tracks = df_tracks.sort_values(by='cnt', ascending=False)\n",
    "df_tracks['cum_sum'] = df_tracks['cnt'].cumsum()\n",
    "tracks_frequency = df_tracks.loc[df_tracks.index.repeat(df_tracks.cnt)]\n",
    "tracks_frequency = tracks_frequency.T"
   ]
  },
  {
   "cell_type": "code",
   "execution_count": 17,
   "id": "7df39fac",
   "metadata": {
    "ExecuteTime": {
     "end_time": "2022-05-22T13:59:32.962025Z",
     "start_time": "2022-05-22T13:59:32.948238Z"
    }
   },
   "outputs": [],
   "source": [
    "def get_trk_strata(playlist_trx, trx_train, trx_test, ref_fraction):\n",
    "    trx_available, reference_trx, expected_trx = prepare_inputs(\n",
    "        playlist_trx, trx_train, trx_test, ref_fraction)\n",
    "    \n",
    "    select = random.sample(trx_available['id'].values.tolist(), 5000)\n",
    "    \n",
    "    selected_trx = trx_available[trx_available.id.isin(select)]\n",
    "    \n",
    "    selected_trx = selected_trx.drop_duplicates(subset=['id'], keep=False)\n",
    "    \n",
    "    selected_trx = selected_trx.iloc[0:len(expected_trx)]\n",
    "    return reference_trx, expected_trx, selected_trx"
   ]
  },
  {
   "cell_type": "markdown",
   "id": "d60cf1da",
   "metadata": {},
   "source": [
    "## Album"
   ]
  },
  {
   "cell_type": "code",
   "execution_count": 18,
   "id": "af54a771",
   "metadata": {
    "ExecuteTime": {
     "end_time": "2022-05-22T13:59:32.992567Z",
     "start_time": "2022-05-22T13:59:32.964788Z"
    },
    "run_control": {
     "marked": false
    }
   },
   "outputs": [],
   "source": [
    "def get_trk_album(playlist_trx, trx_train, trx_test, ref_fraction):\n",
    "    trx_available, reference_trx, expected_trx = prepare_inputs(\n",
    "        playlist_trx, trx_train, trx_test, ref_fraction)\n",
    "\n",
    "    select = []\n",
    "    selected_trx = trx_available[trx_available.id.isin(select)]\n",
    "    try_n = 0\n",
    "    while len(selected_trx) < len(expected_trx) and try_n < 10:\n",
    "        try_n = try_n + 1\n",
    "        for t, cur_trk in enumerate(reference_trx.T):\n",
    "            aid = reference_trx.loc[cur_trk].album['id']\n",
    "            if aid in albums_dict_train.keys():\n",
    "                co_ocur_aid = co_occurrence_albums_train[aid].iloc[1].name\n",
    "                playlist_id = random.sample(\n",
    "                    albums_dict_train[co_ocur_aid]['in_playlist'], 1)[0]\n",
    "                trx = get_tracks_from_playlist(playlist_id)\n",
    "                aux = random.sample(\n",
    "                    set(get_tracks_from_playlist(playlist_id).id), 1)[0]\n",
    "            else:\n",
    "                aux = random.sample(trx_available['id'].values.tolist(), 1)[0]\n",
    "            select.append(aux)\n",
    "\n",
    "        df = pd.DataFrame(select, columns=['id'])\n",
    "        df = df[~df.id.isin(reference_trx['id'])]\n",
    "        df = df.drop_duplicates(subset=['id'], keep=False)\n",
    "        df = df.reset_index()\n",
    "        df = df.iloc[0:len(expected_trx)]['id']\n",
    "\n",
    "        selected_trx = trx_available[trx_available.id.isin(df)]\n",
    "    return reference_trx, expected_trx, selected_trx"
   ]
  },
  {
   "cell_type": "markdown",
   "id": "5cc61f23",
   "metadata": {},
   "source": [
    "## Artist"
   ]
  },
  {
   "cell_type": "code",
   "execution_count": 19,
   "id": "9731ee1d",
   "metadata": {
    "ExecuteTime": {
     "end_time": "2022-05-22T13:59:33.007716Z",
     "start_time": "2022-05-22T13:59:32.995522Z"
    },
    "code_folding": [],
    "run_control": {
     "marked": false
    }
   },
   "outputs": [],
   "source": [
    "def get_trk_artist(playlist_trx, trx_train, trx_test, ref_fraction):\n",
    "    trx_available, reference_trx, expected_trx = prepare_inputs(\n",
    "        playlist_trx, trx_train, trx_test, ref_fraction)\n",
    "\n",
    "    select = []\n",
    "    selected_trx = trx_available[trx_available.id.isin(select)]\n",
    "    try_n = 0\n",
    "    while len(selected_trx) < len(expected_trx) and try_n < 10:\n",
    "        try_n = try_n + 1\n",
    "        for t, cur_trk in enumerate(reference_trx.T):\n",
    "            aid = reference_trx.loc[cur_trk].artists[0]['id']\n",
    "            if aid in artists_dict_train.keys():\n",
    "                co_ocur_aid = co_occurrence_artists_train[aid].iloc[1].name\n",
    "                playlist_id = random.sample(\n",
    "                    artists_dict_train[co_ocur_aid]['in_playlist'], 1)[0]\n",
    "                trx = get_tracks_from_playlist(playlist_id)\n",
    "                aux = random.sample(\n",
    "                    set(get_tracks_from_playlist(playlist_id).id), 1)[0]\n",
    "            else:\n",
    "                aux = random.sample(trx_available['id'].values.tolist(), 1)[0]\n",
    "            select.append(aux)\n",
    "\n",
    "        df = pd.DataFrame(select, columns=['id'])\n",
    "        df = df[~df.id.isin(reference_trx['id'])]\n",
    "        df = df.drop_duplicates(subset=['id'], keep=False)\n",
    "        df = df.reset_index()\n",
    "        df = df.iloc[0:len(expected_trx)]['id']\n",
    "\n",
    "        selected_trx = trx_available[trx_available.id.isin(df)]\n",
    "    return reference_trx, expected_trx, selected_trx"
   ]
  },
  {
   "cell_type": "markdown",
   "id": "5f17764d",
   "metadata": {},
   "source": [
    "## Playlist"
   ]
  },
  {
   "cell_type": "code",
   "execution_count": 20,
   "id": "fbe1d695",
   "metadata": {
    "ExecuteTime": {
     "end_time": "2022-05-22T13:59:33.023075Z",
     "start_time": "2022-05-22T13:59:33.009720Z"
    },
    "run_control": {
     "marked": false
    }
   },
   "outputs": [],
   "source": [
    "def get_trk_playlist(playlist_trx, trx_train, trx_test, ref_fraction):\n",
    "    trx_available, reference_trx, expected_trx = prepare_inputs(\n",
    "        playlist_trx, trx_train, trx_test, ref_fraction)\n",
    "\n",
    "    select = []\n",
    "    selected_trx = trx_available[trx_available.id.isin(select)]\n",
    "    try_n = 0\n",
    "    while len(selected_trx) < len(expected_trx) and try_n < 10:\n",
    "        try_n = try_n + 1\n",
    "        for t, cur_trk in enumerate(reference_trx.T):\n",
    "            aid = cur_trk\n",
    "            if aid in tracks_dict_train.keys():\n",
    "                co_ocur_aid = co_occurrence_tracks_train[aid].iloc[1].name\n",
    "                playlist_id = random.sample(\n",
    "                    tracks_dict_train[co_ocur_aid]['in_playlist'], 1)[0]\n",
    "                trx = get_tracks_from_playlist(playlist_id)\n",
    "                aux = random.sample(\n",
    "                    set(get_tracks_from_playlist(playlist_id).id), 1)[0]\n",
    "            else:\n",
    "                aux = random.sample(trx_available['id'].values.tolist(), 1)[0]\n",
    "            select.append(aux)\n",
    "\n",
    "        df = pd.DataFrame(select, columns=['id'])\n",
    "        df = df[~df.id.isin(reference_trx['id'])]\n",
    "        df = df.drop_duplicates(subset=['id'], keep=False)\n",
    "        df = df.reset_index()\n",
    "        df = df.iloc[0:len(expected_trx)]['id']\n",
    "\n",
    "        selected_trx = trx_available[trx_available.id.isin(df)]\n",
    "    return reference_trx, expected_trx, selected_trx"
   ]
  },
  {
   "cell_type": "markdown",
   "id": "22781461",
   "metadata": {
    "ExecuteTime": {
     "end_time": "2022-05-07T00:00:10.793486Z",
     "start_time": "2022-05-07T00:00:08.844112Z"
    }
   },
   "source": [
    "# Evaluate models"
   ]
  },
  {
   "cell_type": "code",
   "execution_count": 21,
   "id": "52e5fdc6",
   "metadata": {
    "ExecuteTime": {
     "end_time": "2022-05-22T13:59:33.038749Z",
     "start_time": "2022-05-22T13:59:33.025246Z"
    },
    "run_control": {
     "marked": false
    }
   },
   "outputs": [],
   "source": [
    "def get_trk(method, reference, ref_fraction):\n",
    "    if method == 'random':\n",
    "        reference_trx, expected_trx, selected_trx = get_trk_rnd(\n",
    "            df_playlists_test[reference], df_tracks_train, df_tracks_test,\n",
    "            ref_fraction)\n",
    "    elif method == 'strata':\n",
    "        reference_trx, expected_trx, selected_trx = get_trk_strata(\n",
    "            df_playlists_test[reference], tracks_frequency, df_tracks_test,\n",
    "            ref_fraction)\n",
    "    elif method == 'artist':\n",
    "        reference_trx, expected_trx, selected_trx = get_trk_artist(\n",
    "            df_playlists_test[reference], df_tracks_train, df_tracks_test,\n",
    "            ref_fraction)\n",
    "    elif method == 'album':\n",
    "        reference_trx, expected_trx, selected_trx = get_trk_album(\n",
    "            df_playlists_test[reference], df_tracks_train, df_tracks_test,\n",
    "            ref_fraction)\n",
    "    elif method == 'playlist':\n",
    "        reference_trx, expected_trx, selected_trx = get_trk_playlist(\n",
    "            df_playlists_test[reference], df_tracks_train, df_tracks_test,\n",
    "            ref_fraction)\n",
    "\n",
    "    return reference_trx, expected_trx, selected_trx"
   ]
  },
  {
   "cell_type": "code",
   "execution_count": 22,
   "id": "cb9f7409",
   "metadata": {
    "ExecuteTime": {
     "end_time": "2022-05-22T13:59:33.054061Z",
     "start_time": "2022-05-22T13:59:33.042146Z"
    }
   },
   "outputs": [],
   "source": [
    "methods = ['random', 'strata', 'artist', 'album', 'playlist']\n",
    "splits = [.25, .5, .75]"
   ]
  },
  {
   "cell_type": "code",
   "execution_count": 23,
   "id": "26a08691",
   "metadata": {
    "ExecuteTime": {
     "end_time": "2022-05-22T14:31:24.322254Z",
     "start_time": "2022-05-22T13:59:33.056901Z"
    },
    "run_control": {
     "marked": false
    },
    "scrolled": false
   },
   "outputs": [
    {
     "name": "stdout",
     "output_type": "stream",
     "text": [
      "\n",
      "random\n",
      "0.25\n",
      "22/05/2022 09:59 - 0/533 - LEN: 0\n",
      "22/05/2022 09:59 - 100/533 - LEN: 100\n",
      "22/05/2022 10:00 - 200/533 - LEN: 200\n",
      "22/05/2022 10:00 - 300/533 - LEN: 300\n",
      "22/05/2022 10:00 - 400/533 - LEN: 400\n",
      "22/05/2022 10:00 - 500/533 - LEN: 500\n",
      "0.5\n",
      "22/05/2022 10:00 - 0/533 - LEN: 533\n",
      "22/05/2022 10:00 - 100/533 - LEN: 633\n",
      "22/05/2022 10:01 - 200/533 - LEN: 733\n",
      "22/05/2022 10:01 - 300/533 - LEN: 833\n",
      "22/05/2022 10:01 - 400/533 - LEN: 933\n",
      "22/05/2022 10:01 - 500/533 - LEN: 1033\n",
      "0.75\n",
      "22/05/2022 10:01 - 0/533 - LEN: 1066\n",
      "22/05/2022 10:02 - 100/533 - LEN: 1166\n",
      "22/05/2022 10:02 - 200/533 - LEN: 1266\n",
      "22/05/2022 10:02 - 300/533 - LEN: 1366\n",
      "22/05/2022 10:02 - 400/533 - LEN: 1466\n",
      "22/05/2022 10:02 - 500/533 - LEN: 1566\n",
      "\n",
      "strata\n",
      "0.25\n",
      "22/05/2022 10:02 - 0/533 - LEN: 1599\n",
      "22/05/2022 10:03 - 100/533 - LEN: 1699\n",
      "22/05/2022 10:03 - 200/533 - LEN: 1799\n",
      "22/05/2022 10:03 - 300/533 - LEN: 1899\n",
      "22/05/2022 10:04 - 400/533 - LEN: 1999\n",
      "22/05/2022 10:04 - 500/533 - LEN: 2099\n",
      "0.5\n",
      "22/05/2022 10:04 - 0/533 - LEN: 2132\n",
      "22/05/2022 10:05 - 100/533 - LEN: 2232\n",
      "22/05/2022 10:05 - 200/533 - LEN: 2332\n",
      "22/05/2022 10:05 - 300/533 - LEN: 2432\n",
      "22/05/2022 10:06 - 400/533 - LEN: 2532\n",
      "22/05/2022 10:06 - 500/533 - LEN: 2632\n",
      "0.75\n",
      "22/05/2022 10:06 - 0/533 - LEN: 2665\n",
      "22/05/2022 10:06 - 100/533 - LEN: 2765\n",
      "22/05/2022 10:07 - 200/533 - LEN: 2865\n",
      "22/05/2022 10:07 - 300/533 - LEN: 2965\n",
      "22/05/2022 10:07 - 400/533 - LEN: 3065\n",
      "22/05/2022 10:08 - 500/533 - LEN: 3165\n",
      "\n",
      "artist\n",
      "0.25\n",
      "22/05/2022 10:08 - 0/533 - LEN: 3198\n",
      "22/05/2022 10:09 - 100/533 - LEN: 3298\n",
      "22/05/2022 10:09 - 200/533 - LEN: 3398\n",
      "22/05/2022 10:10 - 300/533 - LEN: 3498\n",
      "22/05/2022 10:10 - 400/533 - LEN: 3598\n",
      "22/05/2022 10:11 - 500/533 - LEN: 3698\n",
      "0.5\n",
      "22/05/2022 10:11 - 0/533 - LEN: 3731\n",
      "22/05/2022 10:11 - 100/533 - LEN: 3831\n",
      "22/05/2022 10:12 - 200/533 - LEN: 3931\n",
      "22/05/2022 10:12 - 300/533 - LEN: 4031\n",
      "22/05/2022 10:13 - 400/533 - LEN: 4131\n",
      "22/05/2022 10:13 - 500/533 - LEN: 4231\n",
      "0.75\n",
      "22/05/2022 10:13 - 0/533 - LEN: 4264\n",
      "22/05/2022 10:14 - 100/533 - LEN: 4364\n",
      "22/05/2022 10:14 - 200/533 - LEN: 4464\n",
      "22/05/2022 10:14 - 300/533 - LEN: 4564\n",
      "22/05/2022 10:15 - 400/533 - LEN: 4664\n",
      "22/05/2022 10:15 - 500/533 - LEN: 4764\n",
      "\n",
      "album\n",
      "0.25\n",
      "22/05/2022 10:16 - 0/533 - LEN: 4797\n",
      "22/05/2022 10:16 - 100/533 - LEN: 4897\n",
      "22/05/2022 10:17 - 200/533 - LEN: 4997\n",
      "22/05/2022 10:17 - 300/533 - LEN: 5097\n",
      "22/05/2022 10:18 - 400/533 - LEN: 5197\n",
      "22/05/2022 10:18 - 500/533 - LEN: 5297\n",
      "0.5\n",
      "22/05/2022 10:19 - 0/533 - LEN: 5330\n",
      "22/05/2022 10:19 - 100/533 - LEN: 5430\n",
      "22/05/2022 10:19 - 200/533 - LEN: 5530\n",
      "22/05/2022 10:20 - 300/533 - LEN: 5630\n",
      "22/05/2022 10:20 - 400/533 - LEN: 5730\n",
      "22/05/2022 10:21 - 500/533 - LEN: 5830\n",
      "0.75\n",
      "22/05/2022 10:21 - 0/533 - LEN: 5863\n",
      "22/05/2022 10:21 - 100/533 - LEN: 5963\n",
      "22/05/2022 10:22 - 200/533 - LEN: 6063\n",
      "22/05/2022 10:22 - 300/533 - LEN: 6163\n",
      "22/05/2022 10:23 - 400/533 - LEN: 6263\n",
      "22/05/2022 10:23 - 500/533 - LEN: 6363\n",
      "\n",
      "playlist\n",
      "0.25\n",
      "22/05/2022 10:24 - 0/533 - LEN: 6396\n",
      "22/05/2022 10:24 - 100/533 - LEN: 6496\n",
      "22/05/2022 10:25 - 200/533 - LEN: 6596\n",
      "22/05/2022 10:25 - 300/533 - LEN: 6696\n",
      "22/05/2022 10:26 - 400/533 - LEN: 6796\n",
      "22/05/2022 10:26 - 500/533 - LEN: 6896\n",
      "0.5\n",
      "22/05/2022 10:26 - 0/533 - LEN: 6929\n",
      "22/05/2022 10:27 - 100/533 - LEN: 7029\n",
      "22/05/2022 10:27 - 200/533 - LEN: 7129\n",
      "22/05/2022 10:28 - 300/533 - LEN: 7229\n",
      "22/05/2022 10:28 - 400/533 - LEN: 7329\n",
      "22/05/2022 10:28 - 500/533 - LEN: 7429\n",
      "0.75\n",
      "22/05/2022 10:29 - 0/533 - LEN: 7462\n",
      "22/05/2022 10:29 - 100/533 - LEN: 7562\n",
      "22/05/2022 10:29 - 200/533 - LEN: 7662\n",
      "22/05/2022 10:30 - 300/533 - LEN: 7762\n",
      "22/05/2022 10:30 - 400/533 - LEN: 7862\n",
      "22/05/2022 10:31 - 500/533 - LEN: 7962\n"
     ]
    }
   ],
   "source": [
    "gc.collect()\n",
    "\n",
    "results = pd.DataFrame(columns=[\n",
    "    'playlist', 'method', 'frac', 'total_tracks', 'selected_tracks', 'matches',\n",
    "    'error','run_time'\n",
    "])\n",
    "\n",
    "a = df_playlists_test\n",
    "for m, method in enumerate(methods):\n",
    "    print()\n",
    "    print(method)\n",
    "    t_start = time.time()\n",
    "    for f, frac in enumerate(splits):\n",
    "        print(frac)\n",
    "        for p, playlist in enumerate(a):\n",
    "            t_pl_start = time.time()\n",
    "            if p % 100 == 0:\n",
    "                print(\"%s - %d/%d - LEN: %d\" %\n",
    "                      (datetime.datetime.now().strftime(format), p, len(\n",
    "                          a.T), len(results)))\n",
    "            reference_trx, expected_trx, selected_trx = get_trk(\n",
    "                method, playlist, frac)\n",
    "\n",
    "            matches = len(selected_trx[selected_trx.id.isin(\n",
    "                expected_trx.id)].id)\n",
    "            total_trx = a[playlist].total_tracks\n",
    "            error = 1 - matches / a[playlist].total_tracks\n",
    "            sel_trx = len(selected_trx)\n",
    "\n",
    "            t_pl_end = time.time()\n",
    "            results = results.append(\n",
    "                {\n",
    "                    'playlist': playlist,\n",
    "                    'method': method,\n",
    "                    'frac': frac,\n",
    "                    'total_tracks': total_trx,\n",
    "                    'selected_tracks': sel_trx,\n",
    "                    'matches': matches,\n",
    "                    'error': error,\n",
    "                    'run_time': t_pl_end - t_pl_start\n",
    "                },\n",
    "                ignore_index=True)\n",
    "    t_end = time.time()\n",
    "    d.append({'task': 'model_' + method, 'run_time': t_end - t_start})\n",
    "\n",
    "results.set_index('playlist', inplace=True)\n",
    "# print(len(reference_trx), len(expected_trx), len(selected_trx))"
   ]
  },
  {
   "cell_type": "code",
   "execution_count": 24,
   "id": "84961b95",
   "metadata": {
    "ExecuteTime": {
     "end_time": "2022-05-22T14:31:24.369855Z",
     "start_time": "2022-05-22T14:31:24.325297Z"
    }
   },
   "outputs": [
    {
     "data": {
      "text/html": [
       "<div>\n",
       "<style scoped>\n",
       "    .dataframe tbody tr th:only-of-type {\n",
       "        vertical-align: middle;\n",
       "    }\n",
       "\n",
       "    .dataframe tbody tr th {\n",
       "        vertical-align: top;\n",
       "    }\n",
       "\n",
       "    .dataframe thead th {\n",
       "        text-align: right;\n",
       "    }\n",
       "</style>\n",
       "<table border=\"1\" class=\"dataframe\">\n",
       "  <thead>\n",
       "    <tr style=\"text-align: right;\">\n",
       "      <th></th>\n",
       "      <th>method</th>\n",
       "      <th>frac</th>\n",
       "      <th>total_tracks</th>\n",
       "      <th>selected_tracks</th>\n",
       "      <th>matches</th>\n",
       "      <th>error</th>\n",
       "      <th>run_time</th>\n",
       "    </tr>\n",
       "    <tr>\n",
       "      <th>playlist</th>\n",
       "      <th></th>\n",
       "      <th></th>\n",
       "      <th></th>\n",
       "      <th></th>\n",
       "      <th></th>\n",
       "      <th></th>\n",
       "      <th></th>\n",
       "    </tr>\n",
       "  </thead>\n",
       "  <tbody>\n",
       "    <tr>\n",
       "      <th>1h4bUPnrpgn8qXGJ5dvTsu</th>\n",
       "      <td>random</td>\n",
       "      <td>0.25</td>\n",
       "      <td>100</td>\n",
       "      <td>75</td>\n",
       "      <td>0</td>\n",
       "      <td>1.00</td>\n",
       "      <td>0.14</td>\n",
       "    </tr>\n",
       "    <tr>\n",
       "      <th>7Mht6GZuNHUvNwYMTDgB6b</th>\n",
       "      <td>random</td>\n",
       "      <td>0.25</td>\n",
       "      <td>25</td>\n",
       "      <td>19</td>\n",
       "      <td>0</td>\n",
       "      <td>1.00</td>\n",
       "      <td>0.12</td>\n",
       "    </tr>\n",
       "    <tr>\n",
       "      <th>6mmP0zJCnevFrXGWVSMjPP</th>\n",
       "      <td>random</td>\n",
       "      <td>0.25</td>\n",
       "      <td>100</td>\n",
       "      <td>74</td>\n",
       "      <td>0</td>\n",
       "      <td>1.00</td>\n",
       "      <td>0.13</td>\n",
       "    </tr>\n",
       "    <tr>\n",
       "      <th>4UJ9uTJatHD4isU6JjC9BB</th>\n",
       "      <td>random</td>\n",
       "      <td>0.25</td>\n",
       "      <td>100</td>\n",
       "      <td>75</td>\n",
       "      <td>0</td>\n",
       "      <td>1.00</td>\n",
       "      <td>0.15</td>\n",
       "    </tr>\n",
       "    <tr>\n",
       "      <th>0wL43aIFVaADL1Xbd6JTL9</th>\n",
       "      <td>random</td>\n",
       "      <td>0.25</td>\n",
       "      <td>100</td>\n",
       "      <td>75</td>\n",
       "      <td>0</td>\n",
       "      <td>1.00</td>\n",
       "      <td>0.14</td>\n",
       "    </tr>\n",
       "    <tr>\n",
       "      <th>...</th>\n",
       "      <td>...</td>\n",
       "      <td>...</td>\n",
       "      <td>...</td>\n",
       "      <td>...</td>\n",
       "      <td>...</td>\n",
       "      <td>...</td>\n",
       "      <td>...</td>\n",
       "    </tr>\n",
       "    <tr>\n",
       "      <th>7FJ4amm0nefcEIUysxLfuv</th>\n",
       "      <td>playlist</td>\n",
       "      <td>0.75</td>\n",
       "      <td>53</td>\n",
       "      <td>13</td>\n",
       "      <td>0</td>\n",
       "      <td>1.00</td>\n",
       "      <td>0.20</td>\n",
       "    </tr>\n",
       "    <tr>\n",
       "      <th>5Gr2UCda20e13ZPHZ1lHTd</th>\n",
       "      <td>playlist</td>\n",
       "      <td>0.75</td>\n",
       "      <td>100</td>\n",
       "      <td>25</td>\n",
       "      <td>0</td>\n",
       "      <td>1.00</td>\n",
       "      <td>0.30</td>\n",
       "    </tr>\n",
       "    <tr>\n",
       "      <th>3y2wvGfXaszvSI1fZWpllM</th>\n",
       "      <td>playlist</td>\n",
       "      <td>0.75</td>\n",
       "      <td>25</td>\n",
       "      <td>6</td>\n",
       "      <td>0</td>\n",
       "      <td>1.00</td>\n",
       "      <td>0.16</td>\n",
       "    </tr>\n",
       "    <tr>\n",
       "      <th>4CeyODedBm7b9bObDpkoGw</th>\n",
       "      <td>playlist</td>\n",
       "      <td>0.75</td>\n",
       "      <td>24</td>\n",
       "      <td>6</td>\n",
       "      <td>0</td>\n",
       "      <td>1.00</td>\n",
       "      <td>0.16</td>\n",
       "    </tr>\n",
       "    <tr>\n",
       "      <th>7p26YrYpOVw4wU88i23FJE</th>\n",
       "      <td>playlist</td>\n",
       "      <td>0.75</td>\n",
       "      <td>40</td>\n",
       "      <td>10</td>\n",
       "      <td>0</td>\n",
       "      <td>1.00</td>\n",
       "      <td>0.18</td>\n",
       "    </tr>\n",
       "  </tbody>\n",
       "</table>\n",
       "<p>7995 rows × 7 columns</p>\n",
       "</div>"
      ],
      "text/plain": [
       "                          method  frac total_tracks selected_tracks matches  \\\n",
       "playlist                                                                      \n",
       "1h4bUPnrpgn8qXGJ5dvTsu    random  0.25          100              75       0   \n",
       "7Mht6GZuNHUvNwYMTDgB6b    random  0.25           25              19       0   \n",
       "6mmP0zJCnevFrXGWVSMjPP    random  0.25          100              74       0   \n",
       "4UJ9uTJatHD4isU6JjC9BB    random  0.25          100              75       0   \n",
       "0wL43aIFVaADL1Xbd6JTL9    random  0.25          100              75       0   \n",
       "...                          ...   ...          ...             ...     ...   \n",
       "7FJ4amm0nefcEIUysxLfuv  playlist  0.75           53              13       0   \n",
       "5Gr2UCda20e13ZPHZ1lHTd  playlist  0.75          100              25       0   \n",
       "3y2wvGfXaszvSI1fZWpllM  playlist  0.75           25               6       0   \n",
       "4CeyODedBm7b9bObDpkoGw  playlist  0.75           24               6       0   \n",
       "7p26YrYpOVw4wU88i23FJE  playlist  0.75           40              10       0   \n",
       "\n",
       "                        error  run_time  \n",
       "playlist                                 \n",
       "1h4bUPnrpgn8qXGJ5dvTsu   1.00      0.14  \n",
       "7Mht6GZuNHUvNwYMTDgB6b   1.00      0.12  \n",
       "6mmP0zJCnevFrXGWVSMjPP   1.00      0.13  \n",
       "4UJ9uTJatHD4isU6JjC9BB   1.00      0.15  \n",
       "0wL43aIFVaADL1Xbd6JTL9   1.00      0.14  \n",
       "...                       ...       ...  \n",
       "7FJ4amm0nefcEIUysxLfuv   1.00      0.20  \n",
       "5Gr2UCda20e13ZPHZ1lHTd   1.00      0.30  \n",
       "3y2wvGfXaszvSI1fZWpllM   1.00      0.16  \n",
       "4CeyODedBm7b9bObDpkoGw   1.00      0.16  \n",
       "7p26YrYpOVw4wU88i23FJE   1.00      0.18  \n",
       "\n",
       "[7995 rows x 7 columns]"
      ]
     },
     "execution_count": 24,
     "metadata": {},
     "output_type": "execute_result"
    }
   ],
   "source": [
    "results"
   ]
  },
  {
   "cell_type": "code",
   "execution_count": 25,
   "id": "93c592b6",
   "metadata": {
    "ExecuteTime": {
     "end_time": "2022-05-22T14:31:24.385793Z",
     "start_time": "2022-05-22T14:31:24.375840Z"
    }
   },
   "outputs": [
    {
     "name": "stdout",
     "output_type": "stream",
     "text": [
      "7995\n"
     ]
    }
   ],
   "source": [
    "# All tracks\n",
    "data_path = os.getcwd() + '\\\\data\\\\processed\\\\10_results.pkl'\n",
    "txt = 'Results - ' + data_path\n",
    "\n",
    "if os.path.exists(data_path):\n",
    "    print('Loaded: ' + txt)\n",
    "    with open(data_path, 'rb') as f:\n",
    "        results = pickle.load(f)\n",
    "else:\n",
    "    with open(data_path, 'wb') as f:\n",
    "        pickle.dump(results, f)\n",
    "\n",
    "print(len(results))"
   ]
  },
  {
   "cell_type": "markdown",
   "id": "3b2a13eb",
   "metadata": {},
   "source": [
    "# Save run time"
   ]
  },
  {
   "cell_type": "code",
   "execution_count": 26,
   "id": "c2fddbce",
   "metadata": {
    "ExecuteTime": {
     "end_time": "2022-05-22T14:31:24.401735Z",
     "start_time": "2022-05-22T14:31:24.389775Z"
    }
   },
   "outputs": [
    {
     "name": "stdout",
     "output_type": "stream",
     "text": [
      "8\n",
      "Saved: Run times - C:\\Users\\map_f\\OneDrive\\Documents\\GitHub\\Follow_the_beat\\data\\processed\\run_times_3.pkl\n"
     ]
    }
   ],
   "source": [
    "data_path = os.getcwd() + '\\\\data\\\\processed\\\\run_times_2.pkl'\n",
    "txt = 'Run times - ' + data_path\n",
    "\n",
    "profiling_grid = pd.DataFrame(d)\n",
    "print(len(profiling_grid))\n",
    "\n",
    "print('Saved: ' + txt)\n",
    "with open(data_path, 'wb') as f:\n",
    "    pickle.dump(profiling_grid, f)"
   ]
  },
  {
   "cell_type": "code",
   "execution_count": 27,
   "id": "e6c126f6",
   "metadata": {
    "ExecuteTime": {
     "end_time": "2022-05-22T14:31:24.417780Z",
     "start_time": "2022-05-22T14:31:24.403743Z"
    },
    "scrolled": true
   },
   "outputs": [
    {
     "data": {
      "text/html": [
       "<div>\n",
       "<style scoped>\n",
       "    .dataframe tbody tr th:only-of-type {\n",
       "        vertical-align: middle;\n",
       "    }\n",
       "\n",
       "    .dataframe tbody tr th {\n",
       "        vertical-align: top;\n",
       "    }\n",
       "\n",
       "    .dataframe thead th {\n",
       "        text-align: right;\n",
       "    }\n",
       "</style>\n",
       "<table border=\"1\" class=\"dataframe\">\n",
       "  <thead>\n",
       "    <tr style=\"text-align: right;\">\n",
       "      <th></th>\n",
       "      <th>task</th>\n",
       "      <th>run_time</th>\n",
       "    </tr>\n",
       "  </thead>\n",
       "  <tbody>\n",
       "    <tr>\n",
       "      <th>0</th>\n",
       "      <td>co_ocurrence_tracks</td>\n",
       "      <td>287.20</td>\n",
       "    </tr>\n",
       "    <tr>\n",
       "      <th>1</th>\n",
       "      <td>co_ocurrence_artists</td>\n",
       "      <td>125.85</td>\n",
       "    </tr>\n",
       "    <tr>\n",
       "      <th>2</th>\n",
       "      <td>co_ocurrence_albums</td>\n",
       "      <td>241.40</td>\n",
       "    </tr>\n",
       "    <tr>\n",
       "      <th>3</th>\n",
       "      <td>model_random</td>\n",
       "      <td>201.51</td>\n",
       "    </tr>\n",
       "    <tr>\n",
       "      <th>4</th>\n",
       "      <td>model_strata</td>\n",
       "      <td>331.17</td>\n",
       "    </tr>\n",
       "    <tr>\n",
       "      <th>5</th>\n",
       "      <td>model_artist</td>\n",
       "      <td>456.20</td>\n",
       "    </tr>\n",
       "    <tr>\n",
       "      <th>6</th>\n",
       "      <td>model_album</td>\n",
       "      <td>476.48</td>\n",
       "    </tr>\n",
       "    <tr>\n",
       "      <th>7</th>\n",
       "      <td>model_playlist</td>\n",
       "      <td>444.29</td>\n",
       "    </tr>\n",
       "  </tbody>\n",
       "</table>\n",
       "</div>"
      ],
      "text/plain": [
       "                   task  run_time\n",
       "0   co_ocurrence_tracks    287.20\n",
       "1  co_ocurrence_artists    125.85\n",
       "2   co_ocurrence_albums    241.40\n",
       "3          model_random    201.51\n",
       "4          model_strata    331.17\n",
       "5          model_artist    456.20\n",
       "6           model_album    476.48\n",
       "7        model_playlist    444.29"
      ]
     },
     "execution_count": 27,
     "metadata": {},
     "output_type": "execute_result"
    }
   ],
   "source": [
    "profiling_grid = pd.DataFrame(d)\n",
    "profiling_grid"
   ]
  }
 ],
 "metadata": {
  "hide_input": false,
  "kernelspec": {
   "display_name": "Python 3",
   "language": "python",
   "name": "python3"
  },
  "language_info": {
   "codemirror_mode": {
    "name": "ipython",
    "version": 3
   },
   "file_extension": ".py",
   "mimetype": "text/x-python",
   "name": "python",
   "nbconvert_exporter": "python",
   "pygments_lexer": "ipython3",
   "version": "3.8.10"
  },
  "toc": {
   "base_numbering": 1,
   "nav_menu": {},
   "number_sections": true,
   "sideBar": true,
   "skip_h1_title": false,
   "title_cell": "Table of Contents",
   "title_sidebar": "Contents",
   "toc_cell": false,
   "toc_position": {
    "height": "calc(100% - 180px)",
    "left": "10px",
    "top": "150px",
    "width": "344px"
   },
   "toc_section_display": true,
   "toc_window_display": true
  },
  "varInspector": {
   "cols": {
    "lenName": 16,
    "lenType": 16,
    "lenVar": 40
   },
   "kernels_config": {
    "python": {
     "delete_cmd_postfix": "",
     "delete_cmd_prefix": "del ",
     "library": "var_list.py",
     "varRefreshCmd": "print(var_dic_list())"
    },
    "r": {
     "delete_cmd_postfix": ") ",
     "delete_cmd_prefix": "rm(",
     "library": "var_list.r",
     "varRefreshCmd": "cat(var_dic_list()) "
    }
   },
   "types_to_exclude": [
    "module",
    "function",
    "builtin_function_or_method",
    "instance",
    "_Feature"
   ],
   "window_display": false
  }
 },
 "nbformat": 4,
 "nbformat_minor": 5
}
