{
 "cells": [
  {
   "cell_type": "code",
   "execution_count": 1,
   "id": "11dd7a96",
   "metadata": {
    "ExecuteTime": {
     "end_time": "2021-12-18T13:34:10.261169Z",
     "start_time": "2021-12-18T13:34:09.704032Z"
    }
   },
   "outputs": [],
   "source": [
    "# import cProfile\n",
    "# import collections\n",
    "import datetime\n",
    "\n",
    "import os\n",
    "import pickle\n",
    "# import sys\n",
    "import time\n",
    "\n",
    "# import numpy as np\n",
    "import pandas as pd\n",
    "\n",
    "# from datetime import datetime\n",
    "from dotenv import load_dotenv\n",
    "\n",
    "pd.options.display.float_format = \"{:.2f}\".format\n",
    "# plt.rcParams.update({'font.size': 18})"
   ]
  },
  {
   "cell_type": "code",
   "execution_count": 2,
   "id": "9b1f7920",
   "metadata": {
    "ExecuteTime": {
     "end_time": "2021-12-18T13:34:10.790020Z",
     "start_time": "2021-12-18T13:34:10.344132Z"
    }
   },
   "outputs": [],
   "source": [
    "load_dotenv()\n",
    "SPOTIPY_API = os.getenv('SPOTIPY_API')\n",
    "SPOTIPY_API_KEY = os.getenv('SPOTIPY_API_KEY')\n",
    "scope=''\n",
    "\n",
    "# https://spotipy.readthedocs.io/en/latest/#\n",
    "import spotipy\n",
    "from spotipy.oauth2 import SpotifyClientCredentials\n",
    "client_credentials_manager = SpotifyClientCredentials(client_id=SPOTIPY_API, client_secret=SPOTIPY_API_KEY)\n",
    "\n",
    "# help(sp)\n",
    "sp = spotipy.Spotify(client_credentials_manager=client_credentials_manager,requests_timeout=300)"
   ]
  },
  {
   "cell_type": "markdown",
   "id": "8ec88536",
   "metadata": {},
   "source": [
    "# 1. Get user and playlist IDs"
   ]
  },
  {
   "cell_type": "code",
   "execution_count": 3,
   "id": "df9866c8",
   "metadata": {
    "ExecuteTime": {
     "end_time": "2021-12-18T13:34:14.452346Z",
     "start_time": "2021-12-18T13:34:14.445365Z"
    }
   },
   "outputs": [],
   "source": [
    "n = 950 # max = 950\n",
    "p_limit = 50 # limit of playlists max = 50\n",
    "years = range(2018,2022,1)"
   ]
  },
  {
   "cell_type": "code",
   "execution_count": null,
   "id": "2ac0a23e",
   "metadata": {
    "ExecuteTime": {
     "end_time": "2021-12-18T03:33:21.141273Z",
     "start_time": "2021-12-18T03:33:18.504366Z"
    }
   },
   "outputs": [],
   "source": [
    "# Extract the user and playlist IDs\n",
    "format = '%d/%m/%Y %H:%M'\n",
    "t = time.time()\n",
    "\n",
    "# check if data extraction already exists then load if it exists, otherwise performs the data request from API and save the file\n",
    "data_path = os.getcwd() + '\\\\data\\\\external\\\\raw_1_uid_pid.pkl'\n",
    "if os.path.exists(data_path):\n",
    "    print('Playlist ID and User ID - Data already requested from API - Loaded: ' + data_path)\n",
    "    # load file only if the next step was not executed (getting tracks)\n",
    "    data_path_2 = os.getcwd() + '\\\\data\\\\external\\\\raw_2_playlists.pkl'\n",
    "    if not(os.path.exists(data_path_2)):\n",
    "        with open(data_path, 'rb') as f:\n",
    "            uid_pid_raw = pickle.load(f)\n",
    "else:\n",
    "    print('Playlist ID and User ID - Data requested from API - Saved: ' + data_path)\n",
    "    # list of all user ids (UID) and playlist ids (PID)\n",
    "    uid_pid_raw = []\n",
    "    \n",
    "    for y in years:\n",
    "        txt = 'year:' + str(y)\n",
    "        print(txt)\n",
    "        for i in range(0,n,1):\n",
    "            if i % 100 == 0:\n",
    "                t_now = datetime.datetime.now().strftime(format)\n",
    "                calc_eta = datetime.datetime.now() + datetime.timedelta(seconds = n - i) * (time.time() - t) / (i + 1)\n",
    "                calc_eta = calc_eta.strftime(format)\n",
    "                print(\"%s - %d/%d elapsed time (min): %.1f - ETA: %s\" % (t_now, i, n, (time.time()-t)/60 ,calc_eta))\n",
    "            uid_pid = sp.search(q=txt, type='playlist', limit=p_limit, offset=i,market='US')\n",
    "            uid_pid_raw.append(uid_pid)\n",
    "    # Save the data\n",
    "    with open(data_path, 'wb') as f:\n",
    "        pickle.dump(uid_pid_raw, f)\n",
    "        \n",
    "print(len(uid_pid_raw))"
   ]
  },
  {
   "cell_type": "markdown",
   "id": "42b189d5",
   "metadata": {},
   "source": [
    "# 2. Get the details of each playlist"
   ]
  },
  {
   "cell_type": "code",
   "execution_count": null,
   "id": "c1693337",
   "metadata": {
    "ExecuteTime": {
     "end_time": "2021-12-18T03:40:00.602086Z",
     "start_time": "2021-12-18T03:40:00.579152Z"
    }
   },
   "outputs": [],
   "source": [
    "# extract = True\n",
    "extract = False\n",
    "\n",
    "# Get the detail of all playlists\n",
    "format = '%d/%m/%Y %H:%M'\n",
    "t = time.time()\n",
    "\n",
    "n = len(uid_pid_raw)\n",
    "data_path = os.getcwd() + '\\\\data\\\\external\\\\raw_2_playlists_N.pkl'\n",
    "if extract == True:\n",
    "    print('Details of each playlist - Data requested from API - Saved:' + data_path)\n",
    "    # Get details of all playlists\n",
    "    playlists_full = []\n",
    "    print('Getting details of all playlists')\n",
    "    for i, uid_pid in enumerate(uid_pid_raw):\n",
    "        if i % 100 == 0 and i > 0:\n",
    "            playlists_full = []\n",
    "            t_now = datetime.datetime.now().strftime(format)\n",
    "            calc_eta = datetime.datetime.now() + datetime.timedelta(seconds = n - i) * (time.time() - t) / (i + 1)\n",
    "            calc_eta = calc_eta.strftime(format)\n",
    "            print(\"%s - %d/%d elapsed time (min): %.1f - ETA: %s\" % (t_now, i, n, (time.time()-t)/60 ,calc_eta))\n",
    "\n",
    "        for user in uid_pid['playlists']['items']:\n",
    "            pid = user['id']\n",
    "            uid = user['owner']['id']\n",
    "            playlist = sp.user_playlist(uid, pid)\n",
    "            playlists_full.append(playlist)\n",
    "\n",
    "        # Save the data\n",
    "        if i % 100 == 0 and i > 0:\n",
    "            print(i)\n",
    "            data_path = os.getcwd() + '\\\\data\\\\external\\\\raw_2_playlists_' + str(int(i/100)) + '.pkl'\n",
    "            print(data_path)\n",
    "            with open(data_path, 'wb') as f:\n",
    "                pickle.dump(playlists_full, f)"
   ]
  },
  {
   "cell_type": "markdown",
   "id": "d82a9a7d",
   "metadata": {},
   "source": [
    "# 3. Concatenate all playlists"
   ]
  },
  {
   "cell_type": "markdown",
   "id": "4cac97fd",
   "metadata": {},
   "source": [
    "## 3.1 Raw playlists"
   ]
  },
  {
   "cell_type": "code",
   "execution_count": 4,
   "id": "844ea1fc",
   "metadata": {
    "ExecuteTime": {
     "end_time": "2021-12-18T13:35:03.245682Z",
     "start_time": "2021-12-18T13:34:49.743597Z"
    }
   },
   "outputs": [
    {
     "name": "stdout",
     "output_type": "stream",
     "text": [
      "All playlists concatenated - Loaded:C:\\Users\\map_f\\OneDrive\\Documents\\GitHub\\Follow_the_beat\\data\\external\\raw_2_playlists_full.pkl\n",
      "2180\n"
     ]
    }
   ],
   "source": [
    "# Concatenate all playlists\n",
    "format = '%d/%m/%Y %H:%M'\n",
    "t = time.time()\n",
    "\n",
    "data_path = os.getcwd() + '\\\\data\\\\external\\\\raw_2_playlists_full.pkl'\n",
    "\n",
    "if os.path.exists(data_path):\n",
    "    print('All playlists concatenated - Loaded:' + data_path)\n",
    "    with open(data_path, 'rb') as f:\n",
    "        playlists_full_by_user = pickle.load(f)\n",
    "else:\n",
    "    print('All playlists concatenated - Saved:' + data_path)\n",
    "    playlists_full_by_user = []\n",
    "    for i in range(0,100,1):\n",
    "        data_path = os.getcwd() + '\\\\data\\\\external\\\\raw_2_playlists_' + str(i) + '.pkl'\n",
    "        if os.path.exists(data_path):\n",
    "            print(data_path)\n",
    "            with open(data_path, 'rb') as f:\n",
    "                playlist = pickle.load(f)\n",
    "            playlists_full_by_user.extend(playlist)\n",
    "            \n",
    "    data_path = os.getcwd() + '\\\\data\\\\external\\\\raw_2_playlists_full.pkl'\n",
    "    print('Saving:' + data_path)\n",
    "    with open(data_path, 'wb') as f:\n",
    "        pickle.dump(playlists_full_by_user, f)\n",
    "\n",
    "print(len(playlists_full_by_user))"
   ]
  },
  {
   "cell_type": "markdown",
   "id": "ad0a5e13",
   "metadata": {},
   "source": [
    "## 3.2 Create a dictionary for each playlist"
   ]
  },
  {
   "cell_type": "code",
   "execution_count": 104,
   "id": "07a75c75",
   "metadata": {
    "ExecuteTime": {
     "end_time": "2021-12-18T15:01:08.850432Z",
     "start_time": "2021-12-18T15:01:08.835684Z"
    }
   },
   "outputs": [],
   "source": [
    "def get_artists(raw_artist):\n",
    "    artists = []\n",
    "    artists_id = []\n",
    "    for a in raw_artist:\n",
    "        artists.append(a['name'])\n",
    "        artists_id.append(a['id'])\n",
    "#     artists.append(artist)\n",
    "#     artists_id.append(artist_id)\n",
    "    \n",
    "    return(artists_id, artists)\n",
    "\n",
    "\n",
    "# m = playlists_full_by_user[83]\n",
    "# n = m['tracks']['items']\n",
    "# p = n[2]['track']['album']['artists']\n",
    "# print(p)\n",
    "\n",
    "# a = get_artists(p)\n",
    "# a"
   ]
  },
  {
   "cell_type": "code",
   "execution_count": 248,
   "id": "9644d4a5",
   "metadata": {
    "ExecuteTime": {
     "end_time": "2021-12-18T16:04:40.495988Z",
     "start_time": "2021-12-18T16:04:40.486598Z"
    }
   },
   "outputs": [],
   "source": [
    "def get_track_details(raw_track):\n",
    "    if raw_track is not None:\n",
    "        artists, artists_id = get_artists(raw_track['track']['album']['artists'])\n",
    "        track = raw_track['track']\n",
    "        data = {\n",
    "                'added_at': raw_track['added_at'],\n",
    "                'track_id': track['id'],\n",
    "                'track': track['name'],\n",
    "                'popularity': track['popularity'],\n",
    "\n",
    "                'albums_id': track['album']['id'],\n",
    "                'albums': track['album']['name'],\n",
    "                'release_date': track['album']['release_date'],\n",
    "\n",
    "                'artists_id': artists_id,\n",
    "                'artists': artists\n",
    "            }\n",
    "    return(data)\n",
    "\n",
    "# m = playlists_full_by_user[83]\n",
    "# n = m['tracks']['items'][0]\n",
    "# n\n",
    "# a = get_track_details(n)\n",
    "# a"
   ]
  },
  {
   "cell_type": "code",
   "execution_count": 5,
   "id": "a117d4e2",
   "metadata": {
    "ExecuteTime": {
     "end_time": "2021-12-18T13:35:27.186364Z",
     "start_time": "2021-12-18T13:35:27.167423Z"
    }
   },
   "outputs": [],
   "source": [
    "def get_playlist_detail(playlist):\n",
    "    artists = []\n",
    "    albums = []\n",
    "    tracks = []\n",
    "    duration = []\n",
    "    popularity = []\n",
    "    artists_id = []\n",
    "    albums_id = []\n",
    "    tracks_id = []\n",
    "    release_date = []\n",
    "    added_at = []\n",
    "    \n",
    "#     playlist = sp.user_playlist(user_id, playlist_id)\n",
    "    \n",
    "    user_id = playlist['owner']['id']\n",
    "    playlist_id = playlist['id']\n",
    "    total_tracks = len(playlist['tracks'])\n",
    "\n",
    "    for item in playlist['tracks']['items']:\n",
    "        group = []\n",
    "        group_id = []\n",
    "        if item['track'] is not None:\n",
    "            for artist in item['track']['album']['artists']:\n",
    "                group.append(artist['name'])\n",
    "                group_id.append(artist['id'])\n",
    "            artists.append(group)\n",
    "            artists_id.append(group_id)\n",
    "\n",
    "            albums_id.append(item['track']['album']['id'])\n",
    "            albums.append(item['track']['album']['name'])\n",
    "\n",
    "            tracks_id.append(item['track']['id'])\n",
    "            tracks.append(item['track']['name'])\n",
    "            release_date.append(item['track']['album']['release_date'])\n",
    "            added_at.append(item['added_at'])\n",
    "            popularity.append(item['track']['popularity'])\n",
    "\n",
    "            data = {\n",
    "                    'user_id': user_id,\n",
    "                    'playlist_id': playlist_id,\n",
    "                    'total_tracks': total_tracks,\n",
    "                    'tracks_id': tracks_id,\n",
    "                    'tracks': tracks,\n",
    "                    'popularity': popularity,\n",
    "                    'artists_id': artists_id,\n",
    "                    'artists': artists,\n",
    "                    'albums_id': albums_id,\n",
    "                    'albums': albums,\n",
    "                    'release_date': release_date,\n",
    "                    'added_at': added_at\n",
    "                }\n",
    "        \n",
    "        return data;\n",
    "# t = get_playlist_detail(playlists_full_by_user[0])\n",
    "# t"
   ]
  },
  {
   "cell_type": "code",
   "execution_count": null,
   "id": "dc544584",
   "metadata": {},
   "outputs": [],
   "source": []
  },
  {
   "cell_type": "code",
   "execution_count": null,
   "id": "93b783d9",
   "metadata": {},
   "outputs": [],
   "source": []
  },
  {
   "cell_type": "code",
   "execution_count": null,
   "id": "e6d1e19d",
   "metadata": {
    "ExecuteTime": {
     "end_time": "2021-12-11T18:24:44.491186Z",
     "start_time": "2021-12-11T18:24:44.476226Z"
    }
   },
   "outputs": [],
   "source": [
    "# playlist = sp.user_playlist('devontay1029', '7AU3xd5nGS3JT5ZVNcXBsM')\n",
    "# playlist"
   ]
  },
  {
   "cell_type": "code",
   "execution_count": null,
   "id": "8d8223c3",
   "metadata": {
    "ExecuteTime": {
     "end_time": "2021-12-18T03:44:00.971435Z",
     "start_time": "2021-12-18T03:44:00.956944Z"
    }
   },
   "outputs": [],
   "source": [
    "# a = playlists_full_by_user[0]['tracks']['items'][0]\n",
    "# a"
   ]
  },
  {
   "cell_type": "code",
   "execution_count": null,
   "id": "d22154a4",
   "metadata": {
    "ExecuteTime": {
     "end_time": "2021-12-18T03:44:04.857470Z",
     "start_time": "2021-12-18T03:44:04.843509Z"
    }
   },
   "outputs": [],
   "source": [
    "# t.get('playlist_id')"
   ]
  },
  {
   "cell_type": "code",
   "execution_count": null,
   "id": "28712be6",
   "metadata": {
    "ExecuteTime": {
     "end_time": "2021-12-18T04:28:47.443935Z",
     "start_time": "2021-12-18T04:28:47.432933Z"
    }
   },
   "outputs": [],
   "source": [
    "# for i, playlist in enumerate(playlists_full_by_user):\n",
    "#     if i ==1:\n",
    "# #         print(playlist)\n",
    "#         for a in playlist:\n",
    "#             print(a)"
   ]
  },
  {
   "cell_type": "code",
   "execution_count": null,
   "id": "03bc7910",
   "metadata": {
    "ExecuteTime": {
     "end_time": "2021-12-18T04:28:56.888790Z",
     "start_time": "2021-12-18T04:28:56.866010Z"
    }
   },
   "outputs": [],
   "source": [
    "play_dict = get_playlist_detail(playlists_full_by_user[6])"
   ]
  },
  {
   "cell_type": "code",
   "execution_count": null,
   "id": "e5e3bf15",
   "metadata": {
    "ExecuteTime": {
     "end_time": "2021-12-18T04:26:17.506068Z",
     "start_time": "2021-12-18T04:26:17.471445Z"
    }
   },
   "outputs": [],
   "source": [
    "play_dict"
   ]
  },
  {
   "cell_type": "code",
   "execution_count": null,
   "id": "470a89ec",
   "metadata": {
    "ExecuteTime": {
     "end_time": "2021-12-18T04:27:16.224195Z",
     "start_time": "2021-12-18T04:27:16.197267Z"
    }
   },
   "outputs": [],
   "source": [
    "playlists_dict = {}\n",
    "for i, playlist in enumerate(playlists_full_by_user):\n",
    "    if i < 10:\n",
    "        print(i)\n",
    "        print(playlist['id'])\n",
    "        play_dict = get_playlist_detail(playlist)\n",
    "    \n",
    "        playlists_dict.update({playlist['id']: play_dict})"
   ]
  },
  {
   "cell_type": "markdown",
   "id": "dbcb85b9",
   "metadata": {},
   "source": [
    "## 3.3 Create a dictionary for each track"
   ]
  },
  {
   "cell_type": "code",
   "execution_count": null,
   "id": "c6dade6e",
   "metadata": {
    "ExecuteTime": {
     "start_time": "2021-12-06T19:28:23.183Z"
    }
   },
   "outputs": [],
   "source": [
    "# s_tracks_id = single_list(df['tracks_id'])\n",
    "# s_tracks = single_list(df['tracks'])\n",
    "# s_popularity = single_list(df['popularity'])\n",
    "\n",
    "# s_artists = single_list_nested(df['artists'])\n",
    "# s_artists_id = single_list_nested(df['artists_id'])\n",
    "\n",
    "# s_albums = single_list(df['albums'])\n",
    "# s_albums_id = single_list(df['albums_id'])\n",
    "\n",
    "# data = {\n",
    "#     'tracks_id': s_tracks_id,\n",
    "#     'tracks': s_tracks,\n",
    "#     'popularity': s_popularity\n",
    "# }\n",
    "# df_track = pd.DataFrame(data)\n",
    "# # print(df_track.head())\n",
    "\n",
    "# data = {\n",
    "#     'artists_id': s_artists_id,\n",
    "#     'artists': s_artists\n",
    "# }\n",
    "# df_artist = pd.DataFrame(data)\n",
    "# # print(df_artist.head())\n",
    "\n",
    "\n",
    "# data = {\n",
    "#     'albums_id': s_albums_id,\n",
    "#     'albums': s_albums\n",
    "# }\n",
    "# df_album = pd.DataFrame(data)\n",
    "# # print(df_album.head())"
   ]
  },
  {
   "cell_type": "code",
   "execution_count": 180,
   "id": "0aa1148f",
   "metadata": {
    "ExecuteTime": {
     "end_time": "2021-12-18T15:27:48.318793Z",
     "start_time": "2021-12-18T15:27:48.302820Z"
    }
   },
   "outputs": [],
   "source": [
    "# tracks_rank = df_track.groupby(['tracks_id','tracks']).agg(\n",
    "#     popularity=('popularity','max'),\n",
    "#     tracks_count=('tracks_id','count')\n",
    "#     )\n",
    "\n",
    "# min_max = MinMaxScaler()\n",
    "# tracks_rank['count_scaled'] = min_max.fit_transform(tracks_rank[[\"tracks_count\"]])\n",
    "\n",
    "# tracks_rank[\"rank\"] = tracks_rank['tracks_count'].rank(method='average',ascending=False)\n",
    "\n",
    "# tracks_rank = tracks_rank.sort_values('tracks_count',ascending=False)\n",
    "\n",
    "# tracks_rank"
   ]
  },
  {
   "cell_type": "code",
   "execution_count": 181,
   "id": "3ea81952",
   "metadata": {
    "ExecuteTime": {
     "end_time": "2021-12-18T15:27:48.492300Z",
     "start_time": "2021-12-18T15:27:48.477114Z"
    }
   },
   "outputs": [],
   "source": [
    "# album_rank = df_album.groupby(['albums_id','albums']).agg(album_count=('albums_id','count'))\n",
    "\n",
    "# min_max = MinMaxScaler()\n",
    "# album_rank['count_scaled'] = min_max.fit_transform(album_rank[[\"album_count\"]])\n",
    "\n",
    "# album_rank[\"rank\"] = album_rank['album_count'].rank(method='average',ascending=False)\n",
    "\n",
    "# album_rank = album_rank.sort_values('album_count',ascending=False)\n",
    "\n",
    "# album_rank"
   ]
  },
  {
   "cell_type": "code",
   "execution_count": 182,
   "id": "0a2cfd57",
   "metadata": {
    "ExecuteTime": {
     "end_time": "2021-12-18T15:27:48.664697Z",
     "start_time": "2021-12-18T15:27:48.648737Z"
    }
   },
   "outputs": [],
   "source": [
    "# df_artist.head\n",
    "# artist_rank = df_artist.groupby(['artists_id','artists']).agg(artist_count=('artists_id','count'))\n",
    "\n",
    "# min_max = MinMaxScaler()\n",
    "# artist_rank['count_scaled'] = min_max.fit_transform(artist_rank[[\"artist_count\"]])\n",
    "\n",
    "# artist_rank[\"rank\"] = artist_rank['artist_count'].rank(method='average',ascending=False)\n",
    "\n",
    "# artist_rank = artist_rank.sort_values('artist_count',ascending=False)\n",
    "\n",
    "# artist_rank"
   ]
  },
  {
   "cell_type": "code",
   "execution_count": 183,
   "id": "45f65e94",
   "metadata": {
    "ExecuteTime": {
     "end_time": "2021-12-18T15:27:48.851490Z",
     "start_time": "2021-12-18T15:27:48.836533Z"
    }
   },
   "outputs": [],
   "source": [
    "# tracks_cartesian = []\n",
    "# for element in itertools.product(s_tracks_id,s_tracks_id):\n",
    "#     tracks_cartesian.append(element)\n",
    "\n",
    "# https://stackoverflow.com/questions/11144513/cartesian-product-of-x-and-y-array-points-into-single-array-of-2d-points\n",
    "# def cartesian_product(*arrays):\n",
    "#     la = len(arrays)\n",
    "#     dtype = np.result_type(*arrays)\n",
    "#     arr = np.empty([len(a) for a in arrays] + [la], dtype=dtype)\n",
    "#     for i, a in enumerate(numpy.ix_(*arrays)):\n",
    "#         arr[...,i] = a\n",
    "#     return arr.reshape(-1, la)\n",
    "\n",
    "\n",
    "# # tracks_cartesian = cartesian_product(*(s_tracks_id * 2))"
   ]
  },
  {
   "cell_type": "code",
   "execution_count": 184,
   "id": "ddaa6997",
   "metadata": {
    "ExecuteTime": {
     "end_time": "2021-12-18T15:27:49.055472Z",
     "start_time": "2021-12-18T15:27:49.050396Z"
    }
   },
   "outputs": [],
   "source": [
    "# for key, item in df_test.items():\n",
    "#     print(key)\n",
    "#     if key == 'tracks_id':\n",
    "#         print(item)"
   ]
  },
  {
   "cell_type": "code",
   "execution_count": null,
   "id": "43cd28aa",
   "metadata": {
    "ExecuteTime": {
     "start_time": "2021-12-06T19:28:23.194Z"
    }
   },
   "outputs": [],
   "source": [
    "# # Define count_entries()\n",
    "# def count_entries(csv_file,c_size,colname):\n",
    "#     \"\"\"Return a dictionary with counts of\n",
    "#     occurrences as value for each key.\"\"\"\n",
    "    \n",
    "#     # Initialize an empty dictionary: counts_dict\n",
    "#     counts_dict = {}\n",
    "\n",
    "#     # Iterate over the file chunk by chunk\n",
    "#     for chunk in pd.read_csv(csv_file,chunksize=c_size):\n",
    "\n",
    "#         # Iterate over the column in DataFrame\n",
    "#         for entry in chunk[colname]:\n",
    "#             if entry in counts_dict.keys():\n",
    "#                 counts_dict[entry] += 1\n",
    "#             else:\n",
    "#                 counts_dict[entry] = 1\n",
    "\n",
    "#     # Return counts_dict\n",
    "#     return counts_dict\n",
    "\n",
    "# # Call count_entries(): result_counts\n",
    "# result_counts = count_entries('tweets.csv',10,'lang')\n",
    "\n",
    "# # Print result_counts\n",
    "# print(result_counts)\n"
   ]
  },
  {
   "cell_type": "code",
   "execution_count": null,
   "id": "3fdb7356",
   "metadata": {},
   "outputs": [],
   "source": []
  },
  {
   "cell_type": "code",
   "execution_count": null,
   "id": "97e723ac",
   "metadata": {},
   "outputs": [],
   "source": []
  },
  {
   "cell_type": "code",
   "execution_count": null,
   "id": "f8f48ccc",
   "metadata": {},
   "outputs": [],
   "source": []
  },
  {
   "cell_type": "code",
   "execution_count": null,
   "id": "8610bea9",
   "metadata": {},
   "outputs": [],
   "source": []
  },
  {
   "cell_type": "code",
   "execution_count": 88,
   "id": "b4ca8c04",
   "metadata": {
    "ExecuteTime": {
     "end_time": "2021-12-18T14:45:01.363846Z",
     "start_time": "2021-12-18T14:45:01.347065Z"
    }
   },
   "outputs": [],
   "source": [
    "# https://www.thedataschool.co.uk/penny-richmond/howtogetdataoffspotify\n",
    "def analyze_playlist(user_id, playlist_id):\n",
    "\n",
    "    # Create empty dataframe\n",
    "    playlist_features_list = [\"artist\", \"album\", \"track_name\", \"track_id\", \"danceability\", \"energy\", \"key\", \"loudness\",\"mode\", \"speechiness\", \"instrumentalness\", \"liveness\", \"valence\", \"tempo\", \"duration_ms\", \"time_signature\"]\n",
    "\n",
    "    playlist_df = pd.DataFrame(columns = playlist_features_list)\n",
    "\n",
    "    # Loop through every track in the playlist, extract features and append the features to the playlist df\n",
    "\n",
    "    playlist = sp.user_playlist_tracks(user_id, playlist_id)[\"tracks\"][\"items\"]\n",
    "    for track in playlist:\n",
    "        # Create empty dict\n",
    "        playlist_features = {}\n",
    "        # Get metadata\n",
    "        playlist_features[\"artist\"] = track[\"track\"][\"album\"][\"artists\"][0][\"name\"]\n",
    "        playlist_features[\"album\"] = track[\"track\"][\"album\"][\"name\"]\n",
    "        playlist_features[\"track_name\"] = track[\"track\"][\"name\"]\n",
    "        playlist_features[\"track_id\"] = track[\"track\"][\"id\"]\n",
    "\n",
    "    # Get audio features\n",
    "        audio_features = sp.audio_features(playlist_features[\"track_id\"])[0]\n",
    "        for feature in playlist_features_list[4:]:\n",
    "            playlist_features[feature] = audio_features[feature]\n",
    "\n",
    "        # Concat the dfs\n",
    "        track_df = pd.DataFrame(playlist_features, index = [0])\n",
    "        playlist_df = pd.concat([playlist_df, track_df], ignore_index = True)\n",
    "\n",
    "    return playlist_df"
   ]
  },
  {
   "cell_type": "code",
   "execution_count": 95,
   "id": "4ce99a4a",
   "metadata": {
    "ExecuteTime": {
     "end_time": "2021-12-18T14:48:39.826867Z",
     "start_time": "2021-12-18T14:48:39.731506Z"
    }
   },
   "outputs": [
    {
     "data": {
      "text/plain": [
       "[None]"
      ]
     },
     "execution_count": 95,
     "metadata": {},
     "output_type": "execute_result"
    }
   ],
   "source": [
    "audio_features = sp.audio_features('0LyfQWJT6nXafLPZqxe9Of')\n",
    "audio_features"
   ]
  },
  {
   "cell_type": "code",
   "execution_count": null,
   "id": "e70fb791",
   "metadata": {},
   "outputs": [],
   "source": []
  },
  {
   "cell_type": "code",
   "execution_count": null,
   "id": "300d31bf",
   "metadata": {},
   "outputs": [],
   "source": []
  },
  {
   "cell_type": "code",
   "execution_count": null,
   "id": "a9a87835",
   "metadata": {},
   "outputs": [],
   "source": []
  },
  {
   "cell_type": "code",
   "execution_count": null,
   "id": "65338a71",
   "metadata": {},
   "outputs": [],
   "source": []
  },
  {
   "cell_type": "code",
   "execution_count": 199,
   "id": "83f54f3b",
   "metadata": {
    "ExecuteTime": {
     "end_time": "2021-12-18T15:35:04.787618Z",
     "start_time": "2021-12-18T15:35:04.781629Z"
    },
    "scrolled": true
   },
   "outputs": [],
   "source": [
    "# import GSA\n",
    "# myPlaylist = GSA.getInformation('37i9dQZF1DX3hgbB9nrEB1', verbose=True)"
   ]
  },
  {
   "cell_type": "code",
   "execution_count": 102,
   "id": "730524d9",
   "metadata": {
    "ExecuteTime": {
     "end_time": "2021-12-18T14:57:25.156920Z",
     "start_time": "2021-12-18T14:57:25.139968Z"
    }
   },
   "outputs": [],
   "source": [
    "# df = analyze_playlist('12158094445','3whqQJWBWirCJW1EeeMw5V')\n",
    "# df"
   ]
  },
  {
   "cell_type": "code",
   "execution_count": 231,
   "id": "846f1cfb",
   "metadata": {
    "ExecuteTime": {
     "end_time": "2021-12-18T15:56:28.759938Z",
     "start_time": "2021-12-18T15:56:28.749944Z"
    }
   },
   "outputs": [
    {
     "name": "stdout",
     "output_type": "stream",
     "text": [
      "album_type\n",
      "artists\n",
      "available_markets\n",
      "external_urls\n",
      "href\n",
      "id\n",
      "images\n",
      "name\n",
      "release_date\n",
      "release_date_precision\n",
      "total_tracks\n",
      "type\n",
      "uri\n"
     ]
    }
   ],
   "source": [
    "a = playlists_full_by_user[0]\n",
    "pid = a['id']\n",
    "owner = a['owner']\n",
    "tracks = a['tracks']\n",
    "\n",
    "track = tracks['items'][0]['track']['album']\n",
    "track\n",
    "# type(track[0])\n",
    "# artist =track[0]\n",
    "for i, feat in enumerate(track):\n",
    "    print(feat)\n",
    "#     print(type(feat))\n",
    "#     print()"
   ]
  },
  {
   "cell_type": "code",
   "execution_count": 138,
   "id": "bf7ac056",
   "metadata": {
    "ExecuteTime": {
     "end_time": "2021-12-18T15:13:32.280288Z",
     "start_time": "2021-12-18T15:13:32.260348Z"
    }
   },
   "outputs": [
    {
     "data": {
      "text/plain": [
       "'Nowadays (feat. Landon Cube)'"
      ]
     },
     "execution_count": 138,
     "metadata": {},
     "output_type": "execute_result"
    }
   ],
   "source": [
    "m = playlists_full_by_user[83]\n",
    "# m\n",
    "# n = m['tracks']['items']\n",
    "# n\n",
    "p = n[2]['track']\n",
    "p['']['name']\n",
    "\n",
    "# a = playlists_full_by_user[6]['tracks']['items']\n",
    "# a[0]['track']['album']['artists']\n",
    "# for i in range(83,200,1):\n",
    "#     print (i)\n",
    "#     print(a[i]['track']['album']['artists'])\n",
    "\n",
    "\n",
    "# for a in m:\n",
    "#     print(a)\n",
    "# m['items']\n",
    "# p = n[2]['track']['album']['artists']\n",
    "# print(p)\n",
    "\n",
    "\n"
   ]
  }
 ],
 "metadata": {
  "hide_input": false,
  "kernelspec": {
   "display_name": "Python 3",
   "language": "python",
   "name": "python3"
  },
  "language_info": {
   "codemirror_mode": {
    "name": "ipython",
    "version": 3
   },
   "file_extension": ".py",
   "mimetype": "text/x-python",
   "name": "python",
   "nbconvert_exporter": "python",
   "pygments_lexer": "ipython3",
   "version": "3.8.10"
  },
  "toc": {
   "base_numbering": 1,
   "nav_menu": {},
   "number_sections": true,
   "sideBar": true,
   "skip_h1_title": false,
   "title_cell": "Table of Contents",
   "title_sidebar": "Contents",
   "toc_cell": false,
   "toc_position": {},
   "toc_section_display": true,
   "toc_window_display": false
  },
  "varInspector": {
   "cols": {
    "lenName": 16,
    "lenType": 16,
    "lenVar": 40
   },
   "kernels_config": {
    "python": {
     "delete_cmd_postfix": "",
     "delete_cmd_prefix": "del ",
     "library": "var_list.py",
     "varRefreshCmd": "print(var_dic_list())"
    },
    "r": {
     "delete_cmd_postfix": ") ",
     "delete_cmd_prefix": "rm(",
     "library": "var_list.r",
     "varRefreshCmd": "cat(var_dic_list()) "
    }
   },
   "types_to_exclude": [
    "module",
    "function",
    "builtin_function_or_method",
    "instance",
    "_Feature"
   ],
   "window_display": false
  }
 },
 "nbformat": 4,
 "nbformat_minor": 5
}
