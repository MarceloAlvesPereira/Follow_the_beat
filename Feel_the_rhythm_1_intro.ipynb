{
 "cells": [
  {
   "cell_type": "markdown",
   "id": "c1fc4610",
   "metadata": {},
   "source": [
    "https://developer.spotify.com/documentation/web-api/\n",
    "\n",
    "https://developer.spotify.com/\n",
    "\n",
    "https://developer.spotify.com/dashboard/login"
   ]
  },
  {
   "cell_type": "markdown",
   "id": "11ff3b63",
   "metadata": {},
   "source": [
    "**Objectives:**\n",
    "- recommend the next song for an user base on his current playlist\n",
    "\n",
    "**Assumptions:**\n",
    "- tracks of a given playlist are the favorite songs of the user\n",
    "\n",
    "**Methodology:**\n",
    "1. Collaborative filtering\n",
    "2. Initial sample for each user will take 70% of the tracks in the playlist (check if the sorting of the musics in the playlist has any information - date of inclusion, user sorting, etc) and then use the remaining 30% of the tracks as test.\n",
    "3. **If we have time:** Hybrid model by adding *Content based filtering* for playlists with few tracks\n",
    "    - Track features: genre, time, top_track, etc.\n",
    "**Concerns:**\n",
    "- cold start: playlists with few tracks\n",
    "- rare tracks: treatment to be applied to the tracks with low frequency on the database\n",
    "- only positive rating: we will have only tracks that the user liked, we do not have any data about tracks that they did not like.\n",
    "\n",
    "\n",
    "**Python Libraries:**\n",
    "- Sagemaker\n",
    "- Elasticsearch\n",
    "- PySpark\n",
    "\n",
    "<!-- https://github.com/saurabhspundir/SB_ML_RECOMMED_SYS_MOVIES/blob/master/pycon.ipynb -->"
   ]
  }
 ],
 "metadata": {
  "hide_input": false,
  "kernelspec": {
   "display_name": "Python 3",
   "language": "python",
   "name": "python3"
  },
  "language_info": {
   "codemirror_mode": {
    "name": "ipython",
    "version": 3
   },
   "file_extension": ".py",
   "mimetype": "text/x-python",
   "name": "python",
   "nbconvert_exporter": "python",
   "pygments_lexer": "ipython3",
   "version": "3.8.10"
  },
  "toc": {
   "base_numbering": 1,
   "nav_menu": {},
   "number_sections": true,
   "sideBar": true,
   "skip_h1_title": false,
   "title_cell": "Table of Contents",
   "title_sidebar": "Contents",
   "toc_cell": false,
   "toc_position": {},
   "toc_section_display": true,
   "toc_window_display": false
  },
  "varInspector": {
   "cols": {
    "lenName": 16,
    "lenType": 16,
    "lenVar": 40
   },
   "kernels_config": {
    "python": {
     "delete_cmd_postfix": "",
     "delete_cmd_prefix": "del ",
     "library": "var_list.py",
     "varRefreshCmd": "print(var_dic_list())"
    },
    "r": {
     "delete_cmd_postfix": ") ",
     "delete_cmd_prefix": "rm(",
     "library": "var_list.r",
     "varRefreshCmd": "cat(var_dic_list()) "
    }
   },
   "types_to_exclude": [
    "module",
    "function",
    "builtin_function_or_method",
    "instance",
    "_Feature"
   ],
   "window_display": false
  }
 },
 "nbformat": 4,
 "nbformat_minor": 5
}
