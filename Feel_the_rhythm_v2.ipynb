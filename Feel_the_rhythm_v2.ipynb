{
 "cells": [
  {
   "cell_type": "markdown",
   "id": "c1fc4610",
   "metadata": {},
   "source": [
    "https://developer.spotify.com/documentation/web-api/\n",
    "https://developer.spotify.com/\n",
    "https://developer.spotify.com/dashboard/login"
   ]
  },
  {
   "cell_type": "markdown",
   "id": "11ff3b63",
   "metadata": {},
   "source": [
    "**Objectives:**\n",
    "- recommend the next song for an user base on his current playlist\n",
    "\n",
    "**Assumptions:**\n",
    "- tracks of a given playlist are the favorite songs of the user\n",
    "\n",
    "**Methodology:**\n",
    "1. Collaborative filtering\n",
    "2. Initial sample for each user will take 70% of the tracks in the playlist (check if the sorting of the musics in the playlist has any information - date of inclusion, user sorting, etc) and then use the remaining 30% of the tracks as test.\n",
    "3. **If we have time:** Hybrid model by adding *Content based filtering* for playlists with few tracks\n",
    "    - Track features: genre, time, top_track, etc.\n",
    "**Concerns:**\n",
    "- cold start: playlists with few tracks\n",
    "- rare tracks: treatment to be applied to the tracks with low frequency on the database\n",
    "- only positive rating: we will have only tracks that the user liked, we do not have any data about tracks that they did not like.\n",
    "\n",
    "\n",
    "**Python Libraries:**\n",
    "- Sagemaker\n",
    "- Elasticsearch\n",
    "- PySpark"
   ]
  },
  {
   "cell_type": "code",
   "execution_count": 1,
   "id": "11dd7a96",
   "metadata": {
    "ExecuteTime": {
     "end_time": "2021-10-23T18:00:27.720847Z",
     "start_time": "2021-10-23T18:00:24.725841Z"
    }
   },
   "outputs": [],
   "source": [
    "# Default libraries: pandas, numpy\n",
    "# import beakerx\n",
    "import cProfile\n",
    "import collections\n",
    "import datetime\n",
    "\n",
    "import feather\n",
    "import itertools\n",
    "import math\n",
    "import os\n",
    "import pickle\n",
    "import sys\n",
    "import time\n",
    "\n",
    "import matplotlib.pyplot as plt\n",
    "import numpy as np\n",
    "import pandas as pd\n",
    "import seaborn as sns\n",
    "# import urbangrammar_graphics as ugg\n",
    "\n",
    "from IPython.display import Markdown as md\n",
    "from collections import Counter\n",
    "from clustergram import Clustergram\n",
    "from datetime import datetime\n",
    "from dotenv import load_dotenv\n",
    "from itertools import groupby\n",
    "\n",
    "from sklearn import __version__ as sklearn_version\n",
    "from sklearn.decomposition import PCA\n",
    "from sklearn.dummy import DummyRegressor\n",
    "from sklearn.ensemble import RandomForestClassifier, RandomForestRegressor, AdaBoostClassifier, BaggingClassifier\n",
    "from sklearn.feature_selection import SelectKBest, f_regression\n",
    "from sklearn.impute import SimpleImputer\n",
    "from sklearn.linear_model import LinearRegression, LogisticRegression\n",
    "from sklearn.metrics import mean_squared_error, mean_absolute_error, accuracy_score, classification_report\n",
    "from sklearn.model_selection import train_test_split, cross_validate, learning_curve, GridSearchCV, RandomizedSearchCV, GridSearchCV\n",
    "from sklearn.neighbors import KNeighborsClassifier\n",
    "from sklearn.pipeline import make_pipeline\n",
    "from sklearn.preprocessing import scale, StandardScaler, MinMaxScaler, RobustScaler\n",
    "from sklearn.tree import DecisionTreeClassifier\n",
    "\n",
    "from xgboost import XGBClassifier\n",
    "\n",
    "pd.options.display.float_format = \"{:.2f}\".format\n",
    "# plt.rcParams.update({'font.size': 18})"
   ]
  },
  {
   "cell_type": "code",
   "execution_count": 2,
   "id": "9b1f7920",
   "metadata": {
    "ExecuteTime": {
     "end_time": "2021-10-23T18:00:27.751714Z",
     "start_time": "2021-10-23T18:00:27.722842Z"
    }
   },
   "outputs": [],
   "source": [
    "load_dotenv()\n",
    "SPOTIPY_API = os.getenv('SPOTIPY_API')\n",
    "SPOTIPY_API_KEY = os.getenv('SPOTIPY_API_KEY')\n",
    "scope=''\n",
    "\n",
    "# https://spotipy.readthedocs.io/en/latest/#\n",
    "import spotipy\n",
    "from spotipy.oauth2 import SpotifyClientCredentials\n",
    "client_credentials_manager = SpotifyClientCredentials(client_id=SPOTIPY_API, client_secret=SPOTIPY_API_KEY)\n",
    "\n",
    "# help(sp)\n",
    "sp = spotipy.Spotify(client_credentials_manager=client_credentials_manager)"
   ]
  },
  {
   "cell_type": "code",
   "execution_count": 3,
   "id": "1f332f6b",
   "metadata": {
    "ExecuteTime": {
     "end_time": "2021-10-23T18:00:27.766697Z",
     "start_time": "2021-10-23T18:00:27.755731Z"
    }
   },
   "outputs": [],
   "source": [
    "def single_list(my_list):\n",
    "    single = []\n",
    "    for e in my_list:\n",
    "        single.extend(e)\n",
    "    return single\n",
    "\n",
    "def single_list_nested(my_list):\n",
    "    single = []\n",
    "    for e in my_list:\n",
    "        for a in e:\n",
    "            single.extend(a)\n",
    "    return single\n",
    "\n",
    "def sorted_list(xs):\n",
    "    counts = collections.defaultdict(int)\n",
    "    for x in xs:\n",
    "        counts[x] += 1\n",
    "    return sorted(counts.items(), reverse=True, key=lambda tup: tup[1])"
   ]
  },
  {
   "cell_type": "code",
   "execution_count": 4,
   "id": "bd20da23",
   "metadata": {
    "ExecuteTime": {
     "end_time": "2021-10-23T18:00:28.353952Z",
     "start_time": "2021-10-23T18:00:27.768718Z"
    },
    "scrolled": true
   },
   "outputs": [
    {
     "name": "stdout",
     "output_type": "stream",
     "text": [
      "<class 'pandas.core.frame.DataFrame'>\n",
      "RangeIndex: 2450 entries, 0 to 2449\n",
      "Data columns (total 9 columns):\n",
      " #   Column       Non-Null Count  Dtype \n",
      "---  ------       --------------  ----- \n",
      " 0   user_id      2450 non-null   object\n",
      " 1   playlist_id  2450 non-null   object\n",
      " 2   tracks_id    2450 non-null   object\n",
      " 3   tracks       2450 non-null   object\n",
      " 4   popularity   2450 non-null   object\n",
      " 5   artists_id   2450 non-null   object\n",
      " 6   artists      2450 non-null   object\n",
      " 7   albums_id    2450 non-null   object\n",
      " 8   albums       2450 non-null   object\n",
      "dtypes: object(9)\n",
      "memory usage: 172.4+ KB\n",
      "None\n"
     ]
    }
   ],
   "source": [
    "data_path = os.getcwd() + '\\\\data\\\\external\\\\raw_data.pkl'\n",
    "df = pd.read_pickle(data_path)\n",
    "print(df.info())\n",
    "\n",
    "# total = 0\n",
    "# idx = 0\n",
    "# while total < 10000:\n",
    "# #     print(len(df.iloc[idx, 2]))\n",
    "    \n",
    "#     total = total + len(df.iloc[idx, 2])\n",
    "#     idx = idx + 1\n",
    "# #     len(df.iloc[0:n, :])\n",
    "# print(idx)"
   ]
  },
  {
   "cell_type": "code",
   "execution_count": 5,
   "id": "98f81425",
   "metadata": {
    "ExecuteTime": {
     "end_time": "2021-10-23T18:00:28.368877Z",
     "start_time": "2021-10-23T18:00:28.355927Z"
    }
   },
   "outputs": [],
   "source": [
    "def playlist_to_row(playlist, track_matrix):\n",
    "    for col_track in playlist:\n",
    "                if col_track is not None:\n",
    "                    col = s_tracks_id.index(col_track)\n",
    "                    track_matrix[row, col] += 1"
   ]
  },
  {
   "cell_type": "code",
   "execution_count": 6,
   "id": "3d18831c",
   "metadata": {
    "ExecuteTime": {
     "end_time": "2021-10-23T18:00:28.384835Z",
     "start_time": "2021-10-23T18:00:28.371871Z"
    }
   },
   "outputs": [],
   "source": [
    "def ranking(df,id_column):\n",
    "    single_list_temp = single_list(df[id_column])\n",
    "    data = {id_column: single_list_temp}\n",
    "    aux_df = pd.DataFrame(data)\n",
    "    \n",
    "    name = id_column.replace('_id','_count')\n",
    "    ranked_sorted = aux_df.groupby([id_column]).agg(\n",
    "        temp_count=pd.NamedAgg(column=id_column, aggfunc=\"count\")\n",
    "    )\n",
    "    ranked_sorted = ranked_sorted.rename(columns={'temp_count': name})\n",
    "    ranked_sorted = ranked_sorted.sort_values(name,ascending=False)\n",
    "    return ranked_sorted\n",
    "# ranking(df_test,'tracks_id')\n",
    "# print(tracks_rank)\n",
    "\n",
    "def top(ranked,n):\n",
    "    top_n = ranked.iloc[:n]\n",
    "    \n",
    "    return top_n\n",
    "# tracks_rank = ranking(df_test,'tracks_id')\n",
    "# top(tracks_rank,10)\n"
   ]
  },
  {
   "cell_type": "code",
   "execution_count": 7,
   "id": "24639d5d",
   "metadata": {
    "ExecuteTime": {
     "end_time": "2021-10-23T18:00:43.688199Z",
     "start_time": "2021-10-23T18:00:28.388825Z"
    }
   },
   "outputs": [
    {
     "name": "stdout",
     "output_type": "stream",
     "text": [
      "<class 'pandas.core.frame.DataFrame'>\n",
      "RangeIndex: 100 entries, 0 to 99\n",
      "Data columns (total 9 columns):\n",
      " #   Column       Non-Null Count  Dtype \n",
      "---  ------       --------------  ----- \n",
      " 0   user_id      100 non-null    object\n",
      " 1   playlist_id  100 non-null    object\n",
      " 2   tracks_id    100 non-null    object\n",
      " 3   tracks       100 non-null    object\n",
      " 4   popularity   100 non-null    object\n",
      " 5   artists_id   100 non-null    object\n",
      " 6   artists      100 non-null    object\n",
      " 7   albums_id    100 non-null    object\n",
      " 8   albums       100 non-null    object\n",
      "dtypes: object(9)\n",
      "memory usage: 7.2+ KB\n",
      "None\n"
     ]
    }
   ],
   "source": [
    "# matrix track x track\n",
    "idx = 100\n",
    "df_test = df.iloc[0:idx, :]\n",
    "# df_test = df\n",
    "\n",
    "print(df_test.info())\n",
    "\n",
    "track_rank = ranking(df_test,'tracks_id')\n",
    "s_tracks_id = list(track_rank.index)\n",
    "\n",
    "shape = [len(s_tracks_id), len(s_tracks_id)]\n",
    "track_matrix = np.zeros(shape, dtype=int, order='C')\n",
    "\n",
    "for i, row_track in enumerate(s_tracks_id):\n",
    "    row = s_tracks_id.index(row_track)\n",
    "    if i != row: print(\"i: \" + str(i) + \": \" + row_track), print()\n",
    "\n",
    "    for playlist in df_test['tracks_id']:\n",
    "        try:\n",
    "            check = playlist.index(row_track)\n",
    "        except ValueError:\n",
    "            #             print(row)\n",
    "            check = -1\n",
    "        if check >= 0:\n",
    "            for col_track in playlist:\n",
    "                if col_track is not None:\n",
    "                    col = s_tracks_id.index(col_track)\n",
    "                    #                     print(col_track  + \" - \" + str(col))\n",
    "                    #                     tr = df_test['tracks'][n][col]\n",
    "                    #                     print(\"track: \" + str(n) + \": \" + col_track + \" - col_match:\" + str(col) + \": \") # + tr)\n",
    "                    track_matrix[row, col] += 1\n",
    "# print(track_matrix)"
   ]
  },
  {
   "cell_type": "code",
   "execution_count": 8,
   "id": "f00f1dcf",
   "metadata": {
    "ExecuteTime": {
     "end_time": "2021-10-23T18:00:43.704009Z",
     "start_time": "2021-10-23T18:00:43.692070Z"
    }
   },
   "outputs": [
    {
     "data": {
      "text/plain": [
       "array([[15, 11, 11, ...,  0,  0,  0],\n",
       "       [11, 15,  9, ...,  0,  0,  0],\n",
       "       [11,  9, 15, ...,  0,  0,  0],\n",
       "       ...,\n",
       "       [ 0,  0,  0, ...,  1,  0,  1],\n",
       "       [ 0,  0,  0, ...,  0,  1,  0],\n",
       "       [ 0,  0,  0, ...,  1,  0,  1]])"
      ]
     },
     "execution_count": 8,
     "metadata": {},
     "output_type": "execute_result"
    }
   ],
   "source": [
    "track_matrix"
   ]
  },
  {
   "cell_type": "code",
   "execution_count": 9,
   "id": "f514023d",
   "metadata": {
    "ExecuteTime": {
     "end_time": "2021-10-23T18:00:43.718973Z",
     "start_time": "2021-10-23T18:00:43.708001Z"
    }
   },
   "outputs": [],
   "source": [
    "# compare principal diagonal versus the counting of each track\n",
    "# print(tracks_rank)\n",
    "n_rows, n_cols = track_matrix.shape\n",
    "\n",
    "# for track in tracks_rank:\n",
    "#     print(track[1])\n",
    "#     if track_matrix[i][i] != track_matrix[i][i]:\n",
    "#             print(\"Difference: \" + str(i) + \", \" + str(j))"
   ]
  },
  {
   "cell_type": "code",
   "execution_count": 10,
   "id": "9415eb1a",
   "metadata": {
    "ExecuteTime": {
     "end_time": "2021-10-23T18:00:47.018206Z",
     "start_time": "2021-10-23T18:00:43.724036Z"
    }
   },
   "outputs": [],
   "source": [
    "# Check if the matrix is symmetrical\n",
    "n_rows, n_cols = track_matrix.shape\n",
    "for i in range(0,n_rows):\n",
    "    for j in range(i,n_cols):\n",
    "        if track_matrix[i][j] != track_matrix[j][i]:\n",
    "            print(\"Difference: \" + str(i) + \", \" + str(j))"
   ]
  },
  {
   "cell_type": "code",
   "execution_count": 11,
   "id": "a8281838",
   "metadata": {
    "ExecuteTime": {
     "end_time": "2021-10-23T18:00:47.064071Z",
     "start_time": "2021-10-23T18:00:47.021200Z"
    }
   },
   "outputs": [
    {
     "name": "stdout",
     "output_type": "stream",
     "text": [
      "[1250 1190  990 ...   30   25   30]\n",
      "[1250 1190  990 ...   30   25   30]\n"
     ]
    }
   ],
   "source": [
    "# Check if the sum of rows matches the sum of the columns\n",
    "column_sums = track_matrix.sum(axis=0)\n",
    "row_sums = track_matrix.sum(axis=1)\n",
    "\n",
    "print(column_sums)\n",
    "print(row_sums)\n",
    "\n",
    "if len(column_sums) != len(row_sums):\n",
    "    print(\"error col * row\")\n",
    "\n",
    "for i in range(0,len(row_sums)):\n",
    "     if row_sums[i] != column_sums[i]:\n",
    "            print(\"Difference: \" + str(i) + \",\" + str(j))"
   ]
  },
  {
   "cell_type": "code",
   "execution_count": 12,
   "id": "6f269fa6",
   "metadata": {
    "ExecuteTime": {
     "end_time": "2021-10-23T18:00:47.206725Z",
     "start_time": "2021-10-23T18:00:47.066066Z"
    }
   },
   "outputs": [
    {
     "name": "stdout",
     "output_type": "stream",
     "text": [
      "0.0\n"
     ]
    }
   ],
   "source": [
    "# Scale by row\n",
    "# min_max = MinMaxScaler()\n",
    "# tracks_rank['count_scaled'] = min_max.fit_transform(tracks_rank[[\"tracks_count\"]])\n",
    "\n",
    "track_normed = track_matrix / track_matrix.max(axis=0)\n",
    "track_normed_by_row = track_matrix / track_matrix.max(axis=1)\n",
    "\n",
    "delta = track_normed - track_normed_by_row\n",
    "print(delta.sum())"
   ]
  },
  {
   "cell_type": "code",
   "execution_count": 13,
   "id": "578fa0f9",
   "metadata": {
    "ExecuteTime": {
     "end_time": "2021-10-23T18:00:47.959815Z",
     "start_time": "2021-10-23T18:00:47.208681Z"
    }
   },
   "outputs": [
    {
     "data": {
      "image/png": "[encoded data removed]",
      "text/plain": [
       "<Figure size 1440x1440 with 1 Axes>"
      ]
     },
     "metadata": {
      "needs_background": "light"
     },
     "output_type": "display_data"
    }
   ],
   "source": [
    "# graphical visualization\n",
    "fig = plt.figure(figsize=(20, 20))\n",
    "\n",
    "ax = fig.add_subplot(111)\n",
    "# plt.imshow(track_matrix, interpolation='nearest', cmap=plt.cm.gist_heat)\n",
    "plt.imshow(track_normed, interpolation='nearest', cmap=plt.cm.Purples)\n",
    "ax.set_aspect('equal')\n",
    "plt.show()"
   ]
  },
  {
   "cell_type": "code",
   "execution_count": 14,
   "id": "67d04600",
   "metadata": {
    "ExecuteTime": {
     "end_time": "2021-10-23T18:00:47.975773Z",
     "start_time": "2021-10-23T18:00:47.961813Z"
    }
   },
   "outputs": [],
   "source": [
    "def get_playlist_detail(user_id, playlist_id):\n",
    "    l_artists = []\n",
    "    l_albums = []\n",
    "    l_tracks = []\n",
    "    l_popularity = []\n",
    "    l_artists_id = []\n",
    "    l_albums_id = []\n",
    "    l_tracks_id = []\n",
    "    \n",
    "    playlist = sp.user_playlist(user_id, playlist_id)\n",
    "    \n",
    "    for item in playlist['tracks']['items']:\n",
    "#         group = []\n",
    "#         group_id = []\n",
    "        for artist in item['track']['album']['artists']:\n",
    "            group.append(artist['name'])\n",
    "            group_id.append(artist['id'])\n",
    "        l_artists.append(group)\n",
    "        l_artists_id.append(group_id)\n",
    "        l_albums.append(item['track']['album']['name'])\n",
    "        l_tracks.append(item['track']['name'])\n",
    "        l_popularity.append(item['track']['popularity'])\n",
    "        \n",
    "        l_albums_id.append(item['track']['album']['id'])\n",
    "        l_tracks_id.append(item['track']['id'])\n",
    "        \n",
    "    playlist_details = zip(user_id, playlist_id, l_artists, l_albums, l_tracks, l_popularity, l_artists_id, l_albums_id, l_tracks_id)\n",
    "    return playlist_details;\n",
    "\n",
    "# user_id, playlist_id, l_artists, l_albums, l_tracks, l_popularity, l_artists_id, l_albums_id, l_tracks_id = get_playlist_detail('spotify', '37i9dQZF1DWXjlWxUbm84A')\n",
    "# user_id, playlist_id, l_artists, l_albums, l_tracks, l_popularity, l_artists_id, l_albums_id, l_tracks_id"
   ]
  },
  {
   "cell_type": "code",
   "execution_count": 15,
   "id": "7a9e7333",
   "metadata": {
    "ExecuteTime": {
     "end_time": "2021-10-23T18:00:47.990765Z",
     "start_time": "2021-10-23T18:00:47.977771Z"
    }
   },
   "outputs": [],
   "source": [
    "# temp = df_test[['tracks_id','tracks']]\n",
    "# print(temp)\n",
    "\n",
    "# for i, a in enumerate(temp['tracks_id']):\n",
    "#     print(i)\n",
    "#     print(a)\n",
    "\n",
    "# for i in df_test:\n",
    "#     print(i)\n",
    "\n",
    "# print(temp['tracks'][1])\n",
    "# df_test[['tracks','tracks_id','popularity']].iloc[1]"
   ]
  },
  {
   "cell_type": "code",
   "execution_count": 16,
   "id": "bd6b4138",
   "metadata": {
    "ExecuteTime": {
     "end_time": "2021-10-23T18:00:48.005693Z",
     "start_time": "2021-10-23T18:00:47.992778Z"
    }
   },
   "outputs": [
    {
     "name": "stdout",
     "output_type": "stream",
     "text": [
      "None\n"
     ]
    }
   ],
   "source": [
    "def dict_id_name(data, id_column, name_column):\n",
    "    dict_id_name = dict()\n",
    "\n",
    "    for i, item in enumerate(data[[id_column, name_column]][id_column]):\n",
    "        dict_id_name = dict(\n",
    "            zip(item, data[[id_column, name_column]][name_column][i]))\n",
    "    return dict_id_name\n",
    "\n",
    "\n",
    "# dict_id_name(df_test,'tracks_id','tracks')\n",
    "\n",
    "\n",
    "def dict_tracks(data):\n",
    "    dict_id_name = dict()\n",
    "\n",
    "    for i, item in enumerate(data['tracks_id']):\n",
    "#         print(i)\n",
    "#         print(item)\n",
    "#         print(\n",
    "#             data[[\n",
    "#                 'tracks', 'popularity', 'artists_id', 'artists', 'albums_id',\n",
    "#                 'albums'\n",
    "#             ]].iloc[i])\n",
    "        dict_id_name = dict(\n",
    "            zip(\n",
    "                item, data[[\n",
    "                    'tracks', 'popularity', 'artists_id', 'artists',\n",
    "                    'albums_id', 'albums'\n",
    "                ]].iloc[i]))\n",
    "\n",
    "\n",
    "print(dict_tracks(df_test[:2]))"
   ]
  },
  {
   "cell_type": "code",
   "execution_count": 17,
   "id": "2ac0a23e",
   "metadata": {
    "ExecuteTime": {
     "end_time": "2021-10-23T18:00:50.151213Z",
     "start_time": "2021-10-23T18:00:48.008686Z"
    }
   },
   "outputs": [
    {
     "data": {
      "text/plain": [
       "2.132556438446045"
      ]
     },
     "execution_count": 17,
     "metadata": {},
     "output_type": "execute_result"
    }
   ],
   "source": [
    "t_start = time.time()\n",
    "data_path = os.getcwd() + '\\\\data\\\\external\\\\raw_1_uid_pid.pkl'\n",
    "if os.path.exists(data_path):\n",
    "    data_path_2 = os.getcwd() + '\\\\data\\\\external\\\\raw_2_playlists.pkl'\n",
    "    if not(os.path.exists(data_path_2)):\n",
    "        with open(data_path, 'rb') as f:\n",
    "            uid_pid_raw = pickle.load(f)\n",
    "else:\n",
    "    n = 950 # max = 950\n",
    "    p_limit = 50 # limit of playlists max = 50\n",
    "\n",
    "    # list of all user ids (UID) and playlist ids (PID)\n",
    "    uid_pid_raw = []\n",
    "    \n",
    "    for y in range(2018,2022,1):\n",
    "        txt = 'year:' + str(y)\n",
    "        for i in range(0,n,1):\n",
    "            if i % 100 == 0: print(txt + ': ' + str(i) + '/' + str(n))\n",
    "            uid_pid = sp.search(q=txt, type='playlist', limit=p_limit, offset=i,market='US')\n",
    "            uid_pid_raw.append(uid_pid)\n",
    "    # Save the data\n",
    "    with open(data_path, 'wb') as f:\n",
    "        pickle.dump(playlist_raw, f)\n",
    "\n",
    "\n",
    "t_end = time.time()\n",
    "np.abs(t_start - t_end)"
   ]
  },
  {
   "cell_type": "code",
   "execution_count": 18,
   "id": "f6614db7",
   "metadata": {
    "ExecuteTime": {
     "end_time": "2021-10-23T18:00:50.166144Z",
     "start_time": "2021-10-23T18:00:50.152210Z"
    }
   },
   "outputs": [
    {
     "name": "stdout",
     "output_type": "stream",
     "text": [
      "Requesting playlists - Spotipy\n"
     ]
    },
    {
     "data": {
      "text/plain": [
       "0.0009970664978027344"
      ]
     },
     "execution_count": 18,
     "metadata": {},
     "output_type": "execute_result"
    }
   ],
   "source": [
    "t_start = time.time()\n",
    "data_path = os.getcwd() + '\\\\data\\\\external\\\\raw_2_playlists.pkl'\n",
    "if os.path.exists(data_path):\n",
    "    print(\"Loading data...\")\n",
    "    data_path_2 = os.getcwd() + '\\\\data\\\\external\\\\split_1_playlists.pkl'\n",
    "    if not(os.path.exists(data_path_2)):\n",
    "        with open(data_path, 'rb') as f:\n",
    "            playlist_raw = pickle.load(f)\n",
    "else:\n",
    "    print(\"Requesting playlists - Spotipy\")\n",
    "#     playlist_raw = []\n",
    "\n",
    "#     for i, result in enumerate(uid_pid_raw):\n",
    "#         print(i)\n",
    "#         if i % 100 == 0: print(i)\n",
    "#         for user in result['playlists']['items']:\n",
    "#             pid = user['id']\n",
    "#             uid = user['owner']['id']\n",
    "#             try:\n",
    "#                 playlist = sp.user_playlist(user['id'],user['owner']['id'])\n",
    "#                 playlist_raw.append(playlist)\n",
    "#             except:\n",
    "#                 print(uid + \" \" + pid)\n",
    "                   \n",
    "   # Save the data\n",
    "#     with open(data_path, 'wb') as f:\n",
    "#         pickle.dump(playlist_raw, f)\n",
    "\n",
    "t_end = time.time()\n",
    "np.abs(t_start - t_end)"
   ]
  },
  {
   "cell_type": "code",
   "execution_count": 19,
   "id": "fbd22bda",
   "metadata": {
    "ExecuteTime": {
     "end_time": "2021-10-23T18:00:50.954037Z",
     "start_time": "2021-10-23T18:00:50.169137Z"
    }
   },
   "outputs": [
    {
     "data": {
      "text/plain": [
       "0.7639555931091309"
      ]
     },
     "execution_count": 19,
     "metadata": {},
     "output_type": "execute_result"
    }
   ],
   "source": [
    "t_start = time.time()\n",
    "data_path = os.getcwd() + '\\\\data\\\\external\\\\raw_data.pkl'\n",
    "if os.path.exists(data_path):\n",
    "    df = pd.read_pickle(data_path)\n",
    "else:\n",
    "#     print('ops')\n",
    "    n = 50\n",
    "    p_limit = 50 # limit of playlists max = 50\n",
    "\n",
    "    user_id = []\n",
    "    playlist_id = []\n",
    "    artist = []\n",
    "    album = []\n",
    "    track = []\n",
    "    popularity = []\n",
    "    artist_id = []\n",
    "    album_id = []\n",
    "    track_id = []\n",
    "\n",
    "    for i in uid_pid:\n",
    "        if i-1 % 100 == 0: print(i)\n",
    "        for user in result['playlists']['items']:\n",
    "            pid = user['id']\n",
    "            uid = user['owner']['id']\n",
    "#                 user_id.append(uid)\n",
    "#                 playlist_id.append(pid)\n",
    "            p_user_id, p_playlist_id, p_artist, p_album, p_track, p_popularity, p_artists_id, p_albums_id, p_tracks_id = unzip(get_playlist_detail(uid,pid))\n",
    "\n",
    "            user_id.append(p_user_id)\n",
    "            playlist_id.append(p_playlist_id)\n",
    "            artist.append(p_artist)\n",
    "            album.append(p_album)\n",
    "            track.append(p_track)\n",
    "            popularity.append(p_popularity)\n",
    "            artist_id.append(p_artist_id)\n",
    "            album_id.append(p_album_id)\n",
    "            track_id.append(p_track_id)\n",
    "#             if i-1 % 100 == 0: print('tot:' + str(len(playlist_id)))\n",
    "\n",
    "    # intialise data of lists.\n",
    "    data = {\n",
    "        'user_id': user_id,\n",
    "        'playlist_id': playlist_id,\n",
    "        'track_id': track_id,\n",
    "        'track': track,\n",
    "        'popularity': popularity,\n",
    "        'artist_id': artist_id,\n",
    "        'artist': artist,\n",
    "        'album_id': albums_id,\n",
    "        'album': album\n",
    "    }\n",
    "\n",
    "    # Create DataFrame\n",
    "    df = pd.DataFrame(data)\n",
    "    df.head()\n",
    "\n",
    "    # Save the data\n",
    "    df.to_pickle(data_path)\n",
    "\n",
    "t_end = time.time()\n",
    "np.abs(t_start - t_end)"
   ]
  },
  {
   "cell_type": "code",
   "execution_count": 20,
   "id": "c6dade6e",
   "metadata": {
    "ExecuteTime": {
     "end_time": "2021-10-23T18:00:51.190406Z",
     "start_time": "2021-10-23T18:00:50.956033Z"
    }
   },
   "outputs": [],
   "source": [
    "s_tracks_id = single_list(df['tracks_id'])\n",
    "s_tracks = single_list(df['tracks'])\n",
    "s_popularity = single_list(df['popularity'])\n",
    "\n",
    "s_artists = single_list_nested(df['artists'])\n",
    "s_artists_id = single_list_nested(df['artists_id'])\n",
    "\n",
    "s_albums = single_list(df['albums'])\n",
    "s_albums_id = single_list(df['albums_id'])\n",
    "\n",
    "data = {\n",
    "    'tracks_id': s_tracks_id,\n",
    "    'tracks': s_tracks,\n",
    "    'popularity': s_popularity\n",
    "}\n",
    "df_track = pd.DataFrame(data)\n",
    "# print(df_track.head())\n",
    "\n",
    "data = {\n",
    "    'artists_id': s_artists_id,\n",
    "    'artists': s_artists\n",
    "}\n",
    "df_artist = pd.DataFrame(data)\n",
    "# print(df_artist.head())\n",
    "\n",
    "\n",
    "data = {\n",
    "    'albums_id': s_albums_id,\n",
    "    'albums': s_albums\n",
    "}\n",
    "df_album = pd.DataFrame(data)\n",
    "# print(df_album.head())"
   ]
  },
  {
   "cell_type": "code",
   "execution_count": 21,
   "id": "0aa1148f",
   "metadata": {
    "ExecuteTime": {
     "end_time": "2021-10-23T18:00:51.344990Z",
     "start_time": "2021-10-23T18:00:51.192431Z"
    }
   },
   "outputs": [
    {
     "data": {
      "text/html": [
       "<div>\n",
       "<style scoped>\n",
       "    .dataframe tbody tr th:only-of-type {\n",
       "        vertical-align: middle;\n",
       "    }\n",
       "\n",
       "    .dataframe tbody tr th {\n",
       "        vertical-align: top;\n",
       "    }\n",
       "\n",
       "    .dataframe thead th {\n",
       "        text-align: right;\n",
       "    }\n",
       "</style>\n",
       "<table border=\"1\" class=\"dataframe\">\n",
       "  <thead>\n",
       "    <tr style=\"text-align: right;\">\n",
       "      <th></th>\n",
       "      <th></th>\n",
       "      <th>popularity</th>\n",
       "      <th>tracks_count</th>\n",
       "      <th>count_scaled</th>\n",
       "      <th>rank</th>\n",
       "    </tr>\n",
       "    <tr>\n",
       "      <th>tracks_id</th>\n",
       "      <th>tracks</th>\n",
       "      <th></th>\n",
       "      <th></th>\n",
       "      <th></th>\n",
       "      <th></th>\n",
       "    </tr>\n",
       "  </thead>\n",
       "  <tbody>\n",
       "    <tr>\n",
       "      <th>2xLMifQCjDGFmkHkpNLD9h</th>\n",
       "      <th>SICKO MODE</th>\n",
       "      <td>83</td>\n",
       "      <td>236</td>\n",
       "      <td>1.00</td>\n",
       "      <td>1.00</td>\n",
       "    </tr>\n",
       "    <tr>\n",
       "      <th>2G7V7zsVDxg1yRsu7Ew9RJ</th>\n",
       "      <th>In My Feelings</th>\n",
       "      <td>76</td>\n",
       "      <td>213</td>\n",
       "      <td>0.90</td>\n",
       "      <td>2.00</td>\n",
       "    </tr>\n",
       "    <tr>\n",
       "      <th>45Egmo7icyopuzJN0oMEdk</th>\n",
       "      <th>Love Lies (with Normani)</th>\n",
       "      <td>74</td>\n",
       "      <td>203</td>\n",
       "      <td>0.86</td>\n",
       "      <td>3.00</td>\n",
       "    </tr>\n",
       "    <tr>\n",
       "      <th>3ee8Jmje8o58CHK66QrVC2</th>\n",
       "      <th>SAD!</th>\n",
       "      <td>84</td>\n",
       "      <td>199</td>\n",
       "      <td>0.84</td>\n",
       "      <td>4.00</td>\n",
       "    </tr>\n",
       "    <tr>\n",
       "      <th>10Igtw8bSDyyFs7KIsKngZ</th>\n",
       "      <th>Freaky Friday (feat. Chris Brown)</th>\n",
       "      <td>71</td>\n",
       "      <td>196</td>\n",
       "      <td>0.83</td>\n",
       "      <td>5.00</td>\n",
       "    </tr>\n",
       "    <tr>\n",
       "      <th>...</th>\n",
       "      <th>...</th>\n",
       "      <td>...</td>\n",
       "      <td>...</td>\n",
       "      <td>...</td>\n",
       "      <td>...</td>\n",
       "    </tr>\n",
       "    <tr>\n",
       "      <th>6K8qKeWo5MsFED7wCR6Kop</th>\n",
       "      <th>Sing</th>\n",
       "      <td>72</td>\n",
       "      <td>1</td>\n",
       "      <td>0.00</td>\n",
       "      <td>6479.50</td>\n",
       "    </tr>\n",
       "    <tr>\n",
       "      <th>6KBYk8OFtod7brGuZ3Y67q</th>\n",
       "      <th>Misery</th>\n",
       "      <td>60</td>\n",
       "      <td>1</td>\n",
       "      <td>0.00</td>\n",
       "      <td>6479.50</td>\n",
       "    </tr>\n",
       "    <tr>\n",
       "      <th>2iuZJX9X9P0GKaE93xcPjk</th>\n",
       "      <th>Sugar</th>\n",
       "      <td>80</td>\n",
       "      <td>1</td>\n",
       "      <td>0.00</td>\n",
       "      <td>6479.50</td>\n",
       "    </tr>\n",
       "    <tr>\n",
       "      <th>4cluDES4hQEUhmXj6TXkSo</th>\n",
       "      <th>What Makes You Beautiful</th>\n",
       "      <td>82</td>\n",
       "      <td>1</td>\n",
       "      <td>0.00</td>\n",
       "      <td>6479.50</td>\n",
       "    </tr>\n",
       "    <tr>\n",
       "      <th>1CfysrFGAItkEGBZwaidl1</th>\n",
       "      <th>SouthBoys</th>\n",
       "      <td>52</td>\n",
       "      <td>1</td>\n",
       "      <td>0.00</td>\n",
       "      <td>6479.50</td>\n",
       "    </tr>\n",
       "  </tbody>\n",
       "</table>\n",
       "<p>6522 rows × 4 columns</p>\n",
       "</div>"
      ],
      "text/plain": [
       "                                                          popularity  \\\n",
       "tracks_id              tracks                                          \n",
       "2xLMifQCjDGFmkHkpNLD9h SICKO MODE                                 83   \n",
       "2G7V7zsVDxg1yRsu7Ew9RJ In My Feelings                             76   \n",
       "45Egmo7icyopuzJN0oMEdk Love Lies (with Normani)                   74   \n",
       "3ee8Jmje8o58CHK66QrVC2 SAD!                                       84   \n",
       "10Igtw8bSDyyFs7KIsKngZ Freaky Friday (feat. Chris Brown)          71   \n",
       "...                                                              ...   \n",
       "6K8qKeWo5MsFED7wCR6Kop Sing                                       72   \n",
       "6KBYk8OFtod7brGuZ3Y67q Misery                                     60   \n",
       "2iuZJX9X9P0GKaE93xcPjk Sugar                                      80   \n",
       "4cluDES4hQEUhmXj6TXkSo What Makes You Beautiful                   82   \n",
       "1CfysrFGAItkEGBZwaidl1 SouthBoys                                  52   \n",
       "\n",
       "                                                          tracks_count  \\\n",
       "tracks_id              tracks                                            \n",
       "2xLMifQCjDGFmkHkpNLD9h SICKO MODE                                  236   \n",
       "2G7V7zsVDxg1yRsu7Ew9RJ In My Feelings                              213   \n",
       "45Egmo7icyopuzJN0oMEdk Love Lies (with Normani)                    203   \n",
       "3ee8Jmje8o58CHK66QrVC2 SAD!                                        199   \n",
       "10Igtw8bSDyyFs7KIsKngZ Freaky Friday (feat. Chris Brown)           196   \n",
       "...                                                                ...   \n",
       "6K8qKeWo5MsFED7wCR6Kop Sing                                          1   \n",
       "6KBYk8OFtod7brGuZ3Y67q Misery                                        1   \n",
       "2iuZJX9X9P0GKaE93xcPjk Sugar                                         1   \n",
       "4cluDES4hQEUhmXj6TXkSo What Makes You Beautiful                      1   \n",
       "1CfysrFGAItkEGBZwaidl1 SouthBoys                                     1   \n",
       "\n",
       "                                                          count_scaled    rank  \n",
       "tracks_id              tracks                                                   \n",
       "2xLMifQCjDGFmkHkpNLD9h SICKO MODE                                 1.00    1.00  \n",
       "2G7V7zsVDxg1yRsu7Ew9RJ In My Feelings                             0.90    2.00  \n",
       "45Egmo7icyopuzJN0oMEdk Love Lies (with Normani)                   0.86    3.00  \n",
       "3ee8Jmje8o58CHK66QrVC2 SAD!                                       0.84    4.00  \n",
       "10Igtw8bSDyyFs7KIsKngZ Freaky Friday (feat. Chris Brown)          0.83    5.00  \n",
       "...                                                                ...     ...  \n",
       "6K8qKeWo5MsFED7wCR6Kop Sing                                       0.00 6479.50  \n",
       "6KBYk8OFtod7brGuZ3Y67q Misery                                     0.00 6479.50  \n",
       "2iuZJX9X9P0GKaE93xcPjk Sugar                                      0.00 6479.50  \n",
       "4cluDES4hQEUhmXj6TXkSo What Makes You Beautiful                   0.00 6479.50  \n",
       "1CfysrFGAItkEGBZwaidl1 SouthBoys                                  0.00 6479.50  \n",
       "\n",
       "[6522 rows x 4 columns]"
      ]
     },
     "execution_count": 21,
     "metadata": {},
     "output_type": "execute_result"
    }
   ],
   "source": [
    "tracks_rank = df_track.groupby(['tracks_id','tracks']).agg(\n",
    "    popularity=('popularity','max'),\n",
    "    tracks_count=('tracks_id','count')\n",
    "    )\n",
    "\n",
    "min_max = MinMaxScaler()\n",
    "tracks_rank['count_scaled'] = min_max.fit_transform(tracks_rank[[\"tracks_count\"]])\n",
    "\n",
    "tracks_rank[\"rank\"] = tracks_rank['tracks_count'].rank(method='average',ascending=False)\n",
    "\n",
    "tracks_rank = tracks_rank.sort_values('tracks_count',ascending=False)\n",
    "\n",
    "tracks_rank"
   ]
  },
  {
   "cell_type": "code",
   "execution_count": 22,
   "id": "3ea81952",
   "metadata": {
    "ExecuteTime": {
     "end_time": "2021-10-23T18:00:51.469656Z",
     "start_time": "2021-10-23T18:00:51.346985Z"
    }
   },
   "outputs": [
    {
     "data": {
      "text/html": [
       "<div>\n",
       "<style scoped>\n",
       "    .dataframe tbody tr th:only-of-type {\n",
       "        vertical-align: middle;\n",
       "    }\n",
       "\n",
       "    .dataframe tbody tr th {\n",
       "        vertical-align: top;\n",
       "    }\n",
       "\n",
       "    .dataframe thead th {\n",
       "        text-align: right;\n",
       "    }\n",
       "</style>\n",
       "<table border=\"1\" class=\"dataframe\">\n",
       "  <thead>\n",
       "    <tr style=\"text-align: right;\">\n",
       "      <th></th>\n",
       "      <th></th>\n",
       "      <th>album_count</th>\n",
       "      <th>count_scaled</th>\n",
       "      <th>rank</th>\n",
       "    </tr>\n",
       "    <tr>\n",
       "      <th>albums_id</th>\n",
       "      <th>albums</th>\n",
       "      <th></th>\n",
       "      <th></th>\n",
       "      <th></th>\n",
       "    </tr>\n",
       "  </thead>\n",
       "  <tbody>\n",
       "    <tr>\n",
       "      <th>1kS7q9KBO8X6xfGffRcYaH</th>\n",
       "      <th>A State Of Trance Year Mix 2018 (Mixed by Armin van Buuren)</th>\n",
       "      <td>11800</td>\n",
       "      <td>1.00</td>\n",
       "      <td>1.00</td>\n",
       "    </tr>\n",
       "    <tr>\n",
       "      <th>7fAZC9BKYwEqZsCc488QHl</th>\n",
       "      <th>A State Of Trance Year Mix 2016 (Mixed by Armin van Buuren)</th>\n",
       "      <td>1649</td>\n",
       "      <td>0.14</td>\n",
       "      <td>2.00</td>\n",
       "    </tr>\n",
       "    <tr>\n",
       "      <th>4HvKkLUMiYoQfqQ8wDGzJL</th>\n",
       "      <th>The United States of Russia</th>\n",
       "      <td>1620</td>\n",
       "      <td>0.14</td>\n",
       "      <td>3.00</td>\n",
       "    </tr>\n",
       "    <tr>\n",
       "      <th>66Rs4ct2c0Y6Ao9ICN7RhY</th>\n",
       "      <th>The Fresh Prince of Donair</th>\n",
       "      <td>810</td>\n",
       "      <td>0.07</td>\n",
       "      <td>4.00</td>\n",
       "    </tr>\n",
       "    <tr>\n",
       "      <th>4gTOSlnyuvjaN5D7S7NfdD</th>\n",
       "      <th>Ok</th>\n",
       "      <td>675</td>\n",
       "      <td>0.06</td>\n",
       "      <td>5.00</td>\n",
       "    </tr>\n",
       "    <tr>\n",
       "      <th>...</th>\n",
       "      <th>...</th>\n",
       "      <td>...</td>\n",
       "      <td>...</td>\n",
       "      <td>...</td>\n",
       "    </tr>\n",
       "    <tr>\n",
       "      <th>1yx0lKqG8Z1J3IOxx4gbzs</th>\n",
       "      <th>Nina</th>\n",
       "      <td>1</td>\n",
       "      <td>0.00</td>\n",
       "      <td>4953.50</td>\n",
       "    </tr>\n",
       "    <tr>\n",
       "      <th>1W9toxqtPfieKk6cft0f7R</th>\n",
       "      <th>Streets Of Gold</th>\n",
       "      <td>1</td>\n",
       "      <td>0.00</td>\n",
       "      <td>4953.50</td>\n",
       "    </tr>\n",
       "    <tr>\n",
       "      <th>1hwjIPHrnNBFuxWBWRHmge</th>\n",
       "      <th>'Di Na Muli</th>\n",
       "      <td>1</td>\n",
       "      <td>0.00</td>\n",
       "      <td>4953.50</td>\n",
       "    </tr>\n",
       "    <tr>\n",
       "      <th>3iYp6l0qLDkLOpAxuTs2Jb</th>\n",
       "      <th>A Love To Last A Lifetime</th>\n",
       "      <td>1</td>\n",
       "      <td>0.00</td>\n",
       "      <td>4953.50</td>\n",
       "    </tr>\n",
       "    <tr>\n",
       "      <th>29blfJv8AddJrjuG3DpE13</th>\n",
       "      <th>Kiss (Deluxe)</th>\n",
       "      <td>1</td>\n",
       "      <td>0.00</td>\n",
       "      <td>4953.50</td>\n",
       "    </tr>\n",
       "  </tbody>\n",
       "</table>\n",
       "<p>4981 rows × 3 columns</p>\n",
       "</div>"
      ],
      "text/plain": [
       "                                                                           album_count  \\\n",
       "albums_id              albums                                                            \n",
       "1kS7q9KBO8X6xfGffRcYaH A State Of Trance Year Mix 2018 (Mixed by Armin...        11800   \n",
       "7fAZC9BKYwEqZsCc488QHl A State Of Trance Year Mix 2016 (Mixed by Armin...         1649   \n",
       "4HvKkLUMiYoQfqQ8wDGzJL The United States of Russia                                1620   \n",
       "66Rs4ct2c0Y6Ao9ICN7RhY The Fresh Prince of Donair                                  810   \n",
       "4gTOSlnyuvjaN5D7S7NfdD Ok                                                          675   \n",
       "...                                                                                ...   \n",
       "1yx0lKqG8Z1J3IOxx4gbzs Nina                                                          1   \n",
       "1W9toxqtPfieKk6cft0f7R Streets Of Gold                                               1   \n",
       "1hwjIPHrnNBFuxWBWRHmge 'Di Na Muli                                                   1   \n",
       "3iYp6l0qLDkLOpAxuTs2Jb A Love To Last A Lifetime                                     1   \n",
       "29blfJv8AddJrjuG3DpE13 Kiss (Deluxe)                                                 1   \n",
       "\n",
       "                                                                           count_scaled  \\\n",
       "albums_id              albums                                                             \n",
       "1kS7q9KBO8X6xfGffRcYaH A State Of Trance Year Mix 2018 (Mixed by Armin...          1.00   \n",
       "7fAZC9BKYwEqZsCc488QHl A State Of Trance Year Mix 2016 (Mixed by Armin...          0.14   \n",
       "4HvKkLUMiYoQfqQ8wDGzJL The United States of Russia                                 0.14   \n",
       "66Rs4ct2c0Y6Ao9ICN7RhY The Fresh Prince of Donair                                  0.07   \n",
       "4gTOSlnyuvjaN5D7S7NfdD Ok                                                          0.06   \n",
       "...                                                                                 ...   \n",
       "1yx0lKqG8Z1J3IOxx4gbzs Nina                                                        0.00   \n",
       "1W9toxqtPfieKk6cft0f7R Streets Of Gold                                             0.00   \n",
       "1hwjIPHrnNBFuxWBWRHmge 'Di Na Muli                                                 0.00   \n",
       "3iYp6l0qLDkLOpAxuTs2Jb A Love To Last A Lifetime                                   0.00   \n",
       "29blfJv8AddJrjuG3DpE13 Kiss (Deluxe)                                               0.00   \n",
       "\n",
       "                                                                             rank  \n",
       "albums_id              albums                                                      \n",
       "1kS7q9KBO8X6xfGffRcYaH A State Of Trance Year Mix 2018 (Mixed by Armin...    1.00  \n",
       "7fAZC9BKYwEqZsCc488QHl A State Of Trance Year Mix 2016 (Mixed by Armin...    2.00  \n",
       "4HvKkLUMiYoQfqQ8wDGzJL The United States of Russia                           3.00  \n",
       "66Rs4ct2c0Y6Ao9ICN7RhY The Fresh Prince of Donair                            4.00  \n",
       "4gTOSlnyuvjaN5D7S7NfdD Ok                                                    5.00  \n",
       "...                                                                           ...  \n",
       "1yx0lKqG8Z1J3IOxx4gbzs Nina                                               4953.50  \n",
       "1W9toxqtPfieKk6cft0f7R Streets Of Gold                                    4953.50  \n",
       "1hwjIPHrnNBFuxWBWRHmge 'Di Na Muli                                        4953.50  \n",
       "3iYp6l0qLDkLOpAxuTs2Jb A Love To Last A Lifetime                          4953.50  \n",
       "29blfJv8AddJrjuG3DpE13 Kiss (Deluxe)                                      4953.50  \n",
       "\n",
       "[4981 rows x 3 columns]"
      ]
     },
     "execution_count": 22,
     "metadata": {},
     "output_type": "execute_result"
    }
   ],
   "source": [
    "album_rank = df_album.groupby(['albums_id','albums']).agg(album_count=('albums_id','count'))\n",
    "\n",
    "min_max = MinMaxScaler()\n",
    "album_rank['count_scaled'] = min_max.fit_transform(album_rank[[\"album_count\"]])\n",
    "\n",
    "album_rank[\"rank\"] = album_rank['album_count'].rank(method='average',ascending=False)\n",
    "\n",
    "album_rank = album_rank.sort_values('album_count',ascending=False)\n",
    "\n",
    "album_rank"
   ]
  },
  {
   "cell_type": "code",
   "execution_count": 23,
   "id": "0a2cfd57",
   "metadata": {
    "ExecuteTime": {
     "end_time": "2021-10-23T18:00:51.596317Z",
     "start_time": "2021-10-23T18:00:51.471652Z"
    }
   },
   "outputs": [
    {
     "data": {
      "text/html": [
       "<div>\n",
       "<style scoped>\n",
       "    .dataframe tbody tr th:only-of-type {\n",
       "        vertical-align: middle;\n",
       "    }\n",
       "\n",
       "    .dataframe tbody tr th {\n",
       "        vertical-align: top;\n",
       "    }\n",
       "\n",
       "    .dataframe thead th {\n",
       "        text-align: right;\n",
       "    }\n",
       "</style>\n",
       "<table border=\"1\" class=\"dataframe\">\n",
       "  <thead>\n",
       "    <tr style=\"text-align: right;\">\n",
       "      <th></th>\n",
       "      <th></th>\n",
       "      <th>artist_count</th>\n",
       "      <th>count_scaled</th>\n",
       "      <th>rank</th>\n",
       "    </tr>\n",
       "    <tr>\n",
       "      <th>artists_id</th>\n",
       "      <th>artists</th>\n",
       "      <th></th>\n",
       "      <th></th>\n",
       "      <th></th>\n",
       "    </tr>\n",
       "  </thead>\n",
       "  <tbody>\n",
       "    <tr>\n",
       "      <th>0SfsnGyD8FpIN4U4WCkBZ5</th>\n",
       "      <th>Armin van Buuren</th>\n",
       "      <td>13691</td>\n",
       "      <td>1.00</td>\n",
       "      <td>1.00</td>\n",
       "    </tr>\n",
       "    <tr>\n",
       "      <th>0LyfQWJT6nXafLPZqxe9Of</th>\n",
       "      <th>Various Artists</th>\n",
       "      <td>9129</td>\n",
       "      <td>0.67</td>\n",
       "      <td>2.00</td>\n",
       "    </tr>\n",
       "    <tr>\n",
       "      <th>3Nrfpe0tUJi4K4DXYWgMUX</th>\n",
       "      <th>BTS</th>\n",
       "      <td>1884</td>\n",
       "      <td>0.14</td>\n",
       "      <td>3.00</td>\n",
       "    </tr>\n",
       "    <tr>\n",
       "      <th>39Bn2Hd2sBOQBFRR3jIzEV</th>\n",
       "      <th>Ben Rosenfeld</th>\n",
       "      <td>1620</td>\n",
       "      <td>0.12</td>\n",
       "      <td>4.00</td>\n",
       "    </tr>\n",
       "    <tr>\n",
       "      <th>4VMYDCV2IEDYJArk749S6m</th>\n",
       "      <th>Daddy Yankee</th>\n",
       "      <td>1331</td>\n",
       "      <td>0.10</td>\n",
       "      <td>5.00</td>\n",
       "    </tr>\n",
       "    <tr>\n",
       "      <th>...</th>\n",
       "      <th>...</th>\n",
       "      <td>...</td>\n",
       "      <td>...</td>\n",
       "      <td>...</td>\n",
       "    </tr>\n",
       "    <tr>\n",
       "      <th>3wbCeEPAW6po7J46netxMT</th>\n",
       "      <th>Up Dharma Down</th>\n",
       "      <td>1</td>\n",
       "      <td>0.00</td>\n",
       "      <td>3073.50</td>\n",
       "    </tr>\n",
       "    <tr>\n",
       "      <th>2U5mF0PZqGu6glnz55yY0y</th>\n",
       "      <th>John Roa</th>\n",
       "      <td>1</td>\n",
       "      <td>0.00</td>\n",
       "      <td>3073.50</td>\n",
       "    </tr>\n",
       "    <tr>\n",
       "      <th>0kkxsdcaWmWU2yWAqclDh4</th>\n",
       "      <th>Rixton</th>\n",
       "      <td>1</td>\n",
       "      <td>0.00</td>\n",
       "      <td>3073.50</td>\n",
       "    </tr>\n",
       "    <tr>\n",
       "      <th>6jTnHxhb6cDCaCu4rdvsQ0</th>\n",
       "      <th>Hot Chelle Rae</th>\n",
       "      <td>1</td>\n",
       "      <td>0.00</td>\n",
       "      <td>3073.50</td>\n",
       "    </tr>\n",
       "    <tr>\n",
       "      <th>4TH4BHy0LdBi3dpBW4P2UX</th>\n",
       "      <th>R. City</th>\n",
       "      <td>1</td>\n",
       "      <td>0.00</td>\n",
       "      <td>3073.50</td>\n",
       "    </tr>\n",
       "  </tbody>\n",
       "</table>\n",
       "<p>3085 rows × 3 columns</p>\n",
       "</div>"
      ],
      "text/plain": [
       "                                         artist_count  count_scaled    rank\n",
       "artists_id             artists                                             \n",
       "0SfsnGyD8FpIN4U4WCkBZ5 Armin van Buuren         13691          1.00    1.00\n",
       "0LyfQWJT6nXafLPZqxe9Of Various Artists           9129          0.67    2.00\n",
       "3Nrfpe0tUJi4K4DXYWgMUX BTS                       1884          0.14    3.00\n",
       "39Bn2Hd2sBOQBFRR3jIzEV Ben Rosenfeld             1620          0.12    4.00\n",
       "4VMYDCV2IEDYJArk749S6m Daddy Yankee              1331          0.10    5.00\n",
       "...                                               ...           ...     ...\n",
       "3wbCeEPAW6po7J46netxMT Up Dharma Down               1          0.00 3073.50\n",
       "2U5mF0PZqGu6glnz55yY0y John Roa                     1          0.00 3073.50\n",
       "0kkxsdcaWmWU2yWAqclDh4 Rixton                       1          0.00 3073.50\n",
       "6jTnHxhb6cDCaCu4rdvsQ0 Hot Chelle Rae               1          0.00 3073.50\n",
       "4TH4BHy0LdBi3dpBW4P2UX R. City                      1          0.00 3073.50\n",
       "\n",
       "[3085 rows x 3 columns]"
      ]
     },
     "execution_count": 23,
     "metadata": {},
     "output_type": "execute_result"
    }
   ],
   "source": [
    "df_artist.head\n",
    "artist_rank = df_artist.groupby(['artists_id','artists']).agg(artist_count=('artists_id','count'))\n",
    "\n",
    "min_max = MinMaxScaler()\n",
    "artist_rank['count_scaled'] = min_max.fit_transform(artist_rank[[\"artist_count\"]])\n",
    "\n",
    "artist_rank[\"rank\"] = artist_rank['artist_count'].rank(method='average',ascending=False)\n",
    "\n",
    "artist_rank = artist_rank.sort_values('artist_count',ascending=False)\n",
    "\n",
    "artist_rank"
   ]
  },
  {
   "cell_type": "code",
   "execution_count": 24,
   "id": "ddaa6997",
   "metadata": {
    "ExecuteTime": {
     "end_time": "2021-10-23T18:00:51.612281Z",
     "start_time": "2021-10-23T18:00:51.598313Z"
    }
   },
   "outputs": [],
   "source": [
    "# for key, item in df_test.items():\n",
    "#     print(key)\n",
    "#     if key == 'tracks_id':\n",
    "#         print(item)"
   ]
  },
  {
   "cell_type": "code",
   "execution_count": 25,
   "id": "43cd28aa",
   "metadata": {
    "ExecuteTime": {
     "end_time": "2021-10-23T18:00:51.627235Z",
     "start_time": "2021-10-23T18:00:51.618259Z"
    }
   },
   "outputs": [],
   "source": [
    "# # Define count_entries()\n",
    "# def count_entries(csv_file,c_size,colname):\n",
    "#     \"\"\"Return a dictionary with counts of\n",
    "#     occurrences as value for each key.\"\"\"\n",
    "    \n",
    "#     # Initialize an empty dictionary: counts_dict\n",
    "#     counts_dict = {}\n",
    "\n",
    "#     # Iterate over the file chunk by chunk\n",
    "#     for chunk in pd.read_csv(csv_file,chunksize=c_size):\n",
    "\n",
    "#         # Iterate over the column in DataFrame\n",
    "#         for entry in chunk[colname]:\n",
    "#             if entry in counts_dict.keys():\n",
    "#                 counts_dict[entry] += 1\n",
    "#             else:\n",
    "#                 counts_dict[entry] = 1\n",
    "\n",
    "#     # Return counts_dict\n",
    "#     return counts_dict\n",
    "\n",
    "# # Call count_entries(): result_counts\n",
    "# result_counts = count_entries('tweets.csv',10,'lang')\n",
    "\n",
    "# # Print result_counts\n",
    "# print(result_counts)\n"
   ]
  }
 ],
 "metadata": {
  "hide_input": false,
  "kernelspec": {
   "display_name": "Python 3",
   "language": "python",
   "name": "python3"
  },
  "language_info": {
   "codemirror_mode": {
    "name": "ipython",
    "version": 3
   },
   "file_extension": ".py",
   "mimetype": "text/x-python",
   "name": "python",
   "nbconvert_exporter": "python",
   "pygments_lexer": "ipython3",
   "version": "3.8.10"
  },
  "toc": {
   "base_numbering": 1,
   "nav_menu": {},
   "number_sections": true,
   "sideBar": true,
   "skip_h1_title": false,
   "title_cell": "Table of Contents",
   "title_sidebar": "Contents",
   "toc_cell": false,
   "toc_position": {},
   "toc_section_display": true,
   "toc_window_display": false
  },
  "varInspector": {
   "cols": {
    "lenName": 16,
    "lenType": 16,
    "lenVar": 40
   },
   "kernels_config": {
    "python": {
     "delete_cmd_postfix": "",
     "delete_cmd_prefix": "del ",
     "library": "var_list.py",
     "varRefreshCmd": "print(var_dic_list())"
    },
    "r": {
     "delete_cmd_postfix": ") ",
     "delete_cmd_prefix": "rm(",
     "library": "var_list.r",
     "varRefreshCmd": "cat(var_dic_list()) "
    }
   },
   "types_to_exclude": [
    "module",
    "function",
    "builtin_function_or_method",
    "instance",
    "_Feature"
   ],
   "window_display": false
  }
 },
 "nbformat": 4,
 "nbformat_minor": 5
}
