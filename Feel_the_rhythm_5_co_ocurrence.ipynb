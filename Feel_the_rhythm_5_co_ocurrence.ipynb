{
 "cells": [
  {
   "cell_type": "code",
   "execution_count": 1,
   "id": "6de699c6",
   "metadata": {
    "ExecuteTime": {
     "end_time": "2022-05-14T16:36:28.467342Z",
     "start_time": "2022-05-14T16:36:25.902103Z"
    }
   },
   "outputs": [],
   "source": [
    "# import cProfile\n",
    "import collections\n",
    "import datetime\n",
    "import math\n",
    "\n",
    "import os\n",
    "# import sys\n",
    "import time\n",
    "\n",
    "import numpy as np\n",
    "import pandas as pd\n",
    "from scipy.sparse import csr_matrix\n",
    "\n",
    "import pickle\n",
    "\n",
    "import matplotlib.pyplot as plt\n",
    "import seaborn as sns\n",
    "\n",
    "from sklearn.preprocessing import MinMaxScaler\n",
    "# from sklearn.preprocessing import scale, StandardScaler, MinMaxScaler, RobustScaler\n",
    "\n",
    "import random\n",
    "\n",
    "import gc\n",
    "\n",
    "pd.options.display.float_format = \"{:.2f}\".format\n",
    "# plt.rcParams.update({'font.size': 18})\n",
    "format = '%d/%m/%Y %H:%M'"
   ]
  },
  {
   "cell_type": "markdown",
   "id": "9ef48a7a",
   "metadata": {},
   "source": [
    "# Load data"
   ]
  },
  {
   "cell_type": "markdown",
   "id": "c614bb88",
   "metadata": {},
   "source": [
    "Load all data required."
   ]
  },
  {
   "cell_type": "code",
   "execution_count": 2,
   "id": "58b47e8d",
   "metadata": {
    "ExecuteTime": {
     "end_time": "2022-05-14T16:36:28.482980Z",
     "start_time": "2022-05-14T16:36:28.473993Z"
    }
   },
   "outputs": [],
   "source": [
    "def load_file(data_path, msg):\n",
    "    if msg != '':\n",
    "        txt = msg + ' - ' + data_path\n",
    "    else:\n",
    "        txt = data_path\n",
    "\n",
    "    if os.path.exists(data_path):\n",
    "        print('Loaded: ' + txt)\n",
    "        with open(data_path, 'rb') as f:\n",
    "            file_loaded = pickle.load(f)\n",
    "        return file_loaded\n",
    "    else:\n",
    "        print('File not found: ' + txt)"
   ]
  },
  {
   "cell_type": "code",
   "execution_count": 3,
   "id": "705d70c5",
   "metadata": {
    "ExecuteTime": {
     "end_time": "2022-05-14T16:36:31.133565Z",
     "start_time": "2022-05-14T16:36:28.486187Z"
    }
   },
   "outputs": [
    {
     "name": "stdout",
     "output_type": "stream",
     "text": [
      "Loaded: Playlists dictionary (training) - C:\\Users\\map_f\\OneDrive\\Documents\\GitHub\\Follow_the_beat\\data\\processed\\3_playlists_dict_train.pkl\n",
      "Loaded: Playlists dictionary (test) - C:\\Users\\map_f\\OneDrive\\Documents\\GitHub\\Follow_the_beat\\data\\processed\\3_playlists_dict_test.pkl\n",
      "Playlist - training set: 1243\n",
      "Playlist - test set: 533\n",
      "\n",
      "Loaded: Tracks dictionary (training) - C:\\Users\\map_f\\OneDrive\\Documents\\GitHub\\Follow_the_beat\\data\\processed\\4_tracks_dict_train.pkl\n",
      "Loaded: Tracks dictionary (test) - C:\\Users\\map_f\\OneDrive\\Documents\\GitHub\\Follow_the_beat\\data\\processed\\4_tracks_dict_test.pkl\n",
      "Tracks - training set: 63699\n",
      "Tracks - test set: 31183\n",
      "\n",
      "Loaded: Artist dictionary (training) - C:\\Users\\map_f\\OneDrive\\Documents\\GitHub\\Follow_the_beat\\data\\processed\\5_artists_dict_train.pkl\n",
      "Loaded: Artist dictionary (test) - C:\\Users\\map_f\\OneDrive\\Documents\\GitHub\\Follow_the_beat\\data\\processed\\5_artists_dict_test.pkl\n",
      "Artist - training set: 22639\n",
      "Artist - test set: 12780\n",
      "\n",
      "Loaded: Albums dictionary (training) - C:\\Users\\map_f\\OneDrive\\Documents\\GitHub\\Follow_the_beat\\data\\processed\\6_albums_dict_train.pkl\n",
      "Loaded: Albums dictionary (test) - C:\\Users\\map_f\\OneDrive\\Documents\\GitHub\\Follow_the_beat\\data\\processed\\6_albums_dict_test.pkl\n",
      "Albums - training set: 46688\n",
      "Albums - test set: 24258\n",
      "\n"
     ]
    }
   ],
   "source": [
    "# Load all data\n",
    "\n",
    "playlists_train = load_file(\n",
    "    os.getcwd() + '\\\\data\\\\processed\\\\3_playlists_dict_train.pkl',\n",
    "    'Playlists dictionary (training)')\n",
    "playlists_test = load_file(\n",
    "    os.getcwd() + '\\\\data\\\\processed\\\\3_playlists_dict_test.pkl',\n",
    "    'Playlists dictionary (test)')\n",
    "print('Playlist - training set: ' + str(len(playlists_train)))\n",
    "print('Playlist - test set: ' + str(len(playlists_test)))\n",
    "print()\n",
    "\n",
    "tracks_dict_train = load_file(\n",
    "    os.getcwd() + '\\\\data\\\\processed\\\\4_tracks_dict_train.pkl',\n",
    "    'Tracks dictionary (training)')\n",
    "tracks_dict_test = load_file(\n",
    "    os.getcwd() + '\\\\data\\\\processed\\\\4_tracks_dict_test.pkl',\n",
    "    'Tracks dictionary (test)')\n",
    "print('Tracks - training set: ' + str(len(tracks_dict_train)))\n",
    "print('Tracks - test set: ' + str(len(tracks_dict_test)))\n",
    "print()\n",
    "\n",
    "artists_dict_train = load_file(\n",
    "    os.getcwd() + '\\\\data\\\\processed\\\\5_artists_dict_train.pkl',\n",
    "    'Artist dictionary (training)')\n",
    "artists_dict_test = load_file(\n",
    "    os.getcwd() + '\\\\data\\\\processed\\\\5_artists_dict_test.pkl',\n",
    "    'Artist dictionary (test)')\n",
    "print('Artist - training set: ' + str(len(artists_dict_train)))\n",
    "print('Artist - test set: ' + str(len(artists_dict_test)))\n",
    "print()\n",
    "\n",
    "albums_dict_train = load_file(\n",
    "    os.getcwd() + '\\\\data\\\\processed\\\\6_albums_dict_train.pkl',\n",
    "    'Albums dictionary (training)')\n",
    "albums_dict_test = load_file(\n",
    "    os.getcwd() + '\\\\data\\\\processed\\\\6_albums_dict_test.pkl',\n",
    "    'Albums dictionary (test)')\n",
    "print('Albums - training set: ' + str(len(albums_dict_train)))\n",
    "print('Albums - test set: ' + str(len(albums_dict_test)))\n",
    "print()"
   ]
  },
  {
   "cell_type": "code",
   "execution_count": 131,
   "id": "92baba1a",
   "metadata": {
    "ExecuteTime": {
     "end_time": "2022-05-14T18:12:19.064994Z",
     "start_time": "2022-05-14T18:12:18.732074Z"
    }
   },
   "outputs": [
    {
     "name": "stdout",
     "output_type": "stream",
     "text": [
      "Loaded: All tracks as a dictionary - C:\\Users\\map_f\\OneDrive\\Documents\\GitHub\\Follow_the_beat\\data\\processed\\4_tracks_dict.pkl\n",
      "85458\n"
     ]
    }
   ],
   "source": [
    "data_path = os.getcwd() + '\\\\data\\\\processed\\\\4_tracks_dict.pkl'\n",
    "txt = 'All tracks as a dictionary - ' + data_path\n",
    "\n",
    "if os.path.exists(data_path):\n",
    "    print('Loaded: ' + txt)\n",
    "    with open(data_path, 'rb') as f:\n",
    "        tracks_dict = pickle.load(f)\n",
    "else:\n",
    "#     print('File not found: ' + txt)\n",
    "    tracks_dict = dict_all_tracks(data_path,playlists_dict)\n",
    "\n",
    "print(len(tracks_dict))"
   ]
  },
  {
   "cell_type": "markdown",
   "id": "9531b371",
   "metadata": {},
   "source": [
    "##### Create data frames to perform analysis"
   ]
  },
  {
   "cell_type": "code",
   "execution_count": 4,
   "id": "3eea615e",
   "metadata": {
    "ExecuteTime": {
     "end_time": "2022-05-14T16:36:40.360959Z",
     "start_time": "2022-05-14T16:36:31.135562Z"
    }
   },
   "outputs": [
    {
     "name": "stdout",
     "output_type": "stream",
     "text": [
      "df_playlists_train: (4, 1243)\n",
      "df_playlists_test: (4, 533)\n",
      "df_tracks_train: (7, 63699)\n",
      "df_tracks_test: (7, 31183)\n",
      "df_artists_train: (3, 22639)\n",
      "df_artists_test: (3, 12780)\n",
      "df_albums_train: (4, 46688)\n",
      "df_albums_test: (4, 24258)\n"
     ]
    }
   ],
   "source": [
    "gc.collect()\n",
    "df_playlists_train = playlists_train.T\n",
    "print(\"df_playlists_train:\", df_playlists_train.shape)\n",
    "\n",
    "df_playlists_test = playlists_test.T\n",
    "print(\"df_playlists_test:\", df_playlists_test.shape)\n",
    "\n",
    "df_tracks_train = pd.DataFrame.from_dict(tracks_dict_train, orient='index')\n",
    "df_tracks_train = df_tracks_train.T\n",
    "print(\"df_tracks_train:\", df_tracks_train.shape)\n",
    "\n",
    "df_tracks_test = pd.DataFrame.from_dict(tracks_dict_test, orient='index')\n",
    "df_tracks_test = df_tracks_test.T\n",
    "print(\"df_tracks_test:\", df_tracks_test.shape)\n",
    "\n",
    "df_artists_train = pd.DataFrame.from_dict(artists_dict_train, orient='index')\n",
    "df_artists_train = df_artists_train.T\n",
    "print(\"df_artists_train:\", df_artists_train.shape)\n",
    "\n",
    "df_artists_test = pd.DataFrame.from_dict(artists_dict_test, orient='index')\n",
    "df_artists_test = df_artists_test.T\n",
    "print(\"df_artists_test:\", df_artists_test.shape)\n",
    "\n",
    "df_albums_train = pd.DataFrame.from_dict(albums_dict_train, orient='index')\n",
    "df_albums_train = df_albums_train.T\n",
    "print(\"df_albums_train:\", df_albums_train.shape)\n",
    "\n",
    "df_albums_test = pd.DataFrame.from_dict(albums_dict_test, orient='index')\n",
    "df_albums_test = df_albums_test.T\n",
    "print(\"df_albums_test:\", df_albums_test.shape)"
   ]
  },
  {
   "cell_type": "markdown",
   "id": "5271f0bd",
   "metadata": {},
   "source": [
    "# Co-occurrence matrix"
   ]
  },
  {
   "cell_type": "markdown",
   "id": "6147b809",
   "metadata": {},
   "source": [
    "## Tracks co-occurrence matrix"
   ]
  },
  {
   "cell_type": "code",
   "execution_count": 5,
   "id": "d3dc0998",
   "metadata": {
    "ExecuteTime": {
     "end_time": "2022-05-14T16:36:40.376590Z",
     "start_time": "2022-05-14T16:36:40.363962Z"
    }
   },
   "outputs": [],
   "source": [
    "def co_occurrence_matrix_tracks(playlists_dict, tracks_dict):\n",
    "    matrix = {}\n",
    "    for i, item in enumerate(tracks_dict):\n",
    "        tracks_matched = []\n",
    "        for j, playlist_id in enumerate(tracks_dict[item]['in_playlist']):\n",
    "            for tr, track in enumerate(playlists_dict[playlist_id]['tracks']):\n",
    "                tracks_matched.append(track['id'])\n",
    "        counter = collections.Counter(tracks_matched)\n",
    "        b = pd.DataFrame.from_dict(counter, orient='index', columns=['cnt'])\n",
    "        b = b.sort_values('cnt', ascending=False)\n",
    "\n",
    "        min_max = MinMaxScaler()\n",
    "        b['count_scaled'] = min_max.fit_transform(b[['cnt']])\n",
    "        b['rank'] = b['count_scaled'].rank(method='average', ascending=False)\n",
    "\n",
    "        matrix.update({item: b})\n",
    "    return (matrix)"
   ]
  },
  {
   "cell_type": "markdown",
   "id": "dba37002",
   "metadata": {},
   "source": [
    "## Artists co-occurrence matrix"
   ]
  },
  {
   "cell_type": "code",
   "execution_count": 6,
   "id": "12365288",
   "metadata": {
    "ExecuteTime": {
     "end_time": "2022-05-14T16:36:40.392330Z",
     "start_time": "2022-05-14T16:36:40.378375Z"
    }
   },
   "outputs": [],
   "source": [
    "def co_occurrence_matrix_artists(playlists_dict, artists_dict):\n",
    "    matrix = {}\n",
    "    for i, item in enumerate(artists_dict):\n",
    "        artist_matched = []\n",
    "        for j, playlist_id in enumerate(artists_dict[item]['in_playlist']):\n",
    "            for tr, track in enumerate(playlists_dict[playlist_id]['tracks']):\n",
    "                for a, artist in enumerate(track['artists']):\n",
    "                    artist_matched.append(artist['id'])\n",
    "        counter = collections.Counter(artist_matched)\n",
    "        b = pd.DataFrame.from_dict(counter, orient='index', columns=['cnt'])\n",
    "        b = b.sort_values('cnt', ascending=False)\n",
    "\n",
    "        min_max = MinMaxScaler()\n",
    "        b['count_scaled'] = min_max.fit_transform(b[['cnt']])\n",
    "        b['rank'] = b['count_scaled'].rank(method='average', ascending=False)\n",
    "\n",
    "        matrix.update({item: b})\n",
    "    return (matrix)"
   ]
  },
  {
   "cell_type": "markdown",
   "id": "c039515c",
   "metadata": {},
   "source": [
    "## Albums co-occurrence matrix"
   ]
  },
  {
   "cell_type": "code",
   "execution_count": 7,
   "id": "c856667f",
   "metadata": {
    "ExecuteTime": {
     "end_time": "2022-05-14T16:36:40.423250Z",
     "start_time": "2022-05-14T16:36:40.398314Z"
    }
   },
   "outputs": [],
   "source": [
    "def co_occurrence_matrix_albums(playlists_dict, albums_dict):\n",
    "    matrix = {}\n",
    "    for i, item in enumerate(albums_dict):\n",
    "        albums_matched = []\n",
    "        for j, playlist_id in enumerate(albums_dict[item]['in_playlist']):\n",
    "            for tr, track in enumerate(playlists_dict[playlist_id]['tracks']):\n",
    "                albums_matched.append(track['album']['id'])\n",
    "        counter = collections.Counter(albums_matched)\n",
    "        b = pd.DataFrame.from_dict(counter, orient='index', columns=['cnt'])\n",
    "        b = b.sort_values('cnt', ascending=False)\n",
    "\n",
    "        min_max = MinMaxScaler()\n",
    "        b['count_scaled'] = min_max.fit_transform(b[[\"cnt\"]])\n",
    "        b[\"rank\"] = b['count_scaled'].rank(method='average', ascending=False)\n",
    "\n",
    "        matrix.update({item: b})\n",
    "    return (matrix)"
   ]
  },
  {
   "cell_type": "markdown",
   "id": "f09e1bad",
   "metadata": {},
   "source": [
    "##  Create all co-ocurrence matrix"
   ]
  },
  {
   "cell_type": "code",
   "execution_count": 8,
   "id": "289f9da8",
   "metadata": {
    "ExecuteTime": {
     "end_time": "2022-05-14T16:36:40.438208Z",
     "start_time": "2022-05-14T16:36:40.426240Z"
    }
   },
   "outputs": [],
   "source": [
    "def co_ocurrence(playlist, df, data_path, txt):\n",
    "    # check if data extraction already exists then load if it exists, otherwise run query\n",
    "    if os.path.exists(data_path):\n",
    "        print('Co-occurrence ' + txt + ' - Loaded: ' + data_path)\n",
    "        # load file only if the next step was not executed (getting tracks)\n",
    "        with open(data_path, 'rb') as f:\n",
    "            co_occurrence = pickle.load(f)\n",
    "    else:\n",
    "        print('Co-occurrence ' + txt + ' - Saved: ' + data_path)\n",
    "        # list of all user ids (UID) and playlist ids (PID)\n",
    "        uid_pid_raw = []\n",
    "\n",
    "        if txt == 'tracks':\n",
    "            co_occurrence = co_occurrence_matrix_tracks(playlist, df)\n",
    "        elif txt == 'artists':\n",
    "            co_occurrence = co_occurrence_matrix_artists(playlist, df)\n",
    "        elif txt == 'albums':\n",
    "            co_occurrence = co_occurrence_matrix_albums(playlist, df)\n",
    "\n",
    "        # Save the data\n",
    "        with open(data_path, 'wb') as f:\n",
    "            pickle.dump(co_occurrence, f)\n",
    "\n",
    "    len(co_occurrence)\n",
    "    # co_occurrence_tracks['1MJ5f5EYBC92ADD6xcz7nb']\n",
    "    return co_occurrence"
   ]
  },
  {
   "cell_type": "code",
   "execution_count": 9,
   "id": "65bd1d88",
   "metadata": {
    "ExecuteTime": {
     "end_time": "2022-05-14T16:37:56.028675Z",
     "start_time": "2022-05-14T16:36:40.440203Z"
    }
   },
   "outputs": [
    {
     "name": "stdout",
     "output_type": "stream",
     "text": [
      "Co-occurrence tracks - Loaded: C:\\Users\\map_f\\OneDrive\\Documents\\GitHub\\Follow_the_beat\\data\\processed\\7_co_occurrence_tracks_train.pkl\n",
      "Co-occurrence artists - Loaded: C:\\Users\\map_f\\OneDrive\\Documents\\GitHub\\Follow_the_beat\\data\\processed\\7_co_occurrence_artists_train.pkl\n",
      "Co-occurrence albums - Loaded: C:\\Users\\map_f\\OneDrive\\Documents\\GitHub\\Follow_the_beat\\data\\processed\\7_co_occurrence_albums_train.pkl\n",
      "co_occurrence_tracks_train: 63699\n",
      "co_occurrence_artists_train: 22639\n",
      "co_occurrence_albums_train: 46688\n"
     ]
    }
   ],
   "source": [
    "gc.collect()\n",
    "\n",
    "co_occurrence_tracks_train = co_ocurrence(\n",
    "    df_playlists_train, df_tracks_train,\n",
    "    os.getcwd() + '\\\\data\\\\processed\\\\7_co_occurrence_tracks_train.pkl',\n",
    "    'tracks')\n",
    "# co_occurrence_tracks_test = co_ocurrence(\n",
    "#     df_playlists_test, df_tracks_test,\n",
    "#     os.getcwd() + '\\\\data\\\\processed\\\\7_co_occurrence_tracks_test.pkl',\n",
    "#     'tracks')\n",
    "\n",
    "co_occurrence_artists_train = co_ocurrence(\n",
    "    df_playlists_train, df_artists_train,\n",
    "    os.getcwd() + '\\\\data\\\\processed\\\\7_co_occurrence_artists_train.pkl',\n",
    "    'artists')\n",
    "# co_occurrence_artists_test = co_ocurrence(\n",
    "#     df_playlists_test, df_artists_test,\n",
    "#     os.getcwd() + '\\\\data\\\\processed\\\\7_co_occurrence_artists_test.pkl',\n",
    "#     'artists')\n",
    "\n",
    "co_occurrence_albums_train = co_ocurrence(\n",
    "    df_playlists_train, df_albums_train,\n",
    "    os.getcwd() + '\\\\data\\\\processed\\\\7_co_occurrence_albums_train.pkl',\n",
    "    'albums')\n",
    "# co_occurrence_albums_test = co_ocurrence(\n",
    "#     df_playlists_test, df_albums_test,\n",
    "#     os.getcwd() + '\\\\data\\\\processed\\\\7_co_occurrence_albums_test.pkl',\n",
    "#     'albums')\n",
    "\n",
    "print(\"co_occurrence_tracks_train:\", len(co_occurrence_tracks_train))\n",
    "# print(\"co_occurrence_tracks_test:\", len(co_occurrence_tracks_test))\n",
    "print(\"co_occurrence_artists_train:\", len(co_occurrence_artists_train))\n",
    "# print(\"co_occurrence_artists_test:\", len(co_occurrence_artists_test)\n",
    "print(\"co_occurrence_albums_train:\", len(co_occurrence_albums_train))\n",
    "# print(\"co_occurrence_albums_test:\", len(co_occurrence_albums_test))"
   ]
  },
  {
   "cell_type": "markdown",
   "id": "26a67f57",
   "metadata": {},
   "source": [
    "# Model"
   ]
  },
  {
   "cell_type": "code",
   "execution_count": 77,
   "id": "ed2ea1eb",
   "metadata": {
    "ExecuteTime": {
     "end_time": "2022-05-14T16:59:15.264708Z",
     "start_time": "2022-05-14T16:59:15.246788Z"
    }
   },
   "outputs": [],
   "source": [
    "def prepare_inputs(playlist_trx, trx_train, trx_test, fraction):\n",
    "    trx = playlist_trx.tracks\n",
    "    n = int((len(trx) + 1) * fraction)\n",
    "\n",
    "    ids = pd.DataFrame(trx).id  # ids of the original playlist\n",
    "    selected_ids = random.sample(ids.values.tolist(), n)\n",
    "\n",
    "    db = trx_train.T\n",
    "    trx_available = db[~db.id.isin(selected_ids)]\n",
    "\n",
    "    reference_trx = trx_test.T[trx_test.T.id.isin(selected_ids)]\n",
    "    expected_trx = trx_test.T[~trx_test.T.id.isin(selected_ids)\n",
    "                              & trx_test.T.id.isin(ids)]\n",
    "\n",
    "    return trx_available, reference_trx, expected_trx"
   ]
  },
  {
   "cell_type": "markdown",
   "id": "6f474740",
   "metadata": {},
   "source": [
    "## Random"
   ]
  },
  {
   "cell_type": "code",
   "execution_count": 11,
   "id": "37ae7041",
   "metadata": {
    "ExecuteTime": {
     "end_time": "2022-05-14T16:37:56.059709Z",
     "start_time": "2022-05-14T16:37:56.046433Z"
    },
    "run_control": {
     "marked": false
    }
   },
   "outputs": [],
   "source": [
    "def get_trk_rnd(playlist_trx, trx_train, trx_test, ref_fraction):\n",
    "    trx_available, reference_trx, expected_trx = prepare_inputs(playlist_trx, trx_train, trx_test, ref_fraction)\n",
    "        \n",
    "    select = random.sample(trx_available['id'].values.tolist(), len(expected_trx))\n",
    "    \n",
    "    selected_trx = trx_available[trx_available.id.isin(select)]\n",
    "\n",
    "    return reference_trx, expected_trx, selected_trx\n",
    "\n",
    "# reference_trx, expected_trx, selected_trx = get_trk_rnd(\n",
    "#     df_playlists_test['1h4bUPnrpgn8qXGJ5dvTsu'], df_tracks_train,\n",
    "#     df_tracks_test, .5)\n",
    "# print(len(reference_trx), len(expected_trx), len(selected_trx))\n",
    "# reference_trx, expected_trx, selected_trx"
   ]
  },
  {
   "cell_type": "markdown",
   "id": "cf894af3",
   "metadata": {},
   "source": [
    "## Stratified selection"
   ]
  },
  {
   "cell_type": "code",
   "execution_count": 12,
   "id": "ab7fc723",
   "metadata": {
    "ExecuteTime": {
     "end_time": "2022-05-14T16:37:56.074674Z",
     "start_time": "2022-05-14T16:37:56.062700Z"
    },
    "run_control": {
     "marked": false
    }
   },
   "outputs": [],
   "source": [
    "# Calculate the tracks frequency\n",
    "def define_trx_freq(db):\n",
    "    data_path = os.getcwd() + '\\\\data\\\\processed\\\\8_tracks_frequency.pkl'\n",
    "    txt = 'Tracks frequency - ' + data_path\n",
    "    if os.path.exists(data_path):\n",
    "        print('Loaded: ' + txt)\n",
    "        with open(data_path, 'rb') as f:\n",
    "            tracks_frequency = pickle.load(f)\n",
    "            return tracks_frequency\n",
    "    else:\n",
    "        tracks_frequency = pd.DataFrame(\n",
    "            columns=['track_id', 'cnt', 'cum_sum', 'cum_perc'])\n",
    "\n",
    "        for t, trk in enumerate(db):\n",
    "            if t % 100 == 0:\n",
    "                print(\"%s - %d/%d - LEN: %d\" %\n",
    "                      (datetime.datetime.now().strftime(format), t, len(db),\n",
    "                       len(tracks_frequency)))\n",
    "\n",
    "            df = db[trk]\n",
    "            df = df[df.index != trk]\n",
    "            tracks_frequency = tracks_frequency.append(\n",
    "                {\n",
    "                    'track_id': trk,\n",
    "                    'cnt': df['cnt'].sum()\n",
    "                }, ignore_index=True)\n",
    "\n",
    "        tracks_frequency = tracks_frequency.sort_values(ascending=False,\n",
    "                                                        by='cnt')\n",
    "        tracks_frequency['cum_sum'] = tracks_frequency['cnt'].cumsum()\n",
    "        tracks_frequency['cum_perc'] = 100 * tracks_frequency[\n",
    "            'cum_sum'] / tracks_frequency['cnt'].sum()\n",
    "\n",
    "        print('Saved: ' + txt)\n",
    "        with open(data_path, 'wb') as f:\n",
    "            pickle.dump(tracks_frequency, f)\n",
    "\n",
    "        return tracks_frequency"
   ]
  },
  {
   "cell_type": "code",
   "execution_count": 13,
   "id": "bb5ab1b6",
   "metadata": {
    "ExecuteTime": {
     "end_time": "2022-05-14T16:37:56.120792Z",
     "start_time": "2022-05-14T16:37:56.077668Z"
    },
    "run_control": {
     "marked": false
    },
    "scrolled": true
   },
   "outputs": [
    {
     "name": "stdout",
     "output_type": "stream",
     "text": [
      "Loaded: Tracks frequency - C:\\Users\\map_f\\OneDrive\\Documents\\GitHub\\Follow_the_beat\\data\\processed\\8_tracks_frequency.pkl\n",
      "63699\n"
     ]
    }
   ],
   "source": [
    "tracks_frequency = define_trx_freq(co_occurrence_tracks_train)\n",
    "print(len(tracks_frequency))"
   ]
  },
  {
   "cell_type": "code",
   "execution_count": 99,
   "id": "a93d862b",
   "metadata": {
    "ExecuteTime": {
     "end_time": "2022-05-14T17:55:58.422237Z",
     "start_time": "2022-05-14T17:55:58.404892Z"
    },
    "run_control": {
     "marked": false
    }
   },
   "outputs": [],
   "source": [
    "def get_trk_strata(playlist_trx, trx_train, trx_test, ref_fraction):\n",
    "    trx_available, reference_trx, expected_trx = prepare_inputs(playlist_trx, trx_train, trx_test, ref_fraction)\n",
    "    \n",
    "    trx_freq = tracks_frequency[tracks_frequency.track_id.isin(trx_available['id'])]\n",
    "    \n",
    "    select = trx_freq.drop(trx_freq.index)\n",
    "\n",
    "    while len(select) < len(expected_trx)*2:\n",
    "        rnd = random.uniform(0, 1)\n",
    "        for i, c in enumerate(trx_freq.cum_perc):\n",
    "            if rnd <= c:\n",
    "                select = select.append(trx_freq.iloc[i])\n",
    "                select = select.drop_duplicates()\n",
    "                break\n",
    "    \n",
    "    select = select[~select.track_id.isin(reference_trx['id'])]\n",
    "    select = select.reset_index()\n",
    "    select = select.iloc[0:len(expected_trx)]['track_id']\n",
    "    \n",
    "    selected_trx = trx_available[trx_available.id.isin(select)]\n",
    "    \n",
    "    return reference_trx, expected_trx, selected_trx\n",
    "\n",
    "# reference_trx, expected_trx, selected_trx = get_trk_strata(\n",
    "#     df_playlists_test['1h4bUPnrpgn8qXGJ5dvTsu'], df_tracks_train,\n",
    "#     df_tracks_test, .5)\n",
    "# print(len(reference_trx), len(expected_trx), len(selected_trx))\n",
    "# reference_trx, expected_trx, selected_trx"
   ]
  },
  {
   "cell_type": "markdown",
   "id": "5cc61f23",
   "metadata": {},
   "source": [
    "## Artist"
   ]
  },
  {
   "cell_type": "code",
   "execution_count": null,
   "id": "10018402",
   "metadata": {
    "run_control": {
     "marked": true
    }
   },
   "outputs": [],
   "source": [
    "# prepare_inputs_co_occur\n",
    "# def prepare_inputs_co_occur(playlist_trx, trx_train, trx_test, fraction):\n",
    "#     trx = playlist_trx.tracks\n",
    "#     n = int((len(trx) + 1) * fraction)\n",
    "\n",
    "#     ids = pd.DataFrame(trx).id  # ids of the original playlist\n",
    "#     selected_ids = random.sample(ids.values.tolist(), n)\n",
    "\n",
    "#     db = trx_train.T\n",
    "#     trx_available = db[~db.id.isin(selected_ids)]\n",
    "\n",
    "#     reference_trx = trx_test.T[trx_test.T.id.isin(selected_ids)]\n",
    "#     expected_trx = trx_test.T[~trx_test.T.id.isin(selected_ids)\n",
    "#                               & trx_test.T.id.isin(ids)]\n",
    "\n",
    "#     return trx_available, reference_trx, expected_trx"
   ]
  },
  {
   "cell_type": "code",
   "execution_count": 101,
   "id": "9731ee1d",
   "metadata": {
    "ExecuteTime": {
     "end_time": "2022-05-14T17:57:51.022689Z",
     "start_time": "2022-05-14T17:57:50.115821Z"
    },
    "code_folding": [],
    "run_control": {
     "marked": true
    }
   },
   "outputs": [
    {
     "name": "stdout",
     "output_type": "stream",
     "text": [
      "50 50 50\n"
     ]
    }
   ],
   "source": [
    "def get_trk_artist(playlist_trx, trx_train, trx_test, ref_fraction):\n",
    "    trx_available, reference_trx, expected_trx = prepare_inputs(playlist_trx, trx_train, trx_test, ref_fraction)\n",
    "    \n",
    "    trx_freq = tracks_frequency[tracks_frequency.track_id.isin(trx_available['id'])]\n",
    "    \n",
    "    select = trx_freq.drop(trx_freq.index)\n",
    "\n",
    "    ballot = \n",
    "    \n",
    "    \n",
    "    while len(select) < len(expected_trx)*2:\n",
    "        rnd = random.uniform(0, 1)\n",
    "        for i, c in enumerate(ballot.cum_perc):\n",
    "            if rnd <= c:\n",
    "                select = select.append(trx_freq.iloc[i])\n",
    "                select = select.drop_duplicates()\n",
    "                break\n",
    "    \n",
    "    select = select[~select.track_id.isin(reference_trx['id'])]\n",
    "    select = select.reset_index()\n",
    "    select = select.iloc[0:len(expected_trx)]['track_id']\n",
    "    \n",
    "    selected_trx = trx_available[trx_available.id.isin(select)]\n",
    "    \n",
    "    return reference_trx, expected_trx, selected_trx\n",
    "\n",
    "reference_trx, expected_trx, selected_trx = get_trk_artist(\n",
    "    df_playlists_test['1h4bUPnrpgn8qXGJ5dvTsu'], df_tracks_train,\n",
    "    df_tracks_test, .5)\n",
    "print(len(reference_trx), len(expected_trx), len(selected_trx))\n",
    "# reference_trx, expected_trx, selected_trx"
   ]
  },
  {
   "cell_type": "code",
   "execution_count": 102,
   "id": "a04cd1a0",
   "metadata": {
    "ExecuteTime": {
     "end_time": "2022-05-14T17:59:12.182651Z",
     "start_time": "2022-05-14T17:59:12.012034Z"
    },
    "run_control": {
     "marked": true
    }
   },
   "outputs": [
    {
     "data": {
      "text/plain": [
       "(63653, 50, 50)"
      ]
     },
     "execution_count": 102,
     "metadata": {},
     "output_type": "execute_result"
    }
   ],
   "source": [
    "trx_available, reference_trx, expected_trx = prepare_inputs(df_playlists_test['1h4bUPnrpgn8qXGJ5dvTsu'], df_tracks_train, df_tracks_test, .5)\n",
    "\n",
    "len(trx_available), len(reference_trx), len(expected_trx)\n",
    "\n",
    "# reference_trx, expected_trx, selected_trx = get_trk_strata(\n",
    "#             df_playlists_test['1h4bUPnrpgn8qXGJ5dvTsu'], df_tracks_train, df_tracks_test,\n",
    "#             .5)"
   ]
  },
  {
   "cell_type": "code",
   "execution_count": 103,
   "id": "2c134116",
   "metadata": {
    "ExecuteTime": {
     "end_time": "2022-05-14T17:59:22.578464Z",
     "start_time": "2022-05-14T17:59:22.428224Z"
    },
    "run_control": {
     "marked": true
    }
   },
   "outputs": [
    {
     "data": {
      "text/html": [
       "<div>\n",
       "<style scoped>\n",
       "    .dataframe tbody tr th:only-of-type {\n",
       "        vertical-align: middle;\n",
       "    }\n",
       "\n",
       "    .dataframe tbody tr th {\n",
       "        vertical-align: top;\n",
       "    }\n",
       "\n",
       "    .dataframe thead th {\n",
       "        text-align: right;\n",
       "    }\n",
       "</style>\n",
       "<table border=\"1\" class=\"dataframe\">\n",
       "  <thead>\n",
       "    <tr style=\"text-align: right;\">\n",
       "      <th></th>\n",
       "      <th>id</th>\n",
       "      <th>name</th>\n",
       "      <th>added_at</th>\n",
       "      <th>popularity</th>\n",
       "      <th>artists</th>\n",
       "      <th>album</th>\n",
       "      <th>in_playlist</th>\n",
       "    </tr>\n",
       "  </thead>\n",
       "  <tbody>\n",
       "    <tr>\n",
       "      <th>08bNPGLD8AhKpnnERrAc6G</th>\n",
       "      <td>08bNPGLD8AhKpnnERrAc6G</td>\n",
       "      <td>FRIENDS</td>\n",
       "      <td>2019-04-05T20:25:08Z</td>\n",
       "      <td>80</td>\n",
       "      <td>[{'id': '64KEffDW9EtZ1y2vBYgq8T', 'name': 'Mar...</td>\n",
       "      <td>{'id': '1BmxOYHjQv1dKZRr13YRZM', 'name': 'FRIE...</td>\n",
       "      <td>[1h4bUPnrpgn8qXGJ5dvTsu, 0qtzSPz2ZwC21sWdlEEos...</td>\n",
       "    </tr>\n",
       "    <tr>\n",
       "      <th>45Egmo7icyopuzJN0oMEdk</th>\n",
       "      <td>45Egmo7icyopuzJN0oMEdk</td>\n",
       "      <td>Love Lies (with Normani)</td>\n",
       "      <td>2020-05-02T23:01:55Z</td>\n",
       "      <td>76</td>\n",
       "      <td>[{'id': '6LuN9FCkKOj5PcnpouEgny', 'name': 'Kha...</td>\n",
       "      <td>{'id': '4CEAev7neETRdqBFtzA8B9', 'name': 'Love...</td>\n",
       "      <td>[1h4bUPnrpgn8qXGJ5dvTsu, 4UJ9uTJatHD4isU6JjC9B...</td>\n",
       "    </tr>\n",
       "    <tr>\n",
       "      <th>3ee8Jmje8o58CHK66QrVC2</th>\n",
       "      <td>3ee8Jmje8o58CHK66QrVC2</td>\n",
       "      <td>SAD!</td>\n",
       "      <td>2021-11-17T08:06:33Z</td>\n",
       "      <td>86</td>\n",
       "      <td>[{'id': '15UsOTVnJzReFVN1VCnxy4', 'name': 'XXX...</td>\n",
       "      <td>{'id': '2Ti79nwTsont5ZHfdxIzAm', 'name': '?', ...</td>\n",
       "      <td>[1h4bUPnrpgn8qXGJ5dvTsu, 5MLvN0gvJ4CfJxcNFRIkR...</td>\n",
       "    </tr>\n",
       "    <tr>\n",
       "      <th>3Vo4wInECJQuz9BIBMOu8i</th>\n",
       "      <td>3Vo4wInECJQuz9BIBMOu8i</td>\n",
       "      <td>Finesse - Remix; feat. Cardi B</td>\n",
       "      <td>2018-08-01T18:12:24Z</td>\n",
       "      <td>75</td>\n",
       "      <td>[{'id': '0du5cEVh5yTK9QJze8zA0C', 'name': 'Bru...</td>\n",
       "      <td>{'id': '3mumK2ar9b4JPhVOZR0V2p', 'name': 'Fine...</td>\n",
       "      <td>[1h4bUPnrpgn8qXGJ5dvTsu, 4jhz41YA4LCLAzWXFX15k...</td>\n",
       "    </tr>\n",
       "    <tr>\n",
       "      <th>7dt6x5M1jzdTEt8oCbisTK</th>\n",
       "      <td>7dt6x5M1jzdTEt8oCbisTK</td>\n",
       "      <td>Better Now</td>\n",
       "      <td>2021-08-24T19:59:57Z</td>\n",
       "      <td>82</td>\n",
       "      <td>[{'id': '246dkjvS1zLTtiykXe5h60', 'name': 'Pos...</td>\n",
       "      <td>{'id': '6trNtQUgC8cgbWcqoMYkOR', 'name': 'beer...</td>\n",
       "      <td>[1h4bUPnrpgn8qXGJ5dvTsu, 4UJ9uTJatHD4isU6JjC9B...</td>\n",
       "    </tr>\n",
       "    <tr>\n",
       "      <th>3NLnwwAQbbFKcEcV8hDItk</th>\n",
       "      <td>3NLnwwAQbbFKcEcV8hDItk</td>\n",
       "      <td>Perfect</td>\n",
       "      <td>2021-03-15T18:33:04Z</td>\n",
       "      <td>78</td>\n",
       "      <td>[{'id': '4AK6F7OLvEQ5QYCBNiQWHq', 'name': 'One...</td>\n",
       "      <td>{'id': '1gMxiQQSg5zeu4htBosASY', 'name': 'Made...</td>\n",
       "      <td>[1h4bUPnrpgn8qXGJ5dvTsu, 6ZN6dlzC9EMlveIhG7N9B...</td>\n",
       "    </tr>\n",
       "    <tr>\n",
       "      <th>6DCZcSspjsKoFjzjrWoCdn</th>\n",
       "      <td>6DCZcSspjsKoFjzjrWoCdn</td>\n",
       "      <td>God's Plan</td>\n",
       "      <td>2021-02-07T16:49:10Z</td>\n",
       "      <td>83</td>\n",
       "      <td>[{'id': '3TVXtAsR1Inumwj472S9r4', 'name': 'Dra...</td>\n",
       "      <td>{'id': '1ATL5GLyefJaxhQzSPVrLX', 'name': 'Scor...</td>\n",
       "      <td>[1h4bUPnrpgn8qXGJ5dvTsu, 6ELUs1QqubzhS8WtZfe55...</td>\n",
       "    </tr>\n",
       "    <tr>\n",
       "      <th>3Q3myFA7q4Op95DOpHplaY</th>\n",
       "      <td>3Q3myFA7q4Op95DOpHplaY</td>\n",
       "      <td>do re mi</td>\n",
       "      <td>2020-09-22T19:50:17Z</td>\n",
       "      <td>43</td>\n",
       "      <td>[{'id': '2cFrymmkijnjDg9SS92EPM', 'name': 'bla...</td>\n",
       "      <td>{'id': '30QoUTsSdpQuZunPNFsLnm', 'name': 'digi...</td>\n",
       "      <td>[1h4bUPnrpgn8qXGJ5dvTsu, 2rMSK78e2ck6Z3R6SCMxaY]</td>\n",
       "    </tr>\n",
       "    <tr>\n",
       "      <th>1rfofaqEpACxVEHIZBJe6W</th>\n",
       "      <td>1rfofaqEpACxVEHIZBJe6W</td>\n",
       "      <td>Havana (feat. Young Thug)</td>\n",
       "      <td>2021-11-12T08:58:07Z</td>\n",
       "      <td>82</td>\n",
       "      <td>[{'id': '4nDoRrQiYLoBzwC5BhVJzF', 'name': 'Cam...</td>\n",
       "      <td>{'id': '2vD3zSQr8hNlg0obNel4TE', 'name': 'Cami...</td>\n",
       "      <td>[1h4bUPnrpgn8qXGJ5dvTsu, 1Lzr0Hx5uXKs9R9WRzME2...</td>\n",
       "    </tr>\n",
       "    <tr>\n",
       "      <th>1UZOjK1BwmwWU14Erba9CZ</th>\n",
       "      <td>1UZOjK1BwmwWU14Erba9CZ</td>\n",
       "      <td>Malibu</td>\n",
       "      <td>2019-01-16T15:28:04Z</td>\n",
       "      <td>75</td>\n",
       "      <td>[{'id': '5YGY8feqx7naU7z4HrwZM6', 'name': 'Mil...</td>\n",
       "      <td>{'id': '5xG9gJcs9ut3qDWezHUlsX', 'name': 'Youn...</td>\n",
       "      <td>[1h4bUPnrpgn8qXGJ5dvTsu, 4OwLvyFX0jlmRZNBhJ8X2P]</td>\n",
       "    </tr>\n",
       "    <tr>\n",
       "      <th>5Ohxk2dO5COHF1krpoPigN</th>\n",
       "      <td>5Ohxk2dO5COHF1krpoPigN</td>\n",
       "      <td>Sign of the Times</td>\n",
       "      <td>2021-02-26T07:03:12Z</td>\n",
       "      <td>83</td>\n",
       "      <td>[{'id': '6KImCVD70vtIoJWnq6nGn3', 'name': 'Har...</td>\n",
       "      <td>{'id': '1FZKIm3JVDCxTchXDo5jOV', 'name': 'Harr...</td>\n",
       "      <td>[1h4bUPnrpgn8qXGJ5dvTsu, 289LoXllsFvxjHuBVTvYa...</td>\n",
       "    </tr>\n",
       "    <tr>\n",
       "      <th>1f5cbQtDrykjarZVrShaDI</th>\n",
       "      <td>1f5cbQtDrykjarZVrShaDI</td>\n",
       "      <td>Drowning (feat. Kodak Black)</td>\n",
       "      <td>2018-03-19T23:27:43Z</td>\n",
       "      <td>76</td>\n",
       "      <td>[{'id': '31W5EY0aAly4Qieq6OFu6I', 'name': 'A B...</td>\n",
       "      <td>{'id': '3HHp5I6Q6SEyU5bkvoCtnV', 'name': 'The ...</td>\n",
       "      <td>[1h4bUPnrpgn8qXGJ5dvTsu, 4HDyn4OnRzriPGtBk1oS9...</td>\n",
       "    </tr>\n",
       "    <tr>\n",
       "      <th>3VlbOrM6nYPprVvzBZllE5</th>\n",
       "      <td>3VlbOrM6nYPprVvzBZllE5</td>\n",
       "      <td>Too Good At Goodbyes</td>\n",
       "      <td>2019-01-12T06:14:38Z</td>\n",
       "      <td>75</td>\n",
       "      <td>[{'id': '2wY79sveU1sp5g7SokKOiI', 'name': 'Sam...</td>\n",
       "      <td>{'id': '3XftSbguntyRTBQaGItmfK', 'name': 'The ...</td>\n",
       "      <td>[1h4bUPnrpgn8qXGJ5dvTsu, 0rbxZLZVWgSnZRGYsx1rh...</td>\n",
       "    </tr>\n",
       "    <tr>\n",
       "      <th>0SuLAslEMFZAXf0SwY7syi</th>\n",
       "      <td>0SuLAslEMFZAXf0SwY7syi</td>\n",
       "      <td>All Time Low</td>\n",
       "      <td>2021-03-15T18:33:04Z</td>\n",
       "      <td>69</td>\n",
       "      <td>[{'id': '50JJSqHUf2RQ9xsHs0KMHg', 'name': 'Jon...</td>\n",
       "      <td>{'id': '2jJReDZqTuAxr4R0ItimZc', 'name': 'The ...</td>\n",
       "      <td>[1h4bUPnrpgn8qXGJ5dvTsu, 0qtzSPz2ZwC21sWdlEEos...</td>\n",
       "    </tr>\n",
       "    <tr>\n",
       "      <th>5bcTCxgc7xVfSaMV3RuVke</th>\n",
       "      <td>5bcTCxgc7xVfSaMV3RuVke</td>\n",
       "      <td>Feels (feat. Pharrell Williams, Katy Perry &amp; B...</td>\n",
       "      <td>2018-12-30T16:37:37Z</td>\n",
       "      <td>75</td>\n",
       "      <td>[{'id': '7CajNmpbOovFoOoasH2HaY', 'name': 'Cal...</td>\n",
       "      <td>{'id': '2HaqChIDc5go3qxVunBDK0', 'name': 'Funk...</td>\n",
       "      <td>[1h4bUPnrpgn8qXGJ5dvTsu, 3Vgq9OX5rjFrLKuxcz7Dg...</td>\n",
       "    </tr>\n",
       "    <tr>\n",
       "      <th>7qvxFz3JodM0A7xEM7k3YD</th>\n",
       "      <td>7qvxFz3JodM0A7xEM7k3YD</td>\n",
       "      <td>Chained To The Rhythm</td>\n",
       "      <td>2020-12-09T03:00:26Z</td>\n",
       "      <td>71</td>\n",
       "      <td>[{'id': '6jJ0s89eD6GaHleKKya26X', 'name': 'Kat...</td>\n",
       "      <td>{'id': '0UlbGi4oAth8s6rwaGSU8Z', 'name': 'Witn...</td>\n",
       "      <td>[1h4bUPnrpgn8qXGJ5dvTsu]</td>\n",
       "    </tr>\n",
       "    <tr>\n",
       "      <th>6gBFPUFcJLzWGx4lenP6h2</th>\n",
       "      <td>6gBFPUFcJLzWGx4lenP6h2</td>\n",
       "      <td>goosebumps</td>\n",
       "      <td>2021-08-24T20:00:13Z</td>\n",
       "      <td>87</td>\n",
       "      <td>[{'id': '0Y5tJX1MQlPlqiwlOH1tJY', 'name': 'Tra...</td>\n",
       "      <td>{'id': '42WVQWuf1teDysXiOupIZt', 'name': 'Bird...</td>\n",
       "      <td>[1h4bUPnrpgn8qXGJ5dvTsu, 6DduuG3PAXK7CN4KKvqC5...</td>\n",
       "    </tr>\n",
       "    <tr>\n",
       "      <th>0jdny0dhgjUwoIp5GkqEaA</th>\n",
       "      <td>0jdny0dhgjUwoIp5GkqEaA</td>\n",
       "      <td>Praying</td>\n",
       "      <td>2018-06-21T19:56:51Z</td>\n",
       "      <td>72</td>\n",
       "      <td>[{'id': '6LqNN22kT3074XbTVUrhzX', 'name': 'Kes...</td>\n",
       "      <td>{'id': '1IYVB8NfiRqhdZlTxjspNh', 'name': 'Rain...</td>\n",
       "      <td>[1h4bUPnrpgn8qXGJ5dvTsu, 6fKtaiT4GmkPa20sUdyhe...</td>\n",
       "    </tr>\n",
       "    <tr>\n",
       "      <th>6HZILIRieu8S0iqY8kIKhj</th>\n",
       "      <td>6HZILIRieu8S0iqY8kIKhj</td>\n",
       "      <td>DNA.</td>\n",
       "      <td>2018-07-14T02:56:46Z</td>\n",
       "      <td>79</td>\n",
       "      <td>[{'id': '2YZyLoL8N0Wb9xBt1NhZWg', 'name': 'Ken...</td>\n",
       "      <td>{'id': '4eLPsYPBmXABThSJ821sqY', 'name': 'DAMN...</td>\n",
       "      <td>[1h4bUPnrpgn8qXGJ5dvTsu, 4ofRyb4Rb0PS4bUuBdLEK...</td>\n",
       "    </tr>\n",
       "    <tr>\n",
       "      <th>0e7ipj03S05BNilyu5bRzt</th>\n",
       "      <td>0e7ipj03S05BNilyu5bRzt</td>\n",
       "      <td>rockstar (feat. 21 Savage)</td>\n",
       "      <td>2020-12-16T02:17:29Z</td>\n",
       "      <td>85</td>\n",
       "      <td>[{'id': '246dkjvS1zLTtiykXe5h60', 'name': 'Pos...</td>\n",
       "      <td>{'id': '6trNtQUgC8cgbWcqoMYkOR', 'name': 'beer...</td>\n",
       "      <td>[1h4bUPnrpgn8qXGJ5dvTsu, 1dy9gFzsX9vVTRNXZmYCz...</td>\n",
       "    </tr>\n",
       "    <tr>\n",
       "      <th>1zB4vmk8tFRmM9UULNzbLB</th>\n",
       "      <td>1zB4vmk8tFRmM9UULNzbLB</td>\n",
       "      <td>Thunder</td>\n",
       "      <td>2021-07-28T03:27:24Z</td>\n",
       "      <td>85</td>\n",
       "      <td>[{'id': '53XhwfbYqKCa1cC15pYq2q', 'name': 'Ima...</td>\n",
       "      <td>{'id': '33pt9HBdGlAbRGBHQgsZsU', 'name': 'Evol...</td>\n",
       "      <td>[1h4bUPnrpgn8qXGJ5dvTsu, 0qtzSPz2ZwC21sWdlEEos...</td>\n",
       "    </tr>\n",
       "    <tr>\n",
       "      <th>4ipnJyDU3Lq15qBAYNqlqK</th>\n",
       "      <td>4ipnJyDU3Lq15qBAYNqlqK</td>\n",
       "      <td>Mi Gente</td>\n",
       "      <td>2021-09-30T18:11:53Z</td>\n",
       "      <td>71</td>\n",
       "      <td>[{'id': '1vyhD5VmyZ7KMfW5gqLgo5', 'name': 'J B...</td>\n",
       "      <td>{'id': '1ZJtkYBzRb7drznu3UYb3k', 'name': 'Mi G...</td>\n",
       "      <td>[1h4bUPnrpgn8qXGJ5dvTsu, 48u84Gg1ZEzA5SMLJKsPO...</td>\n",
       "    </tr>\n",
       "    <tr>\n",
       "      <th>7gvd8xj4QgPqbQSsn5pV7d</th>\n",
       "      <td>7gvd8xj4QgPqbQSsn5pV7d</td>\n",
       "      <td>Sorry Not Sorry</td>\n",
       "      <td>2020-12-09T02:57:44Z</td>\n",
       "      <td>12</td>\n",
       "      <td>[{'id': '6S2OmqARrzebs0tKUEyXyp', 'name': 'Dem...</td>\n",
       "      <td>{'id': '1MI6gNg0plcEOgs8aezsjH', 'name': 'Tell...</td>\n",
       "      <td>[1h4bUPnrpgn8qXGJ5dvTsu]</td>\n",
       "    </tr>\n",
       "    <tr>\n",
       "      <th>5knuzwU65gJK7IF5yJsuaW</th>\n",
       "      <td>5knuzwU65gJK7IF5yJsuaW</td>\n",
       "      <td>Rockabye (feat. Sean Paul &amp; Anne-Marie)</td>\n",
       "      <td>2021-04-14T12:39:23Z</td>\n",
       "      <td>77</td>\n",
       "      <td>[{'id': '6MDME20pz9RveH9rEXvrOM', 'name': 'Cle...</td>\n",
       "      <td>{'id': '3meZFplbMmji648oWUNEfQ', 'name': 'Rock...</td>\n",
       "      <td>[1h4bUPnrpgn8qXGJ5dvTsu, 7bEgVE7TQAS0TgNcUZ7hp...</td>\n",
       "    </tr>\n",
       "    <tr>\n",
       "      <th>15vzANxN8G9wWfwAJLLMCg</th>\n",
       "      <td>15vzANxN8G9wWfwAJLLMCg</td>\n",
       "      <td>Paris</td>\n",
       "      <td>2019-12-31T20:48:56Z</td>\n",
       "      <td>72</td>\n",
       "      <td>[{'id': '69GGBxA162lTqCwzJG5jLp', 'name': 'The...</td>\n",
       "      <td>{'id': '64vx3cUb97lQGlgt8zozWL', 'name': 'Pari...</td>\n",
       "      <td>[1h4bUPnrpgn8qXGJ5dvTsu, 3rblSOJxETAAcYZc2gPil...</td>\n",
       "    </tr>\n",
       "    <tr>\n",
       "      <th>1PSBzsahR2AKwLJgx8ehBj</th>\n",
       "      <td>1PSBzsahR2AKwLJgx8ehBj</td>\n",
       "      <td>Bad Things (with Camila Cabello)</td>\n",
       "      <td>2018-10-25T20:30:15Z</td>\n",
       "      <td>74</td>\n",
       "      <td>[{'id': '6TIYQ3jFPwQSRmorSezPxX', 'name': 'Mac...</td>\n",
       "      <td>{'id': '3yWRq9Dd2UO5xyqxTjLDmp', 'name': 'bloo...</td>\n",
       "      <td>[1h4bUPnrpgn8qXGJ5dvTsu, 1XHA3v0hSTa8vgWgdOvEvs]</td>\n",
       "    </tr>\n",
       "    <tr>\n",
       "      <th>4Ro98RCK90oHqqSZUnTFq5</th>\n",
       "      <td>4Ro98RCK90oHqqSZUnTFq5</td>\n",
       "      <td>Strip That Down</td>\n",
       "      <td>2019-08-30T09:59:53Z</td>\n",
       "      <td>68</td>\n",
       "      <td>[{'id': '5pUo3fmmHT8bhCyHE52hA6', 'name': 'Lia...</td>\n",
       "      <td>{'id': '4PrFFsJ2WAD46IXNdfx2dx', 'name': 'Stri...</td>\n",
       "      <td>[1h4bUPnrpgn8qXGJ5dvTsu, 1RIHIpg7SO55n6Mk8h7gL1]</td>\n",
       "    </tr>\n",
       "    <tr>\n",
       "      <th>5oO3drDxtziYU2H1X23ZIp</th>\n",
       "      <td>5oO3drDxtziYU2H1X23ZIp</td>\n",
       "      <td>Love On The Brain</td>\n",
       "      <td>2020-05-19T21:51:45Z</td>\n",
       "      <td>83</td>\n",
       "      <td>[{'id': '5pKCCKE2ajJHZ9KAiaK11H', 'name': 'Rih...</td>\n",
       "      <td>{'id': '4UlGauD7ROb3YbVOFMgW5u', 'name': 'ANTI...</td>\n",
       "      <td>[1h4bUPnrpgn8qXGJ5dvTsu, 6DGAqXZUZ1lF0GWlXLC30K]</td>\n",
       "    </tr>\n",
       "    <tr>\n",
       "      <th>7vu0JkJh0ldukEYbTVcqd0</th>\n",
       "      <td>7vu0JkJh0ldukEYbTVcqd0</td>\n",
       "      <td>Issues</td>\n",
       "      <td>2020-12-09T02:55:04Z</td>\n",
       "      <td>70</td>\n",
       "      <td>[{'id': '0ZED1XzwlLHW4ZaG4lOT6m', 'name': 'Jul...</td>\n",
       "      <td>{'id': '1qyjZGIeeLJlXbYWuoloWj', 'name': 'Nerv...</td>\n",
       "      <td>[1h4bUPnrpgn8qXGJ5dvTsu]</td>\n",
       "    </tr>\n",
       "    <tr>\n",
       "      <th>5cF0dROlMOK5uNZtivgu50</th>\n",
       "      <td>5cF0dROlMOK5uNZtivgu50</td>\n",
       "      <td>Attention</td>\n",
       "      <td>2018-06-12T19:34:55Z</td>\n",
       "      <td>82</td>\n",
       "      <td>[{'id': '6VuMaDnrHyPL1p4EHjYLi7', 'name': 'Cha...</td>\n",
       "      <td>{'id': '0mZIUXje90JtHxPNzWsJNR', 'name': 'Voic...</td>\n",
       "      <td>[1h4bUPnrpgn8qXGJ5dvTsu, 3WxWUh8QMQLTn1mQIlcCN...</td>\n",
       "    </tr>\n",
       "    <tr>\n",
       "      <th>6b8Be6ljOzmkOmFslEb23P</th>\n",
       "      <td>6b8Be6ljOzmkOmFslEb23P</td>\n",
       "      <td>24K Magic</td>\n",
       "      <td>2020-12-31T16:28:42Z</td>\n",
       "      <td>79</td>\n",
       "      <td>[{'id': '0du5cEVh5yTK9QJze8zA0C', 'name': 'Bru...</td>\n",
       "      <td>{'id': '4PgleR09JVnm3zY1fW3XBA', 'name': '24K ...</td>\n",
       "      <td>[1h4bUPnrpgn8qXGJ5dvTsu, 6VcX00B7u0QJ9PbEWv5m0...</td>\n",
       "    </tr>\n",
       "    <tr>\n",
       "      <th>0VgkVdmE4gld66l8iyGjgx</th>\n",
       "      <td>0VgkVdmE4gld66l8iyGjgx</td>\n",
       "      <td>Mask Off</td>\n",
       "      <td>2021-08-24T20:00:25Z</td>\n",
       "      <td>82</td>\n",
       "      <td>[{'id': '1RyvyyTE3xzB2ZywiAwp0i', 'name': 'Fut...</td>\n",
       "      <td>{'id': '17FBoXK1NU2rvJBbzdzw0r', 'name': 'FUTU...</td>\n",
       "      <td>[1h4bUPnrpgn8qXGJ5dvTsu, 7Ib0MRlZk6uuFv4KYIgnL...</td>\n",
       "    </tr>\n",
       "    <tr>\n",
       "      <th>7GX5flRQZVHRAGd6B4TmDO</th>\n",
       "      <td>7GX5flRQZVHRAGd6B4TmDO</td>\n",
       "      <td>XO Tour Llif3</td>\n",
       "      <td>2020-08-05T11:16:17Z</td>\n",
       "      <td>84</td>\n",
       "      <td>[{'id': '4O15NlyKLIASxsJ0PrXPfz', 'name': 'Lil...</td>\n",
       "      <td>{'id': '733e1ZfktLSwj96X5rsMeE', 'name': 'Luv ...</td>\n",
       "      <td>[1h4bUPnrpgn8qXGJ5dvTsu, 2Rq8BfhZstvl8ceQL1U9g...</td>\n",
       "    </tr>\n",
       "    <tr>\n",
       "      <th>3a1lNhkSLSkpJE4MSHpDu9</th>\n",
       "      <td>3a1lNhkSLSkpJE4MSHpDu9</td>\n",
       "      <td>Congratulations</td>\n",
       "      <td>2021-01-22T01:41:21Z</td>\n",
       "      <td>83</td>\n",
       "      <td>[{'id': '246dkjvS1zLTtiykXe5h60', 'name': 'Pos...</td>\n",
       "      <td>{'id': '5s0rmjP8XOPhP6HhqOhuyC', 'name': 'Ston...</td>\n",
       "      <td>[1h4bUPnrpgn8qXGJ5dvTsu, 6IXdZdcAPlYai5i21VaKo...</td>\n",
       "    </tr>\n",
       "    <tr>\n",
       "      <th>0pqnGHJpmpxLKifKRmU6WP</th>\n",
       "      <td>0pqnGHJpmpxLKifKRmU6WP</td>\n",
       "      <td>Believer</td>\n",
       "      <td>2020-11-18T06:52:58Z</td>\n",
       "      <td>88</td>\n",
       "      <td>[{'id': '53XhwfbYqKCa1cC15pYq2q', 'name': 'Ima...</td>\n",
       "      <td>{'id': '33pt9HBdGlAbRGBHQgsZsU', 'name': 'Evol...</td>\n",
       "      <td>[1h4bUPnrpgn8qXGJ5dvTsu, 3QQyQzSESsbYqqjYoTAq7...</td>\n",
       "    </tr>\n",
       "    <tr>\n",
       "      <th>7KXjTSCq5nL1LoYtL7XAwS</th>\n",
       "      <td>7KXjTSCq5nL1LoYtL7XAwS</td>\n",
       "      <td>HUMBLE.</td>\n",
       "      <td>2018-08-29T12:15:23Z</td>\n",
       "      <td>83</td>\n",
       "      <td>[{'id': '2YZyLoL8N0Wb9xBt1NhZWg', 'name': 'Ken...</td>\n",
       "      <td>{'id': '4eLPsYPBmXABThSJ821sqY', 'name': 'DAMN...</td>\n",
       "      <td>[1h4bUPnrpgn8qXGJ5dvTsu, 2rMSK78e2ck6Z3R6SCMxa...</td>\n",
       "    </tr>\n",
       "    <tr>\n",
       "      <th>2GyA33q5rti5IxkMQemRDH</th>\n",
       "      <td>2GyA33q5rti5IxkMQemRDH</td>\n",
       "      <td>I Know What You Did Last Summer</td>\n",
       "      <td>2020-12-09T02:45:33Z</td>\n",
       "      <td>74</td>\n",
       "      <td>[{'id': '7n2wHs1TKAczGzO7Dd2rGr', 'name': 'Sha...</td>\n",
       "      <td>{'id': '6sUOosXuYt0oUeczJRbedZ', 'name': 'Hand...</td>\n",
       "      <td>[1h4bUPnrpgn8qXGJ5dvTsu]</td>\n",
       "    </tr>\n",
       "    <tr>\n",
       "      <th>6eT7xZZlB2mwyzJ2sUKG6w</th>\n",
       "      <td>6eT7xZZlB2mwyzJ2sUKG6w</td>\n",
       "      <td>White Iverson</td>\n",
       "      <td>2021-08-24T20:06:35Z</td>\n",
       "      <td>77</td>\n",
       "      <td>[{'id': '246dkjvS1zLTtiykXe5h60', 'name': 'Pos...</td>\n",
       "      <td>{'id': '5s0rmjP8XOPhP6HhqOhuyC', 'name': 'Ston...</td>\n",
       "      <td>[1h4bUPnrpgn8qXGJ5dvTsu, 1dy9gFzsX9vVTRNXZmYCz...</td>\n",
       "    </tr>\n",
       "    <tr>\n",
       "      <th>7MXVkk9YMctZqd1Srtv4MB</th>\n",
       "      <td>7MXVkk9YMctZqd1Srtv4MB</td>\n",
       "      <td>Starboy</td>\n",
       "      <td>2021-02-28T03:09:05Z</td>\n",
       "      <td>85</td>\n",
       "      <td>[{'id': '1Xyo4u8uXC1ZmMpatF05PJ', 'name': 'The...</td>\n",
       "      <td>{'id': '2ODvWsOgouMbaA5xf0RkJe', 'name': 'Star...</td>\n",
       "      <td>[1h4bUPnrpgn8qXGJ5dvTsu, 0qtzSPz2ZwC21sWdlEEos...</td>\n",
       "    </tr>\n",
       "    <tr>\n",
       "      <th>0L1IszgjzIZRBENyHJTQms</th>\n",
       "      <td>0L1IszgjzIZRBENyHJTQms</td>\n",
       "      <td>Dear Society</td>\n",
       "      <td>2020-12-09T02:36:41Z</td>\n",
       "      <td>65</td>\n",
       "      <td>[{'id': '2kRfqPViCqYdSGhYSM9R0Q', 'name': 'Mad...</td>\n",
       "      <td>{'id': '0ufTtbuq00FDGauIfTUlNR', 'name': 'Dear...</td>\n",
       "      <td>[1h4bUPnrpgn8qXGJ5dvTsu]</td>\n",
       "    </tr>\n",
       "    <tr>\n",
       "      <th>5Eg4TsPcqNbIjd8ADMZosg</th>\n",
       "      <td>5Eg4TsPcqNbIjd8ADMZosg</td>\n",
       "      <td>Chains</td>\n",
       "      <td>2020-12-09T02:36:09Z</td>\n",
       "      <td>60</td>\n",
       "      <td>[{'id': '4Rxn7Im3LGfyRkY2FlHhWi', 'name': 'Nic...</td>\n",
       "      <td>{'id': '4G4Azv5cwPBv3vCA0mD6ei', 'name': 'Nick...</td>\n",
       "      <td>[1h4bUPnrpgn8qXGJ5dvTsu]</td>\n",
       "    </tr>\n",
       "    <tr>\n",
       "      <th>5jsw9uXEGuKyJzs0boZ1bT</th>\n",
       "      <td>5jsw9uXEGuKyJzs0boZ1bT</td>\n",
       "      <td>Stitches</td>\n",
       "      <td>2020-12-30T04:38:13Z</td>\n",
       "      <td>74</td>\n",
       "      <td>[{'id': '7n2wHs1TKAczGzO7Dd2rGr', 'name': 'Sha...</td>\n",
       "      <td>{'id': '6sUOosXuYt0oUeczJRbedZ', 'name': 'Hand...</td>\n",
       "      <td>[1h4bUPnrpgn8qXGJ5dvTsu, 1Ui0fZbOr2GDlJtxTHmJEa]</td>\n",
       "    </tr>\n",
       "    <tr>\n",
       "      <th>4jgvPFeCE4V2HkYX6luV9B</th>\n",
       "      <td>4jgvPFeCE4V2HkYX6luV9B</td>\n",
       "      <td>Swish Swish</td>\n",
       "      <td>2021-01-02T08:25:45Z</td>\n",
       "      <td>0</td>\n",
       "      <td>[{'id': '6jJ0s89eD6GaHleKKya26X', 'name': 'Kat...</td>\n",
       "      <td>{'id': '1V1S9lYgsd7sUlC8XTSZzS', 'name': 'Swis...</td>\n",
       "      <td>[1h4bUPnrpgn8qXGJ5dvTsu]</td>\n",
       "    </tr>\n",
       "    <tr>\n",
       "      <th>3KkXRkHbMCARz0aVfEt68P</th>\n",
       "      <td>3KkXRkHbMCARz0aVfEt68P</td>\n",
       "      <td>Sunflower - Spider-Man: Into the Spider-Verse</td>\n",
       "      <td>2019-01-25T04:20:40Z</td>\n",
       "      <td>84</td>\n",
       "      <td>[{'id': '0LyfQWJT6nXafLPZqxe9Of', 'name': 'Var...</td>\n",
       "      <td>{'id': '35s58BRTGAEWztPo9WqCIs', 'name': 'Spid...</td>\n",
       "      <td>[1h4bUPnrpgn8qXGJ5dvTsu, 4UJ9uTJatHD4isU6JjC9B...</td>\n",
       "    </tr>\n",
       "    <tr>\n",
       "      <th>1jaTQ3nqY3oAAYyCTbIvnM</th>\n",
       "      <td>1jaTQ3nqY3oAAYyCTbIvnM</td>\n",
       "      <td>WHATS POPPIN</td>\n",
       "      <td>2021-02-07T17:03:37Z</td>\n",
       "      <td>81</td>\n",
       "      <td>[{'id': '2LIk90788K0zvyj2JJVwkJ', 'name': 'Jac...</td>\n",
       "      <td>{'id': '7AaqMMiYMvnMB3RcS8u3EY', 'name': 'Swee...</td>\n",
       "      <td>[1h4bUPnrpgn8qXGJ5dvTsu, 6EoAjwDycXQQfhbz2VGZP...</td>\n",
       "    </tr>\n",
       "    <tr>\n",
       "      <th>3eekarcy7kvN4yt5ZFzltW</th>\n",
       "      <td>3eekarcy7kvN4yt5ZFzltW</td>\n",
       "      <td>HIGHEST IN THE ROOM</td>\n",
       "      <td>2019-11-18T20:03:24Z</td>\n",
       "      <td>85</td>\n",
       "      <td>[{'id': '0Y5tJX1MQlPlqiwlOH1tJY', 'name': 'Tra...</td>\n",
       "      <td>{'id': '2uDTi1PlpSpvAv7IRAoAEU', 'name': 'HIGH...</td>\n",
       "      <td>[1h4bUPnrpgn8qXGJ5dvTsu, 6oqZRaQrP27lM26phWtzw...</td>\n",
       "    </tr>\n",
       "    <tr>\n",
       "      <th>4Km5HrUvYTaSUfiSGPJeQR</th>\n",
       "      <td>4Km5HrUvYTaSUfiSGPJeQR</td>\n",
       "      <td>Bad and Boujee (feat. Lil Uzi Vert)</td>\n",
       "      <td>2020-08-05T11:17:46Z</td>\n",
       "      <td>75</td>\n",
       "      <td>[{'id': '6oMuImdp5ZcFhWP0ESe6mG', 'name': 'Mig...</td>\n",
       "      <td>{'id': '2AvupjUeMnSffKEV05x222', 'name': 'Cult...</td>\n",
       "      <td>[1h4bUPnrpgn8qXGJ5dvTsu, 4jhz41YA4LCLAzWXFX15k...</td>\n",
       "    </tr>\n",
       "    <tr>\n",
       "      <th>7BKLCZ1jbUBVqRi2FVlTVw</th>\n",
       "      <td>7BKLCZ1jbUBVqRi2FVlTVw</td>\n",
       "      <td>Closer</td>\n",
       "      <td>2021-07-27T03:41:48Z</td>\n",
       "      <td>86</td>\n",
       "      <td>[{'id': '69GGBxA162lTqCwzJG5jLp', 'name': 'The...</td>\n",
       "      <td>{'id': '0rSLgV8p5FzfnqlEk4GzxE', 'name': 'Clos...</td>\n",
       "      <td>[1h4bUPnrpgn8qXGJ5dvTsu, 3Vgq9OX5rjFrLKuxcz7Dg...</td>\n",
       "    </tr>\n",
       "    <tr>\n",
       "      <th>5OCJzvD7sykQEKHH7qAC3C</th>\n",
       "      <td>5OCJzvD7sykQEKHH7qAC3C</td>\n",
       "      <td>God is a woman</td>\n",
       "      <td>2021-09-30T18:09:35Z</td>\n",
       "      <td>81</td>\n",
       "      <td>[{'id': '66CXWjxzNUsdJxJ2JdwvnR', 'name': 'Ari...</td>\n",
       "      <td>{'id': '3tx8gQqWbGwqIGZHqDNrGe', 'name': 'Swee...</td>\n",
       "      <td>[1h4bUPnrpgn8qXGJ5dvTsu, 4ofRyb4Rb0PS4bUuBdLEK...</td>\n",
       "    </tr>\n",
       "    <tr>\n",
       "      <th>74lQVnoIFci2CVyru22Gum</th>\n",
       "      <td>74lQVnoIFci2CVyru22Gum</td>\n",
       "      <td>Sorry Not Sorry</td>\n",
       "      <td>2021-05-10T00:12:45Z</td>\n",
       "      <td>52</td>\n",
       "      <td>[{'id': '6S2OmqARrzebs0tKUEyXyp', 'name': 'Dem...</td>\n",
       "      <td>{'id': '3HGsy50RgeXR4iUwfc0MgD', 'name': 'Tell...</td>\n",
       "      <td>[1h4bUPnrpgn8qXGJ5dvTsu]</td>\n",
       "    </tr>\n",
       "  </tbody>\n",
       "</table>\n",
       "</div>"
      ],
      "text/plain": [
       "                                            id  \\\n",
       "08bNPGLD8AhKpnnERrAc6G  08bNPGLD8AhKpnnERrAc6G   \n",
       "45Egmo7icyopuzJN0oMEdk  45Egmo7icyopuzJN0oMEdk   \n",
       "3ee8Jmje8o58CHK66QrVC2  3ee8Jmje8o58CHK66QrVC2   \n",
       "3Vo4wInECJQuz9BIBMOu8i  3Vo4wInECJQuz9BIBMOu8i   \n",
       "7dt6x5M1jzdTEt8oCbisTK  7dt6x5M1jzdTEt8oCbisTK   \n",
       "3NLnwwAQbbFKcEcV8hDItk  3NLnwwAQbbFKcEcV8hDItk   \n",
       "6DCZcSspjsKoFjzjrWoCdn  6DCZcSspjsKoFjzjrWoCdn   \n",
       "3Q3myFA7q4Op95DOpHplaY  3Q3myFA7q4Op95DOpHplaY   \n",
       "1rfofaqEpACxVEHIZBJe6W  1rfofaqEpACxVEHIZBJe6W   \n",
       "1UZOjK1BwmwWU14Erba9CZ  1UZOjK1BwmwWU14Erba9CZ   \n",
       "5Ohxk2dO5COHF1krpoPigN  5Ohxk2dO5COHF1krpoPigN   \n",
       "1f5cbQtDrykjarZVrShaDI  1f5cbQtDrykjarZVrShaDI   \n",
       "3VlbOrM6nYPprVvzBZllE5  3VlbOrM6nYPprVvzBZllE5   \n",
       "0SuLAslEMFZAXf0SwY7syi  0SuLAslEMFZAXf0SwY7syi   \n",
       "5bcTCxgc7xVfSaMV3RuVke  5bcTCxgc7xVfSaMV3RuVke   \n",
       "7qvxFz3JodM0A7xEM7k3YD  7qvxFz3JodM0A7xEM7k3YD   \n",
       "6gBFPUFcJLzWGx4lenP6h2  6gBFPUFcJLzWGx4lenP6h2   \n",
       "0jdny0dhgjUwoIp5GkqEaA  0jdny0dhgjUwoIp5GkqEaA   \n",
       "6HZILIRieu8S0iqY8kIKhj  6HZILIRieu8S0iqY8kIKhj   \n",
       "0e7ipj03S05BNilyu5bRzt  0e7ipj03S05BNilyu5bRzt   \n",
       "1zB4vmk8tFRmM9UULNzbLB  1zB4vmk8tFRmM9UULNzbLB   \n",
       "4ipnJyDU3Lq15qBAYNqlqK  4ipnJyDU3Lq15qBAYNqlqK   \n",
       "7gvd8xj4QgPqbQSsn5pV7d  7gvd8xj4QgPqbQSsn5pV7d   \n",
       "5knuzwU65gJK7IF5yJsuaW  5knuzwU65gJK7IF5yJsuaW   \n",
       "15vzANxN8G9wWfwAJLLMCg  15vzANxN8G9wWfwAJLLMCg   \n",
       "1PSBzsahR2AKwLJgx8ehBj  1PSBzsahR2AKwLJgx8ehBj   \n",
       "4Ro98RCK90oHqqSZUnTFq5  4Ro98RCK90oHqqSZUnTFq5   \n",
       "5oO3drDxtziYU2H1X23ZIp  5oO3drDxtziYU2H1X23ZIp   \n",
       "7vu0JkJh0ldukEYbTVcqd0  7vu0JkJh0ldukEYbTVcqd0   \n",
       "5cF0dROlMOK5uNZtivgu50  5cF0dROlMOK5uNZtivgu50   \n",
       "6b8Be6ljOzmkOmFslEb23P  6b8Be6ljOzmkOmFslEb23P   \n",
       "0VgkVdmE4gld66l8iyGjgx  0VgkVdmE4gld66l8iyGjgx   \n",
       "7GX5flRQZVHRAGd6B4TmDO  7GX5flRQZVHRAGd6B4TmDO   \n",
       "3a1lNhkSLSkpJE4MSHpDu9  3a1lNhkSLSkpJE4MSHpDu9   \n",
       "0pqnGHJpmpxLKifKRmU6WP  0pqnGHJpmpxLKifKRmU6WP   \n",
       "7KXjTSCq5nL1LoYtL7XAwS  7KXjTSCq5nL1LoYtL7XAwS   \n",
       "2GyA33q5rti5IxkMQemRDH  2GyA33q5rti5IxkMQemRDH   \n",
       "6eT7xZZlB2mwyzJ2sUKG6w  6eT7xZZlB2mwyzJ2sUKG6w   \n",
       "7MXVkk9YMctZqd1Srtv4MB  7MXVkk9YMctZqd1Srtv4MB   \n",
       "0L1IszgjzIZRBENyHJTQms  0L1IszgjzIZRBENyHJTQms   \n",
       "5Eg4TsPcqNbIjd8ADMZosg  5Eg4TsPcqNbIjd8ADMZosg   \n",
       "5jsw9uXEGuKyJzs0boZ1bT  5jsw9uXEGuKyJzs0boZ1bT   \n",
       "4jgvPFeCE4V2HkYX6luV9B  4jgvPFeCE4V2HkYX6luV9B   \n",
       "3KkXRkHbMCARz0aVfEt68P  3KkXRkHbMCARz0aVfEt68P   \n",
       "1jaTQ3nqY3oAAYyCTbIvnM  1jaTQ3nqY3oAAYyCTbIvnM   \n",
       "3eekarcy7kvN4yt5ZFzltW  3eekarcy7kvN4yt5ZFzltW   \n",
       "4Km5HrUvYTaSUfiSGPJeQR  4Km5HrUvYTaSUfiSGPJeQR   \n",
       "7BKLCZ1jbUBVqRi2FVlTVw  7BKLCZ1jbUBVqRi2FVlTVw   \n",
       "5OCJzvD7sykQEKHH7qAC3C  5OCJzvD7sykQEKHH7qAC3C   \n",
       "74lQVnoIFci2CVyru22Gum  74lQVnoIFci2CVyru22Gum   \n",
       "\n",
       "                                                                     name  \\\n",
       "08bNPGLD8AhKpnnERrAc6G                                            FRIENDS   \n",
       "45Egmo7icyopuzJN0oMEdk                           Love Lies (with Normani)   \n",
       "3ee8Jmje8o58CHK66QrVC2                                               SAD!   \n",
       "3Vo4wInECJQuz9BIBMOu8i                     Finesse - Remix; feat. Cardi B   \n",
       "7dt6x5M1jzdTEt8oCbisTK                                         Better Now   \n",
       "3NLnwwAQbbFKcEcV8hDItk                                            Perfect   \n",
       "6DCZcSspjsKoFjzjrWoCdn                                         God's Plan   \n",
       "3Q3myFA7q4Op95DOpHplaY                                           do re mi   \n",
       "1rfofaqEpACxVEHIZBJe6W                          Havana (feat. Young Thug)   \n",
       "1UZOjK1BwmwWU14Erba9CZ                                             Malibu   \n",
       "5Ohxk2dO5COHF1krpoPigN                                  Sign of the Times   \n",
       "1f5cbQtDrykjarZVrShaDI                       Drowning (feat. Kodak Black)   \n",
       "3VlbOrM6nYPprVvzBZllE5                               Too Good At Goodbyes   \n",
       "0SuLAslEMFZAXf0SwY7syi                                       All Time Low   \n",
       "5bcTCxgc7xVfSaMV3RuVke  Feels (feat. Pharrell Williams, Katy Perry & B...   \n",
       "7qvxFz3JodM0A7xEM7k3YD                              Chained To The Rhythm   \n",
       "6gBFPUFcJLzWGx4lenP6h2                                         goosebumps   \n",
       "0jdny0dhgjUwoIp5GkqEaA                                            Praying   \n",
       "6HZILIRieu8S0iqY8kIKhj                                               DNA.   \n",
       "0e7ipj03S05BNilyu5bRzt                         rockstar (feat. 21 Savage)   \n",
       "1zB4vmk8tFRmM9UULNzbLB                                            Thunder   \n",
       "4ipnJyDU3Lq15qBAYNqlqK                                           Mi Gente   \n",
       "7gvd8xj4QgPqbQSsn5pV7d                                    Sorry Not Sorry   \n",
       "5knuzwU65gJK7IF5yJsuaW            Rockabye (feat. Sean Paul & Anne-Marie)   \n",
       "15vzANxN8G9wWfwAJLLMCg                                              Paris   \n",
       "1PSBzsahR2AKwLJgx8ehBj                   Bad Things (with Camila Cabello)   \n",
       "4Ro98RCK90oHqqSZUnTFq5                                    Strip That Down   \n",
       "5oO3drDxtziYU2H1X23ZIp                                  Love On The Brain   \n",
       "7vu0JkJh0ldukEYbTVcqd0                                             Issues   \n",
       "5cF0dROlMOK5uNZtivgu50                                          Attention   \n",
       "6b8Be6ljOzmkOmFslEb23P                                          24K Magic   \n",
       "0VgkVdmE4gld66l8iyGjgx                                           Mask Off   \n",
       "7GX5flRQZVHRAGd6B4TmDO                                      XO Tour Llif3   \n",
       "3a1lNhkSLSkpJE4MSHpDu9                                    Congratulations   \n",
       "0pqnGHJpmpxLKifKRmU6WP                                           Believer   \n",
       "7KXjTSCq5nL1LoYtL7XAwS                                            HUMBLE.   \n",
       "2GyA33q5rti5IxkMQemRDH                    I Know What You Did Last Summer   \n",
       "6eT7xZZlB2mwyzJ2sUKG6w                                      White Iverson   \n",
       "7MXVkk9YMctZqd1Srtv4MB                                            Starboy   \n",
       "0L1IszgjzIZRBENyHJTQms                                       Dear Society   \n",
       "5Eg4TsPcqNbIjd8ADMZosg                                             Chains   \n",
       "5jsw9uXEGuKyJzs0boZ1bT                                           Stitches   \n",
       "4jgvPFeCE4V2HkYX6luV9B                                        Swish Swish   \n",
       "3KkXRkHbMCARz0aVfEt68P      Sunflower - Spider-Man: Into the Spider-Verse   \n",
       "1jaTQ3nqY3oAAYyCTbIvnM                                       WHATS POPPIN   \n",
       "3eekarcy7kvN4yt5ZFzltW                                HIGHEST IN THE ROOM   \n",
       "4Km5HrUvYTaSUfiSGPJeQR                Bad and Boujee (feat. Lil Uzi Vert)   \n",
       "7BKLCZ1jbUBVqRi2FVlTVw                                             Closer   \n",
       "5OCJzvD7sykQEKHH7qAC3C                                     God is a woman   \n",
       "74lQVnoIFci2CVyru22Gum                                    Sorry Not Sorry   \n",
       "\n",
       "                                    added_at popularity  \\\n",
       "08bNPGLD8AhKpnnERrAc6G  2019-04-05T20:25:08Z         80   \n",
       "45Egmo7icyopuzJN0oMEdk  2020-05-02T23:01:55Z         76   \n",
       "3ee8Jmje8o58CHK66QrVC2  2021-11-17T08:06:33Z         86   \n",
       "3Vo4wInECJQuz9BIBMOu8i  2018-08-01T18:12:24Z         75   \n",
       "7dt6x5M1jzdTEt8oCbisTK  2021-08-24T19:59:57Z         82   \n",
       "3NLnwwAQbbFKcEcV8hDItk  2021-03-15T18:33:04Z         78   \n",
       "6DCZcSspjsKoFjzjrWoCdn  2021-02-07T16:49:10Z         83   \n",
       "3Q3myFA7q4Op95DOpHplaY  2020-09-22T19:50:17Z         43   \n",
       "1rfofaqEpACxVEHIZBJe6W  2021-11-12T08:58:07Z         82   \n",
       "1UZOjK1BwmwWU14Erba9CZ  2019-01-16T15:28:04Z         75   \n",
       "5Ohxk2dO5COHF1krpoPigN  2021-02-26T07:03:12Z         83   \n",
       "1f5cbQtDrykjarZVrShaDI  2018-03-19T23:27:43Z         76   \n",
       "3VlbOrM6nYPprVvzBZllE5  2019-01-12T06:14:38Z         75   \n",
       "0SuLAslEMFZAXf0SwY7syi  2021-03-15T18:33:04Z         69   \n",
       "5bcTCxgc7xVfSaMV3RuVke  2018-12-30T16:37:37Z         75   \n",
       "7qvxFz3JodM0A7xEM7k3YD  2020-12-09T03:00:26Z         71   \n",
       "6gBFPUFcJLzWGx4lenP6h2  2021-08-24T20:00:13Z         87   \n",
       "0jdny0dhgjUwoIp5GkqEaA  2018-06-21T19:56:51Z         72   \n",
       "6HZILIRieu8S0iqY8kIKhj  2018-07-14T02:56:46Z         79   \n",
       "0e7ipj03S05BNilyu5bRzt  2020-12-16T02:17:29Z         85   \n",
       "1zB4vmk8tFRmM9UULNzbLB  2021-07-28T03:27:24Z         85   \n",
       "4ipnJyDU3Lq15qBAYNqlqK  2021-09-30T18:11:53Z         71   \n",
       "7gvd8xj4QgPqbQSsn5pV7d  2020-12-09T02:57:44Z         12   \n",
       "5knuzwU65gJK7IF5yJsuaW  2021-04-14T12:39:23Z         77   \n",
       "15vzANxN8G9wWfwAJLLMCg  2019-12-31T20:48:56Z         72   \n",
       "1PSBzsahR2AKwLJgx8ehBj  2018-10-25T20:30:15Z         74   \n",
       "4Ro98RCK90oHqqSZUnTFq5  2019-08-30T09:59:53Z         68   \n",
       "5oO3drDxtziYU2H1X23ZIp  2020-05-19T21:51:45Z         83   \n",
       "7vu0JkJh0ldukEYbTVcqd0  2020-12-09T02:55:04Z         70   \n",
       "5cF0dROlMOK5uNZtivgu50  2018-06-12T19:34:55Z         82   \n",
       "6b8Be6ljOzmkOmFslEb23P  2020-12-31T16:28:42Z         79   \n",
       "0VgkVdmE4gld66l8iyGjgx  2021-08-24T20:00:25Z         82   \n",
       "7GX5flRQZVHRAGd6B4TmDO  2020-08-05T11:16:17Z         84   \n",
       "3a1lNhkSLSkpJE4MSHpDu9  2021-01-22T01:41:21Z         83   \n",
       "0pqnGHJpmpxLKifKRmU6WP  2020-11-18T06:52:58Z         88   \n",
       "7KXjTSCq5nL1LoYtL7XAwS  2018-08-29T12:15:23Z         83   \n",
       "2GyA33q5rti5IxkMQemRDH  2020-12-09T02:45:33Z         74   \n",
       "6eT7xZZlB2mwyzJ2sUKG6w  2021-08-24T20:06:35Z         77   \n",
       "7MXVkk9YMctZqd1Srtv4MB  2021-02-28T03:09:05Z         85   \n",
       "0L1IszgjzIZRBENyHJTQms  2020-12-09T02:36:41Z         65   \n",
       "5Eg4TsPcqNbIjd8ADMZosg  2020-12-09T02:36:09Z         60   \n",
       "5jsw9uXEGuKyJzs0boZ1bT  2020-12-30T04:38:13Z         74   \n",
       "4jgvPFeCE4V2HkYX6luV9B  2021-01-02T08:25:45Z          0   \n",
       "3KkXRkHbMCARz0aVfEt68P  2019-01-25T04:20:40Z         84   \n",
       "1jaTQ3nqY3oAAYyCTbIvnM  2021-02-07T17:03:37Z         81   \n",
       "3eekarcy7kvN4yt5ZFzltW  2019-11-18T20:03:24Z         85   \n",
       "4Km5HrUvYTaSUfiSGPJeQR  2020-08-05T11:17:46Z         75   \n",
       "7BKLCZ1jbUBVqRi2FVlTVw  2021-07-27T03:41:48Z         86   \n",
       "5OCJzvD7sykQEKHH7qAC3C  2021-09-30T18:09:35Z         81   \n",
       "74lQVnoIFci2CVyru22Gum  2021-05-10T00:12:45Z         52   \n",
       "\n",
       "                                                                  artists  \\\n",
       "08bNPGLD8AhKpnnERrAc6G  [{'id': '64KEffDW9EtZ1y2vBYgq8T', 'name': 'Mar...   \n",
       "45Egmo7icyopuzJN0oMEdk  [{'id': '6LuN9FCkKOj5PcnpouEgny', 'name': 'Kha...   \n",
       "3ee8Jmje8o58CHK66QrVC2  [{'id': '15UsOTVnJzReFVN1VCnxy4', 'name': 'XXX...   \n",
       "3Vo4wInECJQuz9BIBMOu8i  [{'id': '0du5cEVh5yTK9QJze8zA0C', 'name': 'Bru...   \n",
       "7dt6x5M1jzdTEt8oCbisTK  [{'id': '246dkjvS1zLTtiykXe5h60', 'name': 'Pos...   \n",
       "3NLnwwAQbbFKcEcV8hDItk  [{'id': '4AK6F7OLvEQ5QYCBNiQWHq', 'name': 'One...   \n",
       "6DCZcSspjsKoFjzjrWoCdn  [{'id': '3TVXtAsR1Inumwj472S9r4', 'name': 'Dra...   \n",
       "3Q3myFA7q4Op95DOpHplaY  [{'id': '2cFrymmkijnjDg9SS92EPM', 'name': 'bla...   \n",
       "1rfofaqEpACxVEHIZBJe6W  [{'id': '4nDoRrQiYLoBzwC5BhVJzF', 'name': 'Cam...   \n",
       "1UZOjK1BwmwWU14Erba9CZ  [{'id': '5YGY8feqx7naU7z4HrwZM6', 'name': 'Mil...   \n",
       "5Ohxk2dO5COHF1krpoPigN  [{'id': '6KImCVD70vtIoJWnq6nGn3', 'name': 'Har...   \n",
       "1f5cbQtDrykjarZVrShaDI  [{'id': '31W5EY0aAly4Qieq6OFu6I', 'name': 'A B...   \n",
       "3VlbOrM6nYPprVvzBZllE5  [{'id': '2wY79sveU1sp5g7SokKOiI', 'name': 'Sam...   \n",
       "0SuLAslEMFZAXf0SwY7syi  [{'id': '50JJSqHUf2RQ9xsHs0KMHg', 'name': 'Jon...   \n",
       "5bcTCxgc7xVfSaMV3RuVke  [{'id': '7CajNmpbOovFoOoasH2HaY', 'name': 'Cal...   \n",
       "7qvxFz3JodM0A7xEM7k3YD  [{'id': '6jJ0s89eD6GaHleKKya26X', 'name': 'Kat...   \n",
       "6gBFPUFcJLzWGx4lenP6h2  [{'id': '0Y5tJX1MQlPlqiwlOH1tJY', 'name': 'Tra...   \n",
       "0jdny0dhgjUwoIp5GkqEaA  [{'id': '6LqNN22kT3074XbTVUrhzX', 'name': 'Kes...   \n",
       "6HZILIRieu8S0iqY8kIKhj  [{'id': '2YZyLoL8N0Wb9xBt1NhZWg', 'name': 'Ken...   \n",
       "0e7ipj03S05BNilyu5bRzt  [{'id': '246dkjvS1zLTtiykXe5h60', 'name': 'Pos...   \n",
       "1zB4vmk8tFRmM9UULNzbLB  [{'id': '53XhwfbYqKCa1cC15pYq2q', 'name': 'Ima...   \n",
       "4ipnJyDU3Lq15qBAYNqlqK  [{'id': '1vyhD5VmyZ7KMfW5gqLgo5', 'name': 'J B...   \n",
       "7gvd8xj4QgPqbQSsn5pV7d  [{'id': '6S2OmqARrzebs0tKUEyXyp', 'name': 'Dem...   \n",
       "5knuzwU65gJK7IF5yJsuaW  [{'id': '6MDME20pz9RveH9rEXvrOM', 'name': 'Cle...   \n",
       "15vzANxN8G9wWfwAJLLMCg  [{'id': '69GGBxA162lTqCwzJG5jLp', 'name': 'The...   \n",
       "1PSBzsahR2AKwLJgx8ehBj  [{'id': '6TIYQ3jFPwQSRmorSezPxX', 'name': 'Mac...   \n",
       "4Ro98RCK90oHqqSZUnTFq5  [{'id': '5pUo3fmmHT8bhCyHE52hA6', 'name': 'Lia...   \n",
       "5oO3drDxtziYU2H1X23ZIp  [{'id': '5pKCCKE2ajJHZ9KAiaK11H', 'name': 'Rih...   \n",
       "7vu0JkJh0ldukEYbTVcqd0  [{'id': '0ZED1XzwlLHW4ZaG4lOT6m', 'name': 'Jul...   \n",
       "5cF0dROlMOK5uNZtivgu50  [{'id': '6VuMaDnrHyPL1p4EHjYLi7', 'name': 'Cha...   \n",
       "6b8Be6ljOzmkOmFslEb23P  [{'id': '0du5cEVh5yTK9QJze8zA0C', 'name': 'Bru...   \n",
       "0VgkVdmE4gld66l8iyGjgx  [{'id': '1RyvyyTE3xzB2ZywiAwp0i', 'name': 'Fut...   \n",
       "7GX5flRQZVHRAGd6B4TmDO  [{'id': '4O15NlyKLIASxsJ0PrXPfz', 'name': 'Lil...   \n",
       "3a1lNhkSLSkpJE4MSHpDu9  [{'id': '246dkjvS1zLTtiykXe5h60', 'name': 'Pos...   \n",
       "0pqnGHJpmpxLKifKRmU6WP  [{'id': '53XhwfbYqKCa1cC15pYq2q', 'name': 'Ima...   \n",
       "7KXjTSCq5nL1LoYtL7XAwS  [{'id': '2YZyLoL8N0Wb9xBt1NhZWg', 'name': 'Ken...   \n",
       "2GyA33q5rti5IxkMQemRDH  [{'id': '7n2wHs1TKAczGzO7Dd2rGr', 'name': 'Sha...   \n",
       "6eT7xZZlB2mwyzJ2sUKG6w  [{'id': '246dkjvS1zLTtiykXe5h60', 'name': 'Pos...   \n",
       "7MXVkk9YMctZqd1Srtv4MB  [{'id': '1Xyo4u8uXC1ZmMpatF05PJ', 'name': 'The...   \n",
       "0L1IszgjzIZRBENyHJTQms  [{'id': '2kRfqPViCqYdSGhYSM9R0Q', 'name': 'Mad...   \n",
       "5Eg4TsPcqNbIjd8ADMZosg  [{'id': '4Rxn7Im3LGfyRkY2FlHhWi', 'name': 'Nic...   \n",
       "5jsw9uXEGuKyJzs0boZ1bT  [{'id': '7n2wHs1TKAczGzO7Dd2rGr', 'name': 'Sha...   \n",
       "4jgvPFeCE4V2HkYX6luV9B  [{'id': '6jJ0s89eD6GaHleKKya26X', 'name': 'Kat...   \n",
       "3KkXRkHbMCARz0aVfEt68P  [{'id': '0LyfQWJT6nXafLPZqxe9Of', 'name': 'Var...   \n",
       "1jaTQ3nqY3oAAYyCTbIvnM  [{'id': '2LIk90788K0zvyj2JJVwkJ', 'name': 'Jac...   \n",
       "3eekarcy7kvN4yt5ZFzltW  [{'id': '0Y5tJX1MQlPlqiwlOH1tJY', 'name': 'Tra...   \n",
       "4Km5HrUvYTaSUfiSGPJeQR  [{'id': '6oMuImdp5ZcFhWP0ESe6mG', 'name': 'Mig...   \n",
       "7BKLCZ1jbUBVqRi2FVlTVw  [{'id': '69GGBxA162lTqCwzJG5jLp', 'name': 'The...   \n",
       "5OCJzvD7sykQEKHH7qAC3C  [{'id': '66CXWjxzNUsdJxJ2JdwvnR', 'name': 'Ari...   \n",
       "74lQVnoIFci2CVyru22Gum  [{'id': '6S2OmqARrzebs0tKUEyXyp', 'name': 'Dem...   \n",
       "\n",
       "                                                                    album  \\\n",
       "08bNPGLD8AhKpnnERrAc6G  {'id': '1BmxOYHjQv1dKZRr13YRZM', 'name': 'FRIE...   \n",
       "45Egmo7icyopuzJN0oMEdk  {'id': '4CEAev7neETRdqBFtzA8B9', 'name': 'Love...   \n",
       "3ee8Jmje8o58CHK66QrVC2  {'id': '2Ti79nwTsont5ZHfdxIzAm', 'name': '?', ...   \n",
       "3Vo4wInECJQuz9BIBMOu8i  {'id': '3mumK2ar9b4JPhVOZR0V2p', 'name': 'Fine...   \n",
       "7dt6x5M1jzdTEt8oCbisTK  {'id': '6trNtQUgC8cgbWcqoMYkOR', 'name': 'beer...   \n",
       "3NLnwwAQbbFKcEcV8hDItk  {'id': '1gMxiQQSg5zeu4htBosASY', 'name': 'Made...   \n",
       "6DCZcSspjsKoFjzjrWoCdn  {'id': '1ATL5GLyefJaxhQzSPVrLX', 'name': 'Scor...   \n",
       "3Q3myFA7q4Op95DOpHplaY  {'id': '30QoUTsSdpQuZunPNFsLnm', 'name': 'digi...   \n",
       "1rfofaqEpACxVEHIZBJe6W  {'id': '2vD3zSQr8hNlg0obNel4TE', 'name': 'Cami...   \n",
       "1UZOjK1BwmwWU14Erba9CZ  {'id': '5xG9gJcs9ut3qDWezHUlsX', 'name': 'Youn...   \n",
       "5Ohxk2dO5COHF1krpoPigN  {'id': '1FZKIm3JVDCxTchXDo5jOV', 'name': 'Harr...   \n",
       "1f5cbQtDrykjarZVrShaDI  {'id': '3HHp5I6Q6SEyU5bkvoCtnV', 'name': 'The ...   \n",
       "3VlbOrM6nYPprVvzBZllE5  {'id': '3XftSbguntyRTBQaGItmfK', 'name': 'The ...   \n",
       "0SuLAslEMFZAXf0SwY7syi  {'id': '2jJReDZqTuAxr4R0ItimZc', 'name': 'The ...   \n",
       "5bcTCxgc7xVfSaMV3RuVke  {'id': '2HaqChIDc5go3qxVunBDK0', 'name': 'Funk...   \n",
       "7qvxFz3JodM0A7xEM7k3YD  {'id': '0UlbGi4oAth8s6rwaGSU8Z', 'name': 'Witn...   \n",
       "6gBFPUFcJLzWGx4lenP6h2  {'id': '42WVQWuf1teDysXiOupIZt', 'name': 'Bird...   \n",
       "0jdny0dhgjUwoIp5GkqEaA  {'id': '1IYVB8NfiRqhdZlTxjspNh', 'name': 'Rain...   \n",
       "6HZILIRieu8S0iqY8kIKhj  {'id': '4eLPsYPBmXABThSJ821sqY', 'name': 'DAMN...   \n",
       "0e7ipj03S05BNilyu5bRzt  {'id': '6trNtQUgC8cgbWcqoMYkOR', 'name': 'beer...   \n",
       "1zB4vmk8tFRmM9UULNzbLB  {'id': '33pt9HBdGlAbRGBHQgsZsU', 'name': 'Evol...   \n",
       "4ipnJyDU3Lq15qBAYNqlqK  {'id': '1ZJtkYBzRb7drznu3UYb3k', 'name': 'Mi G...   \n",
       "7gvd8xj4QgPqbQSsn5pV7d  {'id': '1MI6gNg0plcEOgs8aezsjH', 'name': 'Tell...   \n",
       "5knuzwU65gJK7IF5yJsuaW  {'id': '3meZFplbMmji648oWUNEfQ', 'name': 'Rock...   \n",
       "15vzANxN8G9wWfwAJLLMCg  {'id': '64vx3cUb97lQGlgt8zozWL', 'name': 'Pari...   \n",
       "1PSBzsahR2AKwLJgx8ehBj  {'id': '3yWRq9Dd2UO5xyqxTjLDmp', 'name': 'bloo...   \n",
       "4Ro98RCK90oHqqSZUnTFq5  {'id': '4PrFFsJ2WAD46IXNdfx2dx', 'name': 'Stri...   \n",
       "5oO3drDxtziYU2H1X23ZIp  {'id': '4UlGauD7ROb3YbVOFMgW5u', 'name': 'ANTI...   \n",
       "7vu0JkJh0ldukEYbTVcqd0  {'id': '1qyjZGIeeLJlXbYWuoloWj', 'name': 'Nerv...   \n",
       "5cF0dROlMOK5uNZtivgu50  {'id': '0mZIUXje90JtHxPNzWsJNR', 'name': 'Voic...   \n",
       "6b8Be6ljOzmkOmFslEb23P  {'id': '4PgleR09JVnm3zY1fW3XBA', 'name': '24K ...   \n",
       "0VgkVdmE4gld66l8iyGjgx  {'id': '17FBoXK1NU2rvJBbzdzw0r', 'name': 'FUTU...   \n",
       "7GX5flRQZVHRAGd6B4TmDO  {'id': '733e1ZfktLSwj96X5rsMeE', 'name': 'Luv ...   \n",
       "3a1lNhkSLSkpJE4MSHpDu9  {'id': '5s0rmjP8XOPhP6HhqOhuyC', 'name': 'Ston...   \n",
       "0pqnGHJpmpxLKifKRmU6WP  {'id': '33pt9HBdGlAbRGBHQgsZsU', 'name': 'Evol...   \n",
       "7KXjTSCq5nL1LoYtL7XAwS  {'id': '4eLPsYPBmXABThSJ821sqY', 'name': 'DAMN...   \n",
       "2GyA33q5rti5IxkMQemRDH  {'id': '6sUOosXuYt0oUeczJRbedZ', 'name': 'Hand...   \n",
       "6eT7xZZlB2mwyzJ2sUKG6w  {'id': '5s0rmjP8XOPhP6HhqOhuyC', 'name': 'Ston...   \n",
       "7MXVkk9YMctZqd1Srtv4MB  {'id': '2ODvWsOgouMbaA5xf0RkJe', 'name': 'Star...   \n",
       "0L1IszgjzIZRBENyHJTQms  {'id': '0ufTtbuq00FDGauIfTUlNR', 'name': 'Dear...   \n",
       "5Eg4TsPcqNbIjd8ADMZosg  {'id': '4G4Azv5cwPBv3vCA0mD6ei', 'name': 'Nick...   \n",
       "5jsw9uXEGuKyJzs0boZ1bT  {'id': '6sUOosXuYt0oUeczJRbedZ', 'name': 'Hand...   \n",
       "4jgvPFeCE4V2HkYX6luV9B  {'id': '1V1S9lYgsd7sUlC8XTSZzS', 'name': 'Swis...   \n",
       "3KkXRkHbMCARz0aVfEt68P  {'id': '35s58BRTGAEWztPo9WqCIs', 'name': 'Spid...   \n",
       "1jaTQ3nqY3oAAYyCTbIvnM  {'id': '7AaqMMiYMvnMB3RcS8u3EY', 'name': 'Swee...   \n",
       "3eekarcy7kvN4yt5ZFzltW  {'id': '2uDTi1PlpSpvAv7IRAoAEU', 'name': 'HIGH...   \n",
       "4Km5HrUvYTaSUfiSGPJeQR  {'id': '2AvupjUeMnSffKEV05x222', 'name': 'Cult...   \n",
       "7BKLCZ1jbUBVqRi2FVlTVw  {'id': '0rSLgV8p5FzfnqlEk4GzxE', 'name': 'Clos...   \n",
       "5OCJzvD7sykQEKHH7qAC3C  {'id': '3tx8gQqWbGwqIGZHqDNrGe', 'name': 'Swee...   \n",
       "74lQVnoIFci2CVyru22Gum  {'id': '3HGsy50RgeXR4iUwfc0MgD', 'name': 'Tell...   \n",
       "\n",
       "                                                              in_playlist  \n",
       "08bNPGLD8AhKpnnERrAc6G  [1h4bUPnrpgn8qXGJ5dvTsu, 0qtzSPz2ZwC21sWdlEEos...  \n",
       "45Egmo7icyopuzJN0oMEdk  [1h4bUPnrpgn8qXGJ5dvTsu, 4UJ9uTJatHD4isU6JjC9B...  \n",
       "3ee8Jmje8o58CHK66QrVC2  [1h4bUPnrpgn8qXGJ5dvTsu, 5MLvN0gvJ4CfJxcNFRIkR...  \n",
       "3Vo4wInECJQuz9BIBMOu8i  [1h4bUPnrpgn8qXGJ5dvTsu, 4jhz41YA4LCLAzWXFX15k...  \n",
       "7dt6x5M1jzdTEt8oCbisTK  [1h4bUPnrpgn8qXGJ5dvTsu, 4UJ9uTJatHD4isU6JjC9B...  \n",
       "3NLnwwAQbbFKcEcV8hDItk  [1h4bUPnrpgn8qXGJ5dvTsu, 6ZN6dlzC9EMlveIhG7N9B...  \n",
       "6DCZcSspjsKoFjzjrWoCdn  [1h4bUPnrpgn8qXGJ5dvTsu, 6ELUs1QqubzhS8WtZfe55...  \n",
       "3Q3myFA7q4Op95DOpHplaY   [1h4bUPnrpgn8qXGJ5dvTsu, 2rMSK78e2ck6Z3R6SCMxaY]  \n",
       "1rfofaqEpACxVEHIZBJe6W  [1h4bUPnrpgn8qXGJ5dvTsu, 1Lzr0Hx5uXKs9R9WRzME2...  \n",
       "1UZOjK1BwmwWU14Erba9CZ   [1h4bUPnrpgn8qXGJ5dvTsu, 4OwLvyFX0jlmRZNBhJ8X2P]  \n",
       "5Ohxk2dO5COHF1krpoPigN  [1h4bUPnrpgn8qXGJ5dvTsu, 289LoXllsFvxjHuBVTvYa...  \n",
       "1f5cbQtDrykjarZVrShaDI  [1h4bUPnrpgn8qXGJ5dvTsu, 4HDyn4OnRzriPGtBk1oS9...  \n",
       "3VlbOrM6nYPprVvzBZllE5  [1h4bUPnrpgn8qXGJ5dvTsu, 0rbxZLZVWgSnZRGYsx1rh...  \n",
       "0SuLAslEMFZAXf0SwY7syi  [1h4bUPnrpgn8qXGJ5dvTsu, 0qtzSPz2ZwC21sWdlEEos...  \n",
       "5bcTCxgc7xVfSaMV3RuVke  [1h4bUPnrpgn8qXGJ5dvTsu, 3Vgq9OX5rjFrLKuxcz7Dg...  \n",
       "7qvxFz3JodM0A7xEM7k3YD                           [1h4bUPnrpgn8qXGJ5dvTsu]  \n",
       "6gBFPUFcJLzWGx4lenP6h2  [1h4bUPnrpgn8qXGJ5dvTsu, 6DduuG3PAXK7CN4KKvqC5...  \n",
       "0jdny0dhgjUwoIp5GkqEaA  [1h4bUPnrpgn8qXGJ5dvTsu, 6fKtaiT4GmkPa20sUdyhe...  \n",
       "6HZILIRieu8S0iqY8kIKhj  [1h4bUPnrpgn8qXGJ5dvTsu, 4ofRyb4Rb0PS4bUuBdLEK...  \n",
       "0e7ipj03S05BNilyu5bRzt  [1h4bUPnrpgn8qXGJ5dvTsu, 1dy9gFzsX9vVTRNXZmYCz...  \n",
       "1zB4vmk8tFRmM9UULNzbLB  [1h4bUPnrpgn8qXGJ5dvTsu, 0qtzSPz2ZwC21sWdlEEos...  \n",
       "4ipnJyDU3Lq15qBAYNqlqK  [1h4bUPnrpgn8qXGJ5dvTsu, 48u84Gg1ZEzA5SMLJKsPO...  \n",
       "7gvd8xj4QgPqbQSsn5pV7d                           [1h4bUPnrpgn8qXGJ5dvTsu]  \n",
       "5knuzwU65gJK7IF5yJsuaW  [1h4bUPnrpgn8qXGJ5dvTsu, 7bEgVE7TQAS0TgNcUZ7hp...  \n",
       "15vzANxN8G9wWfwAJLLMCg  [1h4bUPnrpgn8qXGJ5dvTsu, 3rblSOJxETAAcYZc2gPil...  \n",
       "1PSBzsahR2AKwLJgx8ehBj   [1h4bUPnrpgn8qXGJ5dvTsu, 1XHA3v0hSTa8vgWgdOvEvs]  \n",
       "4Ro98RCK90oHqqSZUnTFq5   [1h4bUPnrpgn8qXGJ5dvTsu, 1RIHIpg7SO55n6Mk8h7gL1]  \n",
       "5oO3drDxtziYU2H1X23ZIp   [1h4bUPnrpgn8qXGJ5dvTsu, 6DGAqXZUZ1lF0GWlXLC30K]  \n",
       "7vu0JkJh0ldukEYbTVcqd0                           [1h4bUPnrpgn8qXGJ5dvTsu]  \n",
       "5cF0dROlMOK5uNZtivgu50  [1h4bUPnrpgn8qXGJ5dvTsu, 3WxWUh8QMQLTn1mQIlcCN...  \n",
       "6b8Be6ljOzmkOmFslEb23P  [1h4bUPnrpgn8qXGJ5dvTsu, 6VcX00B7u0QJ9PbEWv5m0...  \n",
       "0VgkVdmE4gld66l8iyGjgx  [1h4bUPnrpgn8qXGJ5dvTsu, 7Ib0MRlZk6uuFv4KYIgnL...  \n",
       "7GX5flRQZVHRAGd6B4TmDO  [1h4bUPnrpgn8qXGJ5dvTsu, 2Rq8BfhZstvl8ceQL1U9g...  \n",
       "3a1lNhkSLSkpJE4MSHpDu9  [1h4bUPnrpgn8qXGJ5dvTsu, 6IXdZdcAPlYai5i21VaKo...  \n",
       "0pqnGHJpmpxLKifKRmU6WP  [1h4bUPnrpgn8qXGJ5dvTsu, 3QQyQzSESsbYqqjYoTAq7...  \n",
       "7KXjTSCq5nL1LoYtL7XAwS  [1h4bUPnrpgn8qXGJ5dvTsu, 2rMSK78e2ck6Z3R6SCMxa...  \n",
       "2GyA33q5rti5IxkMQemRDH                           [1h4bUPnrpgn8qXGJ5dvTsu]  \n",
       "6eT7xZZlB2mwyzJ2sUKG6w  [1h4bUPnrpgn8qXGJ5dvTsu, 1dy9gFzsX9vVTRNXZmYCz...  \n",
       "7MXVkk9YMctZqd1Srtv4MB  [1h4bUPnrpgn8qXGJ5dvTsu, 0qtzSPz2ZwC21sWdlEEos...  \n",
       "0L1IszgjzIZRBENyHJTQms                           [1h4bUPnrpgn8qXGJ5dvTsu]  \n",
       "5Eg4TsPcqNbIjd8ADMZosg                           [1h4bUPnrpgn8qXGJ5dvTsu]  \n",
       "5jsw9uXEGuKyJzs0boZ1bT   [1h4bUPnrpgn8qXGJ5dvTsu, 1Ui0fZbOr2GDlJtxTHmJEa]  \n",
       "4jgvPFeCE4V2HkYX6luV9B                           [1h4bUPnrpgn8qXGJ5dvTsu]  \n",
       "3KkXRkHbMCARz0aVfEt68P  [1h4bUPnrpgn8qXGJ5dvTsu, 4UJ9uTJatHD4isU6JjC9B...  \n",
       "1jaTQ3nqY3oAAYyCTbIvnM  [1h4bUPnrpgn8qXGJ5dvTsu, 6EoAjwDycXQQfhbz2VGZP...  \n",
       "3eekarcy7kvN4yt5ZFzltW  [1h4bUPnrpgn8qXGJ5dvTsu, 6oqZRaQrP27lM26phWtzw...  \n",
       "4Km5HrUvYTaSUfiSGPJeQR  [1h4bUPnrpgn8qXGJ5dvTsu, 4jhz41YA4LCLAzWXFX15k...  \n",
       "7BKLCZ1jbUBVqRi2FVlTVw  [1h4bUPnrpgn8qXGJ5dvTsu, 3Vgq9OX5rjFrLKuxcz7Dg...  \n",
       "5OCJzvD7sykQEKHH7qAC3C  [1h4bUPnrpgn8qXGJ5dvTsu, 4ofRyb4Rb0PS4bUuBdLEK...  \n",
       "74lQVnoIFci2CVyru22Gum                           [1h4bUPnrpgn8qXGJ5dvTsu]  "
      ]
     },
     "execution_count": 103,
     "metadata": {},
     "output_type": "execute_result"
    }
   ],
   "source": [
    "reference_trx"
   ]
  },
  {
   "cell_type": "code",
   "execution_count": 123,
   "id": "6bd9fe22",
   "metadata": {
    "ExecuteTime": {
     "end_time": "2022-05-14T18:06:08.835034Z",
     "start_time": "2022-05-14T18:06:08.811067Z"
    }
   },
   "outputs": [
    {
     "ename": "AttributeError",
     "evalue": "'dict' object has no attribute 'head'",
     "output_type": "error",
     "traceback": [
      "\u001b[1;31m---------------------------------------------------------------------------\u001b[0m",
      "\u001b[1;31mAttributeError\u001b[0m                            Traceback (most recent call last)",
      "\u001b[1;32m<ipython-input-123-1ceba1e0e163>\u001b[0m in \u001b[0;36m<module>\u001b[1;34m\u001b[0m\n\u001b[1;32m----> 1\u001b[1;33m \u001b[0mco_occurrence_artists_train\u001b[0m\u001b[1;33m.\u001b[0m\u001b[0mhead\u001b[0m\u001b[1;33m(\u001b[0m\u001b[1;33m)\u001b[0m\u001b[1;33m\u001b[0m\u001b[1;33m\u001b[0m\u001b[0m\n\u001b[0m",
      "\u001b[1;31mAttributeError\u001b[0m: 'dict' object has no attribute 'head'"
     ]
    }
   ],
   "source": [
    "co_occurrence_artists_train.head()"
   ]
  },
  {
   "cell_type": "code",
   "execution_count": null,
   "id": "b3efbc70",
   "metadata": {},
   "outputs": [],
   "source": [
    "trk"
   ]
  },
  {
   "cell_type": "code",
   "execution_count": 130,
   "id": "cf48bc50",
   "metadata": {
    "ExecuteTime": {
     "end_time": "2022-05-14T18:07:53.528422Z",
     "start_time": "2022-05-14T18:07:53.507576Z"
    },
    "run_control": {
     "marked": true
    }
   },
   "outputs": [
    {
     "name": "stdout",
     "output_type": "stream",
     "text": [
      "08bNPGLD8AhKpnnERrAc6G\n",
      "{'id': '64KEffDW9EtZ1y2vBYgq8T', 'name': 'Marshmello', 'in_playlist': ['2dbL1KoWphbT4uZKOgnnKw', '36gUYaCXYmKJ5FQCjRGXOm', '4jwLkSVrnathscvWtxy1Fa', '3NWlcmwxDe3viSgLh0Uyan', '2y4snt2vxFnEBKzeYfVCEj', '3o0YWwdt1uNsb27RsMF1NP', '0x8L3xUxvSyIMRYnYkiV0t', '0x8L3xUxvSyIMRYnYkiV0t', '0x8L3xUxvSyIMRYnYkiV0t', '0WlA8Y3FUV12uEFTqdjX5h', '0WlA8Y3FUV12uEFTqdjX5h', '1TD0LTMfEnlGUdWwXPnHH7', '6oBdDSGRarIXfnaENeezML', '6oBdDSGRarIXfnaENeezML', '2y55MTtGfZV6GcvZ6a3ZKM', '2y55MTtGfZV6GcvZ6a3ZKM', '29OMQ9a5Teg3DLDIBE9pL4', '0XodjwYYVOz9VPBJRvaQdj', '0XodjwYYVOz9VPBJRvaQdj', '08OatoWvxf9XWIGKLCHmw0', '0XbIRrKGcTrHnjZ8548dtp', '0XbIRrKGcTrHnjZ8548dtp', '7vYF2UuSJtA6ErtAutUe4j', '7vYF2UuSJtA6ErtAutUe4j', '27HlKfzMohMjVPuYYbRgka', '27HlKfzMohMjVPuYYbRgka', '1ZZWyjlXlF8Y0I8q4WzRvy', '1ZZWyjlXlF8Y0I8q4WzRvy', '1ZZWyjlXlF8Y0I8q4WzRvy', '6HIHUzISZdwDtu2MRrGlDF', '6HIHUzISZdwDtu2MRrGlDF', '6HIHUzISZdwDtu2MRrGlDF', '6HIHUzISZdwDtu2MRrGlDF', '6HIHUzISZdwDtu2MRrGlDF', '6HIHUzISZdwDtu2MRrGlDF', '6HIHUzISZdwDtu2MRrGlDF', '6HIHUzISZdwDtu2MRrGlDF', '6HIHUzISZdwDtu2MRrGlDF', '4NlCobw1W8AFORcTjwrQvP', '4NlCobw1W8AFORcTjwrQvP', '4glsFDTofvR4KxSLuwZ72h', '0rbxZLZVWgSnZRGYsx1rhg', '1cDzWcgkf45iWkLO3F59QJ', '4f2xW5SeB1LS6ub3MlaRli', '4f2xW5SeB1LS6ub3MlaRli', '5rm9mC1YVDlHAmsjwRjTeN', '5rm9mC1YVDlHAmsjwRjTeN', '1qESsWgi4q9hM9CRXM5UWc', '1qESsWgi4q9hM9CRXM5UWc', '1qESsWgi4q9hM9CRXM5UWc', '6ZN6dlzC9EMlveIhG7N9Bv', '4yauPPW2UlnxeVNORBobAW', '46cLhLO3IfG9TFIC4RczfM', '6rcBuUFlN5zmIIZ35juS4e', '5VCVwjpqU6AtthmBlUpQv6']}\n",
      "64KEffDW9EtZ1y2vBYgq8T\n",
      "{'id': '1zNqDE7qDGCsyzJwohVaoX', 'name': 'Anne-Marie', 'in_playlist': ['3NWlcmwxDe3viSgLh0Uyan', '3NWlcmwxDe3viSgLh0Uyan', '0x8L3xUxvSyIMRYnYkiV0t', '1TD0LTMfEnlGUdWwXPnHH7', '1TD0LTMfEnlGUdWwXPnHH7', '1TD0LTMfEnlGUdWwXPnHH7', '29OMQ9a5Teg3DLDIBE9pL4', '29OMQ9a5Teg3DLDIBE9pL4', '7B4T5grjkOhpJoYQR5Kji2', '0XodjwYYVOz9VPBJRvaQdj', '0XbIRrKGcTrHnjZ8548dtp', '7vYF2UuSJtA6ErtAutUe4j', '7vYF2UuSJtA6ErtAutUe4j', '27HlKfzMohMjVPuYYbRgka', '4NlCobw1W8AFORcTjwrQvP', '4NlCobw1W8AFORcTjwrQvP', '4NlCobw1W8AFORcTjwrQvP', '4f2xW5SeB1LS6ub3MlaRli', '4f2xW5SeB1LS6ub3MlaRli', '6ZN6dlzC9EMlveIhG7N9Bv', '46cLhLO3IfG9TFIC4RczfM', '5VCVwjpqU6AtthmBlUpQv6']}\n",
      "1zNqDE7qDGCsyzJwohVaoX\n"
     ]
    }
   ],
   "source": [
    "for t, trk in enumerate(reference_trx['id']):\n",
    "    if t == 0:\n",
    "        print(trk)\n",
    "#         print(reference_trx.T[trk].artists)\n",
    "        for a in reference_trx.T[trk].artists:\n",
    "            print(a)\n",
    "            print(a['id'])\n",
    "#             co_occurrence_artists_train[a.id]\n",
    "            "
   ]
  },
  {
   "cell_type": "markdown",
   "id": "d60cf1da",
   "metadata": {},
   "source": [
    "## Album"
   ]
  },
  {
   "cell_type": "code",
   "execution_count": 18,
   "id": "c84ff16e",
   "metadata": {
    "ExecuteTime": {
     "end_time": "2022-05-14T16:37:56.907310Z",
     "start_time": "2022-05-14T16:37:56.726334Z"
    },
    "run_control": {
     "marked": true
    }
   },
   "outputs": [
    {
     "name": "stdout",
     "output_type": "stream",
     "text": [
      "50 50 50\n"
     ]
    }
   ],
   "source": [
    "def get_trk_album(playlist_trx, trx_train, trx_test, ref_fraction):\n",
    "    trx_available, reference_trx, expected_trx = prepare_inputs(playlist_trx, trx_train, trx_test, ref_fraction)\n",
    "        \n",
    "    select = random.sample(trx_available['id'].values.tolist(), len(expected_trx))\n",
    "    \n",
    "    selected_trx = trx_available[trx_available.id.isin(select)]\n",
    "\n",
    "    return reference_trx, expected_trx, selected_trx\n",
    "\n",
    "\n",
    "reference_trx, expected_trx, selected_trx = get_trk_album(\n",
    "    df_playlists_test['1h4bUPnrpgn8qXGJ5dvTsu'], df_tracks_train,\n",
    "    df_tracks_test, .5)\n",
    "print(len(reference_trx), len(expected_trx), len(selected_trx))\n",
    "# reference_trx, expected_trx, selected_trx"
   ]
  },
  {
   "cell_type": "markdown",
   "id": "5f17764d",
   "metadata": {},
   "source": [
    "## Track"
   ]
  },
  {
   "cell_type": "code",
   "execution_count": 19,
   "id": "fbe1d695",
   "metadata": {
    "ExecuteTime": {
     "end_time": "2022-05-14T16:37:57.108068Z",
     "start_time": "2022-05-14T16:37:56.909299Z"
    },
    "run_control": {
     "marked": true
    }
   },
   "outputs": [
    {
     "name": "stdout",
     "output_type": "stream",
     "text": [
      "50 50 50\n"
     ]
    }
   ],
   "source": [
    "def get_trk_track(playlist_trx, trx_train, trx_test, ref_fraction):\n",
    "    trx_available, reference_trx, expected_trx = prepare_inputs(playlist_trx, trx_train, trx_test, ref_fraction)\n",
    "        \n",
    "    select = random.sample(trx_available['id'].values.tolist(), len(expected_trx))\n",
    "    \n",
    "    selected_trx = trx_available[trx_available.id.isin(select)]\n",
    "\n",
    "    return reference_trx, expected_trx, selected_trx\n",
    "\n",
    "\n",
    "reference_trx, expected_trx, selected_trx = get_trk_track(\n",
    "    df_playlists_test['1h4bUPnrpgn8qXGJ5dvTsu'], df_tracks_train,\n",
    "    df_tracks_test, .5)\n",
    "print(len(reference_trx), len(expected_trx), len(selected_trx))\n",
    "# reference_trx, expected_trx, selected_trx"
   ]
  },
  {
   "cell_type": "markdown",
   "id": "22781461",
   "metadata": {
    "ExecuteTime": {
     "end_time": "2022-05-07T00:00:10.793486Z",
     "start_time": "2022-05-07T00:00:08.844112Z"
    }
   },
   "source": [
    "# Evaluate models"
   ]
  },
  {
   "cell_type": "code",
   "execution_count": 20,
   "id": "52e5fdc6",
   "metadata": {
    "ExecuteTime": {
     "end_time": "2022-05-14T16:37:57.123997Z",
     "start_time": "2022-05-14T16:37:57.110035Z"
    },
    "run_control": {
     "marked": false
    }
   },
   "outputs": [],
   "source": [
    "def get_trk(method, reference, ref_fraction):\n",
    "    if method == 'random':\n",
    "        reference_trx, expected_trx, selected_trx = get_trk_rnd(\n",
    "            df_playlists_test[reference], df_tracks_train, df_tracks_test,\n",
    "            ref_fraction)\n",
    "    elif method == 'strata':\n",
    "        reference_trx, expected_trx, selected_trx = get_trk_strata(\n",
    "            df_playlists_test[reference], df_tracks_train, df_tracks_test,\n",
    "            ref_fraction)\n",
    "    elif method == 'artist':\n",
    "        reference_trx, expected_trx, selected_trx = get_trk_artist(\n",
    "            df_playlists_test[reference], df_tracks_train, df_tracks_test,\n",
    "            ref_fraction)\n",
    "    elif method == 'album':\n",
    "        reference_trx, expected_trx, selected_trx = get_trk_album(\n",
    "            df_playlists_test[reference], df_tracks_train, df_tracks_test,\n",
    "            ref_fraction)\n",
    "    elif method == 'playlist':\n",
    "        reference_trx, expected_trx, selected_trx = get_trk_track(\n",
    "            df_playlists_test[reference], df_tracks_train, df_tracks_test,\n",
    "            ref_fraction)\n",
    "\n",
    "    return reference_trx, expected_trx, selected_trx"
   ]
  },
  {
   "cell_type": "code",
   "execution_count": 21,
   "id": "cb9f7409",
   "metadata": {
    "ExecuteTime": {
     "end_time": "2022-05-14T16:37:57.139955Z",
     "start_time": "2022-05-14T16:37:57.125993Z"
    }
   },
   "outputs": [],
   "source": [
    "methods = ['random', 'strata', 'artist', 'album', 'playlist']\n",
    "splits = [.25, .5, .75]"
   ]
  },
  {
   "cell_type": "code",
   "execution_count": 96,
   "id": "e5b676e5",
   "metadata": {
    "ExecuteTime": {
     "end_time": "2022-05-14T17:23:25.509332Z",
     "start_time": "2022-05-14T17:23:25.492379Z"
    }
   },
   "outputs": [],
   "source": [
    "methods = ['random', 'strata']\n",
    "splits = [.5]"
   ]
  },
  {
   "cell_type": "code",
   "execution_count": 97,
   "id": "26a08691",
   "metadata": {
    "ExecuteTime": {
     "end_time": "2022-05-14T17:31:39.151896Z",
     "start_time": "2022-05-14T17:23:25.727996Z"
    },
    "run_control": {
     "marked": false
    },
    "scrolled": false
   },
   "outputs": [
    {
     "name": "stdout",
     "output_type": "stream",
     "text": [
      "random\n",
      "0.5\n",
      "14/05/2022 13:23 - 0/533 - LEN: 0\n",
      "14/05/2022 13:23 - 100/533 - LEN: 100\n",
      "14/05/2022 13:23 - 200/533 - LEN: 200\n",
      "14/05/2022 13:24 - 300/533 - LEN: 300\n",
      "14/05/2022 13:24 - 400/533 - LEN: 400\n",
      "14/05/2022 13:24 - 500/533 - LEN: 500\n",
      "strata\n",
      "0.5\n",
      "14/05/2022 13:24 - 0/533 - LEN: 533\n",
      "14/05/2022 13:26 - 100/533 - LEN: 633\n",
      "14/05/2022 13:27 - 200/533 - LEN: 733\n",
      "14/05/2022 13:28 - 300/533 - LEN: 833\n",
      "14/05/2022 13:29 - 400/533 - LEN: 933\n",
      "14/05/2022 13:31 - 500/533 - LEN: 1033\n"
     ]
    }
   ],
   "source": [
    "results = pd.DataFrame(columns=[\n",
    "    'playlist', 'method', 'frac', 'total_tracks', 'selected_tracks', 'matches',\n",
    "    'error'\n",
    "])\n",
    "\n",
    "a = df_playlists_test\n",
    "for m, method in enumerate(methods):\n",
    "    print(method)\n",
    "    for f, frac in enumerate(splits):\n",
    "        print(frac)\n",
    "        for p, playlist in enumerate(a):\n",
    "            if p % 100 == 0:\n",
    "                print(\"%s - %d/%d - LEN: %d\" % (datetime.datetime.now().strftime(format), p, len(a.T), len(results)))\n",
    "            #                 if p == 0:\n",
    "            #                 print(p)\n",
    "            #                 print(df_playlists_test[playlist])\n",
    "            #                 print(type(df_playlists_test[playlist]))\n",
    "            #                 print(df_playlists_test[playlist])\n",
    "            reference_trx, expected_trx, selected_trx = get_trk(\n",
    "            method, playlist, frac)\n",
    "\n",
    "            matches = len(selected_trx[selected_trx.id.isin(expected_trx.id)].id)\n",
    "            total_trx = a[playlist].total_tracks\n",
    "            error = 1 - matches / a[playlist].total_tracks\n",
    "            sel_trx = len(selected_trx)\n",
    "\n",
    "            results = results.append(\n",
    "            {\n",
    "            'playlist': playlist,\n",
    "            'method': method,\n",
    "            'frac': frac,\n",
    "            'total_tracks': total_trx,\n",
    "            'selected_tracks': sel_trx,\n",
    "            'matches': matches,\n",
    "            'error': error\n",
    "            },\n",
    "            ignore_index=True)\n",
    "\n",
    "results.set_index('playlist', inplace=True)\n",
    "# print(len(reference_trx), len(expected_trx), len(selected_trx))"
   ]
  },
  {
   "cell_type": "code",
   "execution_count": null,
   "id": "44984df4",
   "metadata": {
    "ExecuteTime": {
     "end_time": "2022-05-14T16:37:59.587819Z",
     "start_time": "2022-05-14T16:36:25.970Z"
    }
   },
   "outputs": [],
   "source": [
    "results"
   ]
  },
  {
   "cell_type": "code",
   "execution_count": null,
   "id": "3999268e",
   "metadata": {
    "ExecuteTime": {
     "end_time": "2022-05-14T16:37:59.589827Z",
     "start_time": "2022-05-14T16:36:25.973Z"
    }
   },
   "outputs": [],
   "source": [
    "summ = results['matches'].describe()\n",
    "summ"
   ]
  },
  {
   "cell_type": "code",
   "execution_count": null,
   "id": "4e0c6746",
   "metadata": {
    "ExecuteTime": {
     "end_time": "2022-05-14T16:37:59.590824Z",
     "start_time": "2022-05-14T16:36:25.975Z"
    }
   },
   "outputs": [],
   "source": [
    "# profiling_grid['performance_ratio'] = profiling_grid['accuracy']/profiling_grid['run_time']\n",
    "# profiling_grid['run_time_mean'] = profiling_grid.groupby('classifier')['run_time'].transform('mean')\n",
    "# profiling_grid['accuracy_mean'] = profiling_grid.groupby('classifier')['accuracy'].transform('mean')\n",
    "# profiling_grid['performance_average'] = profiling_grid.groupby('classifier')['performance_ratio'].transform('mean')\n",
    "# profiling_grid['rank_overall'] = profiling_grid['performance_ratio'].rank(method='dense', ascending=False)\n",
    "# profiling_grid['rank_average'] = profiling_grid['performance_average'].rank(method='dense', ascending=False)"
   ]
  },
  {
   "cell_type": "code",
   "execution_count": null,
   "id": "78b59049",
   "metadata": {
    "ExecuteTime": {
     "end_time": "2022-05-14T16:37:59.592807Z",
     "start_time": "2022-05-14T16:36:25.978Z"
    }
   },
   "outputs": [],
   "source": [
    "# def visualize_all_box(df, group):\n",
    "#     rows = math.ceil(math.sqrt(len(df.keys()) - 1))\n",
    "#     cols = math.floor(math.sqrt(len(df.keys()) - 1))\n",
    "\n",
    "#     fig, axes = plt.subplots(ncols=cols, nrows=rows, figsize=(20, 15))\n",
    "#     fig.suptitle('Boxplot of each method split and fraction recommended')\n",
    "\n",
    "#     i = 0\n",
    "#     for method in df.keys():\n",
    "#         i = i + 1\n",
    "\n",
    "#         r = int((i - 1) / cols)\n",
    "#         c = i - r * cols - 1\n",
    "#         print(r, c)\n",
    "#         sns.boxplot(ax=axes[r, c],\n",
    "#                     data=df,\n",
    "#                     x=group,\n",
    "#                     y=matches,\n",
    "#                     hue=group,\n",
    "#                     palette='summer_r',\n",
    "#                     showmeans=True,\n",
    "#                     meanprops={\n",
    "#                         \"marker\": \"o\",\n",
    "#                         \"markerfacecolor\": \"red\",\n",
    "#                         \"markeredgecolor\": \"red\"\n",
    "#                     },\n",
    "#                     flierprops=dict(marker='.',\n",
    "#                                     markerfacecolor='steelblue',\n",
    "#                                     markeredgecolor='steelblue',\n",
    "#                                     alpha=.5),\n",
    "#                     boxprops=dict(alpha=.7),\n",
    "#                     width=.5,\n",
    "#                     notch=True).set_title(method)\n",
    "\n",
    "# #         for line in axes[r, c].get_lines()[6::7]:\n",
    "# #             #                 line.set_mec('purple') # to test that we have the correct Line2Ds\n",
    "# #             offsets = line.get_xdata()\n",
    "# #             #                 print(y)\n",
    "# #             line.set_xdata(offsets +\n",
    "# #                            np.random.uniform(-0.05, 0.05, offsets.size))\n",
    "\n",
    "#         axes[r, c].legend(loc='upper center',\n",
    "#                           title=method,\n",
    "#                           frameon=False,\n",
    "#                           ncol=2)\n",
    "#         axes[r, c].set_xticklabels(['25%', '50%', '75%'])\n",
    "#     plt.subplots_adjust(left=0.1,\n",
    "#                         bottom=0.1,\n",
    "#                         right=0.9,\n",
    "#                         top=0.9,\n",
    "#                         wspace=0.15,\n",
    "#                         hspace=0.25)\n",
    "#     plt.show()\n",
    "\n",
    "\n",
    "# visualize_all_box(results, 'frac')\n",
    "\n",
    "# # Statistical summary of the numerical columns\n",
    "# summ = results.describe().transpose()\n",
    "# summ"
   ]
  },
  {
   "cell_type": "markdown",
   "id": "cc601b7a",
   "metadata": {},
   "source": [
    "## Results visualization"
   ]
  },
  {
   "cell_type": "code",
   "execution_count": 98,
   "id": "931d0079",
   "metadata": {
    "ExecuteTime": {
     "end_time": "2022-05-14T17:37:46.642686Z",
     "start_time": "2022-05-14T17:37:46.117395Z"
    }
   },
   "outputs": [
    {
     "data": {
      "image/png": "[encoded data removed]",
      "text/plain": [
       "<Figure size 1080x1080 with 2 Axes>"
      ]
     },
     "metadata": {
      "needs_background": "light"
     },
     "output_type": "display_data"
    }
   ],
   "source": [
    "fig, axes = plt.subplots(ncols=1, nrows=2, figsize=(15, 15))\n",
    "sns.scatterplot(ax=axes[0], x='frac', y='error', data=results, s=500, alpha =0.7, hue='method');\n",
    "# plt.y_label('Run time') #y label\n",
    "\n",
    "# sns.scatterplot(ax=axes[1], x='run_time_mean', y='accuracy_mean', data=profiling_grid, s=500, alpha =0.7, hue='classifier');\n",
    "# plt.xlabel('Mean run time') #y label\n",
    "# plt.ylabel('Mean accuracy') #x label\n",
    "# plt.grid()\n",
    "plt.rcParams['axes.grid'] = True"
   ]
  },
  {
   "cell_type": "markdown",
   "id": "0643d88d",
   "metadata": {},
   "source": [
    "#  Tests"
   ]
  },
  {
   "cell_type": "code",
   "execution_count": null,
   "id": "996b1727",
   "metadata": {
    "ExecuteTime": {
     "end_time": "2022-05-14T16:37:59.595798Z",
     "start_time": "2022-05-14T16:36:25.984Z"
    }
   },
   "outputs": [],
   "source": [
    "# expected_trx"
   ]
  },
  {
   "cell_type": "code",
   "execution_count": null,
   "id": "9a5f3c7f",
   "metadata": {
    "ExecuteTime": {
     "end_time": "2022-05-14T16:37:59.596795Z",
     "start_time": "2022-05-14T16:36:25.986Z"
    }
   },
   "outputs": [],
   "source": [
    "# selected_trx"
   ]
  },
  {
   "cell_type": "code",
   "execution_count": null,
   "id": "e9d3230e",
   "metadata": {
    "ExecuteTime": {
     "end_time": "2022-05-14T16:37:59.597792Z",
     "start_time": "2022-05-14T16:36:25.989Z"
    }
   },
   "outputs": [],
   "source": [
    "# # reference_trx, expected_trx, \n",
    "# selected_trx = selected_trx.append(expected_trx[expected_trx['id'] == '0e3CM2Fm4cpDtxjzYkdLAr'])\n",
    "\n",
    "# matches = selected_trx[selected_trx.id.isin(expected_trx.id)].id\n",
    "# matches\n",
    "# len(matches)"
   ]
  },
  {
   "cell_type": "code",
   "execution_count": null,
   "id": "eb68d9f5",
   "metadata": {
    "ExecuteTime": {
     "end_time": "2022-05-14T16:37:59.598803Z",
     "start_time": "2022-05-14T16:36:25.993Z"
    }
   },
   "outputs": [],
   "source": [
    "# selected_trx.info()"
   ]
  },
  {
   "cell_type": "code",
   "execution_count": null,
   "id": "24c2c6c3",
   "metadata": {
    "ExecuteTime": {
     "end_time": "2022-05-14T16:37:59.599787Z",
     "start_time": "2022-05-14T16:36:25.997Z"
    }
   },
   "outputs": [],
   "source": [
    "# for t, tid in enumerate(co_occurrence_tracks_train):\n",
    "#     if t == 10:\n",
    "#         df = co_occurrence_tracks_train[tid]\n",
    "#         df['cum_sum'] = df['cnt'].cumsum()\n",
    "#         df['cum_perc'] = 100*df['cum_sum']/df['cnt'].sum()\n",
    "#         selector = random.sample(list(df.index),len(df))\n",
    "#         print(selector)\n",
    "#         print(len(selector))\n",
    "\n",
    "#         cnt = 0\n",
    "#         tot = 0\n",
    "#         for i, item in enumerate(co_occurrence_tracks_train[tid]['cnt']):\n",
    "#                 cnt = cnt + 1\n",
    "#                 tot = tot + item\n",
    "#         print(cnt)\n",
    "#         print(tot)"
   ]
  },
  {
   "cell_type": "code",
   "execution_count": null,
   "id": "c6f1ae0a",
   "metadata": {
    "ExecuteTime": {
     "end_time": "2022-05-14T16:37:59.600784Z",
     "start_time": "2022-05-14T16:36:26.000Z"
    }
   },
   "outputs": [],
   "source": [
    "# def ranking(df,id_column):\n",
    "#     single_list_temp = single_list(df[id_column])\n",
    "#     data = {id_column: single_list_temp}\n",
    "#     aux_df = pd.DataFrame(data)\n",
    "    \n",
    "#     name = id_column.replace('_id','_count')\n",
    "#     ranked_sorted = aux_df.groupby([id_column]).agg(\n",
    "#         temp_count=pd.NamedAgg(column=id_column, aggfunc=\"count\")\n",
    "#     )\n",
    "#     ranked_sorted = ranked_sorted.rename(columns={'temp_count': name})\n",
    "#     ranked_sorted = ranked_sorted.sort_values(name,ascending=False)\n",
    "#     return ranked_sorted\n",
    "# # ranking(df_test,'tracks_id')\n",
    "# # print(tracks_rank)\n",
    "\n",
    "# def top(ranked,n):\n",
    "#     top_n = ranked.iloc[:n]\n",
    "    \n",
    "#     return top_n\n",
    "# # tracks_rank = ranking(df_test,'tracks_id')\n",
    "# # top(tracks_rank,10)\n",
    "#     return ranked\n",
    "\n",
    "# a = track_rank = ranking(df_test,'tracks_id')"
   ]
  },
  {
   "cell_type": "code",
   "execution_count": null,
   "id": "1cd58a22",
   "metadata": {
    "ExecuteTime": {
     "end_time": "2022-05-14T16:37:59.601782Z",
     "start_time": "2022-05-14T16:36:26.003Z"
    }
   },
   "outputs": [],
   "source": [
    "# df['cum_sum'] = df['cnt'].cumsum()\n",
    "# df['cum_perc'] = 100*df['cum_sum']/co_occurrence_tracks_train['cnt'].sum()"
   ]
  },
  {
   "cell_type": "code",
   "execution_count": null,
   "id": "80f6dcfa",
   "metadata": {
    "ExecuteTime": {
     "end_time": "2022-05-14T16:37:59.602797Z",
     "start_time": "2022-05-14T16:36:26.006Z"
    }
   },
   "outputs": [],
   "source": [
    "# matrix track x track\n",
    "# track_rank = ranking(df_test,'tracks_id')\n",
    "# s_tracks_id = list(track_rank.index)\n",
    "\n",
    "# shape = [len(s_tracks_id), len(s_tracks_id)]\n",
    "# track_matrix = np.zeros(shape, dtype=int, order='C')\n",
    "\n",
    "# for i, row_track in enumerate(s_tracks_id):\n",
    "#     row = s_tracks_id.index(row_track)\n",
    "#     if i != row: print(\"i: \" + str(i) + \": \" + row_track), print()\n",
    "\n",
    "#     for playlist in df_test['tracks_id']:\n",
    "#         try:\n",
    "#             check = playlist.index(row_track)\n",
    "#         except ValueError:\n",
    "#             #             print(row)\n",
    "#             check = -1\n",
    "#         if check >= 0:\n",
    "#             for col_track in playlist:\n",
    "#                 if col_track is not None:\n",
    "#                     col = s_tracks_id.index(col_track)\n",
    "#                     #                     print(col_track  + \" - \" + str(col))\n",
    "#                     #                     tr = df_test['tracks'][n][col]\n",
    "#                     #                     print(\"track: \" + str(n) + \": \" + col_track + \" - col_match:\" + str(col) + \": \") # + tr)\n",
    "#                     track_matrix[row, col] += 1\n",
    "# # print(track_matrix)"
   ]
  }
 ],
 "metadata": {
  "hide_input": false,
  "kernelspec": {
   "display_name": "Python 3",
   "language": "python",
   "name": "python3"
  },
  "language_info": {
   "codemirror_mode": {
    "name": "ipython",
    "version": 3
   },
   "file_extension": ".py",
   "mimetype": "text/x-python",
   "name": "python",
   "nbconvert_exporter": "python",
   "pygments_lexer": "ipython3",
   "version": "3.8.10"
  },
  "toc": {
   "base_numbering": 1,
   "nav_menu": {},
   "number_sections": true,
   "sideBar": true,
   "skip_h1_title": false,
   "title_cell": "Table of Contents",
   "title_sidebar": "Contents",
   "toc_cell": false,
   "toc_position": {
    "height": "calc(100% - 180px)",
    "left": "10px",
    "top": "150px",
    "width": "384px"
   },
   "toc_section_display": true,
   "toc_window_display": true
  },
  "varInspector": {
   "cols": {
    "lenName": 16,
    "lenType": 16,
    "lenVar": 40
   },
   "kernels_config": {
    "python": {
     "delete_cmd_postfix": "",
     "delete_cmd_prefix": "del ",
     "library": "var_list.py",
     "varRefreshCmd": "print(var_dic_list())"
    },
    "r": {
     "delete_cmd_postfix": ") ",
     "delete_cmd_prefix": "rm(",
     "library": "var_list.r",
     "varRefreshCmd": "cat(var_dic_list()) "
    }
   },
   "types_to_exclude": [
    "module",
    "function",
    "builtin_function_or_method",
    "instance",
    "_Feature"
   ],
   "window_display": false
  }
 },
 "nbformat": 4,
 "nbformat_minor": 5
}
