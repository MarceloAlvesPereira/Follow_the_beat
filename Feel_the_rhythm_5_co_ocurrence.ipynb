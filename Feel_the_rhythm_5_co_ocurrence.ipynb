{
 "cells": [
  {
   "cell_type": "code",
   "execution_count": 25,
   "id": "6de699c6",
   "metadata": {
    "ExecuteTime": {
     "end_time": "2022-05-07T18:14:24.132826Z",
     "start_time": "2022-05-07T18:14:24.119845Z"
    }
   },
   "outputs": [],
   "source": [
    "# import cProfile\n",
    "import collections\n",
    "import datetime\n",
    "\n",
    "import os\n",
    "# import sys\n",
    "import time\n",
    "\n",
    "import numpy as np\n",
    "import pandas as pd\n",
    "from scipy.sparse import csr_matrix\n",
    "\n",
    "import pickle\n",
    "\n",
    "import matplotlib.pyplot as plt\n",
    "import seaborn as sns\n",
    "\n",
    "from sklearn.preprocessing import MinMaxScaler\n",
    "# from sklearn.preprocessing import scale, StandardScaler, MinMaxScaler, RobustScaler\n",
    "\n",
    "import random\n",
    "\n",
    "import gc\n",
    "\n",
    "pd.options.display.float_format = \"{:.2f}\".format\n",
    "# plt.rcParams.update({'font.size': 18})\n",
    "format = '%d/%m/%Y %H:%M'"
   ]
  },
  {
   "cell_type": "markdown",
   "id": "9ef48a7a",
   "metadata": {},
   "source": [
    "# Load data"
   ]
  },
  {
   "cell_type": "markdown",
   "id": "c614bb88",
   "metadata": {},
   "source": [
    "Load all data required."
   ]
  },
  {
   "cell_type": "code",
   "execution_count": 2,
   "id": "58b47e8d",
   "metadata": {
    "ExecuteTime": {
     "end_time": "2022-05-07T18:02:49.084673Z",
     "start_time": "2022-05-07T18:02:49.070683Z"
    }
   },
   "outputs": [],
   "source": [
    "def load_file(data_path, msg):\n",
    "    if msg != '':\n",
    "        txt = msg + ' - ' + data_path\n",
    "    else:\n",
    "        txt = data_path\n",
    "\n",
    "    if os.path.exists(data_path):\n",
    "        print('Loaded: ' + txt)\n",
    "        with open(data_path, 'rb') as f:\n",
    "            file_loaded = pickle.load(f)\n",
    "        return file_loaded\n",
    "    else:\n",
    "        print('File not found: ' + txt)"
   ]
  },
  {
   "cell_type": "code",
   "execution_count": 3,
   "id": "705d70c5",
   "metadata": {
    "ExecuteTime": {
     "end_time": "2022-05-07T18:02:51.879378Z",
     "start_time": "2022-05-07T18:02:49.086641Z"
    }
   },
   "outputs": [
    {
     "name": "stdout",
     "output_type": "stream",
     "text": [
      "Loaded: Playlists dictionary (training) - C:\\Users\\map_f\\OneDrive\\Documents\\GitHub\\Follow_the_beat\\data\\processed\\3_playlists_dict_train.pkl\n",
      "Loaded: Playlists dictionary (test) - C:\\Users\\map_f\\OneDrive\\Documents\\GitHub\\Follow_the_beat\\data\\processed\\3_playlists_dict_test.pkl\n",
      "Playlist - training set: 1243\n",
      "Playlist - test set: 533\n",
      "\n",
      "Loaded: Tracks dictionary (training) - C:\\Users\\map_f\\OneDrive\\Documents\\GitHub\\Follow_the_beat\\data\\processed\\4_tracks_dict_train.pkl\n",
      "Loaded: Tracks dictionary (test) - C:\\Users\\map_f\\OneDrive\\Documents\\GitHub\\Follow_the_beat\\data\\processed\\4_tracks_dict_test.pkl\n",
      "Tracks - training set: 63699\n",
      "Tracks - test set: 31183\n",
      "\n",
      "Loaded: Artist dictionary (training) - C:\\Users\\map_f\\OneDrive\\Documents\\GitHub\\Follow_the_beat\\data\\processed\\5_artists_dict_train.pkl\n",
      "Loaded: Artist dictionary (test) - C:\\Users\\map_f\\OneDrive\\Documents\\GitHub\\Follow_the_beat\\data\\processed\\5_artists_dict_test.pkl\n",
      "Artist - training set: 22639\n",
      "Artist - test set: 12780\n",
      "\n",
      "Loaded: Albums dictionary (training) - C:\\Users\\map_f\\OneDrive\\Documents\\GitHub\\Follow_the_beat\\data\\processed\\6_albums_dict_train.pkl\n",
      "Loaded: Albums dictionary (test) - C:\\Users\\map_f\\OneDrive\\Documents\\GitHub\\Follow_the_beat\\data\\processed\\6_albums_dict_test.pkl\n",
      "Albums - training set: 46688\n",
      "Albums - test set: 24258\n",
      "\n"
     ]
    }
   ],
   "source": [
    "# Load all data\n",
    "\n",
    "playlists_train = load_file(\n",
    "    os.getcwd() + '\\\\data\\\\processed\\\\3_playlists_dict_train.pkl',\n",
    "    'Playlists dictionary (training)')\n",
    "playlists_test = load_file(\n",
    "    os.getcwd() + '\\\\data\\\\processed\\\\3_playlists_dict_test.pkl',\n",
    "    'Playlists dictionary (test)')\n",
    "print('Playlist - training set: ' + str(len(playlists_train)))\n",
    "print('Playlist - test set: ' + str(len(playlists_test)))\n",
    "print()\n",
    "\n",
    "tracks_dict_train = load_file(\n",
    "    os.getcwd() + '\\\\data\\\\processed\\\\4_tracks_dict_train.pkl',\n",
    "    'Tracks dictionary (training)')\n",
    "tracks_dict_test = load_file(\n",
    "    os.getcwd() + '\\\\data\\\\processed\\\\4_tracks_dict_test.pkl',\n",
    "    'Tracks dictionary (test)')\n",
    "print('Tracks - training set: ' + str(len(tracks_dict_train)))\n",
    "print('Tracks - test set: ' + str(len(tracks_dict_test)))\n",
    "print()\n",
    "\n",
    "artists_dict_train = load_file(\n",
    "    os.getcwd() + '\\\\data\\\\processed\\\\5_artists_dict_train.pkl',\n",
    "    'Artist dictionary (training)')\n",
    "artists_dict_test = load_file(\n",
    "    os.getcwd() + '\\\\data\\\\processed\\\\5_artists_dict_test.pkl',\n",
    "    'Artist dictionary (test)')\n",
    "print('Artist - training set: ' + str(len(artists_dict_train)))\n",
    "print('Artist - test set: ' + str(len(artists_dict_test)))\n",
    "print()\n",
    "\n",
    "albums_dict_train = load_file(\n",
    "    os.getcwd() + '\\\\data\\\\processed\\\\6_albums_dict_train.pkl',\n",
    "    'Albums dictionary (training)')\n",
    "albums_dict_test = load_file(\n",
    "    os.getcwd() + '\\\\data\\\\processed\\\\6_albums_dict_test.pkl',\n",
    "    'Albums dictionary (test)')\n",
    "print('Albums - training set: ' + str(len(albums_dict_train)))\n",
    "print('Albums - test set: ' + str(len(albums_dict_test)))\n",
    "print()"
   ]
  },
  {
   "cell_type": "markdown",
   "id": "9531b371",
   "metadata": {},
   "source": [
    "##### Create data frames to perform analysis"
   ]
  },
  {
   "cell_type": "code",
   "execution_count": 4,
   "id": "3eea615e",
   "metadata": {
    "ExecuteTime": {
     "end_time": "2022-05-07T18:03:00.721142Z",
     "start_time": "2022-05-07T18:02:51.881342Z"
    }
   },
   "outputs": [
    {
     "name": "stdout",
     "output_type": "stream",
     "text": [
      "df_playlists_train: (4, 1243)\n",
      "df_playlists_test: (4, 533)\n",
      "df_tracks_train: (7, 63699)\n",
      "df_tracks_test: (7, 31183)\n",
      "df_artists_train: (3, 22639)\n",
      "df_artists_test: (3, 12780)\n",
      "df_albums_train: (4, 46688)\n",
      "df_albums_test: (4, 24258)\n"
     ]
    }
   ],
   "source": [
    "gc.collect()\n",
    "df_playlists_train = playlists_train.T\n",
    "print(\"df_playlists_train:\", df_playlists_train.shape)\n",
    "\n",
    "df_playlists_test = playlists_test.T\n",
    "print(\"df_playlists_test:\", df_playlists_test.shape)\n",
    "\n",
    "df_tracks_train = pd.DataFrame.from_dict(tracks_dict_train, orient='index')\n",
    "df_tracks_train = df_tracks_train.T\n",
    "print(\"df_tracks_train:\", df_tracks_train.shape)\n",
    "\n",
    "df_tracks_test = pd.DataFrame.from_dict(tracks_dict_test, orient='index')\n",
    "df_tracks_test = df_tracks_test.T\n",
    "print(\"df_tracks_test:\", df_tracks_test.shape)\n",
    "\n",
    "df_artists_train = pd.DataFrame.from_dict(artists_dict_train, orient='index')\n",
    "df_artists_train = df_artists_train.T\n",
    "print(\"df_artists_train:\", df_artists_train.shape)\n",
    "\n",
    "df_artists_test = pd.DataFrame.from_dict(artists_dict_test, orient='index')\n",
    "df_artists_test = df_artists_test.T\n",
    "print(\"df_artists_test:\", df_artists_test.shape)\n",
    "\n",
    "df_albums_train = pd.DataFrame.from_dict(albums_dict_train, orient='index')\n",
    "df_albums_train = df_albums_train.T\n",
    "print(\"df_albums_train:\", df_albums_train.shape)\n",
    "\n",
    "df_albums_test = pd.DataFrame.from_dict(albums_dict_test, orient='index')\n",
    "df_albums_test = df_albums_test.T\n",
    "print(\"df_albums_test:\", df_albums_test.shape)"
   ]
  },
  {
   "cell_type": "markdown",
   "id": "5271f0bd",
   "metadata": {},
   "source": [
    "# Co-occurrence matrix"
   ]
  },
  {
   "cell_type": "markdown",
   "id": "6147b809",
   "metadata": {},
   "source": [
    "## Tracks co-occurrence matrix"
   ]
  },
  {
   "cell_type": "code",
   "execution_count": 5,
   "id": "d3dc0998",
   "metadata": {
    "ExecuteTime": {
     "end_time": "2022-05-07T18:03:00.737099Z",
     "start_time": "2022-05-07T18:03:00.724134Z"
    }
   },
   "outputs": [],
   "source": [
    "def co_occurrence_matrix_tracks(playlists_dict, tracks_dict):\n",
    "    matrix = {}\n",
    "    for i, item in enumerate(tracks_dict):\n",
    "        tracks_matched = []\n",
    "        for j, playlist_id in enumerate(tracks_dict[item]['in_playlist']):\n",
    "            for tr, track in enumerate(playlists_dict[playlist_id]['tracks']):\n",
    "                tracks_matched.append(track['id'])\n",
    "        counter = collections.Counter(tracks_matched)\n",
    "        b = pd.DataFrame.from_dict(counter, orient='index', columns=['cnt'])\n",
    "        b = b.sort_values('cnt', ascending=False)\n",
    "\n",
    "        min_max = MinMaxScaler()\n",
    "        b['count_scaled'] = min_max.fit_transform(b[['cnt']])\n",
    "        b['rank'] = b['count_scaled'].rank(method='average', ascending=False)\n",
    "\n",
    "        matrix.update({item: b})\n",
    "    return (matrix)"
   ]
  },
  {
   "cell_type": "markdown",
   "id": "dba37002",
   "metadata": {},
   "source": [
    "## Artists co-occurrence matrix"
   ]
  },
  {
   "cell_type": "code",
   "execution_count": 6,
   "id": "12365288",
   "metadata": {
    "ExecuteTime": {
     "end_time": "2022-05-07T18:03:00.752061Z",
     "start_time": "2022-05-07T18:03:00.739095Z"
    }
   },
   "outputs": [],
   "source": [
    "def co_occurrence_matrix_artists(playlists_dict, artists_dict):\n",
    "    matrix = {}\n",
    "    for i, item in enumerate(artists_dict):\n",
    "        artist_matched = []\n",
    "        for j, playlist_id in enumerate(artists_dict[item]['in_playlist']):\n",
    "            for tr, track in enumerate(playlists_dict[playlist_id]['tracks']):\n",
    "                for a, artist in enumerate(track['artists']):\n",
    "                    artist_matched.append(artist['id'])\n",
    "        counter = collections.Counter(artist_matched)\n",
    "        b = pd.DataFrame.from_dict(counter, orient='index', columns=['cnt'])\n",
    "        b = b.sort_values('cnt', ascending=False)\n",
    "\n",
    "        min_max = MinMaxScaler()\n",
    "        b['count_scaled'] = min_max.fit_transform(b[['cnt']])\n",
    "        b['rank'] = b['count_scaled'].rank(method='average', ascending=False)\n",
    "\n",
    "        matrix.update({item: b})\n",
    "    return (matrix)"
   ]
  },
  {
   "cell_type": "markdown",
   "id": "c039515c",
   "metadata": {},
   "source": [
    "## Albums co-occurrence matrix"
   ]
  },
  {
   "cell_type": "code",
   "execution_count": 7,
   "id": "c856667f",
   "metadata": {
    "ExecuteTime": {
     "end_time": "2022-05-07T18:03:00.767533Z",
     "start_time": "2022-05-07T18:03:00.756050Z"
    }
   },
   "outputs": [],
   "source": [
    "def co_occurrence_matrix_albums(playlists_dict, albums_dict):\n",
    "    matrix = {}\n",
    "    for i, item in enumerate(albums_dict):\n",
    "        albums_matched = []\n",
    "        for j, playlist_id in enumerate(albums_dict[item]['in_playlist']):\n",
    "            for tr, track in enumerate(playlists_dict[playlist_id]['tracks']):\n",
    "                albums_matched.append(track['album']['id'])\n",
    "        counter = collections.Counter(albums_matched)\n",
    "        b = pd.DataFrame.from_dict(counter, orient='index', columns=['cnt'])\n",
    "        b = b.sort_values('cnt', ascending=False)\n",
    "\n",
    "        min_max = MinMaxScaler()\n",
    "        b['count_scaled'] = min_max.fit_transform(b[[\"cnt\"]])\n",
    "        b[\"rank\"] = b['count_scaled'].rank(method='average', ascending=False)\n",
    "\n",
    "        matrix.update({item: b})\n",
    "    return (matrix)"
   ]
  },
  {
   "cell_type": "markdown",
   "id": "f09e1bad",
   "metadata": {},
   "source": [
    "##  Create all co-ocurrence matrix"
   ]
  },
  {
   "cell_type": "code",
   "execution_count": 8,
   "id": "289f9da8",
   "metadata": {
    "ExecuteTime": {
     "end_time": "2022-05-07T18:03:00.783508Z",
     "start_time": "2022-05-07T18:03:00.771523Z"
    }
   },
   "outputs": [],
   "source": [
    "def co_ocurrence(playlist, df, data_path, txt):\n",
    "    # check if data extraction already exists then load if it exists, otherwise run query\n",
    "    if os.path.exists(data_path):\n",
    "        print('Co-occurrence ' + txt + ' - Loaded: ' + data_path)\n",
    "        # load file only if the next step was not executed (getting tracks)\n",
    "        with open(data_path, 'rb') as f:\n",
    "            co_occurrence = pickle.load(f)\n",
    "    else:\n",
    "        print('Co-occurrence ' + txt + ' - Saved: ' + data_path)\n",
    "        # list of all user ids (UID) and playlist ids (PID)\n",
    "        uid_pid_raw = []\n",
    "\n",
    "        if txt == 'tracks':\n",
    "            co_occurrence = co_occurrence_matrix_tracks(playlist, df)\n",
    "        elif txt == 'artists':\n",
    "            co_occurrence = co_occurrence_matrix_artists(playlist, df)\n",
    "        elif txt == 'albums':\n",
    "            co_occurrence = co_occurrence_matrix_albums(playlist, df)\n",
    "\n",
    "        # Save the data\n",
    "        with open(data_path, 'wb') as f:\n",
    "            pickle.dump(co_occurrence, f)\n",
    "\n",
    "    len(co_occurrence)\n",
    "    # co_occurrence_tracks['1MJ5f5EYBC92ADD6xcz7nb']\n",
    "    return co_occurrence"
   ]
  },
  {
   "cell_type": "code",
   "execution_count": 9,
   "id": "65bd1d88",
   "metadata": {
    "ExecuteTime": {
     "end_time": "2022-05-07T18:05:33.435009Z",
     "start_time": "2022-05-07T18:03:00.785496Z"
    }
   },
   "outputs": [
    {
     "name": "stdout",
     "output_type": "stream",
     "text": [
      "Co-occurrence tracks - Loaded: C:\\Users\\map_f\\OneDrive\\Documents\\GitHub\\Follow_the_beat\\data\\processed\\7_co_occurrence_tracks_train.pkl\n",
      "Co-occurrence tracks - Loaded: C:\\Users\\map_f\\OneDrive\\Documents\\GitHub\\Follow_the_beat\\data\\processed\\7_co_occurrence_tracks_train.pkl\n",
      "Co-occurrence artists - Loaded: C:\\Users\\map_f\\OneDrive\\Documents\\GitHub\\Follow_the_beat\\data\\processed\\7_co_occurrence_artists_train.pkl\n",
      "Co-occurrence artists - Loaded: C:\\Users\\map_f\\OneDrive\\Documents\\GitHub\\Follow_the_beat\\data\\processed\\7_co_occurrence_artists_train.pkl\n",
      "Co-occurrence albums - Loaded: C:\\Users\\map_f\\OneDrive\\Documents\\GitHub\\Follow_the_beat\\data\\processed\\7_co_occurrence_albums_train.pkl\n",
      "Co-occurrence albums - Loaded: C:\\Users\\map_f\\OneDrive\\Documents\\GitHub\\Follow_the_beat\\data\\processed\\7_co_occurrence_albums_train.pkl\n"
     ]
    }
   ],
   "source": [
    "gc.collect()\n",
    "\n",
    "co_occurrence_tracks_train = co_ocurrence(\n",
    "    df_playlists_train, df_tracks_train,\n",
    "    os.getcwd() + '\\\\data\\\\processed\\\\7_co_occurrence_tracks_train.pkl',\n",
    "    'tracks')\n",
    "co_occurrence_tracks_test = co_ocurrence(\n",
    "    df_playlists_test, df_tracks_test,\n",
    "    os.getcwd() + '\\\\data\\\\processed\\\\7_co_occurrence_tracks_train.pkl',\n",
    "    'tracks')\n",
    "\n",
    "co_occurrence_artists_train = co_ocurrence(\n",
    "    df_playlists_train, df_artists_train,\n",
    "    os.getcwd() + '\\\\data\\\\processed\\\\7_co_occurrence_artists_train.pkl',\n",
    "    'artists')\n",
    "co_occurrence_artists_test = co_ocurrence(\n",
    "    df_playlists_test, df_artists_test,\n",
    "    os.getcwd() + '\\\\data\\\\processed\\\\7_co_occurrence_artists_train.pkl',\n",
    "    'artists')\n",
    "\n",
    "co_occurrence_albums_train = co_ocurrence(\n",
    "    df_playlists_train, df_albums_train,\n",
    "    os.getcwd() + '\\\\data\\\\processed\\\\7_co_occurrence_albums_train.pkl',\n",
    "    'albums')\n",
    "co_occurrence_albums_test = co_ocurrence(\n",
    "    df_playlists_test, df_albums_test,\n",
    "    os.getcwd() + '\\\\data\\\\processed\\\\7_co_occurrence_albums_train.pkl',\n",
    "    'albums')"
   ]
  },
  {
   "cell_type": "code",
   "execution_count": 10,
   "id": "5c3d2adb",
   "metadata": {
    "ExecuteTime": {
     "end_time": "2022-05-07T18:05:33.449978Z",
     "start_time": "2022-05-07T18:05:33.436903Z"
    }
   },
   "outputs": [],
   "source": [
    "# def create_ref(co_occurrence):\n",
    "#     matrix = {}\n",
    "#     ref = []\n",
    "#     for i, item in enumerate(co_occurrence):\n",
    "#         if i == 1:\n",
    "# #             print(item)\n",
    "# #             print(co_occurrence[item])\n",
    "# #             print(type(co_occurrence[item]))\n",
    "# #             print(co_occurrence[item].index)\n",
    "#             for j, jitem in enumerate(co_occurrence[item].index):\n",
    "#                 if j == 0:\n",
    "#                     print(jitem)\n",
    "#     return matrix\n",
    "# a = create_ref(co_occurrence_albums_test)"
   ]
  },
  {
   "cell_type": "markdown",
   "id": "26a67f57",
   "metadata": {},
   "source": [
    "# Model"
   ]
  },
  {
   "cell_type": "markdown",
   "id": "6f474740",
   "metadata": {},
   "source": [
    "## Random"
   ]
  },
  {
   "cell_type": "code",
   "execution_count": 27,
   "id": "37ae7041",
   "metadata": {
    "ExecuteTime": {
     "end_time": "2022-05-07T18:16:00.724210Z",
     "start_time": "2022-05-07T18:16:00.710249Z"
    },
    "run_control": {
     "marked": false
    }
   },
   "outputs": [],
   "source": [
    "def get_trk_rnd(playlist_trx, trx_train, trx_test):\n",
    "    trx = playlist_trx.tracks\n",
    "    n = int((len(trx) + 1) / 2)\n",
    "\n",
    "    ids = pd.DataFrame(trx).id  # ids of the original playlist\n",
    "    selected_ids = random.sample(ids.values.tolist(), n)\n",
    "    expected_ids = ids[~ids.isin(ids)]\n",
    "\n",
    "    db = trx_train.T\n",
    "    df = db[~db.id.isin(ids)]\n",
    "    selected = random.sample(df['id'].values.tolist(), n)\n",
    "\n",
    "    reference_trx = trx_test.T[trx_test.T.id.isin(selected_ids)]\n",
    "    expected_trx = trx_test.T[~trx_test.T.id.isin(selected_ids)\n",
    "                              & trx_test.T.id.isin(ids)]\n",
    "    selected_trx = db[db.id.isin(selected)]\n",
    "\n",
    "    return reference_trx, expected_trx, selected_trx\n",
    "\n",
    "\n",
    "# reference_trx, expected_trx, selected_trx = get_trk_rnd(df_playlists_test['1h4bUPnrpgn8qXGJ5dvTsu'], df_tracks_train)"
   ]
  },
  {
   "cell_type": "markdown",
   "id": "cf894af3",
   "metadata": {},
   "source": [
    "## Ocurrence frequency"
   ]
  },
  {
   "cell_type": "code",
   "execution_count": 28,
   "id": "cf48bc50",
   "metadata": {
    "ExecuteTime": {
     "end_time": "2022-05-07T18:16:02.644326Z",
     "start_time": "2022-05-07T18:16:02.638876Z"
    }
   },
   "outputs": [],
   "source": [
    "# db = df_tracks_train.T\n",
    "# ids = pd.DataFrame(df_playlists_test['1h4bUPnrpgn8qXGJ5dvTsu'].tracks).id\n",
    "# a = db[~db.id.isin(ids)]\n",
    "# b = a.values.tolist()\n",
    "\n",
    "# # s = random.sample(list(a),50)\n",
    "# # ids\n",
    "# # type(ids)\n",
    "# # db['1h4bUPnrpgn8qXGJ5dvTsu']\n",
    "# # db.id\n",
    "# print(len(db))\n",
    "# # print(ids)\n",
    "# print(type(ids))\n",
    "# print(len(ids))\n",
    "# print(len(a))\n",
    "# print(len(b))\n",
    "# # dataframe1[~dataframe1.column1.isin(common.column1)]\n",
    "# # print(a.shape())\n",
    "# # b"
   ]
  },
  {
   "cell_type": "code",
   "execution_count": 29,
   "id": "bda2f15a",
   "metadata": {
    "ExecuteTime": {
     "end_time": "2022-05-07T18:16:04.138931Z",
     "start_time": "2022-05-07T18:16:04.126964Z"
    }
   },
   "outputs": [
    {
     "ename": "NameError",
     "evalue": "name 'trx_test' is not defined",
     "output_type": "error",
     "traceback": [
      "\u001b[1;31m---------------------------------------------------------------------------\u001b[0m",
      "\u001b[1;31mNameError\u001b[0m                                 Traceback (most recent call last)",
      "\u001b[1;32m<ipython-input-29-2db0d7231daf>\u001b[0m in \u001b[0;36m<module>\u001b[1;34m\u001b[0m\n\u001b[1;32m----> 1\u001b[1;33m \u001b[0mtrx_test\u001b[0m\u001b[1;33m.\u001b[0m\u001b[0mhead\u001b[0m\u001b[1;33m(\u001b[0m\u001b[1;33m)\u001b[0m\u001b[1;33m\u001b[0m\u001b[1;33m\u001b[0m\u001b[0m\n\u001b[0m",
      "\u001b[1;31mNameError\u001b[0m: name 'trx_test' is not defined"
     ]
    }
   ],
   "source": [
    "trx_test.head()"
   ]
  },
  {
   "cell_type": "code",
   "execution_count": 30,
   "id": "a93d862b",
   "metadata": {
    "ExecuteTime": {
     "end_time": "2022-05-07T18:16:11.378347Z",
     "start_time": "2022-05-07T18:16:11.358401Z"
    }
   },
   "outputs": [],
   "source": [
    "def get_trk_frq(playlist_trx, trx_train, trx_test):\n",
    "    trx = playlist_trx.tracks\n",
    "    n = int((len(trx) + 1) / 2)\n",
    "\n",
    "    ids = pd.DataFrame(trx).id  # ids of the original playlist\n",
    "    selected_ids = random.sample(ids.values.tolist(), n)\n",
    "    expected_ids = ids[~ids.isin(ids)]\n",
    "\n",
    "    db = trx_train.T\n",
    "    df = db[~db.id.isin(ids)]\n",
    "    selected = random.sample(df['id'].values.tolist(), n)\n",
    "\n",
    "    reference_trx = trx_test.T[trx_test.T.id.isin(selected_ids)]\n",
    "    expected_trx = trx_test.T[~trx_test.T.id.isin(selected_ids)\n",
    "                              & trx_test.T.id.isin(ids)]\n",
    "    selected_trx = db[db.id.isin(selected)]\n",
    "\n",
    "    return reference_trx, expected_trx, selected_trx\n",
    "\n",
    "\n",
    "# reference_trx, expected_trx, selected_trx = get_trk_rnd(df_playlists_test['1h4bUPnrpgn8qXGJ5dvTsu'], df_tracks_train)"
   ]
  },
  {
   "cell_type": "markdown",
   "id": "5cc61f23",
   "metadata": {},
   "source": [
    "## Artist"
   ]
  },
  {
   "cell_type": "code",
   "execution_count": 31,
   "id": "9731ee1d",
   "metadata": {
    "ExecuteTime": {
     "end_time": "2022-05-07T18:16:15.332660Z",
     "start_time": "2022-05-07T18:16:15.320410Z"
    }
   },
   "outputs": [],
   "source": [
    "def get_trk_artist(playlist_trx, trx_train, trx_test):\n",
    "    trx = playlist_trx.tracks\n",
    "    n = int((len(trx) + 1) / 2)\n",
    "\n",
    "    ids = pd.DataFrame(trx).id  # ids of the original playlist\n",
    "    selected_ids = random.sample(ids.values.tolist(), n)\n",
    "    expected_ids = ids[~ids.isin(ids)]\n",
    "\n",
    "    db = trx_train.T\n",
    "    df = db[~db.id.isin(ids)]\n",
    "    selected = random.sample(df['id'].values.tolist(), n)\n",
    "\n",
    "    reference_trx = trx_test.T[trx_test.T.id.isin(selected_ids)]\n",
    "    expected_trx = trx_test.T[~trx_test.T.id.isin(selected_ids)\n",
    "                              & trx_test.T.id.isin(ids)]\n",
    "    selected_trx = db[db.id.isin(selected)]\n",
    "\n",
    "    return reference_trx, expected_trx, selected_trx\n",
    "\n",
    "\n",
    "# reference_trx, expected_trx, selected_trx = get_trk_rnd(df_playlists_test['1h4bUPnrpgn8qXGJ5dvTsu'], df_tracks_train)"
   ]
  },
  {
   "cell_type": "markdown",
   "id": "d60cf1da",
   "metadata": {},
   "source": [
    "## Album"
   ]
  },
  {
   "cell_type": "code",
   "execution_count": 33,
   "id": "c84ff16e",
   "metadata": {
    "ExecuteTime": {
     "end_time": "2022-05-07T18:16:30.364191Z",
     "start_time": "2022-05-07T18:16:30.343216Z"
    }
   },
   "outputs": [],
   "source": [
    "def get_trk_album(playlist_trx, trx_train, trx_test):\n",
    "    trx = playlist_trx.tracks\n",
    "    n = int((len(trx) + 1) / 2)\n",
    "\n",
    "    ids = pd.DataFrame(trx).id  # ids of the original playlist\n",
    "    selected_ids = random.sample(ids.values.tolist(), n)\n",
    "    expected_ids = ids[~ids.isin(ids)]\n",
    "\n",
    "    db = trx_train.T\n",
    "    df = db[~db.id.isin(ids)]\n",
    "    selected = random.sample(df['id'].values.tolist(), n)\n",
    "\n",
    "    reference_trx = trx_test.T[trx_test.T.id.isin(selected_ids)]\n",
    "    expected_trx = trx_test.T[~trx_test.T.id.isin(selected_ids)\n",
    "                              & trx_test.T.id.isin(ids)]\n",
    "    selected_trx = db[db.id.isin(selected)]\n",
    "\n",
    "    return reference_trx, expected_trx, selected_trx\n",
    "\n",
    "\n",
    "# reference_trx, expected_trx, selected_trx = get_trk_rnd(df_playlists_test['1h4bUPnrpgn8qXGJ5dvTsu'], df_tracks_train)"
   ]
  },
  {
   "cell_type": "markdown",
   "id": "31d4edec",
   "metadata": {},
   "source": [
    "## Track"
   ]
  },
  {
   "cell_type": "code",
   "execution_count": 34,
   "id": "fbe1d695",
   "metadata": {
    "ExecuteTime": {
     "end_time": "2022-05-07T18:16:38.409308Z",
     "start_time": "2022-05-07T18:16:38.391356Z"
    }
   },
   "outputs": [
    {
     "ename": "TypeError",
     "evalue": "get_trk_rnd() missing 1 required positional argument: 'trx_test'",
     "output_type": "error",
     "traceback": [
      "\u001b[1;31m---------------------------------------------------------------------------\u001b[0m",
      "\u001b[1;31mTypeError\u001b[0m                                 Traceback (most recent call last)",
      "\u001b[1;32m<ipython-input-34-ac3a902a42a9>\u001b[0m in \u001b[0;36m<module>\u001b[1;34m\u001b[0m\n\u001b[0;32m     17\u001b[0m     \u001b[1;32mreturn\u001b[0m \u001b[0mreference_trx\u001b[0m\u001b[1;33m,\u001b[0m \u001b[0mexpected_trx\u001b[0m\u001b[1;33m,\u001b[0m \u001b[0mselected_trx\u001b[0m\u001b[1;33m\u001b[0m\u001b[1;33m\u001b[0m\u001b[0m\n\u001b[0;32m     18\u001b[0m \u001b[1;33m\u001b[0m\u001b[0m\n\u001b[1;32m---> 19\u001b[1;33m \u001b[0mreference_trx\u001b[0m\u001b[1;33m,\u001b[0m \u001b[0mexpected_trx\u001b[0m\u001b[1;33m,\u001b[0m \u001b[0mselected_trx\u001b[0m \u001b[1;33m=\u001b[0m \u001b[0mget_trk_rnd\u001b[0m\u001b[1;33m(\u001b[0m\u001b[0mdf_playlists_test\u001b[0m\u001b[1;33m[\u001b[0m\u001b[1;34m'1h4bUPnrpgn8qXGJ5dvTsu'\u001b[0m\u001b[1;33m]\u001b[0m\u001b[1;33m,\u001b[0m \u001b[0mdf_tracks_train\u001b[0m\u001b[1;33m)\u001b[0m\u001b[1;33m\u001b[0m\u001b[1;33m\u001b[0m\u001b[0m\n\u001b[0m",
      "\u001b[1;31mTypeError\u001b[0m: get_trk_rnd() missing 1 required positional argument: 'trx_test'"
     ]
    }
   ],
   "source": [
    "def get_trk_track(playlist_trx, trx_train, trx_test):\n",
    "    trx = playlist_trx.tracks\n",
    "    n = int((len(trx) + 1) / 2)\n",
    "\n",
    "    ids = pd.DataFrame(trx).id  # ids of the original playlist\n",
    "    selected_ids = random.sample(ids.values.tolist(), n)\n",
    "    expected_ids = ids[~ids.isin(ids)]\n",
    "\n",
    "    db = trx_train.T\n",
    "    df = db[~db.id.isin(ids)]\n",
    "    selected = random.sample(df['id'].values.tolist(), n)\n",
    "\n",
    "    reference_trx = trx_test.T[trx_test.T.id.isin(selected_ids)]\n",
    "    expected_trx = trx_test.T[~trx_test.T.id.isin(selected_ids)\n",
    "                              & trx_test.T.id.isin(ids)]\n",
    "    selected_trx = db[db.id.isin(selected)]\n",
    "\n",
    "    return reference_trx, expected_trx, selected_trx\n",
    "\n",
    "\n",
    "# reference_trx, expected_trx, selected_trx = get_trk_rnd(df_playlists_test['1h4bUPnrpgn8qXGJ5dvTsu'], df_tracks_train)"
   ]
  },
  {
   "cell_type": "markdown",
   "id": "22781461",
   "metadata": {
    "ExecuteTime": {
     "end_time": "2022-05-07T00:00:10.793486Z",
     "start_time": "2022-05-07T00:00:08.844112Z"
    }
   },
   "source": [
    "# Evaluate models"
   ]
  },
  {
   "cell_type": "code",
   "execution_count": 35,
   "id": "52e5fdc6",
   "metadata": {
    "ExecuteTime": {
     "end_time": "2022-05-07T18:17:04.496306Z",
     "start_time": "2022-05-07T18:17:04.479352Z"
    }
   },
   "outputs": [],
   "source": [
    "def get_trk(method, reference):\n",
    "    if method == 'random':\n",
    "        reference_trx, expected_trx, selected_trx = get_trk_rnd(\n",
    "            df_playlists_test[reference], df_tracks_train, df_tracks_train)\n",
    "    elif method == 'frequency':\n",
    "        reference_trx, expected_trx, selected_trx = get_trk_frq(\n",
    "            df_playlists_test[reference], df_tracks_train, df_tracks_train)\n",
    "    elif method == 'artist':\n",
    "        reference_trx, expected_trx, selected_trx = get_trk_artist(\n",
    "            df_playlists_test[reference], df_tracks_train, df_tracks_train)\n",
    "    elif method == 'album':\n",
    "        reference_trx, expected_trx, selected_trx = get_trk_album(\n",
    "            df_playlists_test[reference], df_tracks_train, df_tracks_train)\n",
    "    elif method == 'playlist':\n",
    "        reference_trx, expected_trx, selected_trx = get_trk_track(\n",
    "            df_playlists_test[reference], df_tracks_train, df_tracks_train)\n",
    "\n",
    "    return reference_trx, expected_trx, selected_trx"
   ]
  },
  {
   "cell_type": "code",
   "execution_count": 36,
   "id": "26a08691",
   "metadata": {
    "ExecuteTime": {
     "end_time": "2022-05-07T18:17:06.662144Z",
     "start_time": "2022-05-07T18:17:06.655156Z"
    }
   },
   "outputs": [],
   "source": [
    "for p, playlist in enumerate(df_playlists_test):\n",
    "    if p == 1:\n",
    "        playlist"
   ]
  },
  {
   "cell_type": "markdown",
   "id": "0643d88d",
   "metadata": {},
   "source": [
    "#  Tests"
   ]
  },
  {
   "cell_type": "code",
   "execution_count": 20,
   "id": "24c2c6c3",
   "metadata": {
    "ExecuteTime": {
     "end_time": "2022-05-07T18:13:44.056431Z",
     "start_time": "2022-05-07T18:13:44.047495Z"
    }
   },
   "outputs": [],
   "source": [
    "# for t, tid in enumerate(co_occurrence_tracks_train):\n",
    "#     if t == 10:\n",
    "#         df = co_occurrence_tracks_train[tid]\n",
    "#         df['cum_sum'] = df['cnt'].cumsum()\n",
    "#         df['cum_perc'] = 100*df['cum_sum']/df['cnt'].sum()\n",
    "#         selector = random.sample(list(df.index),len(df))\n",
    "#         print(selector)\n",
    "#         print(len(selector))\n",
    "\n",
    "#         cnt = 0\n",
    "#         tot = 0\n",
    "#         for i, item in enumerate(co_occurrence_tracks_train[tid]['cnt']):\n",
    "#                 cnt = cnt + 1\n",
    "#                 tot = tot + item\n",
    "#         print(cnt)\n",
    "#         print(tot)"
   ]
  },
  {
   "cell_type": "code",
   "execution_count": 21,
   "id": "c6f1ae0a",
   "metadata": {
    "ExecuteTime": {
     "end_time": "2022-05-07T18:13:56.120417Z",
     "start_time": "2022-05-07T18:13:56.103021Z"
    }
   },
   "outputs": [],
   "source": [
    "# def ranking(df,id_column):\n",
    "#     single_list_temp = single_list(df[id_column])\n",
    "#     data = {id_column: single_list_temp}\n",
    "#     aux_df = pd.DataFrame(data)\n",
    "    \n",
    "#     name = id_column.replace('_id','_count')\n",
    "#     ranked_sorted = aux_df.groupby([id_column]).agg(\n",
    "#         temp_count=pd.NamedAgg(column=id_column, aggfunc=\"count\")\n",
    "#     )\n",
    "#     ranked_sorted = ranked_sorted.rename(columns={'temp_count': name})\n",
    "#     ranked_sorted = ranked_sorted.sort_values(name,ascending=False)\n",
    "#     return ranked_sorted\n",
    "# # ranking(df_test,'tracks_id')\n",
    "# # print(tracks_rank)\n",
    "\n",
    "# def top(ranked,n):\n",
    "#     top_n = ranked.iloc[:n]\n",
    "    \n",
    "#     return top_n\n",
    "# # tracks_rank = ranking(df_test,'tracks_id')\n",
    "# # top(tracks_rank,10)\n",
    "#     return ranked\n",
    "\n",
    "# a = track_rank = ranking(df_test,'tracks_id')"
   ]
  },
  {
   "cell_type": "code",
   "execution_count": 22,
   "id": "1cd58a22",
   "metadata": {
    "ExecuteTime": {
     "end_time": "2022-05-07T18:13:57.381142Z",
     "start_time": "2022-05-07T18:13:57.366686Z"
    }
   },
   "outputs": [],
   "source": [
    "# df['cum_sum'] = df['cnt'].cumsum()\n",
    "# df['cum_perc'] = 100*df['cum_sum']/co_occurrence_tracks_train['cnt'].sum()"
   ]
  },
  {
   "cell_type": "code",
   "execution_count": 23,
   "id": "80f6dcfa",
   "metadata": {
    "ExecuteTime": {
     "end_time": "2022-05-07T18:13:57.707068Z",
     "start_time": "2022-05-07T18:13:57.703078Z"
    }
   },
   "outputs": [],
   "source": [
    "# matrix track x track\n",
    "# track_rank = ranking(df_test,'tracks_id')\n",
    "# s_tracks_id = list(track_rank.index)\n",
    "\n",
    "# shape = [len(s_tracks_id), len(s_tracks_id)]\n",
    "# track_matrix = np.zeros(shape, dtype=int, order='C')\n",
    "\n",
    "# for i, row_track in enumerate(s_tracks_id):\n",
    "#     row = s_tracks_id.index(row_track)\n",
    "#     if i != row: print(\"i: \" + str(i) + \": \" + row_track), print()\n",
    "\n",
    "#     for playlist in df_test['tracks_id']:\n",
    "#         try:\n",
    "#             check = playlist.index(row_track)\n",
    "#         except ValueError:\n",
    "#             #             print(row)\n",
    "#             check = -1\n",
    "#         if check >= 0:\n",
    "#             for col_track in playlist:\n",
    "#                 if col_track is not None:\n",
    "#                     col = s_tracks_id.index(col_track)\n",
    "#                     #                     print(col_track  + \" - \" + str(col))\n",
    "#                     #                     tr = df_test['tracks'][n][col]\n",
    "#                     #                     print(\"track: \" + str(n) + \": \" + col_track + \" - col_match:\" + str(col) + \": \") # + tr)\n",
    "#                     track_matrix[row, col] += 1\n",
    "# # print(track_matrix)"
   ]
  }
 ],
 "metadata": {
  "hide_input": false,
  "kernelspec": {
   "display_name": "Python 3",
   "language": "python",
   "name": "python3"
  },
  "language_info": {
   "codemirror_mode": {
    "name": "ipython",
    "version": 3
   },
   "file_extension": ".py",
   "mimetype": "text/x-python",
   "name": "python",
   "nbconvert_exporter": "python",
   "pygments_lexer": "ipython3",
   "version": "3.8.10"
  },
  "toc": {
   "base_numbering": 1,
   "nav_menu": {},
   "number_sections": true,
   "sideBar": true,
   "skip_h1_title": false,
   "title_cell": "Table of Contents",
   "title_sidebar": "Contents",
   "toc_cell": false,
   "toc_position": {},
   "toc_section_display": true,
   "toc_window_display": false
  },
  "varInspector": {
   "cols": {
    "lenName": 16,
    "lenType": 16,
    "lenVar": 40
   },
   "kernels_config": {
    "python": {
     "delete_cmd_postfix": "",
     "delete_cmd_prefix": "del ",
     "library": "var_list.py",
     "varRefreshCmd": "print(var_dic_list())"
    },
    "r": {
     "delete_cmd_postfix": ") ",
     "delete_cmd_prefix": "rm(",
     "library": "var_list.r",
     "varRefreshCmd": "cat(var_dic_list()) "
    }
   },
   "types_to_exclude": [
    "module",
    "function",
    "builtin_function_or_method",
    "instance",
    "_Feature"
   ],
   "window_display": false
  }
 },
 "nbformat": 4,
 "nbformat_minor": 5
}
