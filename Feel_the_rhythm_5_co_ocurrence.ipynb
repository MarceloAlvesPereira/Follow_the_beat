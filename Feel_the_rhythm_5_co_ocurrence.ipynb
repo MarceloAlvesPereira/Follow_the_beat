{
 "cells": [
  {
   "cell_type": "code",
   "execution_count": 63,
   "id": "6de699c6",
   "metadata": {
    "ExecuteTime": {
     "end_time": "2022-05-08T05:29:42.719380Z",
     "start_time": "2022-05-08T05:29:42.711054Z"
    }
   },
   "outputs": [],
   "source": [
    "# import cProfile\n",
    "import collections\n",
    "import datetime\n",
    "\n",
    "import os\n",
    "# import sys\n",
    "import time\n",
    "\n",
    "import numpy as np\n",
    "import pandas as pd\n",
    "from scipy.sparse import csr_matrix\n",
    "\n",
    "import pickle\n",
    "\n",
    "import matplotlib.pyplot as plt\n",
    "import seaborn as sns\n",
    "\n",
    "from sklearn.preprocessing import MinMaxScaler\n",
    "# from sklearn.preprocessing import scale, StandardScaler, MinMaxScaler, RobustScaler\n",
    "\n",
    "import random\n",
    "\n",
    "import gc\n",
    "\n",
    "pd.options.display.float_format = \"{:.2f}\".format\n",
    "# plt.rcParams.update({'font.size': 18})\n",
    "format = '%d/%m/%Y %H:%M'"
   ]
  },
  {
   "cell_type": "markdown",
   "id": "9ef48a7a",
   "metadata": {},
   "source": [
    "# Load data"
   ]
  },
  {
   "cell_type": "markdown",
   "id": "c614bb88",
   "metadata": {},
   "source": [
    "Load all data required."
   ]
  },
  {
   "cell_type": "code",
   "execution_count": 2,
   "id": "58b47e8d",
   "metadata": {
    "ExecuteTime": {
     "end_time": "2022-05-08T04:52:01.605920Z",
     "start_time": "2022-05-08T04:52:01.596945Z"
    }
   },
   "outputs": [],
   "source": [
    "def load_file(data_path, msg):\n",
    "    if msg != '':\n",
    "        txt = msg + ' - ' + data_path\n",
    "    else:\n",
    "        txt = data_path\n",
    "\n",
    "    if os.path.exists(data_path):\n",
    "        print('Loaded: ' + txt)\n",
    "        with open(data_path, 'rb') as f:\n",
    "            file_loaded = pickle.load(f)\n",
    "        return file_loaded\n",
    "    else:\n",
    "        print('File not found: ' + txt)"
   ]
  },
  {
   "cell_type": "code",
   "execution_count": 3,
   "id": "705d70c5",
   "metadata": {
    "ExecuteTime": {
     "end_time": "2022-05-08T04:52:04.199103Z",
     "start_time": "2022-05-08T04:52:01.607919Z"
    }
   },
   "outputs": [
    {
     "name": "stdout",
     "output_type": "stream",
     "text": [
      "Loaded: Playlists dictionary (training) - C:\\Users\\map_f\\OneDrive\\Documents\\GitHub\\Follow_the_beat\\data\\processed\\3_playlists_dict_train.pkl\n",
      "Loaded: Playlists dictionary (test) - C:\\Users\\map_f\\OneDrive\\Documents\\GitHub\\Follow_the_beat\\data\\processed\\3_playlists_dict_test.pkl\n",
      "Playlist - training set: 1243\n",
      "Playlist - test set: 533\n",
      "\n",
      "Loaded: Tracks dictionary (training) - C:\\Users\\map_f\\OneDrive\\Documents\\GitHub\\Follow_the_beat\\data\\processed\\4_tracks_dict_train.pkl\n",
      "Loaded: Tracks dictionary (test) - C:\\Users\\map_f\\OneDrive\\Documents\\GitHub\\Follow_the_beat\\data\\processed\\4_tracks_dict_test.pkl\n",
      "Tracks - training set: 63699\n",
      "Tracks - test set: 31183\n",
      "\n",
      "Loaded: Artist dictionary (training) - C:\\Users\\map_f\\OneDrive\\Documents\\GitHub\\Follow_the_beat\\data\\processed\\5_artists_dict_train.pkl\n",
      "Loaded: Artist dictionary (test) - C:\\Users\\map_f\\OneDrive\\Documents\\GitHub\\Follow_the_beat\\data\\processed\\5_artists_dict_test.pkl\n",
      "Artist - training set: 22639\n",
      "Artist - test set: 12780\n",
      "\n",
      "Loaded: Albums dictionary (training) - C:\\Users\\map_f\\OneDrive\\Documents\\GitHub\\Follow_the_beat\\data\\processed\\6_albums_dict_train.pkl\n",
      "Loaded: Albums dictionary (test) - C:\\Users\\map_f\\OneDrive\\Documents\\GitHub\\Follow_the_beat\\data\\processed\\6_albums_dict_test.pkl\n",
      "Albums - training set: 46688\n",
      "Albums - test set: 24258\n",
      "\n"
     ]
    }
   ],
   "source": [
    "# Load all data\n",
    "\n",
    "playlists_train = load_file(\n",
    "    os.getcwd() + '\\\\data\\\\processed\\\\3_playlists_dict_train.pkl',\n",
    "    'Playlists dictionary (training)')\n",
    "playlists_test = load_file(\n",
    "    os.getcwd() + '\\\\data\\\\processed\\\\3_playlists_dict_test.pkl',\n",
    "    'Playlists dictionary (test)')\n",
    "print('Playlist - training set: ' + str(len(playlists_train)))\n",
    "print('Playlist - test set: ' + str(len(playlists_test)))\n",
    "print()\n",
    "\n",
    "tracks_dict_train = load_file(\n",
    "    os.getcwd() + '\\\\data\\\\processed\\\\4_tracks_dict_train.pkl',\n",
    "    'Tracks dictionary (training)')\n",
    "tracks_dict_test = load_file(\n",
    "    os.getcwd() + '\\\\data\\\\processed\\\\4_tracks_dict_test.pkl',\n",
    "    'Tracks dictionary (test)')\n",
    "print('Tracks - training set: ' + str(len(tracks_dict_train)))\n",
    "print('Tracks - test set: ' + str(len(tracks_dict_test)))\n",
    "print()\n",
    "\n",
    "artists_dict_train = load_file(\n",
    "    os.getcwd() + '\\\\data\\\\processed\\\\5_artists_dict_train.pkl',\n",
    "    'Artist dictionary (training)')\n",
    "artists_dict_test = load_file(\n",
    "    os.getcwd() + '\\\\data\\\\processed\\\\5_artists_dict_test.pkl',\n",
    "    'Artist dictionary (test)')\n",
    "print('Artist - training set: ' + str(len(artists_dict_train)))\n",
    "print('Artist - test set: ' + str(len(artists_dict_test)))\n",
    "print()\n",
    "\n",
    "albums_dict_train = load_file(\n",
    "    os.getcwd() + '\\\\data\\\\processed\\\\6_albums_dict_train.pkl',\n",
    "    'Albums dictionary (training)')\n",
    "albums_dict_test = load_file(\n",
    "    os.getcwd() + '\\\\data\\\\processed\\\\6_albums_dict_test.pkl',\n",
    "    'Albums dictionary (test)')\n",
    "print('Albums - training set: ' + str(len(albums_dict_train)))\n",
    "print('Albums - test set: ' + str(len(albums_dict_test)))\n",
    "print()"
   ]
  },
  {
   "cell_type": "markdown",
   "id": "9531b371",
   "metadata": {},
   "source": [
    "##### Create data frames to perform analysis"
   ]
  },
  {
   "cell_type": "code",
   "execution_count": 4,
   "id": "3eea615e",
   "metadata": {
    "ExecuteTime": {
     "end_time": "2022-05-08T04:52:12.674918Z",
     "start_time": "2022-05-08T04:52:04.201125Z"
    }
   },
   "outputs": [
    {
     "name": "stdout",
     "output_type": "stream",
     "text": [
      "df_playlists_train: (4, 1243)\n",
      "df_playlists_test: (4, 533)\n",
      "df_tracks_train: (7, 63699)\n",
      "df_tracks_test: (7, 31183)\n",
      "df_artists_train: (3, 22639)\n",
      "df_artists_test: (3, 12780)\n",
      "df_albums_train: (4, 46688)\n",
      "df_albums_test: (4, 24258)\n"
     ]
    }
   ],
   "source": [
    "gc.collect()\n",
    "df_playlists_train = playlists_train.T\n",
    "print(\"df_playlists_train:\", df_playlists_train.shape)\n",
    "\n",
    "df_playlists_test = playlists_test.T\n",
    "print(\"df_playlists_test:\", df_playlists_test.shape)\n",
    "\n",
    "df_tracks_train = pd.DataFrame.from_dict(tracks_dict_train, orient='index')\n",
    "df_tracks_train = df_tracks_train.T\n",
    "print(\"df_tracks_train:\", df_tracks_train.shape)\n",
    "\n",
    "df_tracks_test = pd.DataFrame.from_dict(tracks_dict_test, orient='index')\n",
    "df_tracks_test = df_tracks_test.T\n",
    "print(\"df_tracks_test:\", df_tracks_test.shape)\n",
    "\n",
    "df_artists_train = pd.DataFrame.from_dict(artists_dict_train, orient='index')\n",
    "df_artists_train = df_artists_train.T\n",
    "print(\"df_artists_train:\", df_artists_train.shape)\n",
    "\n",
    "df_artists_test = pd.DataFrame.from_dict(artists_dict_test, orient='index')\n",
    "df_artists_test = df_artists_test.T\n",
    "print(\"df_artists_test:\", df_artists_test.shape)\n",
    "\n",
    "df_albums_train = pd.DataFrame.from_dict(albums_dict_train, orient='index')\n",
    "df_albums_train = df_albums_train.T\n",
    "print(\"df_albums_train:\", df_albums_train.shape)\n",
    "\n",
    "df_albums_test = pd.DataFrame.from_dict(albums_dict_test, orient='index')\n",
    "df_albums_test = df_albums_test.T\n",
    "print(\"df_albums_test:\", df_albums_test.shape)"
   ]
  },
  {
   "cell_type": "markdown",
   "id": "5271f0bd",
   "metadata": {},
   "source": [
    "# Co-occurrence matrix"
   ]
  },
  {
   "cell_type": "markdown",
   "id": "6147b809",
   "metadata": {},
   "source": [
    "## Tracks co-occurrence matrix"
   ]
  },
  {
   "cell_type": "code",
   "execution_count": 5,
   "id": "d3dc0998",
   "metadata": {
    "ExecuteTime": {
     "end_time": "2022-05-08T04:52:12.690563Z",
     "start_time": "2022-05-08T04:52:12.676887Z"
    }
   },
   "outputs": [],
   "source": [
    "def co_occurrence_matrix_tracks(playlists_dict, tracks_dict):\n",
    "    matrix = {}\n",
    "    for i, item in enumerate(tracks_dict):\n",
    "        tracks_matched = []\n",
    "        for j, playlist_id in enumerate(tracks_dict[item]['in_playlist']):\n",
    "            for tr, track in enumerate(playlists_dict[playlist_id]['tracks']):\n",
    "                tracks_matched.append(track['id'])\n",
    "        counter = collections.Counter(tracks_matched)\n",
    "        b = pd.DataFrame.from_dict(counter, orient='index', columns=['cnt'])\n",
    "        b = b.sort_values('cnt', ascending=False)\n",
    "\n",
    "        min_max = MinMaxScaler()\n",
    "        b['count_scaled'] = min_max.fit_transform(b[['cnt']])\n",
    "        b['rank'] = b['count_scaled'].rank(method='average', ascending=False)\n",
    "\n",
    "        matrix.update({item: b})\n",
    "    return (matrix)"
   ]
  },
  {
   "cell_type": "markdown",
   "id": "dba37002",
   "metadata": {},
   "source": [
    "## Artists co-occurrence matrix"
   ]
  },
  {
   "cell_type": "code",
   "execution_count": 6,
   "id": "12365288",
   "metadata": {
    "ExecuteTime": {
     "end_time": "2022-05-08T04:52:12.706355Z",
     "start_time": "2022-05-08T04:52:12.694014Z"
    }
   },
   "outputs": [],
   "source": [
    "def co_occurrence_matrix_artists(playlists_dict, artists_dict):\n",
    "    matrix = {}\n",
    "    for i, item in enumerate(artists_dict):\n",
    "        artist_matched = []\n",
    "        for j, playlist_id in enumerate(artists_dict[item]['in_playlist']):\n",
    "            for tr, track in enumerate(playlists_dict[playlist_id]['tracks']):\n",
    "                for a, artist in enumerate(track['artists']):\n",
    "                    artist_matched.append(artist['id'])\n",
    "        counter = collections.Counter(artist_matched)\n",
    "        b = pd.DataFrame.from_dict(counter, orient='index', columns=['cnt'])\n",
    "        b = b.sort_values('cnt', ascending=False)\n",
    "\n",
    "        min_max = MinMaxScaler()\n",
    "        b['count_scaled'] = min_max.fit_transform(b[['cnt']])\n",
    "        b['rank'] = b['count_scaled'].rank(method='average', ascending=False)\n",
    "\n",
    "        matrix.update({item: b})\n",
    "    return (matrix)"
   ]
  },
  {
   "cell_type": "markdown",
   "id": "c039515c",
   "metadata": {},
   "source": [
    "## Albums co-occurrence matrix"
   ]
  },
  {
   "cell_type": "code",
   "execution_count": 7,
   "id": "c856667f",
   "metadata": {
    "ExecuteTime": {
     "end_time": "2022-05-08T04:52:12.722341Z",
     "start_time": "2022-05-08T04:52:12.713338Z"
    }
   },
   "outputs": [],
   "source": [
    "def co_occurrence_matrix_albums(playlists_dict, albums_dict):\n",
    "    matrix = {}\n",
    "    for i, item in enumerate(albums_dict):\n",
    "        albums_matched = []\n",
    "        for j, playlist_id in enumerate(albums_dict[item]['in_playlist']):\n",
    "            for tr, track in enumerate(playlists_dict[playlist_id]['tracks']):\n",
    "                albums_matched.append(track['album']['id'])\n",
    "        counter = collections.Counter(albums_matched)\n",
    "        b = pd.DataFrame.from_dict(counter, orient='index', columns=['cnt'])\n",
    "        b = b.sort_values('cnt', ascending=False)\n",
    "\n",
    "        min_max = MinMaxScaler()\n",
    "        b['count_scaled'] = min_max.fit_transform(b[[\"cnt\"]])\n",
    "        b[\"rank\"] = b['count_scaled'].rank(method='average', ascending=False)\n",
    "\n",
    "        matrix.update({item: b})\n",
    "    return (matrix)"
   ]
  },
  {
   "cell_type": "markdown",
   "id": "f09e1bad",
   "metadata": {},
   "source": [
    "##  Create all co-ocurrence matrix"
   ]
  },
  {
   "cell_type": "code",
   "execution_count": 8,
   "id": "289f9da8",
   "metadata": {
    "ExecuteTime": {
     "end_time": "2022-05-08T04:52:12.737274Z",
     "start_time": "2022-05-08T04:52:12.726302Z"
    }
   },
   "outputs": [],
   "source": [
    "def co_ocurrence(playlist, df, data_path, txt):\n",
    "    # check if data extraction already exists then load if it exists, otherwise run query\n",
    "    if os.path.exists(data_path):\n",
    "        print('Co-occurrence ' + txt + ' - Loaded: ' + data_path)\n",
    "        # load file only if the next step was not executed (getting tracks)\n",
    "        with open(data_path, 'rb') as f:\n",
    "            co_occurrence = pickle.load(f)\n",
    "    else:\n",
    "        print('Co-occurrence ' + txt + ' - Saved: ' + data_path)\n",
    "        # list of all user ids (UID) and playlist ids (PID)\n",
    "        uid_pid_raw = []\n",
    "\n",
    "        if txt == 'tracks':\n",
    "            co_occurrence = co_occurrence_matrix_tracks(playlist, df)\n",
    "        elif txt == 'artists':\n",
    "            co_occurrence = co_occurrence_matrix_artists(playlist, df)\n",
    "        elif txt == 'albums':\n",
    "            co_occurrence = co_occurrence_matrix_albums(playlist, df)\n",
    "\n",
    "        # Save the data\n",
    "        with open(data_path, 'wb') as f:\n",
    "            pickle.dump(co_occurrence, f)\n",
    "\n",
    "    len(co_occurrence)\n",
    "    # co_occurrence_tracks['1MJ5f5EYBC92ADD6xcz7nb']\n",
    "    return co_occurrence"
   ]
  },
  {
   "cell_type": "code",
   "execution_count": 9,
   "id": "65bd1d88",
   "metadata": {
    "ExecuteTime": {
     "end_time": "2022-05-08T04:54:40.818592Z",
     "start_time": "2022-05-08T04:52:12.739268Z"
    }
   },
   "outputs": [
    {
     "name": "stdout",
     "output_type": "stream",
     "text": [
      "Co-occurrence tracks - Loaded: C:\\Users\\map_f\\OneDrive\\Documents\\GitHub\\Follow_the_beat\\data\\processed\\7_co_occurrence_tracks_train.pkl\n",
      "Co-occurrence tracks - Loaded: C:\\Users\\map_f\\OneDrive\\Documents\\GitHub\\Follow_the_beat\\data\\processed\\7_co_occurrence_tracks_train.pkl\n",
      "Co-occurrence artists - Loaded: C:\\Users\\map_f\\OneDrive\\Documents\\GitHub\\Follow_the_beat\\data\\processed\\7_co_occurrence_artists_train.pkl\n",
      "Co-occurrence artists - Loaded: C:\\Users\\map_f\\OneDrive\\Documents\\GitHub\\Follow_the_beat\\data\\processed\\7_co_occurrence_artists_train.pkl\n",
      "Co-occurrence albums - Loaded: C:\\Users\\map_f\\OneDrive\\Documents\\GitHub\\Follow_the_beat\\data\\processed\\7_co_occurrence_albums_train.pkl\n",
      "Co-occurrence albums - Loaded: C:\\Users\\map_f\\OneDrive\\Documents\\GitHub\\Follow_the_beat\\data\\processed\\7_co_occurrence_albums_train.pkl\n"
     ]
    }
   ],
   "source": [
    "gc.collect()\n",
    "\n",
    "co_occurrence_tracks_train = co_ocurrence(\n",
    "    df_playlists_train, df_tracks_train,\n",
    "    os.getcwd() + '\\\\data\\\\processed\\\\7_co_occurrence_tracks_train.pkl',\n",
    "    'tracks')\n",
    "co_occurrence_tracks_test = co_ocurrence(\n",
    "    df_playlists_test, df_tracks_test,\n",
    "    os.getcwd() + '\\\\data\\\\processed\\\\7_co_occurrence_tracks_train.pkl',\n",
    "    'tracks')\n",
    "\n",
    "co_occurrence_artists_train = co_ocurrence(\n",
    "    df_playlists_train, df_artists_train,\n",
    "    os.getcwd() + '\\\\data\\\\processed\\\\7_co_occurrence_artists_train.pkl',\n",
    "    'artists')\n",
    "co_occurrence_artists_test = co_ocurrence(\n",
    "    df_playlists_test, df_artists_test,\n",
    "    os.getcwd() + '\\\\data\\\\processed\\\\7_co_occurrence_artists_train.pkl',\n",
    "    'artists')\n",
    "\n",
    "co_occurrence_albums_train = co_ocurrence(\n",
    "    df_playlists_train, df_albums_train,\n",
    "    os.getcwd() + '\\\\data\\\\processed\\\\7_co_occurrence_albums_train.pkl',\n",
    "    'albums')\n",
    "co_occurrence_albums_test = co_ocurrence(\n",
    "    df_playlists_test, df_albums_test,\n",
    "    os.getcwd() + '\\\\data\\\\processed\\\\7_co_occurrence_albums_train.pkl',\n",
    "    'albums')"
   ]
  },
  {
   "cell_type": "markdown",
   "id": "26a67f57",
   "metadata": {},
   "source": [
    "# Model"
   ]
  },
  {
   "cell_type": "code",
   "execution_count": 10,
   "id": "ed2ea1eb",
   "metadata": {
    "ExecuteTime": {
     "end_time": "2022-05-08T04:54:40.833463Z",
     "start_time": "2022-05-08T04:54:40.820499Z"
    }
   },
   "outputs": [],
   "source": [
    "def prepare_inputs(playlist_trx, trx_train, trx_test, fraction):\n",
    "    trx = playlist_trx.tracks\n",
    "    n = int((len(trx) + 1) * fraction)\n",
    "\n",
    "    ids = pd.DataFrame(trx).id  # ids of the original playlist\n",
    "    selected_ids = random.sample(ids.values.tolist(), n)\n",
    "    expected_ids = ids[~ids.isin(ids)]\n",
    "\n",
    "    db = trx_train.T\n",
    "    trx_available = db[~db.id.isin(ids)]\n",
    "    \n",
    "    reference_trx = trx_test.T[trx_test.T.id.isin(selected_ids)]\n",
    "    expected_trx = trx_test.T[~trx_test.T.id.isin(selected_ids)\n",
    "                              & trx_test.T.id.isin(ids)]\n",
    "    \n",
    "    \n",
    "    return trx_available, reference_trx, expected_trx"
   ]
  },
  {
   "cell_type": "markdown",
   "id": "6f474740",
   "metadata": {},
   "source": [
    "## Random"
   ]
  },
  {
   "cell_type": "code",
   "execution_count": 11,
   "id": "37ae7041",
   "metadata": {
    "ExecuteTime": {
     "end_time": "2022-05-08T04:54:40.849356Z",
     "start_time": "2022-05-08T04:54:40.835460Z"
    },
    "run_control": {
     "marked": false
    }
   },
   "outputs": [],
   "source": [
    "def get_trk_rnd(playlist_trx, trx_train, trx_test, fraction):\n",
    "    trx_available, reference_trx, expected_trx = prepare_inputs(playlist_trx, trx_train, trx_test, fraction)\n",
    "        \n",
    "    select = random.sample(trx_available['id'].values.tolist(), len(expected_trx))\n",
    "    \n",
    "    selected_trx = trx_available[trx_available.id.isin(select)]\n",
    "\n",
    "    return reference_trx, expected_trx, selected_trx\n",
    "\n",
    "\n",
    "# reference_trx, expected_trx, selected_trx = get_trk_rnd(\n",
    "#     df_playlists_test['1h4bUPnrpgn8qXGJ5dvTsu'], df_tracks_train,\n",
    "#     df_tracks_test, .5)\n",
    "# print(len(reference_trx), len(expected_trx), len(selected_trx))\n",
    "# reference_trx, expected_trx, selected_trx"
   ]
  },
  {
   "cell_type": "markdown",
   "id": "cf894af3",
   "metadata": {},
   "source": [
    "## Ocurrence frequency"
   ]
  },
  {
   "cell_type": "code",
   "execution_count": 64,
   "id": "ab7fc723",
   "metadata": {
    "ExecuteTime": {
     "end_time": "2022-05-08T05:30:14.140069Z",
     "start_time": "2022-05-08T05:30:14.122972Z"
    },
    "run_control": {
     "marked": true
    }
   },
   "outputs": [],
   "source": [
    "# Calculate the tracks frequency\n",
    "def get_trx_freq(db):\n",
    "    data_path = os.getcwd() + '\\\\data\\\\processed\\\\8_tracks_frequency.pkl'\n",
    "    txt = 'Tracks frequency - ' + data_path\n",
    "    if os.path.exists(data_path):\n",
    "        print('Loaded: ' + txt)\n",
    "        with open(data_path, 'rb') as f:\n",
    "            tracks_frequency = pickle.load(f)\n",
    "    else:\n",
    "        tracks_frequency = pd.DataFrame(\n",
    "            columns=['track_id', 'cnt', 'cum_sum', 'cum_perc'])\n",
    "\n",
    "        for t, trk in enumerate(db):\n",
    "            if t % 100 == 0:\n",
    "                print(\"%s - %d/%d - LEN: %d\" %\n",
    "                      (datetime.datetime.now().strftime(format), t, len(db),\n",
    "                       len(tracks_frequency)))\n",
    "\n",
    "            df = db[trk]\n",
    "            df = df[df.index != trk]\n",
    "            tracks_frequency = tracks_frequency.append(\n",
    "                {\n",
    "                    'track_id': trk,\n",
    "                    'cnt': df['cnt'].sum()\n",
    "                }, ignore_index=True)\n",
    "\n",
    "        tracks_frequency = tracks_frequency.sort_values(ascending=False,\n",
    "                                                        by='cnt')\n",
    "        tracks_frequency['cum_sum'] = tracks_frequency['cnt'].cumsum()\n",
    "        tracks_frequency['cum_perc'] = 100 * tracks_frequency[\n",
    "            'cum_sum'] / tracks_frequency['cnt'].sum()\n",
    "\n",
    "        print('Saved: ' + txt)\n",
    "        with open(data_path, 'wb') as f:\n",
    "            pickle.dump(tracks_frequency, f)\n",
    "\n",
    "        return tracks_frequency"
   ]
  },
  {
   "cell_type": "code",
   "execution_count": 51,
   "id": "bb5ab1b6",
   "metadata": {
    "ExecuteTime": {
     "end_time": "2022-05-08T05:27:36.746072Z",
     "start_time": "2022-05-08T05:27:36.699184Z"
    },
    "scrolled": true
   },
   "outputs": [
    {
     "name": "stdout",
     "output_type": "stream",
     "text": [
      "Loaded: Tracks frequency - C:\\Users\\map_f\\OneDrive\\Documents\\GitHub\\Follow_the_beat\\data\\processed\\8_tracks_frequency.pkl\n"
     ]
    }
   ],
   "source": [
    "b = get_trx_freq(co_occurrence_tracks_train)\n",
    "# print(len(tracks_frequency))"
   ]
  },
  {
   "cell_type": "code",
   "execution_count": 54,
   "id": "1b774645",
   "metadata": {
    "ExecuteTime": {
     "end_time": "2022-05-08T05:27:56.779111Z",
     "start_time": "2022-05-08T05:27:56.762157Z"
    }
   },
   "outputs": [
    {
     "data": {
      "text/plain": [
       "NoneType"
      ]
     },
     "execution_count": 54,
     "metadata": {},
     "output_type": "execute_result"
    }
   ],
   "source": [
    "data_path = os.getcwd() + '\\\\data\\\\processed\\\\8_tracks_frequency.pkl'\n",
    "txt = 'Tracks frequency - ' + data_path\n",
    "if os.path.exists(data_path):\n",
    "    print('Loaded: ' + txt)\n",
    "    with open(data_path, 'rb') as f:\n",
    "        c = pickle.load(f)"
   ]
  },
  {
   "cell_type": "code",
   "execution_count": 16,
   "id": "fc98928f",
   "metadata": {
    "ExecuteTime": {
     "end_time": "2022-05-08T05:06:43.493995Z",
     "start_time": "2022-05-08T05:06:39.326192Z"
    }
   },
   "outputs": [
    {
     "data": {
      "text/html": [
       "<div>\n",
       "<style scoped>\n",
       "    .dataframe tbody tr th:only-of-type {\n",
       "        vertical-align: middle;\n",
       "    }\n",
       "\n",
       "    .dataframe tbody tr th {\n",
       "        vertical-align: top;\n",
       "    }\n",
       "\n",
       "    .dataframe thead th {\n",
       "        text-align: right;\n",
       "    }\n",
       "</style>\n",
       "<table border=\"1\" class=\"dataframe\">\n",
       "  <thead>\n",
       "    <tr style=\"text-align: right;\">\n",
       "      <th></th>\n",
       "      <th>track_id</th>\n",
       "      <th>cnt</th>\n",
       "      <th>cum_sum</th>\n",
       "      <th>cum_perc</th>\n",
       "    </tr>\n",
       "  </thead>\n",
       "  <tbody>\n",
       "    <tr>\n",
       "      <th>58989</th>\n",
       "      <td>7I6Gp2dEZQMnsOmgdUR1c7</td>\n",
       "      <td>99</td>\n",
       "      <td>7130492</td>\n",
       "      <td>0.85</td>\n",
       "    </tr>\n",
       "    <tr>\n",
       "      <th>36903</th>\n",
       "      <td>6JLLacP83oixoe33bWjuCC</td>\n",
       "      <td>99</td>\n",
       "      <td>4194746</td>\n",
       "      <td>0.50</td>\n",
       "    </tr>\n",
       "    <tr>\n",
       "      <th>23411</th>\n",
       "      <td>2UKMqNCVsHrAYzBZMA0rxL</td>\n",
       "      <td>99</td>\n",
       "      <td>7158410</td>\n",
       "      <td>0.85</td>\n",
       "    </tr>\n",
       "    <tr>\n",
       "      <th>57997</th>\n",
       "      <td>2emWQWo5lOX3Kj6GfhfKVm</td>\n",
       "      <td>99</td>\n",
       "      <td>6616682</td>\n",
       "      <td>0.79</td>\n",
       "    </tr>\n",
       "    <tr>\n",
       "      <th>6053</th>\n",
       "      <td>0FMRupsIPaHms5eylMj0hH</td>\n",
       "      <td>99</td>\n",
       "      <td>7125047</td>\n",
       "      <td>0.85</td>\n",
       "    </tr>\n",
       "    <tr>\n",
       "      <th>47039</th>\n",
       "      <td>4R11u0yYoDPonNV2lFQr4E</td>\n",
       "      <td>99</td>\n",
       "      <td>4755779</td>\n",
       "      <td>0.57</td>\n",
       "    </tr>\n",
       "    <tr>\n",
       "      <th>8418</th>\n",
       "      <td>5msXh6qmKL96YmzItu95DV</td>\n",
       "      <td>99</td>\n",
       "      <td>6409376</td>\n",
       "      <td>0.76</td>\n",
       "    </tr>\n",
       "    <tr>\n",
       "      <th>53509</th>\n",
       "      <td>4fX1PGVgbxqY6NVzZqhMuz</td>\n",
       "      <td>99</td>\n",
       "      <td>5275628</td>\n",
       "      <td>0.63</td>\n",
       "    </tr>\n",
       "    <tr>\n",
       "      <th>16849</th>\n",
       "      <td>1Q3TP11UOqOdj2w34Jdgno</td>\n",
       "      <td>99</td>\n",
       "      <td>5826167</td>\n",
       "      <td>0.69</td>\n",
       "    </tr>\n",
       "    <tr>\n",
       "      <th>60375</th>\n",
       "      <td>7Fv1ofVT92zx0XNJEEmmRW</td>\n",
       "      <td>99</td>\n",
       "      <td>5698358</td>\n",
       "      <td>0.68</td>\n",
       "    </tr>\n",
       "    <tr>\n",
       "      <th>56781</th>\n",
       "      <td>17Q87zeXgsAi9iQQbMu9v0</td>\n",
       "      <td>198</td>\n",
       "      <td>3158870</td>\n",
       "      <td>0.38</td>\n",
       "    </tr>\n",
       "  </tbody>\n",
       "</table>\n",
       "</div>"
      ],
      "text/plain": [
       "                     track_id  cnt  cum_sum cum_perc\n",
       "58989  7I6Gp2dEZQMnsOmgdUR1c7   99  7130492     0.85\n",
       "36903  6JLLacP83oixoe33bWjuCC   99  4194746     0.50\n",
       "23411  2UKMqNCVsHrAYzBZMA0rxL   99  7158410     0.85\n",
       "57997  2emWQWo5lOX3Kj6GfhfKVm   99  6616682     0.79\n",
       "6053   0FMRupsIPaHms5eylMj0hH   99  7125047     0.85\n",
       "47039  4R11u0yYoDPonNV2lFQr4E   99  4755779     0.57\n",
       "8418   5msXh6qmKL96YmzItu95DV   99  6409376     0.76\n",
       "53509  4fX1PGVgbxqY6NVzZqhMuz   99  5275628     0.63\n",
       "16849  1Q3TP11UOqOdj2w34Jdgno   99  5826167     0.69\n",
       "60375  7Fv1ofVT92zx0XNJEEmmRW   99  5698358     0.68\n",
       "56781  17Q87zeXgsAi9iQQbMu9v0  198  3158870     0.38"
      ]
     },
     "execution_count": 16,
     "metadata": {},
     "output_type": "execute_result"
    }
   ],
   "source": [
    "a = tracks_frequency.groupby('cnt', group_keys=False).apply(lambda x: x.sample(frac=20/len(tracks_frequency)))\n",
    "a"
   ]
  },
  {
   "cell_type": "code",
   "execution_count": 17,
   "id": "a93d862b",
   "metadata": {
    "ExecuteTime": {
     "end_time": "2022-05-08T05:06:43.509953Z",
     "start_time": "2022-05-08T05:06:43.495991Z"
    },
    "run_control": {
     "marked": false
    }
   },
   "outputs": [],
   "source": [
    "def get_trk_frq(playlist_trx, trx_train, trx_test, fraction):\n",
    "    trx_available, reference_trx, expected_trx = prepare_inputs(playlist_trx, trx_train, trx_test, fraction)\n",
    "        \n",
    "    select = random.sample(trx_available['id'].values.tolist(), len(expected_trx))\n",
    "    \n",
    "    selected_trx = trx_available[trx_available.id.isin(select)]\n",
    "    selected_trx = trx_available.groupby('cnt', group_keys=False).apply(lambda x: x.sample(frac=20/len(trx_available)))\n",
    "\n",
    "    return reference_trx, expected_trx, selected_trx\n",
    "\n",
    "\n",
    "# reference_trx, expected_trx, selected_trx = get_trk_rnd(\n",
    "#     df_playlists_test['1h4bUPnrpgn8qXGJ5dvTsu'], df_tracks_train,\n",
    "#     df_tracks_test, .5)\n",
    "# print(len(reference_trx), len(expected_trx), len(selected_trx))\n",
    "# reference_trx, expected_trx, selected_trx"
   ]
  },
  {
   "cell_type": "code",
   "execution_count": 18,
   "id": "cf48bc50",
   "metadata": {
    "ExecuteTime": {
     "end_time": "2022-05-08T05:06:43.525307Z",
     "start_time": "2022-05-08T05:06:43.512946Z"
    },
    "run_control": {
     "marked": false
    }
   },
   "outputs": [],
   "source": [
    "# db = df_tracks_train.T\n",
    "# ids = pd.DataFrame(df_playlists_test['1h4bUPnrpgn8qXGJ5dvTsu'].tracks).id\n",
    "# a = db[~db.id.isin(ids)]\n",
    "# b = a.values.tolist()\n",
    "\n",
    "# # s = random.sample(list(a),50)\n",
    "# # ids\n",
    "# # type(ids)\n",
    "# # db['1h4bUPnrpgn8qXGJ5dvTsu']\n",
    "# # db.id\n",
    "# print(len(db))\n",
    "# # print(ids)\n",
    "# print(type(ids))\n",
    "# print(len(ids))\n",
    "# print(len(a))\n",
    "# print(len(b))\n",
    "# # dataframe1[~dataframe1.column1.isin(common.column1)]\n",
    "# # print(a.shape())\n",
    "# # b"
   ]
  },
  {
   "cell_type": "markdown",
   "id": "5cc61f23",
   "metadata": {},
   "source": [
    "## Artist"
   ]
  },
  {
   "cell_type": "code",
   "execution_count": 19,
   "id": "9731ee1d",
   "metadata": {
    "ExecuteTime": {
     "end_time": "2022-05-08T05:06:43.541264Z",
     "start_time": "2022-05-08T05:06:43.528301Z"
    }
   },
   "outputs": [],
   "source": [
    "def get_trk_artist(playlist_trx, trx_train, trx_test, fraction):\n",
    "    trx_available, reference_trx, expected_trx = prepare_inputs(playlist_trx, trx_train, trx_test, fraction)\n",
    "        \n",
    "    select = random.sample(trx_available['id'].values.tolist(), len(expected_trx))\n",
    "    \n",
    "    selected_trx = trx_available[trx_available.id.isin(select)]\n",
    "\n",
    "    return reference_trx, expected_trx, selected_trx\n",
    "\n",
    "\n",
    "# reference_trx, expected_trx, selected_trx = get_trk_rnd(\n",
    "#     df_playlists_test['1h4bUPnrpgn8qXGJ5dvTsu'], df_tracks_train,\n",
    "#     df_tracks_test, .5)\n",
    "# print(len(reference_trx), len(expected_trx), len(selected_trx))\n",
    "# reference_trx, expected_trx, selected_trx"
   ]
  },
  {
   "cell_type": "markdown",
   "id": "d60cf1da",
   "metadata": {},
   "source": [
    "## Album"
   ]
  },
  {
   "cell_type": "code",
   "execution_count": 20,
   "id": "c84ff16e",
   "metadata": {
    "ExecuteTime": {
     "end_time": "2022-05-08T05:06:43.557223Z",
     "start_time": "2022-05-08T05:06:43.543260Z"
    }
   },
   "outputs": [],
   "source": [
    "def get_trk_album(playlist_trx, trx_train, trx_test, fraction):\n",
    "    trx_available, reference_trx, expected_trx = prepare_inputs(playlist_trx, trx_train, trx_test, fraction)\n",
    "        \n",
    "    select = random.sample(trx_available['id'].values.tolist(), len(expected_trx))\n",
    "    \n",
    "    selected_trx = trx_available[trx_available.id.isin(select)]\n",
    "\n",
    "    return reference_trx, expected_trx, selected_trx\n",
    "\n",
    "\n",
    "# reference_trx, expected_trx, selected_trx = get_trk_rnd(\n",
    "#     df_playlists_test['1h4bUPnrpgn8qXGJ5dvTsu'], df_tracks_train,\n",
    "#     df_tracks_test, .5)\n",
    "# print(len(reference_trx), len(expected_trx), len(selected_trx))\n",
    "# reference_trx, expected_trx, selected_trx"
   ]
  },
  {
   "cell_type": "markdown",
   "id": "5f17764d",
   "metadata": {},
   "source": [
    "## Track"
   ]
  },
  {
   "cell_type": "code",
   "execution_count": 21,
   "id": "fbe1d695",
   "metadata": {
    "ExecuteTime": {
     "end_time": "2022-05-08T05:06:43.572184Z",
     "start_time": "2022-05-08T05:06:43.559217Z"
    }
   },
   "outputs": [],
   "source": [
    "def get_trk_track(playlist_trx, trx_train, trx_test, fraction):\n",
    "    trx_available, reference_trx, expected_trx = prepare_inputs(playlist_trx, trx_train, trx_test, fraction)\n",
    "        \n",
    "    select = random.sample(trx_available['id'].values.tolist(), len(expected_trx))\n",
    "    \n",
    "    selected_trx = trx_available[trx_available.id.isin(select)]\n",
    "\n",
    "    return reference_trx, expected_trx, selected_trx\n",
    "\n",
    "\n",
    "# reference_trx, expected_trx, selected_trx = get_trk_rnd(\n",
    "#     df_playlists_test['1h4bUPnrpgn8qXGJ5dvTsu'], df_tracks_train,\n",
    "#     df_tracks_test, .5)\n",
    "# print(len(reference_trx), len(expected_trx), len(selected_trx))\n",
    "# reference_trx, expected_trx, selected_trx"
   ]
  },
  {
   "cell_type": "markdown",
   "id": "22781461",
   "metadata": {
    "ExecuteTime": {
     "end_time": "2022-05-07T00:00:10.793486Z",
     "start_time": "2022-05-07T00:00:08.844112Z"
    }
   },
   "source": [
    "# Evaluate models"
   ]
  },
  {
   "cell_type": "code",
   "execution_count": 22,
   "id": "52e5fdc6",
   "metadata": {
    "ExecuteTime": {
     "end_time": "2022-05-08T05:06:43.587140Z",
     "start_time": "2022-05-08T05:06:43.574178Z"
    },
    "run_control": {
     "marked": false
    }
   },
   "outputs": [],
   "source": [
    "def get_trk(method, reference, fraction):\n",
    "    if method == 'random':\n",
    "        reference_trx, expected_trx, selected_trx = get_trk_rnd(\n",
    "            df_playlists_test[reference], df_tracks_train, df_tracks_test,\n",
    "            fraction)\n",
    "    elif method == 'frequency':\n",
    "        reference_trx, expected_trx, selected_trx = get_trk_frq(\n",
    "            df_playlists_test[reference], df_tracks_train, df_tracks_test,\n",
    "            fraction)\n",
    "    elif method == 'artist':\n",
    "        reference_trx, expected_trx, selected_trx = get_trk_artist(\n",
    "            df_playlists_test[reference], df_tracks_train, df_tracks_test,\n",
    "            fraction)\n",
    "    elif method == 'album':\n",
    "        reference_trx, expected_trx, selected_trx = get_trk_album(\n",
    "            df_playlists_test[reference], df_tracks_train, df_tracks_test,\n",
    "            fraction)\n",
    "    elif method == 'playlist':\n",
    "        reference_trx, expected_trx, selected_trx = get_trk_track(\n",
    "            df_playlists_test[reference], df_tracks_train, df_tracks_test,\n",
    "            fraction)\n",
    "\n",
    "    return reference_trx, expected_trx, selected_trx"
   ]
  },
  {
   "cell_type": "code",
   "execution_count": 23,
   "id": "cb9f7409",
   "metadata": {
    "ExecuteTime": {
     "end_time": "2022-05-08T05:06:43.603244Z",
     "start_time": "2022-05-08T05:06:43.589281Z"
    }
   },
   "outputs": [],
   "source": [
    "methods = ['random', 'frequency', 'artist', 'album', 'playlist']\n",
    "splits = [.25, .5, .75]"
   ]
  },
  {
   "cell_type": "code",
   "execution_count": 24,
   "id": "228f09fc",
   "metadata": {
    "ExecuteTime": {
     "end_time": "2022-05-08T05:06:43.619201Z",
     "start_time": "2022-05-08T05:06:43.607233Z"
    }
   },
   "outputs": [
    {
     "data": {
      "text/plain": [
       "533"
      ]
     },
     "execution_count": 24,
     "metadata": {},
     "output_type": "execute_result"
    }
   ],
   "source": [
    "a = df_playlists_test.T\n",
    "len(a)"
   ]
  },
  {
   "cell_type": "code",
   "execution_count": 25,
   "id": "26a08691",
   "metadata": {
    "ExecuteTime": {
     "end_time": "2022-05-08T05:11:16.371101Z",
     "start_time": "2022-05-08T05:06:43.629364Z"
    },
    "run_control": {
     "marked": false
    }
   },
   "outputs": [
    {
     "name": "stdout",
     "output_type": "stream",
     "text": [
      "08/05/2022 01:06 - 0/533 - LEN: 0\n",
      "08/05/2022 01:07 - 100/533 - LEN: 300\n",
      "08/05/2022 01:08 - 200/533 - LEN: 600\n",
      "08/05/2022 01:09 - 300/533 - LEN: 900\n",
      "08/05/2022 01:10 - 400/533 - LEN: 1200\n",
      "08/05/2022 01:10 - 500/533 - LEN: 1500\n"
     ]
    }
   ],
   "source": [
    "a = df_playlists_test\n",
    "results = pd.DataFrame(columns=[\n",
    "    'playlist', 'method', 'frac', 'total_tracks', 'selected_tracks', 'matches',\n",
    "    'error'\n",
    "])\n",
    "for p, playlist in enumerate(a):\n",
    "    for m, method in enumerate(methods):\n",
    "#         print(method)\n",
    "        for f, frac in enumerate(splits):\n",
    "#             print(frac)\n",
    "            if m == 0:\n",
    "                if p % 100 == 0 and f == 0:\n",
    "                    print(\"%s - %d/%d - LEN: %d\" % (datetime.datetime.now().strftime(format), p, len(a.T), len(results)))\n",
    "                #                 if p == 0:\n",
    "                #                 print(p)\n",
    "                #                 print(df_playlists_test[playlist])\n",
    "                #                 print(type(df_playlists_test[playlist]))\n",
    "                #                 print(df_playlists_test[playlist])\n",
    "                reference_trx, expected_trx, selected_trx = get_trk(\n",
    "                method, playlist, frac)\n",
    "\n",
    "                matches = len(selected_trx[selected_trx.id.isin(expected_trx.id)].id)\n",
    "                total_trx = a[playlist].total_tracks\n",
    "                error = 1 - matches / a[playlist].total_tracks\n",
    "                sel_trx = len(selected_trx)\n",
    "\n",
    "                results = results.append(\n",
    "                {\n",
    "                'playlist': playlist,\n",
    "                'method': method,\n",
    "                'frac': frac,\n",
    "                'total_tracks': total_trx,\n",
    "                'selected_tracks': sel_trx,\n",
    "                'matches': matches,\n",
    "                'error': error\n",
    "                },\n",
    "                ignore_index=True)\n",
    "\n",
    "results.set_index('playlist', inplace=True)\n",
    "# print(len(reference_trx), len(expected_trx), len(selected_trx))"
   ]
  },
  {
   "cell_type": "code",
   "execution_count": 26,
   "id": "4e0c6746",
   "metadata": {
    "ExecuteTime": {
     "end_time": "2022-05-08T05:11:16.387051Z",
     "start_time": "2022-05-08T05:11:16.375057Z"
    }
   },
   "outputs": [],
   "source": [
    "# profiling_grid['performance_ratio'] = profiling_grid['accuracy']/profiling_grid['run_time']\n",
    "# profiling_grid['run_time_mean'] = profiling_grid.groupby('classifier')['run_time'].transform('mean')\n",
    "# profiling_grid['accuracy_mean'] = profiling_grid.groupby('classifier')['accuracy'].transform('mean')\n",
    "# profiling_grid['performance_average'] = profiling_grid.groupby('classifier')['performance_ratio'].transform('mean')\n",
    "# profiling_grid['rank_overall'] = profiling_grid['performance_ratio'].rank(method='dense', ascending=False)\n",
    "# profiling_grid['rank_average'] = profiling_grid['performance_average'].rank(method='dense', ascending=False)"
   ]
  },
  {
   "cell_type": "code",
   "execution_count": 27,
   "id": "44984df4",
   "metadata": {
    "ExecuteTime": {
     "end_time": "2022-05-08T05:11:16.417943Z",
     "start_time": "2022-05-08T05:11:16.390046Z"
    }
   },
   "outputs": [
    {
     "data": {
      "text/html": [
       "<div>\n",
       "<style scoped>\n",
       "    .dataframe tbody tr th:only-of-type {\n",
       "        vertical-align: middle;\n",
       "    }\n",
       "\n",
       "    .dataframe tbody tr th {\n",
       "        vertical-align: top;\n",
       "    }\n",
       "\n",
       "    .dataframe thead th {\n",
       "        text-align: right;\n",
       "    }\n",
       "</style>\n",
       "<table border=\"1\" class=\"dataframe\">\n",
       "  <thead>\n",
       "    <tr style=\"text-align: right;\">\n",
       "      <th></th>\n",
       "      <th>method</th>\n",
       "      <th>frac</th>\n",
       "      <th>total_tracks</th>\n",
       "      <th>selected_tracks</th>\n",
       "      <th>matches</th>\n",
       "      <th>error</th>\n",
       "    </tr>\n",
       "    <tr>\n",
       "      <th>playlist</th>\n",
       "      <th></th>\n",
       "      <th></th>\n",
       "      <th></th>\n",
       "      <th></th>\n",
       "      <th></th>\n",
       "      <th></th>\n",
       "    </tr>\n",
       "  </thead>\n",
       "  <tbody>\n",
       "    <tr>\n",
       "      <th>1h4bUPnrpgn8qXGJ5dvTsu</th>\n",
       "      <td>random</td>\n",
       "      <td>0.25</td>\n",
       "      <td>100</td>\n",
       "      <td>75</td>\n",
       "      <td>0</td>\n",
       "      <td>1.00</td>\n",
       "    </tr>\n",
       "    <tr>\n",
       "      <th>1h4bUPnrpgn8qXGJ5dvTsu</th>\n",
       "      <td>random</td>\n",
       "      <td>0.50</td>\n",
       "      <td>100</td>\n",
       "      <td>50</td>\n",
       "      <td>0</td>\n",
       "      <td>1.00</td>\n",
       "    </tr>\n",
       "    <tr>\n",
       "      <th>1h4bUPnrpgn8qXGJ5dvTsu</th>\n",
       "      <td>random</td>\n",
       "      <td>0.75</td>\n",
       "      <td>100</td>\n",
       "      <td>25</td>\n",
       "      <td>0</td>\n",
       "      <td>1.00</td>\n",
       "    </tr>\n",
       "    <tr>\n",
       "      <th>7Mht6GZuNHUvNwYMTDgB6b</th>\n",
       "      <td>random</td>\n",
       "      <td>0.25</td>\n",
       "      <td>25</td>\n",
       "      <td>19</td>\n",
       "      <td>0</td>\n",
       "      <td>1.00</td>\n",
       "    </tr>\n",
       "    <tr>\n",
       "      <th>7Mht6GZuNHUvNwYMTDgB6b</th>\n",
       "      <td>random</td>\n",
       "      <td>0.50</td>\n",
       "      <td>25</td>\n",
       "      <td>12</td>\n",
       "      <td>0</td>\n",
       "      <td>1.00</td>\n",
       "    </tr>\n",
       "    <tr>\n",
       "      <th>...</th>\n",
       "      <td>...</td>\n",
       "      <td>...</td>\n",
       "      <td>...</td>\n",
       "      <td>...</td>\n",
       "      <td>...</td>\n",
       "      <td>...</td>\n",
       "    </tr>\n",
       "    <tr>\n",
       "      <th>4CeyODedBm7b9bObDpkoGw</th>\n",
       "      <td>random</td>\n",
       "      <td>0.50</td>\n",
       "      <td>24</td>\n",
       "      <td>12</td>\n",
       "      <td>0</td>\n",
       "      <td>1.00</td>\n",
       "    </tr>\n",
       "    <tr>\n",
       "      <th>4CeyODedBm7b9bObDpkoGw</th>\n",
       "      <td>random</td>\n",
       "      <td>0.75</td>\n",
       "      <td>24</td>\n",
       "      <td>6</td>\n",
       "      <td>0</td>\n",
       "      <td>1.00</td>\n",
       "    </tr>\n",
       "    <tr>\n",
       "      <th>7p26YrYpOVw4wU88i23FJE</th>\n",
       "      <td>random</td>\n",
       "      <td>0.25</td>\n",
       "      <td>40</td>\n",
       "      <td>30</td>\n",
       "      <td>0</td>\n",
       "      <td>1.00</td>\n",
       "    </tr>\n",
       "    <tr>\n",
       "      <th>7p26YrYpOVw4wU88i23FJE</th>\n",
       "      <td>random</td>\n",
       "      <td>0.50</td>\n",
       "      <td>40</td>\n",
       "      <td>20</td>\n",
       "      <td>0</td>\n",
       "      <td>1.00</td>\n",
       "    </tr>\n",
       "    <tr>\n",
       "      <th>7p26YrYpOVw4wU88i23FJE</th>\n",
       "      <td>random</td>\n",
       "      <td>0.75</td>\n",
       "      <td>40</td>\n",
       "      <td>10</td>\n",
       "      <td>0</td>\n",
       "      <td>1.00</td>\n",
       "    </tr>\n",
       "  </tbody>\n",
       "</table>\n",
       "<p>1599 rows × 6 columns</p>\n",
       "</div>"
      ],
      "text/plain": [
       "                        method  frac total_tracks selected_tracks matches  \\\n",
       "playlist                                                                    \n",
       "1h4bUPnrpgn8qXGJ5dvTsu  random  0.25          100              75       0   \n",
       "1h4bUPnrpgn8qXGJ5dvTsu  random  0.50          100              50       0   \n",
       "1h4bUPnrpgn8qXGJ5dvTsu  random  0.75          100              25       0   \n",
       "7Mht6GZuNHUvNwYMTDgB6b  random  0.25           25              19       0   \n",
       "7Mht6GZuNHUvNwYMTDgB6b  random  0.50           25              12       0   \n",
       "...                        ...   ...          ...             ...     ...   \n",
       "4CeyODedBm7b9bObDpkoGw  random  0.50           24              12       0   \n",
       "4CeyODedBm7b9bObDpkoGw  random  0.75           24               6       0   \n",
       "7p26YrYpOVw4wU88i23FJE  random  0.25           40              30       0   \n",
       "7p26YrYpOVw4wU88i23FJE  random  0.50           40              20       0   \n",
       "7p26YrYpOVw4wU88i23FJE  random  0.75           40              10       0   \n",
       "\n",
       "                        error  \n",
       "playlist                       \n",
       "1h4bUPnrpgn8qXGJ5dvTsu   1.00  \n",
       "1h4bUPnrpgn8qXGJ5dvTsu   1.00  \n",
       "1h4bUPnrpgn8qXGJ5dvTsu   1.00  \n",
       "7Mht6GZuNHUvNwYMTDgB6b   1.00  \n",
       "7Mht6GZuNHUvNwYMTDgB6b   1.00  \n",
       "...                       ...  \n",
       "4CeyODedBm7b9bObDpkoGw   1.00  \n",
       "4CeyODedBm7b9bObDpkoGw   1.00  \n",
       "7p26YrYpOVw4wU88i23FJE   1.00  \n",
       "7p26YrYpOVw4wU88i23FJE   1.00  \n",
       "7p26YrYpOVw4wU88i23FJE   1.00  \n",
       "\n",
       "[1599 rows x 6 columns]"
      ]
     },
     "execution_count": 27,
     "metadata": {},
     "output_type": "execute_result"
    }
   ],
   "source": [
    "results"
   ]
  },
  {
   "cell_type": "code",
   "execution_count": 28,
   "id": "931d0079",
   "metadata": {
    "ExecuteTime": {
     "end_time": "2022-05-08T05:11:16.926978Z",
     "start_time": "2022-05-08T05:11:16.420936Z"
    }
   },
   "outputs": [
    {
     "data": {
      "image/png": "[encoded data removed]",
      "text/plain": [
       "<Figure size 1080x1080 with 2 Axes>"
      ]
     },
     "metadata": {
      "needs_background": "light"
     },
     "output_type": "display_data"
    }
   ],
   "source": [
    "fig, axes = plt.subplots(ncols=1, nrows=2, figsize=(15, 15))\n",
    "sns.scatterplot(ax=axes[0], x='frac', y='error', data=results, s=500, alpha =0.7, hue='method');\n",
    "# plt.y_label('Run time') #y label\n",
    "\n",
    "# sns.scatterplot(ax=axes[1], x='run_time_mean', y='accuracy_mean', data=profiling_grid, s=500, alpha =0.7, hue='classifier');\n",
    "# plt.xlabel('Mean run time') #y label\n",
    "# plt.ylabel('Mean accuracy') #x label\n",
    "# plt.grid()\n",
    "plt.rcParams['axes.grid'] = True"
   ]
  },
  {
   "cell_type": "markdown",
   "id": "0643d88d",
   "metadata": {},
   "source": [
    "#  Tests"
   ]
  },
  {
   "cell_type": "code",
   "execution_count": 29,
   "id": "996b1727",
   "metadata": {
    "ExecuteTime": {
     "end_time": "2022-05-08T05:11:16.941938Z",
     "start_time": "2022-05-08T05:11:16.928973Z"
    }
   },
   "outputs": [],
   "source": [
    "# expected_trx"
   ]
  },
  {
   "cell_type": "code",
   "execution_count": 30,
   "id": "9a5f3c7f",
   "metadata": {
    "ExecuteTime": {
     "end_time": "2022-05-08T05:11:16.957177Z",
     "start_time": "2022-05-08T05:11:16.944932Z"
    }
   },
   "outputs": [],
   "source": [
    "# selected_trx"
   ]
  },
  {
   "cell_type": "code",
   "execution_count": 31,
   "id": "e9d3230e",
   "metadata": {
    "ExecuteTime": {
     "end_time": "2022-05-08T05:11:16.972379Z",
     "start_time": "2022-05-08T05:11:16.960139Z"
    }
   },
   "outputs": [],
   "source": [
    "# # reference_trx, expected_trx, \n",
    "# selected_trx = selected_trx.append(expected_trx[expected_trx['id'] == '0e3CM2Fm4cpDtxjzYkdLAr'])\n",
    "\n",
    "# matches = selected_trx[selected_trx.id.isin(expected_trx.id)].id\n",
    "# matches\n",
    "# len(matches)"
   ]
  },
  {
   "cell_type": "code",
   "execution_count": 32,
   "id": "eb68d9f5",
   "metadata": {
    "ExecuteTime": {
     "end_time": "2022-05-08T05:11:16.988311Z",
     "start_time": "2022-05-08T05:11:16.975350Z"
    }
   },
   "outputs": [],
   "source": [
    "# selected_trx.info()"
   ]
  },
  {
   "cell_type": "code",
   "execution_count": 33,
   "id": "24c2c6c3",
   "metadata": {
    "ExecuteTime": {
     "end_time": "2022-05-08T05:11:17.004268Z",
     "start_time": "2022-05-08T05:11:16.990305Z"
    }
   },
   "outputs": [],
   "source": [
    "# for t, tid in enumerate(co_occurrence_tracks_train):\n",
    "#     if t == 10:\n",
    "#         df = co_occurrence_tracks_train[tid]\n",
    "#         df['cum_sum'] = df['cnt'].cumsum()\n",
    "#         df['cum_perc'] = 100*df['cum_sum']/df['cnt'].sum()\n",
    "#         selector = random.sample(list(df.index),len(df))\n",
    "#         print(selector)\n",
    "#         print(len(selector))\n",
    "\n",
    "#         cnt = 0\n",
    "#         tot = 0\n",
    "#         for i, item in enumerate(co_occurrence_tracks_train[tid]['cnt']):\n",
    "#                 cnt = cnt + 1\n",
    "#                 tot = tot + item\n",
    "#         print(cnt)\n",
    "#         print(tot)"
   ]
  },
  {
   "cell_type": "code",
   "execution_count": 34,
   "id": "c6f1ae0a",
   "metadata": {
    "ExecuteTime": {
     "end_time": "2022-05-08T05:11:17.019261Z",
     "start_time": "2022-05-08T05:11:17.007261Z"
    }
   },
   "outputs": [],
   "source": [
    "# def ranking(df,id_column):\n",
    "#     single_list_temp = single_list(df[id_column])\n",
    "#     data = {id_column: single_list_temp}\n",
    "#     aux_df = pd.DataFrame(data)\n",
    "    \n",
    "#     name = id_column.replace('_id','_count')\n",
    "#     ranked_sorted = aux_df.groupby([id_column]).agg(\n",
    "#         temp_count=pd.NamedAgg(column=id_column, aggfunc=\"count\")\n",
    "#     )\n",
    "#     ranked_sorted = ranked_sorted.rename(columns={'temp_count': name})\n",
    "#     ranked_sorted = ranked_sorted.sort_values(name,ascending=False)\n",
    "#     return ranked_sorted\n",
    "# # ranking(df_test,'tracks_id')\n",
    "# # print(tracks_rank)\n",
    "\n",
    "# def top(ranked,n):\n",
    "#     top_n = ranked.iloc[:n]\n",
    "    \n",
    "#     return top_n\n",
    "# # tracks_rank = ranking(df_test,'tracks_id')\n",
    "# # top(tracks_rank,10)\n",
    "#     return ranked\n",
    "\n",
    "# a = track_rank = ranking(df_test,'tracks_id')"
   ]
  },
  {
   "cell_type": "code",
   "execution_count": 35,
   "id": "1cd58a22",
   "metadata": {
    "ExecuteTime": {
     "end_time": "2022-05-08T05:11:17.034538Z",
     "start_time": "2022-05-08T05:11:17.022220Z"
    }
   },
   "outputs": [],
   "source": [
    "# df['cum_sum'] = df['cnt'].cumsum()\n",
    "# df['cum_perc'] = 100*df['cum_sum']/co_occurrence_tracks_train['cnt'].sum()"
   ]
  },
  {
   "cell_type": "code",
   "execution_count": 36,
   "id": "80f6dcfa",
   "metadata": {
    "ExecuteTime": {
     "end_time": "2022-05-08T05:11:17.049798Z",
     "start_time": "2022-05-08T05:11:17.036658Z"
    }
   },
   "outputs": [],
   "source": [
    "# matrix track x track\n",
    "# track_rank = ranking(df_test,'tracks_id')\n",
    "# s_tracks_id = list(track_rank.index)\n",
    "\n",
    "# shape = [len(s_tracks_id), len(s_tracks_id)]\n",
    "# track_matrix = np.zeros(shape, dtype=int, order='C')\n",
    "\n",
    "# for i, row_track in enumerate(s_tracks_id):\n",
    "#     row = s_tracks_id.index(row_track)\n",
    "#     if i != row: print(\"i: \" + str(i) + \": \" + row_track), print()\n",
    "\n",
    "#     for playlist in df_test['tracks_id']:\n",
    "#         try:\n",
    "#             check = playlist.index(row_track)\n",
    "#         except ValueError:\n",
    "#             #             print(row)\n",
    "#             check = -1\n",
    "#         if check >= 0:\n",
    "#             for col_track in playlist:\n",
    "#                 if col_track is not None:\n",
    "#                     col = s_tracks_id.index(col_track)\n",
    "#                     #                     print(col_track  + \" - \" + str(col))\n",
    "#                     #                     tr = df_test['tracks'][n][col]\n",
    "#                     #                     print(\"track: \" + str(n) + \": \" + col_track + \" - col_match:\" + str(col) + \": \") # + tr)\n",
    "#                     track_matrix[row, col] += 1\n",
    "# # print(track_matrix)"
   ]
  }
 ],
 "metadata": {
  "hide_input": false,
  "kernelspec": {
   "display_name": "Python 3",
   "language": "python",
   "name": "python3"
  },
  "language_info": {
   "codemirror_mode": {
    "name": "ipython",
    "version": 3
   },
   "file_extension": ".py",
   "mimetype": "text/x-python",
   "name": "python",
   "nbconvert_exporter": "python",
   "pygments_lexer": "ipython3",
   "version": "3.8.10"
  },
  "toc": {
   "base_numbering": 1,
   "nav_menu": {},
   "number_sections": true,
   "sideBar": true,
   "skip_h1_title": false,
   "title_cell": "Table of Contents",
   "title_sidebar": "Contents",
   "toc_cell": false,
   "toc_position": {},
   "toc_section_display": true,
   "toc_window_display": false
  },
  "varInspector": {
   "cols": {
    "lenName": 16,
    "lenType": 16,
    "lenVar": 40
   },
   "kernels_config": {
    "python": {
     "delete_cmd_postfix": "",
     "delete_cmd_prefix": "del ",
     "library": "var_list.py",
     "varRefreshCmd": "print(var_dic_list())"
    },
    "r": {
     "delete_cmd_postfix": ") ",
     "delete_cmd_prefix": "rm(",
     "library": "var_list.r",
     "varRefreshCmd": "cat(var_dic_list()) "
    }
   },
   "types_to_exclude": [
    "module",
    "function",
    "builtin_function_or_method",
    "instance",
    "_Feature"
   ],
   "window_display": false
  }
 },
 "nbformat": 4,
 "nbformat_minor": 5
}
