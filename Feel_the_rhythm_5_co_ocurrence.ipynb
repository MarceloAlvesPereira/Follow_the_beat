{
 "cells": [
  {
   "cell_type": "code",
   "execution_count": 1,
   "id": "6de699c6",
   "metadata": {
    "ExecuteTime": {
     "end_time": "2022-05-08T00:56:49.483565Z",
     "start_time": "2022-05-08T00:56:47.061808Z"
    }
   },
   "outputs": [],
   "source": [
    "# import cProfile\n",
    "import collections\n",
    "import datetime\n",
    "\n",
    "import os\n",
    "# import sys\n",
    "import time\n",
    "\n",
    "import numpy as np\n",
    "import pandas as pd\n",
    "from scipy.sparse import csr_matrix\n",
    "\n",
    "import pickle\n",
    "\n",
    "import matplotlib.pyplot as plt\n",
    "import seaborn as sns\n",
    "\n",
    "from sklearn.preprocessing import MinMaxScaler\n",
    "# from sklearn.preprocessing import scale, StandardScaler, MinMaxScaler, RobustScaler\n",
    "\n",
    "import random\n",
    "\n",
    "import gc\n",
    "\n",
    "pd.options.display.float_format = \"{:.2f}\".format\n",
    "# plt.rcParams.update({'font.size': 18})\n",
    "format = '%d/%m/%Y %H:%M'"
   ]
  },
  {
   "cell_type": "markdown",
   "id": "9ef48a7a",
   "metadata": {},
   "source": [
    "# Load data"
   ]
  },
  {
   "cell_type": "markdown",
   "id": "c614bb88",
   "metadata": {},
   "source": [
    "Load all data required."
   ]
  },
  {
   "cell_type": "code",
   "execution_count": 2,
   "id": "58b47e8d",
   "metadata": {
    "ExecuteTime": {
     "end_time": "2022-05-08T00:56:49.499529Z",
     "start_time": "2022-05-08T00:56:49.485564Z"
    }
   },
   "outputs": [],
   "source": [
    "def load_file(data_path, msg):\n",
    "    if msg != '':\n",
    "        txt = msg + ' - ' + data_path\n",
    "    else:\n",
    "        txt = data_path\n",
    "\n",
    "    if os.path.exists(data_path):\n",
    "        print('Loaded: ' + txt)\n",
    "        with open(data_path, 'rb') as f:\n",
    "            file_loaded = pickle.load(f)\n",
    "        return file_loaded\n",
    "    else:\n",
    "        print('File not found: ' + txt)"
   ]
  },
  {
   "cell_type": "code",
   "execution_count": 3,
   "id": "705d70c5",
   "metadata": {
    "ExecuteTime": {
     "end_time": "2022-05-08T00:56:52.119371Z",
     "start_time": "2022-05-08T00:56:49.502553Z"
    }
   },
   "outputs": [
    {
     "name": "stdout",
     "output_type": "stream",
     "text": [
      "Loaded: Playlists dictionary (training) - C:\\Users\\map_f\\OneDrive\\Documents\\GitHub\\Follow_the_beat\\data\\processed\\3_playlists_dict_train.pkl\n",
      "Loaded: Playlists dictionary (test) - C:\\Users\\map_f\\OneDrive\\Documents\\GitHub\\Follow_the_beat\\data\\processed\\3_playlists_dict_test.pkl\n",
      "Playlist - training set: 1243\n",
      "Playlist - test set: 533\n",
      "\n",
      "Loaded: Tracks dictionary (training) - C:\\Users\\map_f\\OneDrive\\Documents\\GitHub\\Follow_the_beat\\data\\processed\\4_tracks_dict_train.pkl\n",
      "Loaded: Tracks dictionary (test) - C:\\Users\\map_f\\OneDrive\\Documents\\GitHub\\Follow_the_beat\\data\\processed\\4_tracks_dict_test.pkl\n",
      "Tracks - training set: 63699\n",
      "Tracks - test set: 31183\n",
      "\n",
      "Loaded: Artist dictionary (training) - C:\\Users\\map_f\\OneDrive\\Documents\\GitHub\\Follow_the_beat\\data\\processed\\5_artists_dict_train.pkl\n",
      "Loaded: Artist dictionary (test) - C:\\Users\\map_f\\OneDrive\\Documents\\GitHub\\Follow_the_beat\\data\\processed\\5_artists_dict_test.pkl\n",
      "Artist - training set: 22639\n",
      "Artist - test set: 12780\n",
      "\n",
      "Loaded: Albums dictionary (training) - C:\\Users\\map_f\\OneDrive\\Documents\\GitHub\\Follow_the_beat\\data\\processed\\6_albums_dict_train.pkl\n",
      "Loaded: Albums dictionary (test) - C:\\Users\\map_f\\OneDrive\\Documents\\GitHub\\Follow_the_beat\\data\\processed\\6_albums_dict_test.pkl\n",
      "Albums - training set: 46688\n",
      "Albums - test set: 24258\n",
      "\n"
     ]
    }
   ],
   "source": [
    "# Load all data\n",
    "\n",
    "playlists_train = load_file(\n",
    "    os.getcwd() + '\\\\data\\\\processed\\\\3_playlists_dict_train.pkl',\n",
    "    'Playlists dictionary (training)')\n",
    "playlists_test = load_file(\n",
    "    os.getcwd() + '\\\\data\\\\processed\\\\3_playlists_dict_test.pkl',\n",
    "    'Playlists dictionary (test)')\n",
    "print('Playlist - training set: ' + str(len(playlists_train)))\n",
    "print('Playlist - test set: ' + str(len(playlists_test)))\n",
    "print()\n",
    "\n",
    "tracks_dict_train = load_file(\n",
    "    os.getcwd() + '\\\\data\\\\processed\\\\4_tracks_dict_train.pkl',\n",
    "    'Tracks dictionary (training)')\n",
    "tracks_dict_test = load_file(\n",
    "    os.getcwd() + '\\\\data\\\\processed\\\\4_tracks_dict_test.pkl',\n",
    "    'Tracks dictionary (test)')\n",
    "print('Tracks - training set: ' + str(len(tracks_dict_train)))\n",
    "print('Tracks - test set: ' + str(len(tracks_dict_test)))\n",
    "print()\n",
    "\n",
    "artists_dict_train = load_file(\n",
    "    os.getcwd() + '\\\\data\\\\processed\\\\5_artists_dict_train.pkl',\n",
    "    'Artist dictionary (training)')\n",
    "artists_dict_test = load_file(\n",
    "    os.getcwd() + '\\\\data\\\\processed\\\\5_artists_dict_test.pkl',\n",
    "    'Artist dictionary (test)')\n",
    "print('Artist - training set: ' + str(len(artists_dict_train)))\n",
    "print('Artist - test set: ' + str(len(artists_dict_test)))\n",
    "print()\n",
    "\n",
    "albums_dict_train = load_file(\n",
    "    os.getcwd() + '\\\\data\\\\processed\\\\6_albums_dict_train.pkl',\n",
    "    'Albums dictionary (training)')\n",
    "albums_dict_test = load_file(\n",
    "    os.getcwd() + '\\\\data\\\\processed\\\\6_albums_dict_test.pkl',\n",
    "    'Albums dictionary (test)')\n",
    "print('Albums - training set: ' + str(len(albums_dict_train)))\n",
    "print('Albums - test set: ' + str(len(albums_dict_test)))\n",
    "print()"
   ]
  },
  {
   "cell_type": "markdown",
   "id": "9531b371",
   "metadata": {},
   "source": [
    "##### Create data frames to perform analysis"
   ]
  },
  {
   "cell_type": "code",
   "execution_count": 4,
   "id": "3eea615e",
   "metadata": {
    "ExecuteTime": {
     "end_time": "2022-05-08T00:57:00.569707Z",
     "start_time": "2022-05-08T00:56:52.121573Z"
    }
   },
   "outputs": [
    {
     "name": "stdout",
     "output_type": "stream",
     "text": [
      "df_playlists_train: (4, 1243)\n",
      "df_playlists_test: (4, 533)\n",
      "df_tracks_train: (7, 63699)\n",
      "df_tracks_test: (7, 31183)\n",
      "df_artists_train: (3, 22639)\n",
      "df_artists_test: (3, 12780)\n",
      "df_albums_train: (4, 46688)\n",
      "df_albums_test: (4, 24258)\n"
     ]
    }
   ],
   "source": [
    "gc.collect()\n",
    "df_playlists_train = playlists_train.T\n",
    "print(\"df_playlists_train:\", df_playlists_train.shape)\n",
    "\n",
    "df_playlists_test = playlists_test.T\n",
    "print(\"df_playlists_test:\", df_playlists_test.shape)\n",
    "\n",
    "df_tracks_train = pd.DataFrame.from_dict(tracks_dict_train, orient='index')\n",
    "df_tracks_train = df_tracks_train.T\n",
    "print(\"df_tracks_train:\", df_tracks_train.shape)\n",
    "\n",
    "df_tracks_test = pd.DataFrame.from_dict(tracks_dict_test, orient='index')\n",
    "df_tracks_test = df_tracks_test.T\n",
    "print(\"df_tracks_test:\", df_tracks_test.shape)\n",
    "\n",
    "df_artists_train = pd.DataFrame.from_dict(artists_dict_train, orient='index')\n",
    "df_artists_train = df_artists_train.T\n",
    "print(\"df_artists_train:\", df_artists_train.shape)\n",
    "\n",
    "df_artists_test = pd.DataFrame.from_dict(artists_dict_test, orient='index')\n",
    "df_artists_test = df_artists_test.T\n",
    "print(\"df_artists_test:\", df_artists_test.shape)\n",
    "\n",
    "df_albums_train = pd.DataFrame.from_dict(albums_dict_train, orient='index')\n",
    "df_albums_train = df_albums_train.T\n",
    "print(\"df_albums_train:\", df_albums_train.shape)\n",
    "\n",
    "df_albums_test = pd.DataFrame.from_dict(albums_dict_test, orient='index')\n",
    "df_albums_test = df_albums_test.T\n",
    "print(\"df_albums_test:\", df_albums_test.shape)"
   ]
  },
  {
   "cell_type": "markdown",
   "id": "5271f0bd",
   "metadata": {},
   "source": [
    "# Co-occurrence matrix"
   ]
  },
  {
   "cell_type": "markdown",
   "id": "6147b809",
   "metadata": {},
   "source": [
    "## Tracks co-occurrence matrix"
   ]
  },
  {
   "cell_type": "code",
   "execution_count": 5,
   "id": "d3dc0998",
   "metadata": {
    "ExecuteTime": {
     "end_time": "2022-05-08T00:57:00.585669Z",
     "start_time": "2022-05-08T00:57:00.571671Z"
    }
   },
   "outputs": [],
   "source": [
    "def co_occurrence_matrix_tracks(playlists_dict, tracks_dict):\n",
    "    matrix = {}\n",
    "    for i, item in enumerate(tracks_dict):\n",
    "        tracks_matched = []\n",
    "        for j, playlist_id in enumerate(tracks_dict[item]['in_playlist']):\n",
    "            for tr, track in enumerate(playlists_dict[playlist_id]['tracks']):\n",
    "                tracks_matched.append(track['id'])\n",
    "        counter = collections.Counter(tracks_matched)\n",
    "        b = pd.DataFrame.from_dict(counter, orient='index', columns=['cnt'])\n",
    "        b = b.sort_values('cnt', ascending=False)\n",
    "\n",
    "        min_max = MinMaxScaler()\n",
    "        b['count_scaled'] = min_max.fit_transform(b[['cnt']])\n",
    "        b['rank'] = b['count_scaled'].rank(method='average', ascending=False)\n",
    "\n",
    "        matrix.update({item: b})\n",
    "    return (matrix)"
   ]
  },
  {
   "cell_type": "markdown",
   "id": "dba37002",
   "metadata": {},
   "source": [
    "## Artists co-occurrence matrix"
   ]
  },
  {
   "cell_type": "code",
   "execution_count": 6,
   "id": "12365288",
   "metadata": {
    "ExecuteTime": {
     "end_time": "2022-05-08T00:57:00.600596Z",
     "start_time": "2022-05-08T00:57:00.587631Z"
    }
   },
   "outputs": [],
   "source": [
    "def co_occurrence_matrix_artists(playlists_dict, artists_dict):\n",
    "    matrix = {}\n",
    "    for i, item in enumerate(artists_dict):\n",
    "        artist_matched = []\n",
    "        for j, playlist_id in enumerate(artists_dict[item]['in_playlist']):\n",
    "            for tr, track in enumerate(playlists_dict[playlist_id]['tracks']):\n",
    "                for a, artist in enumerate(track['artists']):\n",
    "                    artist_matched.append(artist['id'])\n",
    "        counter = collections.Counter(artist_matched)\n",
    "        b = pd.DataFrame.from_dict(counter, orient='index', columns=['cnt'])\n",
    "        b = b.sort_values('cnt', ascending=False)\n",
    "\n",
    "        min_max = MinMaxScaler()\n",
    "        b['count_scaled'] = min_max.fit_transform(b[['cnt']])\n",
    "        b['rank'] = b['count_scaled'].rank(method='average', ascending=False)\n",
    "\n",
    "        matrix.update({item: b})\n",
    "    return (matrix)"
   ]
  },
  {
   "cell_type": "markdown",
   "id": "c039515c",
   "metadata": {},
   "source": [
    "## Albums co-occurrence matrix"
   ]
  },
  {
   "cell_type": "code",
   "execution_count": 7,
   "id": "c856667f",
   "metadata": {
    "ExecuteTime": {
     "end_time": "2022-05-08T00:57:00.616596Z",
     "start_time": "2022-05-08T00:57:00.605583Z"
    }
   },
   "outputs": [],
   "source": [
    "def co_occurrence_matrix_albums(playlists_dict, albums_dict):\n",
    "    matrix = {}\n",
    "    for i, item in enumerate(albums_dict):\n",
    "        albums_matched = []\n",
    "        for j, playlist_id in enumerate(albums_dict[item]['in_playlist']):\n",
    "            for tr, track in enumerate(playlists_dict[playlist_id]['tracks']):\n",
    "                albums_matched.append(track['album']['id'])\n",
    "        counter = collections.Counter(albums_matched)\n",
    "        b = pd.DataFrame.from_dict(counter, orient='index', columns=['cnt'])\n",
    "        b = b.sort_values('cnt', ascending=False)\n",
    "\n",
    "        min_max = MinMaxScaler()\n",
    "        b['count_scaled'] = min_max.fit_transform(b[[\"cnt\"]])\n",
    "        b[\"rank\"] = b['count_scaled'].rank(method='average', ascending=False)\n",
    "\n",
    "        matrix.update({item: b})\n",
    "    return (matrix)"
   ]
  },
  {
   "cell_type": "markdown",
   "id": "f09e1bad",
   "metadata": {},
   "source": [
    "##  Create all co-ocurrence matrix"
   ]
  },
  {
   "cell_type": "code",
   "execution_count": 8,
   "id": "289f9da8",
   "metadata": {
    "ExecuteTime": {
     "end_time": "2022-05-08T00:57:00.631514Z",
     "start_time": "2022-05-08T00:57:00.619560Z"
    }
   },
   "outputs": [],
   "source": [
    "def co_ocurrence(playlist, df, data_path, txt):\n",
    "    # check if data extraction already exists then load if it exists, otherwise run query\n",
    "    if os.path.exists(data_path):\n",
    "        print('Co-occurrence ' + txt + ' - Loaded: ' + data_path)\n",
    "        # load file only if the next step was not executed (getting tracks)\n",
    "        with open(data_path, 'rb') as f:\n",
    "            co_occurrence = pickle.load(f)\n",
    "    else:\n",
    "        print('Co-occurrence ' + txt + ' - Saved: ' + data_path)\n",
    "        # list of all user ids (UID) and playlist ids (PID)\n",
    "        uid_pid_raw = []\n",
    "\n",
    "        if txt == 'tracks':\n",
    "            co_occurrence = co_occurrence_matrix_tracks(playlist, df)\n",
    "        elif txt == 'artists':\n",
    "            co_occurrence = co_occurrence_matrix_artists(playlist, df)\n",
    "        elif txt == 'albums':\n",
    "            co_occurrence = co_occurrence_matrix_albums(playlist, df)\n",
    "\n",
    "        # Save the data\n",
    "        with open(data_path, 'wb') as f:\n",
    "            pickle.dump(co_occurrence, f)\n",
    "\n",
    "    len(co_occurrence)\n",
    "    # co_occurrence_tracks['1MJ5f5EYBC92ADD6xcz7nb']\n",
    "    return co_occurrence"
   ]
  },
  {
   "cell_type": "code",
   "execution_count": 9,
   "id": "65bd1d88",
   "metadata": {
    "ExecuteTime": {
     "end_time": "2022-05-08T00:59:30.531042Z",
     "start_time": "2022-05-08T00:57:00.632511Z"
    }
   },
   "outputs": [
    {
     "name": "stdout",
     "output_type": "stream",
     "text": [
      "Co-occurrence tracks - Loaded: C:\\Users\\map_f\\OneDrive\\Documents\\GitHub\\Follow_the_beat\\data\\processed\\7_co_occurrence_tracks_train.pkl\n",
      "Co-occurrence tracks - Loaded: C:\\Users\\map_f\\OneDrive\\Documents\\GitHub\\Follow_the_beat\\data\\processed\\7_co_occurrence_tracks_train.pkl\n",
      "Co-occurrence artists - Loaded: C:\\Users\\map_f\\OneDrive\\Documents\\GitHub\\Follow_the_beat\\data\\processed\\7_co_occurrence_artists_train.pkl\n",
      "Co-occurrence artists - Loaded: C:\\Users\\map_f\\OneDrive\\Documents\\GitHub\\Follow_the_beat\\data\\processed\\7_co_occurrence_artists_train.pkl\n",
      "Co-occurrence albums - Loaded: C:\\Users\\map_f\\OneDrive\\Documents\\GitHub\\Follow_the_beat\\data\\processed\\7_co_occurrence_albums_train.pkl\n",
      "Co-occurrence albums - Loaded: C:\\Users\\map_f\\OneDrive\\Documents\\GitHub\\Follow_the_beat\\data\\processed\\7_co_occurrence_albums_train.pkl\n"
     ]
    }
   ],
   "source": [
    "gc.collect()\n",
    "\n",
    "co_occurrence_tracks_train = co_ocurrence(\n",
    "    df_playlists_train, df_tracks_train,\n",
    "    os.getcwd() + '\\\\data\\\\processed\\\\7_co_occurrence_tracks_train.pkl',\n",
    "    'tracks')\n",
    "co_occurrence_tracks_test = co_ocurrence(\n",
    "    df_playlists_test, df_tracks_test,\n",
    "    os.getcwd() + '\\\\data\\\\processed\\\\7_co_occurrence_tracks_train.pkl',\n",
    "    'tracks')\n",
    "\n",
    "co_occurrence_artists_train = co_ocurrence(\n",
    "    df_playlists_train, df_artists_train,\n",
    "    os.getcwd() + '\\\\data\\\\processed\\\\7_co_occurrence_artists_train.pkl',\n",
    "    'artists')\n",
    "co_occurrence_artists_test = co_ocurrence(\n",
    "    df_playlists_test, df_artists_test,\n",
    "    os.getcwd() + '\\\\data\\\\processed\\\\7_co_occurrence_artists_train.pkl',\n",
    "    'artists')\n",
    "\n",
    "co_occurrence_albums_train = co_ocurrence(\n",
    "    df_playlists_train, df_albums_train,\n",
    "    os.getcwd() + '\\\\data\\\\processed\\\\7_co_occurrence_albums_train.pkl',\n",
    "    'albums')\n",
    "co_occurrence_albums_test = co_ocurrence(\n",
    "    df_playlists_test, df_albums_test,\n",
    "    os.getcwd() + '\\\\data\\\\processed\\\\7_co_occurrence_albums_train.pkl',\n",
    "    'albums')"
   ]
  },
  {
   "cell_type": "markdown",
   "id": "26a67f57",
   "metadata": {},
   "source": [
    "# Model"
   ]
  },
  {
   "cell_type": "code",
   "execution_count": 11,
   "id": "d4695915",
   "metadata": {
    "ExecuteTime": {
     "end_time": "2022-05-08T00:59:30.562240Z",
     "start_time": "2022-05-08T00:59:30.548276Z"
    }
   },
   "outputs": [],
   "source": [
    "def prepare_inputs(playlist_trx, trx_train, trx_test, fraction):\n",
    "    trx = playlist_trx.tracks\n",
    "    n = int((len(trx) + 1) * fraction)\n",
    "\n",
    "    ids = pd.DataFrame(trx).id  # ids of the original playlist\n",
    "    selected_ids = random.sample(ids.values.tolist(), n)\n",
    "    expected_ids = ids[~ids.isin(ids)]\n",
    "\n",
    "    db = trx_train.T\n",
    "    trx_available = db[~db.id.isin(ids)]\n",
    "    \n",
    "    reference_trx = trx_test.T[trx_test.T.id.isin(selected_ids)]\n",
    "    expected_trx = trx_test.T[~trx_test.T.id.isin(selected_ids)\n",
    "                              & trx_test.T.id.isin(ids)]\n",
    "    \n",
    "    \n",
    "    return trx_available, reference_trx, expected_trx"
   ]
  },
  {
   "cell_type": "markdown",
   "id": "6f474740",
   "metadata": {},
   "source": [
    "## Random"
   ]
  },
  {
   "cell_type": "code",
   "execution_count": 15,
   "id": "37ae7041",
   "metadata": {
    "ExecuteTime": {
     "end_time": "2022-05-08T01:23:04.866214Z",
     "start_time": "2022-05-08T01:23:04.688154Z"
    },
    "run_control": {
     "marked": false
    }
   },
   "outputs": [
    {
     "name": "stdout",
     "output_type": "stream",
     "text": [
      "50 50 50\n"
     ]
    }
   ],
   "source": [
    "def get_trk_rnd(playlist_trx, trx_train, trx_test, fraction):\n",
    "    trx_available, reference_trx, expected_trx = prepare_inputs(playlist_trx, trx_train, trx_test, fraction)\n",
    "        \n",
    "    selected_trx = random.sample(trx_available['id'].values.tolist(), len(expected_trx))\n",
    "\n",
    "    return reference_trx, expected_trx, selected_trx\n",
    "\n",
    "\n",
    "# reference_trx, expected_trx, selected_trx = get_trk_rnd(\n",
    "#     df_playlists_test['1h4bUPnrpgn8qXGJ5dvTsu'], df_tracks_train,\n",
    "#     df_tracks_test, .5)\n",
    "# print(len(reference_trx), len(expected_trx), len(selected_trx))\n",
    "# reference_trx, expected_trx, selected_trx"
   ]
  },
  {
   "cell_type": "code",
   "execution_count": 16,
   "id": "225b46bb",
   "metadata": {
    "ExecuteTime": {
     "end_time": "2022-05-08T01:23:10.978527Z",
     "start_time": "2022-05-08T01:23:10.960263Z"
    }
   },
   "outputs": [],
   "source": [
    "# def get_trk_rnd(playlist_trx, trx_train, trx_test, fraction):\n",
    "#     trx = playlist_trx.tracks\n",
    "#     n = int((len(trx) + 1) * fraction)\n",
    "\n",
    "#     ids = pd.DataFrame(trx).id  # ids of the original playlist\n",
    "#     selected_ids = random.sample(ids.values.tolist(), n)\n",
    "#     expected_ids = ids[~ids.isin(ids)]\n",
    "\n",
    "#     db = trx_train.T\n",
    "#     df = db[~db.id.isin(ids)]\n",
    "    \n",
    "#     n, trx_available, reference_trx, expected_trx = prepare_inputs(playlist_trx, trx_train, trx_test, fraction)\n",
    "        \n",
    "#     selected = random.sample(trx_available['id'].values.tolist(), len(trx) - n)\n",
    "\n",
    "#     reference_trx = trx_test.T[trx_test.T.id.isin(selected_ids)]\n",
    "#     expected_trx = trx_test.T[~trx_test.T.id.isin(selected_ids)\n",
    "#                               & trx_test.T.id.isin(ids)]\n",
    "#     selected_trx = db[db.id.isin(selected)]\n",
    "\n",
    "#     return reference_trx, expected_trx, selected_trx\n",
    "\n",
    "\n",
    "# reference_trx, expected_trx, selected_trx = get_trk_rnd(\n",
    "#     df_playlists_test['1h4bUPnrpgn8qXGJ5dvTsu'], df_tracks_train,\n",
    "#     df_tracks_test, .5)\n",
    "# print(len(reference_trx), len(expected_trx), len(selected_trx))\n",
    "# # reference_trx, expected_trx, selected_trx"
   ]
  },
  {
   "cell_type": "markdown",
   "id": "cf894af3",
   "metadata": {},
   "source": [
    "## Ocurrence frequency"
   ]
  },
  {
   "cell_type": "code",
   "execution_count": null,
   "id": "cf48bc50",
   "metadata": {
    "ExecuteTime": {
     "end_time": "2022-05-08T00:59:31.192845Z",
     "start_time": "2022-05-08T00:56:47.068Z"
    },
    "run_control": {
     "marked": true
    }
   },
   "outputs": [],
   "source": [
    "# db = df_tracks_train.T\n",
    "# ids = pd.DataFrame(df_playlists_test['1h4bUPnrpgn8qXGJ5dvTsu'].tracks).id\n",
    "# a = db[~db.id.isin(ids)]\n",
    "# b = a.values.tolist()\n",
    "\n",
    "# # s = random.sample(list(a),50)\n",
    "# # ids\n",
    "# # type(ids)\n",
    "# # db['1h4bUPnrpgn8qXGJ5dvTsu']\n",
    "# # db.id\n",
    "# print(len(db))\n",
    "# # print(ids)\n",
    "# print(type(ids))\n",
    "# print(len(ids))\n",
    "# print(len(a))\n",
    "# print(len(b))\n",
    "# # dataframe1[~dataframe1.column1.isin(common.column1)]\n",
    "# # print(a.shape())\n",
    "# # b"
   ]
  },
  {
   "cell_type": "code",
   "execution_count": null,
   "id": "f2d18032",
   "metadata": {
    "ExecuteTime": {
     "end_time": "2022-05-08T00:59:31.193851Z",
     "start_time": "2022-05-08T00:56:47.071Z"
    }
   },
   "outputs": [],
   "source": [
    "type(co_occurrence_tracks_train)"
   ]
  },
  {
   "cell_type": "code",
   "execution_count": null,
   "id": "229274f8",
   "metadata": {
    "ExecuteTime": {
     "end_time": "2022-05-08T00:59:31.195865Z",
     "start_time": "2022-05-08T00:56:47.073Z"
    }
   },
   "outputs": [],
   "source": [
    "trx = pd.DataFrame.from_dict(co_occurrence_tracks_train, orient='index')"
   ]
  },
  {
   "cell_type": "code",
   "execution_count": null,
   "id": "66462890",
   "metadata": {
    "ExecuteTime": {
     "end_time": "2022-05-08T00:59:31.196835Z",
     "start_time": "2022-05-08T00:56:47.076Z"
    }
   },
   "outputs": [],
   "source": [
    "trx.head()"
   ]
  },
  {
   "cell_type": "code",
   "execution_count": 17,
   "id": "a93d862b",
   "metadata": {
    "ExecuteTime": {
     "end_time": "2022-05-08T01:23:49.694134Z",
     "start_time": "2022-05-08T01:23:49.512913Z"
    },
    "run_control": {
     "marked": false
    }
   },
   "outputs": [
    {
     "name": "stdout",
     "output_type": "stream",
     "text": [
      "50 50 50\n"
     ]
    }
   ],
   "source": [
    "def get_trk_frq(playlist_trx, trx_train, trx_test, fraction):\n",
    "    trx_available, reference_trx, expected_trx = prepare_inputs(playlist_trx, trx_train, trx_test, fraction)\n",
    "        \n",
    "    selected_trx = random.sample(trx_available['id'].values.tolist(), len(expected_trx))\n",
    "\n",
    "    return reference_trx, expected_trx, selected_trx\n",
    "\n",
    "reference_trx, expected_trx, selected_trx = get_trk_rnd(\n",
    "    df_playlists_test['1h4bUPnrpgn8qXGJ5dvTsu'], df_tracks_train,\n",
    "    df_tracks_test, .5)\n",
    "print(len(reference_trx), len(expected_trx), len(selected_trx))\n",
    "# reference_trx, expected_trx, selected_trx"
   ]
  },
  {
   "cell_type": "markdown",
   "id": "5cc61f23",
   "metadata": {},
   "source": [
    "## Artist"
   ]
  },
  {
   "cell_type": "code",
   "execution_count": null,
   "id": "9731ee1d",
   "metadata": {
    "ExecuteTime": {
     "end_time": "2022-05-08T00:59:31.200835Z",
     "start_time": "2022-05-08T00:56:47.081Z"
    }
   },
   "outputs": [],
   "source": [
    "def get_trk_artist(playlist_trx, trx_train, trx_test, fraction):\n",
    "    trx = playlist_trx.tracks\n",
    "    n = int((len(trx) + 1) * fraction)\n",
    "\n",
    "    ids = pd.DataFrame(trx).id  # ids of the original playlist\n",
    "    selected_ids = random.sample(ids.values.tolist(), n)\n",
    "    expected_ids = ids[~ids.isin(ids)]\n",
    "\n",
    "    db = trx_train.T\n",
    "    df = db[~db.id.isin(ids)]\n",
    "    selected = random.sample(df['id'].values.tolist(), len(trx) - n)\n",
    "\n",
    "    reference_trx = trx_test.T[trx_test.T.id.isin(selected_ids)]\n",
    "    expected_trx = trx_test.T[~trx_test.T.id.isin(selected_ids)\n",
    "                              & trx_test.T.id.isin(ids)]\n",
    "    selected_trx = db[db.id.isin(selected)]\n",
    "\n",
    "    return reference_trx, expected_trx, selected_trx\n",
    "\n",
    "\n",
    "# reference_trx, expected_trx, selected_trx = get_trk_rnd(df_playlists_test['1h4bUPnrpgn8qXGJ5dvTsu'], df_tracks_train, df_tracks_test)"
   ]
  },
  {
   "cell_type": "markdown",
   "id": "d60cf1da",
   "metadata": {},
   "source": [
    "## Album"
   ]
  },
  {
   "cell_type": "code",
   "execution_count": null,
   "id": "c84ff16e",
   "metadata": {
    "ExecuteTime": {
     "end_time": "2022-05-08T00:59:31.202820Z",
     "start_time": "2022-05-08T00:56:47.084Z"
    }
   },
   "outputs": [],
   "source": [
    "def get_trk_album(playlist_trx, trx_train, trx_test, fraction):\n",
    "    trx = playlist_trx.tracks\n",
    "    n = int((len(trx) + 1) * fraction)\n",
    "\n",
    "    ids = pd.DataFrame(trx).id  # ids of the original playlist\n",
    "    selected_ids = random.sample(ids.values.tolist(), n)\n",
    "    expected_ids = ids[~ids.isin(ids)]\n",
    "\n",
    "    db = trx_train.T\n",
    "    df = db[~db.id.isin(ids)]\n",
    "    selected = random.sample(df['id'].values.tolist(), n)\n",
    "\n",
    "    reference_trx = trx_test.T[trx_test.T.id.isin(selected_ids)]\n",
    "    expected_trx = trx_test.T[~trx_test.T.id.isin(selected_ids)\n",
    "                              & trx_test.T.id.isin(ids)]\n",
    "    selected_trx = db[db.id.isin(selected)]\n",
    "\n",
    "    return reference_trx, expected_trx, selected_trx\n",
    "\n",
    "\n",
    "# reference_trx, expected_trx, selected_trx = get_trk_rnd(df_playlists_test['1h4bUPnrpgn8qXGJ5dvTsu'], df_tracks_train, df_tracks_test)"
   ]
  },
  {
   "cell_type": "markdown",
   "id": "2308c66e",
   "metadata": {},
   "source": [
    "## Track"
   ]
  },
  {
   "cell_type": "code",
   "execution_count": null,
   "id": "fbe1d695",
   "metadata": {
    "ExecuteTime": {
     "end_time": "2022-05-08T00:59:31.203817Z",
     "start_time": "2022-05-08T00:56:47.087Z"
    }
   },
   "outputs": [],
   "source": [
    "def get_trk_track(playlist_trx, trx_train, trx_test, fraction):\n",
    "    trx = playlist_trx.tracks\n",
    "    n = int((len(trx) + 1) * fraction)\n",
    "\n",
    "    ids = pd.DataFrame(trx).id  # ids of the original playlist\n",
    "    selected_ids = random.sample(ids.values.tolist(), n)\n",
    "    expected_ids = ids[~ids.isin(ids)]\n",
    "\n",
    "    db = trx_train.T\n",
    "    df = db[~db.id.isin(ids)]\n",
    "    selected = random.sample(df['id'].values.tolist(), len(trx) - n)\n",
    "\n",
    "    reference_trx = trx_test.T[trx_test.T.id.isin(selected_ids)]\n",
    "    expected_trx = trx_test.T[~trx_test.T.id.isin(selected_ids)\n",
    "                              & trx_test.T.id.isin(ids)]\n",
    "    selected_trx = db[db.id.isin(selected)]\n",
    "\n",
    "    return reference_trx, expected_trx, selected_trx\n",
    "\n",
    "\n",
    "# reference_trx, expected_trx, selected_trx = get_trk_rnd(df_playlists_test['1h4bUPnrpgn8qXGJ5dvTsu'], df_tracks_train, df_tracks_test)"
   ]
  },
  {
   "cell_type": "markdown",
   "id": "22781461",
   "metadata": {
    "ExecuteTime": {
     "end_time": "2022-05-07T00:00:10.793486Z",
     "start_time": "2022-05-07T00:00:08.844112Z"
    }
   },
   "source": [
    "# Evaluate models"
   ]
  },
  {
   "cell_type": "code",
   "execution_count": 18,
   "id": "52e5fdc6",
   "metadata": {
    "ExecuteTime": {
     "end_time": "2022-05-08T01:26:16.144737Z",
     "start_time": "2022-05-08T01:26:16.127888Z"
    },
    "run_control": {
     "marked": false
    }
   },
   "outputs": [],
   "source": [
    "def get_trk(method, reference, fraction):\n",
    "    if method == 'random':\n",
    "        reference_trx, expected_trx, selected_trx = get_trk_rnd(\n",
    "            df_playlists_test[reference], df_tracks_train, df_tracks_test,\n",
    "            fraction)\n",
    "    elif method == 'frequency':\n",
    "        reference_trx, expected_trx, selected_trx = get_trk_frq(\n",
    "            df_playlists_test[reference], df_tracks_train, df_tracks_test,\n",
    "            fraction)\n",
    "    elif method == 'artist':\n",
    "        reference_trx, expected_trx, selected_trx = get_trk_artist(\n",
    "            df_playlists_test[reference], df_tracks_train, df_tracks_test,\n",
    "            fraction)\n",
    "    elif method == 'album':\n",
    "        reference_trx, expected_trx, selected_trx = get_trk_album(\n",
    "            df_playlists_test[reference], df_tracks_train, df_tracks_test,\n",
    "            fraction)\n",
    "    elif method == 'playlist':\n",
    "        reference_trx, expected_trx, selected_trx = get_trk_track(\n",
    "            df_playlists_test[reference], df_tracks_train, df_tracks_test,\n",
    "            fraction)\n",
    "\n",
    "    return reference_trx, expected_trx, selected_trx"
   ]
  },
  {
   "cell_type": "code",
   "execution_count": 19,
   "id": "e11b79e9",
   "metadata": {
    "ExecuteTime": {
     "end_time": "2022-05-08T01:26:16.486824Z",
     "start_time": "2022-05-08T01:26:16.470646Z"
    }
   },
   "outputs": [],
   "source": [
    "methods = ['random', 'frequency', 'artist', 'album', 'playlist']\n",
    "splits = [.25, .5, .75]"
   ]
  },
  {
   "cell_type": "code",
   "execution_count": 20,
   "id": "26a08691",
   "metadata": {
    "ExecuteTime": {
     "end_time": "2022-05-08T01:26:18.672037Z",
     "start_time": "2022-05-08T01:26:18.479416Z"
    },
    "run_control": {
     "marked": true
    }
   },
   "outputs": [
    {
     "name": "stdout",
     "output_type": "stream",
     "text": [
      "random\n",
      "0.25\n"
     ]
    },
    {
     "ename": "AttributeError",
     "evalue": "'list' object has no attribute 'id'",
     "output_type": "error",
     "traceback": [
      "\u001b[1;31m---------------------------------------------------------------------------\u001b[0m",
      "\u001b[1;31mAttributeError\u001b[0m                            Traceback (most recent call last)",
      "\u001b[1;32m<ipython-input-20-661aaf26cecf>\u001b[0m in \u001b[0;36m<module>\u001b[1;34m\u001b[0m\n\u001b[0;32m     18\u001b[0m                         method, playlist, frac)\n\u001b[0;32m     19\u001b[0m \u001b[1;33m\u001b[0m\u001b[0m\n\u001b[1;32m---> 20\u001b[1;33m                     \u001b[0mmatches\u001b[0m \u001b[1;33m=\u001b[0m \u001b[0mlen\u001b[0m\u001b[1;33m(\u001b[0m\u001b[0mselected_trx\u001b[0m\u001b[1;33m[\u001b[0m\u001b[0mselected_trx\u001b[0m\u001b[1;33m.\u001b[0m\u001b[0mid\u001b[0m\u001b[1;33m.\u001b[0m\u001b[0misin\u001b[0m\u001b[1;33m(\u001b[0m\u001b[0mexpected_trx\u001b[0m\u001b[1;33m.\u001b[0m\u001b[0mid\u001b[0m\u001b[1;33m)\u001b[0m\u001b[1;33m]\u001b[0m\u001b[1;33m.\u001b[0m\u001b[0mid\u001b[0m\u001b[1;33m)\u001b[0m\u001b[1;33m\u001b[0m\u001b[1;33m\u001b[0m\u001b[0m\n\u001b[0m\u001b[0;32m     21\u001b[0m                     \u001b[0mtotal_trx\u001b[0m \u001b[1;33m=\u001b[0m \u001b[0ma\u001b[0m\u001b[1;33m[\u001b[0m\u001b[0mplaylist\u001b[0m\u001b[1;33m]\u001b[0m\u001b[1;33m.\u001b[0m\u001b[0mtotal_tracks\u001b[0m\u001b[1;33m\u001b[0m\u001b[1;33m\u001b[0m\u001b[0m\n\u001b[0;32m     22\u001b[0m                     \u001b[0merror\u001b[0m \u001b[1;33m=\u001b[0m \u001b[1;36m1\u001b[0m \u001b[1;33m-\u001b[0m \u001b[0mmatches\u001b[0m \u001b[1;33m/\u001b[0m \u001b[0ma\u001b[0m\u001b[1;33m[\u001b[0m\u001b[0mplaylist\u001b[0m\u001b[1;33m]\u001b[0m\u001b[1;33m.\u001b[0m\u001b[0mtotal_tracks\u001b[0m\u001b[1;33m\u001b[0m\u001b[1;33m\u001b[0m\u001b[0m\n",
      "\u001b[1;31mAttributeError\u001b[0m: 'list' object has no attribute 'id'"
     ]
    }
   ],
   "source": [
    "a = df_playlists_test\n",
    "results = pd.DataFrame(columns=[\n",
    "    'playlist', 'method', 'frac', 'total_tracks', 'selected_tracks', 'matches',\n",
    "    'error'\n",
    "])\n",
    "for m, method in enumerate(methods):\n",
    "    for f, frac in enumerate(splits):\n",
    "#         if m == 0:\n",
    "            print(method)\n",
    "            print(frac)\n",
    "            for p, playlist in enumerate(a):\n",
    "                if p == 0:\n",
    "                    #                 print(p)\n",
    "                    #                 print(df_playlists_test[playlist])\n",
    "                    #                 print(type(df_playlists_test[playlist]))\n",
    "                    #                 print(df_playlists_test[playlist])\n",
    "                    reference_trx, expected_trx, selected_trx = get_trk(\n",
    "                        method, playlist, frac)\n",
    "\n",
    "                    matches = len(selected_trx[selected_trx.id.isin(expected_trx.id)].id)\n",
    "                    total_trx = a[playlist].total_tracks\n",
    "                    error = 1 - matches / a[playlist].total_tracks\n",
    "                    sel_trx = len(selected_trx)\n",
    "\n",
    "                    results = results.append(\n",
    "                        {\n",
    "                            'playlist': playlist,\n",
    "                            'method': method,\n",
    "                            'frac': frac,\n",
    "                            'total_tracks': total_trx,\n",
    "                            'selected_tracks': sel_trx,\n",
    "                            'matches': matches,\n",
    "                            'error': error\n",
    "                        },\n",
    "                        ignore_index=True)\n",
    "\n",
    "results.set_index('playlist', inplace=True)\n",
    "# print(len(reference_trx), len(expected_trx), len(selected_trx))"
   ]
  },
  {
   "cell_type": "code",
   "execution_count": null,
   "id": "e0dbe97c",
   "metadata": {
    "ExecuteTime": {
     "end_time": "2022-05-08T00:59:31.208803Z",
     "start_time": "2022-05-08T00:56:47.100Z"
    }
   },
   "outputs": [],
   "source": [
    "expected_trx"
   ]
  },
  {
   "cell_type": "code",
   "execution_count": null,
   "id": "748a3bd2",
   "metadata": {
    "ExecuteTime": {
     "end_time": "2022-05-08T00:59:31.210799Z",
     "start_time": "2022-05-08T00:56:47.103Z"
    }
   },
   "outputs": [],
   "source": [
    "# reference_trx, expected_trx, \n",
    "selected_trx = selected_trx.append(expected_trx[expected_trx['id'] == '6DCZcSspjsKoFjzjrWoCdn'])\n",
    "\n",
    "matches = selected_trx[selected_trx.id.isin(expected_trx.id)].id\n",
    "matches\n",
    "len(matches)"
   ]
  },
  {
   "cell_type": "code",
   "execution_count": null,
   "id": "50d0215b",
   "metadata": {
    "ExecuteTime": {
     "end_time": "2022-05-08T00:59:31.213824Z",
     "start_time": "2022-05-08T00:56:47.106Z"
    }
   },
   "outputs": [],
   "source": [
    "selected_trx.info()"
   ]
  },
  {
   "cell_type": "code",
   "execution_count": null,
   "id": "b567aeca",
   "metadata": {
    "ExecuteTime": {
     "end_time": "2022-05-08T00:59:31.216369Z",
     "start_time": "2022-05-08T00:56:47.110Z"
    }
   },
   "outputs": [],
   "source": [
    "results"
   ]
  },
  {
   "cell_type": "markdown",
   "id": "0643d88d",
   "metadata": {},
   "source": [
    "#  Tests"
   ]
  },
  {
   "cell_type": "code",
   "execution_count": null,
   "id": "24c2c6c3",
   "metadata": {
    "ExecuteTime": {
     "end_time": "2022-05-08T00:59:31.217351Z",
     "start_time": "2022-05-08T00:56:47.112Z"
    }
   },
   "outputs": [],
   "source": [
    "# for t, tid in enumerate(co_occurrence_tracks_train):\n",
    "#     if t == 10:\n",
    "#         df = co_occurrence_tracks_train[tid]\n",
    "#         df['cum_sum'] = df['cnt'].cumsum()\n",
    "#         df['cum_perc'] = 100*df['cum_sum']/df['cnt'].sum()\n",
    "#         selector = random.sample(list(df.index),len(df))\n",
    "#         print(selector)\n",
    "#         print(len(selector))\n",
    "\n",
    "#         cnt = 0\n",
    "#         tot = 0\n",
    "#         for i, item in enumerate(co_occurrence_tracks_train[tid]['cnt']):\n",
    "#                 cnt = cnt + 1\n",
    "#                 tot = tot + item\n",
    "#         print(cnt)\n",
    "#         print(tot)"
   ]
  },
  {
   "cell_type": "code",
   "execution_count": null,
   "id": "c6f1ae0a",
   "metadata": {
    "ExecuteTime": {
     "end_time": "2022-05-08T00:59:31.219345Z",
     "start_time": "2022-05-08T00:56:47.115Z"
    }
   },
   "outputs": [],
   "source": [
    "# def ranking(df,id_column):\n",
    "#     single_list_temp = single_list(df[id_column])\n",
    "#     data = {id_column: single_list_temp}\n",
    "#     aux_df = pd.DataFrame(data)\n",
    "    \n",
    "#     name = id_column.replace('_id','_count')\n",
    "#     ranked_sorted = aux_df.groupby([id_column]).agg(\n",
    "#         temp_count=pd.NamedAgg(column=id_column, aggfunc=\"count\")\n",
    "#     )\n",
    "#     ranked_sorted = ranked_sorted.rename(columns={'temp_count': name})\n",
    "#     ranked_sorted = ranked_sorted.sort_values(name,ascending=False)\n",
    "#     return ranked_sorted\n",
    "# # ranking(df_test,'tracks_id')\n",
    "# # print(tracks_rank)\n",
    "\n",
    "# def top(ranked,n):\n",
    "#     top_n = ranked.iloc[:n]\n",
    "    \n",
    "#     return top_n\n",
    "# # tracks_rank = ranking(df_test,'tracks_id')\n",
    "# # top(tracks_rank,10)\n",
    "#     return ranked\n",
    "\n",
    "# a = track_rank = ranking(df_test,'tracks_id')"
   ]
  },
  {
   "cell_type": "code",
   "execution_count": null,
   "id": "1cd58a22",
   "metadata": {
    "ExecuteTime": {
     "end_time": "2022-05-08T00:59:31.221341Z",
     "start_time": "2022-05-08T00:56:47.117Z"
    }
   },
   "outputs": [],
   "source": [
    "# df['cum_sum'] = df['cnt'].cumsum()\n",
    "# df['cum_perc'] = 100*df['cum_sum']/co_occurrence_tracks_train['cnt'].sum()"
   ]
  },
  {
   "cell_type": "code",
   "execution_count": null,
   "id": "80f6dcfa",
   "metadata": {
    "ExecuteTime": {
     "end_time": "2022-05-08T00:59:31.222338Z",
     "start_time": "2022-05-08T00:56:47.119Z"
    }
   },
   "outputs": [],
   "source": [
    "# matrix track x track\n",
    "# track_rank = ranking(df_test,'tracks_id')\n",
    "# s_tracks_id = list(track_rank.index)\n",
    "\n",
    "# shape = [len(s_tracks_id), len(s_tracks_id)]\n",
    "# track_matrix = np.zeros(shape, dtype=int, order='C')\n",
    "\n",
    "# for i, row_track in enumerate(s_tracks_id):\n",
    "#     row = s_tracks_id.index(row_track)\n",
    "#     if i != row: print(\"i: \" + str(i) + \": \" + row_track), print()\n",
    "\n",
    "#     for playlist in df_test['tracks_id']:\n",
    "#         try:\n",
    "#             check = playlist.index(row_track)\n",
    "#         except ValueError:\n",
    "#             #             print(row)\n",
    "#             check = -1\n",
    "#         if check >= 0:\n",
    "#             for col_track in playlist:\n",
    "#                 if col_track is not None:\n",
    "#                     col = s_tracks_id.index(col_track)\n",
    "#                     #                     print(col_track  + \" - \" + str(col))\n",
    "#                     #                     tr = df_test['tracks'][n][col]\n",
    "#                     #                     print(\"track: \" + str(n) + \": \" + col_track + \" - col_match:\" + str(col) + \": \") # + tr)\n",
    "#                     track_matrix[row, col] += 1\n",
    "# # print(track_matrix)"
   ]
  }
 ],
 "metadata": {
  "hide_input": false,
  "kernelspec": {
   "display_name": "Python 3",
   "language": "python",
   "name": "python3"
  },
  "language_info": {
   "codemirror_mode": {
    "name": "ipython",
    "version": 3
   },
   "file_extension": ".py",
   "mimetype": "text/x-python",
   "name": "python",
   "nbconvert_exporter": "python",
   "pygments_lexer": "ipython3",
   "version": "3.8.10"
  },
  "toc": {
   "base_numbering": 1,
   "nav_menu": {},
   "number_sections": true,
   "sideBar": true,
   "skip_h1_title": false,
   "title_cell": "Table of Contents",
   "title_sidebar": "Contents",
   "toc_cell": false,
   "toc_position": {},
   "toc_section_display": true,
   "toc_window_display": false
  },
  "varInspector": {
   "cols": {
    "lenName": 16,
    "lenType": 16,
    "lenVar": 40
   },
   "kernels_config": {
    "python": {
     "delete_cmd_postfix": "",
     "delete_cmd_prefix": "del ",
     "library": "var_list.py",
     "varRefreshCmd": "print(var_dic_list())"
    },
    "r": {
     "delete_cmd_postfix": ") ",
     "delete_cmd_prefix": "rm(",
     "library": "var_list.r",
     "varRefreshCmd": "cat(var_dic_list()) "
    }
   },
   "types_to_exclude": [
    "module",
    "function",
    "builtin_function_or_method",
    "instance",
    "_Feature"
   ],
   "window_display": false
  }
 },
 "nbformat": 4,
 "nbformat_minor": 5
}
