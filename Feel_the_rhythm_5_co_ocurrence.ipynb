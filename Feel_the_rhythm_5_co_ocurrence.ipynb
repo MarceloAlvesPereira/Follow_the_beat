{
 "cells": [
  {
   "cell_type": "code",
   "execution_count": 1,
   "id": "6de699c6",
   "metadata": {
    "ExecuteTime": {
     "end_time": "2022-05-14T16:36:28.467342Z",
     "start_time": "2022-05-14T16:36:25.902103Z"
    }
   },
   "outputs": [],
   "source": [
    "# import cProfile\n",
    "import collections\n",
    "import datetime\n",
    "import math\n",
    "\n",
    "import os\n",
    "# import sys\n",
    "import time\n",
    "\n",
    "import numpy as np\n",
    "import pandas as pd\n",
    "from scipy.sparse import csr_matrix\n",
    "\n",
    "import pickle\n",
    "\n",
    "import matplotlib.pyplot as plt\n",
    "import seaborn as sns\n",
    "\n",
    "from sklearn.preprocessing import MinMaxScaler\n",
    "# from sklearn.preprocessing import scale, StandardScaler, MinMaxScaler, RobustScaler\n",
    "\n",
    "import random\n",
    "\n",
    "import gc\n",
    "\n",
    "pd.options.display.float_format = \"{:.2f}\".format\n",
    "# plt.rcParams.update({'font.size': 18})\n",
    "format = '%d/%m/%Y %H:%M'"
   ]
  },
  {
   "cell_type": "markdown",
   "id": "9ef48a7a",
   "metadata": {},
   "source": [
    "# Load data"
   ]
  },
  {
   "cell_type": "markdown",
   "id": "c614bb88",
   "metadata": {},
   "source": [
    "Load all data required."
   ]
  },
  {
   "cell_type": "code",
   "execution_count": 2,
   "id": "58b47e8d",
   "metadata": {
    "ExecuteTime": {
     "end_time": "2022-05-14T16:36:28.482980Z",
     "start_time": "2022-05-14T16:36:28.473993Z"
    }
   },
   "outputs": [],
   "source": [
    "def load_file(data_path, msg):\n",
    "    if msg != '':\n",
    "        txt = msg + ' - ' + data_path\n",
    "    else:\n",
    "        txt = data_path\n",
    "\n",
    "    if os.path.exists(data_path):\n",
    "        print('Loaded: ' + txt)\n",
    "        with open(data_path, 'rb') as f:\n",
    "            file_loaded = pickle.load(f)\n",
    "        return file_loaded\n",
    "    else:\n",
    "        print('File not found: ' + txt)"
   ]
  },
  {
   "cell_type": "code",
   "execution_count": 3,
   "id": "705d70c5",
   "metadata": {
    "ExecuteTime": {
     "end_time": "2022-05-14T16:36:31.133565Z",
     "start_time": "2022-05-14T16:36:28.486187Z"
    }
   },
   "outputs": [
    {
     "name": "stdout",
     "output_type": "stream",
     "text": [
      "Loaded: Playlists dictionary (training) - C:\\Users\\map_f\\OneDrive\\Documents\\GitHub\\Follow_the_beat\\data\\processed\\3_playlists_dict_train.pkl\n",
      "Loaded: Playlists dictionary (test) - C:\\Users\\map_f\\OneDrive\\Documents\\GitHub\\Follow_the_beat\\data\\processed\\3_playlists_dict_test.pkl\n",
      "Playlist - training set: 1243\n",
      "Playlist - test set: 533\n",
      "\n",
      "Loaded: Tracks dictionary (training) - C:\\Users\\map_f\\OneDrive\\Documents\\GitHub\\Follow_the_beat\\data\\processed\\4_tracks_dict_train.pkl\n",
      "Loaded: Tracks dictionary (test) - C:\\Users\\map_f\\OneDrive\\Documents\\GitHub\\Follow_the_beat\\data\\processed\\4_tracks_dict_test.pkl\n",
      "Tracks - training set: 63699\n",
      "Tracks - test set: 31183\n",
      "\n",
      "Loaded: Artist dictionary (training) - C:\\Users\\map_f\\OneDrive\\Documents\\GitHub\\Follow_the_beat\\data\\processed\\5_artists_dict_train.pkl\n",
      "Loaded: Artist dictionary (test) - C:\\Users\\map_f\\OneDrive\\Documents\\GitHub\\Follow_the_beat\\data\\processed\\5_artists_dict_test.pkl\n",
      "Artist - training set: 22639\n",
      "Artist - test set: 12780\n",
      "\n",
      "Loaded: Albums dictionary (training) - C:\\Users\\map_f\\OneDrive\\Documents\\GitHub\\Follow_the_beat\\data\\processed\\6_albums_dict_train.pkl\n",
      "Loaded: Albums dictionary (test) - C:\\Users\\map_f\\OneDrive\\Documents\\GitHub\\Follow_the_beat\\data\\processed\\6_albums_dict_test.pkl\n",
      "Albums - training set: 46688\n",
      "Albums - test set: 24258\n",
      "\n"
     ]
    }
   ],
   "source": [
    "# Load all data\n",
    "\n",
    "playlists_train = load_file(\n",
    "    os.getcwd() + '\\\\data\\\\processed\\\\3_playlists_dict_train.pkl',\n",
    "    'Playlists dictionary (training)')\n",
    "playlists_test = load_file(\n",
    "    os.getcwd() + '\\\\data\\\\processed\\\\3_playlists_dict_test.pkl',\n",
    "    'Playlists dictionary (test)')\n",
    "print('Playlist - training set: ' + str(len(playlists_train)))\n",
    "print('Playlist - test set: ' + str(len(playlists_test)))\n",
    "print()\n",
    "\n",
    "tracks_dict_train = load_file(\n",
    "    os.getcwd() + '\\\\data\\\\processed\\\\4_tracks_dict_train.pkl',\n",
    "    'Tracks dictionary (training)')\n",
    "tracks_dict_test = load_file(\n",
    "    os.getcwd() + '\\\\data\\\\processed\\\\4_tracks_dict_test.pkl',\n",
    "    'Tracks dictionary (test)')\n",
    "print('Tracks - training set: ' + str(len(tracks_dict_train)))\n",
    "print('Tracks - test set: ' + str(len(tracks_dict_test)))\n",
    "print()\n",
    "\n",
    "artists_dict_train = load_file(\n",
    "    os.getcwd() + '\\\\data\\\\processed\\\\5_artists_dict_train.pkl',\n",
    "    'Artist dictionary (training)')\n",
    "artists_dict_test = load_file(\n",
    "    os.getcwd() + '\\\\data\\\\processed\\\\5_artists_dict_test.pkl',\n",
    "    'Artist dictionary (test)')\n",
    "print('Artist - training set: ' + str(len(artists_dict_train)))\n",
    "print('Artist - test set: ' + str(len(artists_dict_test)))\n",
    "print()\n",
    "\n",
    "albums_dict_train = load_file(\n",
    "    os.getcwd() + '\\\\data\\\\processed\\\\6_albums_dict_train.pkl',\n",
    "    'Albums dictionary (training)')\n",
    "albums_dict_test = load_file(\n",
    "    os.getcwd() + '\\\\data\\\\processed\\\\6_albums_dict_test.pkl',\n",
    "    'Albums dictionary (test)')\n",
    "print('Albums - training set: ' + str(len(albums_dict_train)))\n",
    "print('Albums - test set: ' + str(len(albums_dict_test)))\n",
    "print()"
   ]
  },
  {
   "cell_type": "code",
   "execution_count": 131,
   "id": "be01be73",
   "metadata": {
    "ExecuteTime": {
     "end_time": "2022-05-14T18:12:19.064994Z",
     "start_time": "2022-05-14T18:12:18.732074Z"
    }
   },
   "outputs": [
    {
     "name": "stdout",
     "output_type": "stream",
     "text": [
      "Loaded: All tracks as a dictionary - C:\\Users\\map_f\\OneDrive\\Documents\\GitHub\\Follow_the_beat\\data\\processed\\4_tracks_dict.pkl\n",
      "85458\n"
     ]
    }
   ],
   "source": [
    "# All tracks\n",
    "data_path = os.getcwd() + '\\\\data\\\\processed\\\\4_tracks_dict.pkl'\n",
    "txt = 'All tracks as a dictionary - ' + data_path\n",
    "\n",
    "if os.path.exists(data_path):\n",
    "    print('Loaded: ' + txt)\n",
    "    with open(data_path, 'rb') as f:\n",
    "        tracks_dict = pickle.load(f)\n",
    "else:\n",
    "#     print('File not found: ' + txt)\n",
    "    tracks_dict = dict_all_tracks(data_path,playlists_dict)\n",
    "\n",
    "print(len(tracks_dict))"
   ]
  },
  {
   "cell_type": "code",
   "execution_count": 133,
   "id": "da0971eb",
   "metadata": {
    "ExecuteTime": {
     "end_time": "2022-05-14T18:27:36.552438Z",
     "start_time": "2022-05-14T18:27:36.444210Z"
    }
   },
   "outputs": [
    {
     "name": "stdout",
     "output_type": "stream",
     "text": [
      "Loaded: All artists as a dictionary - C:\\Users\\map_f\\OneDrive\\Documents\\GitHub\\Follow_the_beat\\data\\processed\\5_artists_dict.pkl\n",
      "28669\n"
     ]
    }
   ],
   "source": [
    "# All artists\n",
    "data_path = os.getcwd() + '\\\\data\\\\processed\\\\5_artists_dict.pkl'\n",
    "txt = 'All artists as a dictionary - ' + data_path\n",
    "\n",
    "if os.path.exists(data_path):\n",
    "    print('Loaded: ' + txt)\n",
    "    with open(data_path, 'rb') as f:\n",
    "        artists_dict = pickle.load(f)\n",
    "else:\n",
    "#     print('File not found: ' + txt)\n",
    "    artists_dict = dict_all_artists(data_path,playlists_dict)\n",
    "    \n",
    "print(len(artists_dict))"
   ]
  },
  {
   "cell_type": "code",
   "execution_count": 134,
   "id": "0bddad3e",
   "metadata": {
    "ExecuteTime": {
     "end_time": "2022-05-14T18:27:37.539394Z",
     "start_time": "2022-05-14T18:27:37.314786Z"
    }
   },
   "outputs": [
    {
     "name": "stdout",
     "output_type": "stream",
     "text": [
      "Loaded: All albums as a dictionary - C:\\Users\\map_f\\OneDrive\\Documents\\GitHub\\Follow_the_beat\\data\\processed\\6_albums_dict.pkl\n",
      "62095\n"
     ]
    }
   ],
   "source": [
    "# All albums\n",
    "data_path = os.getcwd() + '\\\\data\\\\processed\\\\6_albums_dict.pkl'\n",
    "txt = 'All albums as a dictionary - ' + data_path\n",
    "\n",
    "if os.path.exists(data_path):\n",
    "    print('Loaded: ' + txt)\n",
    "    with open(data_path, 'rb') as f:\n",
    "        albums_dict = pickle.load(f)\n",
    "else:\n",
    "#     print('File not found: ' + txt)\n",
    "    albums_dict = dict_all_albums(data_path,playlists_dict)\n",
    "print(len(albums_dict))"
   ]
  },
  {
   "cell_type": "markdown",
   "id": "9531b371",
   "metadata": {},
   "source": [
    "##### Create data frames to perform analysis"
   ]
  },
  {
   "cell_type": "code",
   "execution_count": 4,
   "id": "3eea615e",
   "metadata": {
    "ExecuteTime": {
     "end_time": "2022-05-14T16:36:40.360959Z",
     "start_time": "2022-05-14T16:36:31.135562Z"
    }
   },
   "outputs": [
    {
     "name": "stdout",
     "output_type": "stream",
     "text": [
      "df_playlists_train: (4, 1243)\n",
      "df_playlists_test: (4, 533)\n",
      "df_tracks_train: (7, 63699)\n",
      "df_tracks_test: (7, 31183)\n",
      "df_artists_train: (3, 22639)\n",
      "df_artists_test: (3, 12780)\n",
      "df_albums_train: (4, 46688)\n",
      "df_albums_test: (4, 24258)\n"
     ]
    }
   ],
   "source": [
    "gc.collect()\n",
    "df_playlists_train = playlists_train.T\n",
    "print(\"df_playlists_train:\", df_playlists_train.shape)\n",
    "\n",
    "df_playlists_test = playlists_test.T\n",
    "print(\"df_playlists_test:\", df_playlists_test.shape)\n",
    "\n",
    "df_tracks_train = pd.DataFrame.from_dict(tracks_dict_train, orient='index')\n",
    "df_tracks_train = df_tracks_train.T\n",
    "print(\"df_tracks_train:\", df_tracks_train.shape)\n",
    "\n",
    "df_tracks_test = pd.DataFrame.from_dict(tracks_dict_test, orient='index')\n",
    "df_tracks_test = df_tracks_test.T\n",
    "print(\"df_tracks_test:\", df_tracks_test.shape)\n",
    "\n",
    "df_artists_train = pd.DataFrame.from_dict(artists_dict_train, orient='index')\n",
    "df_artists_train = df_artists_train.T\n",
    "print(\"df_artists_train:\", df_artists_train.shape)\n",
    "\n",
    "df_artists_test = pd.DataFrame.from_dict(artists_dict_test, orient='index')\n",
    "df_artists_test = df_artists_test.T\n",
    "print(\"df_artists_test:\", df_artists_test.shape)\n",
    "\n",
    "df_albums_train = pd.DataFrame.from_dict(albums_dict_train, orient='index')\n",
    "df_albums_train = df_albums_train.T\n",
    "print(\"df_albums_train:\", df_albums_train.shape)\n",
    "\n",
    "df_albums_test = pd.DataFrame.from_dict(albums_dict_test, orient='index')\n",
    "df_albums_test = df_albums_test.T\n",
    "print(\"df_albums_test:\", df_albums_test.shape)"
   ]
  },
  {
   "cell_type": "markdown",
   "id": "5271f0bd",
   "metadata": {},
   "source": [
    "# Co-occurrence matrix"
   ]
  },
  {
   "cell_type": "markdown",
   "id": "6147b809",
   "metadata": {},
   "source": [
    "## Tracks co-occurrence matrix"
   ]
  },
  {
   "cell_type": "code",
   "execution_count": 5,
   "id": "d3dc0998",
   "metadata": {
    "ExecuteTime": {
     "end_time": "2022-05-14T16:36:40.376590Z",
     "start_time": "2022-05-14T16:36:40.363962Z"
    }
   },
   "outputs": [],
   "source": [
    "def co_occurrence_matrix_tracks(playlists_dict, tracks_dict):\n",
    "    matrix = {}\n",
    "    for i, item in enumerate(tracks_dict):\n",
    "        tracks_matched = []\n",
    "        for j, playlist_id in enumerate(tracks_dict[item]['in_playlist']):\n",
    "            for tr, track in enumerate(playlists_dict[playlist_id]['tracks']):\n",
    "                tracks_matched.append(track['id'])\n",
    "        counter = collections.Counter(tracks_matched)\n",
    "        b = pd.DataFrame.from_dict(counter, orient='index', columns=['cnt'])\n",
    "        b = b.sort_values('cnt', ascending=False)\n",
    "\n",
    "        min_max = MinMaxScaler()\n",
    "        b['count_scaled'] = min_max.fit_transform(b[['cnt']])\n",
    "        b['rank'] = b['count_scaled'].rank(method='average', ascending=False)\n",
    "\n",
    "        matrix.update({item: b})\n",
    "    return (matrix)"
   ]
  },
  {
   "cell_type": "markdown",
   "id": "dba37002",
   "metadata": {},
   "source": [
    "## Artists co-occurrence matrix"
   ]
  },
  {
   "cell_type": "code",
   "execution_count": 6,
   "id": "12365288",
   "metadata": {
    "ExecuteTime": {
     "end_time": "2022-05-14T16:36:40.392330Z",
     "start_time": "2022-05-14T16:36:40.378375Z"
    }
   },
   "outputs": [],
   "source": [
    "def co_occurrence_matrix_artists(playlists_dict, artists_dict):\n",
    "    matrix = {}\n",
    "    for i, item in enumerate(artists_dict):\n",
    "        artist_matched = []\n",
    "        for j, playlist_id in enumerate(artists_dict[item]['in_playlist']):\n",
    "            for tr, track in enumerate(playlists_dict[playlist_id]['tracks']):\n",
    "                for a, artist in enumerate(track['artists']):\n",
    "                    artist_matched.append(artist['id'])\n",
    "        counter = collections.Counter(artist_matched)\n",
    "        b = pd.DataFrame.from_dict(counter, orient='index', columns=['cnt'])\n",
    "        b = b.sort_values('cnt', ascending=False)\n",
    "\n",
    "        min_max = MinMaxScaler()\n",
    "        b['count_scaled'] = min_max.fit_transform(b[['cnt']])\n",
    "        b['rank'] = b['count_scaled'].rank(method='average', ascending=False)\n",
    "\n",
    "        matrix.update({item: b})\n",
    "    return (matrix)"
   ]
  },
  {
   "cell_type": "markdown",
   "id": "c039515c",
   "metadata": {},
   "source": [
    "## Albums co-occurrence matrix"
   ]
  },
  {
   "cell_type": "code",
   "execution_count": 7,
   "id": "c856667f",
   "metadata": {
    "ExecuteTime": {
     "end_time": "2022-05-14T16:36:40.423250Z",
     "start_time": "2022-05-14T16:36:40.398314Z"
    }
   },
   "outputs": [],
   "source": [
    "def co_occurrence_matrix_albums(playlists_dict, albums_dict):\n",
    "    matrix = {}\n",
    "    for i, item in enumerate(albums_dict):\n",
    "        albums_matched = []\n",
    "        for j, playlist_id in enumerate(albums_dict[item]['in_playlist']):\n",
    "            for tr, track in enumerate(playlists_dict[playlist_id]['tracks']):\n",
    "                albums_matched.append(track['album']['id'])\n",
    "        counter = collections.Counter(albums_matched)\n",
    "        b = pd.DataFrame.from_dict(counter, orient='index', columns=['cnt'])\n",
    "        b = b.sort_values('cnt', ascending=False)\n",
    "\n",
    "        min_max = MinMaxScaler()\n",
    "        b['count_scaled'] = min_max.fit_transform(b[[\"cnt\"]])\n",
    "        b[\"rank\"] = b['count_scaled'].rank(method='average', ascending=False)\n",
    "\n",
    "        matrix.update({item: b})\n",
    "    return (matrix)"
   ]
  },
  {
   "cell_type": "markdown",
   "id": "f09e1bad",
   "metadata": {},
   "source": [
    "##  Create all co-ocurrence matrix"
   ]
  },
  {
   "cell_type": "code",
   "execution_count": 8,
   "id": "289f9da8",
   "metadata": {
    "ExecuteTime": {
     "end_time": "2022-05-14T16:36:40.438208Z",
     "start_time": "2022-05-14T16:36:40.426240Z"
    }
   },
   "outputs": [],
   "source": [
    "def co_ocurrence(playlist, df, data_path, txt):\n",
    "    # check if data extraction already exists then load if it exists, otherwise run query\n",
    "    if os.path.exists(data_path):\n",
    "        print('Co-occurrence ' + txt + ' - Loaded: ' + data_path)\n",
    "        # load file only if the next step was not executed (getting tracks)\n",
    "        with open(data_path, 'rb') as f:\n",
    "            co_occurrence = pickle.load(f)\n",
    "    else:\n",
    "        print('Co-occurrence ' + txt + ' - Saved: ' + data_path)\n",
    "        # list of all user ids (UID) and playlist ids (PID)\n",
    "        uid_pid_raw = []\n",
    "\n",
    "        if txt == 'tracks':\n",
    "            co_occurrence = co_occurrence_matrix_tracks(playlist, df)\n",
    "        elif txt == 'artists':\n",
    "            co_occurrence = co_occurrence_matrix_artists(playlist, df)\n",
    "        elif txt == 'albums':\n",
    "            co_occurrence = co_occurrence_matrix_albums(playlist, df)\n",
    "\n",
    "        # Save the data\n",
    "        with open(data_path, 'wb') as f:\n",
    "            pickle.dump(co_occurrence, f)\n",
    "\n",
    "    len(co_occurrence)\n",
    "    # co_occurrence_tracks['1MJ5f5EYBC92ADD6xcz7nb']\n",
    "    return co_occurrence"
   ]
  },
  {
   "cell_type": "code",
   "execution_count": 9,
   "id": "65bd1d88",
   "metadata": {
    "ExecuteTime": {
     "end_time": "2022-05-14T16:37:56.028675Z",
     "start_time": "2022-05-14T16:36:40.440203Z"
    }
   },
   "outputs": [
    {
     "name": "stdout",
     "output_type": "stream",
     "text": [
      "Co-occurrence tracks - Loaded: C:\\Users\\map_f\\OneDrive\\Documents\\GitHub\\Follow_the_beat\\data\\processed\\7_co_occurrence_tracks_train.pkl\n",
      "Co-occurrence artists - Loaded: C:\\Users\\map_f\\OneDrive\\Documents\\GitHub\\Follow_the_beat\\data\\processed\\7_co_occurrence_artists_train.pkl\n",
      "Co-occurrence albums - Loaded: C:\\Users\\map_f\\OneDrive\\Documents\\GitHub\\Follow_the_beat\\data\\processed\\7_co_occurrence_albums_train.pkl\n",
      "co_occurrence_tracks_train: 63699\n",
      "co_occurrence_artists_train: 22639\n",
      "co_occurrence_albums_train: 46688\n"
     ]
    }
   ],
   "source": [
    "gc.collect()\n",
    "\n",
    "co_occurrence_tracks_train = co_ocurrence(\n",
    "    df_playlists_train, df_tracks_train,\n",
    "    os.getcwd() + '\\\\data\\\\processed\\\\7_co_occurrence_tracks_train.pkl',\n",
    "    'tracks')\n",
    "# co_occurrence_tracks_test = co_ocurrence(\n",
    "#     df_playlists_test, df_tracks_test,\n",
    "#     os.getcwd() + '\\\\data\\\\processed\\\\7_co_occurrence_tracks_test.pkl',\n",
    "#     'tracks')\n",
    "\n",
    "co_occurrence_artists_train = co_ocurrence(\n",
    "    df_playlists_train, df_artists_train,\n",
    "    os.getcwd() + '\\\\data\\\\processed\\\\7_co_occurrence_artists_train.pkl',\n",
    "    'artists')\n",
    "# co_occurrence_artists_test = co_ocurrence(\n",
    "#     df_playlists_test, df_artists_test,\n",
    "#     os.getcwd() + '\\\\data\\\\processed\\\\7_co_occurrence_artists_test.pkl',\n",
    "#     'artists')\n",
    "\n",
    "co_occurrence_albums_train = co_ocurrence(\n",
    "    df_playlists_train, df_albums_train,\n",
    "    os.getcwd() + '\\\\data\\\\processed\\\\7_co_occurrence_albums_train.pkl',\n",
    "    'albums')\n",
    "# co_occurrence_albums_test = co_ocurrence(\n",
    "#     df_playlists_test, df_albums_test,\n",
    "#     os.getcwd() + '\\\\data\\\\processed\\\\7_co_occurrence_albums_test.pkl',\n",
    "#     'albums')\n",
    "\n",
    "print(\"co_occurrence_tracks_train:\", len(co_occurrence_tracks_train))\n",
    "# print(\"co_occurrence_tracks_test:\", len(co_occurrence_tracks_test))\n",
    "print(\"co_occurrence_artists_train:\", len(co_occurrence_artists_train))\n",
    "# print(\"co_occurrence_artists_test:\", len(co_occurrence_artists_test)\n",
    "print(\"co_occurrence_albums_train:\", len(co_occurrence_albums_train))\n",
    "# print(\"co_occurrence_albums_test:\", len(co_occurrence_albums_test))"
   ]
  },
  {
   "cell_type": "markdown",
   "id": "26a67f57",
   "metadata": {},
   "source": [
    "# Model"
   ]
  },
  {
   "cell_type": "code",
   "execution_count": 77,
   "id": "ed2ea1eb",
   "metadata": {
    "ExecuteTime": {
     "end_time": "2022-05-14T16:59:15.264708Z",
     "start_time": "2022-05-14T16:59:15.246788Z"
    }
   },
   "outputs": [],
   "source": [
    "def prepare_inputs(playlist_trx, trx_train, trx_test, fraction):\n",
    "    trx = playlist_trx.tracks\n",
    "    n = int((len(trx) + 1) * fraction)\n",
    "\n",
    "    ids = pd.DataFrame(trx).id  # ids of the original playlist\n",
    "    selected_ids = random.sample(ids.values.tolist(), n)\n",
    "\n",
    "    db = trx_train.T\n",
    "    trx_available = db[~db.id.isin(selected_ids)]\n",
    "\n",
    "    reference_trx = trx_test.T[trx_test.T.id.isin(selected_ids)]\n",
    "    expected_trx = trx_test.T[~trx_test.T.id.isin(selected_ids)\n",
    "                              & trx_test.T.id.isin(ids)]\n",
    "\n",
    "    return trx_available, reference_trx, expected_trx"
   ]
  },
  {
   "cell_type": "markdown",
   "id": "6f474740",
   "metadata": {},
   "source": [
    "## Random"
   ]
  },
  {
   "cell_type": "code",
   "execution_count": 11,
   "id": "37ae7041",
   "metadata": {
    "ExecuteTime": {
     "end_time": "2022-05-14T16:37:56.059709Z",
     "start_time": "2022-05-14T16:37:56.046433Z"
    },
    "run_control": {
     "marked": false
    }
   },
   "outputs": [],
   "source": [
    "def get_trk_rnd(playlist_trx, trx_train, trx_test, ref_fraction):\n",
    "    trx_available, reference_trx, expected_trx = prepare_inputs(playlist_trx, trx_train, trx_test, ref_fraction)\n",
    "        \n",
    "    select = random.sample(trx_available['id'].values.tolist(), len(expected_trx))\n",
    "    \n",
    "    selected_trx = trx_available[trx_available.id.isin(select)]\n",
    "\n",
    "    return reference_trx, expected_trx, selected_trx\n",
    "\n",
    "# reference_trx, expected_trx, selected_trx = get_trk_rnd(\n",
    "#     df_playlists_test['1h4bUPnrpgn8qXGJ5dvTsu'], df_tracks_train,\n",
    "#     df_tracks_test, .5)\n",
    "# print(len(reference_trx), len(expected_trx), len(selected_trx))\n",
    "# reference_trx, expected_trx, selected_trx"
   ]
  },
  {
   "cell_type": "markdown",
   "id": "cf894af3",
   "metadata": {},
   "source": [
    "## Stratified selection"
   ]
  },
  {
   "cell_type": "code",
   "execution_count": 12,
   "id": "ab7fc723",
   "metadata": {
    "ExecuteTime": {
     "end_time": "2022-05-14T16:37:56.074674Z",
     "start_time": "2022-05-14T16:37:56.062700Z"
    },
    "run_control": {
     "marked": false
    }
   },
   "outputs": [],
   "source": [
    "# Calculate the tracks frequency\n",
    "def define_trx_freq(db):\n",
    "    data_path = os.getcwd() + '\\\\data\\\\processed\\\\8_tracks_frequency.pkl'\n",
    "    txt = 'Tracks frequency - ' + data_path\n",
    "    if os.path.exists(data_path):\n",
    "        print('Loaded: ' + txt)\n",
    "        with open(data_path, 'rb') as f:\n",
    "            tracks_frequency = pickle.load(f)\n",
    "            return tracks_frequency\n",
    "    else:\n",
    "        tracks_frequency = pd.DataFrame(\n",
    "            columns=['track_id', 'cnt', 'cum_sum', 'cum_perc'])\n",
    "\n",
    "        for t, trk in enumerate(db):\n",
    "            if t % 100 == 0:\n",
    "                print(\"%s - %d/%d - LEN: %d\" %\n",
    "                      (datetime.datetime.now().strftime(format), t, len(db),\n",
    "                       len(tracks_frequency)))\n",
    "\n",
    "            df = db[trk]\n",
    "            df = df[df.index != trk]\n",
    "            tracks_frequency = tracks_frequency.append(\n",
    "                {\n",
    "                    'track_id': trk,\n",
    "                    'cnt': df['cnt'].sum()\n",
    "                }, ignore_index=True)\n",
    "\n",
    "        tracks_frequency = tracks_frequency.sort_values(ascending=False,\n",
    "                                                        by='cnt')\n",
    "        tracks_frequency['cum_sum'] = tracks_frequency['cnt'].cumsum()\n",
    "        tracks_frequency['cum_perc'] = 100 * tracks_frequency[\n",
    "            'cum_sum'] / tracks_frequency['cnt'].sum()\n",
    "\n",
    "        print('Saved: ' + txt)\n",
    "        with open(data_path, 'wb') as f:\n",
    "            pickle.dump(tracks_frequency, f)\n",
    "\n",
    "        return tracks_frequency"
   ]
  },
  {
   "cell_type": "code",
   "execution_count": 13,
   "id": "bb5ab1b6",
   "metadata": {
    "ExecuteTime": {
     "end_time": "2022-05-14T16:37:56.120792Z",
     "start_time": "2022-05-14T16:37:56.077668Z"
    },
    "run_control": {
     "marked": false
    },
    "scrolled": true
   },
   "outputs": [
    {
     "name": "stdout",
     "output_type": "stream",
     "text": [
      "Loaded: Tracks frequency - C:\\Users\\map_f\\OneDrive\\Documents\\GitHub\\Follow_the_beat\\data\\processed\\8_tracks_frequency.pkl\n",
      "63699\n"
     ]
    }
   ],
   "source": [
    "tracks_frequency = define_trx_freq(co_occurrence_tracks_train)\n",
    "print(len(tracks_frequency))"
   ]
  },
  {
   "cell_type": "code",
   "execution_count": 99,
   "id": "a93d862b",
   "metadata": {
    "ExecuteTime": {
     "end_time": "2022-05-14T17:55:58.422237Z",
     "start_time": "2022-05-14T17:55:58.404892Z"
    },
    "run_control": {
     "marked": false
    }
   },
   "outputs": [],
   "source": [
    "def get_trk_strata(playlist_trx, trx_train, trx_test, ref_fraction):\n",
    "    trx_available, reference_trx, expected_trx = prepare_inputs(playlist_trx, trx_train, trx_test, ref_fraction)\n",
    "    \n",
    "    trx_freq = tracks_frequency[tracks_frequency.track_id.isin(trx_available['id'])]\n",
    "    \n",
    "    select = trx_freq.drop(trx_freq.index)\n",
    "\n",
    "    while len(select) < len(expected_trx)*2:\n",
    "        rnd = random.uniform(0, 1)\n",
    "        for i, c in enumerate(trx_freq.cum_perc):\n",
    "            if rnd <= c:\n",
    "                select = select.append(trx_freq.iloc[i])\n",
    "                select = select.drop_duplicates()\n",
    "                break\n",
    "    \n",
    "    select = select[~select.track_id.isin(reference_trx['id'])]\n",
    "    select = select.reset_index()\n",
    "    select = select.iloc[0:len(expected_trx)]['track_id']\n",
    "    \n",
    "    selected_trx = trx_available[trx_available.id.isin(select)]\n",
    "    \n",
    "    return reference_trx, expected_trx, selected_trx\n",
    "\n",
    "# reference_trx, expected_trx, selected_trx = get_trk_strata(\n",
    "#     df_playlists_test['1h4bUPnrpgn8qXGJ5dvTsu'], df_tracks_train,\n",
    "#     df_tracks_test, .5)\n",
    "# print(len(reference_trx), len(expected_trx), len(selected_trx))\n",
    "# reference_trx, expected_trx, selected_trx"
   ]
  },
  {
   "cell_type": "markdown",
   "id": "d60cf1da",
   "metadata": {},
   "source": [
    "## Album"
   ]
  },
  {
   "cell_type": "code",
   "execution_count": 151,
   "id": "f5473d0f",
   "metadata": {
    "ExecuteTime": {
     "end_time": "2022-05-14T19:06:01.309285Z",
     "start_time": "2022-05-14T19:06:01.290307Z"
    },
    "run_control": {
     "marked": true
    }
   },
   "outputs": [
    {
     "data": {
      "text/plain": [
       "[{'id': '64KEffDW9EtZ1y2vBYgq8T', 'name': 'Marshmello'},\n",
       " {'id': '1zNqDE7qDGCsyzJwohVaoX', 'name': 'Anne-Marie'}]"
      ]
     },
     "execution_count": 151,
     "metadata": {},
     "output_type": "execute_result"
    }
   ],
   "source": [
    "tracks_dict['08bNPGLD8AhKpnnERrAc6G']['artists']"
   ]
  },
  {
   "cell_type": "code",
   "execution_count": 153,
   "id": "0d12fe1b",
   "metadata": {
    "ExecuteTime": {
     "end_time": "2022-05-14T19:06:27.229986Z",
     "start_time": "2022-05-14T19:06:27.217293Z"
    },
    "run_control": {
     "marked": true
    }
   },
   "outputs": [
    {
     "data": {
      "text/plain": [
       "'1BmxOYHjQv1dKZRr13YRZM'"
      ]
     },
     "execution_count": 153,
     "metadata": {},
     "output_type": "execute_result"
    }
   ],
   "source": [
    "tracks_dict['08bNPGLD8AhKpnnERrAc6G']['album']['id']"
   ]
  },
  {
   "cell_type": "code",
   "execution_count": 178,
   "id": "176fd513",
   "metadata": {
    "ExecuteTime": {
     "end_time": "2022-05-14T19:37:37.297860Z",
     "start_time": "2022-05-14T19:37:37.282538Z"
    },
    "run_control": {
     "marked": true
    }
   },
   "outputs": [
    {
     "ename": "TypeError",
     "evalue": "__init__() got an unexpected keyword argument 'orient'",
     "output_type": "error",
     "traceback": [
      "\u001b[1;31m---------------------------------------------------------------------------\u001b[0m",
      "\u001b[1;31mTypeError\u001b[0m                                 Traceback (most recent call last)",
      "\u001b[1;32m<ipython-input-178-1b87044e6adf>\u001b[0m in \u001b[0;36m<module>\u001b[1;34m\u001b[0m\n\u001b[1;32m----> 1\u001b[1;33m \u001b[0malbums\u001b[0m \u001b[1;33m=\u001b[0m \u001b[0mpd\u001b[0m\u001b[1;33m.\u001b[0m\u001b[0mDataFrame\u001b[0m\u001b[1;33m(\u001b[0m\u001b[0mcolumns\u001b[0m\u001b[1;33m=\u001b[0m\u001b[1;33m[\u001b[0m\u001b[1;34m'tracks'\u001b[0m\u001b[1;33m]\u001b[0m\u001b[1;33m,\u001b[0m \u001b[0morient\u001b[0m\u001b[1;33m=\u001b[0m\u001b[1;34m'index'\u001b[0m\u001b[1;33m)\u001b[0m\u001b[1;33m\u001b[0m\u001b[1;33m\u001b[0m\u001b[0m\n\u001b[0m\u001b[0;32m      2\u001b[0m \u001b[0malbums\u001b[0m\u001b[1;33m\u001b[0m\u001b[1;33m\u001b[0m\u001b[0m\n\u001b[0;32m      3\u001b[0m \u001b[1;31m# albums['1l9d1Zj9Iv2eOcdObVhdMy']['tracks'] = 1\u001b[0m\u001b[1;33m\u001b[0m\u001b[1;33m\u001b[0m\u001b[1;33m\u001b[0m\u001b[0m\n",
      "\u001b[1;31mTypeError\u001b[0m: __init__() got an unexpected keyword argument 'orient'"
     ]
    }
   ],
   "source": [
    "albums = pd.DataFrame(columns=['tracks'], orient='index')\n",
    "albums\n",
    "# albums['1l9d1Zj9Iv2eOcdObVhdMy']['tracks'] = 1"
   ]
  },
  {
   "cell_type": "code",
   "execution_count": 200,
   "id": "5b397b87",
   "metadata": {
    "ExecuteTime": {
     "end_time": "2022-05-14T19:47:02.229145Z",
     "start_time": "2022-05-14T19:47:02.160345Z"
    },
    "run_control": {
     "marked": true
    }
   },
   "outputs": [
    {
     "name": "stdout",
     "output_type": "stream",
     "text": [
      "                 track_id\n",
      "0  1MJ5f5EYBC92ADD6xcz7nb\n"
     ]
    }
   ],
   "source": [
    "# def tracks_by_album_artist():\n",
    "albums = {}\n",
    "artists = {}\n",
    "tr = pd.DataFrame(columns=['track_id'])\n",
    "for t, tid in enumerate(tracks_dict):\n",
    "    if t < 3:\n",
    "        #         print(tracks_dict[tid])\n",
    "        # album\n",
    "        alb = tracks_dict[tid]['album']['id']\n",
    "        if alb not in albums.keys():\n",
    "            #             print(tid)\n",
    "            #             tr = [tid]\n",
    "            #             print(tr)\n",
    "            tr['track_id'] = [tid]\n",
    "\n",
    "            #             print(tr)\n",
    "            albums.update({alb: tr})\n",
    "        else:\n",
    "            curr_track = albums.get(alb)\n",
    "            print(curr_track)\n",
    "#             curr_in_track = curr_track['track_id'].copy()\n",
    "#             curr_in_track = curr_in_track.append(tid)\n",
    "#             tr['track_id'] = curr_in_track\n",
    "#             print(tr)\n",
    "#             albums.update({alb: tr})\n",
    "\n",
    "        # Artists\n",
    "#         for art in tracks_dict['08bNPGLD8AhKpnnERrAc6G']['artists']:\n",
    "#             print(art['id'])\n",
    "#             if tid not in tracks_dict.keys():\n",
    "#                 tr['in_playlist'] = [pid]\n",
    "#                 tracks_dict.update({tid: tr})\n",
    "#             else:\n",
    "#                 curr_track = tracks_dict.get(tid)\n",
    "#                 curr_in_playlist = curr_track['in_playlist'].copy()\n",
    "#                 curr_in_playlist.append(pid)\n",
    "#                 tr['in_playlist'] = curr_in_playlist\n",
    "#                 tracks_dict.update({tid: tr})\n",
    "# albums['1l9d1Zj9Iv2eOcdObVhdMy']"
   ]
  },
  {
   "cell_type": "code",
   "execution_count": 201,
   "id": "6d547c9c",
   "metadata": {
    "ExecuteTime": {
     "end_time": "2022-05-14T19:47:07.441267Z",
     "start_time": "2022-05-14T19:47:07.432231Z"
    }
   },
   "outputs": [
    {
     "data": {
      "text/plain": [
       "{'1l9d1Zj9Iv2eOcdObVhdMy':                  track_id\n",
       " 0  2qKTOaX1ZeMWn3aKhpxkz5,\n",
       " '1dO7qBlkQXYENJaHfK7h56':                  track_id\n",
       " 0  2qKTOaX1ZeMWn3aKhpxkz5}"
      ]
     },
     "execution_count": 201,
     "metadata": {},
     "output_type": "execute_result"
    }
   ],
   "source": [
    "albums"
   ]
  },
  {
   "cell_type": "code",
   "execution_count": 196,
   "id": "874bf2a0",
   "metadata": {
    "ExecuteTime": {
     "end_time": "2022-05-14T19:45:47.091911Z",
     "start_time": "2022-05-14T19:45:47.071836Z"
    }
   },
   "outputs": [
    {
     "data": {
      "text/html": [
       "<div>\n",
       "<style scoped>\n",
       "    .dataframe tbody tr th:only-of-type {\n",
       "        vertical-align: middle;\n",
       "    }\n",
       "\n",
       "    .dataframe tbody tr th {\n",
       "        vertical-align: top;\n",
       "    }\n",
       "\n",
       "    .dataframe thead th {\n",
       "        text-align: right;\n",
       "    }\n",
       "</style>\n",
       "<table border=\"1\" class=\"dataframe\">\n",
       "  <thead>\n",
       "    <tr style=\"text-align: right;\">\n",
       "      <th></th>\n",
       "      <th>track_id</th>\n",
       "    </tr>\n",
       "  </thead>\n",
       "  <tbody>\n",
       "    <tr>\n",
       "      <th>0</th>\n",
       "      <td>1MJ5f5EYBC92ADD6xcz7nb</td>\n",
       "    </tr>\n",
       "  </tbody>\n",
       "</table>\n",
       "</div>"
      ],
      "text/plain": [
       "                 track_id\n",
       "0  1MJ5f5EYBC92ADD6xcz7nb"
      ]
     },
     "execution_count": 196,
     "metadata": {},
     "output_type": "execute_result"
    }
   ],
   "source": [
    "albums['1l9d1Zj9Iv2eOcdObVhdMy']"
   ]
  },
  {
   "cell_type": "code",
   "execution_count": null,
   "id": "3cd460bf",
   "metadata": {},
   "outputs": [],
   "source": []
  },
  {
   "cell_type": "code",
   "execution_count": null,
   "id": "4e09307a",
   "metadata": {},
   "outputs": [],
   "source": [
    "if tid not in tracks_dict.keys():\n",
    "    tr['in_playlist'] = [pid]\n",
    "    tracks_dict.update({tid: tr})\n",
    "else:\n",
    "    curr_track = tracks_dict.get(tid)\n",
    "    curr_in_playlist = curr_track['in_playlist'].copy()\n",
    "    curr_in_playlist.append(pid)\n",
    "    tr['in_playlist'] = curr_in_playlist\n",
    "    tracks_dict.update({tid: tr})"
   ]
  },
  {
   "cell_type": "code",
   "execution_count": 135,
   "id": "33ea9901",
   "metadata": {
    "ExecuteTime": {
     "end_time": "2022-05-14T18:28:39.973366Z",
     "start_time": "2022-05-14T18:28:39.955060Z"
    },
    "scrolled": true
   },
   "outputs": [
    {
     "data": {
      "text/plain": [
       "{'id': '08bNPGLD8AhKpnnERrAc6G',\n",
       " 'name': 'FRIENDS',\n",
       " 'added_at': '2021-03-05T16:34:34Z',\n",
       " 'popularity': 80,\n",
       " 'artists': [{'id': '64KEffDW9EtZ1y2vBYgq8T', 'name': 'Marshmello'},\n",
       "  {'id': '1zNqDE7qDGCsyzJwohVaoX', 'name': 'Anne-Marie'}],\n",
       " 'album': {'id': '1BmxOYHjQv1dKZRr13YRZM',\n",
       "  'name': 'FRIENDS',\n",
       "  'release_date': '2018-02-09'},\n",
       " 'in_playlist': ['3NWlcmwxDe3viSgLh0Uyan',\n",
       "  '0x8L3xUxvSyIMRYnYkiV0t',\n",
       "  '1TD0LTMfEnlGUdWwXPnHH7',\n",
       "  '29OMQ9a5Teg3DLDIBE9pL4',\n",
       "  '0XodjwYYVOz9VPBJRvaQdj',\n",
       "  '0XbIRrKGcTrHnjZ8548dtp',\n",
       "  '7vYF2UuSJtA6ErtAutUe4j',\n",
       "  '4NlCobw1W8AFORcTjwrQvP',\n",
       "  '4f2xW5SeB1LS6ub3MlaRli',\n",
       "  '46cLhLO3IfG9TFIC4RczfM',\n",
       "  '5VCVwjpqU6AtthmBlUpQv6',\n",
       "  '0qtzSPz2ZwC21sWdlEEos2',\n",
       "  '0DRW8XNbLhKWwRzlDygnyK',\n",
       "  '0ZgpyGxZQruAaPPkjh0cwx',\n",
       "  '4iUqCmlh8GSwvy0aEpzYDA',\n",
       "  '6hVKDDa3YaxtlXvkIpbKdt',\n",
       "  '4bU39BHNEfsbIFDda2nj4d',\n",
       "  '1fFj8e9kZ7q5CT0lZpAXbc',\n",
       "  '22hfNqPLCklHv4kDijPFBc',\n",
       "  '086OPNtap6FEl5EpHrtP5v',\n",
       "  '609mKZc2W4zXTnSgmBuNG0',\n",
       "  '5AkNhvzVASqyaI7mEDLECU',\n",
       "  '6sMemANGdQIJDRZm6pegbJ',\n",
       "  '0OLNT7u5pKIYbIyjvh8wUP',\n",
       "  '3PTtqcVolho8KTVEI3px4K',\n",
       "  '3QB5tafGrxapu1TjtMhtYb',\n",
       "  '4Open7dR882mz8WSAhByzm',\n",
       "  '2OcorPv25QzgqltGTLpFzI',\n",
       "  '3Vgq9OX5rjFrLKuxcz7Dg5',\n",
       "  '1h4bUPnrpgn8qXGJ5dvTsu',\n",
       "  '3NtrrtmAmDR6JBn6dS2e8e',\n",
       "  '6hKAO0tJ8WYVmsQ1F5iBrs',\n",
       "  '6EKNdEBqV4Larp6Cx9eD8m',\n",
       "  '2VJWrCmLvEM8pqmBA9BJ1b',\n",
       "  '7wo0VNLqQELQ07EozfgOD2',\n",
       "  '7mC6naBsgRJC76RhL6cW2H',\n",
       "  '4KxEkwQuv1OYsRiwVKKcMe',\n",
       "  '4T581WSrMe9Ck3J6WZhZOR',\n",
       "  '57mNC119tTcPulrOwxIjhn',\n",
       "  '6mSo3wrvcBuCwPRcDmQYL2',\n",
       "  '0mFObuEgboqcXQd6sOuSIj']}"
      ]
     },
     "execution_count": 135,
     "metadata": {},
     "output_type": "execute_result"
    }
   ],
   "source": [
    "tracks_dict['08bNPGLD8AhKpnnERrAc6G']"
   ]
  },
  {
   "cell_type": "code",
   "execution_count": 136,
   "id": "13f0761f",
   "metadata": {
    "ExecuteTime": {
     "end_time": "2022-05-14T18:29:06.038896Z",
     "start_time": "2022-05-14T18:29:06.027761Z"
    }
   },
   "outputs": [
    {
     "data": {
      "text/plain": [
       "{'id': '64KEffDW9EtZ1y2vBYgq8T',\n",
       " 'name': 'Marshmello',\n",
       " 'in_playlist': ['2dbL1KoWphbT4uZKOgnnKw',\n",
       "  '36gUYaCXYmKJ5FQCjRGXOm',\n",
       "  '4jwLkSVrnathscvWtxy1Fa',\n",
       "  '3NWlcmwxDe3viSgLh0Uyan',\n",
       "  '2y4snt2vxFnEBKzeYfVCEj',\n",
       "  '3o0YWwdt1uNsb27RsMF1NP',\n",
       "  '0x8L3xUxvSyIMRYnYkiV0t',\n",
       "  '0x8L3xUxvSyIMRYnYkiV0t',\n",
       "  '0x8L3xUxvSyIMRYnYkiV0t',\n",
       "  '0WlA8Y3FUV12uEFTqdjX5h',\n",
       "  '0WlA8Y3FUV12uEFTqdjX5h',\n",
       "  '1TD0LTMfEnlGUdWwXPnHH7',\n",
       "  '6oBdDSGRarIXfnaENeezML',\n",
       "  '6oBdDSGRarIXfnaENeezML',\n",
       "  '2y55MTtGfZV6GcvZ6a3ZKM',\n",
       "  '2y55MTtGfZV6GcvZ6a3ZKM',\n",
       "  '29OMQ9a5Teg3DLDIBE9pL4',\n",
       "  '0XodjwYYVOz9VPBJRvaQdj',\n",
       "  '0XodjwYYVOz9VPBJRvaQdj',\n",
       "  '08OatoWvxf9XWIGKLCHmw0',\n",
       "  '0XbIRrKGcTrHnjZ8548dtp',\n",
       "  '0XbIRrKGcTrHnjZ8548dtp',\n",
       "  '7vYF2UuSJtA6ErtAutUe4j',\n",
       "  '7vYF2UuSJtA6ErtAutUe4j',\n",
       "  '27HlKfzMohMjVPuYYbRgka',\n",
       "  '27HlKfzMohMjVPuYYbRgka',\n",
       "  '1ZZWyjlXlF8Y0I8q4WzRvy',\n",
       "  '1ZZWyjlXlF8Y0I8q4WzRvy',\n",
       "  '1ZZWyjlXlF8Y0I8q4WzRvy',\n",
       "  '6HIHUzISZdwDtu2MRrGlDF',\n",
       "  '6HIHUzISZdwDtu2MRrGlDF',\n",
       "  '6HIHUzISZdwDtu2MRrGlDF',\n",
       "  '6HIHUzISZdwDtu2MRrGlDF',\n",
       "  '6HIHUzISZdwDtu2MRrGlDF',\n",
       "  '6HIHUzISZdwDtu2MRrGlDF',\n",
       "  '6HIHUzISZdwDtu2MRrGlDF',\n",
       "  '6HIHUzISZdwDtu2MRrGlDF',\n",
       "  '6HIHUzISZdwDtu2MRrGlDF',\n",
       "  '4NlCobw1W8AFORcTjwrQvP',\n",
       "  '4NlCobw1W8AFORcTjwrQvP',\n",
       "  '4glsFDTofvR4KxSLuwZ72h',\n",
       "  '0rbxZLZVWgSnZRGYsx1rhg',\n",
       "  '1cDzWcgkf45iWkLO3F59QJ',\n",
       "  '4f2xW5SeB1LS6ub3MlaRli',\n",
       "  '4f2xW5SeB1LS6ub3MlaRli',\n",
       "  '5rm9mC1YVDlHAmsjwRjTeN',\n",
       "  '5rm9mC1YVDlHAmsjwRjTeN',\n",
       "  '1qESsWgi4q9hM9CRXM5UWc',\n",
       "  '1qESsWgi4q9hM9CRXM5UWc',\n",
       "  '1qESsWgi4q9hM9CRXM5UWc',\n",
       "  '6ZN6dlzC9EMlveIhG7N9Bv',\n",
       "  '4yauPPW2UlnxeVNORBobAW',\n",
       "  '46cLhLO3IfG9TFIC4RczfM',\n",
       "  '6rcBuUFlN5zmIIZ35juS4e',\n",
       "  '5VCVwjpqU6AtthmBlUpQv6',\n",
       "  '0qtzSPz2ZwC21sWdlEEos2',\n",
       "  '0DRW8XNbLhKWwRzlDygnyK',\n",
       "  '78dh5IMt8kxfgLcM98GTja',\n",
       "  '78dh5IMt8kxfgLcM98GTja',\n",
       "  '78dh5IMt8kxfgLcM98GTja',\n",
       "  '2IIJ3wZL1kyCVB8KOLliq0',\n",
       "  '0ZgpyGxZQruAaPPkjh0cwx',\n",
       "  '0ZgpyGxZQruAaPPkjh0cwx',\n",
       "  '0ZgpyGxZQruAaPPkjh0cwx',\n",
       "  '3GKlas13nLhGPcrLKalhRW',\n",
       "  '4iUqCmlh8GSwvy0aEpzYDA',\n",
       "  '6XGZrhHEghW1nO9Rc54zf5',\n",
       "  '6hVKDDa3YaxtlXvkIpbKdt',\n",
       "  '6hVKDDa3YaxtlXvkIpbKdt',\n",
       "  '6hVKDDa3YaxtlXvkIpbKdt',\n",
       "  '6hVKDDa3YaxtlXvkIpbKdt',\n",
       "  '6hVKDDa3YaxtlXvkIpbKdt',\n",
       "  '6hVKDDa3YaxtlXvkIpbKdt',\n",
       "  '6hVKDDa3YaxtlXvkIpbKdt',\n",
       "  '6hVKDDa3YaxtlXvkIpbKdt',\n",
       "  '6hVKDDa3YaxtlXvkIpbKdt',\n",
       "  '6hVKDDa3YaxtlXvkIpbKdt',\n",
       "  '6hVKDDa3YaxtlXvkIpbKdt',\n",
       "  '6fKtaiT4GmkPa20sUdyheC',\n",
       "  '6fKtaiT4GmkPa20sUdyheC',\n",
       "  '4bU39BHNEfsbIFDda2nj4d',\n",
       "  '6j816dGtDbaUtRtC1h9bJH',\n",
       "  '6j816dGtDbaUtRtC1h9bJH',\n",
       "  '5JxL5OCCSgpii31RWHTYrg',\n",
       "  '5JxL5OCCSgpii31RWHTYrg',\n",
       "  '2PnAvtSWGHHAvqWfQmzKqs',\n",
       "  '1fFj8e9kZ7q5CT0lZpAXbc',\n",
       "  '1fFj8e9kZ7q5CT0lZpAXbc',\n",
       "  '1fFj8e9kZ7q5CT0lZpAXbc',\n",
       "  '7tQFFyovOpGDpLXv7FPtws',\n",
       "  '7tQFFyovOpGDpLXv7FPtws',\n",
       "  '1fqzDFwkrvg36qPMuzrVqt',\n",
       "  '1fqzDFwkrvg36qPMuzrVqt',\n",
       "  '1fqzDFwkrvg36qPMuzrVqt',\n",
       "  '1fqzDFwkrvg36qPMuzrVqt',\n",
       "  '1fqzDFwkrvg36qPMuzrVqt',\n",
       "  '1fqzDFwkrvg36qPMuzrVqt',\n",
       "  '1fqzDFwkrvg36qPMuzrVqt',\n",
       "  '1fqzDFwkrvg36qPMuzrVqt',\n",
       "  '1fqzDFwkrvg36qPMuzrVqt',\n",
       "  '1fqzDFwkrvg36qPMuzrVqt',\n",
       "  '4mXdAZ6XkBFT7ss0IBx0OZ',\n",
       "  '4mXdAZ6XkBFT7ss0IBx0OZ',\n",
       "  '715iCWNXdreNMIv0MSvTNb',\n",
       "  '715iCWNXdreNMIv0MSvTNb',\n",
       "  '4ZHcpIegakTTVRgpH1M96W',\n",
       "  '7ujWMhk1BIg5NC9BmYWRzA',\n",
       "  '5ltPQRemN4PCgCGdaqFALT',\n",
       "  '22hfNqPLCklHv4kDijPFBc',\n",
       "  '22hfNqPLCklHv4kDijPFBc',\n",
       "  '2sIyU7whqurQnqlKbV1u7H',\n",
       "  '5hJ7WA6n4RlASX8f2A6zQP',\n",
       "  '4siFyKjzJZLOjw2QKX7MU1',\n",
       "  '79O4Lp1ud6AWGRyDuaS1wM',\n",
       "  '2DnzBDvrf2etj6Y5d9Cfgm',\n",
       "  '2DnzBDvrf2etj6Y5d9Cfgm',\n",
       "  '086OPNtap6FEl5EpHrtP5v',\n",
       "  '086OPNtap6FEl5EpHrtP5v',\n",
       "  '086OPNtap6FEl5EpHrtP5v',\n",
       "  '08LA2Vhx3kUXGbHrFyVYaR',\n",
       "  '6TipXWnL88oXEMcktGLnQ1',\n",
       "  '64xwr1vsfd81wfNJKBY5JW',\n",
       "  '64xwr1vsfd81wfNJKBY5JW',\n",
       "  '64xwr1vsfd81wfNJKBY5JW',\n",
       "  '64xwr1vsfd81wfNJKBY5JW',\n",
       "  '64xwr1vsfd81wfNJKBY5JW',\n",
       "  '64xwr1vsfd81wfNJKBY5JW',\n",
       "  '609mKZc2W4zXTnSgmBuNG0',\n",
       "  '5AkNhvzVASqyaI7mEDLECU',\n",
       "  '5AkNhvzVASqyaI7mEDLECU',\n",
       "  '5AkNhvzVASqyaI7mEDLECU',\n",
       "  '2Rq8BfhZstvl8ceQL1U9gf',\n",
       "  '6Tjt31kozBdZVMRH10pXGx',\n",
       "  '1tjWA3OKL8WDDG1BBImTse',\n",
       "  '6t9ByON12M9tCE16zRHJFS',\n",
       "  '6sMemANGdQIJDRZm6pegbJ',\n",
       "  '6sMemANGdQIJDRZm6pegbJ',\n",
       "  '6sMemANGdQIJDRZm6pegbJ',\n",
       "  '6sMemANGdQIJDRZm6pegbJ',\n",
       "  '6sMemANGdQIJDRZm6pegbJ',\n",
       "  '3qhSnHqe0YklpZMuwU6piA',\n",
       "  '3qhSnHqe0YklpZMuwU6piA',\n",
       "  '58lmPQfKGosVko0nXQq9XQ',\n",
       "  '58lmPQfKGosVko0nXQq9XQ',\n",
       "  '0OLNT7u5pKIYbIyjvh8wUP',\n",
       "  '3PTtqcVolho8KTVEI3px4K',\n",
       "  '4infSFoo9NLtDSRGPTxwbR',\n",
       "  '37i9dQZF1DWYEA2z2jQnzS',\n",
       "  '2pXOSotas4EWZl4OA3v9Er',\n",
       "  '2EWdMYKx0mLgNFVo7bPoMZ',\n",
       "  '6bKXEtAI8F7AC68aF2cARS',\n",
       "  '3QB5tafGrxapu1TjtMhtYb',\n",
       "  '3QB5tafGrxapu1TjtMhtYb',\n",
       "  '5ClohTjxGaTT3XDJVacimh',\n",
       "  '609jf08PNONr8Vuq3G8ukW',\n",
       "  '3OvGhVFf1FPYi3oyyYAncc',\n",
       "  '0wAg7GZQfahNi0T4S2KN4g',\n",
       "  '0wAg7GZQfahNi0T4S2KN4g',\n",
       "  '4Open7dR882mz8WSAhByzm',\n",
       "  '4Open7dR882mz8WSAhByzm',\n",
       "  '4Open7dR882mz8WSAhByzm',\n",
       "  '2OcorPv25QzgqltGTLpFzI',\n",
       "  '67eYVcPvtly4tgHxoP7mpN',\n",
       "  '5Gr2UCda20e13ZPHZ1lHTd',\n",
       "  '5Gr2UCda20e13ZPHZ1lHTd',\n",
       "  '2IT1tamKpteR9ZPJnQ63GL',\n",
       "  '2IT1tamKpteR9ZPJnQ63GL',\n",
       "  '0qYjNmssyVpC39DcKOcrQE',\n",
       "  '0qYjNmssyVpC39DcKOcrQE',\n",
       "  '0qYjNmssyVpC39DcKOcrQE',\n",
       "  '1puvgiyQxM4gcCXe3t9d1Y',\n",
       "  '1puvgiyQxM4gcCXe3t9d1Y',\n",
       "  '1ZZq3RUSDjJRCLHCoxBqxc',\n",
       "  '15uuOqh5PBhmv23r8LCFPG',\n",
       "  '0py0Qa68gDqqnqYVemOUwg',\n",
       "  '1sbYk8QwWXuQNFyrpUvQgf',\n",
       "  '1sbYk8QwWXuQNFyrpUvQgf',\n",
       "  '4ivm4hL82xvQtfLfFANqiu',\n",
       "  '6CNkQCfMNOGxeeg2ciYPL1',\n",
       "  '1SkilUq8oOnehQVaqfOYBV',\n",
       "  '1SkilUq8oOnehQVaqfOYBV',\n",
       "  '1hPuEscGYecFCqJnPrKnL0',\n",
       "  '5410QEkDRQVmHDmqAu1YTp',\n",
       "  '5ScvV91hOPYx2u10GPGr4D',\n",
       "  '5ScvV91hOPYx2u10GPGr4D',\n",
       "  '5ScvV91hOPYx2u10GPGr4D',\n",
       "  '7ga1qNJgjDfcrKjiaeqN18',\n",
       "  '7tXxglhDGebK1MFkdj8Bdv',\n",
       "  '4d6DdomECsYTZlnLnkiLxL',\n",
       "  '3QQyQzSESsbYqqjYoTAq7w',\n",
       "  '3QQyQzSESsbYqqjYoTAq7w',\n",
       "  '2Bp4a70hIChrkihAuFsMAA',\n",
       "  '2Bp4a70hIChrkihAuFsMAA',\n",
       "  '2Bp4a70hIChrkihAuFsMAA',\n",
       "  '5N851ZGrdLwx39e71QW3UL',\n",
       "  '5GpyR7EwiMeFeCLT1ZlUbd',\n",
       "  '5GpyR7EwiMeFeCLT1ZlUbd',\n",
       "  '3Vgq9OX5rjFrLKuxcz7Dg5',\n",
       "  '3Vgq9OX5rjFrLKuxcz7Dg5',\n",
       "  '3Vgq9OX5rjFrLKuxcz7Dg5',\n",
       "  '3Vgq9OX5rjFrLKuxcz7Dg5',\n",
       "  '3Vgq9OX5rjFrLKuxcz7Dg5',\n",
       "  '0dzviNKhMYKJOlHbgjtykE',\n",
       "  '3tOXiW2Hu6reqOHMmwudnh',\n",
       "  '0EyEQPgw3WQRoZCrRykbbF',\n",
       "  '5P7Gijx0xISmmIsBlWl6H7',\n",
       "  '3WxWUh8QMQLTn1mQIlcCNp',\n",
       "  '3WxWUh8QMQLTn1mQIlcCNp',\n",
       "  '05kAJjtz6EHnhVzgIPKL6n',\n",
       "  '05kAJjtz6EHnhVzgIPKL6n',\n",
       "  '6Hi3eSEIWGRiOieYfHCltN',\n",
       "  '6Hi3eSEIWGRiOieYfHCltN',\n",
       "  '5f7guVeRsCEbwPmwq9xwjA',\n",
       "  '7aIBgQzSevrhtAHVAakerl',\n",
       "  '7aIBgQzSevrhtAHVAakerl',\n",
       "  '7aIBgQzSevrhtAHVAakerl',\n",
       "  '1xQo4FvZnrlyZBqj5PmmRg',\n",
       "  '0V2KpMwQN7HM5DCRbso65M',\n",
       "  '2UZntGpsQGmfP0yDX8BTaB',\n",
       "  '32CekA0gYkgEx0XcTfxAIx',\n",
       "  '5MCB6R4DwE3xBtih9Lk8SE',\n",
       "  '7m0Mj9ewVZdoiSAlhzyC6r',\n",
       "  '7m0Mj9ewVZdoiSAlhzyC6r',\n",
       "  '4ofRyb4Rb0PS4bUuBdLEK7',\n",
       "  '5T7D5QOO72wZqv5Y0PjvOB',\n",
       "  '0lE2OrdYvEqr7MoJmDg8gl',\n",
       "  '1h4bUPnrpgn8qXGJ5dvTsu',\n",
       "  '0EDHlIbZJSvmvjlREVYi1g',\n",
       "  '0qoGJStOlINQhh6gEOocV7',\n",
       "  '0qoGJStOlINQhh6gEOocV7',\n",
       "  '3NtrrtmAmDR6JBn6dS2e8e',\n",
       "  '3NtrrtmAmDR6JBn6dS2e8e',\n",
       "  '3NtrrtmAmDR6JBn6dS2e8e',\n",
       "  '3NtrrtmAmDR6JBn6dS2e8e',\n",
       "  '1JLHLFnKtVTtaEWpolHosu',\n",
       "  '6hKAO0tJ8WYVmsQ1F5iBrs',\n",
       "  '56bsgCeQwNaX9UDFKJAo2k',\n",
       "  '0d5WjS9cXQyWQuRTIOJllL',\n",
       "  '0d5WjS9cXQyWQuRTIOJllL',\n",
       "  '1UQfg4cHEhoxJxXi3j0p16',\n",
       "  '363PVWoQrBqO4HowbkXcOV',\n",
       "  '1RIHIpg7SO55n6Mk8h7gL1',\n",
       "  '6EKNdEBqV4Larp6Cx9eD8m',\n",
       "  '37i9dQZF1DWXH5BtmZPPBT',\n",
       "  '1YiBj24deoVQZmYdvpXh7N',\n",
       "  '0TPxwmOFMB0VCgN8trcIKN',\n",
       "  '0fCUB8R0zBUEuosHijFHKY',\n",
       "  '53BgnptKFSwyaFwrQnOZCA',\n",
       "  '0cAoONifTMU0IvZSk6wNQh',\n",
       "  '5p6yEySFAO8iFtFvinGbj8',\n",
       "  '5xzqD2Zh4A3G2OQEeXaEjr',\n",
       "  '3pi6v0Ntn3ChK9aCsV2r0y',\n",
       "  '5kwjhJsxPB8xQMGnBh244R',\n",
       "  '5nYwkEuCLJJi86MhYgep6m',\n",
       "  '1Z0WpLdsFIAqMzv07EmNLE',\n",
       "  '4uLHDB5gfEqjli1CgBsb72',\n",
       "  '0mR1h6VCxiQEWyqzrvjXvv',\n",
       "  '0S6GQQOgKrezrkPFQOkXAj',\n",
       "  '2VJWrCmLvEM8pqmBA9BJ1b',\n",
       "  '2VJWrCmLvEM8pqmBA9BJ1b',\n",
       "  '2VJWrCmLvEM8pqmBA9BJ1b',\n",
       "  '3mQQ9LwpXWvrstYawcSxqZ',\n",
       "  '2IxX9X1sTBsmkt28A73mjb',\n",
       "  '5TRLWbDYXpEXLqn53rFiwJ',\n",
       "  '670gWAhCDCN47TB2kgqPLI',\n",
       "  '05iK66ABVVvTfKxKSgBxMj',\n",
       "  '4Q617fWs6N7F11wWwSFrMn',\n",
       "  '3rblSOJxETAAcYZc2gPilT',\n",
       "  '099Iy7ePM7XSyRqpHPZLBn',\n",
       "  '7wo0VNLqQELQ07EozfgOD2',\n",
       "  '1fTsN028uZZynJVstFH8Vs',\n",
       "  '7LJHgpH651XoaSuyoBQYpD',\n",
       "  '6YJFF3CEEDXbky3JP8QPst',\n",
       "  '3kAQVW7IuLZilbxMoHonTU',\n",
       "  '0SnObWiAUCpVgoCVKszqP3',\n",
       "  '0SnObWiAUCpVgoCVKszqP3',\n",
       "  '5Z3wkbb39DZ9oGkifYWDdY',\n",
       "  '7mC6naBsgRJC76RhL6cW2H',\n",
       "  '7rFS8kZ83R2BTyFKdSEzPR',\n",
       "  '7rFS8kZ83R2BTyFKdSEzPR',\n",
       "  '7rFS8kZ83R2BTyFKdSEzPR',\n",
       "  '20SVlHZZvdBa45deyvTcCf',\n",
       "  '3PDZklreEkDLLSTrR2bl4X',\n",
       "  '30N79LxyLXZxb9iwXHR33g',\n",
       "  '5Gbglmnbq4aAeSrrjX7hUh',\n",
       "  '7KTo6jfJ1TuiEQZgWHQPgj',\n",
       "  '086WY4a7I3zqtWFtX7jgco',\n",
       "  '086WY4a7I3zqtWFtX7jgco',\n",
       "  '6WhLgEQo2li9X0L2HTZRCZ',\n",
       "  '4ypbD1mYBWNezZmuz0Fm6n',\n",
       "  '0AidYSJ8XpCmQCzLWr5eyC',\n",
       "  '3PzelXud2fLoRr9svvmrG8',\n",
       "  '1gYgI7qWmoSvhcqZ293tGj',\n",
       "  '4KxEkwQuv1OYsRiwVKKcMe',\n",
       "  '4T581WSrMe9Ck3J6WZhZOR',\n",
       "  '37pcb8MTNtJdCdSIlvQ4LT',\n",
       "  '0sZMNGYfLwBPwCkKtyV0Th',\n",
       "  '0sZMNGYfLwBPwCkKtyV0Th',\n",
       "  '4X1Np5KUiIqlu0mcCzgZwv',\n",
       "  '3KfTvd4J9AyKdh3awipRS7',\n",
       "  '5ibIxhIv6AUL0Nou03Y0wh',\n",
       "  '08ANZNbMzPXBYNjDNosl2t',\n",
       "  '58QYgH8gFBPATEc0YZvOBQ',\n",
       "  '57mNC119tTcPulrOwxIjhn',\n",
       "  '57mNC119tTcPulrOwxIjhn',\n",
       "  '37i9dQZF1DX83Kzg56AgMF',\n",
       "  '7hzUdiqw27hdWI5IhkkoUB',\n",
       "  '37i9dQZF1DWSLh4JPqRC0h',\n",
       "  '6bfxfMIcYKN4ce6XQOxoqY',\n",
       "  '6KtjwbzhgiFD9gV7Z6RRvL',\n",
       "  '0qqDVm0b1lLS0qj3VNYTiV',\n",
       "  '581TV8o4R4kGm30BTki7hy',\n",
       "  '1RvdNqWn7eKFXtooghGPHx',\n",
       "  '5w91UnHHf5opSIO4xCDxEi',\n",
       "  '2trRWZZrQPPByuqwqbPzlw',\n",
       "  '3JnPSYQt8VudOVmhbCizZX',\n",
       "  '3JnPSYQt8VudOVmhbCizZX',\n",
       "  '1UUCxq5cYwrh9tZNMujWlO',\n",
       "  '1UUCxq5cYwrh9tZNMujWlO',\n",
       "  '5arXlHGB24lLRFcRzyzivI',\n",
       "  '7cW9yv1AwrOYrCHBDabG3a',\n",
       "  '2sRF0O2EokIIyPmxYId7tJ',\n",
       "  '4Eyc4eBlHzTwmX0YmCfRuD',\n",
       "  '4Eyc4eBlHzTwmX0YmCfRuD',\n",
       "  '4Eyc4eBlHzTwmX0YmCfRuD',\n",
       "  '4Eyc4eBlHzTwmX0YmCfRuD',\n",
       "  '4Eyc4eBlHzTwmX0YmCfRuD',\n",
       "  '2SgxqgGRpEmb4jRY2KTX1r',\n",
       "  '3fdqhbjJwNp52TXMdQ9gbR',\n",
       "  '7u4uCLh6LPL6nBpKYsbnUI',\n",
       "  '7p26YrYpOVw4wU88i23FJE',\n",
       "  '4NiYFcQAiwBH32ML87k3Bn',\n",
       "  '1MlPWrTWRXyHkecIddPkK8',\n",
       "  '6Pbc2qgpKggU5UIovbf3d4',\n",
       "  '6UqaixkuAUBNMOXLiOUuw3',\n",
       "  '3X54wX8CSC2Z46uvOi1slK',\n",
       "  '3j8GbXFPtzmEEhB7QesMN8',\n",
       "  '37i9dQZF1DXdILUWFCyYSb',\n",
       "  '37i9dQZF1DXdILUWFCyYSb',\n",
       "  '3mb5X3VPVUwcScK4wiUl14',\n",
       "  '2IhZRYuiKK6EGKi7ThdVlM',\n",
       "  '2IhZRYuiKK6EGKi7ThdVlM',\n",
       "  '1TMrsYE9WrUJuIn4LhAF7t',\n",
       "  '0wFL1lMU8TN3blKQKNWmeD',\n",
       "  '5pXJgCasfxAGMqXJasMj73',\n",
       "  '5yHpYQ9hErTmjWGheIt0fo',\n",
       "  '2UnDDRwUwNd8IhwUgxvcLT',\n",
       "  '0MrarErgMgjtqANXFcoHXA',\n",
       "  '1sH9IiPo40SLv1zHzt4eVW',\n",
       "  '6mSo3wrvcBuCwPRcDmQYL2',\n",
       "  '6mSo3wrvcBuCwPRcDmQYL2',\n",
       "  '6mSo3wrvcBuCwPRcDmQYL2',\n",
       "  '1Ja4fT6eiU19fwhbz6nr5r',\n",
       "  '64QxysD2w5x5EMLgcoT7fa',\n",
       "  '6fw0UDUWN5YGaL8eG6GVi5',\n",
       "  '2d6PNH1k8rePzNni7zovXU',\n",
       "  '60D4HfZyIx6DRnkCK3fB5O',\n",
       "  '2Xl8lNEbZ11jjekWQNhiL3',\n",
       "  '1LZijKFjA8KziwjKC1P3Cn',\n",
       "  '5WJSXNNyoDpxOpGKLyljxQ',\n",
       "  '4jhAocoIdMIY5S0HXn4ulL',\n",
       "  '7EmWayjGRwYHvpe3BYw7Ns',\n",
       "  '216WDvDpYQneM71Lill3Jm',\n",
       "  '216WDvDpYQneM71Lill3Jm',\n",
       "  '4LK6qbHgpahQAkSxxnRBL7',\n",
       "  '2E8KLlEKAmj31zEzNZYF0L',\n",
       "  '4iARkObEs9TEb3uUFTDqCQ',\n",
       "  '7HLviM1f5zgYKXFcSykxQb',\n",
       "  '0Ir0jcraOVpvxOow1C6ImG',\n",
       "  '51Ror9wanVFU4xFrtKZNRF',\n",
       "  '4kYLNi3RyKQZyZ4AG9upit',\n",
       "  '1tGQHvs9OJ7Fl59QYIT653',\n",
       "  '7MzKZ8z1bSymIVJPf68Pc5',\n",
       "  '0mFObuEgboqcXQd6sOuSIj',\n",
       "  '0mFObuEgboqcXQd6sOuSIj',\n",
       "  '1c1jMO1OuHVuaHdx7B83R3',\n",
       "  '05UnWi4ueC96V0m1yFzKhr',\n",
       "  '2BW93PYZmpDRT1ZQvTpg0b',\n",
       "  '72LE8hI9h12bdZTXo0R3jH',\n",
       "  '2l0EEMSwOZUBxtI6AcWCAB',\n",
       "  '0zRBnQGhf1IqokuhnISG97',\n",
       "  '7kcXJUclqQHCGRNfL689z6',\n",
       "  '7kcXJUclqQHCGRNfL689z6',\n",
       "  '25fW92CDWnEUoLNOBMi34r',\n",
       "  '2QK7PYVMyQscYv3AYQJEWR',\n",
       "  '2PvZKuj3e0FPqDHNUCZCSv',\n",
       "  '0DDLrB9IaksRbI0caHgSYp',\n",
       "  '5HvVselFIv1GddcOvCNjgE',\n",
       "  '1yzhOwe8nhjCVdk42AxeO0',\n",
       "  '3ph1qfimYnay4aFQnHFPwE',\n",
       "  '3ph1qfimYnay4aFQnHFPwE',\n",
       "  '3FdHraR3yGGDBOKSACVFSj']}"
      ]
     },
     "execution_count": 136,
     "metadata": {},
     "output_type": "execute_result"
    }
   ],
   "source": [
    "artists_dict['64KEffDW9EtZ1y2vBYgq8T']"
   ]
  },
  {
   "cell_type": "code",
   "execution_count": 137,
   "id": "7f0670b1",
   "metadata": {
    "ExecuteTime": {
     "end_time": "2022-05-14T18:29:08.765329Z",
     "start_time": "2022-05-14T18:29:08.757345Z"
    },
    "scrolled": true
   },
   "outputs": [
    {
     "data": {
      "text/plain": [
       "{'id': '1BmxOYHjQv1dKZRr13YRZM',\n",
       " 'name': 'FRIENDS',\n",
       " 'release_date': '2018-02-09',\n",
       " 'in_playlist': ['3NWlcmwxDe3viSgLh0Uyan',\n",
       "  '0x8L3xUxvSyIMRYnYkiV0t',\n",
       "  '1TD0LTMfEnlGUdWwXPnHH7',\n",
       "  '29OMQ9a5Teg3DLDIBE9pL4',\n",
       "  '0XodjwYYVOz9VPBJRvaQdj',\n",
       "  '0XbIRrKGcTrHnjZ8548dtp',\n",
       "  '7vYF2UuSJtA6ErtAutUe4j',\n",
       "  '4NlCobw1W8AFORcTjwrQvP',\n",
       "  '4f2xW5SeB1LS6ub3MlaRli',\n",
       "  '46cLhLO3IfG9TFIC4RczfM',\n",
       "  '5VCVwjpqU6AtthmBlUpQv6',\n",
       "  '0qtzSPz2ZwC21sWdlEEos2',\n",
       "  '0DRW8XNbLhKWwRzlDygnyK',\n",
       "  '0ZgpyGxZQruAaPPkjh0cwx',\n",
       "  '4iUqCmlh8GSwvy0aEpzYDA',\n",
       "  '6hVKDDa3YaxtlXvkIpbKdt',\n",
       "  '4bU39BHNEfsbIFDda2nj4d',\n",
       "  '1fFj8e9kZ7q5CT0lZpAXbc',\n",
       "  '22hfNqPLCklHv4kDijPFBc',\n",
       "  '086OPNtap6FEl5EpHrtP5v',\n",
       "  '609mKZc2W4zXTnSgmBuNG0',\n",
       "  '5AkNhvzVASqyaI7mEDLECU',\n",
       "  '6sMemANGdQIJDRZm6pegbJ',\n",
       "  '0OLNT7u5pKIYbIyjvh8wUP',\n",
       "  '3PTtqcVolho8KTVEI3px4K',\n",
       "  '3QB5tafGrxapu1TjtMhtYb',\n",
       "  '4Open7dR882mz8WSAhByzm',\n",
       "  '2OcorPv25QzgqltGTLpFzI',\n",
       "  '3Vgq9OX5rjFrLKuxcz7Dg5',\n",
       "  '1h4bUPnrpgn8qXGJ5dvTsu',\n",
       "  '3NtrrtmAmDR6JBn6dS2e8e',\n",
       "  '6hKAO0tJ8WYVmsQ1F5iBrs',\n",
       "  '6EKNdEBqV4Larp6Cx9eD8m',\n",
       "  '2VJWrCmLvEM8pqmBA9BJ1b',\n",
       "  '7wo0VNLqQELQ07EozfgOD2',\n",
       "  '7mC6naBsgRJC76RhL6cW2H',\n",
       "  '4KxEkwQuv1OYsRiwVKKcMe',\n",
       "  '4T581WSrMe9Ck3J6WZhZOR',\n",
       "  '57mNC119tTcPulrOwxIjhn',\n",
       "  '6mSo3wrvcBuCwPRcDmQYL2',\n",
       "  '0mFObuEgboqcXQd6sOuSIj']}"
      ]
     },
     "execution_count": 137,
     "metadata": {},
     "output_type": "execute_result"
    }
   ],
   "source": [
    "albums_dict['1BmxOYHjQv1dKZRr13YRZM']"
   ]
  },
  {
   "cell_type": "code",
   "execution_count": 138,
   "id": "33462590",
   "metadata": {
    "ExecuteTime": {
     "end_time": "2022-05-14T18:31:17.513138Z",
     "start_time": "2022-05-14T18:31:17.332141Z"
    },
    "run_control": {
     "marked": false
    }
   },
   "outputs": [
    {
     "data": {
      "text/plain": [
       "(63652, 50, 50)"
      ]
     },
     "execution_count": 138,
     "metadata": {},
     "output_type": "execute_result"
    }
   ],
   "source": [
    "trx_available, reference_trx, expected_trx = prepare_inputs(df_playlists_test['1h4bUPnrpgn8qXGJ5dvTsu'], df_tracks_train, df_tracks_test, .5)\n",
    "\n",
    "len(trx_available), len(reference_trx), len(expected_trx)\n",
    "\n",
    "# reference_trx, expected_trx, selected_trx = get_trk_strata(\n",
    "#             df_playlists_test['1h4bUPnrpgn8qXGJ5dvTsu'], df_tracks_train, df_tracks_test,\n",
    "#             .5)"
   ]
  },
  {
   "cell_type": "code",
   "execution_count": 139,
   "id": "260171f8",
   "metadata": {
    "ExecuteTime": {
     "end_time": "2022-05-14T18:31:19.689753Z",
     "start_time": "2022-05-14T18:31:19.684767Z"
    },
    "code_folding": [],
    "run_control": {
     "marked": false
    }
   },
   "outputs": [],
   "source": [
    "# reference_trx"
   ]
  },
  {
   "cell_type": "code",
   "execution_count": 130,
   "id": "cf48bc50",
   "metadata": {
    "ExecuteTime": {
     "end_time": "2022-05-14T18:07:53.528422Z",
     "start_time": "2022-05-14T18:07:53.507576Z"
    },
    "run_control": {
     "marked": true
    },
    "scrolled": true
   },
   "outputs": [
    {
     "name": "stdout",
     "output_type": "stream",
     "text": [
      "08bNPGLD8AhKpnnERrAc6G\n",
      "{'id': '64KEffDW9EtZ1y2vBYgq8T', 'name': 'Marshmello', 'in_playlist': ['2dbL1KoWphbT4uZKOgnnKw', '36gUYaCXYmKJ5FQCjRGXOm', '4jwLkSVrnathscvWtxy1Fa', '3NWlcmwxDe3viSgLh0Uyan', '2y4snt2vxFnEBKzeYfVCEj', '3o0YWwdt1uNsb27RsMF1NP', '0x8L3xUxvSyIMRYnYkiV0t', '0x8L3xUxvSyIMRYnYkiV0t', '0x8L3xUxvSyIMRYnYkiV0t', '0WlA8Y3FUV12uEFTqdjX5h', '0WlA8Y3FUV12uEFTqdjX5h', '1TD0LTMfEnlGUdWwXPnHH7', '6oBdDSGRarIXfnaENeezML', '6oBdDSGRarIXfnaENeezML', '2y55MTtGfZV6GcvZ6a3ZKM', '2y55MTtGfZV6GcvZ6a3ZKM', '29OMQ9a5Teg3DLDIBE9pL4', '0XodjwYYVOz9VPBJRvaQdj', '0XodjwYYVOz9VPBJRvaQdj', '08OatoWvxf9XWIGKLCHmw0', '0XbIRrKGcTrHnjZ8548dtp', '0XbIRrKGcTrHnjZ8548dtp', '7vYF2UuSJtA6ErtAutUe4j', '7vYF2UuSJtA6ErtAutUe4j', '27HlKfzMohMjVPuYYbRgka', '27HlKfzMohMjVPuYYbRgka', '1ZZWyjlXlF8Y0I8q4WzRvy', '1ZZWyjlXlF8Y0I8q4WzRvy', '1ZZWyjlXlF8Y0I8q4WzRvy', '6HIHUzISZdwDtu2MRrGlDF', '6HIHUzISZdwDtu2MRrGlDF', '6HIHUzISZdwDtu2MRrGlDF', '6HIHUzISZdwDtu2MRrGlDF', '6HIHUzISZdwDtu2MRrGlDF', '6HIHUzISZdwDtu2MRrGlDF', '6HIHUzISZdwDtu2MRrGlDF', '6HIHUzISZdwDtu2MRrGlDF', '6HIHUzISZdwDtu2MRrGlDF', '4NlCobw1W8AFORcTjwrQvP', '4NlCobw1W8AFORcTjwrQvP', '4glsFDTofvR4KxSLuwZ72h', '0rbxZLZVWgSnZRGYsx1rhg', '1cDzWcgkf45iWkLO3F59QJ', '4f2xW5SeB1LS6ub3MlaRli', '4f2xW5SeB1LS6ub3MlaRli', '5rm9mC1YVDlHAmsjwRjTeN', '5rm9mC1YVDlHAmsjwRjTeN', '1qESsWgi4q9hM9CRXM5UWc', '1qESsWgi4q9hM9CRXM5UWc', '1qESsWgi4q9hM9CRXM5UWc', '6ZN6dlzC9EMlveIhG7N9Bv', '4yauPPW2UlnxeVNORBobAW', '46cLhLO3IfG9TFIC4RczfM', '6rcBuUFlN5zmIIZ35juS4e', '5VCVwjpqU6AtthmBlUpQv6']}\n",
      "64KEffDW9EtZ1y2vBYgq8T\n",
      "{'id': '1zNqDE7qDGCsyzJwohVaoX', 'name': 'Anne-Marie', 'in_playlist': ['3NWlcmwxDe3viSgLh0Uyan', '3NWlcmwxDe3viSgLh0Uyan', '0x8L3xUxvSyIMRYnYkiV0t', '1TD0LTMfEnlGUdWwXPnHH7', '1TD0LTMfEnlGUdWwXPnHH7', '1TD0LTMfEnlGUdWwXPnHH7', '29OMQ9a5Teg3DLDIBE9pL4', '29OMQ9a5Teg3DLDIBE9pL4', '7B4T5grjkOhpJoYQR5Kji2', '0XodjwYYVOz9VPBJRvaQdj', '0XbIRrKGcTrHnjZ8548dtp', '7vYF2UuSJtA6ErtAutUe4j', '7vYF2UuSJtA6ErtAutUe4j', '27HlKfzMohMjVPuYYbRgka', '4NlCobw1W8AFORcTjwrQvP', '4NlCobw1W8AFORcTjwrQvP', '4NlCobw1W8AFORcTjwrQvP', '4f2xW5SeB1LS6ub3MlaRli', '4f2xW5SeB1LS6ub3MlaRli', '6ZN6dlzC9EMlveIhG7N9Bv', '46cLhLO3IfG9TFIC4RczfM', '5VCVwjpqU6AtthmBlUpQv6']}\n",
      "1zNqDE7qDGCsyzJwohVaoX\n"
     ]
    }
   ],
   "source": [
    "for t, trk in enumerate(reference_trx['id']):\n",
    "    if t == 0:\n",
    "        print(trk)\n",
    "#         print(reference_trx.T[trk].artists)\n",
    "        for a in reference_trx.T[trk].artists:\n",
    "            print(a)\n",
    "            print(a['id'])\n",
    "#             co_occurrence_artists_train[a.id]\n",
    "            "
   ]
  },
  {
   "cell_type": "code",
   "execution_count": null,
   "id": "49c27f50",
   "metadata": {
    "run_control": {
     "marked": true
    }
   },
   "outputs": [],
   "source": [
    "# prepare_inputs_co_occur\n",
    "# def prepare_inputs_co_occur(playlist_trx, trx_train, trx_test, fraction):\n",
    "#     trx = playlist_trx.tracks\n",
    "#     n = int((len(trx) + 1) * fraction)\n",
    "\n",
    "#     ids = pd.DataFrame(trx).id  # ids of the original playlist\n",
    "#     selected_ids = random.sample(ids.values.tolist(), n)\n",
    "\n",
    "#     db = trx_train.T\n",
    "#     trx_available = db[~db.id.isin(selected_ids)]\n",
    "\n",
    "#     reference_trx = trx_test.T[trx_test.T.id.isin(selected_ids)]\n",
    "#     expected_trx = trx_test.T[~trx_test.T.id.isin(selected_ids)\n",
    "#                               & trx_test.T.id.isin(ids)]\n",
    "\n",
    "#     return trx_available, reference_trx, expected_trx"
   ]
  },
  {
   "cell_type": "code",
   "execution_count": 18,
   "id": "c84ff16e",
   "metadata": {
    "ExecuteTime": {
     "end_time": "2022-05-14T16:37:56.907310Z",
     "start_time": "2022-05-14T16:37:56.726334Z"
    },
    "run_control": {
     "marked": true
    }
   },
   "outputs": [
    {
     "name": "stdout",
     "output_type": "stream",
     "text": [
      "50 50 50\n"
     ]
    }
   ],
   "source": [
    "def get_trk_album(playlist_trx, trx_train, trx_test, ref_fraction):\n",
    "    trx_available, reference_trx, expected_trx = prepare_inputs(playlist_trx, trx_train, trx_test, ref_fraction)\n",
    "        \n",
    "    select = random.sample(trx_available['id'].values.tolist(), len(expected_trx))\n",
    "    \n",
    "    selected_trx = trx_available[trx_available.id.isin(select)]\n",
    "\n",
    "    return reference_trx, expected_trx, selected_trx\n",
    "\n",
    "\n",
    "reference_trx, expected_trx, selected_trx = get_trk_album(\n",
    "    df_playlists_test['1h4bUPnrpgn8qXGJ5dvTsu'], df_tracks_train,\n",
    "    df_tracks_test, .5)\n",
    "print(len(reference_trx), len(expected_trx), len(selected_trx))\n",
    "# reference_trx, expected_trx, selected_trx"
   ]
  },
  {
   "cell_type": "markdown",
   "id": "5cc61f23",
   "metadata": {},
   "source": [
    "## Artist"
   ]
  },
  {
   "cell_type": "code",
   "execution_count": 101,
   "id": "9731ee1d",
   "metadata": {
    "ExecuteTime": {
     "end_time": "2022-05-14T17:57:51.022689Z",
     "start_time": "2022-05-14T17:57:50.115821Z"
    },
    "code_folding": [],
    "run_control": {
     "marked": true
    }
   },
   "outputs": [
    {
     "name": "stdout",
     "output_type": "stream",
     "text": [
      "50 50 50\n"
     ]
    }
   ],
   "source": [
    "def get_trk_artist(playlist_trx, trx_train, trx_test, ref_fraction):\n",
    "    trx_available, reference_trx, expected_trx = prepare_inputs(playlist_trx, trx_train, trx_test, ref_fraction)\n",
    "    \n",
    "    trx_freq = tracks_frequency[tracks_frequency.track_id.isin(trx_available['id'])]\n",
    "    \n",
    "    select = trx_freq.drop(trx_freq.index)\n",
    "\n",
    "    ballot = \n",
    "    \n",
    "    \n",
    "    while len(select) < len(expected_trx)*2:\n",
    "        rnd = random.uniform(0, 1)\n",
    "        for i, c in enumerate(ballot.cum_perc):\n",
    "            if rnd <= c:\n",
    "                select = select.append(trx_freq.iloc[i])\n",
    "                select = select.drop_duplicates()\n",
    "                break\n",
    "    \n",
    "    select = select[~select.track_id.isin(reference_trx['id'])]\n",
    "    select = select.reset_index()\n",
    "    select = select.iloc[0:len(expected_trx)]['track_id']\n",
    "    \n",
    "    selected_trx = trx_available[trx_available.id.isin(select)]\n",
    "    \n",
    "    return reference_trx, expected_trx, selected_trx\n",
    "\n",
    "reference_trx, expected_trx, selected_trx = get_trk_artist(\n",
    "    df_playlists_test['1h4bUPnrpgn8qXGJ5dvTsu'], df_tracks_train,\n",
    "    df_tracks_test, .5)\n",
    "print(len(reference_trx), len(expected_trx), len(selected_trx))\n",
    "# reference_trx, expected_trx, selected_trx"
   ]
  },
  {
   "cell_type": "markdown",
   "id": "5f17764d",
   "metadata": {},
   "source": [
    "## Track"
   ]
  },
  {
   "cell_type": "code",
   "execution_count": 19,
   "id": "fbe1d695",
   "metadata": {
    "ExecuteTime": {
     "end_time": "2022-05-14T16:37:57.108068Z",
     "start_time": "2022-05-14T16:37:56.909299Z"
    },
    "run_control": {
     "marked": true
    }
   },
   "outputs": [
    {
     "name": "stdout",
     "output_type": "stream",
     "text": [
      "50 50 50\n"
     ]
    }
   ],
   "source": [
    "def get_trk_track(playlist_trx, trx_train, trx_test, ref_fraction):\n",
    "    trx_available, reference_trx, expected_trx = prepare_inputs(playlist_trx, trx_train, trx_test, ref_fraction)\n",
    "        \n",
    "    select = random.sample(trx_available['id'].values.tolist(), len(expected_trx))\n",
    "    \n",
    "    selected_trx = trx_available[trx_available.id.isin(select)]\n",
    "\n",
    "    return reference_trx, expected_trx, selected_trx\n",
    "\n",
    "\n",
    "reference_trx, expected_trx, selected_trx = get_trk_track(\n",
    "    df_playlists_test['1h4bUPnrpgn8qXGJ5dvTsu'], df_tracks_train,\n",
    "    df_tracks_test, .5)\n",
    "print(len(reference_trx), len(expected_trx), len(selected_trx))\n",
    "# reference_trx, expected_trx, selected_trx"
   ]
  },
  {
   "cell_type": "markdown",
   "id": "22781461",
   "metadata": {
    "ExecuteTime": {
     "end_time": "2022-05-07T00:00:10.793486Z",
     "start_time": "2022-05-07T00:00:08.844112Z"
    }
   },
   "source": [
    "# Evaluate models"
   ]
  },
  {
   "cell_type": "code",
   "execution_count": 20,
   "id": "52e5fdc6",
   "metadata": {
    "ExecuteTime": {
     "end_time": "2022-05-14T16:37:57.123997Z",
     "start_time": "2022-05-14T16:37:57.110035Z"
    },
    "run_control": {
     "marked": false
    }
   },
   "outputs": [],
   "source": [
    "def get_trk(method, reference, ref_fraction):\n",
    "    if method == 'random':\n",
    "        reference_trx, expected_trx, selected_trx = get_trk_rnd(\n",
    "            df_playlists_test[reference], df_tracks_train, df_tracks_test,\n",
    "            ref_fraction)\n",
    "    elif method == 'strata':\n",
    "        reference_trx, expected_trx, selected_trx = get_trk_strata(\n",
    "            df_playlists_test[reference], df_tracks_train, df_tracks_test,\n",
    "            ref_fraction)\n",
    "    elif method == 'artist':\n",
    "        reference_trx, expected_trx, selected_trx = get_trk_artist(\n",
    "            df_playlists_test[reference], df_tracks_train, df_tracks_test,\n",
    "            ref_fraction)\n",
    "    elif method == 'album':\n",
    "        reference_trx, expected_trx, selected_trx = get_trk_album(\n",
    "            df_playlists_test[reference], df_tracks_train, df_tracks_test,\n",
    "            ref_fraction)\n",
    "    elif method == 'playlist':\n",
    "        reference_trx, expected_trx, selected_trx = get_trk_track(\n",
    "            df_playlists_test[reference], df_tracks_train, df_tracks_test,\n",
    "            ref_fraction)\n",
    "\n",
    "    return reference_trx, expected_trx, selected_trx"
   ]
  },
  {
   "cell_type": "code",
   "execution_count": 21,
   "id": "cb9f7409",
   "metadata": {
    "ExecuteTime": {
     "end_time": "2022-05-14T16:37:57.139955Z",
     "start_time": "2022-05-14T16:37:57.125993Z"
    }
   },
   "outputs": [],
   "source": [
    "methods = ['random', 'strata', 'artist', 'album', 'playlist']\n",
    "splits = [.25, .5, .75]"
   ]
  },
  {
   "cell_type": "code",
   "execution_count": 96,
   "id": "a26aa58c",
   "metadata": {
    "ExecuteTime": {
     "end_time": "2022-05-14T17:23:25.509332Z",
     "start_time": "2022-05-14T17:23:25.492379Z"
    }
   },
   "outputs": [],
   "source": [
    "methods = ['random', 'strata']\n",
    "splits = [.5]"
   ]
  },
  {
   "cell_type": "code",
   "execution_count": 97,
   "id": "26a08691",
   "metadata": {
    "ExecuteTime": {
     "end_time": "2022-05-14T17:31:39.151896Z",
     "start_time": "2022-05-14T17:23:25.727996Z"
    },
    "run_control": {
     "marked": false
    },
    "scrolled": false
   },
   "outputs": [
    {
     "name": "stdout",
     "output_type": "stream",
     "text": [
      "random\n",
      "0.5\n",
      "14/05/2022 13:23 - 0/533 - LEN: 0\n",
      "14/05/2022 13:23 - 100/533 - LEN: 100\n",
      "14/05/2022 13:23 - 200/533 - LEN: 200\n",
      "14/05/2022 13:24 - 300/533 - LEN: 300\n",
      "14/05/2022 13:24 - 400/533 - LEN: 400\n",
      "14/05/2022 13:24 - 500/533 - LEN: 500\n",
      "strata\n",
      "0.5\n",
      "14/05/2022 13:24 - 0/533 - LEN: 533\n",
      "14/05/2022 13:26 - 100/533 - LEN: 633\n",
      "14/05/2022 13:27 - 200/533 - LEN: 733\n",
      "14/05/2022 13:28 - 300/533 - LEN: 833\n",
      "14/05/2022 13:29 - 400/533 - LEN: 933\n",
      "14/05/2022 13:31 - 500/533 - LEN: 1033\n"
     ]
    }
   ],
   "source": [
    "results = pd.DataFrame(columns=[\n",
    "    'playlist', 'method', 'frac', 'total_tracks', 'selected_tracks', 'matches',\n",
    "    'error'\n",
    "])\n",
    "\n",
    "a = df_playlists_test\n",
    "for m, method in enumerate(methods):\n",
    "    print(method)\n",
    "    for f, frac in enumerate(splits):\n",
    "        print(frac)\n",
    "        for p, playlist in enumerate(a):\n",
    "            if p % 100 == 0:\n",
    "                print(\"%s - %d/%d - LEN: %d\" % (datetime.datetime.now().strftime(format), p, len(a.T), len(results)))\n",
    "            #                 if p == 0:\n",
    "            #                 print(p)\n",
    "            #                 print(df_playlists_test[playlist])\n",
    "            #                 print(type(df_playlists_test[playlist]))\n",
    "            #                 print(df_playlists_test[playlist])\n",
    "            reference_trx, expected_trx, selected_trx = get_trk(\n",
    "            method, playlist, frac)\n",
    "\n",
    "            matches = len(selected_trx[selected_trx.id.isin(expected_trx.id)].id)\n",
    "            total_trx = a[playlist].total_tracks\n",
    "            error = 1 - matches / a[playlist].total_tracks\n",
    "            sel_trx = len(selected_trx)\n",
    "\n",
    "            results = results.append(\n",
    "            {\n",
    "            'playlist': playlist,\n",
    "            'method': method,\n",
    "            'frac': frac,\n",
    "            'total_tracks': total_trx,\n",
    "            'selected_tracks': sel_trx,\n",
    "            'matches': matches,\n",
    "            'error': error\n",
    "            },\n",
    "            ignore_index=True)\n",
    "\n",
    "results.set_index('playlist', inplace=True)\n",
    "# print(len(reference_trx), len(expected_trx), len(selected_trx))"
   ]
  },
  {
   "cell_type": "code",
   "execution_count": null,
   "id": "44984df4",
   "metadata": {
    "ExecuteTime": {
     "end_time": "2022-05-14T16:37:59.587819Z",
     "start_time": "2022-05-14T16:36:25.970Z"
    }
   },
   "outputs": [],
   "source": [
    "results"
   ]
  },
  {
   "cell_type": "code",
   "execution_count": null,
   "id": "c6bf6901",
   "metadata": {
    "ExecuteTime": {
     "end_time": "2022-05-14T16:37:59.589827Z",
     "start_time": "2022-05-14T16:36:25.973Z"
    }
   },
   "outputs": [],
   "source": [
    "summ = results['matches'].describe()\n",
    "summ"
   ]
  },
  {
   "cell_type": "code",
   "execution_count": null,
   "id": "4e0c6746",
   "metadata": {
    "ExecuteTime": {
     "end_time": "2022-05-14T16:37:59.590824Z",
     "start_time": "2022-05-14T16:36:25.975Z"
    }
   },
   "outputs": [],
   "source": [
    "# profiling_grid['performance_ratio'] = profiling_grid['accuracy']/profiling_grid['run_time']\n",
    "# profiling_grid['run_time_mean'] = profiling_grid.groupby('classifier')['run_time'].transform('mean')\n",
    "# profiling_grid['accuracy_mean'] = profiling_grid.groupby('classifier')['accuracy'].transform('mean')\n",
    "# profiling_grid['performance_average'] = profiling_grid.groupby('classifier')['performance_ratio'].transform('mean')\n",
    "# profiling_grid['rank_overall'] = profiling_grid['performance_ratio'].rank(method='dense', ascending=False)\n",
    "# profiling_grid['rank_average'] = profiling_grid['performance_average'].rank(method='dense', ascending=False)"
   ]
  },
  {
   "cell_type": "code",
   "execution_count": null,
   "id": "babd8fa7",
   "metadata": {
    "ExecuteTime": {
     "end_time": "2022-05-14T16:37:59.592807Z",
     "start_time": "2022-05-14T16:36:25.978Z"
    }
   },
   "outputs": [],
   "source": [
    "# def visualize_all_box(df, group):\n",
    "#     rows = math.ceil(math.sqrt(len(df.keys()) - 1))\n",
    "#     cols = math.floor(math.sqrt(len(df.keys()) - 1))\n",
    "\n",
    "#     fig, axes = plt.subplots(ncols=cols, nrows=rows, figsize=(20, 15))\n",
    "#     fig.suptitle('Boxplot of each method split and fraction recommended')\n",
    "\n",
    "#     i = 0\n",
    "#     for method in df.keys():\n",
    "#         i = i + 1\n",
    "\n",
    "#         r = int((i - 1) / cols)\n",
    "#         c = i - r * cols - 1\n",
    "#         print(r, c)\n",
    "#         sns.boxplot(ax=axes[r, c],\n",
    "#                     data=df,\n",
    "#                     x=group,\n",
    "#                     y=matches,\n",
    "#                     hue=group,\n",
    "#                     palette='summer_r',\n",
    "#                     showmeans=True,\n",
    "#                     meanprops={\n",
    "#                         \"marker\": \"o\",\n",
    "#                         \"markerfacecolor\": \"red\",\n",
    "#                         \"markeredgecolor\": \"red\"\n",
    "#                     },\n",
    "#                     flierprops=dict(marker='.',\n",
    "#                                     markerfacecolor='steelblue',\n",
    "#                                     markeredgecolor='steelblue',\n",
    "#                                     alpha=.5),\n",
    "#                     boxprops=dict(alpha=.7),\n",
    "#                     width=.5,\n",
    "#                     notch=True).set_title(method)\n",
    "\n",
    "# #         for line in axes[r, c].get_lines()[6::7]:\n",
    "# #             #                 line.set_mec('purple') # to test that we have the correct Line2Ds\n",
    "# #             offsets = line.get_xdata()\n",
    "# #             #                 print(y)\n",
    "# #             line.set_xdata(offsets +\n",
    "# #                            np.random.uniform(-0.05, 0.05, offsets.size))\n",
    "\n",
    "#         axes[r, c].legend(loc='upper center',\n",
    "#                           title=method,\n",
    "#                           frameon=False,\n",
    "#                           ncol=2)\n",
    "#         axes[r, c].set_xticklabels(['25%', '50%', '75%'])\n",
    "#     plt.subplots_adjust(left=0.1,\n",
    "#                         bottom=0.1,\n",
    "#                         right=0.9,\n",
    "#                         top=0.9,\n",
    "#                         wspace=0.15,\n",
    "#                         hspace=0.25)\n",
    "#     plt.show()\n",
    "\n",
    "\n",
    "# visualize_all_box(results, 'frac')\n",
    "\n",
    "# # Statistical summary of the numerical columns\n",
    "# summ = results.describe().transpose()\n",
    "# summ"
   ]
  },
  {
   "cell_type": "markdown",
   "id": "a14df281",
   "metadata": {},
   "source": [
    "## Results visualization"
   ]
  },
  {
   "cell_type": "code",
   "execution_count": 98,
   "id": "931d0079",
   "metadata": {
    "ExecuteTime": {
     "end_time": "2022-05-14T17:37:46.642686Z",
     "start_time": "2022-05-14T17:37:46.117395Z"
    }
   },
   "outputs": [
    {
     "data": {
      "image/png": "[encoded data removed]",
      "text/plain": [
       "<Figure size 1080x1080 with 2 Axes>"
      ]
     },
     "metadata": {
      "needs_background": "light"
     },
     "output_type": "display_data"
    }
   ],
   "source": [
    "fig, axes = plt.subplots(ncols=1, nrows=2, figsize=(15, 15))\n",
    "sns.scatterplot(ax=axes[0], x='frac', y='error', data=results, s=500, alpha =0.7, hue='method');\n",
    "# plt.y_label('Run time') #y label\n",
    "\n",
    "# sns.scatterplot(ax=axes[1], x='run_time_mean', y='accuracy_mean', data=profiling_grid, s=500, alpha =0.7, hue='classifier');\n",
    "# plt.xlabel('Mean run time') #y label\n",
    "# plt.ylabel('Mean accuracy') #x label\n",
    "# plt.grid()\n",
    "plt.rcParams['axes.grid'] = True"
   ]
  },
  {
   "cell_type": "markdown",
   "id": "0643d88d",
   "metadata": {},
   "source": [
    "#  Tests"
   ]
  },
  {
   "cell_type": "code",
   "execution_count": null,
   "id": "996b1727",
   "metadata": {
    "ExecuteTime": {
     "end_time": "2022-05-14T16:37:59.595798Z",
     "start_time": "2022-05-14T16:36:25.984Z"
    }
   },
   "outputs": [],
   "source": [
    "# expected_trx"
   ]
  },
  {
   "cell_type": "code",
   "execution_count": null,
   "id": "9a5f3c7f",
   "metadata": {
    "ExecuteTime": {
     "end_time": "2022-05-14T16:37:59.596795Z",
     "start_time": "2022-05-14T16:36:25.986Z"
    }
   },
   "outputs": [],
   "source": [
    "# selected_trx"
   ]
  },
  {
   "cell_type": "code",
   "execution_count": null,
   "id": "e9d3230e",
   "metadata": {
    "ExecuteTime": {
     "end_time": "2022-05-14T16:37:59.597792Z",
     "start_time": "2022-05-14T16:36:25.989Z"
    }
   },
   "outputs": [],
   "source": [
    "# # reference_trx, expected_trx, \n",
    "# selected_trx = selected_trx.append(expected_trx[expected_trx['id'] == '0e3CM2Fm4cpDtxjzYkdLAr'])\n",
    "\n",
    "# matches = selected_trx[selected_trx.id.isin(expected_trx.id)].id\n",
    "# matches\n",
    "# len(matches)"
   ]
  },
  {
   "cell_type": "code",
   "execution_count": null,
   "id": "eb68d9f5",
   "metadata": {
    "ExecuteTime": {
     "end_time": "2022-05-14T16:37:59.598803Z",
     "start_time": "2022-05-14T16:36:25.993Z"
    }
   },
   "outputs": [],
   "source": [
    "# selected_trx.info()"
   ]
  },
  {
   "cell_type": "code",
   "execution_count": null,
   "id": "24c2c6c3",
   "metadata": {
    "ExecuteTime": {
     "end_time": "2022-05-14T16:37:59.599787Z",
     "start_time": "2022-05-14T16:36:25.997Z"
    }
   },
   "outputs": [],
   "source": [
    "# for t, tid in enumerate(co_occurrence_tracks_train):\n",
    "#     if t == 10:\n",
    "#         df = co_occurrence_tracks_train[tid]\n",
    "#         df['cum_sum'] = df['cnt'].cumsum()\n",
    "#         df['cum_perc'] = 100*df['cum_sum']/df['cnt'].sum()\n",
    "#         selector = random.sample(list(df.index),len(df))\n",
    "#         print(selector)\n",
    "#         print(len(selector))\n",
    "\n",
    "#         cnt = 0\n",
    "#         tot = 0\n",
    "#         for i, item in enumerate(co_occurrence_tracks_train[tid]['cnt']):\n",
    "#                 cnt = cnt + 1\n",
    "#                 tot = tot + item\n",
    "#         print(cnt)\n",
    "#         print(tot)"
   ]
  },
  {
   "cell_type": "code",
   "execution_count": null,
   "id": "c6f1ae0a",
   "metadata": {
    "ExecuteTime": {
     "end_time": "2022-05-14T16:37:59.600784Z",
     "start_time": "2022-05-14T16:36:26.000Z"
    }
   },
   "outputs": [],
   "source": [
    "# def ranking(df,id_column):\n",
    "#     single_list_temp = single_list(df[id_column])\n",
    "#     data = {id_column: single_list_temp}\n",
    "#     aux_df = pd.DataFrame(data)\n",
    "    \n",
    "#     name = id_column.replace('_id','_count')\n",
    "#     ranked_sorted = aux_df.groupby([id_column]).agg(\n",
    "#         temp_count=pd.NamedAgg(column=id_column, aggfunc=\"count\")\n",
    "#     )\n",
    "#     ranked_sorted = ranked_sorted.rename(columns={'temp_count': name})\n",
    "#     ranked_sorted = ranked_sorted.sort_values(name,ascending=False)\n",
    "#     return ranked_sorted\n",
    "# # ranking(df_test,'tracks_id')\n",
    "# # print(tracks_rank)\n",
    "\n",
    "# def top(ranked,n):\n",
    "#     top_n = ranked.iloc[:n]\n",
    "    \n",
    "#     return top_n\n",
    "# # tracks_rank = ranking(df_test,'tracks_id')\n",
    "# # top(tracks_rank,10)\n",
    "#     return ranked\n",
    "\n",
    "# a = track_rank = ranking(df_test,'tracks_id')"
   ]
  },
  {
   "cell_type": "code",
   "execution_count": null,
   "id": "1cd58a22",
   "metadata": {
    "ExecuteTime": {
     "end_time": "2022-05-14T16:37:59.601782Z",
     "start_time": "2022-05-14T16:36:26.003Z"
    }
   },
   "outputs": [],
   "source": [
    "# df['cum_sum'] = df['cnt'].cumsum()\n",
    "# df['cum_perc'] = 100*df['cum_sum']/co_occurrence_tracks_train['cnt'].sum()"
   ]
  },
  {
   "cell_type": "code",
   "execution_count": null,
   "id": "80f6dcfa",
   "metadata": {
    "ExecuteTime": {
     "end_time": "2022-05-14T16:37:59.602797Z",
     "start_time": "2022-05-14T16:36:26.006Z"
    }
   },
   "outputs": [],
   "source": [
    "# matrix track x track\n",
    "# track_rank = ranking(df_test,'tracks_id')\n",
    "# s_tracks_id = list(track_rank.index)\n",
    "\n",
    "# shape = [len(s_tracks_id), len(s_tracks_id)]\n",
    "# track_matrix = np.zeros(shape, dtype=int, order='C')\n",
    "\n",
    "# for i, row_track in enumerate(s_tracks_id):\n",
    "#     row = s_tracks_id.index(row_track)\n",
    "#     if i != row: print(\"i: \" + str(i) + \": \" + row_track), print()\n",
    "\n",
    "#     for playlist in df_test['tracks_id']:\n",
    "#         try:\n",
    "#             check = playlist.index(row_track)\n",
    "#         except ValueError:\n",
    "#             #             print(row)\n",
    "#             check = -1\n",
    "#         if check >= 0:\n",
    "#             for col_track in playlist:\n",
    "#                 if col_track is not None:\n",
    "#                     col = s_tracks_id.index(col_track)\n",
    "#                     #                     print(col_track  + \" - \" + str(col))\n",
    "#                     #                     tr = df_test['tracks'][n][col]\n",
    "#                     #                     print(\"track: \" + str(n) + \": \" + col_track + \" - col_match:\" + str(col) + \": \") # + tr)\n",
    "#                     track_matrix[row, col] += 1\n",
    "# # print(track_matrix)"
   ]
  }
 ],
 "metadata": {
  "hide_input": false,
  "kernelspec": {
   "display_name": "Python 3",
   "language": "python",
   "name": "python3"
  },
  "language_info": {
   "codemirror_mode": {
    "name": "ipython",
    "version": 3
   },
   "file_extension": ".py",
   "mimetype": "text/x-python",
   "name": "python",
   "nbconvert_exporter": "python",
   "pygments_lexer": "ipython3",
   "version": "3.8.10"
  },
  "toc": {
   "base_numbering": 1,
   "nav_menu": {},
   "number_sections": true,
   "sideBar": true,
   "skip_h1_title": false,
   "title_cell": "Table of Contents",
   "title_sidebar": "Contents",
   "toc_cell": false,
   "toc_position": {
    "height": "calc(100% - 180px)",
    "left": "10px",
    "top": "150px",
    "width": "384px"
   },
   "toc_section_display": true,
   "toc_window_display": true
  },
  "varInspector": {
   "cols": {
    "lenName": 16,
    "lenType": 16,
    "lenVar": 40
   },
   "kernels_config": {
    "python": {
     "delete_cmd_postfix": "",
     "delete_cmd_prefix": "del ",
     "library": "var_list.py",
     "varRefreshCmd": "print(var_dic_list())"
    },
    "r": {
     "delete_cmd_postfix": ") ",
     "delete_cmd_prefix": "rm(",
     "library": "var_list.r",
     "varRefreshCmd": "cat(var_dic_list()) "
    }
   },
   "types_to_exclude": [
    "module",
    "function",
    "builtin_function_or_method",
    "instance",
    "_Feature"
   ],
   "window_display": false
  }
 },
 "nbformat": 4,
 "nbformat_minor": 5
}
