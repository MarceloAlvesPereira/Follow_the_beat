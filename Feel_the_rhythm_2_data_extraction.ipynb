{
 "cells": [
  {
   "cell_type": "code",
   "execution_count": 1,
   "id": "11dd7a96",
   "metadata": {
    "ExecuteTime": {
     "end_time": "2022-05-01T21:17:12.475604Z",
     "start_time": "2022-05-01T21:17:12.064439Z"
    }
   },
   "outputs": [],
   "source": [
    "import datetime\n",
    "\n",
    "import os\n",
    "import pickle\n",
    "import time\n",
    "\n",
    "import pandas as pd\n",
    "\n",
    "from dotenv import load_dotenv\n",
    "\n",
    "# import cProfile\n",
    "# import collections\n",
    "# import numpy as np\n",
    "# from datetime import datetime\n",
    "# from dotenv import load_dotenv\n",
    "\n",
    "import gc\n",
    "\n",
    "\n",
    "pd.options.display.float_format = \"{:.2f}\".format\n",
    "# plt.rcParams.update({'font.size': 18})\n",
    "format = '%d/%m/%Y %H:%M'"
   ]
  },
  {
   "cell_type": "code",
   "execution_count": 2,
   "id": "9b1f7920",
   "metadata": {
    "ExecuteTime": {
     "end_time": "2022-05-01T21:17:15.674617Z",
     "start_time": "2022-05-01T21:17:15.221027Z"
    }
   },
   "outputs": [],
   "source": [
    "load_dotenv()\n",
    "SPOTIPY_API = os.getenv('SPOTIPY_API')\n",
    "SPOTIPY_API_KEY = os.getenv('SPOTIPY_API_KEY')\n",
    "scope=''\n",
    "\n",
    "# https://spotipy.readthedocs.io/en/latest/#\n",
    "import spotipy\n",
    "from spotipy.oauth2 import SpotifyClientCredentials\n",
    "client_credentials_manager = SpotifyClientCredentials(client_id=SPOTIPY_API, client_secret=SPOTIPY_API_KEY)\n",
    "\n",
    "# help(sp)\n",
    "sp = spotipy.Spotify(client_credentials_manager=client_credentials_manager,requests_timeout=300)"
   ]
  },
  {
   "cell_type": "markdown",
   "id": "8ec88536",
   "metadata": {},
   "source": [
    "# 1. Get user and playlist IDs"
   ]
  },
  {
   "cell_type": "code",
   "execution_count": 3,
   "id": "df9866c8",
   "metadata": {
    "ExecuteTime": {
     "end_time": "2022-05-01T21:17:17.991929Z",
     "start_time": "2022-05-01T21:17:17.981984Z"
    }
   },
   "outputs": [],
   "source": [
    "n = 950 # max = 950\n",
    "p_limit = 50 # limit of playlists max = 50\n",
    "years = range(2018,2022,1)"
   ]
  },
  {
   "cell_type": "code",
   "execution_count": 4,
   "id": "2ac0a23e",
   "metadata": {
    "ExecuteTime": {
     "end_time": "2022-05-01T21:17:22.148292Z",
     "start_time": "2022-05-01T21:17:19.918102Z"
    }
   },
   "outputs": [
    {
     "name": "stdout",
     "output_type": "stream",
     "text": [
      "Playlist ID and User ID - Data already requested from API - Loaded: C:\\Users\\map_f\\OneDrive\\Documents\\GitHub\\Follow_the_beat\\data\\external\\raw_1_uid_pid.pkl\n",
      "3800\n"
     ]
    }
   ],
   "source": [
    "# Extract the user and playlist IDs\n",
    "format = '%d/%m/%Y %H:%M'\n",
    "t = time.time()\n",
    "\n",
    "# check if data extraction already exists then load if it exists, otherwise performs the data request from API and save the file\n",
    "data_path = os.getcwd() + '\\\\data\\\\external\\\\raw_1_uid_pid.pkl'\n",
    "if os.path.exists(data_path):\n",
    "    print('Playlist ID and User ID - Data already requested from API - Loaded: ' + data_path)\n",
    "    # load file only if the next step was not executed (getting tracks)\n",
    "    data_path_2 = os.getcwd() + '\\\\data\\\\external\\\\raw_2_playlists.pkl'\n",
    "    if not(os.path.exists(data_path_2)):\n",
    "        with open(data_path, 'rb') as f:\n",
    "            uid_pid_raw = pickle.load(f)\n",
    "else:\n",
    "    print('Playlist ID and User ID - Data requested from API - Saved: ' + data_path)\n",
    "    # list of all user ids (UID) and playlist ids (PID)\n",
    "    uid_pid_raw = []\n",
    "    \n",
    "    for y in years:\n",
    "        txt = 'year:' + str(y)\n",
    "        print(txt)\n",
    "        for i in range(0,n,1):\n",
    "            if i % 100 == 0:\n",
    "                t_now = datetime.datetime.now().strftime(format)\n",
    "                calc_eta = datetime.datetime.now() + datetime.timedelta(seconds = n - i) * (time.time() - t) / (i + 1)\n",
    "                calc_eta = calc_eta.strftime(format)\n",
    "                print(\"%s - %d/%d elapsed time (min): %.1f - ETA: %s\" % (t_now, i, n, (time.time()-t)/60 ,calc_eta))\n",
    "            uid_pid = sp.search(q=txt, type='playlist', limit=p_limit, offset=i,market='US')\n",
    "            uid_pid_raw.append(uid_pid)\n",
    "    # Save the data\n",
    "    with open(data_path, 'wb') as f:\n",
    "        pickle.dump(uid_pid_raw, f)\n",
    "        \n",
    "print(len(uid_pid_raw)) # CHECK WHY THE COUNT OF PLAYLISTS DECREASED"
   ]
  },
  {
   "cell_type": "markdown",
   "id": "42b189d5",
   "metadata": {},
   "source": [
    "# 2. Get the details of each playlist"
   ]
  },
  {
   "cell_type": "code",
   "execution_count": 5,
   "id": "c1693337",
   "metadata": {
    "ExecuteTime": {
     "end_time": "2022-05-01T21:17:24.492112Z",
     "start_time": "2022-05-01T21:17:24.477185Z"
    }
   },
   "outputs": [],
   "source": [
    "# extract = True\n",
    "extract = False\n",
    "\n",
    "# Get the detail of all playlists\n",
    "format = '%d/%m/%Y %H:%M'\n",
    "t = time.time()\n",
    "\n",
    "n = len(uid_pid_raw)\n",
    "data_path = os.getcwd() + '\\\\data\\\\external\\\\raw_2_playlists_N.pkl'\n",
    "if extract == True:\n",
    "    print('Details of each playlist - Data requested from API - Saved:' + data_path)\n",
    "    # Get details of all playlists\n",
    "    playlists_full = []\n",
    "    print('Getting details of all playlists')\n",
    "    for i, uid_pid in enumerate(uid_pid_raw):\n",
    "        if i % 100 == 0 and i > 0:\n",
    "            playlists_full = []\n",
    "            t_now = datetime.datetime.now().strftime(format)\n",
    "            calc_eta = datetime.datetime.now() + datetime.timedelta(seconds = n - i) * (time.time() - t) / (i + 1)\n",
    "            calc_eta = calc_eta.strftime(format)\n",
    "            print(\"%s - %d/%d elapsed time (min): %.1f - ETA: %s\" % (t_now, i, n, (time.time()-t)/60 ,calc_eta))\n",
    "\n",
    "        for user in uid_pid['playlists']['items']:\n",
    "            pid = user['id']\n",
    "            uid = user['owner']['id']\n",
    "            playlist = sp.user_playlist(uid, pid)\n",
    "            playlists_full.append(playlist)\n",
    "\n",
    "        # Save the data\n",
    "        if i % 100 == 0 and i > 0:\n",
    "            print(i)\n",
    "            data_path = os.getcwd() + '\\\\data\\\\external\\\\raw_2_playlists_' + str(int(i/100)) + '.pkl'\n",
    "            print(data_path)\n",
    "            with open(data_path, 'wb') as f:\n",
    "                pickle.dump(playlists_full, f)"
   ]
  },
  {
   "cell_type": "markdown",
   "id": "47eedad7",
   "metadata": {},
   "source": [
    "# 2. Concatenate all the playlists, split between test and train sets, and create dictionaries for the main features data "
   ]
  },
  {
   "cell_type": "markdown",
   "id": "2754abf7",
   "metadata": {},
   "source": [
    "## 2.1 Raw playlists"
   ]
  },
  {
   "cell_type": "code",
   "execution_count": 6,
   "id": "e5641eeb",
   "metadata": {
    "ExecuteTime": {
     "end_time": "2022-05-01T21:17:50.853065Z",
     "start_time": "2022-05-01T21:17:27.293559Z"
    }
   },
   "outputs": [
    {
     "name": "stdout",
     "output_type": "stream",
     "text": [
      "Loaded: All playlists concatenated - C:\\Users\\map_f\\OneDrive\\Documents\\GitHub\\Follow_the_beat\\data\\external\\raw_2_playlists_full.pkl\n",
      "2180\n"
     ]
    }
   ],
   "source": [
    "# Concatenate all playlists\n",
    "data_path = os.getcwd() + '\\\\data\\\\external\\\\raw_2_playlists_full.pkl'\n",
    "txt = 'All playlists concatenated - ' + data_path\n",
    "if os.path.exists(data_path):\n",
    "    print('Loaded: ' + txt)\n",
    "    with open(data_path, 'rb') as f:\n",
    "        playlists_full_by_user = pickle.load(f)\n",
    "else:\n",
    "    print('Saved: ' + txt)\n",
    "    playlists_full_by_user = []\n",
    "    for i in range(0,100,1):\n",
    "        data_path_aux = os.getcwd() + '\\\\data\\\\external\\\\raw_2_playlists_' + str(i) + '.pkl'\n",
    "        if os.path.exists(data_path_aux):\n",
    "            print(data_path_aux)\n",
    "            with open(data_path_aux, 'rb') as f:\n",
    "                playlist = pickle.load(f)\n",
    "            playlists_full_by_user.extend(playlist)\n",
    "\n",
    "    with open(data_path, 'wb') as f:\n",
    "        pickle.dump(playlists_full_by_user, f)\n",
    "\n",
    "print(len(playlists_full_by_user))"
   ]
  },
  {
   "cell_type": "markdown",
   "id": "23e7b1ec",
   "metadata": {},
   "source": [
    "## 2.2 Create dictionary for all Playlists"
   ]
  },
  {
   "cell_type": "code",
   "execution_count": 7,
   "id": "2e00a39f",
   "metadata": {
    "ExecuteTime": {
     "end_time": "2022-05-01T21:18:02.871528Z",
     "start_time": "2022-05-01T21:18:02.853542Z"
    }
   },
   "outputs": [],
   "source": [
    "def get_artists(raw_artist):\n",
    "    artists = []\n",
    "    for a in raw_artist:\n",
    "        artists.append({'id': a['id'],\n",
    "                'name': a['name']})\n",
    "    return(artists);\n",
    "\n",
    "# a = get_artists(playlists_full_by_user[6]['tracks']['items'][2]['track']['album']['artists'])\n",
    "# a"
   ]
  },
  {
   "cell_type": "code",
   "execution_count": 8,
   "id": "a86e814a",
   "metadata": {
    "ExecuteTime": {
     "end_time": "2022-05-01T21:18:03.833137Z",
     "start_time": "2022-05-01T21:18:03.813190Z"
    }
   },
   "outputs": [],
   "source": [
    "def get_track_details(raw_track):\n",
    "    if raw_track['track'] is not None:\n",
    "        artists = get_artists(raw_track['track']['album']['artists'])\n",
    "        track = raw_track['track']\n",
    "        album = {\n",
    "                'id': track['album']['id'],\n",
    "                'name': track['album']['name'],\n",
    "                'release_date': track['album']['release_date']\n",
    "                }\n",
    "        data = {\n",
    "                    'id': track['id'],\n",
    "                    'name': track['name'],\n",
    "                    'added_at': raw_track['added_at'],\n",
    "                    'popularity': track['popularity'],\n",
    "                    'artists': artists,\n",
    "                    'album': album\n",
    "                    }\n",
    "        return(data);\n",
    "\n",
    "# a = get_track_details(playlists_full_by_user[6]['tracks']['items'][82])\n",
    "# a['album']\n",
    "# a = get_track_details(playlists_full_by_user[6]['tracks']['items'][83])\n",
    "# playlists_full_by_user[6]['tracks']['items'][83]"
   ]
  },
  {
   "cell_type": "code",
   "execution_count": 9,
   "id": "325700dc",
   "metadata": {
    "ExecuteTime": {
     "end_time": "2022-05-01T21:18:05.195843Z",
     "start_time": "2022-05-01T21:18:05.172834Z"
    }
   },
   "outputs": [],
   "source": [
    "def get_playlist_detail(playlist):\n",
    "    tracks = []\n",
    "    for i, item in enumerate(playlist['tracks']['items']):\n",
    "        if not(item['track'] is None or item['track']['id'] is None):\n",
    "            track = get_track_details(item)\n",
    "            tracks.append(track)\n",
    "    data = {\n",
    "                'user_id': playlist['owner']['id'],\n",
    "                'playlist_id': playlist['id'],\n",
    "                'total_tracks': len(tracks),\n",
    "                'tracks': tracks\n",
    "        }\n",
    "\n",
    "    return(data);\n",
    "# t = get_playlist_detail(playlists_full_by_user[4])\n",
    "# t['tracks'][0]"
   ]
  },
  {
   "cell_type": "code",
   "execution_count": 10,
   "id": "4504ec33",
   "metadata": {
    "ExecuteTime": {
     "end_time": "2022-05-01T21:18:08.841001Z",
     "start_time": "2022-05-01T21:18:06.124942Z"
    }
   },
   "outputs": [
    {
     "name": "stdout",
     "output_type": "stream",
     "text": [
      "Loaded: All playlists as dictionary - C:\\Users\\map_f\\OneDrive\\Documents\\GitHub\\Follow_the_beat\\data\\external\\raw_3_playlists_dict.pkl\n",
      "1851\n"
     ]
    }
   ],
   "source": [
    "gc.collect();\n",
    "# Concatenate all playlists\n",
    "data_path = os.getcwd() + '\\\\data\\\\external\\\\raw_3_playlists_dict.pkl'\n",
    "txt = 'All playlists as dictionary - ' + data_path\n",
    "if os.path.exists(data_path):\n",
    "    print('Loaded: ' + txt)\n",
    "    with open(data_path, 'rb') as f:\n",
    "        playlists_dict = pickle.load(f)\n",
    "else:\n",
    "    # Concatenate all playlists as dictionary\n",
    "    n = len(playlists_full_by_user)\n",
    "\n",
    "    playlists_dict = {}\n",
    "    for i, playlist in enumerate(playlists_full_by_user):\n",
    "        if i % 100 == 0:\n",
    "            print(\"%s - %d/%d - LEN: %d\" % (datetime.datetime.now().strftime(format), i, n, len(playlists_dict)))\n",
    "\n",
    "        play_dict = get_playlist_detail(playlist)\n",
    "        playlists_dict.update({playlist['id']: play_dict})\n",
    "\n",
    "    print('Saved: ' + txt)\n",
    "    with open(data_path, 'wb') as f:\n",
    "        pickle.dump(playlists_dict, f)\n",
    "\n",
    "print(len(playlists_dict))  # CHECK WHY THE COUNT OF PLAYLISTS DECREASED: DUPLICATED PLAYLISTS"
   ]
  },
  {
   "cell_type": "code",
   "execution_count": 11,
   "id": "9f4272cd",
   "metadata": {
    "ExecuteTime": {
     "end_time": "2022-05-01T21:18:11.751849Z",
     "start_time": "2022-05-01T21:18:11.246156Z"
    }
   },
   "outputs": [
    {
     "name": "stdout",
     "output_type": "stream",
     "text": [
      "Count of xyz\n",
      "cnt\n",
      "1    1540\n",
      "2     296\n",
      "3      12\n",
      "4       3\n",
      "dtype: int64\n"
     ]
    },
    {
     "data": {
      "text/plain": [
       "1851"
      ]
     },
     "execution_count": 11,
     "metadata": {},
     "output_type": "execute_result"
    }
   ],
   "source": [
    "cnt = []\n",
    "n = len(playlists_full_by_user)\n",
    "for i, playlist in enumerate(playlists_full_by_user):\n",
    "#     if i % 100 == 0:\n",
    "#         print(\"%s - %d/%d - LEN: %d\" % (datetime.datetime.now().strftime(format), i, n, len(playlists_full_by_user)))\n",
    "\n",
    "    play_dict = get_playlist_detail(playlist)\n",
    "    cnt.append(playlist['id'])\n",
    "    \n",
    "df = pd.DataFrame (cnt, columns = ['id'])\n",
    "count = pd.DataFrame(df.groupby('id').size(),columns=['cnt'])\n",
    "a = count.groupby('cnt').size()\n",
    "print('Count of xyz')\n",
    "print(a)\n",
    "a.sum()"
   ]
  }
 ],
 "metadata": {
  "hide_input": false,
  "kernelspec": {
   "display_name": "Python 3",
   "language": "python",
   "name": "python3"
  },
  "language_info": {
   "codemirror_mode": {
    "name": "ipython",
    "version": 3
   },
   "file_extension": ".py",
   "mimetype": "text/x-python",
   "name": "python",
   "nbconvert_exporter": "python",
   "pygments_lexer": "ipython3",
   "version": "3.8.10"
  },
  "toc": {
   "base_numbering": 1,
   "nav_menu": {},
   "number_sections": true,
   "sideBar": true,
   "skip_h1_title": false,
   "title_cell": "Table of Contents",
   "title_sidebar": "Contents",
   "toc_cell": false,
   "toc_position": {},
   "toc_section_display": true,
   "toc_window_display": false
  },
  "varInspector": {
   "cols": {
    "lenName": 16,
    "lenType": 16,
    "lenVar": 40
   },
   "kernels_config": {
    "python": {
     "delete_cmd_postfix": "",
     "delete_cmd_prefix": "del ",
     "library": "var_list.py",
     "varRefreshCmd": "print(var_dic_list())"
    },
    "r": {
     "delete_cmd_postfix": ") ",
     "delete_cmd_prefix": "rm(",
     "library": "var_list.r",
     "varRefreshCmd": "cat(var_dic_list()) "
    }
   },
   "types_to_exclude": [
    "module",
    "function",
    "builtin_function_or_method",
    "instance",
    "_Feature"
   ],
   "window_display": false
  }
 },
 "nbformat": 4,
 "nbformat_minor": 5
}
