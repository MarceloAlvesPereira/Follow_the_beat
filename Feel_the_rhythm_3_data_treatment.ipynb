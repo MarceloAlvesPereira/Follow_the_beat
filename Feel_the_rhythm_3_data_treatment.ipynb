{
 "cells": [
  {
   "cell_type": "code",
   "execution_count": null,
   "id": "11dd7a96",
   "metadata": {
    "ExecuteTime": {
     "end_time": "2022-01-29T22:18:53.156308Z",
     "start_time": "2022-01-29T22:18:52.543960Z"
    }
   },
   "outputs": [],
   "source": [
    "# import cProfile\n",
    "# import collections\n",
    "import datetime\n",
    "\n",
    "import os\n",
    "# import sys\n",
    "import time\n",
    "\n",
    "# import numpy as np\n",
    "import pandas as pd\n",
    "\n",
    "import pickle\n",
    "\n",
    "# from datetime import datetime\n",
    "# from dotenv import load_dotenv\n",
    "\n",
    "import gc\n",
    "\n",
    "pd.options.display.float_format = \"{:.2f}\".format\n",
    "# plt.rcParams.update({'font.size': 18})\n",
    "format = '%d/%m/%Y %H:%M'"
   ]
  },
  {
   "cell_type": "markdown",
   "id": "d82a9a7d",
   "metadata": {},
   "source": [
    "# 2. Concatenate all the playlists and create dictionaries for the main features data"
   ]
  },
  {
   "cell_type": "markdown",
   "id": "4cac97fd",
   "metadata": {},
   "source": [
    "## 2.1 Raw playlists"
   ]
  },
  {
   "cell_type": "code",
   "execution_count": null,
   "id": "844ea1fc",
   "metadata": {
    "ExecuteTime": {
     "end_time": "2022-01-29T22:19:06.430311Z",
     "start_time": "2022-01-29T22:18:53.158299Z"
    }
   },
   "outputs": [],
   "source": [
    "# Concatenate all playlists\n",
    "data_path = os.getcwd() + '\\\\data\\\\external\\\\raw_2_playlists_full.pkl'\n",
    "txt = 'All playlists concatenated - ' + data_path\n",
    "if os.path.exists(data_path):\n",
    "    print('Loaded: ' + txt)\n",
    "    with open(data_path, 'rb') as f:\n",
    "        playlists_full_by_user = pickle.load(f)\n",
    "else:\n",
    "    print('Saved: ' + txt)\n",
    "    playlists_full_by_user = []\n",
    "    for i in range(0,100,1):\n",
    "        data_path_aux = os.getcwd() + '\\\\data\\\\external\\\\raw_2_playlists_' + str(i) + '.pkl'\n",
    "        if os.path.exists(data_path_aux):\n",
    "            print(data_path_aux)\n",
    "            with open(data_path_aux, 'rb') as f:\n",
    "                playlist = pickle.load(f)\n",
    "            playlists_full_by_user.extend(playlist)\n",
    "\n",
    "    with open(data_path, 'wb') as f:\n",
    "        pickle.dump(playlists_full_by_user, f)\n",
    "\n",
    "print(len(playlists_full_by_user))"
   ]
  },
  {
   "cell_type": "markdown",
   "id": "ad0a5e13",
   "metadata": {},
   "source": [
    "## 2.2 Create dictionary for all Playlists"
   ]
  },
  {
   "cell_type": "code",
   "execution_count": null,
   "id": "09417816",
   "metadata": {
    "ExecuteTime": {
     "end_time": "2022-01-29T22:19:08.296896Z",
     "start_time": "2022-01-29T22:19:08.282934Z"
    }
   },
   "outputs": [],
   "source": [
    "def get_artists(raw_artist):\n",
    "    artists = []\n",
    "    for a in raw_artist:\n",
    "        artists.append({'id': a['id'],\n",
    "                'name': a['name']})\n",
    "    return(artists);\n",
    "\n",
    "# a = get_artists(playlists_full_by_user[6]['tracks']['items'][2]['track']['album']['artists'])\n",
    "# a"
   ]
  },
  {
   "cell_type": "code",
   "execution_count": null,
   "id": "9644d4a5",
   "metadata": {
    "ExecuteTime": {
     "end_time": "2022-01-29T22:19:08.312854Z",
     "start_time": "2022-01-29T22:19:08.298893Z"
    }
   },
   "outputs": [],
   "source": [
    "def get_track_details(raw_track):\n",
    "    if raw_track['track'] is not None:\n",
    "        artists = get_artists(raw_track['track']['album']['artists'])\n",
    "        track = raw_track['track']\n",
    "        album = {\n",
    "                'id': track['album']['id'],\n",
    "                'name': track['album']['name'],\n",
    "                'release_date': track['album']['release_date']\n",
    "                }\n",
    "        data = {\n",
    "                    'id': track['id'],\n",
    "                    'name': track['name'],\n",
    "                    'added_at': raw_track['added_at'],\n",
    "                    'popularity': track['popularity'],\n",
    "                    'artists': artists,\n",
    "                    'album': album\n",
    "                    }\n",
    "        return(data);\n",
    "\n",
    "# a = get_track_details(playlists_full_by_user[6]['tracks']['items'][82])\n",
    "# a['album']\n",
    "# a = get_track_details(playlists_full_by_user[6]['tracks']['items'][83])\n",
    "# playlists_full_by_user[6]['tracks']['items'][83]"
   ]
  },
  {
   "cell_type": "code",
   "execution_count": null,
   "id": "5b910526",
   "metadata": {
    "ExecuteTime": {
     "end_time": "2022-01-29T22:19:08.328834Z",
     "start_time": "2022-01-29T22:19:08.314857Z"
    }
   },
   "outputs": [],
   "source": [
    "def get_playlist_detail(playlist):\n",
    "    tracks = []\n",
    "    for i, item in enumerate(playlist['tracks']['items']):\n",
    "        if not(item['track'] is None or item['track']['id'] is None):\n",
    "            track = get_track_details(item)\n",
    "            tracks.append(track)\n",
    "    data = {\n",
    "                'user_id': playlist['owner']['id'],\n",
    "                'playlist_id': playlist['id'],\n",
    "                'total_tracks': len(tracks),\n",
    "                'tracks': tracks\n",
    "        }\n",
    "\n",
    "    return(data);\n",
    "# t = get_playlist_detail(playlists_full_by_user[4])\n",
    "# t['tracks'][0]"
   ]
  },
  {
   "cell_type": "code",
   "execution_count": null,
   "id": "239b6013",
   "metadata": {
    "ExecuteTime": {
     "end_time": "2022-01-29T22:19:08.723897Z",
     "start_time": "2022-01-29T22:19:08.332800Z"
    },
    "run_control": {
     "marked": false
    }
   },
   "outputs": [],
   "source": [
    "gc.collect();\n",
    "# Concatenate all playlists\n",
    "data_path = os.getcwd() + '\\\\data\\\\external\\\\raw_3_playlists_dict.pkl'\n",
    "txt = 'All playlists as dictionary - ' + data_path\n",
    "if os.path.exists(data_path):\n",
    "    print('Loaded: ' + txt)\n",
    "    with open(data_path, 'rb') as f:\n",
    "        playlists_dict = pickle.load(f)\n",
    "else:\n",
    "    # Concatenate all playlists as dictionary\n",
    "    n = len(playlists_full_by_user)\n",
    "\n",
    "    playlists_dict = {}\n",
    "    for i, playlist in enumerate(playlists_full_by_user):\n",
    "        if i % 100 == 0:\n",
    "            print(\"%s - %d/%d - LEN: %d\" % (datetime.datetime.now().strftime(format), i, n, len(playlists_dict)))\n",
    "\n",
    "        play_dict = get_playlist_detail(playlist)\n",
    "        playlists_dict.update({playlist['id']: play_dict})\n",
    "\n",
    "    print('Saved: ' + txt)\n",
    "    with open(data_path, 'wb') as f:\n",
    "        pickle.dump(playlists_dict, f)\n",
    "\n",
    "print(len(playlists_dict))  # CHECK WHY THE COUNT OF PLAYLISTS DECREASED: DUPLICATED PLAYLISTS"
   ]
  },
  {
   "cell_type": "code",
   "execution_count": null,
   "id": "6eb55721",
   "metadata": {
    "ExecuteTime": {
     "end_time": "2022-01-29T22:20:05.762296Z",
     "start_time": "2022-01-29T22:20:05.318431Z"
    }
   },
   "outputs": [],
   "source": [
    "cnt = []\n",
    "n = len(playlists_full_by_user)\n",
    "for i, playlist in enumerate(playlists_full_by_user):\n",
    "#     if i % 100 == 0:\n",
    "#         print(\"%s - %d/%d - LEN: %d\" % (datetime.datetime.now().strftime(format), i, n, len(playlists_full_by_user)))\n",
    "\n",
    "    play_dict = get_playlist_detail(playlist)\n",
    "    cnt.append(playlist['id'])\n",
    "    \n",
    "df = pd.DataFrame (cnt, columns = ['id'])\n",
    "count = pd.DataFrame(df.groupby('id').size(),columns=['cnt'])\n",
    "a = count.groupby('cnt').size()\n",
    "print(a)\n",
    "a.sum()"
   ]
  },
  {
   "cell_type": "markdown",
   "id": "dbcb85b9",
   "metadata": {},
   "source": [
    "## 2.3 Create dictionary for all Tracks"
   ]
  },
  {
   "cell_type": "code",
   "execution_count": null,
   "id": "0bae2557",
   "metadata": {
    "ExecuteTime": {
     "end_time": "2022-01-29T22:19:11.548440Z",
     "start_time": "2022-01-29T22:19:11.279881Z"
    },
    "run_control": {
     "marked": false
    }
   },
   "outputs": [],
   "source": [
    "gc.collect();\n",
    "# All tracks\n",
    "data_path = os.getcwd() + '\\\\data\\\\external\\\\raw_4_tracks_dict.pkl'\n",
    "txt = 'All tracks as a dictionary - ' + data_path\n",
    "\n",
    "if os.path.exists(data_path):\n",
    "    print('Loaded: ' + txt)\n",
    "    with open(data_path, 'rb') as f:\n",
    "        tracks_dict = pickle.load(f)\n",
    "else:\n",
    "    \n",
    "    # Extract the user and playlist IDs\n",
    "    tracks_dict = {}\n",
    "    for i, pid in enumerate(playlists_dict):\n",
    "        pl = playlists_dict.get(pid)\n",
    "        for j, tr in enumerate(pl['tracks']):\n",
    "            tid = tr['id']\n",
    "    #         print(str(pid)  + ':' + str(i) + ' - ' + str(tid) + ':' +str(j))\n",
    "            if tid not in tracks_dict.keys():\n",
    "                tr['in_playlist'] = [pid]\n",
    "                tracks_dict.update({tid: tr})\n",
    "            else:\n",
    "                curr_track = tracks_dict.get(tid)\n",
    "                curr_in_playlist = curr_track['in_playlist'].copy()\n",
    "                curr_in_playlist.append(pid)\n",
    "                tr['in_playlist'] = curr_in_playlist\n",
    "                tracks_dict.update({tid: tr})\n",
    "    #             .append(tid)\n",
    "    #             tr['in_playlist'].append(pid)\n",
    "\n",
    "    print('Saved: ' + txt)\n",
    "    with open(data_path, 'wb') as f:\n",
    "        pickle.dump(tracks_dict, f)\n",
    "\n",
    "print(len(tracks_dict))  # CHECK WHY THE COUNT OF PLAYLISTS DECREASED"
   ]
  },
  {
   "cell_type": "code",
   "execution_count": null,
   "id": "d1f5ad02",
   "metadata": {
    "ExecuteTime": {
     "end_time": "2022-01-29T22:19:11.564398Z",
     "start_time": "2022-01-29T22:19:11.550452Z"
    }
   },
   "outputs": [],
   "source": [
    "# cnt = []\n",
    "# n = len(playlists_full_by_user)\n",
    "# for i, pid in enumerate(playlists_dict):\n",
    "#         pl = playlists_dict.get(pid)\n",
    "#         for j, tr in enumerate(pl['tracks']):\n",
    "#             tid = tr['id']\n",
    "#             cnt.append(tid)\n",
    "    \n",
    "# df = pd.DataFrame (cnt, columns = ['id'])\n",
    "# count = pd.DataFrame(df.groupby('id').size(),columns=['cnt'])\n",
    "# a = count.groupby('cnt').size()\n",
    "# a.sum()"
   ]
  },
  {
   "cell_type": "markdown",
   "id": "6a1d80c0",
   "metadata": {},
   "source": [
    "## 2.4 Create dictionary for all Artists"
   ]
  },
  {
   "cell_type": "code",
   "execution_count": null,
   "id": "26ba91ca",
   "metadata": {
    "ExecuteTime": {
     "end_time": "2022-01-29T22:19:13.649989Z",
     "start_time": "2022-01-29T22:19:13.588153Z"
    }
   },
   "outputs": [],
   "source": [
    "gc.collect();\n",
    "# All artists\n",
    "data_path = os.getcwd() + '\\\\data\\\\external\\\\raw_5_artists_dict.pkl'\n",
    "txt = 'All artists as a dictionary - ' + data_path\n",
    "\n",
    "if os.path.exists(data_path):\n",
    "    print('Loaded: ' + txt)\n",
    "    with open(data_path, 'rb') as f:\n",
    "        artists_dict = pickle.load(f)\n",
    "else:\n",
    "    # Extract the user and playlist IDs\n",
    "    artists_dict = {}\n",
    "    stop = 1\n",
    "    for i, pid in enumerate(playlists_dict):\n",
    "        pl = playlists_dict.get(pid)\n",
    "        for j, tr in enumerate(pl['tracks']):\n",
    "            for k, art in enumerate(tr['artists']):\n",
    "                aid = art['id']\n",
    "                if aid not in artists_dict.keys():\n",
    "                    art['in_playlist'] = [pid]\n",
    "                    artists_dict.update({aid: art})\n",
    "                else:\n",
    "                    curr_artist = artists_dict.get(aid)\n",
    "#                     if stop ==1:\n",
    "#                         print(pid, tr, aid, curr_artist)\n",
    "#                     stop = 2\n",
    "                    curr_in_playlist = curr_artist['in_playlist'].copy()\n",
    "                    curr_in_playlist.append(pid)\n",
    "                    art['in_playlist'] = curr_in_playlist\n",
    "                    artists_dict.update({aid: art})\n",
    "                    \n",
    "    print('Saved: ' + txt)\n",
    "    with open(data_path, 'wb') as f:\n",
    "        pickle.dump(artists_dict, f)\n",
    "\n",
    "print(len(artists_dict))\n",
    "# artists_dict"
   ]
  },
  {
   "cell_type": "markdown",
   "id": "2dc7902f",
   "metadata": {},
   "source": [
    "## 3.5 Create dictionary for all Albums"
   ]
  },
  {
   "cell_type": "code",
   "execution_count": null,
   "id": "a5952fd6",
   "metadata": {
    "ExecuteTime": {
     "end_time": "2022-01-29T22:19:15.830900Z",
     "start_time": "2022-01-29T22:19:15.722687Z"
    },
    "run_control": {
     "marked": false
    }
   },
   "outputs": [],
   "source": [
    "gc.collect();\n",
    "# All albums\n",
    "data_path = os.getcwd() + '\\\\data\\\\external\\\\raw_6_albums_dict.pkl'\n",
    "txt = 'All albums as a dictionary - ' + data_path\n",
    "\n",
    "if os.path.exists(data_path):\n",
    "    print('Loaded: ' + txt)\n",
    "    with open(data_path, 'rb') as f:\n",
    "        albums_dict = pickle.load(f)\n",
    "else:\n",
    "    \n",
    "    # Extract the user and playlist IDs\n",
    "    albums_dict = {}\n",
    "    for i, pid in enumerate(playlists_dict):\n",
    "        pl = playlists_dict.get(pid)\n",
    "        for j, tr in enumerate(pl['tracks']):\n",
    "            alb = tr['album']\n",
    "            aid = alb['id']\n",
    "            if aid not in albums_dict.keys():\n",
    "                alb['in_playlist'] = [aid]\n",
    "                albums_dict.update({aid: alb})\n",
    "            else:\n",
    "                curr_album = albums_dict.get(aid)\n",
    "                curr_in_playlist = curr_album['in_playlist'].copy()\n",
    "                curr_in_playlist.append(pid)\n",
    "                alb['in_playlist'] = curr_in_playlist\n",
    "                albums_dict.update({aid: alb})\n",
    "\n",
    "    print('Saved: ' + txt)\n",
    "    with open(data_path, 'wb') as f:\n",
    "        pickle.dump(albums_dict, f)\n",
    "\n",
    "print(len(albums_dict))\n",
    "# albums_dict"
   ]
  }
 ],
 "metadata": {
  "hide_input": false,
  "kernelspec": {
   "display_name": "Python 3",
   "language": "python",
   "name": "python3"
  },
  "language_info": {
   "codemirror_mode": {
    "name": "ipython",
    "version": 3
   },
   "file_extension": ".py",
   "mimetype": "text/x-python",
   "name": "python",
   "nbconvert_exporter": "python",
   "pygments_lexer": "ipython3",
   "version": "3.8.10"
  },
  "toc": {
   "base_numbering": 1,
   "nav_menu": {},
   "number_sections": true,
   "sideBar": true,
   "skip_h1_title": false,
   "title_cell": "Table of Contents",
   "title_sidebar": "Contents",
   "toc_cell": false,
   "toc_position": {
    "height": "calc(100% - 180px)",
    "left": "10px",
    "top": "150px",
    "width": "384px"
   },
   "toc_section_display": true,
   "toc_window_display": false
  },
  "varInspector": {
   "cols": {
    "lenName": 16,
    "lenType": 16,
    "lenVar": 40
   },
   "kernels_config": {
    "python": {
     "delete_cmd_postfix": "",
     "delete_cmd_prefix": "del ",
     "library": "var_list.py",
     "varRefreshCmd": "print(var_dic_list())"
    },
    "r": {
     "delete_cmd_postfix": ") ",
     "delete_cmd_prefix": "rm(",
     "library": "var_list.r",
     "varRefreshCmd": "cat(var_dic_list()) "
    }
   },
   "types_to_exclude": [
    "module",
    "function",
    "builtin_function_or_method",
    "instance",
    "_Feature"
   ],
   "window_display": false
  }
 },
 "nbformat": 4,
 "nbformat_minor": 5
}
