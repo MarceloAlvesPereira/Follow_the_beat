{
 "cells": [
  {
   "cell_type": "code",
   "execution_count": null,
   "id": "11dd7a96",
   "metadata": {
    "ExecuteTime": {
     "end_time": "2022-01-05T04:16:10.308411Z",
     "start_time": "2022-01-05T04:16:09.711679Z"
    }
   },
   "outputs": [],
   "source": [
    "# import cProfile\n",
    "# import collections\n",
    "import datetime\n",
    "\n",
    "import os\n",
    "# import sys\n",
    "import time\n",
    "\n",
    "# import numpy as np\n",
    "import pandas as pd\n",
    "\n",
    "import pickle\n",
    "\n",
    "# from datetime import datetime\n",
    "# from dotenv import load_dotenv\n",
    "\n",
    "import gc\n",
    "\n",
    "pd.options.display.float_format = \"{:.2f}\".format\n",
    "# plt.rcParams.update({'font.size': 18})\n",
    "format = '%d/%m/%Y %H:%M'"
   ]
  },
  {
   "cell_type": "markdown",
   "id": "d82a9a7d",
   "metadata": {},
   "source": [
    "# 3. Concatenate all playlists"
   ]
  },
  {
   "cell_type": "markdown",
   "id": "4cac97fd",
   "metadata": {},
   "source": [
    "## 3.1 Raw playlists"
   ]
  },
  {
   "cell_type": "code",
   "execution_count": null,
   "id": "844ea1fc",
   "metadata": {
    "ExecuteTime": {
     "end_time": "2022-01-05T04:16:23.493138Z",
     "start_time": "2022-01-05T04:16:10.310367Z"
    }
   },
   "outputs": [],
   "source": [
    "# Concatenate all playlists\n",
    "data_path = os.getcwd() + '\\\\data\\\\external\\\\raw_2_playlists_full.pkl'\n",
    "txt = 'All playlists concatenated - ' + data_path\n",
    "if os.path.exists(data_path):\n",
    "    print('Loaded: ' + txt)\n",
    "    with open(data_path, 'rb') as f:\n",
    "        playlists_full_by_user = pickle.load(f)\n",
    "else:\n",
    "    print('Saved: ' + txt)\n",
    "    playlists_full_by_user = []\n",
    "    for i in range(0,100,1):\n",
    "        data_path_aux = os.getcwd() + '\\\\data\\\\external\\\\raw_2_playlists_' + str(i) + '.pkl'\n",
    "        if os.path.exists(data_path_aux):\n",
    "            print(data_path_aux)\n",
    "            with open(data_path_aux, 'rb') as f:\n",
    "                playlist = pickle.load(f)\n",
    "            playlists_full_by_user.extend(playlist)\n",
    "\n",
    "    with open(data_path, 'wb') as f:\n",
    "        pickle.dump(playlists_full_by_user, f)\n",
    "\n",
    "print(len(playlists_full_by_user))"
   ]
  },
  {
   "cell_type": "markdown",
   "id": "ad0a5e13",
   "metadata": {},
   "source": [
    "## 3.2 Playlist dictionary"
   ]
  },
  {
   "cell_type": "code",
   "execution_count": null,
   "id": "09417816",
   "metadata": {
    "ExecuteTime": {
     "end_time": "2022-01-05T04:16:23.508358Z",
     "start_time": "2022-01-05T04:16:23.495293Z"
    }
   },
   "outputs": [],
   "source": [
    "def get_artists(raw_artist):\n",
    "    artists = {}\n",
    "    for a in raw_artist:\n",
    "        artists.update({a['id']: {'id': a['id'],\n",
    "                'name': a['name']}})\n",
    "    return(artists);\n",
    "\n",
    "# a = get_artists(playlists_full_by_user[6]['tracks']['items'][2]['track']['album']['artists'])\n",
    "# a"
   ]
  },
  {
   "cell_type": "code",
   "execution_count": null,
   "id": "9644d4a5",
   "metadata": {
    "ExecuteTime": {
     "end_time": "2022-01-05T04:16:23.538956Z",
     "start_time": "2022-01-05T04:16:23.510518Z"
    }
   },
   "outputs": [],
   "source": [
    "def get_track_details(raw_track):\n",
    "    if raw_track['track'] is not None:\n",
    "        artists = get_artists(raw_track['track']['album']['artists'])\n",
    "        track = raw_track['track']\n",
    "        data = {track['id']:\n",
    "                    {\n",
    "                    'id': track['id'],\n",
    "                    'name': track['name'],\n",
    "                    'added_at': raw_track['added_at'],\n",
    "                    'popularity': track['popularity'],\n",
    "                    'artists': artists,\n",
    "\n",
    "                    'album': {\n",
    "                        'id': track['album']['id'],\n",
    "                        'name': track['album']['name'],\n",
    "                        'release_date': track['album']['release_date']\n",
    "                    }\n",
    "                    }\n",
    "                }\n",
    "        return(data);\n",
    "\n",
    "a = get_track_details(playlists_full_by_user[6]['tracks']['items'][82])\n",
    "a\n",
    "# a = get_track_details(playlists_full_by_user[6]['tracks']['items'][83])\n",
    "# playlists_full_by_user[6]['tracks']['items'][83]"
   ]
  },
  {
   "cell_type": "code",
   "execution_count": null,
   "id": "5b910526",
   "metadata": {
    "ExecuteTime": {
     "end_time": "2022-01-05T04:16:23.554915Z",
     "start_time": "2022-01-05T04:16:23.540951Z"
    }
   },
   "outputs": [],
   "source": [
    "def get_playlist_detail(playlist):\n",
    "    tracks = []\n",
    "    for i, item in enumerate(playlist['tracks']['items']):\n",
    "        if not(item['track'] is None or item['track']['id'] is None):\n",
    "            track = get_track_details(item)\n",
    "            tracks.append(track)\n",
    "\n",
    "    data = {playlist['id']:\n",
    "                {\n",
    "                'user_id': playlist['owner']['id'],\n",
    "                'playlist_id': playlist['id'],\n",
    "                'total_tracks': len(tracks),\n",
    "                'tracks': tracks\n",
    "                }\n",
    "        }\n",
    "\n",
    "    return(data);\n",
    "# t = get_playlist_detail(playlists_full_by_user[4])\n",
    "# t"
   ]
  },
  {
   "cell_type": "code",
   "execution_count": null,
   "id": "239b6013",
   "metadata": {
    "ExecuteTime": {
     "end_time": "2022-01-05T04:16:25.783429Z",
     "start_time": "2022-01-05T04:16:23.556910Z"
    },
    "run_control": {
     "marked": false
    }
   },
   "outputs": [],
   "source": [
    "# Concatenate all playlists\n",
    "data_path = os.getcwd() + '\\\\data\\\\external\\\\raw_3_playlists_dict.pkl'\n",
    "txt = 'All playlists as dictionary - ' + data_path\n",
    "if os.path.exists(data_path):\n",
    "    print('Loaded: ' + txt)\n",
    "    with open(data_path, 'rb') as f:\n",
    "        playlists_dict = pickle.load(f)\n",
    "else:\n",
    "    # Concatenate all playlists as dictionary\n",
    "    n = len(playlists_full_by_user)\n",
    "\n",
    "    playlists_dict = {}\n",
    "    for i, playlist in enumerate(playlists_full_by_user):\n",
    "        if i % 100 == 0:\n",
    "            print(\"%s - %d/%d - LEN: %d\" % (datetime.datetime.now().strftime(format), i, n, len(playlists_dict)))\n",
    "\n",
    "        play_dict = get_playlist_detail(playlist)\n",
    "        playlists_dict.update({playlist['id']: play_dict})\n",
    "\n",
    "    #     playlists_dict['7AU3xd5nGS3JT5ZVNcXBsM']\n",
    "    len(playlists_dict)  # CHECK WHY THE COUNT OF PLAYLISTS DECREASED\n",
    "    \n",
    "    print('Saved: ' + txt)\n",
    "    with open(data_path, 'wb') as f:\n",
    "        pickle.dump(playlists_dict, f)\n",
    "\n",
    "print(len(playlists_dict))  # CHECK WHY THE COUNT OF PLAYLISTS DECREASED"
   ]
  },
  {
   "cell_type": "code",
   "execution_count": null,
   "id": "28acc24c",
   "metadata": {
    "ExecuteTime": {
     "end_time": "2022-01-05T04:16:25.799387Z",
     "start_time": "2022-01-05T04:16:25.786421Z"
    }
   },
   "outputs": [],
   "source": [
    "# def get_artists(raw_artist):\n",
    "#     artists_id = []\n",
    "#     artists = []\n",
    "#     for a in raw_artist:\n",
    "#         artists_id.append(a['id'])\n",
    "#         artists.append(a['name'])\n",
    "        \n",
    "#     return(artists_id, artists);\n",
    "\n",
    "# a = get_artists(playlists_full_by_user[6]['tracks']['items'][2]['track']['album']['artists'])\n",
    "# a\n",
    "\n",
    "\n",
    "\n",
    "\n",
    "\n",
    "# 12149404267\n",
    "# 4jwLkSVrnathscvWtxy1Fa\n",
    "# # b['2E124GmJRnBJuXbTb4cPUB']\n",
    "\n",
    "\n",
    "\n",
    "# for j in range(1,2100,1):\n",
    "#     for k in playlists_full_by_user[j]['tracks']['items'][k]['track']['album']['artists']:\n",
    "#         print(k)\n",
    "#         print(j)\n",
    "#         print(k)\n",
    "#         a = get_artists(playlists_full_by_user[j]['tracks']['items'][k]['track']['album']['artists'])\n",
    "# a\n",
    "\n",
    "\n",
    "\n",
    "\n",
    "\n",
    "# for i, item in enumerate(playlists_full_by_user[8]['tracks']['items']):\n",
    "# #     if item['id'] == '2E124GmJRnBJuXbTb4cPUB':\n",
    "# #         print(i)\n",
    "    \n",
    "#         for a in item['track']:\n",
    "#             print(a)\n",
    "#             b = a\n",
    "            \n",
    "# #         print(item['id'])\n",
    "# #         print(playlists_full_by_user[i]['id'])"
   ]
  },
  {
   "cell_type": "markdown",
   "id": "dbcb85b9",
   "metadata": {},
   "source": [
    "## 3.3 Tracks dictionary"
   ]
  },
  {
   "cell_type": "code",
   "execution_count": null,
   "id": "0bae2557",
   "metadata": {
    "ExecuteTime": {
     "end_time": "2022-01-05T04:16:26.146717Z",
     "start_time": "2022-01-05T04:16:25.848255Z"
    },
    "run_control": {
     "marked": false
    }
   },
   "outputs": [],
   "source": [
    "# All tracks\n",
    "data_path = os.getcwd() + '\\\\data\\\\external\\\\raw_4_tracks_dict.pkl'\n",
    "txt = 'All tracks as a dictionary - ' + data_path\n",
    "\n",
    "if os.path.exists(data_path):\n",
    "    print('Loaded: ' + txt)\n",
    "    with open(data_path, 'rb') as f:\n",
    "        tracks_dict = pickle.load(f)\n",
    "else:\n",
    "    \n",
    "    # Extract the user and playlist IDs\n",
    "    tracks_dict = {}\n",
    "    for i, pid in enumerate(playlists_dict):\n",
    "        pl = playlists_dict.get(pid)\n",
    "        for j, tr in enumerate(pl['tracks']):\n",
    "            tid = tr['id']\n",
    "    #         print(str(pid)  + ':' + str(i) + ' - ' + str(tid) + ':' +str(j))\n",
    "            if tid not in tracks_dict.keys():\n",
    "                tr['in_playlist'] = [pid]\n",
    "                tracks_dict.update({tid: tr})\n",
    "            else:\n",
    "                curr_track = tracks_dict.get(tid)\n",
    "                curr_in_playlist = curr_track['in_playlist'].copy()\n",
    "                curr_in_playlist.append(pid)\n",
    "                tr['in_playlist'] = curr_in_playlist\n",
    "                tracks_dict.update({tid: tr})\n",
    "    #             .append(tid)\n",
    "    #             tr['in_playlist'].append(pid)\n",
    "\n",
    "    print('Saved: ' + txt)\n",
    "    with open(data_path, 'wb') as f:\n",
    "        pickle.dump(tracks_dict, f)\n",
    "\n",
    "print(len(tracks_dict))  # CHECK WHY THE COUNT OF PLAYLISTS DECREASED"
   ]
  },
  {
   "cell_type": "code",
   "execution_count": null,
   "id": "4cf7f7e5",
   "metadata": {
    "ExecuteTime": {
     "end_time": "2022-01-05T04:20:13.331110Z",
     "start_time": "2022-01-05T04:20:13.280617Z"
    }
   },
   "outputs": [],
   "source": [
    "a = playlists_dict.get('2iuTbpx2K4mMq3WNdkzj8Q')\n",
    "a"
   ]
  },
  {
   "cell_type": "code",
   "execution_count": null,
   "id": "d1f5ad02",
   "metadata": {
    "ExecuteTime": {
     "end_time": "2022-01-05T04:21:03.718945Z",
     "start_time": "2022-01-05T04:21:03.712931Z"
    }
   },
   "outputs": [],
   "source": [
    "a['tracks'][0]\n",
    "# b = a['playlist_id'].get('5KawlOMHjWeUjQtnuRs22c')\n",
    "# b\n",
    "# print(len(a['tracks']))"
   ]
  },
  {
   "cell_type": "markdown",
   "id": "6a1d80c0",
   "metadata": {},
   "source": [
    "## 3.4 Artists dictionary"
   ]
  },
  {
   "cell_type": "code",
   "execution_count": null,
   "id": "d9590543",
   "metadata": {
    "ExecuteTime": {
     "end_time": "2022-01-05T04:16:28.203239Z",
     "start_time": "2022-01-05T04:16:26.147719Z"
    }
   },
   "outputs": [],
   "source": [
    "gc.collect()"
   ]
  },
  {
   "cell_type": "code",
   "execution_count": null,
   "id": "26ba91ca",
   "metadata": {
    "ExecuteTime": {
     "end_time": "2022-01-05T04:16:28.219195Z",
     "start_time": "2022-01-05T04:16:28.207228Z"
    }
   },
   "outputs": [],
   "source": [
    "# len(playlists_dict)\n",
    "# for item in playlists_dict:\n",
    "#     print(item)"
   ]
  },
  {
   "cell_type": "code",
   "execution_count": null,
   "id": "3b547680",
   "metadata": {
    "ExecuteTime": {
     "end_time": "2022-01-05T04:16:28.267064Z",
     "start_time": "2022-01-05T04:16:28.221192Z"
    }
   },
   "outputs": [],
   "source": [
    "# a = playlists_dict.get('2iuTbpx2K4mMq3WNdkzj8Q')\n",
    "# a = playlists_dict.get('4jwLkSVrnathscvWtxy1Fa')\n",
    "# a\n",
    "\n",
    "# print(len(a))\n",
    "# b = a['tracks']\n",
    "# 12149404267\n",
    "# 4jwLkSVrnathscvWtxy1Fa\n",
    "# b['2E124GmJRnBJuXbTb4cPUB']\n",
    "\n",
    "# c = b['artists_id'][0]\n",
    "# c"
   ]
  },
  {
   "cell_type": "code",
   "execution_count": null,
   "id": "ae813d8b",
   "metadata": {
    "ExecuteTime": {
     "end_time": "2022-01-05T04:16:28.566469Z",
     "start_time": "2022-01-05T04:16:28.269059Z"
    },
    "run_control": {
     "marked": true
    }
   },
   "outputs": [],
   "source": [
    "# All artists\n",
    "data_path = os.getcwd() + '\\\\data\\\\external\\\\raw_5_artists_dict.pkl'\n",
    "txt = 'All artists as a dictionary - '\n",
    "\n",
    "if os.path.exists(data_path):\n",
    "    print(txt + 'Loaded:' + data_path)\n",
    "    with open(data_path, 'rb') as f:\n",
    "        artists_dict = pickle.load(f)\n",
    "else:\n",
    "    # Extract the user and playlist IDs\n",
    "    artists_dict = {}\n",
    "    for i, pid in enumerate(playlists_dict):\n",
    "        pl = playlists_dict.get(pid)\n",
    "        for j, tr in enumerate(pl['tracks']):\n",
    "#             print(j)\n",
    "#             print(tr)\n",
    "#             print(tr['artists'])\n",
    "#             print()\n",
    "#             for art in tr['artists']:\n",
    "                if i == 1:\n",
    "                    print(k)\n",
    "                    print(art)\n",
    "#                 aid = a['id'][k]\n",
    "#                 art = tr['name'][k]\n",
    "      #         print(str(pid)  + ':' + str(i) + ' - ' + str(tid) + ':' +str(j))\n",
    "                if art['id'] not in artists_dict.keys():\n",
    "                    art['in_playlist']: [pid]\n",
    "                    artists_dict.update({aid: art})\n",
    "                else:\n",
    "                    curr_artist = artists_dict.get(aid)\n",
    "                    curr_in_playlist = curr_artist['in_playlist'].copy()\n",
    "#                     curr_in_playlist.append(pid)\n",
    "#                     tr['in_playlist'] = curr_in_playlist\n",
    "#                     artists_dict.update({tid: tr})\n",
    "    #             .append(tid)\n",
    "    #             tr['in_playlist'].append(pid)\n",
    "    \n",
    "#         print(txt + 'Saved:' + data_path)\n",
    "#         with open(data_path, 'wb') as f:\n",
    "#             pickle.dump(tracks_dict, f)\n",
    "\n",
    "len(tracks_dict)"
   ]
  },
  {
   "cell_type": "markdown",
   "id": "2dc7902f",
   "metadata": {},
   "source": [
    "## 3.4 Albums dictionary"
   ]
  },
  {
   "cell_type": "code",
   "execution_count": null,
   "id": "a5387236",
   "metadata": {
    "ExecuteTime": {
     "end_time": "2022-01-05T04:16:28.572416Z",
     "start_time": "2022-01-05T04:16:09.696Z"
    },
    "run_control": {
     "marked": true
    }
   },
   "outputs": [],
   "source": [
    "# a = playlists_dict.get('2iuTbpx2K4mMq3WNdkzj8Q')\n",
    "# # b = a.get('5KawlOMHjWeUjQtnuRs22c')\n",
    "# print(len(a['tracks']))\n",
    "# # a"
   ]
  },
  {
   "cell_type": "code",
   "execution_count": null,
   "id": "a5952fd6",
   "metadata": {
    "ExecuteTime": {
     "end_time": "2022-01-05T04:16:28.574411Z",
     "start_time": "2022-01-05T04:16:09.698Z"
    },
    "run_control": {
     "marked": true
    }
   },
   "outputs": [],
   "source": [
    "# Extract the user and playlist IDs\n",
    "albums_dict = {}\n",
    "for i, pid in enumerate(playlists_dict):\n",
    "    pl = playlists_dict.get(pid)\n",
    "    for j, tr in enumerate(pl['albums']):\n",
    "        tid = tr['album_id']\n",
    "        curr_in_playlist = []\n",
    "#         print(str(pid)  + ':' + str(i) + ' - ' + str(tid) + ':' +str(j))\n",
    "        if tid not in albums_dict.keys():\n",
    "            tr['in_playlist'] = [pid]\n",
    "            albums_dict.update({tid: tr})\n",
    "        else:\n",
    "            curr_album = albums_dict.get(tid)\n",
    "            curr_in_playlist = curr_album['in_playlist'].copy()\n",
    "            curr_in_playlist.append(pid)\n",
    "            tr['in_playlist'] = curr_in_playlist\n",
    "            albums_dict.update({tid: tr})\n",
    "#             .append(tid)\n",
    "#             tr['in_playlist'].append(pid)\n",
    "\n",
    "len(albums_dict)"
   ]
  },
  {
   "cell_type": "markdown",
   "id": "1d692536",
   "metadata": {},
   "source": [
    "# Ranking"
   ]
  },
  {
   "cell_type": "code",
   "execution_count": null,
   "id": "0aa1148f",
   "metadata": {
    "ExecuteTime": {
     "end_time": "2022-01-05T04:16:28.575419Z",
     "start_time": "2022-01-05T04:16:09.701Z"
    }
   },
   "outputs": [],
   "source": [
    "# tracks_rank = df_track.groupby(['tracks_id','tracks']).agg(\n",
    "#     popularity=('popularity','max'),\n",
    "#     tracks_count=('tracks_id','count')\n",
    "#     )\n",
    "\n",
    "# min_max = MinMaxScaler()\n",
    "# tracks_rank['count_scaled'] = min_max.fit_transform(tracks_rank[[\"tracks_count\"]])\n",
    "\n",
    "# tracks_rank[\"rank\"] = tracks_rank['tracks_count'].rank(method='average',ascending=False)\n",
    "\n",
    "# tracks_rank = tracks_rank.sort_values('tracks_count',ascending=False)\n",
    "\n",
    "# tracks_rank"
   ]
  },
  {
   "cell_type": "code",
   "execution_count": null,
   "id": "3ea81952",
   "metadata": {
    "ExecuteTime": {
     "end_time": "2022-01-05T04:16:28.577405Z",
     "start_time": "2022-01-05T04:16:09.703Z"
    }
   },
   "outputs": [],
   "source": [
    "# album_rank = df_album.groupby(['albums_id','albums']).agg(album_count=('albums_id','count'))\n",
    "\n",
    "# min_max = MinMaxScaler()\n",
    "# album_rank['count_scaled'] = min_max.fit_transform(album_rank[[\"album_count\"]])\n",
    "\n",
    "# album_rank[\"rank\"] = album_rank['album_count'].rank(method='average',ascending=False)\n",
    "\n",
    "# album_rank = album_rank.sort_values('album_count',ascending=False)\n",
    "\n",
    "# album_rank"
   ]
  },
  {
   "cell_type": "code",
   "execution_count": null,
   "id": "0a2cfd57",
   "metadata": {
    "ExecuteTime": {
     "end_time": "2022-01-05T04:16:28.579399Z",
     "start_time": "2022-01-05T04:16:09.704Z"
    }
   },
   "outputs": [],
   "source": [
    "# df_artist.head\n",
    "# artist_rank = df_artist.groupby(['artists_id','artists']).agg(artist_count=('artists_id','count'))\n",
    "\n",
    "# min_max = MinMaxScaler()\n",
    "# artist_rank['count_scaled'] = min_max.fit_transform(artist_rank[[\"artist_count\"]])\n",
    "\n",
    "# artist_rank[\"rank\"] = artist_rank['artist_count'].rank(method='average',ascending=False)\n",
    "\n",
    "# artist_rank = artist_rank.sort_values('artist_count',ascending=False)\n",
    "\n",
    "# artist_rank"
   ]
  },
  {
   "cell_type": "code",
   "execution_count": null,
   "id": "3ef7168a",
   "metadata": {},
   "outputs": [],
   "source": []
  },
  {
   "cell_type": "code",
   "execution_count": null,
   "id": "45f65e94",
   "metadata": {
    "ExecuteTime": {
     "end_time": "2022-01-05T04:16:28.581394Z",
     "start_time": "2022-01-05T04:16:09.707Z"
    }
   },
   "outputs": [],
   "source": [
    "# tracks_cartesian = []\n",
    "# for element in itertools.product(s_tracks_id,s_tracks_id):\n",
    "#     tracks_cartesian.append(element)\n",
    "\n",
    "# https://stackoverflow.com/questions/11144513/cartesian-product-of-x-and-y-array-points-into-single-array-of-2d-points\n",
    "# def cartesian_product(*arrays):\n",
    "#     la = len(arrays)\n",
    "#     dtype = np.result_type(*arrays)\n",
    "#     arr = np.empty([len(a) for a in arrays] + [la], dtype=dtype)\n",
    "#     for i, a in enumerate(numpy.ix_(*arrays)):\n",
    "#         arr[...,i] = a\n",
    "#     return arr.reshape(-1, la)\n",
    "\n",
    "\n",
    "# # tracks_cartesian = cartesian_product(*(s_tracks_id * 2))"
   ]
  },
  {
   "cell_type": "code",
   "execution_count": null,
   "id": "ddaa6997",
   "metadata": {
    "ExecuteTime": {
     "end_time": "2022-01-05T04:16:28.583388Z",
     "start_time": "2022-01-05T04:16:09.709Z"
    }
   },
   "outputs": [],
   "source": [
    "# for key, item in df_test.items():\n",
    "#     print(key)\n",
    "#     if key == 'tracks_id':\n",
    "#         print(item)"
   ]
  },
  {
   "cell_type": "code",
   "execution_count": null,
   "id": "43cd28aa",
   "metadata": {
    "ExecuteTime": {
     "end_time": "2022-01-05T04:16:28.584384Z",
     "start_time": "2022-01-05T04:16:09.713Z"
    }
   },
   "outputs": [],
   "source": [
    "# # Define count_entries()\n",
    "# def count_entries(csv_file,c_size,colname):\n",
    "#     \"\"\"Return a dictionary with counts of\n",
    "#     occurrences as value for each key.\"\"\"\n",
    "    \n",
    "#     # Initialize an empty dictionary: counts_dict\n",
    "#     counts_dict = {}\n",
    "\n",
    "#     # Iterate over the file chunk by chunk\n",
    "#     for chunk in pd.read_csv(csv_file,chunksize=c_size):\n",
    "\n",
    "#         # Iterate over the column in DataFrame\n",
    "#         for entry in chunk[colname]:\n",
    "#             if entry in counts_dict.keys():\n",
    "#                 counts_dict[entry] += 1\n",
    "#             else:\n",
    "#                 counts_dict[entry] = 1\n",
    "\n",
    "#     # Return counts_dict\n",
    "#     return counts_dict\n",
    "\n",
    "# # Call count_entries(): result_counts\n",
    "# result_counts = count_entries('tweets.csv',10,'lang')\n",
    "\n",
    "# # Print result_counts\n",
    "# print(result_counts)\n"
   ]
  },
  {
   "cell_type": "code",
   "execution_count": null,
   "id": "65338a71",
   "metadata": {},
   "outputs": [],
   "source": []
  },
  {
   "cell_type": "code",
   "execution_count": null,
   "id": "846f1cfb",
   "metadata": {
    "ExecuteTime": {
     "end_time": "2022-01-05T04:16:28.586408Z",
     "start_time": "2022-01-05T04:16:09.718Z"
    }
   },
   "outputs": [],
   "source": [
    "# a = playlists_full_by_user[0]\n",
    "# pid = a['id']\n",
    "# owner = a['owner']\n",
    "# tracks = a['tracks']\n",
    "\n",
    "# track = tracks['items'][0]['track']['album']\n",
    "# track\n",
    "# # type(track[0])\n",
    "# # artist =track[0]\n",
    "# for i, feat in enumerate(track):\n",
    "#     print(feat)\n",
    "# #     print(type(feat))\n",
    "# #     print()\n",
    "\n",
    "# m = playlists_full_by_user[83]\n",
    "# # m\n",
    "# # n = m['tracks']['items']\n",
    "# # n\n",
    "# p = n[2]['track']\n",
    "# p['']['name']\n",
    "\n",
    "# # a = playlists_full_by_user[6]['tracks']['items']\n",
    "# # a[0]['track']['album']['artists']\n",
    "# # for i in range(83,200,1):\n",
    "# #     print (i)\n",
    "# #     print(a[i]['track']['album']['artists'])\n",
    "\n",
    "\n",
    "# # for a in m:\n",
    "# #     print(a)\n",
    "# # m['items']\n",
    "# # p = n[2]['track']['album']['artists']\n",
    "# # print(p)"
   ]
  }
 ],
 "metadata": {
  "hide_input": false,
  "kernelspec": {
   "display_name": "Python 3",
   "language": "python",
   "name": "python3"
  },
  "language_info": {
   "codemirror_mode": {
    "name": "ipython",
    "version": 3
   },
   "file_extension": ".py",
   "mimetype": "text/x-python",
   "name": "python",
   "nbconvert_exporter": "python",
   "pygments_lexer": "ipython3",
   "version": "3.8.10"
  },
  "toc": {
   "base_numbering": 1,
   "nav_menu": {},
   "number_sections": true,
   "sideBar": true,
   "skip_h1_title": false,
   "title_cell": "Table of Contents",
   "title_sidebar": "Contents",
   "toc_cell": false,
   "toc_position": {
    "height": "calc(100% - 180px)",
    "left": "10px",
    "top": "150px",
    "width": "384px"
   },
   "toc_section_display": true,
   "toc_window_display": true
  },
  "varInspector": {
   "cols": {
    "lenName": 16,
    "lenType": 16,
    "lenVar": 40
   },
   "kernels_config": {
    "python": {
     "delete_cmd_postfix": "",
     "delete_cmd_prefix": "del ",
     "library": "var_list.py",
     "varRefreshCmd": "print(var_dic_list())"
    },
    "r": {
     "delete_cmd_postfix": ") ",
     "delete_cmd_prefix": "rm(",
     "library": "var_list.r",
     "varRefreshCmd": "cat(var_dic_list()) "
    }
   },
   "types_to_exclude": [
    "module",
    "function",
    "builtin_function_or_method",
    "instance",
    "_Feature"
   ],
   "window_display": false
  }
 },
 "nbformat": 4,
 "nbformat_minor": 5
}
