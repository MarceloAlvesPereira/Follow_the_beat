{
 "cells": [
  {
   "cell_type": "markdown",
   "id": "c1fc4610",
   "metadata": {},
   "source": [
    "https://developer.spotify.com/documentation/web-api/\n",
    "https://developer.spotify.com/\n",
    "https://developer.spotify.com/dashboard/login"
   ]
  },
  {
   "cell_type": "markdown",
   "id": "11ff3b63",
   "metadata": {},
   "source": [
    "**Objectives:**\n",
    "- recommend the next song for an user base on his current playlist\n",
    "\n",
    "**Assumptions:**\n",
    "- tracks of a given playlist are the favorite songs of the user\n",
    "\n",
    "**Methodology:**\n",
    "1. Collaborative filtering\n",
    "2. Initial sample for each user will take 70% of the tracks in the playlist (check if the sorting of the musics in the playlist has any information - date of inclusion, user sorting, etc) and then use the remaining 30% of the tracks as test.\n",
    "3. **If we have time:** Hybrid model by adding *Content based filtering* for playlists with few tracks\n",
    "    - Track features: genre, time, top_track, etc.\n",
    "**Concerns:**\n",
    "- cold start: playlists with few tracks\n",
    "- rare tracks: treatment to be applied to the tracks with low frequency on the database\n",
    "- only positive rating: we will have only tracks that the user liked, we do not have any data about tracks that they did not like.\n",
    "\n",
    "\n",
    "**Python Libraries:**\n",
    "- Sagemaker\n",
    "- Elasticsearch\n",
    "- PySpark"
   ]
  },
  {
   "cell_type": "code",
   "execution_count": 1,
   "id": "11dd7a96",
   "metadata": {
    "ExecuteTime": {
     "end_time": "2021-10-16T17:02:15.210873Z",
     "start_time": "2021-10-16T17:02:12.435512Z"
    }
   },
   "outputs": [],
   "source": [
    "# Default libraries: pandas, numpy\n",
    "# import beakerx\n",
    "import cProfile\n",
    "import collections\n",
    "import datetime\n",
    "\n",
    "import feather\n",
    "import itertools\n",
    "import math\n",
    "import os\n",
    "import pickle\n",
    "import sys\n",
    "import time\n",
    "\n",
    "import matplotlib.pyplot as plt\n",
    "import numpy as np\n",
    "import pandas as pd\n",
    "import seaborn as sns\n",
    "# import urbangrammar_graphics as ugg\n",
    "\n",
    "from IPython.display import Markdown as md\n",
    "from collections import Counter\n",
    "from clustergram import Clustergram\n",
    "from datetime import datetime\n",
    "from dotenv import load_dotenv\n",
    "from itertools import groupby\n",
    "\n",
    "from sklearn import __version__ as sklearn_version\n",
    "from sklearn.decomposition import PCA\n",
    "from sklearn.dummy import DummyRegressor\n",
    "from sklearn.ensemble import RandomForestClassifier, RandomForestRegressor, AdaBoostClassifier, BaggingClassifier\n",
    "from sklearn.feature_selection import SelectKBest, f_regression\n",
    "from sklearn.impute import SimpleImputer\n",
    "from sklearn.linear_model import LinearRegression, LogisticRegression\n",
    "from sklearn.metrics import mean_squared_error, mean_absolute_error, accuracy_score, classification_report\n",
    "from sklearn.model_selection import train_test_split, cross_validate, learning_curve, GridSearchCV, RandomizedSearchCV, GridSearchCV\n",
    "from sklearn.neighbors import KNeighborsClassifier\n",
    "from sklearn.pipeline import make_pipeline\n",
    "from sklearn.preprocessing import scale, StandardScaler, MinMaxScaler, RobustScaler\n",
    "from sklearn.tree import DecisionTreeClassifier\n",
    "\n",
    "from xgboost import XGBClassifier\n",
    "\n",
    "pd.options.display.float_format = \"{:.2f}\".format\n",
    "# plt.rcParams.update({'font.size': 18})"
   ]
  },
  {
   "cell_type": "code",
   "execution_count": 2,
   "id": "1f332f6b",
   "metadata": {
    "ExecuteTime": {
     "end_time": "2021-10-16T17:02:16.937440Z",
     "start_time": "2021-10-16T17:02:16.928468Z"
    }
   },
   "outputs": [],
   "source": [
    "def single_list(my_list):\n",
    "    single = []\n",
    "    for e in my_list:\n",
    "        single.extend(e)\n",
    "    return single\n",
    "\n",
    "def single_list_nested(my_list):\n",
    "    single = []\n",
    "    for e in my_list:\n",
    "        for a in e:\n",
    "            single.extend(a)\n",
    "    return single\n",
    "\n",
    "def sorted_list(xs):\n",
    "    counts = collections.defaultdict(int)\n",
    "    for x in xs:\n",
    "        counts[x] += 1\n",
    "    return sorted(counts.items(), reverse=True, key=lambda tup: tup[1])"
   ]
  },
  {
   "cell_type": "code",
   "execution_count": 3,
   "id": "bd20da23",
   "metadata": {
    "ExecuteTime": {
     "end_time": "2021-10-16T17:02:19.102105Z",
     "start_time": "2021-10-16T17:02:18.504494Z"
    },
    "scrolled": true
   },
   "outputs": [
    {
     "name": "stdout",
     "output_type": "stream",
     "text": [
      "<class 'pandas.core.frame.DataFrame'>\n",
      "RangeIndex: 2450 entries, 0 to 2449\n",
      "Data columns (total 9 columns):\n",
      " #   Column       Non-Null Count  Dtype \n",
      "---  ------       --------------  ----- \n",
      " 0   user_id      2450 non-null   object\n",
      " 1   playlist_id  2450 non-null   object\n",
      " 2   tracks_id    2450 non-null   object\n",
      " 3   tracks       2450 non-null   object\n",
      " 4   popularity   2450 non-null   object\n",
      " 5   artists_id   2450 non-null   object\n",
      " 6   artists      2450 non-null   object\n",
      " 7   albums_id    2450 non-null   object\n",
      " 8   albums       2450 non-null   object\n",
      "dtypes: object(9)\n",
      "memory usage: 172.4+ KB\n",
      "None\n"
     ]
    }
   ],
   "source": [
    "data_path = os.getcwd() + '\\\\data\\\\external\\\\raw_data.pkl'\n",
    "df = pd.read_pickle(data_path)\n",
    "print(df.info())\n",
    "\n",
    "# total = 0\n",
    "# idx = 0\n",
    "# while total < 10000:\n",
    "# #     print(len(df.iloc[idx, 2]))\n",
    "    \n",
    "#     total = total + len(df.iloc[idx, 2])\n",
    "#     idx = idx + 1\n",
    "# #     len(df.iloc[0:n, :])\n",
    "# print(idx)"
   ]
  },
  {
   "cell_type": "code",
   "execution_count": 48,
   "id": "24639d5d",
   "metadata": {
    "ExecuteTime": {
     "end_time": "2021-10-16T17:55:13.034765Z",
     "start_time": "2021-10-16T17:54:57.827253Z"
    }
   },
   "outputs": [
    {
     "name": "stdout",
     "output_type": "stream",
     "text": [
      "<class 'pandas.core.frame.DataFrame'>\n",
      "RangeIndex: 100 entries, 0 to 99\n",
      "Data columns (total 9 columns):\n",
      " #   Column       Non-Null Count  Dtype \n",
      "---  ------       --------------  ----- \n",
      " 0   user_id      100 non-null    object\n",
      " 1   playlist_id  100 non-null    object\n",
      " 2   tracks_id    100 non-null    object\n",
      " 3   tracks       100 non-null    object\n",
      " 4   popularity   100 non-null    object\n",
      " 5   artists_id   100 non-null    object\n",
      " 6   artists      100 non-null    object\n",
      " 7   albums_id    100 non-null    object\n",
      " 8   albums       100 non-null    object\n",
      "dtypes: object(9)\n",
      "memory usage: 7.2+ KB\n",
      "None\n"
     ]
    }
   ],
   "source": [
    "# matrix track x track\n",
    "idx = 100\n",
    "df_test = df.iloc[0:idx, :]\n",
    "# df_test = df\n",
    "\n",
    "print(df_test.info())\n",
    "\n",
    "s_tracks_id = single_list(df_test['tracks_id'])\n",
    "data = {'tracks_id': s_tracks_id}\n",
    "df_track = pd.DataFrame(data)\n",
    "\n",
    "tracks_rank = df_track.groupby(['tracks_id']).agg(\n",
    "    tracks_count=('tracks_id','count')\n",
    "    )\n",
    "tracks_rank = tracks_rank.sort_values('tracks_count',ascending=False)\n",
    "\n",
    "# tracks_rank\n",
    "\n",
    "\n",
    "# s_tracks_id = list(set(single_list(df_test['tracks_id'])))\n",
    "# s_tracks_id = list(set(single_list(df['tracks_id'])))\n",
    "s_tracks_id = list(tracks_rank.index)\n",
    "# print(len(s_tracks_id))\n",
    "# s_tracks = single_list(df_test['tracks'])\n",
    "\n",
    "shape = [len(s_tracks_id),len(s_tracks_id)]\n",
    "track_matrix = np.zeros(shape, dtype=int, order='C')\n",
    "\n",
    "for i, row_track in enumerate(s_tracks_id):\n",
    "    row = s_tracks_id.index(row_track)\n",
    "    if i != row: print(\"i: \" + str(i) + \": \" + row_track), print()\n",
    "    \n",
    "    \n",
    "    for playlist in df_test['tracks_id']:\n",
    "        try:\n",
    "            check = playlist.index(row_track)\n",
    "        except ValueError:\n",
    "#             print(row)\n",
    "            check = -1\n",
    "        if check >= 0:\n",
    "            for col_track in playlist:\n",
    "                if col_track is not None:\n",
    "                    col = s_tracks_id.index(col_track)\n",
    "#                     print(col_track  + \" - \" + str(col))\n",
    "#                     tr = df_test['tracks'][n][col]\n",
    "#                     print(\"track: \" + str(n) + \": \" + col_track + \" - col_match:\" + str(col) + \": \") # + tr)\n",
    "                    track_matrix[row, col] += 1\n",
    "# print(track_matrix)"
   ]
  },
  {
   "cell_type": "code",
   "execution_count": 49,
   "id": "f00f1dcf",
   "metadata": {
    "ExecuteTime": {
     "end_time": "2021-10-16T17:55:18.025344Z",
     "start_time": "2021-10-16T17:55:18.011526Z"
    }
   },
   "outputs": [
    {
     "data": {
      "text/plain": [
       "array([[15, 11, 11, ...,  0,  0,  0],\n",
       "       [11, 15,  9, ...,  0,  0,  0],\n",
       "       [11,  9, 15, ...,  0,  0,  0],\n",
       "       ...,\n",
       "       [ 0,  0,  0, ...,  1,  0,  1],\n",
       "       [ 0,  0,  0, ...,  0,  1,  0],\n",
       "       [ 0,  0,  0, ...,  1,  0,  1]])"
      ]
     },
     "execution_count": 49,
     "metadata": {},
     "output_type": "execute_result"
    }
   ],
   "source": [
    "track_matrix"
   ]
  },
  {
   "cell_type": "code",
   "execution_count": 50,
   "id": "1e3b733c",
   "metadata": {
    "ExecuteTime": {
     "end_time": "2021-10-16T17:55:25.399340Z",
     "start_time": "2021-10-16T17:55:25.386777Z"
    }
   },
   "outputs": [
    {
     "name": "stdout",
     "output_type": "stream",
     "text": [
      "                        tracks_count\n",
      "tracks_id                           \n",
      "10Igtw8bSDyyFs7KIsKngZ            15\n",
      "2G7V7zsVDxg1yRsu7Ew9RJ            15\n",
      "09IStsImFySgyp0pIQdqAc            15\n",
      "58q2HKrzhC3ozto2nDdN4z            14\n",
      "2xLMifQCjDGFmkHkpNLD9h            14\n",
      "...                              ...\n",
      "76JvOYjETbnJ5NynteH27v             1\n",
      "2wTxJWt2gA9a1Z94dTnPiI             1\n",
      "0GHwNr0lqf8jpc9wesmnHo             1\n",
      "7mXKTWCKBpohAIgw25vTl5             1\n",
      "7KmzW7UbwR6A55r41gm6Ql             1\n",
      "\n",
      "[3006 rows x 1 columns]\n",
      "tracks_count\n"
     ]
    }
   ],
   "source": [
    "print(tracks_rank)\n",
    "n_rows, n_cols = track_matrix.shape\n",
    "\n",
    "for track in tracks_rank:\n",
    "#     if i == 1:\n",
    "        print(track)\n",
    "#     if track_matrix[i][i] != track_matrix[i][i]:\n",
    "#             print(\"Difference: \" + str(i) + \", \" + str(j))"
   ]
  },
  {
   "cell_type": "code",
   "execution_count": 51,
   "id": "ae246790",
   "metadata": {
    "ExecuteTime": {
     "end_time": "2021-10-16T17:55:43.133150Z",
     "start_time": "2021-10-16T17:55:40.226562Z"
    }
   },
   "outputs": [],
   "source": [
    "n_rows, n_cols = track_matrix.shape\n",
    "for i in range(0,n_rows):\n",
    "    for j in range(i,n_cols):\n",
    "        if track_matrix[i][j] != track_matrix[j][i]:\n",
    "            print(\"Difference: \" + str(i) + \", \" + str(j))\n",
    "# for i, in enumerate(track_matrix):\n",
    "#     for j,col in enumerate(row):\n",
    "#         if "
   ]
  },
  {
   "cell_type": "code",
   "execution_count": 52,
   "id": "8120758f",
   "metadata": {
    "ExecuteTime": {
     "end_time": "2021-10-16T17:55:46.813844Z",
     "start_time": "2021-10-16T17:55:46.786943Z"
    }
   },
   "outputs": [
    {
     "name": "stdout",
     "output_type": "stream",
     "text": [
      "[1250 1190  990 ...   30   25   30]\n",
      "[1250 1190  990 ...   30   25   30]\n"
     ]
    }
   ],
   "source": [
    "column_sums = track_matrix.sum(axis=0)\n",
    "row_sums = track_matrix.sum(axis=1)\n",
    "\n",
    "print(column_sums)\n",
    "print(row_sums)"
   ]
  },
  {
   "cell_type": "code",
   "execution_count": 56,
   "id": "805f9048",
   "metadata": {
    "ExecuteTime": {
     "end_time": "2021-10-16T17:57:12.562004Z",
     "start_time": "2021-10-16T17:57:12.506138Z"
    }
   },
   "outputs": [
    {
     "ename": "KeyError",
     "evalue": "0",
     "output_type": "error",
     "traceback": [
      "\u001b[1;31m---------------------------------------------------------------------------\u001b[0m",
      "\u001b[1;31mKeyError\u001b[0m                                  Traceback (most recent call last)",
      "\u001b[1;32mC:\\ProgramData\\Anaconda3\\lib\\site-packages\\pandas\\core\\indexes\\base.py\u001b[0m in \u001b[0;36mget_loc\u001b[1;34m(self, key, method, tolerance)\u001b[0m\n\u001b[0;32m   3080\u001b[0m             \u001b[1;32mtry\u001b[0m\u001b[1;33m:\u001b[0m\u001b[1;33m\u001b[0m\u001b[1;33m\u001b[0m\u001b[0m\n\u001b[1;32m-> 3081\u001b[1;33m                 \u001b[1;32mreturn\u001b[0m \u001b[0mself\u001b[0m\u001b[1;33m.\u001b[0m\u001b[0m_engine\u001b[0m\u001b[1;33m.\u001b[0m\u001b[0mget_loc\u001b[0m\u001b[1;33m(\u001b[0m\u001b[0mcasted_key\u001b[0m\u001b[1;33m)\u001b[0m\u001b[1;33m\u001b[0m\u001b[1;33m\u001b[0m\u001b[0m\n\u001b[0m\u001b[0;32m   3082\u001b[0m             \u001b[1;32mexcept\u001b[0m \u001b[0mKeyError\u001b[0m \u001b[1;32mas\u001b[0m \u001b[0merr\u001b[0m\u001b[1;33m:\u001b[0m\u001b[1;33m\u001b[0m\u001b[1;33m\u001b[0m\u001b[0m\n",
      "\u001b[1;32mpandas\\_libs\\index.pyx\u001b[0m in \u001b[0;36mpandas._libs.index.IndexEngine.get_loc\u001b[1;34m()\u001b[0m\n",
      "\u001b[1;32mpandas\\_libs\\index.pyx\u001b[0m in \u001b[0;36mpandas._libs.index.IndexEngine.get_loc\u001b[1;34m()\u001b[0m\n",
      "\u001b[1;32mpandas\\_libs\\hashtable_class_helper.pxi\u001b[0m in \u001b[0;36mpandas._libs.hashtable.PyObjectHashTable.get_item\u001b[1;34m()\u001b[0m\n",
      "\u001b[1;32mpandas\\_libs\\hashtable_class_helper.pxi\u001b[0m in \u001b[0;36mpandas._libs.hashtable.PyObjectHashTable.get_item\u001b[1;34m()\u001b[0m\n",
      "\u001b[1;31mKeyError\u001b[0m: 0",
      "\nThe above exception was the direct cause of the following exception:\n",
      "\u001b[1;31mKeyError\u001b[0m                                  Traceback (most recent call last)",
      "\u001b[1;32m<ipython-input-56-cf334e73047f>\u001b[0m in \u001b[0;36m<module>\u001b[1;34m\u001b[0m\n\u001b[0;32m      3\u001b[0m \u001b[1;33m\u001b[0m\u001b[0m\n\u001b[0;32m      4\u001b[0m \u001b[1;32mfor\u001b[0m \u001b[0mi\u001b[0m \u001b[1;32min\u001b[0m \u001b[0mrange\u001b[0m\u001b[1;33m(\u001b[0m\u001b[1;36m0\u001b[0m\u001b[1;33m,\u001b[0m\u001b[0mlen\u001b[0m\u001b[1;33m(\u001b[0m\u001b[0mrow_sums\u001b[0m\u001b[1;33m)\u001b[0m\u001b[1;33m)\u001b[0m\u001b[1;33m:\u001b[0m\u001b[1;33m\u001b[0m\u001b[1;33m\u001b[0m\u001b[0m\n\u001b[1;32m----> 5\u001b[1;33m      \u001b[1;32mif\u001b[0m \u001b[0mtracks_rank\u001b[0m\u001b[1;33m[\u001b[0m\u001b[0mi\u001b[0m\u001b[1;33m]\u001b[0m \u001b[1;33m!=\u001b[0m \u001b[0mcolumn_sums\u001b[0m\u001b[1;33m[\u001b[0m\u001b[0mi\u001b[0m\u001b[1;33m]\u001b[0m\u001b[1;33m:\u001b[0m\u001b[1;33m\u001b[0m\u001b[1;33m\u001b[0m\u001b[0m\n\u001b[0m\u001b[0;32m      6\u001b[0m             \u001b[0mprint\u001b[0m\u001b[1;33m(\u001b[0m\u001b[1;34m\"Difference: \"\u001b[0m \u001b[1;33m+\u001b[0m \u001b[0mstr\u001b[0m\u001b[1;33m(\u001b[0m\u001b[0mi\u001b[0m\u001b[1;33m)\u001b[0m \u001b[1;33m+\u001b[0m \u001b[1;34m\",\"\u001b[0m \u001b[1;33m+\u001b[0m \u001b[0mstr\u001b[0m\u001b[1;33m(\u001b[0m\u001b[0mj\u001b[0m\u001b[1;33m)\u001b[0m\u001b[1;33m)\u001b[0m\u001b[1;33m\u001b[0m\u001b[1;33m\u001b[0m\u001b[0m\n",
      "\u001b[1;32mC:\\ProgramData\\Anaconda3\\lib\\site-packages\\pandas\\core\\frame.py\u001b[0m in \u001b[0;36m__getitem__\u001b[1;34m(self, key)\u001b[0m\n\u001b[0;32m   3022\u001b[0m             \u001b[1;32mif\u001b[0m \u001b[0mself\u001b[0m\u001b[1;33m.\u001b[0m\u001b[0mcolumns\u001b[0m\u001b[1;33m.\u001b[0m\u001b[0mnlevels\u001b[0m \u001b[1;33m>\u001b[0m \u001b[1;36m1\u001b[0m\u001b[1;33m:\u001b[0m\u001b[1;33m\u001b[0m\u001b[1;33m\u001b[0m\u001b[0m\n\u001b[0;32m   3023\u001b[0m                 \u001b[1;32mreturn\u001b[0m \u001b[0mself\u001b[0m\u001b[1;33m.\u001b[0m\u001b[0m_getitem_multilevel\u001b[0m\u001b[1;33m(\u001b[0m\u001b[0mkey\u001b[0m\u001b[1;33m)\u001b[0m\u001b[1;33m\u001b[0m\u001b[1;33m\u001b[0m\u001b[0m\n\u001b[1;32m-> 3024\u001b[1;33m             \u001b[0mindexer\u001b[0m \u001b[1;33m=\u001b[0m \u001b[0mself\u001b[0m\u001b[1;33m.\u001b[0m\u001b[0mcolumns\u001b[0m\u001b[1;33m.\u001b[0m\u001b[0mget_loc\u001b[0m\u001b[1;33m(\u001b[0m\u001b[0mkey\u001b[0m\u001b[1;33m)\u001b[0m\u001b[1;33m\u001b[0m\u001b[1;33m\u001b[0m\u001b[0m\n\u001b[0m\u001b[0;32m   3025\u001b[0m             \u001b[1;32mif\u001b[0m \u001b[0mis_integer\u001b[0m\u001b[1;33m(\u001b[0m\u001b[0mindexer\u001b[0m\u001b[1;33m)\u001b[0m\u001b[1;33m:\u001b[0m\u001b[1;33m\u001b[0m\u001b[1;33m\u001b[0m\u001b[0m\n\u001b[0;32m   3026\u001b[0m                 \u001b[0mindexer\u001b[0m \u001b[1;33m=\u001b[0m \u001b[1;33m[\u001b[0m\u001b[0mindexer\u001b[0m\u001b[1;33m]\u001b[0m\u001b[1;33m\u001b[0m\u001b[1;33m\u001b[0m\u001b[0m\n",
      "\u001b[1;32mC:\\ProgramData\\Anaconda3\\lib\\site-packages\\pandas\\core\\indexes\\base.py\u001b[0m in \u001b[0;36mget_loc\u001b[1;34m(self, key, method, tolerance)\u001b[0m\n\u001b[0;32m   3081\u001b[0m                 \u001b[1;32mreturn\u001b[0m \u001b[0mself\u001b[0m\u001b[1;33m.\u001b[0m\u001b[0m_engine\u001b[0m\u001b[1;33m.\u001b[0m\u001b[0mget_loc\u001b[0m\u001b[1;33m(\u001b[0m\u001b[0mcasted_key\u001b[0m\u001b[1;33m)\u001b[0m\u001b[1;33m\u001b[0m\u001b[1;33m\u001b[0m\u001b[0m\n\u001b[0;32m   3082\u001b[0m             \u001b[1;32mexcept\u001b[0m \u001b[0mKeyError\u001b[0m \u001b[1;32mas\u001b[0m \u001b[0merr\u001b[0m\u001b[1;33m:\u001b[0m\u001b[1;33m\u001b[0m\u001b[1;33m\u001b[0m\u001b[0m\n\u001b[1;32m-> 3083\u001b[1;33m                 \u001b[1;32mraise\u001b[0m \u001b[0mKeyError\u001b[0m\u001b[1;33m(\u001b[0m\u001b[0mkey\u001b[0m\u001b[1;33m)\u001b[0m \u001b[1;32mfrom\u001b[0m \u001b[0merr\u001b[0m\u001b[1;33m\u001b[0m\u001b[1;33m\u001b[0m\u001b[0m\n\u001b[0m\u001b[0;32m   3084\u001b[0m \u001b[1;33m\u001b[0m\u001b[0m\n\u001b[0;32m   3085\u001b[0m         \u001b[1;32mif\u001b[0m \u001b[0mtolerance\u001b[0m \u001b[1;32mis\u001b[0m \u001b[1;32mnot\u001b[0m \u001b[1;32mNone\u001b[0m\u001b[1;33m:\u001b[0m\u001b[1;33m\u001b[0m\u001b[1;33m\u001b[0m\u001b[0m\n",
      "\u001b[1;31mKeyError\u001b[0m: 0"
     ]
    }
   ],
   "source": [
    "if len(row_sums) != len(column_sums):\n",
    "    print(\"error row * col\")\n",
    "\n",
    "for i in range(0,len(row_sums)):\n",
    "     if tracks_rank[i] != column_sums[i]:\n",
    "            print(\"Difference: \" + str(i) + \",\" + str(j))"
   ]
  },
  {
   "cell_type": "code",
   "execution_count": 57,
   "id": "6f269fa6",
   "metadata": {
    "ExecuteTime": {
     "end_time": "2021-10-16T17:57:37.029387Z",
     "start_time": "2021-10-16T17:57:36.835001Z"
    }
   },
   "outputs": [
    {
     "name": "stdout",
     "output_type": "stream",
     "text": [
      "[[0. 0. 0. ... 0. 0. 0.]\n",
      " [0. 0. 0. ... 0. 0. 0.]\n",
      " [0. 0. 0. ... 0. 0. 0.]\n",
      " ...\n",
      " [0. 0. 0. ... 0. 0. 0.]\n",
      " [0. 0. 0. ... 0. 0. 0.]\n",
      " [0. 0. 0. ... 0. 0. 0.]]\n"
     ]
    }
   ],
   "source": [
    "# min_max = MinMaxScaler()\n",
    "# tracks_rank['count_scaled'] = min_max.fit_transform(tracks_rank[[\"tracks_count\"]])\n",
    "\n",
    "track_normed_by_col = track_matrix / track_matrix.max(axis=0)\n",
    "track_normed_by_row = track_matrix / track_matrix.max(axis=1)\n",
    "\n",
    "delta = track_normed_by_col - track_normed_by_row\n",
    "print(delta)"
   ]
  },
  {
   "cell_type": "code",
   "execution_count": 58,
   "id": "578fa0f9",
   "metadata": {
    "ExecuteTime": {
     "end_time": "2021-10-16T17:57:39.488726Z",
     "start_time": "2021-10-16T17:57:38.946058Z"
    }
   },
   "outputs": [
    {
     "data": {
      "image/png": "[encoded data removed]",
      "text/plain": [
       "<Figure size 1440x1440 with 1 Axes>"
      ]
     },
     "metadata": {
      "needs_background": "light"
     },
     "output_type": "display_data"
    }
   ],
   "source": [
    "fig = plt.figure(figsize=(20, 20))\n",
    "\n",
    "ax = fig.add_subplot(111)\n",
    "plt.imshow(-track_matrix, interpolation='nearest', cmap=plt.cm.gist_heat)\n",
    "ax.set_aspect('equal')\n",
    "plt.show()"
   ]
  },
  {
   "cell_type": "code",
   "execution_count": null,
   "id": "9b1f7920",
   "metadata": {
    "ExecuteTime": {
     "end_time": "2021-10-16T01:33:19.681758Z",
     "start_time": "2021-10-16T01:33:19.651104Z"
    }
   },
   "outputs": [],
   "source": [
    "load_dotenv()\n",
    "SPOTIPY_API = os.getenv('SPOTIPY_API')\n",
    "SPOTIPY_API_KEY = os.getenv('SPOTIPY_API_KEY')\n",
    "scope=''\n",
    "\n",
    "# https://spotipy.readthedocs.io/en/latest/#\n",
    "import spotipy\n",
    "from spotipy.oauth2 import SpotifyClientCredentials\n",
    "client_credentials_manager = SpotifyClientCredentials(client_id=SPOTIPY_API, client_secret=SPOTIPY_API_KEY)\n",
    "\n",
    "# help(sp)\n",
    "sp = spotipy.Spotify(client_credentials_manager=client_credentials_manager)"
   ]
  },
  {
   "cell_type": "code",
   "execution_count": null,
   "id": "67d04600",
   "metadata": {
    "ExecuteTime": {
     "end_time": "2021-10-15T21:25:55.193210Z",
     "start_time": "2021-10-15T21:25:53.905Z"
    }
   },
   "outputs": [],
   "source": [
    "def get_playlist_detail(user_id, playlist_id):\n",
    "    l_artists = []\n",
    "    l_albums = []\n",
    "    l_tracks = []\n",
    "    l_popularity = []\n",
    "    l_artists_id = []\n",
    "    l_albums_id = []\n",
    "    l_tracks_id = []\n",
    "    \n",
    "    playlist = sp.user_playlist(user_id, playlist_id)\n",
    "    \n",
    "    for item in playlist['tracks']['items']:\n",
    "        group = []\n",
    "        group_id = []\n",
    "        for artist in item['track']['album']['artists']:\n",
    "            group.append(artist['name'])\n",
    "            group_id.append(artist['id'])\n",
    "        l_artists.append(group)\n",
    "        l_artists_id.append(group_id)\n",
    "        l_albums.append(item['track']['album']['name'])\n",
    "        l_tracks.append(item['track']['name'])\n",
    "        l_popularity.append(item['track']['popularity'])\n",
    "        \n",
    "        l_albums_id.append(item['track']['album']['id'])\n",
    "        l_tracks_id.append(item['track']['id'])\n",
    "        \n",
    "    return user_id, playlist_id, l_artists, l_albums, l_tracks, l_popularity, l_artists_id, l_albums_id, l_tracks_id;\n",
    "\n",
    "# user_id, playlist_id, l_artists, l_albums, l_tracks, l_popularity, l_artists_id, l_albums_id, l_tracks_id = get_playlist_detail('spotify', '37i9dQZF1DWXjlWxUbm84A')\n",
    "# user_id, playlist_id, l_artists, l_albums, l_tracks, l_popularity, l_artists_id, l_albums_id, l_tracks_id"
   ]
  },
  {
   "cell_type": "code",
   "execution_count": null,
   "id": "2ac0a23e",
   "metadata": {
    "ExecuteTime": {
     "end_time": "2021-10-13T03:08:23.508721Z",
     "start_time": "2021-10-13T03:08:21.354379Z"
    }
   },
   "outputs": [],
   "source": [
    "t_start = time.time()\n",
    "data_path = os.getcwd() + '\\\\data\\\\external\\\\raw_1_uid_pid.pkl'\n",
    "if os.path.exists(data_path):\n",
    "    data_path_2 = os.getcwd() + '\\\\data\\\\external\\\\raw_2_playlists.pkl'\n",
    "    if not(os.path.exists(data_path_2)):\n",
    "        with open(data_path, 'rb') as f:\n",
    "            uid_pid_raw = pickle.load(f)\n",
    "else:\n",
    "    n = 950 # max = 950\n",
    "    p_limit = 50 # limit of playlists max = 50\n",
    "\n",
    "    # list of all user ids (UID) and playlist ids (PID)\n",
    "    uid_pid_raw = []\n",
    "    \n",
    "    for y in range(2018,2022,1):\n",
    "        txt = 'year:' + str(y)\n",
    "        for i in range(0,n,1):\n",
    "            if i % 100 == 0: print(txt + ': ' + str(i) + '/' + str(n))\n",
    "            uid_pid = sp.search(q=txt, type='playlist', limit=p_limit, offset=i) #,market='US'\n",
    "            uid_pid_raw.append(uid_pid)\n",
    "    # Save the data\n",
    "    with open(data_path, 'wb') as f:\n",
    "        pickle.dump(playlist_raw, f)\n",
    "\n",
    "\n",
    "t_end = time.time()\n",
    "np.abs(t_start - t_end)"
   ]
  },
  {
   "cell_type": "code",
   "execution_count": null,
   "id": "f6614db7",
   "metadata": {
    "ExecuteTime": {
     "start_time": "2021-10-13T03:26:38.441Z"
    }
   },
   "outputs": [],
   "source": [
    "t_start = time.time()\n",
    "data_path = os.getcwd() + '\\\\data\\\\external\\\\raw_2_playlists.pkl'\n",
    "if os.path.exists(data_path):\n",
    "#     print(\"Loading data...\")\n",
    "#     data_path_2 = os.getcwd() + '\\\\data\\\\external\\\\split_1_playlists.pkl'\n",
    "#     if not(os.path.exists(data_path_2)):\n",
    "#         with open(data_path, 'rb') as f:\n",
    "#             playlist_raw = pickle.load(f)\n",
    "else:\n",
    "    print(\"Requesting playlists - Spotipy\")\n",
    "#     playlist_raw = []\n",
    "\n",
    "#     for i, result in enumerate(uid_pid_raw):\n",
    "#         print(i)\n",
    "#         if i % 100 == 0: print(i)\n",
    "#         for user in result['playlists']['items']:\n",
    "#             pid = user['id']\n",
    "#             uid = user['owner']['id']\n",
    "#             try:\n",
    "#                 playlist = sp.user_playlist(user['id'],user['owner']['id'])\n",
    "#                 playlist_raw.append(playlist)\n",
    "#             except:\n",
    "#                 print(uid + \" \" + pid)\n",
    "                   \n",
    "   # Save the data\n",
    "#     with open(data_path, 'wb') as f:\n",
    "#         pickle.dump(playlist_raw, f)\n",
    "\n",
    "t_end = time.time()\n",
    "np.abs(t_start - t_end)"
   ]
  },
  {
   "cell_type": "code",
   "execution_count": null,
   "id": "fbd22bda",
   "metadata": {
    "ExecuteTime": {
     "end_time": "2021-10-15T01:18:05.085068Z",
     "start_time": "2021-10-15T01:18:04.566607Z"
    }
   },
   "outputs": [],
   "source": [
    "t_start = time.time()\n",
    "data_path = os.getcwd() + '\\\\data\\\\external\\\\raw_data.pkl'\n",
    "if os.path.exists(data_path):\n",
    "    df = pd.read_pickle(data_path)\n",
    "else:\n",
    "#     print('ops')\n",
    "    n = 50\n",
    "    p_limit = 50 # limit of playlists max = 50\n",
    "\n",
    "    user_id = []\n",
    "    playlist_id = []\n",
    "    artists = []\n",
    "    albums = []\n",
    "    tracks = []\n",
    "    popularity = []\n",
    "    artists_id = []\n",
    "    albums_id = []\n",
    "    tracks_id = []\n",
    "\n",
    "    for i in uid_pid:\n",
    "        if i-1 % 100 == 0: print(i)\n",
    "        for user in result['playlists']['items']:\n",
    "            pid = user['id']\n",
    "            uid = user['owner']['id']\n",
    "#                 user_id.append(uid)\n",
    "#                 playlist_id.append(pid)\n",
    "            p_user_id, p_playlist_id, p_artists, p_albums, p_tracks, p_popularity, p_artists_id, p_albums_id, p_tracks_id = get_playlist_detail(uid,pid)\n",
    "\n",
    "            user_id.append(p_user_id)\n",
    "            playlist_id.append(p_playlist_id)\n",
    "            artists.append(p_artists)\n",
    "            albums.append(p_albums)\n",
    "            tracks.append(p_tracks)\n",
    "            popularity.append(p_popularity)\n",
    "            artists_id.append(p_artists_id)\n",
    "            albums_id.append(p_albums_id)\n",
    "            tracks_id.append(p_tracks_id)\n",
    "#             if i-1 % 100 == 0: print('tot:' + str(len(playlist_id)))\n",
    "\n",
    "    # intialise data of lists.\n",
    "    data = {\n",
    "        'user_id': user_id,\n",
    "        'playlist_id': playlist_id,\n",
    "        'tracks_id': tracks_id,\n",
    "        'tracks': tracks,\n",
    "        'popularity': popularity,\n",
    "        'artists_id': artists_id,\n",
    "        'artists': artists,\n",
    "        'albums_id': albums_id,\n",
    "        'albums': albums\n",
    "    }\n",
    "\n",
    "    # Create DataFrame\n",
    "    df = pd.DataFrame(data)\n",
    "    df.head()\n",
    "\n",
    "    # Save the data\n",
    "    df.to_pickle(data_path)\n",
    "\n",
    "t_end = time.time()\n",
    "np.abs(t_start - t_end)"
   ]
  },
  {
   "cell_type": "code",
   "execution_count": null,
   "id": "c6dade6e",
   "metadata": {
    "ExecuteTime": {
     "end_time": "2021-10-15T01:18:13.795135Z",
     "start_time": "2021-10-15T01:18:13.544330Z"
    }
   },
   "outputs": [],
   "source": [
    "s_tracks_id = single_list(df['tracks_id'])\n",
    "s_tracks = single_list(df['tracks'])\n",
    "s_popularity = single_list(df['popularity'])\n",
    "\n",
    "s_artists = single_list_nested(df['artists'])\n",
    "s_artists_id = single_list_nested(df['artists_id'])\n",
    "\n",
    "s_albums = single_list(df['albums'])\n",
    "s_albums_id = single_list(df['albums_id'])\n",
    "\n",
    "data = {\n",
    "    'tracks_id': s_tracks_id,\n",
    "    'tracks': s_tracks,\n",
    "    'popularity': s_popularity\n",
    "}\n",
    "df_track = pd.DataFrame(data)\n",
    "# print(df_track.head())\n",
    "\n",
    "data = {\n",
    "    'artists_id': s_artists_id,\n",
    "    'artists': s_artists\n",
    "}\n",
    "df_artist = pd.DataFrame(data)\n",
    "# print(df_artist.head())\n",
    "\n",
    "\n",
    "data = {\n",
    "    'albums_id': s_albums_id,\n",
    "    'albums': s_albums\n",
    "}\n",
    "df_album = pd.DataFrame(data)\n",
    "# print(df_album.head())"
   ]
  },
  {
   "cell_type": "code",
   "execution_count": null,
   "id": "0aa1148f",
   "metadata": {
    "ExecuteTime": {
     "end_time": "2021-10-15T01:18:16.812057Z",
     "start_time": "2021-10-15T01:18:16.664424Z"
    }
   },
   "outputs": [],
   "source": [
    "tracks_rank = df_track.groupby(['tracks_id','tracks']).agg(\n",
    "    popularity=('popularity','max'),\n",
    "    tracks_count=('tracks_id','count')\n",
    "    )\n",
    "\n",
    "min_max = MinMaxScaler()\n",
    "tracks_rank['count_scaled'] = min_max.fit_transform(tracks_rank[[\"tracks_count\"]])\n",
    "\n",
    "tracks_rank[\"rank\"] = tracks_rank['tracks_count'].rank(method='average',ascending=False)\n",
    "\n",
    "tracks_rank = tracks_rank.sort_values('tracks_count',ascending=False)\n",
    "\n",
    "tracks_rank"
   ]
  },
  {
   "cell_type": "code",
   "execution_count": null,
   "id": "3ea81952",
   "metadata": {
    "ExecuteTime": {
     "end_time": "2021-10-15T01:18:17.188674Z",
     "start_time": "2021-10-15T01:18:17.070904Z"
    }
   },
   "outputs": [],
   "source": [
    "album_rank = df_album.groupby(['albums_id','albums']).agg(album_count=('albums_id','count'))\n",
    "\n",
    "min_max = MinMaxScaler()\n",
    "album_rank['count_scaled'] = min_max.fit_transform(album_rank[[\"album_count\"]])\n",
    "\n",
    "album_rank[\"rank\"] = album_rank['album_count'].rank(method='average',ascending=False)\n",
    "\n",
    "album_rank = album_rank.sort_values('album_count',ascending=False)\n",
    "\n",
    "album_rank"
   ]
  },
  {
   "cell_type": "code",
   "execution_count": null,
   "id": "0a2cfd57",
   "metadata": {
    "ExecuteTime": {
     "end_time": "2021-10-15T01:18:18.013040Z",
     "start_time": "2021-10-15T01:18:17.895790Z"
    }
   },
   "outputs": [],
   "source": [
    "df_artist.head\n",
    "artist_rank = df_artist.groupby(['artists_id','artists']).agg(artist_count=('artists_id','count'))\n",
    "\n",
    "min_max = MinMaxScaler()\n",
    "artist_rank['count_scaled'] = min_max.fit_transform(artist_rank[[\"artist_count\"]])\n",
    "\n",
    "artist_rank[\"rank\"] = artist_rank['artist_count'].rank(method='average',ascending=False)\n",
    "\n",
    "artist_rank = artist_rank.sort_values('artist_count',ascending=False)\n",
    "\n",
    "artist_rank"
   ]
  },
  {
   "cell_type": "code",
   "execution_count": null,
   "id": "45f65e94",
   "metadata": {
    "ExecuteTime": {
     "end_time": "2021-10-12T21:43:09.090713Z",
     "start_time": "2021-10-12T21:43:09.076753Z"
    }
   },
   "outputs": [],
   "source": [
    "# tracks_cartesian = []\n",
    "# for element in itertools.product(s_tracks_id,s_tracks_id):\n",
    "#     tracks_cartesian.append(element)\n",
    "\n",
    "# https://stackoverflow.com/questions/11144513/cartesian-product-of-x-and-y-array-points-into-single-array-of-2d-points\n",
    "# def cartesian_product(*arrays):\n",
    "#     la = len(arrays)\n",
    "#     dtype = np.result_type(*arrays)\n",
    "#     arr = np.empty([len(a) for a in arrays] + [la], dtype=dtype)\n",
    "#     for i, a in enumerate(numpy.ix_(*arrays)):\n",
    "#         arr[...,i] = a\n",
    "#     return arr.reshape(-1, la)\n",
    "\n",
    "\n",
    "# # tracks_cartesian = cartesian_product(*(s_tracks_id * 2))"
   ]
  },
  {
   "cell_type": "code",
   "execution_count": null,
   "id": "ddaa6997",
   "metadata": {
    "ExecuteTime": {
     "end_time": "2021-10-16T03:12:33.651867Z",
     "start_time": "2021-10-16T03:12:33.639903Z"
    }
   },
   "outputs": [],
   "source": [
    "# for key, item in df_test.items():\n",
    "#     print(key)\n",
    "#     if key == 'tracks_id':\n",
    "#         print(item)"
   ]
  },
  {
   "cell_type": "code",
   "execution_count": null,
   "id": "43cd28aa",
   "metadata": {},
   "outputs": [],
   "source": [
    "# # Define count_entries()\n",
    "# def count_entries(csv_file,c_size,colname):\n",
    "#     \"\"\"Return a dictionary with counts of\n",
    "#     occurrences as value for each key.\"\"\"\n",
    "    \n",
    "#     # Initialize an empty dictionary: counts_dict\n",
    "#     counts_dict = {}\n",
    "\n",
    "#     # Iterate over the file chunk by chunk\n",
    "#     for chunk in pd.read_csv(csv_file,chunksize=c_size):\n",
    "\n",
    "#         # Iterate over the column in DataFrame\n",
    "#         for entry in chunk[colname]:\n",
    "#             if entry in counts_dict.keys():\n",
    "#                 counts_dict[entry] += 1\n",
    "#             else:\n",
    "#                 counts_dict[entry] = 1\n",
    "\n",
    "#     # Return counts_dict\n",
    "#     return counts_dict\n",
    "\n",
    "# # Call count_entries(): result_counts\n",
    "# result_counts = count_entries('tweets.csv',10,'lang')\n",
    "\n",
    "# # Print result_counts\n",
    "# print(result_counts)\n"
   ]
  },
  {
   "cell_type": "code",
   "execution_count": null,
   "id": "58ddbff7",
   "metadata": {
    "ExecuteTime": {
     "start_time": "2021-10-16T16:45:16.369Z"
    }
   },
   "outputs": [
    {
     "name": "stderr",
     "output_type": "stream",
     "text": [
      "Python 3.8.10 (default, May 19 2021, 13:12:57) [MSC v.1916 64 bit (AMD64)] on win32\n",
      "Type \"help\", \"copyright\", \"credits\" or \"license\" for more information.\n",
      "(InteractiveConsole)\n"
     ]
    },
    {
     "name": "stdout",
     "output_type": "stream",
     "text": [
      "In : \n"
     ]
    },
    {
     "ename": "TypeError",
     "evalue": "exec() globals must be a dict, not builtin_function_or_method",
     "output_type": "error",
     "traceback": [
      "\u001b[1;31m---------------------------------------------------------------------------\u001b[0m",
      "\u001b[1;31mTypeError\u001b[0m                                 Traceback (most recent call last)",
      "\u001b[1;32mC:\\ProgramData\\Anaconda3\\lib\\code.py\u001b[0m in \u001b[0;36mruncode\u001b[1;34m(self, code)\u001b[0m\n\u001b[0;32m     88\u001b[0m         \"\"\"\n\u001b[0;32m     89\u001b[0m         \u001b[1;32mtry\u001b[0m\u001b[1;33m:\u001b[0m\u001b[1;33m\u001b[0m\u001b[1;33m\u001b[0m\u001b[0m\n\u001b[1;32m---> 90\u001b[1;33m             \u001b[0mexec\u001b[0m\u001b[1;33m(\u001b[0m\u001b[0mcode\u001b[0m\u001b[1;33m,\u001b[0m \u001b[0mself\u001b[0m\u001b[1;33m.\u001b[0m\u001b[0mlocals\u001b[0m\u001b[1;33m)\u001b[0m\u001b[1;33m\u001b[0m\u001b[1;33m\u001b[0m\u001b[0m\n\u001b[0m\u001b[0;32m     91\u001b[0m         \u001b[1;32mexcept\u001b[0m \u001b[0mSystemExit\u001b[0m\u001b[1;33m:\u001b[0m\u001b[1;33m\u001b[0m\u001b[1;33m\u001b[0m\u001b[0m\n\u001b[0;32m     92\u001b[0m             \u001b[1;32mraise\u001b[0m\u001b[1;33m\u001b[0m\u001b[1;33m\u001b[0m\u001b[0m\n",
      "\u001b[1;31mTypeError\u001b[0m: exec() globals must be a dict, not builtin_function_or_method"
     ]
    },
    {
     "name": "stderr",
     "output_type": "stream",
     "text": [
      "\n",
      "KeyboardInterrupt\n"
     ]
    }
   ],
   "source": [
    "from numba import jit, cuda\n",
    "# from numba import cuda\n",
    "import numpy as np\n",
    "import code\n",
    "# to measure exec time\n",
    "from timeit import default_timer as timer\n",
    "  \n",
    "# normal function to run on cpu\n",
    "def func(a):                                \n",
    "    for i in range(10000000):\n",
    "        a[i]+= 1\n",
    "\n",
    "# function optimized to run on gpu \n",
    "cuda.jit(target =\"cuda\")                         \n",
    "code.interact(local=locals)\n",
    "def func2(a):\n",
    "    for i in range(100000000):\n",
    "        a[i]+= 1\n",
    "\n",
    "if __name__==\"__main__\":\n",
    "    n = 10000000                            \n",
    "    a = np.ones(n, dtype = np.float64)\n",
    "    b = np.ones(n, dtype = np.float32)\n",
    "      \n",
    "    start = timer()\n",
    "    func(a)\n",
    "    print(\"without GPU:\", timer()-start)    \n",
    "      \n",
    "    start = timer()\n",
    "    func2(a)\n",
    "    print(\"with GPU:\", timer()-start)"
   ]
  },
  {
   "cell_type": "code",
   "execution_count": 4,
   "id": "7e41699f",
   "metadata": {
    "ExecuteTime": {
     "end_time": "2021-10-16T16:49:46.034473Z",
     "start_time": "2021-10-16T16:49:45.090868Z"
    }
   },
   "outputs": [
    {
     "ename": "LinkerError",
     "evalue": "[222] Call to cuLinkAddData results in UNKNOWN_CUDA_ERROR\nptxas application ptx input, line 9; fatal   : Unsupported .version 7.3; current version is '7.2'",
     "output_type": "error",
     "traceback": [
      "\u001b[1;31m---------------------------------------------------------------------------\u001b[0m",
      "\u001b[1;31mCudaAPIError\u001b[0m                              Traceback (most recent call last)",
      "\u001b[1;32mC:\\ProgramData\\Anaconda3\\lib\\site-packages\\numba\\cuda\\cudadrv\\driver.py\u001b[0m in \u001b[0;36madd_ptx\u001b[1;34m(self, ptx, name)\u001b[0m\n\u001b[0;32m   2159\u001b[0m         \u001b[1;32mtry\u001b[0m\u001b[1;33m:\u001b[0m\u001b[1;33m\u001b[0m\u001b[1;33m\u001b[0m\u001b[0m\n\u001b[1;32m-> 2160\u001b[1;33m             driver.cuLinkAddData(self.handle, enums.CU_JIT_INPUT_PTX,\n\u001b[0m\u001b[0;32m   2161\u001b[0m                                  ptxbuf, len(ptx), namebuf, 0, None, None)\n",
      "\u001b[1;32mC:\\ProgramData\\Anaconda3\\lib\\site-packages\\numba\\cuda\\cudadrv\\driver.py\u001b[0m in \u001b[0;36msafe_cuda_api_call\u001b[1;34m(*args)\u001b[0m\n\u001b[0;32m    299\u001b[0m             \u001b[0mretcode\u001b[0m \u001b[1;33m=\u001b[0m \u001b[0mlibfn\u001b[0m\u001b[1;33m(\u001b[0m\u001b[1;33m*\u001b[0m\u001b[0margs\u001b[0m\u001b[1;33m)\u001b[0m\u001b[1;33m\u001b[0m\u001b[1;33m\u001b[0m\u001b[0m\n\u001b[1;32m--> 300\u001b[1;33m             \u001b[0mself\u001b[0m\u001b[1;33m.\u001b[0m\u001b[0m_check_error\u001b[0m\u001b[1;33m(\u001b[0m\u001b[0mfname\u001b[0m\u001b[1;33m,\u001b[0m \u001b[0mretcode\u001b[0m\u001b[1;33m)\u001b[0m\u001b[1;33m\u001b[0m\u001b[1;33m\u001b[0m\u001b[0m\n\u001b[0m\u001b[0;32m    301\u001b[0m         \u001b[1;32mreturn\u001b[0m \u001b[0msafe_cuda_api_call\u001b[0m\u001b[1;33m\u001b[0m\u001b[1;33m\u001b[0m\u001b[0m\n",
      "\u001b[1;32mC:\\ProgramData\\Anaconda3\\lib\\site-packages\\numba\\cuda\\cudadrv\\driver.py\u001b[0m in \u001b[0;36m_check_error\u001b[1;34m(self, fname, retcode)\u001b[0m\n\u001b[0;32m    334\u001b[0m                     \u001b[1;32mraise\u001b[0m \u001b[0mCudaDriverError\u001b[0m\u001b[1;33m(\u001b[0m\u001b[1;34m\"CUDA initialized before forking\"\u001b[0m\u001b[1;33m)\u001b[0m\u001b[1;33m\u001b[0m\u001b[1;33m\u001b[0m\u001b[0m\n\u001b[1;32m--> 335\u001b[1;33m             \u001b[1;32mraise\u001b[0m \u001b[0mCudaAPIError\u001b[0m\u001b[1;33m(\u001b[0m\u001b[0mretcode\u001b[0m\u001b[1;33m,\u001b[0m \u001b[0mmsg\u001b[0m\u001b[1;33m)\u001b[0m\u001b[1;33m\u001b[0m\u001b[1;33m\u001b[0m\u001b[0m\n\u001b[0m\u001b[0;32m    336\u001b[0m \u001b[1;33m\u001b[0m\u001b[0m\n",
      "\u001b[1;31mCudaAPIError\u001b[0m: [222] Call to cuLinkAddData results in UNKNOWN_CUDA_ERROR",
      "\nDuring handling of the above exception, another exception occurred:\n",
      "\u001b[1;31mLinkerError\u001b[0m                               Traceback (most recent call last)",
      "\u001b[1;32m<ipython-input-4-98cd40d70d0d>\u001b[0m in \u001b[0;36m<module>\u001b[1;34m\u001b[0m\n\u001b[0;32m     45\u001b[0m \u001b[0mstart\u001b[0m \u001b[1;33m=\u001b[0m \u001b[0mtimer\u001b[0m\u001b[1;33m(\u001b[0m\u001b[1;33m)\u001b[0m\u001b[1;33m\u001b[0m\u001b[1;33m\u001b[0m\u001b[0m\n\u001b[0;32m     46\u001b[0m \u001b[0md_image\u001b[0m \u001b[1;33m=\u001b[0m \u001b[0mcuda\u001b[0m\u001b[1;33m.\u001b[0m\u001b[0mto_device\u001b[0m\u001b[1;33m(\u001b[0m\u001b[0mgimage\u001b[0m\u001b[1;33m)\u001b[0m\u001b[1;33m\u001b[0m\u001b[1;33m\u001b[0m\u001b[0m\n\u001b[1;32m---> 47\u001b[1;33m \u001b[0mmandel_kernel\u001b[0m\u001b[1;33m[\u001b[0m\u001b[0mgriddim\u001b[0m\u001b[1;33m,\u001b[0m \u001b[0mblockdim\u001b[0m\u001b[1;33m]\u001b[0m\u001b[1;33m(\u001b[0m\u001b[1;33m-\u001b[0m\u001b[1;36m2.0\u001b[0m\u001b[1;33m,\u001b[0m \u001b[1;36m1.0\u001b[0m\u001b[1;33m,\u001b[0m \u001b[1;33m-\u001b[0m\u001b[1;36m1.0\u001b[0m\u001b[1;33m,\u001b[0m \u001b[1;36m1.0\u001b[0m\u001b[1;33m,\u001b[0m \u001b[0md_image\u001b[0m\u001b[1;33m,\u001b[0m \u001b[1;36m20\u001b[0m\u001b[1;33m)\u001b[0m\u001b[1;33m\u001b[0m\u001b[1;33m\u001b[0m\u001b[0m\n\u001b[0m\u001b[0;32m     48\u001b[0m \u001b[0md_image\u001b[0m\u001b[1;33m.\u001b[0m\u001b[0mto_host\u001b[0m\u001b[1;33m(\u001b[0m\u001b[1;33m)\u001b[0m\u001b[1;33m\u001b[0m\u001b[1;33m\u001b[0m\u001b[0m\n\u001b[0;32m     49\u001b[0m \u001b[0mdt\u001b[0m \u001b[1;33m=\u001b[0m \u001b[0mtimer\u001b[0m\u001b[1;33m(\u001b[0m\u001b[1;33m)\u001b[0m \u001b[1;33m-\u001b[0m \u001b[0mstart\u001b[0m\u001b[1;33m\u001b[0m\u001b[1;33m\u001b[0m\u001b[0m\n",
      "\u001b[1;32mC:\\ProgramData\\Anaconda3\\lib\\site-packages\\numba\\cuda\\compiler.py\u001b[0m in \u001b[0;36m__call__\u001b[1;34m(self, *args)\u001b[0m\n\u001b[0;32m    819\u001b[0m \u001b[1;33m\u001b[0m\u001b[0m\n\u001b[0;32m    820\u001b[0m     \u001b[1;32mdef\u001b[0m \u001b[0m__call__\u001b[0m\u001b[1;33m(\u001b[0m\u001b[0mself\u001b[0m\u001b[1;33m,\u001b[0m \u001b[1;33m*\u001b[0m\u001b[0margs\u001b[0m\u001b[1;33m)\u001b[0m\u001b[1;33m:\u001b[0m\u001b[1;33m\u001b[0m\u001b[1;33m\u001b[0m\u001b[0m\n\u001b[1;32m--> 821\u001b[1;33m         return self.dispatcher.call(args, self.griddim, self.blockdim,\n\u001b[0m\u001b[0;32m    822\u001b[0m                                     self.stream, self.sharedmem)\n\u001b[0;32m    823\u001b[0m \u001b[1;33m\u001b[0m\u001b[0m\n",
      "\u001b[1;32mC:\\ProgramData\\Anaconda3\\lib\\site-packages\\numba\\cuda\\compiler.py\u001b[0m in \u001b[0;36mcall\u001b[1;34m(self, args, griddim, blockdim, stream, sharedmem)\u001b[0m\n\u001b[0;32m    962\u001b[0m             \u001b[0mkernel\u001b[0m \u001b[1;33m=\u001b[0m \u001b[0mnext\u001b[0m\u001b[1;33m(\u001b[0m\u001b[0miter\u001b[0m\u001b[1;33m(\u001b[0m\u001b[0mself\u001b[0m\u001b[1;33m.\u001b[0m\u001b[0moverloads\u001b[0m\u001b[1;33m.\u001b[0m\u001b[0mvalues\u001b[0m\u001b[1;33m(\u001b[0m\u001b[1;33m)\u001b[0m\u001b[1;33m)\u001b[0m\u001b[1;33m)\u001b[0m\u001b[1;33m\u001b[0m\u001b[1;33m\u001b[0m\u001b[0m\n\u001b[0;32m    963\u001b[0m         \u001b[1;32melse\u001b[0m\u001b[1;33m:\u001b[0m\u001b[1;33m\u001b[0m\u001b[1;33m\u001b[0m\u001b[0m\n\u001b[1;32m--> 964\u001b[1;33m             \u001b[0mkernel\u001b[0m \u001b[1;33m=\u001b[0m \u001b[0m_dispatcher\u001b[0m\u001b[1;33m.\u001b[0m\u001b[0mDispatcher\u001b[0m\u001b[1;33m.\u001b[0m\u001b[0m_cuda_call\u001b[0m\u001b[1;33m(\u001b[0m\u001b[0mself\u001b[0m\u001b[1;33m,\u001b[0m \u001b[1;33m*\u001b[0m\u001b[0margs\u001b[0m\u001b[1;33m)\u001b[0m\u001b[1;33m\u001b[0m\u001b[1;33m\u001b[0m\u001b[0m\n\u001b[0m\u001b[0;32m    965\u001b[0m \u001b[1;33m\u001b[0m\u001b[0m\n\u001b[0;32m    966\u001b[0m         \u001b[0mkernel\u001b[0m\u001b[1;33m.\u001b[0m\u001b[0mlaunch\u001b[0m\u001b[1;33m(\u001b[0m\u001b[0margs\u001b[0m\u001b[1;33m,\u001b[0m \u001b[0mgriddim\u001b[0m\u001b[1;33m,\u001b[0m \u001b[0mblockdim\u001b[0m\u001b[1;33m,\u001b[0m \u001b[0mstream\u001b[0m\u001b[1;33m,\u001b[0m \u001b[0msharedmem\u001b[0m\u001b[1;33m)\u001b[0m\u001b[1;33m\u001b[0m\u001b[1;33m\u001b[0m\u001b[0m\n",
      "\u001b[1;32mC:\\ProgramData\\Anaconda3\\lib\\site-packages\\numba\\cuda\\compiler.py\u001b[0m in \u001b[0;36m_compile_for_args\u001b[1;34m(self, *args, **kws)\u001b[0m\n\u001b[0;32m    970\u001b[0m         \u001b[1;32massert\u001b[0m \u001b[1;32mnot\u001b[0m \u001b[0mkws\u001b[0m\u001b[1;33m\u001b[0m\u001b[1;33m\u001b[0m\u001b[0m\n\u001b[0;32m    971\u001b[0m         \u001b[0margtypes\u001b[0m \u001b[1;33m=\u001b[0m \u001b[1;33m[\u001b[0m\u001b[0mself\u001b[0m\u001b[1;33m.\u001b[0m\u001b[0mtypeof_pyval\u001b[0m\u001b[1;33m(\u001b[0m\u001b[0ma\u001b[0m\u001b[1;33m)\u001b[0m \u001b[1;32mfor\u001b[0m \u001b[0ma\u001b[0m \u001b[1;32min\u001b[0m \u001b[0margs\u001b[0m\u001b[1;33m]\u001b[0m\u001b[1;33m\u001b[0m\u001b[1;33m\u001b[0m\u001b[0m\n\u001b[1;32m--> 972\u001b[1;33m         \u001b[1;32mreturn\u001b[0m \u001b[0mself\u001b[0m\u001b[1;33m.\u001b[0m\u001b[0mcompile\u001b[0m\u001b[1;33m(\u001b[0m\u001b[0mtuple\u001b[0m\u001b[1;33m(\u001b[0m\u001b[0margtypes\u001b[0m\u001b[1;33m)\u001b[0m\u001b[1;33m)\u001b[0m\u001b[1;33m\u001b[0m\u001b[1;33m\u001b[0m\u001b[0m\n\u001b[0m\u001b[0;32m    973\u001b[0m \u001b[1;33m\u001b[0m\u001b[0m\n\u001b[0;32m    974\u001b[0m     \u001b[1;32mdef\u001b[0m \u001b[0m_search_new_conversions\u001b[0m\u001b[1;33m(\u001b[0m\u001b[0mself\u001b[0m\u001b[1;33m,\u001b[0m \u001b[1;33m*\u001b[0m\u001b[0margs\u001b[0m\u001b[1;33m,\u001b[0m \u001b[1;33m**\u001b[0m\u001b[0mkws\u001b[0m\u001b[1;33m)\u001b[0m\u001b[1;33m:\u001b[0m\u001b[1;33m\u001b[0m\u001b[1;33m\u001b[0m\u001b[0m\n",
      "\u001b[1;32mC:\\ProgramData\\Anaconda3\\lib\\site-packages\\numba\\cuda\\compiler.py\u001b[0m in \u001b[0;36mcompile\u001b[1;34m(self, sig)\u001b[0m\n\u001b[0;32m   1100\u001b[0m             \u001b[0mself\u001b[0m\u001b[1;33m.\u001b[0m\u001b[0moverloads\u001b[0m\u001b[1;33m[\u001b[0m\u001b[0margtypes\u001b[0m\u001b[1;33m]\u001b[0m \u001b[1;33m=\u001b[0m \u001b[0mkernel\u001b[0m\u001b[1;33m\u001b[0m\u001b[1;33m\u001b[0m\u001b[0m\n\u001b[0;32m   1101\u001b[0m \u001b[1;33m\u001b[0m\u001b[0m\n\u001b[1;32m-> 1102\u001b[1;33m             \u001b[0mkernel\u001b[0m\u001b[1;33m.\u001b[0m\u001b[0mbind\u001b[0m\u001b[1;33m(\u001b[0m\u001b[1;33m)\u001b[0m\u001b[1;33m\u001b[0m\u001b[1;33m\u001b[0m\u001b[0m\n\u001b[0m\u001b[0;32m   1103\u001b[0m             \u001b[0mself\u001b[0m\u001b[1;33m.\u001b[0m\u001b[0msigs\u001b[0m\u001b[1;33m.\u001b[0m\u001b[0mappend\u001b[0m\u001b[1;33m(\u001b[0m\u001b[0msig\u001b[0m\u001b[1;33m)\u001b[0m\u001b[1;33m\u001b[0m\u001b[1;33m\u001b[0m\u001b[0m\n\u001b[0;32m   1104\u001b[0m         \u001b[1;32mreturn\u001b[0m \u001b[0mkernel\u001b[0m\u001b[1;33m\u001b[0m\u001b[1;33m\u001b[0m\u001b[0m\n",
      "\u001b[1;32mC:\\ProgramData\\Anaconda3\\lib\\site-packages\\numba\\cuda\\compiler.py\u001b[0m in \u001b[0;36mbind\u001b[1;34m(self)\u001b[0m\n\u001b[0;32m    588\u001b[0m         \u001b[0mForce\u001b[0m \u001b[0mbinding\u001b[0m \u001b[0mto\u001b[0m \u001b[0mcurrent\u001b[0m \u001b[0mCUDA\u001b[0m \u001b[0mcontext\u001b[0m\u001b[1;33m\u001b[0m\u001b[1;33m\u001b[0m\u001b[0m\n\u001b[0;32m    589\u001b[0m         \"\"\"\n\u001b[1;32m--> 590\u001b[1;33m         \u001b[0mself\u001b[0m\u001b[1;33m.\u001b[0m\u001b[0m_func\u001b[0m\u001b[1;33m.\u001b[0m\u001b[0mget\u001b[0m\u001b[1;33m(\u001b[0m\u001b[1;33m)\u001b[0m\u001b[1;33m\u001b[0m\u001b[1;33m\u001b[0m\u001b[0m\n\u001b[0m\u001b[0;32m    591\u001b[0m \u001b[1;33m\u001b[0m\u001b[0m\n\u001b[0;32m    592\u001b[0m     \u001b[1;33m@\u001b[0m\u001b[0mproperty\u001b[0m\u001b[1;33m\u001b[0m\u001b[1;33m\u001b[0m\u001b[0m\n",
      "\u001b[1;32mC:\\ProgramData\\Anaconda3\\lib\\site-packages\\numba\\cuda\\compiler.py\u001b[0m in \u001b[0;36mget\u001b[1;34m(self)\u001b[0m\n\u001b[0;32m    439\u001b[0m             \u001b[1;31m# Link\u001b[0m\u001b[1;33m\u001b[0m\u001b[1;33m\u001b[0m\u001b[1;33m\u001b[0m\u001b[0m\n\u001b[0;32m    440\u001b[0m             \u001b[0mlinker\u001b[0m \u001b[1;33m=\u001b[0m \u001b[0mdriver\u001b[0m\u001b[1;33m.\u001b[0m\u001b[0mLinker\u001b[0m\u001b[1;33m(\u001b[0m\u001b[0mmax_registers\u001b[0m\u001b[1;33m=\u001b[0m\u001b[0mself\u001b[0m\u001b[1;33m.\u001b[0m\u001b[0mmax_registers\u001b[0m\u001b[1;33m)\u001b[0m\u001b[1;33m\u001b[0m\u001b[1;33m\u001b[0m\u001b[0m\n\u001b[1;32m--> 441\u001b[1;33m             \u001b[0mlinker\u001b[0m\u001b[1;33m.\u001b[0m\u001b[0madd_ptx\u001b[0m\u001b[1;33m(\u001b[0m\u001b[0mptx\u001b[0m\u001b[1;33m)\u001b[0m\u001b[1;33m\u001b[0m\u001b[1;33m\u001b[0m\u001b[0m\n\u001b[0m\u001b[0;32m    442\u001b[0m             \u001b[1;32mfor\u001b[0m \u001b[0mpath\u001b[0m \u001b[1;32min\u001b[0m \u001b[0mself\u001b[0m\u001b[1;33m.\u001b[0m\u001b[0mlinking\u001b[0m\u001b[1;33m:\u001b[0m\u001b[1;33m\u001b[0m\u001b[1;33m\u001b[0m\u001b[0m\n\u001b[0;32m    443\u001b[0m                 \u001b[0mlinker\u001b[0m\u001b[1;33m.\u001b[0m\u001b[0madd_file_guess_ext\u001b[0m\u001b[1;33m(\u001b[0m\u001b[0mpath\u001b[0m\u001b[1;33m)\u001b[0m\u001b[1;33m\u001b[0m\u001b[1;33m\u001b[0m\u001b[0m\n",
      "\u001b[1;32mC:\\ProgramData\\Anaconda3\\lib\\site-packages\\numba\\cuda\\cudadrv\\driver.py\u001b[0m in \u001b[0;36madd_ptx\u001b[1;34m(self, ptx, name)\u001b[0m\n\u001b[0;32m   2161\u001b[0m                                  ptxbuf, len(ptx), namebuf, 0, None, None)\n\u001b[0;32m   2162\u001b[0m         \u001b[1;32mexcept\u001b[0m \u001b[0mCudaAPIError\u001b[0m \u001b[1;32mas\u001b[0m \u001b[0me\u001b[0m\u001b[1;33m:\u001b[0m\u001b[1;33m\u001b[0m\u001b[1;33m\u001b[0m\u001b[0m\n\u001b[1;32m-> 2163\u001b[1;33m             \u001b[1;32mraise\u001b[0m \u001b[0mLinkerError\u001b[0m\u001b[1;33m(\u001b[0m\u001b[1;34m\"%s\\n%s\"\u001b[0m \u001b[1;33m%\u001b[0m \u001b[1;33m(\u001b[0m\u001b[0me\u001b[0m\u001b[1;33m,\u001b[0m \u001b[0mself\u001b[0m\u001b[1;33m.\u001b[0m\u001b[0merror_log\u001b[0m\u001b[1;33m)\u001b[0m\u001b[1;33m)\u001b[0m\u001b[1;33m\u001b[0m\u001b[1;33m\u001b[0m\u001b[0m\n\u001b[0m\u001b[0;32m   2164\u001b[0m \u001b[1;33m\u001b[0m\u001b[0m\n\u001b[0;32m   2165\u001b[0m     \u001b[1;32mdef\u001b[0m \u001b[0madd_file\u001b[0m\u001b[1;33m(\u001b[0m\u001b[0mself\u001b[0m\u001b[1;33m,\u001b[0m \u001b[0mpath\u001b[0m\u001b[1;33m,\u001b[0m \u001b[0mkind\u001b[0m\u001b[1;33m)\u001b[0m\u001b[1;33m:\u001b[0m\u001b[1;33m\u001b[0m\u001b[1;33m\u001b[0m\u001b[0m\n",
      "\u001b[1;31mLinkerError\u001b[0m: [222] Call to cuLinkAddData results in UNKNOWN_CUDA_ERROR\nptxas application ptx input, line 9; fatal   : Unsupported .version 7.3; current version is '7.2'"
     ]
    }
   ],
   "source": [
    "from numba import jit, cuda\n",
    "# from numba import cuda\n",
    "import numpy as np\n",
    "from timeit import default_timer as timer\n",
    "\n",
    "@cuda.jit(device=True)\n",
    "def mandel(x, y, max_iters):\n",
    "  \"\"\"\n",
    "  Given the real and imaginary parts of a complex number,\n",
    "  determine if it is a candidate for membership in the Mandelbrot\n",
    "  set given a fixed number of iterations.\n",
    "  \"\"\"\n",
    "  c = complex(x, y)\n",
    "  z = 0.0j\n",
    "  for i in range(max_iters):\n",
    "    z = z*z + c\n",
    "    if (z.real*z.real + z.imag*z.imag) >= 4:\n",
    "      return i\n",
    "\n",
    "  return max_iters\n",
    "\n",
    "@cuda.jit\n",
    "def mandel_kernel(min_x, max_x, min_y, max_y, image, iters):\n",
    "  height = image.shape[0]\n",
    "  width = image.shape[1]\n",
    "\n",
    "  pixel_size_x = (max_x - min_x) / width\n",
    "  pixel_size_y = (max_y - min_y) / height\n",
    "\n",
    "  startX = cuda.blockDim.x * cuda.blockIdx.x + cuda.threadIdx.x\n",
    "  startY = cuda.blockDim.y * cuda.blockIdx.y + cuda.threadIdx.y\n",
    "  gridX = cuda.gridDim.x * cuda.blockDim.x;\n",
    "  gridY = cuda.gridDim.y * cuda.blockDim.y;\n",
    "\n",
    "  for x in range(startX, width, gridX):\n",
    "    real = min_x + x * pixel_size_x\n",
    "    for y in range(startY, height, gridY):\n",
    "      imag = min_y + y * pixel_size_y \n",
    "      image[y, x] = mandel(real, imag, iters)\n",
    "\n",
    "gimage = np.zeros((1024, 1536), dtype = np.uint8)\n",
    "blockdim = (32, 8)\n",
    "griddim = (32,16)\n",
    "\n",
    "start = timer()\n",
    "d_image = cuda.to_device(gimage)\n",
    "mandel_kernel[griddim, blockdim](-2.0, 1.0, -1.0, 1.0, d_image, 20) \n",
    "d_image.to_host()\n",
    "dt = timer() - start\n",
    "\n",
    "print(\"Mandelbrot created on GPU in %f s\" % dt)\n",
    "\n",
    "imshow(gimage)"
   ]
  },
  {
   "cell_type": "code",
   "execution_count": null,
   "id": "52d50128",
   "metadata": {},
   "outputs": [],
   "source": []
  }
 ],
 "metadata": {
  "hide_input": false,
  "kernelspec": {
   "display_name": "Python 3",
   "language": "python",
   "name": "python3"
  },
  "language_info": {
   "codemirror_mode": {
    "name": "ipython",
    "version": 3
   },
   "file_extension": ".py",
   "mimetype": "text/x-python",
   "name": "python",
   "nbconvert_exporter": "python",
   "pygments_lexer": "ipython3",
   "version": "3.8.10"
  },
  "toc": {
   "base_numbering": 1,
   "nav_menu": {},
   "number_sections": true,
   "sideBar": true,
   "skip_h1_title": false,
   "title_cell": "Table of Contents",
   "title_sidebar": "Contents",
   "toc_cell": false,
   "toc_position": {},
   "toc_section_display": true,
   "toc_window_display": false
  },
  "varInspector": {
   "cols": {
    "lenName": 16,
    "lenType": 16,
    "lenVar": 40
   },
   "kernels_config": {
    "python": {
     "delete_cmd_postfix": "",
     "delete_cmd_prefix": "del ",
     "library": "var_list.py",
     "varRefreshCmd": "print(var_dic_list())"
    },
    "r": {
     "delete_cmd_postfix": ") ",
     "delete_cmd_prefix": "rm(",
     "library": "var_list.r",
     "varRefreshCmd": "cat(var_dic_list()) "
    }
   },
   "types_to_exclude": [
    "module",
    "function",
    "builtin_function_or_method",
    "instance",
    "_Feature"
   ],
   "window_display": false
  }
 },
 "nbformat": 4,
 "nbformat_minor": 5
}
