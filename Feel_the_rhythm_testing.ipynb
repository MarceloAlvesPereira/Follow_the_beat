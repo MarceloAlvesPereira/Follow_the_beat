{
 "cells": [
  {
   "cell_type": "code",
   "execution_count": null,
   "id": "11dd7a96",
   "metadata": {
    "ExecuteTime": {
     "end_time": "2021-12-18T13:34:10.261169Z",
     "start_time": "2021-12-18T13:34:09.704032Z"
    }
   },
   "outputs": [],
   "source": [
    "# import cProfile\n",
    "# import collections\n",
    "import datetime\n",
    "\n",
    "import os\n",
    "import pickle\n",
    "# import sys\n",
    "import time\n",
    "\n",
    "# import numpy as np\n",
    "import pandas as pd\n",
    "\n",
    "# from datetime import datetime\n",
    "from dotenv import load_dotenv\n",
    "\n",
    "pd.options.display.float_format = \"{:.2f}\".format\n",
    "# plt.rcParams.update({'font.size': 18})"
   ]
  },
  {
   "cell_type": "code",
   "execution_count": null,
   "id": "9b1f7920",
   "metadata": {
    "ExecuteTime": {
     "end_time": "2021-12-18T13:34:10.790020Z",
     "start_time": "2021-12-18T13:34:10.344132Z"
    }
   },
   "outputs": [],
   "source": [
    "load_dotenv()\n",
    "SPOTIPY_API = os.getenv('SPOTIPY_API')\n",
    "SPOTIPY_API_KEY = os.getenv('SPOTIPY_API_KEY')\n",
    "scope=''\n",
    "\n",
    "# https://spotipy.readthedocs.io/en/latest/#\n",
    "import spotipy\n",
    "from spotipy.oauth2 import SpotifyClientCredentials\n",
    "client_credentials_manager = SpotifyClientCredentials(client_id=SPOTIPY_API, client_secret=SPOTIPY_API_KEY)\n",
    "\n",
    "# help(sp)\n",
    "sp = spotipy.Spotify(client_credentials_manager=client_credentials_manager,requests_timeout=300)"
   ]
  },
  {
   "cell_type": "markdown",
   "id": "31c57dbd",
   "metadata": {},
   "source": [
    "# Get features"
   ]
  },
  {
   "cell_type": "code",
   "execution_count": null,
   "id": "b4ca8c04",
   "metadata": {
    "ExecuteTime": {
     "end_time": "2021-12-18T14:45:01.363846Z",
     "start_time": "2021-12-18T14:45:01.347065Z"
    }
   },
   "outputs": [],
   "source": [
    "# https://www.thedataschool.co.uk/penny-richmond/howtogetdataoffspotify\n",
    "\n",
    "def analyze_playlist(user_id, playlist_id):\n",
    "\n",
    "    # Create empty dataframe\n",
    "    playlist_features_list = [\"artist\", \"album\", \"track_name\", \"track_id\", \"danceability\", \"energy\", \"key\", \"loudness\",\"mode\", \"speechiness\", \"instrumentalness\", \"liveness\", \"valence\", \"tempo\", \"duration_ms\", \"time_signature\"]\n",
    "\n",
    "    playlist_df = pd.DataFrame(columns = playlist_features_list)\n",
    "\n",
    "    # Loop through every track in the playlist, extract features and append the features to the playlist df\n",
    "\n",
    "    playlist = sp.user_playlist_tracks(user_id, playlist_id)[\"tracks\"][\"items\"]\n",
    "    for track in playlist:\n",
    "        # Create empty dict\n",
    "        playlist_features = {}\n",
    "        # Get metadata\n",
    "        playlist_features[\"artist\"] = track[\"track\"][\"album\"][\"artists\"][0][\"name\"]\n",
    "        playlist_features[\"album\"] = track[\"track\"][\"album\"][\"name\"]\n",
    "        playlist_features[\"track_name\"] = track[\"track\"][\"name\"]\n",
    "        playlist_features[\"track_id\"] = track[\"track\"][\"id\"]\n",
    "\n",
    "    # Get audio features\n",
    "        audio_features = sp.audio_features(playlist_features[\"track_id\"])[0]\n",
    "        for feature in playlist_features_list[4:]:\n",
    "            playlist_features[feature] = audio_features[feature]\n",
    "\n",
    "        # Concat the dfs\n",
    "        track_df = pd.DataFrame(playlist_features, index = [0])\n",
    "        playlist_df = pd.concat([playlist_df, track_df], ignore_index = True)\n",
    "\n",
    "    return playlist_df"
   ]
  },
  {
   "cell_type": "code",
   "execution_count": null,
   "id": "730524d9",
   "metadata": {
    "ExecuteTime": {
     "end_time": "2021-12-18T14:57:25.156920Z",
     "start_time": "2021-12-18T14:57:25.139968Z"
    }
   },
   "outputs": [],
   "source": [
    "# df = analyze_playlist('12158094445','3whqQJWBWirCJW1EeeMw5V')\n",
    "# df"
   ]
  },
  {
   "cell_type": "markdown",
   "id": "43ba0fda",
   "metadata": {},
   "source": [
    "# Audio Features"
   ]
  },
  {
   "cell_type": "code",
   "execution_count": null,
   "id": "4ce99a4a",
   "metadata": {
    "ExecuteTime": {
     "end_time": "2021-12-18T14:48:39.826867Z",
     "start_time": "2021-12-18T14:48:39.731506Z"
    }
   },
   "outputs": [],
   "source": [
    "# https://towardsdatascience.com/spotify-api-audio-features-5d8bcbd780b2\n",
    "audio_features = sp.audio_features('0LyfQWJT6nXafLPZqxe9Of')\n",
    "audio_features"
   ]
  },
  {
   "cell_type": "markdown",
   "id": "0193af4d",
   "metadata": {},
   "source": [
    "# GSA"
   ]
  },
  {
   "cell_type": "code",
   "execution_count": null,
   "id": "83f54f3b",
   "metadata": {
    "ExecuteTime": {
     "end_time": "2022-05-21T00:58:04.171850Z",
     "start_time": "2022-05-21T00:58:03.946815Z"
    },
    "scrolled": false
   },
   "outputs": [],
   "source": [
    "# https://medium.com/analytics-vidhya/easily-analyse-audio-features-from-spotify-playlists-part-1-3b004cd406b3\n",
    "import GSA\n",
    "myPlaylist = GSA.getInformation('37i9dQZF1DX3hgbB9nrEB1', verbose=True)"
   ]
  },
  {
   "cell_type": "markdown",
   "id": "0643d88d",
   "metadata": {},
   "source": [
    "#  Tests"
   ]
  },
  {
   "cell_type": "code",
   "execution_count": null,
   "id": "f4f47b02",
   "metadata": {
    "ExecuteTime": {
     "end_time": "2022-05-18T15:38:36.916232Z",
     "start_time": "2022-05-18T15:37:06.818Z"
    }
   },
   "outputs": [],
   "source": [
    "# # def get_trk_album2(playlist_trx, trx_train, trx_test, ref_fraction):\n",
    "# #     trx_available, reference_trx, expected_trx = prepare_inputs(playlist_trx, trx_train, trx_test, ref_fraction)\n",
    "\n",
    "# trx_freq = tracks_frequency[tracks_frequency.track_id.isin(trx_available['id'])]\n",
    "\n",
    "# select = trx_freq.drop(trx_freq.index)\n",
    "\n",
    "# while len(select) < len(expected_trx)*2:\n",
    "#     rnd = random.uniform(0, 1)\n",
    "#     for i, c in enumerate(trx_freq.cum_perc):\n",
    "#         if rnd <= c:\n",
    "#             select = select.append(trx_freq.iloc[i])\n",
    "#             select = select.drop_duplicates()\n",
    "#             break\n",
    "\n",
    "# select = select[~select.track_id.isin(reference_trx['id'])]\n",
    "# select = select.reset_index()\n",
    "# select = select.iloc[0:len(expected_trx)]['track_id']\n",
    "\n",
    "# selected_trx = trx_available[trx_available.id.isin(select)]\n",
    "\n",
    "# return reference_trx, expected_trx, selected_trx\n",
    "\n",
    "# # reference_trx, expected_trx, selected_trx = get_trk_strata(\n",
    "# #     df_playlists_test['1h4bUPnrpgn8qXGJ5dvTsu'], df_tracks_train,\n",
    "# #     df_tracks_test, .5)\n",
    "# # print(len(reference_trx), len(expected_trx), len(selected_trx))\n",
    "# # reference_trx, expected_trx, selected_trx"
   ]
  },
  {
   "cell_type": "code",
   "execution_count": null,
   "id": "c6812735",
   "metadata": {
    "ExecuteTime": {
     "end_time": "2022-05-18T15:38:36.918227Z",
     "start_time": "2022-05-18T15:37:06.821Z"
    },
    "run_control": {
     "marked": false
    }
   },
   "outputs": [],
   "source": [
    "# def get_tracks_by_album_artist(data_path):\n",
    "#     # check if data extraction already exists then load if it exists, otherwise run query\n",
    "#     if os.path.exists(data_path + '9_tracks_by_artist.pkl') and os.path.exists(\n",
    "#             data_path + '9_tracks_by_album.pkl'):\n",
    "#         print('Tracks by album - Loaded: ' + data_path)\n",
    "#         # load file only if the next step was not executed (getting tracks)\n",
    "#         with open(data_path + '9_tracks_by_artist.pkl', 'rb') as f:\n",
    "#             trx_by_artists = pickle.load(f)\n",
    "\n",
    "#         print('Tracks by artist - Loaded: ' + data_path)\n",
    "#         # load file only if the next step was not executed (getting tracks)\n",
    "#         with open(data_path + '9_tracks_by_album.pkl', 'rb') as f:\n",
    "#             trx_by_albums = pickle.load(f)\n",
    "#     else:\n",
    "#         trx_by_albums, trx_by_artists = tracks_by_album_artist()\n",
    "\n",
    "#         # Save the data\n",
    "#         print('Tracks by album - Saved: ' + data_path)\n",
    "#         with open(data_path + '9_tracks_by_artist.pkl', 'wb') as f:\n",
    "#             pickle.dump(trx_by_artists, f)\n",
    "\n",
    "#         print('Tracks by artist - Saved: ' + data_path)\n",
    "#         with open(data_path + '9_tracks_by_album.pkl', 'wb') as f:\n",
    "#             pickle.dump(trx_by_albums, f)\n",
    "#     return trx_by_albums, trx_by_artists"
   ]
  },
  {
   "cell_type": "code",
   "execution_count": null,
   "id": "3cf8c346",
   "metadata": {
    "ExecuteTime": {
     "end_time": "2022-05-18T15:38:36.919224Z",
     "start_time": "2022-05-18T15:37:06.824Z"
    }
   },
   "outputs": [],
   "source": [
    "# def get_tracks_from_playlist_from_selected_album(pid, aid, ntid):\n",
    "#     p = playlists_train.loc[pid].tracks\n",
    "# #     p = p[~p['id']==ntid]\n",
    "# #     print(type(p))\n",
    "    \n",
    "#     r = []\n",
    "#     for i, tr in enumerate(p):\n",
    "# #         print(i,tr)\n",
    "#         if tr['album']['id'] == aid:\n",
    "#             r.append(tr)\n",
    "# #             tracks_matched.append(track['id'])\n",
    "#     return r"
   ]
  },
  {
   "cell_type": "code",
   "execution_count": null,
   "id": "ddf7a594",
   "metadata": {
    "ExecuteTime": {
     "end_time": "2022-05-18T15:38:36.921232Z",
     "start_time": "2022-05-18T15:37:06.827Z"
    },
    "scrolled": false
   },
   "outputs": [],
   "source": [
    "# select = []\n",
    "# for t, cur_trk in enumerate(reference_trx.T):\n",
    "#     if t < 2:\n",
    "#         #         print(t, cur_trk_album)\n",
    "#         aid = reference_trx.loc[cur_trk].album['id']\n",
    "#         print(t, 'tid:', cur_trk, 'aid: ')\n",
    "        \n",
    "# #         print(co_occurrence_albums_train[aid])\n",
    "# #         print()\n",
    "# #         for co_ocur_aid in co_occurrence_albums_train[aid].T:\n",
    "#         print('AA')\n",
    "#         co_ocur_aid = co_occurrence_albums_train[aid].iloc[1].name\n",
    "# #         if co_ocur_aid != aid:\n",
    "#         print('AAAAAAA')\n",
    "#         print()\n",
    "#         print('co_ocur aid:', co_ocur_aid)\n",
    "#         #                 co_ocur_aid = co_occurrence_albums_train[aid].iloc[1].name\n",
    "#         #                 print(co_ocur_aid)\n",
    "\n",
    "# #                 playlists = random.sample(\n",
    "# #                     albums_dict_train[co_ocur_aid]['in_playlist'],\n",
    "# #                     len(albums_dict_train[co_ocur_aid]['in_playlist']))\n",
    "#         playlist_id = random.sample(albums_dict_train[co_ocur_aid]['in_playlist'], 1)[0]\n",
    "# #                 for playlist_id in playlists:\n",
    "#         print('BBBBBBBB')\n",
    "#         select = random.sample(get_tracks_from_playlist(playlist_id), 1)\n",
    "# #                 selected = get_tracks_from_playlist_from_selected_album(\n",
    "# #                     playlist_id, aid,cur_trk)\n",
    "\n",
    "# #                 if len(selected) > 0:\n",
    "# #                     select = random.sample(selected, 1)\n",
    "# #                     print('break', select)\n",
    "# #                     print()\n",
    "# #                     break\n",
    "# #                     else:\n",
    "# #                         print(select)\n",
    "# #             if len(select) > 0:\n",
    "# #                 print('bbbbccccc')\n",
    "# #                 break\n",
    "\n",
    "# #         print('CCCCCCC')\n",
    "# #         if len(select) > 0:\n",
    "# #             break\n",
    "# #         else:\n",
    "# #             print('RRRRRRR')\n",
    "# #             print('random')\n",
    "# #             select = random.sample(get_tracks_from_playlist(playlist_id), 1)\n",
    "        \n",
    "# #         print('DDDDDDDDDD')\n",
    "# #         print()\n",
    "# #         if len(select) > 0:\n",
    "# #             print('final', select)\n",
    "# #             break"
   ]
  },
  {
   "cell_type": "code",
   "execution_count": null,
   "id": "cbdff73d",
   "metadata": {
    "ExecuteTime": {
     "end_time": "2022-05-18T15:38:36.922216Z",
     "start_time": "2022-05-18T15:37:06.830Z"
    }
   },
   "outputs": [],
   "source": [
    "# artists_dict['72FGvJgYbs0NBeJqECy6cF']"
   ]
  },
  {
   "cell_type": "code",
   "execution_count": null,
   "id": "6b6fd4f1",
   "metadata": {
    "ExecuteTime": {
     "end_time": "2022-05-18T15:38:36.924465Z",
     "start_time": "2022-05-18T15:37:06.833Z"
    }
   },
   "outputs": [],
   "source": [
    "# albums_dict['0a7qEtQgY7QvUyzJ6bcnlc']"
   ]
  },
  {
   "cell_type": "code",
   "execution_count": null,
   "id": "0d2dd779",
   "metadata": {
    "ExecuteTime": {
     "end_time": "2022-05-18T15:38:36.925461Z",
     "start_time": "2022-05-18T15:37:06.836Z"
    },
    "run_control": {
     "marked": false
    },
    "scrolled": false
   },
   "outputs": [],
   "source": [
    "# def tracks_by_album_artist():\n",
    "#     albums = {}\n",
    "#     artists = {}\n",
    "#     cnt = 0\n",
    "#     for t, tid in enumerate(tracks_dict):\n",
    "# #         if t % 100 == 0:\n",
    "# #                 print(\"%s - %d/%d - LEN: %d\" %\n",
    "# #                       (datetime.datetime.now().strftime(format), t, len(albums),\n",
    "# #                        len(tracks_dict)))\n",
    "\n",
    "# #         tr = {}\n",
    "\n",
    "#         # Albums\n",
    "#         alb = tracks_dict[tid]['album']['id']\n",
    "#         if alb not in albums.keys():\n",
    "#             tr = {}\n",
    "#             tr['trx'] = [tid]\n",
    "#             tr['cnt'] = [len(tracks_dict[tid]['in_playlist'])]\n",
    "#             albums.update({alb: tr})\n",
    "#         else:\n",
    "#             curr_track = albums.get(alb)\n",
    "#             curr_in_track = curr_track['trx'].copy()\n",
    "#             curr_in_track.append(tid)\n",
    "#             tr['trx'] = curr_in_track\n",
    "#             aux_cnt = curr_track['cnt'].copy()\n",
    "#             aux_cnt.append(len(tracks_dict[tid]['in_playlist']))\n",
    "#             tr['cnt'] = aux_cnt\n",
    "#             albums.update({alb: tr})\n",
    "\n",
    "#         # Artists\n",
    "# #         tr2 = {}\n",
    "#         for artist in tracks_dict[tid]['artists']:\n",
    "#             art = artist['id']\n",
    "#             if art not in artists.keys():\n",
    "#                 tr2 = {}\n",
    "#                 tr2['trx'] = [tid]\n",
    "#                 tr2['cnt'] = [len(tracks_dict[tid]['in_playlist'])]\n",
    "#                 artists.update({art: tr2})\n",
    "#                 if art == '72FGvJgYbs0NBeJqECy6cF':\n",
    "#                     cnt = cnt + 1\n",
    "#                     print(cnt, 'aid: ',art, 'tid: ', tid)\n",
    "#                     print(tr2)\n",
    "#                     print()\n",
    "#             else:\n",
    "#                 curr_track2 = {}\n",
    "#                 curr_track2 = artists.get(art)\n",
    "#                 curr_in_track2 = curr_track2['trx'].copy()\n",
    "#                 if art == '72FGvJgYbs0NBeJqECy6cF':\n",
    "#                     cnt = cnt + 1\n",
    "#                     print(cnt, 'aid: ',art, 'tid: ', tid)\n",
    "#                     print(curr_track2)\n",
    "#                     print(curr_in_track2)\n",
    "#                 curr_in_track2.append(tid)\n",
    "#                 if art == '72FGvJgYbs0NBeJqECy6cF':\n",
    "#                     print(curr_in_track2)\n",
    "#                 tr2['trx'] = curr_in_track2\n",
    "# #                 tr2['trx'] = curr_track2['trx'].copy().append(tid)\n",
    "#                 aux_cnt2 = curr_track2['cnt'].copy()\n",
    "#                 aux_cnt2.append(len(tracks_dict[tid]['in_playlist']))\n",
    "#                 tr2['cnt'] = aux_cnt2\n",
    "#                 artists.update({art: tr2})\n",
    "                \n",
    "#                 if art == '72FGvJgYbs0NBeJqECy6cF':\n",
    "#                     print(curr_track2)\n",
    "#                     print(curr_in_track2)\n",
    "#                     print(tr2)\n",
    "#                     print()\n",
    "# #     print(artists['72FGvJgYbs0NBeJqECy6cF'])\n",
    "# #                 print(artists)\n",
    "# #         asdf = albums\n",
    "# #         qwer = artists\n",
    "#     return albums, artists\n",
    "\n",
    "# # bkp = tracks_dict\n",
    "# # tmp = {}\n",
    "# # tmp.update({'1tx6cTPSabCIN0V90Hzlhc':tracks_dict['1tx6cTPSabCIN0V90Hzlhc']})\n",
    "# # tmp.update({'2dKyeWBPwhqMfPetw8PiFg':tracks_dict['2dKyeWBPwhqMfPetw8PiFg']})\n",
    "\n",
    "# # tracks_dict = tmp\n",
    "\n",
    "# aaa, bbb = tracks_by_album_artist()\n",
    "\n",
    "# # tracks_dict = bkp\n",
    "\n",
    "# # aaa['72FGvJgYbs0NBeJqECy6cF']\n",
    "# "
   ]
  },
  {
   "cell_type": "code",
   "execution_count": null,
   "id": "97369144",
   "metadata": {
    "ExecuteTime": {
     "end_time": "2022-05-18T15:38:36.927455Z",
     "start_time": "2022-05-18T15:37:06.839Z"
    }
   },
   "outputs": [],
   "source": [
    "# bbb['72FGvJgYbs0NBeJqECy6cF']"
   ]
  },
  {
   "cell_type": "code",
   "execution_count": null,
   "id": "696281e0",
   "metadata": {
    "ExecuteTime": {
     "end_time": "2022-05-18T15:38:36.928452Z",
     "start_time": "2022-05-18T15:37:06.842Z"
    }
   },
   "outputs": [],
   "source": [
    "# tracks_dict['0cWLJcdvM6QlOQ7UJdB4jb']"
   ]
  },
  {
   "cell_type": "code",
   "execution_count": null,
   "id": "8cc4c62c",
   "metadata": {
    "ExecuteTime": {
     "end_time": "2022-05-18T15:38:36.929452Z",
     "start_time": "2022-05-18T15:37:06.846Z"
    },
    "scrolled": true
   },
   "outputs": [],
   "source": [
    "# tracks_dict['6St9ArMKEPj7KOSTEo29Ii']"
   ]
  },
  {
   "cell_type": "code",
   "execution_count": null,
   "id": "1b6dac73",
   "metadata": {
    "ExecuteTime": {
     "end_time": "2022-05-18T15:38:36.931453Z",
     "start_time": "2022-05-18T15:37:06.849Z"
    }
   },
   "outputs": [],
   "source": [
    "# tracks_dict['1tx6cTPSabCIN0V90Hzlhc']"
   ]
  },
  {
   "cell_type": "code",
   "execution_count": null,
   "id": "e9d3230e",
   "metadata": {
    "ExecuteTime": {
     "end_time": "2022-05-18T15:38:36.933439Z",
     "start_time": "2022-05-18T15:37:06.852Z"
    }
   },
   "outputs": [],
   "source": [
    "# # reference_trx, expected_trx, \n",
    "# selected_trx = selected_trx.append(expected_trx[expected_trx['id'] == '0e3CM2Fm4cpDtxjzYkdLAr'])\n",
    "\n",
    "# matches = selected_trx[selected_trx.id.isin(expected_trx.id)].id\n",
    "# matches\n",
    "# len(matches)"
   ]
  },
  {
   "cell_type": "code",
   "execution_count": null,
   "id": "996b1727",
   "metadata": {
    "ExecuteTime": {
     "end_time": "2022-05-18T15:38:36.934436Z",
     "start_time": "2022-05-18T15:37:06.854Z"
    }
   },
   "outputs": [],
   "source": [
    "# expected_trx"
   ]
  },
  {
   "cell_type": "code",
   "execution_count": null,
   "id": "330df2cf",
   "metadata": {
    "ExecuteTime": {
     "end_time": "2022-05-18T15:38:36.936431Z",
     "start_time": "2022-05-18T15:37:06.857Z"
    },
    "code_folding": [],
    "run_control": {
     "marked": false
    }
   },
   "outputs": [],
   "source": [
    "# reference_trx"
   ]
  },
  {
   "cell_type": "code",
   "execution_count": null,
   "id": "cf48bc50",
   "metadata": {
    "ExecuteTime": {
     "end_time": "2022-05-18T15:38:36.937430Z",
     "start_time": "2022-05-18T15:37:06.860Z"
    },
    "run_control": {
     "marked": false
    },
    "scrolled": true
   },
   "outputs": [],
   "source": [
    "# for t, trk in enumerate(reference_trx['id']):\n",
    "#     if t == 0:\n",
    "#         print(trk)\n",
    "# #         print(reference_trx.T[trk].artists)\n",
    "#         for a in reference_trx.T[trk].artists:\n",
    "#             print(a)\n",
    "#             print(a['id'])\n",
    "# #             co_occurrence_artists_train[a.id]\n",
    "            "
   ]
  },
  {
   "cell_type": "code",
   "execution_count": null,
   "id": "407cb4c2",
   "metadata": {
    "ExecuteTime": {
     "end_time": "2022-05-18T15:38:36.939437Z",
     "start_time": "2022-05-18T15:37:06.863Z"
    },
    "run_control": {
     "marked": false
    }
   },
   "outputs": [],
   "source": [
    "# prepare_inputs_co_occur\n",
    "# def prepare_inputs_co_occur(playlist_trx, trx_train, trx_test, fraction):\n",
    "#     trx = playlist_trx.tracks\n",
    "#     n = int((len(trx) + 1) * fraction)\n",
    "\n",
    "#     ids = pd.DataFrame(trx).id  # ids of the original playlist\n",
    "#     selected_ids = random.sample(ids.values.tolist(), n)\n",
    "\n",
    "#     db = trx_train.T\n",
    "#     trx_available = db[~db.id.isin(selected_ids)]\n",
    "\n",
    "#     reference_trx = trx_test.T[trx_test.T.id.isin(selected_ids)]\n",
    "#     expected_trx = trx_test.T[~trx_test.T.id.isin(selected_ids)\n",
    "#                               & trx_test.T.id.isin(ids)]\n",
    "\n",
    "#     return trx_available, reference_trx, expected_trx"
   ]
  },
  {
   "cell_type": "code",
   "execution_count": null,
   "id": "29958407",
   "metadata": {
    "ExecuteTime": {
     "end_time": "2022-05-18T15:38:36.941418Z",
     "start_time": "2022-05-18T15:37:06.866Z"
    }
   },
   "outputs": [],
   "source": [
    "# Tracks by albums and artists\n",
    "# data_path = os.getcwd() + '\\\\data\\\\processed\\\\'\n",
    "# trx_by_albums, trx_by_artists = get_tracks_by_album_artist(data_path)\n",
    "\n",
    "# print('Albums: ', len(trx_by_albums))\n",
    "# print('Artists: ', len(trx_by_artists))"
   ]
  },
  {
   "cell_type": "code",
   "execution_count": null,
   "id": "7eae370a",
   "metadata": {
    "ExecuteTime": {
     "end_time": "2022-05-18T15:38:36.942415Z",
     "start_time": "2022-05-18T15:37:06.868Z"
    }
   },
   "outputs": [],
   "source": [
    "# trx_by_artists['72FGvJgYbs0NBeJqECy6cF']"
   ]
  },
  {
   "cell_type": "code",
   "execution_count": null,
   "id": "e8185534",
   "metadata": {
    "ExecuteTime": {
     "end_time": "2022-05-18T15:38:36.944411Z",
     "start_time": "2022-05-18T15:37:06.871Z"
    },
    "run_control": {
     "marked": false
    }
   },
   "outputs": [],
   "source": [
    "# trx_by_albums['0cTd2N7LixNrzfQuivSEmG']"
   ]
  },
  {
   "cell_type": "code",
   "execution_count": null,
   "id": "ca1ebd13",
   "metadata": {
    "ExecuteTime": {
     "end_time": "2022-05-18T15:38:36.946406Z",
     "start_time": "2022-05-18T15:37:06.874Z"
    }
   },
   "outputs": [],
   "source": [
    "# trx_by_artists['72FGvJgYbs0NBeJqECy6cF']"
   ]
  },
  {
   "cell_type": "code",
   "execution_count": null,
   "id": "9eaa8bea",
   "metadata": {
    "ExecuteTime": {
     "end_time": "2022-05-18T15:38:36.948399Z",
     "start_time": "2022-05-18T15:37:06.878Z"
    }
   },
   "outputs": [],
   "source": [
    "# tracks_dict"
   ]
  },
  {
   "cell_type": "code",
   "execution_count": null,
   "id": "51e02118",
   "metadata": {
    "ExecuteTime": {
     "end_time": "2022-05-18T15:38:36.951393Z",
     "start_time": "2022-05-18T15:37:06.881Z"
    }
   },
   "outputs": [],
   "source": [
    "# tracks_dict['2dKyeWBPwhqMfPetw8PiFg']"
   ]
  },
  {
   "cell_type": "code",
   "execution_count": null,
   "id": "7391e3ed",
   "metadata": {
    "ExecuteTime": {
     "end_time": "2022-05-18T15:38:36.952388Z",
     "start_time": "2022-05-18T15:37:06.884Z"
    }
   },
   "outputs": [],
   "source": [
    "# tracks_dict['1tx6cTPSabCIN0V90Hzlhc']"
   ]
  },
  {
   "cell_type": "code",
   "execution_count": null,
   "id": "9a5f3c7f",
   "metadata": {
    "ExecuteTime": {
     "end_time": "2022-05-18T15:38:36.953397Z",
     "start_time": "2022-05-18T15:37:06.886Z"
    }
   },
   "outputs": [],
   "source": [
    "# selected_trx"
   ]
  },
  {
   "cell_type": "code",
   "execution_count": null,
   "id": "eb68d9f5",
   "metadata": {
    "ExecuteTime": {
     "end_time": "2022-05-18T15:38:36.954398Z",
     "start_time": "2022-05-18T15:37:06.889Z"
    }
   },
   "outputs": [],
   "source": [
    "# selected_trx.info()"
   ]
  },
  {
   "cell_type": "code",
   "execution_count": null,
   "id": "24c2c6c3",
   "metadata": {
    "ExecuteTime": {
     "end_time": "2022-05-18T15:38:36.956626Z",
     "start_time": "2022-05-18T15:37:06.893Z"
    }
   },
   "outputs": [],
   "source": [
    "# for t, tid in enumerate(co_occurrence_tracks_train):\n",
    "#     if t == 10:\n",
    "#         df = co_occurrence_tracks_train[tid]\n",
    "#         df['cum_sum'] = df['cnt'].cumsum()\n",
    "#         df['cum_perc'] = 100*df['cum_sum']/df['cnt'].sum()\n",
    "#         selector = random.sample(list(df.index),len(df))\n",
    "#         print(selector)\n",
    "#         print(len(selector))\n",
    "\n",
    "#         cnt = 0\n",
    "#         tot = 0\n",
    "#         for i, item in enumerate(co_occurrence_tracks_train[tid]['cnt']):\n",
    "#                 cnt = cnt + 1\n",
    "#                 tot = tot + item\n",
    "#         print(cnt)\n",
    "#         print(tot)"
   ]
  },
  {
   "cell_type": "code",
   "execution_count": null,
   "id": "c6f1ae0a",
   "metadata": {
    "ExecuteTime": {
     "end_time": "2022-05-18T15:38:36.957624Z",
     "start_time": "2022-05-18T15:37:06.897Z"
    }
   },
   "outputs": [],
   "source": [
    "# def ranking(df,id_column):\n",
    "#     single_list_temp = single_list(df[id_column])\n",
    "#     data = {id_column: single_list_temp}\n",
    "#     aux_df = pd.DataFrame(data)\n",
    "    \n",
    "#     name = id_column.replace('_id','_count')\n",
    "#     ranked_sorted = aux_df.groupby([id_column]).agg(\n",
    "#         temp_count=pd.NamedAgg(column=id_column, aggfunc=\"count\")\n",
    "#     )\n",
    "#     ranked_sorted = ranked_sorted.rename(columns={'temp_count': name})\n",
    "#     ranked_sorted = ranked_sorted.sort_values(name,ascending=False)\n",
    "#     return ranked_sorted\n",
    "# # ranking(df_test,'tracks_id')\n",
    "# # print(tracks_rank)\n",
    "\n",
    "# def top(ranked,n):\n",
    "#     top_n = ranked.iloc[:n]\n",
    "    \n",
    "#     return top_n\n",
    "# # tracks_rank = ranking(df_test,'tracks_id')\n",
    "# # top(tracks_rank,10)\n",
    "#     return ranked\n",
    "\n",
    "# a = track_rank = ranking(df_test,'tracks_id')"
   ]
  },
  {
   "cell_type": "code",
   "execution_count": null,
   "id": "1cd58a22",
   "metadata": {
    "ExecuteTime": {
     "end_time": "2022-05-18T15:38:36.959618Z",
     "start_time": "2022-05-18T15:37:06.899Z"
    }
   },
   "outputs": [],
   "source": [
    "# df['cum_sum'] = df['cnt'].cumsum()\n",
    "# df['cum_perc'] = 100*df['cum_sum']/co_occurrence_tracks_train['cnt'].sum()"
   ]
  },
  {
   "cell_type": "code",
   "execution_count": null,
   "id": "80f6dcfa",
   "metadata": {
    "ExecuteTime": {
     "end_time": "2022-05-18T15:38:36.961612Z",
     "start_time": "2022-05-18T15:37:06.903Z"
    }
   },
   "outputs": [],
   "source": [
    "# matrix track x track\n",
    "# track_rank = ranking(df_test,'tracks_id')\n",
    "# s_tracks_id = list(track_rank.index)\n",
    "\n",
    "# shape = [len(s_tracks_id), len(s_tracks_id)]\n",
    "# track_matrix = np.zeros(shape, dtype=int, order='C')\n",
    "\n",
    "# for i, row_track in enumerate(s_tracks_id):\n",
    "#     row = s_tracks_id.index(row_track)\n",
    "#     if i != row: print(\"i: \" + str(i) + \": \" + row_track), print()\n",
    "\n",
    "#     for playlist in df_test['tracks_id']:\n",
    "#         try:\n",
    "#             check = playlist.index(row_track)\n",
    "#         except ValueError:\n",
    "#             #             print(row)\n",
    "#             check = -1\n",
    "#         if check >= 0:\n",
    "#             for col_track in playlist:\n",
    "#                 if col_track is not None:\n",
    "#                     col = s_tracks_id.index(col_track)\n",
    "#                     #                     print(col_track  + \" - \" + str(col))\n",
    "#                     #                     tr = df_test['tracks'][n][col]\n",
    "#                     #                     print(\"track: \" + str(n) + \": \" + col_track + \" - col_match:\" + str(col) + \": \") # + tr)\n",
    "#                     track_matrix[row, col] += 1\n",
    "# # print(track_matrix)"
   ]
  }
 ],
 "metadata": {
  "hide_input": false,
  "kernelspec": {
   "display_name": "Python 3",
   "language": "python",
   "name": "python3"
  },
  "language_info": {
   "codemirror_mode": {
    "name": "ipython",
    "version": 3
   },
   "file_extension": ".py",
   "mimetype": "text/x-python",
   "name": "python",
   "nbconvert_exporter": "python",
   "pygments_lexer": "ipython3",
   "version": "3.8.10"
  },
  "toc": {
   "base_numbering": 1,
   "nav_menu": {},
   "number_sections": true,
   "sideBar": true,
   "skip_h1_title": false,
   "title_cell": "Table of Contents",
   "title_sidebar": "Contents",
   "toc_cell": false,
   "toc_position": {},
   "toc_section_display": true,
   "toc_window_display": false
  },
  "varInspector": {
   "cols": {
    "lenName": 16,
    "lenType": 16,
    "lenVar": 40
   },
   "kernels_config": {
    "python": {
     "delete_cmd_postfix": "",
     "delete_cmd_prefix": "del ",
     "library": "var_list.py",
     "varRefreshCmd": "print(var_dic_list())"
    },
    "r": {
     "delete_cmd_postfix": ") ",
     "delete_cmd_prefix": "rm(",
     "library": "var_list.r",
     "varRefreshCmd": "cat(var_dic_list()) "
    }
   },
   "types_to_exclude": [
    "module",
    "function",
    "builtin_function_or_method",
    "instance",
    "_Feature"
   ],
   "window_display": false
  }
 },
 "nbformat": 4,
 "nbformat_minor": 5
}
