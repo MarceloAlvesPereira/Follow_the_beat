{
 "cells": [
  {
   "cell_type": "markdown",
   "id": "11ff3b63",
   "metadata": {},
   "source": [
    "**Objectives:**\n",
    "- recommend the next song for an user base on his current playlist\n",
    "\n",
    "**Assumptions:**\n",
    "- tracks of a given playlist are the favorite songs of the user\n",
    "\n",
    "**Methodology:**\n",
    "1. Collaborative filtering\n",
    "2. Initial sample for each user will take 70% of the tracks in the playlist (check if the sorting of the musics in the playlist has any information - date of inclusion, user sorting, etc) and then use the remaining 30% of the tracks as test.\n",
    "3. **If we have time:** Hybrid model by adding *Content based filtering* for playlists with few tracks\n",
    "    - Track features: genre, time, top_track, etc.\n",
    "**Concerns:**\n",
    "- cold start: playlists with few tracks\n",
    "- rare tracks: treatment to be applied to the tracks with low frequency on the database\n",
    "- only positive rating: we will have only tracks that the user liked, we do not have any data about tracks that they did not like.\n",
    "\n",
    "\n",
    "**Python Libraries:**\n",
    "- Sagemaker\n",
    "- Elasticsearch\n",
    "- PySpark"
   ]
  },
  {
   "cell_type": "markdown",
   "id": "7dc45f77",
   "metadata": {},
   "source": []
  },
  {
   "cell_type": "markdown",
   "id": "a8d910d7",
   "metadata": {},
   "source": []
  },
  {
   "cell_type": "markdown",
   "id": "d3678669",
   "metadata": {},
   "source": []
  },
  {
   "cell_type": "markdown",
   "id": "c1fc4610",
   "metadata": {},
   "source": [
    "https://developer.spotify.com/documentation/web-api/\n",
    "https://developer.spotify.com/\n",
    "https://developer.spotify.com/dashboard/login"
   ]
  },
  {
   "cell_type": "code",
   "execution_count": 1,
   "id": "11dd7a96",
   "metadata": {
    "ExecuteTime": {
     "end_time": "2021-10-09T17:57:13.712658Z",
     "start_time": "2021-10-09T17:57:10.103233Z"
    }
   },
   "outputs": [],
   "source": [
    "# Default libraries: pandas, numpy\n",
    "# import beakerx\n",
    "import cProfile\n",
    "import datetime\n",
    "import feather\n",
    "import math\n",
    "import os\n",
    "import pickle\n",
    "import sys\n",
    "import time\n",
    "\n",
    "import matplotlib.pyplot as plt\n",
    "import numpy as np\n",
    "import pandas as pd\n",
    "import seaborn as sns\n",
    "# import urbangrammar_graphics as ugg\n",
    "\n",
    "from IPython.display import Markdown as md\n",
    "from collections import Counter\n",
    "from clustergram import Clustergram\n",
    "from datetime import datetime\n",
    "from itertools import groupby\n",
    "\n",
    "from sklearn import __version__ as sklearn_version\n",
    "from sklearn.decomposition import PCA\n",
    "from sklearn.dummy import DummyRegressor\n",
    "from sklearn.ensemble import RandomForestClassifier, RandomForestRegressor, AdaBoostClassifier, BaggingClassifier\n",
    "from sklearn.feature_selection import SelectKBest, f_regression\n",
    "from sklearn.impute import SimpleImputer\n",
    "from sklearn.linear_model import LinearRegression, LogisticRegression\n",
    "from sklearn.metrics import mean_squared_error, mean_absolute_error, accuracy_score, classification_report\n",
    "from sklearn.model_selection import train_test_split, cross_validate, learning_curve, GridSearchCV, RandomizedSearchCV, GridSearchCV\n",
    "from sklearn.neighbors import KNeighborsClassifier\n",
    "from sklearn.pipeline import make_pipeline\n",
    "from sklearn.preprocessing import scale, StandardScaler, MinMaxScaler, RobustScaler\n",
    "from sklearn.tree import DecisionTreeClassifier\n",
    "\n",
    "from xgboost import XGBClassifier\n",
    "\n",
    "# from library.sb_utils import save_file\n",
    "\n",
    "pd.options.display.float_format = \"{:.2f}\".format\n",
    "# plt.rcParams.update({'font.size': 18})"
   ]
  },
  {
   "cell_type": "code",
   "execution_count": 2,
   "id": "9b1f7920",
   "metadata": {
    "ExecuteTime": {
     "end_time": "2021-10-09T17:57:13.742582Z",
     "start_time": "2021-10-09T17:57:13.714655Z"
    }
   },
   "outputs": [],
   "source": [
    "from dotenv import load_dotenv\n",
    "\n",
    "load_dotenv()\n",
    "SPOTIPY_API = os.getenv('SPOTIPY_API')\n",
    "SPOTIPY_API_KEY = os.getenv('SPOTIPY_API_KEY')\n",
    "scope=''\n",
    "\n",
    "# https://spotipy.readthedocs.io/en/latest/#\n",
    "import spotipy\n",
    "from spotipy.oauth2 import SpotifyClientCredentials\n",
    "client_credentials_manager = SpotifyClientCredentials(client_id=SPOTIPY_API, client_secret=SPOTIPY_API_KEY)\n",
    "\n",
    "# help(sp)\n",
    "sp = spotipy.Spotify(client_credentials_manager=client_credentials_manager)"
   ]
  },
  {
   "cell_type": "code",
   "execution_count": 3,
   "id": "8e50e18d",
   "metadata": {
    "ExecuteTime": {
     "end_time": "2021-10-09T17:57:13.757540Z",
     "start_time": "2021-10-09T17:57:13.745573Z"
    }
   },
   "outputs": [],
   "source": [
    "def get_playlist_detail(user, playlist_id):\n",
    "    artists = []\n",
    "    albums =[]\n",
    "    tracks = []\n",
    "    popularity = []\n",
    "    artists_id = []\n",
    "    albums_id =[]\n",
    "    tracks_id = []\n",
    "    \n",
    "    playlist = sp.user_playlist(user, playlist_id)\n",
    "    \n",
    "    \n",
    "    for item in playlist['tracks']['items']:\n",
    "#         print(item)\n",
    "        for artist in item['track']['album']['artists']:\n",
    "            artists.append(artist['name'])\n",
    "            artists_id.append(artist['id'])\n",
    "        albums.append(item['track']['album']['name'])\n",
    "        tracks.append(item['track']['name'])\n",
    "        popularity.append(item['track']['popularity'])\n",
    "        \n",
    "        albums_id.append(item['track']['album']['id'])\n",
    "        tracks_id.append(item['track']['id'])\n",
    "        \n",
    "    return playlist_id, artists, albums, tracks, popularity, artists_id, albums_id, tracks_id;\n",
    "\n",
    "# playlist_id, artists, albums, tracks, popularity, artists_id, albums_id, tracks_id = get_playlist_detail('aweben', '0ZX4VUgxREEHGK5NPTeCX3')"
   ]
  },
  {
   "cell_type": "code",
   "execution_count": 4,
   "id": "4befb4b8",
   "metadata": {
    "ExecuteTime": {
     "end_time": "2021-10-09T17:57:39.209986Z",
     "start_time": "2021-10-09T17:57:13.759538Z"
    }
   },
   "outputs": [],
   "source": [
    "n = 100\n",
    "for i in range(0,n,1):\n",
    "    playlist = sp.search(q='year:2020', type='playlist', limit=1,offset=i,market='US')\n",
    "    \n",
    "    playlist_id, artists, albums, tracks, popularity, artists_id, albums_id, tracks_id = get_playlist_detail(playlist['playlists']['owner'],playlist['playlists']['id'])"
   ]
  },
  {
   "cell_type": "code",
   "execution_count": 5,
   "id": "c3ffafb0",
   "metadata": {
    "ExecuteTime": {
     "end_time": "2021-10-09T17:57:39.225158Z",
     "start_time": "2021-10-09T17:57:39.213191Z"
    }
   },
   "outputs": [],
   "source": [
    "# https://towardsdatascience.com/stop-using-csvs-for-storage-this-file-format-is-150-times-faster-158bd322074e\n",
    "# help(feather)\n",
    "# df = pd.DataFrame()\n",
    "\n",
    "# df.to_feather('1M.feather')\n",
    "# feather.write_dataframe(df, 'feather_test.feather')"
   ]
  },
  {
   "cell_type": "code",
   "execution_count": 6,
   "id": "1fcf3062",
   "metadata": {
    "ExecuteTime": {
     "end_time": "2021-10-09T17:59:11.206525Z",
     "start_time": "2021-10-09T17:59:11.188574Z"
    }
   },
   "outputs": [
    {
     "data": {
      "text/plain": [
       "dict"
      ]
     },
     "execution_count": 6,
     "metadata": {},
     "output_type": "execute_result"
    }
   ],
   "source": [
    "type(playlist)\n"
   ]
  },
  {
   "cell_type": "code",
   "execution_count": 7,
   "id": "bd447435",
   "metadata": {
    "ExecuteTime": {
     "end_time": "2021-10-09T17:59:26.968106Z",
     "start_time": "2021-10-09T17:59:26.947188Z"
    }
   },
   "outputs": [
    {
     "data": {
      "text/plain": [
       "{'playlists': {'href': 'https://api.spotify.com/v1/search?query=year%3A2020&type=playlist&market=US&offset=99&limit=1',\n",
       "  'items': [{'collaborative': False,\n",
       "    'description': 'By popular demand...heres 100 songs that helped get me through 2020. For the full selection listen to the End of Year Mixtapes part one &amp; two on BBC Sounds. Available for another few weeks. Tune in to the radio show on BBC Radio 1 every wednesday night for brand new music weekly. Love to one and all',\n",
       "    'external_urls': {'spotify': 'https://open.spotify.com/playlist/3js9I39AXh0FB7U0rDRfHF'},\n",
       "    'href': 'https://api.spotify.com/v1/playlists/3js9I39AXh0FB7U0rDRfHF',\n",
       "    'id': '3js9I39AXh0FB7U0rDRfHF',\n",
       "    'images': [{'height': None,\n",
       "      'url': 'https://i.scdn.co/image/ab67706c0000bebb9958788ecdb3bb2426d6f75c',\n",
       "      'width': None}],\n",
       "    'name': 'Benji B. - 2020 End of Year Mixtape',\n",
       "    'owner': {'display_name': 'Benji B',\n",
       "     'external_urls': {'spotify': 'https://open.spotify.com/user/benjib'},\n",
       "     'href': 'https://api.spotify.com/v1/users/benjib',\n",
       "     'id': 'benjib',\n",
       "     'type': 'user',\n",
       "     'uri': 'spotify:user:benjib'},\n",
       "    'primary_color': None,\n",
       "    'public': None,\n",
       "    'snapshot_id': 'MTIsYjg3ZWEzNTM3YmExMjMxMDhiNDMxMmUxMGI1M2VkYTNmMzAwNjZkYw==',\n",
       "    'tracks': {'href': 'https://api.spotify.com/v1/playlists/3js9I39AXh0FB7U0rDRfHF/tracks',\n",
       "     'total': 100},\n",
       "    'type': 'playlist',\n",
       "    'uri': 'spotify:playlist:3js9I39AXh0FB7U0rDRfHF'}],\n",
       "  'limit': 1,\n",
       "  'next': 'https://api.spotify.com/v1/search?query=year%3A2020&type=playlist&market=US&offset=100&limit=1',\n",
       "  'offset': 99,\n",
       "  'previous': 'https://api.spotify.com/v1/search?query=year%3A2020&type=playlist&market=US&offset=98&limit=1',\n",
       "  'total': 7855}}"
      ]
     },
     "execution_count": 7,
     "metadata": {},
     "output_type": "execute_result"
    }
   ],
   "source": [
    "playlist"
   ]
  },
  {
   "cell_type": "code",
   "execution_count": 11,
   "id": "d903251a",
   "metadata": {
    "ExecuteTime": {
     "end_time": "2021-10-09T18:01:57.960673Z",
     "start_time": "2021-10-09T18:01:57.939730Z"
    }
   },
   "outputs": [
    {
     "ename": "KeyError",
     "evalue": "'items'",
     "output_type": "error",
     "traceback": [
      "\u001b[1;31m---------------------------------------------------------------------------\u001b[0m",
      "\u001b[1;31mKeyError\u001b[0m                                  Traceback (most recent call last)",
      "\u001b[1;32m<ipython-input-11-1dd54b624838>\u001b[0m in \u001b[0;36m<module>\u001b[1;34m\u001b[0m\n\u001b[1;32m----> 1\u001b[1;33m \u001b[0mplaylist\u001b[0m\u001b[1;33m[\u001b[0m\u001b[1;34m'items'\u001b[0m\u001b[1;33m]\u001b[0m\u001b[1;33m[\u001b[0m\u001b[1;34m'playlists'\u001b[0m\u001b[1;33m]\u001b[0m\u001b[1;33m[\u001b[0m\u001b[1;34m'owner'\u001b[0m\u001b[1;33m]\u001b[0m\u001b[1;33m\u001b[0m\u001b[1;33m\u001b[0m\u001b[0m\n\u001b[0m",
      "\u001b[1;31mKeyError\u001b[0m: 'items'"
     ]
    }
   ],
   "source": [
    "playlist['items']['playlists']['owner']"
   ]
  },
  {
   "cell_type": "code",
   "execution_count": null,
   "id": "50e96d8f",
   "metadata": {},
   "outputs": [],
   "source": []
  }
 ],
 "metadata": {
  "hide_input": false,
  "kernelspec": {
   "display_name": "Python 3",
   "language": "python",
   "name": "python3"
  },
  "language_info": {
   "codemirror_mode": {
    "name": "ipython",
    "version": 3
   },
   "file_extension": ".py",
   "mimetype": "text/x-python",
   "name": "python",
   "nbconvert_exporter": "python",
   "pygments_lexer": "ipython3",
   "version": "3.8.10"
  },
  "toc": {
   "base_numbering": 1,
   "nav_menu": {},
   "number_sections": true,
   "sideBar": true,
   "skip_h1_title": false,
   "title_cell": "Table of Contents",
   "title_sidebar": "Contents",
   "toc_cell": false,
   "toc_position": {},
   "toc_section_display": true,
   "toc_window_display": false
  },
  "varInspector": {
   "cols": {
    "lenName": 16,
    "lenType": 16,
    "lenVar": 40
   },
   "kernels_config": {
    "python": {
     "delete_cmd_postfix": "",
     "delete_cmd_prefix": "del ",
     "library": "var_list.py",
     "varRefreshCmd": "print(var_dic_list())"
    },
    "r": {
     "delete_cmd_postfix": ") ",
     "delete_cmd_prefix": "rm(",
     "library": "var_list.r",
     "varRefreshCmd": "cat(var_dic_list()) "
    }
   },
   "types_to_exclude": [
    "module",
    "function",
    "builtin_function_or_method",
    "instance",
    "_Feature"
   ],
   "window_display": false
  }
 },
 "nbformat": 4,
 "nbformat_minor": 5
}
