{
 "cells": [
  {
   "cell_type": "markdown",
   "id": "35ac28dd",
   "metadata": {},
   "source": [
    "# 1 Introduction"
   ]
  },
  {
   "cell_type": "markdown",
   "id": "f17b0247",
   "metadata": {},
   "source": [
    "You are dining in a restaurant, and once you finish your main course, the attendant appears by your side and recommends a dessert that fits your taste like he could reading your mind. The attendant may not be a clairvoyant, but they could have suggested that dessert by considering your items selected for dinner or simply offering the most popular dessert on the menu.\n",
    "\n",
    "We have known this kind of recommendation for a while; however, with the rise of e-commerce and streaming services, recommendation systems are part of our daily lives. You finish watching a movie, and a selection of films pops up on your screen, you include an item in the cart of your favorite online store, and related articles are presented to you, and this list keeps growing bigger.\n",
    "\n",
    "To evaluate different approaches to the recommendation systems, I created a model to suggest new songs based on an existing playlist. Then, using Spotify users' playlists, I took a part of the playlist's songs, recommended the remaining songs, and checked if the recommendations matched the songs on the playlist initially.\n",
    "\n",
    "<!-- https://developer.spotify.com/documentation/web-api/\n",
    "\n",
    "https://developer.spotify.com/\n",
    "\n",
    "https://developer.spotify.com/dashboard/login \n",
    "\n",
    "**Objectives:**\n",
    "- recommend the next song for an user base on his current playlist\n",
    "\n",
    "**Assumptions:**\n",
    "- tracks of a given playlist are the favorite songs of the user\n",
    "\n",
    "**Methodology:**\n",
    "1. Collaborative filtering\n",
    "2. Initial sample for each user will take 70% of the tracks in the playlist (check if the sorting of the musics in the playlist has any information - date of inclusion, user sorting, etc) and then use the remaining 30% of the tracks as test.\n",
    "3. **If we have time:** Hybrid model by adding *Content based filtering* for playlists with few tracks\n",
    "    - Track features: genre, time, top_track, etc.\n",
    "**Concerns:**\n",
    "- cold start: playlists with few tracks\n",
    "- rare tracks: treatment to be applied to the tracks with low frequency on the database\n",
    "- only positive rating: we will have only tracks that the user liked, we do not have any data about tracks that they did not like.\n",
    "\n",
    "\n",
    "**Python Libraries:**\n",
    "- Sagemaker\n",
    "- Elasticsearch\n",
    "- PySpark\n",
    "\n",
    "-->"
   ]
  },
  {
   "cell_type": "markdown",
   "id": "7391166a",
   "metadata": {},
   "source": [
    "## Recommendation systems"
   ]
  },
  {
   "cell_type": "markdown",
   "id": "4ab6e2b8",
   "metadata": {},
   "source": [
    "A recommendation system suggests a new item based on data about the product, services, or the clients themselves. For example, we have collaborative filtering, which models user preference based on their past interactions.  \n",
    "\n",
    "https://towardsdatascience.com/neural-collaborative-filtering-96cef1009401\n",
    "\n",
    "It was considered the **random model** where random songs were selected with the same probability, and 4 variants of the collaborative filtering model with selection criteria based on:\n",
    "1. **Track occurrence** frequency: the number of times that a given track appeared in the data set will set the probability of that track being selected\n",
    "\n",
    "2. **Artists co-occurrence**: artists present in the same playlist; for example, artist A is in playlists 1 and 2. Now we have a playlist that we will provide a list of tracks, and this playlist also has artist A. Then we will select randomly one track from playlists 1 or 2.\n",
    "\n",
    "3. **Albums co-occurrence**: the same as artists, but considering the albums' co-occurrence\n",
    "\n",
    "4. **Tracks co-occurrence**: the same for tracks\n",
    "\n",
    "I assumed the playlist's tracks as the favorite songs of a user, then, if they were suggested, the user would like the suggestion, and it could be considered a success.\n",
    "\n",
    "On the other hand, I did not include any special treatment for *cold starts*, e.g., the item's first appearance. In this case, a random song was selected."
   ]
  },
  {
   "cell_type": "markdown",
   "id": "8fe6230a",
   "metadata": {},
   "source": [
    "## Data source"
   ]
  },
  {
   "cell_type": "markdown",
   "id": "af0255a1",
   "metadata": {},
   "source": [
    "The data for the model was acquired using the API Spotipy:\n",
    "* https://spotipy.readthedocs.io/en/2.19.0/\n",
    "* https://developer.spotify.com/documentation/web-api/\n",
    "\n",
    "The data is hierarchical based on:\n",
    "* User ID\n",
    "    * Playlist ID\n",
    "        * Tracks\n",
    "            * Track ID\n",
    "                * Track name\n",
    "                * Artists\n",
    "                * Album"
   ]
  },
  {
   "cell_type": "markdown",
   "id": "b8f13cd4",
   "metadata": {
    "ExecuteTime": {
     "end_time": "2021-07-10T18:16:03.327878Z",
     "start_time": "2021-07-10T18:16:03.307932Z"
    }
   },
   "source": [
    "## Stakeholders"
   ]
  },
  {
   "cell_type": "markdown",
   "id": "f7444ff3",
   "metadata": {},
   "source": [
    "The subject of this study is relevant to:\n",
    "\n",
    "- **streaming services** suggesting the right content is fundamental to keep their users engaged\n",
    "\n",
    "- **e-commerce** the model can provide insights on how to improve their suggestions and improve the customer journey\n",
    "\n",
    "- **business** any executive that wants to guide their company to success can take advantage of knowing how to provide the exemplary service or product to their clients\n",
    "\n",
    "- **consumers** knowing how the companies make use of their data of goods and services usage and behaviors can instruct them to be aware of these practices and can save them from impulsive behavior of consumption"
   ]
  },
  {
   "cell_type": "markdown",
   "id": "12d2ec65",
   "metadata": {},
   "source": [
    "## Project Structure"
   ]
  },
  {
   "cell_type": "markdown",
   "id": "deb2b96e",
   "metadata": {
    "run_control": {
     "marked": true
    }
   },
   "source": [
    "The following parts are:\n",
    "\n",
    "2. **Data extraction:** API data extraction\n",
    "\n",
    "3. **Exploratory data analysis (EDA) and data cleansing:** general data validation, overall numbers, basic statistics, distributions, data visualizations, and data cleansing\n",
    "\n",
    "4. **Model:** model definition and testing\n",
    "\n",
    "5. **Results and conclusion:** summary of the results with graphical visualization, conclusions, and enhancements suggestions"
   ]
  }
 ],
 "metadata": {
  "hide_input": false,
  "kernelspec": {
   "display_name": "Python 3",
   "language": "python",
   "name": "python3"
  },
  "language_info": {
   "codemirror_mode": {
    "name": "ipython",
    "version": 3
   },
   "file_extension": ".py",
   "mimetype": "text/x-python",
   "name": "python",
   "nbconvert_exporter": "python",
   "pygments_lexer": "ipython3",
   "version": "3.8.10"
  },
  "toc": {
   "base_numbering": 1,
   "nav_menu": {},
   "number_sections": true,
   "sideBar": true,
   "skip_h1_title": false,
   "title_cell": "Table of Contents",
   "title_sidebar": "Contents",
   "toc_cell": false,
   "toc_position": {},
   "toc_section_display": true,
   "toc_window_display": false
  },
  "varInspector": {
   "cols": {
    "lenName": 16,
    "lenType": 16,
    "lenVar": 40
   },
   "kernels_config": {
    "python": {
     "delete_cmd_postfix": "",
     "delete_cmd_prefix": "del ",
     "library": "var_list.py",
     "varRefreshCmd": "print(var_dic_list())"
    },
    "r": {
     "delete_cmd_postfix": ") ",
     "delete_cmd_prefix": "rm(",
     "library": "var_list.r",
     "varRefreshCmd": "cat(var_dic_list()) "
    }
   },
   "types_to_exclude": [
    "module",
    "function",
    "builtin_function_or_method",
    "instance",
    "_Feature"
   ],
   "window_display": false
  }
 },
 "nbformat": 4,
 "nbformat_minor": 5
}
