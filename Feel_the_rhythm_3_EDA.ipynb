{
 "cells": [
  {
   "cell_type": "code",
   "execution_count": 1,
   "id": "11dd7a96",
   "metadata": {
    "ExecuteTime": {
     "end_time": "2022-05-24T01:45:36.825704Z",
     "start_time": "2022-05-24T01:45:34.584066Z"
    },
    "run_control": {
     "marked": false
    }
   },
   "outputs": [],
   "source": [
    "import os\n",
    "import time\n",
    "\n",
    "import pandas as pd\n",
    "\n",
    "import pickle\n",
    "\n",
    "import matplotlib.pyplot as plt\n",
    "\n",
    "import seaborn as sns\n",
    "\n",
    "from sklearn.model_selection import train_test_split, cross_validate, learning_curve, GridSearchCV, RandomizedSearchCV, GridSearchCV\n",
    "\n",
    "import gc\n",
    "\n",
    "pd.options.display.float_format = \"{:.2f}\".format\n",
    "format = '%d/%m/%Y %H:%M'"
   ]
  },
  {
   "cell_type": "markdown",
   "id": "89968671",
   "metadata": {},
   "source": [
    "# Exploratory data analysis"
   ]
  },
  {
   "cell_type": "markdown",
   "id": "7a9dedad",
   "metadata": {},
   "source": [
    "Load all data required."
   ]
  },
  {
   "cell_type": "code",
   "execution_count": 2,
   "id": "239b6013",
   "metadata": {
    "ExecuteTime": {
     "end_time": "2022-05-24T01:45:37.473288Z",
     "start_time": "2022-05-24T01:45:36.831697Z"
    },
    "run_control": {
     "marked": false
    }
   },
   "outputs": [
    {
     "name": "stdout",
     "output_type": "stream",
     "text": [
      "Loaded: All playlists as dictionary - C:\\Users\\map_f\\OneDrive\\Documents\\GitHub\\Follow_the_beat\\data\\external\\raw_3_playlists_dict.pkl\n",
      "1851\n"
     ]
    }
   ],
   "source": [
    "# Concatenate all playlists\n",
    "data_path = os.getcwd() + '\\\\data\\\\external\\\\raw_3_playlists_dict.pkl'\n",
    "txt = 'All playlists as dictionary - ' + data_path\n",
    "if os.path.exists(data_path):\n",
    "    print('Loaded: ' + txt)\n",
    "    with open(data_path, 'rb') as f:\n",
    "        playlists_dict = pickle.load(f)\n",
    "else:\n",
    "    print('File not found: ' + txt)\n",
    "print(len(playlists_dict))"
   ]
  },
  {
   "cell_type": "markdown",
   "id": "e3227b6a",
   "metadata": {},
   "source": [
    "## Functions to create dictionaries"
   ]
  },
  {
   "cell_type": "markdown",
   "id": "996c099b",
   "metadata": {},
   "source": [
    "### Tracks"
   ]
  },
  {
   "cell_type": "code",
   "execution_count": 3,
   "id": "1164dae8",
   "metadata": {
    "ExecuteTime": {
     "end_time": "2022-05-24T01:45:37.659516Z",
     "start_time": "2022-05-24T01:45:37.474791Z"
    }
   },
   "outputs": [],
   "source": [
    "# All tracks\n",
    "def dict_all_tracks(path, df):\n",
    "    #     data_path = os.getcwd() + path\n",
    "    data_path = path\n",
    "    txt = 'All tracks as a dictionary - ' + path\n",
    "\n",
    "    if os.path.exists(data_path):\n",
    "        print('Loaded: ' + txt)\n",
    "        with open(data_path, 'rb') as f:\n",
    "            tracks_dict = pickle.load(f)\n",
    "    else:\n",
    "        # Extract the user and playlist IDs\n",
    "        if type(df) is not dict:\n",
    "            playlists_dict = df.to_dict('index')\n",
    "        else:\n",
    "            playlists_dict = df\n",
    "        tracks_dict = {}\n",
    "        for i, pid in enumerate(playlists_dict):\n",
    "            pl = playlists_dict.get(pid)\n",
    "            for j, tr in enumerate(pl['tracks']):\n",
    "                tid = tr['id']\n",
    "                if tid not in tracks_dict.keys():\n",
    "                    tr['in_playlist'] = [pid]\n",
    "                    tracks_dict.update({tid: tr})\n",
    "                else:\n",
    "                    curr_track = tracks_dict.get(tid)\n",
    "                    curr_in_playlist = curr_track['in_playlist'].copy()\n",
    "                    curr_in_playlist.append(pid)\n",
    "                    tr['in_playlist'] = curr_in_playlist\n",
    "                    tracks_dict.update({tid: tr})\n",
    "\n",
    "        print('Saved: ' + txt)\n",
    "        with open(data_path, 'wb') as f:\n",
    "            pickle.dump(tracks_dict, f)\n",
    "\n",
    "        return tracks_dict\n",
    "\n",
    "    print(len(tracks_dict))  # CHECK WHY THE COUNT OF PLAYLISTS DECREASED"
   ]
  },
  {
   "cell_type": "markdown",
   "id": "60bbaeb9",
   "metadata": {},
   "source": [
    "### Artists"
   ]
  },
  {
   "cell_type": "code",
   "execution_count": 4,
   "id": "d5d826d4",
   "metadata": {
    "ExecuteTime": {
     "end_time": "2022-05-24T01:45:37.675006Z",
     "start_time": "2022-05-24T01:45:37.661573Z"
    }
   },
   "outputs": [],
   "source": [
    "def dict_all_artists(path, df):\n",
    "    # All artists\n",
    "    data_path = path\n",
    "    txt = 'All artists as a dictionary - ' + path\n",
    "\n",
    "    if os.path.exists(data_path):\n",
    "        print('Loaded: ' + txt)\n",
    "        with open(data_path, 'rb') as f:\n",
    "            artists_dict = pickle.load(f)\n",
    "    else:\n",
    "        # Extract the user and playlist IDs\n",
    "        if type(df) is not dict:\n",
    "            playlists_dict = df.to_dict('index')\n",
    "        else:\n",
    "            playlists_dict = df\n",
    "        artists_dict = {}\n",
    "        for i, pid in enumerate(playlists_dict):\n",
    "            pl = playlists_dict.get(pid)\n",
    "            for j, tr in enumerate(pl['tracks']):\n",
    "                for k, art in enumerate(tr['artists']):\n",
    "                    aid = art['id']\n",
    "                    if aid not in artists_dict.keys():\n",
    "                        art['in_playlist'] = [pid]\n",
    "                        artists_dict.update({aid: art})\n",
    "                    else:\n",
    "                        curr_artist = artists_dict.get(aid)\n",
    "                        curr_in_playlist = curr_artist['in_playlist'].copy()\n",
    "                        curr_in_playlist.append(pid)\n",
    "                        art['in_playlist'] = curr_in_playlist\n",
    "                        artists_dict.update({aid: art})\n",
    "\n",
    "        print('Saved: ' + txt)\n",
    "        with open(data_path, 'wb') as f:\n",
    "            pickle.dump(artists_dict, f)\n",
    "\n",
    "        return artists_dict\n",
    "\n",
    "    print(len(artists_dict))"
   ]
  },
  {
   "cell_type": "markdown",
   "id": "fe080e93",
   "metadata": {},
   "source": [
    "### Albums"
   ]
  },
  {
   "cell_type": "code",
   "execution_count": 5,
   "id": "cbfa9152",
   "metadata": {
    "ExecuteTime": {
     "end_time": "2022-05-24T01:45:37.691072Z",
     "start_time": "2022-05-24T01:45:37.677001Z"
    }
   },
   "outputs": [],
   "source": [
    "def dict_all_albums(path, df):\n",
    "    # All albums\n",
    "    data_path = path\n",
    "    txt = 'All albums as a dictionary - ' + data_path\n",
    "\n",
    "    if os.path.exists(data_path):\n",
    "        print('Loaded: ' + txt)\n",
    "        with open(data_path, 'rb') as f:\n",
    "            albums_dict = pickle.load(f)\n",
    "    else:\n",
    "\n",
    "        # Extract the user and playlist IDs\n",
    "        if type(df) is not dict:\n",
    "            playlists_dict = df.to_dict('index')\n",
    "        else:\n",
    "            playlists_dict = df\n",
    "        albums_dict = {}\n",
    "        for i, pid in enumerate(playlists_dict):\n",
    "            pl = playlists_dict.get(pid)\n",
    "            for j, tr in enumerate(pl['tracks']):\n",
    "                alb = tr['album']\n",
    "                aid = alb['id']\n",
    "                if aid not in albums_dict.keys():\n",
    "                    alb['in_playlist'] = [pid]\n",
    "                    albums_dict.update({aid: alb})\n",
    "                else:\n",
    "                    curr_album = albums_dict.get(aid)\n",
    "                    curr_in_playlist = curr_album['in_playlist'].copy()\n",
    "                    curr_in_playlist.append(pid)\n",
    "                    alb['in_playlist'] = curr_in_playlist\n",
    "                    albums_dict.update({aid: alb})\n",
    "\n",
    "        print('Saved: ' + txt)\n",
    "        with open(data_path, 'wb') as f:\n",
    "            pickle.dump(albums_dict, f)\n",
    "\n",
    "        return albums_dict\n",
    "\n",
    "    print(len(albums_dict))"
   ]
  },
  {
   "cell_type": "markdown",
   "id": "5ae30348",
   "metadata": {},
   "source": [
    "# EDA"
   ]
  },
  {
   "cell_type": "code",
   "execution_count": 6,
   "id": "c77f6c25",
   "metadata": {
    "ExecuteTime": {
     "end_time": "2022-05-24T01:45:37.706629Z",
     "start_time": "2022-05-24T01:45:37.693066Z"
    }
   },
   "outputs": [],
   "source": [
    "d = []"
   ]
  },
  {
   "cell_type": "code",
   "execution_count": 7,
   "id": "0bae2557",
   "metadata": {
    "ExecuteTime": {
     "end_time": "2022-05-24T01:45:38.418383Z",
     "start_time": "2022-05-24T01:45:37.709621Z"
    },
    "run_control": {
     "marked": false
    }
   },
   "outputs": [
    {
     "name": "stdout",
     "output_type": "stream",
     "text": [
      "Loaded: All tracks as a dictionary - C:\\Users\\map_f\\OneDrive\\Documents\\GitHub\\Follow_the_beat\\data\\processed\\4_tracks_dict.pkl\n",
      "85458\n"
     ]
    }
   ],
   "source": [
    "t_start = time.time()\n",
    "# All tracks\n",
    "data_path = os.getcwd() + '\\\\data\\\\processed\\\\4_tracks_dict.pkl'\n",
    "txt = 'All tracks as a dictionary - ' + data_path\n",
    "\n",
    "if os.path.exists(data_path):\n",
    "    print('Loaded: ' + txt)\n",
    "    with open(data_path, 'rb') as f:\n",
    "        tracks_dict = pickle.load(f)\n",
    "else:\n",
    "    tracks_dict = dict_all_tracks(data_path, playlists_dict)\n",
    "\n",
    "print(len(tracks_dict))\n",
    "\n",
    "t_end = time.time()\n",
    "d.append({'task': 'tracks_dict', 'run_time': t_end - t_start})"
   ]
  },
  {
   "cell_type": "code",
   "execution_count": 8,
   "id": "26ba91ca",
   "metadata": {
    "ExecuteTime": {
     "end_time": "2022-05-24T01:45:38.480829Z",
     "start_time": "2022-05-24T01:45:38.421916Z"
    }
   },
   "outputs": [
    {
     "name": "stdout",
     "output_type": "stream",
     "text": [
      "Loaded: All artists as a dictionary - C:\\Users\\map_f\\OneDrive\\Documents\\GitHub\\Follow_the_beat\\data\\processed\\5_artists_dict.pkl\n",
      "28669\n"
     ]
    }
   ],
   "source": [
    "t_start = time.time()\n",
    "# All artists\n",
    "data_path = os.getcwd() + '\\\\data\\\\processed\\\\5_artists_dict.pkl'\n",
    "txt = 'All artists as a dictionary - ' + data_path\n",
    "\n",
    "if os.path.exists(data_path):\n",
    "    print('Loaded: ' + txt)\n",
    "    with open(data_path, 'rb') as f:\n",
    "        artists_dict = pickle.load(f)\n",
    "else:\n",
    "    artists_dict = dict_all_artists(data_path, playlists_dict)\n",
    "\n",
    "print(len(artists_dict))\n",
    "\n",
    "t_end = time.time()\n",
    "d.append({'task': 'artists_dict', 'run_time': t_end - t_start})"
   ]
  },
  {
   "cell_type": "code",
   "execution_count": 9,
   "id": "a5952fd6",
   "metadata": {
    "ExecuteTime": {
     "end_time": "2022-05-24T01:45:38.898718Z",
     "start_time": "2022-05-24T01:45:38.482856Z"
    },
    "run_control": {
     "marked": false
    }
   },
   "outputs": [
    {
     "name": "stdout",
     "output_type": "stream",
     "text": [
      "Loaded: All albums as a dictionary - C:\\Users\\map_f\\OneDrive\\Documents\\GitHub\\Follow_the_beat\\data\\processed\\6_albums_dict.pkl\n",
      "62095\n"
     ]
    }
   ],
   "source": [
    "t_start = time.time()\n",
    "# All albums\n",
    "data_path = os.getcwd() + '\\\\data\\\\processed\\\\6_albums_dict.pkl'\n",
    "txt = 'All albums as a dictionary - ' + data_path\n",
    "\n",
    "if os.path.exists(data_path):\n",
    "    print('Loaded: ' + txt)\n",
    "    with open(data_path, 'rb') as f:\n",
    "        albums_dict = pickle.load(f)\n",
    "else:\n",
    "    albums_dict = dict_all_albums(data_path, playlists_dict)\n",
    "print(len(albums_dict))\n",
    "\n",
    "t_end = time.time()\n",
    "d.append({'task': 'albums_dict', 'run_time': t_end - t_start})"
   ]
  },
  {
   "cell_type": "markdown",
   "id": "d1eecf25",
   "metadata": {},
   "source": [
    "## Create data frames to perform EDA"
   ]
  },
  {
   "cell_type": "code",
   "execution_count": 10,
   "id": "7f71d0ad",
   "metadata": {
    "ExecuteTime": {
     "end_time": "2022-05-24T01:45:51.697484Z",
     "start_time": "2022-05-24T01:45:38.900705Z"
    }
   },
   "outputs": [],
   "source": [
    "gc.collect()\n",
    "\n",
    "t_start = time.time()\n",
    "df_playlists = pd.DataFrame.from_dict(playlists_dict)\n",
    "df_playlists = df_playlists.T\n",
    "t_end = time.time()\n",
    "d.append({'task': 'df_playlists', 'run_time': t_end - t_start})\n",
    "\n",
    "t_start = time.time()\n",
    "df_tracks = pd.DataFrame.from_dict(tracks_dict)\n",
    "df_tracks = df_tracks.T\n",
    "t_end = time.time()\n",
    "d.append({'task': 'df_tracks', 'run_time': t_end - t_start})\n",
    "\n",
    "t_start = time.time()\n",
    "df_artists = pd.DataFrame.from_dict(artists_dict)\n",
    "df_artists = df_artists.T\n",
    "t_end = time.time()\n",
    "d.append({'task': 'df_artists', 'run_time': t_end - t_start})\n",
    "\n",
    "t_start = time.time()\n",
    "df_albums = pd.DataFrame.from_dict(albums_dict)\n",
    "df_albums = df_albums.T\n",
    "t_end = time.time()\n",
    "d.append({'task': 'df_albums', 'run_time': t_end - t_start})"
   ]
  },
  {
   "cell_type": "markdown",
   "id": "247dd420",
   "metadata": {},
   "source": [
    "## Overall metrics"
   ]
  },
  {
   "cell_type": "code",
   "execution_count": 11,
   "id": "789259e4",
   "metadata": {
    "ExecuteTime": {
     "end_time": "2022-05-24T01:45:51.713625Z",
     "start_time": "2022-05-24T01:45:51.699831Z"
    }
   },
   "outputs": [],
   "source": [
    "total_playlists = len(playlists_dict)\n",
    "\n",
    "total_tracks = df_playlists['total_tracks'].sum()\n",
    "mean_tracks = df_playlists['total_tracks'].mean()\n",
    "median_tracks = df_playlists['total_tracks'].median()\n",
    "max_tracks = df_playlists['total_tracks'].max()\n",
    "min_tracks = df_playlists['total_tracks'].min()\n",
    "\n",
    "total_tracks_unique = len(tracks_dict)\n",
    "total_artists = len(artists_dict)\n",
    "total_albums = len(albums_dict)"
   ]
  },
  {
   "cell_type": "code",
   "execution_count": 12,
   "id": "bb472f8b",
   "metadata": {
    "ExecuteTime": {
     "end_time": "2022-05-24T01:45:51.729109Z",
     "start_time": "2022-05-24T01:45:51.716144Z"
    }
   },
   "outputs": [
    {
     "name": "stdout",
     "output_type": "stream",
     "text": [
      "\n",
      "Total playlists: 1,851\n",
      "Total tracks: 140,248\n",
      "Total unique tracks: 85,458\n",
      "Total artists: 28,669\n",
      "Total albums: 62,095\n",
      "\n",
      "Total track / unique: 1.6\n",
      "\n",
      "Average number of tracks per playlist: 75.8\n",
      "Median tracks per playlist: 98.0\n",
      "Maximum number of tracks per playlist: 100\n",
      "Minimum number of tracks per playlist: 0\n",
      "\n",
      "Artists/playlist: 15.5\n",
      "Albums/playlist: 33.5\n",
      "\n",
      "Albums/Artist: 2.2\n",
      "\n"
     ]
    }
   ],
   "source": [
    "txt = \"\"\"\n",
    "Total playlists: {total_playlists:,}\n",
    "Total tracks: {total_tracks:,}\n",
    "Total unique tracks: {total_tracks_unique:,}\n",
    "Total artists: {total_artists:,}\n",
    "Total albums: {total_albums:,}\n",
    "\n",
    "Total track / unique: {ratio_total_unique:.1f}\n",
    "\n",
    "Average number of tracks per playlist: {mean_tracks:.1f}\n",
    "Median tracks per playlist: {median_tracks:.1f}\n",
    "Maximum number of tracks per playlist: {max_tracks:,}\n",
    "Minimum number of tracks per playlist: {min_tracks:,}\n",
    "\n",
    "Artists/playlist: {artists_playlist:.1f}\n",
    "Albums/playlist: {albums_playlist:.1f}\n",
    "\n",
    "Albums/Artist: {albums_artist:.1f}\n",
    "\"\"\".format(total_playlists=total_playlists,\n",
    "           total_tracks_unique=total_tracks_unique,\n",
    "           mean_tracks=mean_tracks,\n",
    "           median_tracks=median_tracks,\n",
    "           max_tracks=max_tracks,\n",
    "           min_tracks=min_tracks,\n",
    "           total_tracks=total_tracks,\n",
    "           ratio_total_unique=total_tracks / total_tracks_unique,\n",
    "           total_artists=total_artists,\n",
    "           artists_playlist=total_artists / total_playlists,\n",
    "           total_albums=total_albums,\n",
    "           albums_playlist=total_albums / total_playlists,\n",
    "           albums_artist=total_albums / total_artists)\n",
    "\n",
    "print(txt)"
   ]
  },
  {
   "cell_type": "markdown",
   "id": "1430b002",
   "metadata": {},
   "source": [
    "### Number of tracks per playlist"
   ]
  },
  {
   "cell_type": "code",
   "execution_count": 13,
   "id": "97b2feb7",
   "metadata": {
    "ExecuteTime": {
     "end_time": "2022-05-24T01:45:52.286973Z",
     "start_time": "2022-05-24T01:45:51.732031Z"
    }
   },
   "outputs": [
    {
     "data": {
      "image/png": "[encoded data removed]",
      "text/plain": [
       "<Figure size 1296x504 with 2 Axes>"
      ]
     },
     "metadata": {
      "needs_background": "light"
     },
     "output_type": "display_data"
    }
   ],
   "source": [
    "fig, axes = plt.subplots(ncols=2, nrows=1, figsize=(18, 7))\n",
    "fig.suptitle('Histogram and boxplot of tracks per playlist', fontsize = 20)\n",
    "\n",
    "df = df_playlists\n",
    "param = 'total_tracks'\n",
    "\n",
    "axes[0].hist(df[param], color='green', alpha=0.4, label='Artist count')\n",
    "axes[0].set_xlabel('\\n# of tracks per playlist', fontsize = 16)\n",
    "axes[0].set_ylabel('Count', fontsize = 16)\n",
    "axes[0].tick_params(labelsize=16)\n",
    "\n",
    "sns.boxplot(ax=axes[1],\n",
    "            data=df,\n",
    "            x=param,\n",
    "            palette='summer_r',\n",
    "            showmeans=True,\n",
    "            meanprops={\n",
    "                \"marker\": \"o\",\n",
    "                \"markerfacecolor\": \"red\",\n",
    "                \"markeredgecolor\": \"red\"\n",
    "            },\n",
    "            flierprops=dict(marker='.',\n",
    "                            markerfacecolor='steelblue',\n",
    "                            markeredgecolor='steelblue',\n",
    "                            alpha=.5),\n",
    "            boxprops=dict(alpha=.7),\n",
    "            width=.5,\n",
    "            notch=True);\n",
    "\n",
    "axes[1].set_xlabel('\\nCount', fontsize = 16)\n",
    "axes[1].tick_params(labelsize=16)\n",
    "\n",
    "data_path = os.getcwd() + '\\\\data\\\\1_tracks_playlist.png'\n",
    "plt.savefig(data_path, bbox_inches='tight')"
   ]
  },
  {
   "cell_type": "code",
   "execution_count": 14,
   "id": "2d860157",
   "metadata": {
    "ExecuteTime": {
     "end_time": "2022-05-24T01:45:52.302984Z",
     "start_time": "2022-05-24T01:45:52.289012Z"
    }
   },
   "outputs": [],
   "source": [
    "def perc_cumm_sum(db, group_by_param, xlabel, ylabel):\n",
    "    a = df_playlists.total_tracks.reset_index(drop=True).to_list()\n",
    "    lst = pd.DataFrame(db[group_by_param].reset_index(drop=True),\n",
    "                       columns=[group_by_param])\n",
    "    gp = pd.DataFrame(lst.groupby(group_by_param).size(),\n",
    "                      columns=['cnt']).reset_index()\n",
    "    gp['cum_sum'] = gp['cnt'].cumsum()\n",
    "    gp['cum_perc'] = 100 * gp['cum_sum'] / gp['cnt'].sum()\n",
    "\n",
    "    #create area chart\n",
    "    plt.subplots(ncols=1, nrows=1, figsize=(18, 7))\n",
    "    pal = sns.color_palette(\"summer\")\n",
    "    plt.stackplot(gp[group_by_param], gp.cum_perc, colors=pal)\n",
    "# , palette='summer_r')\n",
    "\n",
    "    #add axis labels\n",
    "    plt.xlabel(xlabel, fontsize = 16)\n",
    "    plt.ylabel(ylabel, fontsize = 16)\n",
    "    plt.tick_params(labelsize=16)\n",
    "\n",
    "    plt.grid()\n",
    "    #display area chart\n",
    "#     plt.show()\n",
    "\n",
    "    return gp"
   ]
  },
  {
   "cell_type": "code",
   "execution_count": 15,
   "id": "a22ded89",
   "metadata": {
    "ExecuteTime": {
     "end_time": "2022-05-24T01:45:52.672598Z",
     "start_time": "2022-05-24T01:45:52.304978Z"
    }
   },
   "outputs": [
    {
     "data": {
      "image/png": "[encoded data removed]",
      "text/plain": [
       "<Figure size 1296x504 with 1 Axes>"
      ]
     },
     "metadata": {
      "needs_background": "light"
     },
     "output_type": "display_data"
    }
   ],
   "source": [
    "a = perc_cumm_sum(db=df_playlists,\n",
    "                  group_by_param='total_tracks',\n",
    "                  xlabel='Tracks per playlist',\n",
    "                  ylabel='Cummulative percentual of playlists')\n",
    "\n",
    "data_path = os.getcwd() + '\\\\data\\\\2_tracks_cumm.png'\n",
    "plt.savefig(data_path, bbox_inches='tight')\n",
    "plt.show()"
   ]
  },
  {
   "cell_type": "code",
   "execution_count": 16,
   "id": "38e9e297",
   "metadata": {
    "ExecuteTime": {
     "end_time": "2022-05-24T01:45:52.687680Z",
     "start_time": "2022-05-24T01:45:52.674591Z"
    }
   },
   "outputs": [
    {
     "name": "stdout",
     "output_type": "stream",
     "text": [
      "75\n",
      "0.04051863857374392\n"
     ]
    }
   ],
   "source": [
    "print(df_playlists[df_playlists['total_tracks'] < 20]['playlist_id'].count())\n",
    "print(df_playlists[df_playlists['total_tracks'] < 20]['playlist_id'].count() /\n",
    "      total_playlists)"
   ]
  },
  {
   "cell_type": "code",
   "execution_count": 17,
   "id": "446c3017",
   "metadata": {
    "ExecuteTime": {
     "end_time": "2022-05-24T01:45:52.703131Z",
     "start_time": "2022-05-24T01:45:52.689827Z"
    }
   },
   "outputs": [
    {
     "name": "stdout",
     "output_type": "stream",
     "text": [
      "892\n",
      "0.48190167477039436\n"
     ]
    }
   ],
   "source": [
    "print(df_playlists[df_playlists['total_tracks'] == 100]['playlist_id'].count())\n",
    "print(\n",
    "    df_playlists[df_playlists['total_tracks'] == 100]['playlist_id'].count() /\n",
    "    total_playlists)"
   ]
  },
  {
   "cell_type": "markdown",
   "id": "817fbb30",
   "metadata": {},
   "source": [
    "- 48% of the playlists have 100 tracks\n",
    "- only 75 (4%) of them have less than 20 tracks, so we will remove these playlists from our analysis"
   ]
  },
  {
   "cell_type": "markdown",
   "id": "6a1d80c0",
   "metadata": {},
   "source": [
    "### Tracks distribution"
   ]
  },
  {
   "cell_type": "code",
   "execution_count": 18,
   "id": "287f104b",
   "metadata": {
    "ExecuteTime": {
     "end_time": "2022-05-24T01:45:52.825755Z",
     "start_time": "2022-05-24T01:45:52.705094Z"
    }
   },
   "outputs": [
    {
     "data": {
      "text/html": [
       "<div>\n",
       "<style scoped>\n",
       "    .dataframe tbody tr th:only-of-type {\n",
       "        vertical-align: middle;\n",
       "    }\n",
       "\n",
       "    .dataframe tbody tr th {\n",
       "        vertical-align: top;\n",
       "    }\n",
       "\n",
       "    .dataframe thead th {\n",
       "        text-align: right;\n",
       "    }\n",
       "</style>\n",
       "<table border=\"1\" class=\"dataframe\">\n",
       "  <thead>\n",
       "    <tr style=\"text-align: right;\">\n",
       "      <th></th>\n",
       "      <th>id</th>\n",
       "      <th>name</th>\n",
       "      <th>added_at</th>\n",
       "      <th>popularity</th>\n",
       "      <th>artists</th>\n",
       "      <th>album</th>\n",
       "      <th>in_playlist</th>\n",
       "      <th>count</th>\n",
       "    </tr>\n",
       "  </thead>\n",
       "  <tbody>\n",
       "    <tr>\n",
       "      <th>1tx6cTPSabCIN0V90Hzlhc</th>\n",
       "      <td>1tx6cTPSabCIN0V90Hzlhc</td>\n",
       "      <td>Invisible</td>\n",
       "      <td>2021-12-01T03:49:37Z</td>\n",
       "      <td>53</td>\n",
       "      <td>[{'id': '72FGvJgYbs0NBeJqECy6cF', 'name': 'And...</td>\n",
       "      <td>{'id': '0cTd2N7LixNrzfQuivSEmG', 'name': 'Invi...</td>\n",
       "      <td>[6FUz0pA8mJ4IUi42WvTVwz, 57mNC119tTcPulrOwxIjh...</td>\n",
       "      <td>92</td>\n",
       "    </tr>\n",
       "    <tr>\n",
       "      <th>5HCyWlXZPP0y6Gqq8TgA20</th>\n",
       "      <td>5HCyWlXZPP0y6Gqq8TgA20</td>\n",
       "      <td>STAY (with Justin Bieber)</td>\n",
       "      <td>2021-10-26T03:27:46Z</td>\n",
       "      <td>98</td>\n",
       "      <td>[{'id': '2tIP7SsRs7vjIcLrU85W8J', 'name': 'The...</td>\n",
       "      <td>{'id': '4QLAtpLNUsHEYrcHXmMIZZ', 'name': 'STAY...</td>\n",
       "      <td>[2oz94YqZgqHe2GF2dPN5Hx, 2DnzBDvrf2etj6Y5d9Cfg...</td>\n",
       "      <td>84</td>\n",
       "    </tr>\n",
       "    <tr>\n",
       "      <th>2Fxmhks0bxGSBdJ92vM42m</th>\n",
       "      <td>2Fxmhks0bxGSBdJ92vM42m</td>\n",
       "      <td>bad guy</td>\n",
       "      <td>2021-10-15T23:05:46Z</td>\n",
       "      <td>86</td>\n",
       "      <td>[{'id': '6qqNVTkY8uBg9cP3Jd7DAH', 'name': 'Bil...</td>\n",
       "      <td>{'id': '0S0KGZnfBGSIssfF54WSJh', 'name': 'WHEN...</td>\n",
       "      <td>[2dbL1KoWphbT4uZKOgnnKw, 3o0YWwdt1uNsb27RsMF1N...</td>\n",
       "      <td>82</td>\n",
       "    </tr>\n",
       "    <tr>\n",
       "      <th>2dpaYNEQHiRxtZbfNsse99</th>\n",
       "      <td>2dpaYNEQHiRxtZbfNsse99</td>\n",
       "      <td>Happier</td>\n",
       "      <td>2021-03-05T16:36:10Z</td>\n",
       "      <td>84</td>\n",
       "      <td>[{'id': '64KEffDW9EtZ1y2vBYgq8T', 'name': 'Mar...</td>\n",
       "      <td>{'id': '78EicdHZr5XBWD7llEZ1Jh', 'name': 'Happ...</td>\n",
       "      <td>[2dbL1KoWphbT4uZKOgnnKw, 3o0YWwdt1uNsb27RsMF1N...</td>\n",
       "      <td>71</td>\n",
       "    </tr>\n",
       "    <tr>\n",
       "      <th>4iJyoBOLtHqaGxP12qzhQI</th>\n",
       "      <td>4iJyoBOLtHqaGxP12qzhQI</td>\n",
       "      <td>Peaches (feat. Daniel Caesar &amp; Giveon)</td>\n",
       "      <td>2021-12-02T07:11:09Z</td>\n",
       "      <td>91</td>\n",
       "      <td>[{'id': '1uNFoZAHBGtllmzznpCI3s', 'name': 'Jus...</td>\n",
       "      <td>{'id': '5dGWwsZ9iB2Xc3UKR0gif2', 'name': 'Just...</td>\n",
       "      <td>[1KgJTuoCUYYmehnHWzixn8, 6EKNdEBqV4Larp6Cx9eD8...</td>\n",
       "      <td>69</td>\n",
       "    </tr>\n",
       "  </tbody>\n",
       "</table>\n",
       "</div>"
      ],
      "text/plain": [
       "                                            id  \\\n",
       "1tx6cTPSabCIN0V90Hzlhc  1tx6cTPSabCIN0V90Hzlhc   \n",
       "5HCyWlXZPP0y6Gqq8TgA20  5HCyWlXZPP0y6Gqq8TgA20   \n",
       "2Fxmhks0bxGSBdJ92vM42m  2Fxmhks0bxGSBdJ92vM42m   \n",
       "2dpaYNEQHiRxtZbfNsse99  2dpaYNEQHiRxtZbfNsse99   \n",
       "4iJyoBOLtHqaGxP12qzhQI  4iJyoBOLtHqaGxP12qzhQI   \n",
       "\n",
       "                                                          name  \\\n",
       "1tx6cTPSabCIN0V90Hzlhc                               Invisible   \n",
       "5HCyWlXZPP0y6Gqq8TgA20               STAY (with Justin Bieber)   \n",
       "2Fxmhks0bxGSBdJ92vM42m                                 bad guy   \n",
       "2dpaYNEQHiRxtZbfNsse99                                 Happier   \n",
       "4iJyoBOLtHqaGxP12qzhQI  Peaches (feat. Daniel Caesar & Giveon)   \n",
       "\n",
       "                                    added_at popularity  \\\n",
       "1tx6cTPSabCIN0V90Hzlhc  2021-12-01T03:49:37Z         53   \n",
       "5HCyWlXZPP0y6Gqq8TgA20  2021-10-26T03:27:46Z         98   \n",
       "2Fxmhks0bxGSBdJ92vM42m  2021-10-15T23:05:46Z         86   \n",
       "2dpaYNEQHiRxtZbfNsse99  2021-03-05T16:36:10Z         84   \n",
       "4iJyoBOLtHqaGxP12qzhQI  2021-12-02T07:11:09Z         91   \n",
       "\n",
       "                                                                  artists  \\\n",
       "1tx6cTPSabCIN0V90Hzlhc  [{'id': '72FGvJgYbs0NBeJqECy6cF', 'name': 'And...   \n",
       "5HCyWlXZPP0y6Gqq8TgA20  [{'id': '2tIP7SsRs7vjIcLrU85W8J', 'name': 'The...   \n",
       "2Fxmhks0bxGSBdJ92vM42m  [{'id': '6qqNVTkY8uBg9cP3Jd7DAH', 'name': 'Bil...   \n",
       "2dpaYNEQHiRxtZbfNsse99  [{'id': '64KEffDW9EtZ1y2vBYgq8T', 'name': 'Mar...   \n",
       "4iJyoBOLtHqaGxP12qzhQI  [{'id': '1uNFoZAHBGtllmzznpCI3s', 'name': 'Jus...   \n",
       "\n",
       "                                                                    album  \\\n",
       "1tx6cTPSabCIN0V90Hzlhc  {'id': '0cTd2N7LixNrzfQuivSEmG', 'name': 'Invi...   \n",
       "5HCyWlXZPP0y6Gqq8TgA20  {'id': '4QLAtpLNUsHEYrcHXmMIZZ', 'name': 'STAY...   \n",
       "2Fxmhks0bxGSBdJ92vM42m  {'id': '0S0KGZnfBGSIssfF54WSJh', 'name': 'WHEN...   \n",
       "2dpaYNEQHiRxtZbfNsse99  {'id': '78EicdHZr5XBWD7llEZ1Jh', 'name': 'Happ...   \n",
       "4iJyoBOLtHqaGxP12qzhQI  {'id': '5dGWwsZ9iB2Xc3UKR0gif2', 'name': 'Just...   \n",
       "\n",
       "                                                              in_playlist  \\\n",
       "1tx6cTPSabCIN0V90Hzlhc  [6FUz0pA8mJ4IUi42WvTVwz, 57mNC119tTcPulrOwxIjh...   \n",
       "5HCyWlXZPP0y6Gqq8TgA20  [2oz94YqZgqHe2GF2dPN5Hx, 2DnzBDvrf2etj6Y5d9Cfg...   \n",
       "2Fxmhks0bxGSBdJ92vM42m  [2dbL1KoWphbT4uZKOgnnKw, 3o0YWwdt1uNsb27RsMF1N...   \n",
       "2dpaYNEQHiRxtZbfNsse99  [2dbL1KoWphbT4uZKOgnnKw, 3o0YWwdt1uNsb27RsMF1N...   \n",
       "4iJyoBOLtHqaGxP12qzhQI  [1KgJTuoCUYYmehnHWzixn8, 6EKNdEBqV4Larp6Cx9eD8...   \n",
       "\n",
       "                        count  \n",
       "1tx6cTPSabCIN0V90Hzlhc     92  \n",
       "5HCyWlXZPP0y6Gqq8TgA20     84  \n",
       "2Fxmhks0bxGSBdJ92vM42m     82  \n",
       "2dpaYNEQHiRxtZbfNsse99     71  \n",
       "4iJyoBOLtHqaGxP12qzhQI     69  "
      ]
     },
     "execution_count": 18,
     "metadata": {},
     "output_type": "execute_result"
    }
   ],
   "source": [
    "df_tracks['count'] = df_tracks.in_playlist.str.len()\n",
    "df_tracks = df_tracks.sort_values(by='count', ascending=False)\n",
    "df_tracks.head()"
   ]
  },
  {
   "cell_type": "code",
   "execution_count": 19,
   "id": "ae4d73c5",
   "metadata": {
    "ExecuteTime": {
     "end_time": "2022-05-24T01:45:54.478600Z",
     "start_time": "2022-05-24T01:45:52.827724Z"
    }
   },
   "outputs": [
    {
     "data": {
      "image/png": "[encoded data removed]",
      "text/plain": [
       "<Figure size 1296x504 with 2 Axes>"
      ]
     },
     "metadata": {
      "needs_background": "light"
     },
     "output_type": "display_data"
    }
   ],
   "source": [
    "fig, axes = plt.subplots(ncols=2, nrows=1, figsize=(18, 7))\n",
    "fig.suptitle('Histogram and boxplot of tracks count (log scale)', fontsize = 20)\n",
    "\n",
    "df = df_tracks\n",
    "param = 'count'\n",
    "\n",
    "axes[0].hist(df[param], color='green', alpha=0.4, label='Artist count')\n",
    "axes[0].set_yscale('log')\n",
    "axes[0].set_xlabel('\\n# of appeareances of each track', fontsize = 16)\n",
    "axes[0].set_ylabel('Count', fontsize = 16)\n",
    "axes[0].tick_params(labelsize=16)\n",
    "\n",
    "sns.boxplot(ax=axes[1],\n",
    "            data=df,\n",
    "            x=param,\n",
    "            palette='summer_r',\n",
    "            showmeans=True,\n",
    "            meanprops={\n",
    "                \"marker\": \"o\",\n",
    "                \"markerfacecolor\": \"red\",\n",
    "                \"markeredgecolor\": \"red\"\n",
    "            },\n",
    "            flierprops=dict(marker='.',\n",
    "                            markerfacecolor='steelblue',\n",
    "                            markeredgecolor='steelblue',\n",
    "                            alpha=.5),\n",
    "            boxprops=dict(alpha=.7),\n",
    "            width=.5,\n",
    "            notch=True).set_title(param);\n",
    "\n",
    "axes[1].set_xlabel('\\nCount', fontsize = 16)\n",
    "axes[1].set_ylabel('\\n# of appeareances of each track', fontsize = 16)\n",
    "axes[1].tick_params(labelsize=16)\n",
    "\n",
    "# axes[1].set_xscale('log')\n",
    "data_path = os.getcwd() + '\\\\data\\\\3_tracks_distr.png'\n",
    "plt.savefig(data_path, bbox_inches='tight')"
   ]
  },
  {
   "cell_type": "code",
   "execution_count": 20,
   "id": "4becfe14",
   "metadata": {
    "ExecuteTime": {
     "end_time": "2022-05-24T01:45:54.494064Z",
     "start_time": "2022-05-24T01:45:54.480567Z"
    }
   },
   "outputs": [
    {
     "data": {
      "text/plain": [
       "85458"
      ]
     },
     "execution_count": 20,
     "metadata": {},
     "output_type": "execute_result"
    }
   ],
   "source": [
    "len(df_tracks)"
   ]
  },
  {
   "cell_type": "code",
   "execution_count": 21,
   "id": "18aa134f",
   "metadata": {
    "ExecuteTime": {
     "end_time": "2022-05-24T01:45:54.602095Z",
     "start_time": "2022-05-24T01:45:54.496790Z"
    }
   },
   "outputs": [
    {
     "name": "stdout",
     "output_type": "stream",
     "text": [
      "67864\n",
      "0.7941210887219453\n"
     ]
    }
   ],
   "source": [
    "print(df_tracks[df_tracks['count'] == 1]['id'].count())\n",
    "print(df_tracks[df_tracks['count'] == 1]['id'].count() /\n",
    "      df_tracks['id'].count())"
   ]
  },
  {
   "cell_type": "code",
   "execution_count": 22,
   "id": "721b529a",
   "metadata": {
    "ExecuteTime": {
     "end_time": "2022-05-24T01:45:54.617054Z",
     "start_time": "2022-05-24T01:45:54.604091Z"
    }
   },
   "outputs": [
    {
     "data": {
      "text/plain": [
       "1tx6cTPSabCIN0V90Hzlhc    Invisible\n",
       "Name: name, dtype: object"
      ]
     },
     "execution_count": 22,
     "metadata": {},
     "output_type": "execute_result"
    }
   ],
   "source": [
    "df_tracks[df_tracks['count'] == 92]['name']"
   ]
  },
  {
   "cell_type": "code",
   "execution_count": 23,
   "id": "4162495b",
   "metadata": {
    "ExecuteTime": {
     "end_time": "2022-05-24T01:45:54.632292Z",
     "start_time": "2022-05-24T01:45:54.619050Z"
    }
   },
   "outputs": [
    {
     "data": {
      "text/plain": [
       "[{'id': '72FGvJgYbs0NBeJqECy6cF', 'name': 'Andra'},\n",
       " {'id': '5CY0QKsbUBpQJIE2yycsYi', 'name': 'Lil Eddie'}]"
      ]
     },
     "execution_count": 23,
     "metadata": {},
     "output_type": "execute_result"
    }
   ],
   "source": [
    "df_tracks[df_tracks['count'] == 92]['artists'][0]"
   ]
  },
  {
   "cell_type": "markdown",
   "id": "f11d1617",
   "metadata": {},
   "source": [
    "- There are 85,458 different tracks\n",
    "- 67,864 tracks (79.4%) appeared only one time\n",
    "- The track \"Invisible\" from the artists Andra and Lil Eddie is repeated 92 times"
   ]
  },
  {
   "cell_type": "markdown",
   "id": "833b062e",
   "metadata": {},
   "source": [
    "### Artists distribution"
   ]
  },
  {
   "cell_type": "code",
   "execution_count": 24,
   "id": "af9b93a8",
   "metadata": {
    "ExecuteTime": {
     "end_time": "2022-05-24T01:45:54.678949Z",
     "start_time": "2022-05-24T01:45:54.635285Z"
    }
   },
   "outputs": [
    {
     "data": {
      "text/html": [
       "<div>\n",
       "<style scoped>\n",
       "    .dataframe tbody tr th:only-of-type {\n",
       "        vertical-align: middle;\n",
       "    }\n",
       "\n",
       "    .dataframe tbody tr th {\n",
       "        vertical-align: top;\n",
       "    }\n",
       "\n",
       "    .dataframe thead th {\n",
       "        text-align: right;\n",
       "    }\n",
       "</style>\n",
       "<table border=\"1\" class=\"dataframe\">\n",
       "  <thead>\n",
       "    <tr style=\"text-align: right;\">\n",
       "      <th></th>\n",
       "      <th>id</th>\n",
       "      <th>name</th>\n",
       "      <th>in_playlist</th>\n",
       "      <th>count</th>\n",
       "    </tr>\n",
       "  </thead>\n",
       "  <tbody>\n",
       "    <tr>\n",
       "      <th>0LyfQWJT6nXafLPZqxe9Of</th>\n",
       "      <td>0LyfQWJT6nXafLPZqxe9Of</td>\n",
       "      <td>Various Artists</td>\n",
       "      <td>[10JQCfaJKfY9LQah8iFAiJ, 10JQCfaJKfY9LQah8iFAi...</td>\n",
       "      <td>4443</td>\n",
       "    </tr>\n",
       "    <tr>\n",
       "      <th>3TVXtAsR1Inumwj472S9r4</th>\n",
       "      <td>3TVXtAsR1Inumwj472S9r4</td>\n",
       "      <td>Drake</td>\n",
       "      <td>[3v710gnfGEv6w83ogpB6cY, 6sscVoDWSQD4mBiClcnDo...</td>\n",
       "      <td>877</td>\n",
       "    </tr>\n",
       "    <tr>\n",
       "      <th>1uNFoZAHBGtllmzznpCI3s</th>\n",
       "      <td>1uNFoZAHBGtllmzznpCI3s</td>\n",
       "      <td>Justin Bieber</td>\n",
       "      <td>[2dbL1KoWphbT4uZKOgnnKw, 36gUYaCXYmKJ5FQCjRGXO...</td>\n",
       "      <td>754</td>\n",
       "    </tr>\n",
       "    <tr>\n",
       "      <th>3Nrfpe0tUJi4K4DXYWgMUX</th>\n",
       "      <td>3Nrfpe0tUJi4K4DXYWgMUX</td>\n",
       "      <td>BTS</td>\n",
       "      <td>[2dbL1KoWphbT4uZKOgnnKw, 2dbL1KoWphbT4uZKOgnnK...</td>\n",
       "      <td>727</td>\n",
       "    </tr>\n",
       "    <tr>\n",
       "      <th>66CXWjxzNUsdJxJ2JdwvnR</th>\n",
       "      <td>66CXWjxzNUsdJxJ2JdwvnR</td>\n",
       "      <td>Ariana Grande</td>\n",
       "      <td>[3v710gnfGEv6w83ogpB6cY, 3NWlcmwxDe3viSgLh0Uya...</td>\n",
       "      <td>709</td>\n",
       "    </tr>\n",
       "  </tbody>\n",
       "</table>\n",
       "</div>"
      ],
      "text/plain": [
       "                                            id             name  \\\n",
       "0LyfQWJT6nXafLPZqxe9Of  0LyfQWJT6nXafLPZqxe9Of  Various Artists   \n",
       "3TVXtAsR1Inumwj472S9r4  3TVXtAsR1Inumwj472S9r4            Drake   \n",
       "1uNFoZAHBGtllmzznpCI3s  1uNFoZAHBGtllmzznpCI3s    Justin Bieber   \n",
       "3Nrfpe0tUJi4K4DXYWgMUX  3Nrfpe0tUJi4K4DXYWgMUX              BTS   \n",
       "66CXWjxzNUsdJxJ2JdwvnR  66CXWjxzNUsdJxJ2JdwvnR    Ariana Grande   \n",
       "\n",
       "                                                              in_playlist  \\\n",
       "0LyfQWJT6nXafLPZqxe9Of  [10JQCfaJKfY9LQah8iFAiJ, 10JQCfaJKfY9LQah8iFAi...   \n",
       "3TVXtAsR1Inumwj472S9r4  [3v710gnfGEv6w83ogpB6cY, 6sscVoDWSQD4mBiClcnDo...   \n",
       "1uNFoZAHBGtllmzznpCI3s  [2dbL1KoWphbT4uZKOgnnKw, 36gUYaCXYmKJ5FQCjRGXO...   \n",
       "3Nrfpe0tUJi4K4DXYWgMUX  [2dbL1KoWphbT4uZKOgnnKw, 2dbL1KoWphbT4uZKOgnnK...   \n",
       "66CXWjxzNUsdJxJ2JdwvnR  [3v710gnfGEv6w83ogpB6cY, 3NWlcmwxDe3viSgLh0Uya...   \n",
       "\n",
       "                        count  \n",
       "0LyfQWJT6nXafLPZqxe9Of   4443  \n",
       "3TVXtAsR1Inumwj472S9r4    877  \n",
       "1uNFoZAHBGtllmzznpCI3s    754  \n",
       "3Nrfpe0tUJi4K4DXYWgMUX    727  \n",
       "66CXWjxzNUsdJxJ2JdwvnR    709  "
      ]
     },
     "execution_count": 24,
     "metadata": {},
     "output_type": "execute_result"
    }
   ],
   "source": [
    "df_artists['count'] = df_artists.in_playlist.str.len()\n",
    "df_artists = df_artists.sort_values(by='count', ascending=False)\n",
    "df_artists.head()"
   ]
  },
  {
   "cell_type": "code",
   "execution_count": 25,
   "id": "010033f1",
   "metadata": {
    "ExecuteTime": {
     "end_time": "2022-05-24T01:45:56.369936Z",
     "start_time": "2022-05-24T01:45:54.686536Z"
    }
   },
   "outputs": [
    {
     "data": {
      "image/png": "[encoded data removed]",
      "text/plain": [
       "<Figure size 1296x504 with 2 Axes>"
      ]
     },
     "metadata": {
      "needs_background": "light"
     },
     "output_type": "display_data"
    }
   ],
   "source": [
    "fig, axes = plt.subplots(ncols=2, nrows=1, figsize=(18, 7))\n",
    "fig.suptitle('Histogram and boxplot of artists count (log scale)', fontsize = 20)\n",
    "\n",
    "df = df_artists\n",
    "param = 'count'\n",
    "\n",
    "axes[0].hist(df[param], color='green', alpha=0.4, label='Artist count')\n",
    "axes[0].set_yscale('log')\n",
    "axes[0].set_xlabel('\\n# of appeareances of each artist', fontsize = 16)\n",
    "axes[0].set_ylabel('Count', fontsize = 16)\n",
    "axes[0].tick_params(labelsize=16)\n",
    "\n",
    "\n",
    "sns.boxplot(ax=axes[1],\n",
    "            data=df,\n",
    "            x=param,\n",
    "            palette='summer_r',\n",
    "            showmeans=True,\n",
    "            meanprops={\n",
    "                \"marker\": \"o\",\n",
    "                \"markerfacecolor\": \"red\",\n",
    "                \"markeredgecolor\": \"red\"\n",
    "            },\n",
    "            flierprops=dict(marker='.',\n",
    "                            markerfacecolor='steelblue',\n",
    "                            markeredgecolor='steelblue',\n",
    "                            alpha=.5),\n",
    "            boxprops=dict(alpha=.7),\n",
    "            width=.5,\n",
    "            notch=True).set_title(param)\n",
    "axes[1].set_xscale('log')\n",
    "\n",
    "axes[1].set_xlabel('\\nCount', fontsize = 16)\n",
    "axes[1].set_ylabel('\\n# of appeareances of each artist', fontsize = 16)\n",
    "axes[1].tick_params(labelsize=16)\n",
    "\n",
    "data_path = os.getcwd() + '\\\\data\\\\4_artists_distr.png'\n",
    "plt.savefig(data_path, bbox_inches='tight')"
   ]
  },
  {
   "cell_type": "code",
   "execution_count": 26,
   "id": "707ef627",
   "metadata": {
    "ExecuteTime": {
     "end_time": "2022-05-24T01:45:56.416195Z",
     "start_time": "2022-05-24T01:45:56.373927Z"
    }
   },
   "outputs": [
    {
     "name": "stdout",
     "output_type": "stream",
     "text": [
      "15609\n",
      "0.5444556838396875\n"
     ]
    }
   ],
   "source": [
    "print(df_artists[df_artists['count'] == 1]['id'].count())\n",
    "print(df_artists[df_artists['count'] == 1]['id'].count() /\n",
    "      df_artists['id'].count())"
   ]
  },
  {
   "cell_type": "markdown",
   "id": "2901256d",
   "metadata": {},
   "source": [
    "- Various Artists is the \"artist\" most common; however, \"Various artists\" is not a relevant information\n",
    "- Drake is present in 877 playlists\n",
    "- 15,609 artists (54.4%) appeared only one time"
   ]
  },
  {
   "cell_type": "markdown",
   "id": "2dc7902f",
   "metadata": {},
   "source": [
    "### Albums distribution"
   ]
  },
  {
   "cell_type": "code",
   "execution_count": 27,
   "id": "eba0d06c",
   "metadata": {
    "ExecuteTime": {
     "end_time": "2022-05-24T01:45:56.492988Z",
     "start_time": "2022-05-24T01:45:56.418188Z"
    }
   },
   "outputs": [
    {
     "data": {
      "text/html": [
       "<div>\n",
       "<style scoped>\n",
       "    .dataframe tbody tr th:only-of-type {\n",
       "        vertical-align: middle;\n",
       "    }\n",
       "\n",
       "    .dataframe tbody tr th {\n",
       "        vertical-align: top;\n",
       "    }\n",
       "\n",
       "    .dataframe thead th {\n",
       "        text-align: right;\n",
       "    }\n",
       "</style>\n",
       "<table border=\"1\" class=\"dataframe\">\n",
       "  <thead>\n",
       "    <tr style=\"text-align: right;\">\n",
       "      <th></th>\n",
       "      <th>id</th>\n",
       "      <th>name</th>\n",
       "      <th>release_date</th>\n",
       "      <th>in_playlist</th>\n",
       "      <th>count</th>\n",
       "    </tr>\n",
       "  </thead>\n",
       "  <tbody>\n",
       "    <tr>\n",
       "      <th>6trNtQUgC8cgbWcqoMYkOR</th>\n",
       "      <td>6trNtQUgC8cgbWcqoMYkOR</td>\n",
       "      <td>beerbongs &amp; bentleys</td>\n",
       "      <td>2018-04-27</td>\n",
       "      <td>[4jwLkSVrnathscvWtxy1Fa, 4jwLkSVrnathscvWtxy1F...</td>\n",
       "      <td>250</td>\n",
       "    </tr>\n",
       "    <tr>\n",
       "      <th>7xV2TzoaVc0ycW7fwBwAml</th>\n",
       "      <td>7xV2TzoaVc0ycW7fwBwAml</td>\n",
       "      <td>Fine Line</td>\n",
       "      <td>2019-12-13</td>\n",
       "      <td>[3v710gnfGEv6w83ogpB6cY, 3v710gnfGEv6w83ogpB6c...</td>\n",
       "      <td>189</td>\n",
       "    </tr>\n",
       "    <tr>\n",
       "      <th>0S0KGZnfBGSIssfF54WSJh</th>\n",
       "      <td>0S0KGZnfBGSIssfF54WSJh</td>\n",
       "      <td>WHEN WE ALL FALL ASLEEP, WHERE DO WE GO?</td>\n",
       "      <td>2019-03-29</td>\n",
       "      <td>[2dbL1KoWphbT4uZKOgnnKw, 6sscVoDWSQD4mBiClcnDo...</td>\n",
       "      <td>188</td>\n",
       "    </tr>\n",
       "    <tr>\n",
       "      <th>41GuZcammIkupMPKH2OJ6I</th>\n",
       "      <td>41GuZcammIkupMPKH2OJ6I</td>\n",
       "      <td>ASTROWORLD</td>\n",
       "      <td>2018-08-03</td>\n",
       "      <td>[3o0YWwdt1uNsb27RsMF1NP, 0x8L3xUxvSyIMRYnYkiV0...</td>\n",
       "      <td>165</td>\n",
       "    </tr>\n",
       "    <tr>\n",
       "      <th>5vP4U51csPrxPEaTLeHwU3</th>\n",
       "      <td>5vP4U51csPrxPEaTLeHwU3</td>\n",
       "      <td>A State Of Trance Year Mix 2020 (Mixed by Armi...</td>\n",
       "      <td>2020-12-11</td>\n",
       "      <td>[03qHGkbjrYxLccWJVPjmMu, 03qHGkbjrYxLccWJVPjmM...</td>\n",
       "      <td>165</td>\n",
       "    </tr>\n",
       "  </tbody>\n",
       "</table>\n",
       "</div>"
      ],
      "text/plain": [
       "                                            id  \\\n",
       "6trNtQUgC8cgbWcqoMYkOR  6trNtQUgC8cgbWcqoMYkOR   \n",
       "7xV2TzoaVc0ycW7fwBwAml  7xV2TzoaVc0ycW7fwBwAml   \n",
       "0S0KGZnfBGSIssfF54WSJh  0S0KGZnfBGSIssfF54WSJh   \n",
       "41GuZcammIkupMPKH2OJ6I  41GuZcammIkupMPKH2OJ6I   \n",
       "5vP4U51csPrxPEaTLeHwU3  5vP4U51csPrxPEaTLeHwU3   \n",
       "\n",
       "                                                                     name  \\\n",
       "6trNtQUgC8cgbWcqoMYkOR                               beerbongs & bentleys   \n",
       "7xV2TzoaVc0ycW7fwBwAml                                          Fine Line   \n",
       "0S0KGZnfBGSIssfF54WSJh           WHEN WE ALL FALL ASLEEP, WHERE DO WE GO?   \n",
       "41GuZcammIkupMPKH2OJ6I                                         ASTROWORLD   \n",
       "5vP4U51csPrxPEaTLeHwU3  A State Of Trance Year Mix 2020 (Mixed by Armi...   \n",
       "\n",
       "                       release_date  \\\n",
       "6trNtQUgC8cgbWcqoMYkOR   2018-04-27   \n",
       "7xV2TzoaVc0ycW7fwBwAml   2019-12-13   \n",
       "0S0KGZnfBGSIssfF54WSJh   2019-03-29   \n",
       "41GuZcammIkupMPKH2OJ6I   2018-08-03   \n",
       "5vP4U51csPrxPEaTLeHwU3   2020-12-11   \n",
       "\n",
       "                                                              in_playlist  \\\n",
       "6trNtQUgC8cgbWcqoMYkOR  [4jwLkSVrnathscvWtxy1Fa, 4jwLkSVrnathscvWtxy1F...   \n",
       "7xV2TzoaVc0ycW7fwBwAml  [3v710gnfGEv6w83ogpB6cY, 3v710gnfGEv6w83ogpB6c...   \n",
       "0S0KGZnfBGSIssfF54WSJh  [2dbL1KoWphbT4uZKOgnnKw, 6sscVoDWSQD4mBiClcnDo...   \n",
       "41GuZcammIkupMPKH2OJ6I  [3o0YWwdt1uNsb27RsMF1NP, 0x8L3xUxvSyIMRYnYkiV0...   \n",
       "5vP4U51csPrxPEaTLeHwU3  [03qHGkbjrYxLccWJVPjmMu, 03qHGkbjrYxLccWJVPjmM...   \n",
       "\n",
       "                        count  \n",
       "6trNtQUgC8cgbWcqoMYkOR    250  \n",
       "7xV2TzoaVc0ycW7fwBwAml    189  \n",
       "0S0KGZnfBGSIssfF54WSJh    188  \n",
       "41GuZcammIkupMPKH2OJ6I    165  \n",
       "5vP4U51csPrxPEaTLeHwU3    165  "
      ]
     },
     "execution_count": 27,
     "metadata": {},
     "output_type": "execute_result"
    }
   ],
   "source": [
    "df_albums.head()\n",
    "df_albums['count'] = df_albums.in_playlist.str.len()\n",
    "df_albums = df_albums.sort_values(by='count', ascending=False)\n",
    "df_albums.head()"
   ]
  },
  {
   "cell_type": "code",
   "execution_count": 28,
   "id": "b23bb71b",
   "metadata": {
    "ExecuteTime": {
     "end_time": "2022-05-24T01:45:58.193003Z",
     "start_time": "2022-05-24T01:45:56.495045Z"
    },
    "scrolled": false
   },
   "outputs": [
    {
     "data": {
      "image/png": "[encoded data removed]",
      "text/plain": [
       "<Figure size 1296x504 with 2 Axes>"
      ]
     },
     "metadata": {
      "needs_background": "light"
     },
     "output_type": "display_data"
    }
   ],
   "source": [
    "fig, axes = plt.subplots(ncols=2, nrows=1, figsize=(18, 7))\n",
    "fig.suptitle('Histogram and boxplot of albums count (log scale)', fontsize = 20)\n",
    "\n",
    "df = df_albums\n",
    "param = 'count'\n",
    "\n",
    "axes[0].hist(df[param], color='green', alpha=0.4, label='Artist count')\n",
    "axes[0].set_yscale('log')\n",
    "axes[0].set_xlabel('\\n# of appeareances of each album', fontsize = 16)\n",
    "axes[0].set_ylabel('Count', fontsize = 16)\n",
    "axes[0].tick_params(labelsize=16)\n",
    "\n",
    "sns.boxplot(ax=axes[1],\n",
    "            data=df,\n",
    "            x=param,\n",
    "            palette='summer_r',\n",
    "            showmeans=True,\n",
    "            meanprops={\n",
    "                \"marker\": \"o\",\n",
    "                \"markerfacecolor\": \"red\",\n",
    "                \"markeredgecolor\": \"red\"\n",
    "            },\n",
    "            flierprops=dict(marker='.',\n",
    "                            markerfacecolor='steelblue',\n",
    "                            markeredgecolor='steelblue',\n",
    "                            alpha=.5),\n",
    "            boxprops=dict(alpha=.7),\n",
    "            width=.5,\n",
    "            notch=True).set_title(param)\n",
    "axes[1].set_xscale('log')\n",
    "axes[1].set_xlabel('\\nCount', fontsize = 16)\n",
    "axes[1].set_ylabel('\\n# of appeareances of each album', fontsize = 16)\n",
    "axes[1].tick_params(labelsize=16)\n",
    "\n",
    "data_path = os.getcwd() + '\\\\data\\\\5_albums_distr.png'\n",
    "plt.savefig(data_path, bbox_inches='tight')"
   ]
  },
  {
   "cell_type": "code",
   "execution_count": 29,
   "id": "8925186c",
   "metadata": {
    "ExecuteTime": {
     "end_time": "2022-05-24T01:45:58.254294Z",
     "start_time": "2022-05-24T01:45:58.195215Z"
    }
   },
   "outputs": [
    {
     "name": "stdout",
     "output_type": "stream",
     "text": [
      "43355\n",
      "0.6982043642805379\n"
     ]
    }
   ],
   "source": [
    "print(df_albums[df_albums['count'] == 1]['id'].count())\n",
    "print(df_albums[df_albums['count'] == 1]['id'].count() /\n",
    "      df_albums['id'].count())"
   ]
  },
  {
   "cell_type": "markdown",
   "id": "fb05380c",
   "metadata": {},
   "source": [
    "- beerbongs & bentleys is the album that appeared in most playlists with 250 appearances\n",
    "- 43,355 albums (69.8%) appeared only one time"
   ]
  },
  {
   "cell_type": "markdown",
   "id": "c399c74b",
   "metadata": {},
   "source": [
    "# Summary and conclusions"
   ]
  },
  {
   "cell_type": "code",
   "execution_count": 30,
   "id": "2388f3b6",
   "metadata": {
    "ExecuteTime": {
     "end_time": "2022-05-24T01:45:58.270220Z",
     "start_time": "2022-05-24T01:45:58.256261Z"
    }
   },
   "outputs": [
    {
     "name": "stdout",
     "output_type": "stream",
     "text": [
      "\n",
      "Total playlists: 1,851\n",
      "Total tracks: 140,248\n",
      "Total unique tracks: 85,458\n",
      "Total artists: 28,669\n",
      "Total albums: 62,095\n",
      "\n",
      "Total track / unique: 1.6\n",
      "\n",
      "Average number of tracks per playlist: 75.8\n",
      "Median tracks per playlist: 98.0\n",
      "Maximum number of tracks per playlist: 100\n",
      "Minimum number of tracks per playlist: 0\n",
      "\n",
      "Artists/playlist: 15.5\n",
      "Albums/playlist: 33.5\n",
      "\n",
      "Albums/Artist: 2.2\n",
      "\n"
     ]
    }
   ],
   "source": [
    "print(txt)"
   ]
  },
  {
   "cell_type": "markdown",
   "id": "a1a23cf2",
   "metadata": {},
   "source": [
    "- **Playlists**\n",
    "    - 48% of the playlists have 100 tracks\n",
    "    - only 75 (4%) of them have less than 20 tracks, so we will remove these playlists from our analysis\n",
    "\n",
    "- **Tracks**\n",
    "    - There are 85,458 different tracks\n",
    "    - 67,864 tracks (79.4%) appeared only one time\n",
    "    - The track \"Invisible\" from the artists Andra and Lil Eddie is repeated 92 times\n",
    "\n",
    "- **Artists**\n",
    "    - \"Various Artists\" is the most famous artist; however, this is not a relevant information\n",
    "    - Drake is present in 877 playlists\n",
    "    - 15,609 artists (54.4%) appeared only one time\n",
    "    \n",
    "- **Albums**\n",
    "    - beerbongs & bentleys is the album that appeared in most playlists with 250 appearances\n",
    "    - 43,355 albums (69.8%) appeared only one time\n",
    "    \n",
    "The EDA analysis indicates that we can remove playlists with less than 20 tracks, and the artist \"Various Artist\" must be ignored when matching the artists.\n",
    "\n",
    "For the population, the average features are:\n",
    "- per playlist: 75.8 tracks, 15.5 artists, 33.5 albums\n",
    "- each track appears 1.6 times on average\n",
    "- the majority of artists and albums appear just one time\n",
    "- each artist showed up with 2.2 albums"
   ]
  },
  {
   "cell_type": "markdown",
   "id": "cd5f45ff",
   "metadata": {},
   "source": [
    "# Data treatment"
   ]
  },
  {
   "cell_type": "code",
   "execution_count": 31,
   "id": "2ce04201",
   "metadata": {
    "ExecuteTime": {
     "end_time": "2022-05-24T01:45:58.285296Z",
     "start_time": "2022-05-24T01:45:58.273212Z"
    }
   },
   "outputs": [],
   "source": [
    "df = pd.DataFrame.from_dict(playlists_dict, orient='index')"
   ]
  },
  {
   "cell_type": "code",
   "execution_count": 32,
   "id": "929654b0",
   "metadata": {
    "ExecuteTime": {
     "end_time": "2022-05-24T01:45:58.300653Z",
     "start_time": "2022-05-24T01:45:58.288498Z"
    }
   },
   "outputs": [
    {
     "data": {
      "text/plain": [
       "(1776, 4)"
      ]
     },
     "execution_count": 32,
     "metadata": {},
     "output_type": "execute_result"
    }
   ],
   "source": [
    "df = df[df['total_tracks'] >= 20]\n",
    "df.shape"
   ]
  },
  {
   "cell_type": "markdown",
   "id": "73857a9e",
   "metadata": {},
   "source": [
    "## Split the playlists between training and testing sets"
   ]
  },
  {
   "cell_type": "code",
   "execution_count": 33,
   "id": "5b3c745c",
   "metadata": {
    "ExecuteTime": {
     "end_time": "2022-05-24T01:45:58.316026Z",
     "start_time": "2022-05-24T01:45:58.302616Z"
    },
    "run_control": {
     "marked": false
    }
   },
   "outputs": [
    {
     "name": "stdout",
     "output_type": "stream",
     "text": [
      "1243\n",
      "533\n"
     ]
    }
   ],
   "source": [
    "train, test = train_test_split(df, test_size=0.3, random_state=13)\n",
    "print(len(train))\n",
    "print(len(test))"
   ]
  },
  {
   "cell_type": "code",
   "execution_count": 34,
   "id": "989953eb",
   "metadata": {
    "ExecuteTime": {
     "end_time": "2022-05-24T01:45:58.885032Z",
     "start_time": "2022-05-24T01:45:58.318368Z"
    }
   },
   "outputs": [],
   "source": [
    "# Save playlists\n",
    "data_path = os.getcwd() + '\\\\data\\\\processed\\\\3_playlists_dict_train.pkl'\n",
    "with open(data_path, 'wb') as f:\n",
    "    pickle.dump(train, f)\n",
    "\n",
    "data_path = os.getcwd() + '\\\\data\\\\processed\\\\3_playlists_dict_test.pkl'\n",
    "with open(data_path, 'wb') as f:\n",
    "    pickle.dump(test, f)"
   ]
  },
  {
   "cell_type": "markdown",
   "id": "b986109d",
   "metadata": {},
   "source": [
    "## Create dictionary for all Tracks (train and test sets)"
   ]
  },
  {
   "cell_type": "code",
   "execution_count": 35,
   "id": "42663525",
   "metadata": {
    "ExecuteTime": {
     "end_time": "2022-05-24T01:46:00.871262Z",
     "start_time": "2022-05-24T01:45:58.886694Z"
    }
   },
   "outputs": [
    {
     "name": "stdout",
     "output_type": "stream",
     "text": [
      "Loaded: All tracks as a dictionary - C:\\Users\\map_f\\OneDrive\\Documents\\GitHub\\Follow_the_beat\\data\\processed\\4_tracks_dict_train.pkl\n",
      "63699\n",
      "Loaded: All tracks as a dictionary - C:\\Users\\map_f\\OneDrive\\Documents\\GitHub\\Follow_the_beat\\data\\processed\\4_tracks_dict_test.pkl\n",
      "31183\n"
     ]
    }
   ],
   "source": [
    "tracks_dict_train = dict_all_tracks(\n",
    "    os.getcwd() + '\\\\data\\\\processed\\\\4_tracks_dict_train.pkl', train)\n",
    "tracks_dict_test = dict_all_tracks(\n",
    "    os.getcwd() + '\\\\data\\\\processed\\\\4_tracks_dict_test.pkl', test)"
   ]
  },
  {
   "cell_type": "markdown",
   "id": "b9761f42",
   "metadata": {},
   "source": [
    "## Create dictionary for all Artists  (train and test sets)"
   ]
  },
  {
   "cell_type": "code",
   "execution_count": 36,
   "id": "0ab1d5cc",
   "metadata": {
    "ExecuteTime": {
     "end_time": "2022-05-24T01:46:00.949409Z",
     "start_time": "2022-05-24T01:46:00.873658Z"
    }
   },
   "outputs": [
    {
     "name": "stdout",
     "output_type": "stream",
     "text": [
      "Loaded: All artists as a dictionary - C:\\Users\\map_f\\OneDrive\\Documents\\GitHub\\Follow_the_beat\\data\\processed\\5_artists_dict_train.pkl\n",
      "22639\n",
      "Loaded: All artists as a dictionary - C:\\Users\\map_f\\OneDrive\\Documents\\GitHub\\Follow_the_beat\\data\\processed\\5_artists_dict_test.pkl\n",
      "12780\n"
     ]
    }
   ],
   "source": [
    "artists_dict_train = dict_all_artists(\n",
    "    os.getcwd() + '\\\\data\\\\processed\\\\5_artists_dict_train.pkl', train)\n",
    "artists_dict_test = dict_all_artists(\n",
    "    os.getcwd() + '\\\\data\\\\processed\\\\5_artists_dict_test.pkl', test)"
   ]
  },
  {
   "cell_type": "markdown",
   "id": "225212d9",
   "metadata": {},
   "source": [
    "## Create dictionary for all Albums  (train and test sets)"
   ]
  },
  {
   "cell_type": "code",
   "execution_count": 37,
   "id": "3a608654",
   "metadata": {
    "ExecuteTime": {
     "end_time": "2022-05-24T01:46:01.410331Z",
     "start_time": "2022-05-24T01:46:00.952397Z"
    }
   },
   "outputs": [
    {
     "name": "stdout",
     "output_type": "stream",
     "text": [
      "Loaded: All albums as a dictionary - C:\\Users\\map_f\\OneDrive\\Documents\\GitHub\\Follow_the_beat\\data\\processed\\6_albums_dict_train.pkl\n",
      "46688\n",
      "Loaded: All albums as a dictionary - C:\\Users\\map_f\\OneDrive\\Documents\\GitHub\\Follow_the_beat\\data\\processed\\6_albums_dict_test.pkl\n",
      "24258\n"
     ]
    }
   ],
   "source": [
    "albums_dict_train = dict_all_albums(\n",
    "    os.getcwd() + '\\\\data\\\\processed\\\\6_albums_dict_train.pkl', train)\n",
    "albums_dict_test = dict_all_albums(\n",
    "    os.getcwd() + '\\\\data\\\\processed\\\\6_albums_dict_test.pkl', test)"
   ]
  },
  {
   "cell_type": "markdown",
   "id": "3b2a13eb",
   "metadata": {},
   "source": [
    "# Save run time"
   ]
  },
  {
   "cell_type": "code",
   "execution_count": 38,
   "id": "c2fddbce",
   "metadata": {
    "ExecuteTime": {
     "end_time": "2022-05-24T01:46:01.426157Z",
     "start_time": "2022-05-24T01:46:01.412219Z"
    }
   },
   "outputs": [],
   "source": [
    "# profiling_grid = pd.DataFrame(d)\n",
    "\n",
    "# data_path = os.getcwd() + '\\\\data\\\\processed\\\\run_times_1.pkl'\n",
    "# txt = 'Run times - ' + data_path\n",
    "\n",
    "# print('Saved: ' + txt)\n",
    "# with open(data_path, 'wb') as f:\n",
    "#     pickle.dump(profiling_grid, f)\n",
    "\n",
    "# print(len(profiling_grid))"
   ]
  },
  {
   "cell_type": "code",
   "execution_count": 39,
   "id": "e6c126f6",
   "metadata": {
    "ExecuteTime": {
     "end_time": "2022-05-24T01:46:01.441513Z",
     "start_time": "2022-05-24T01:46:01.427951Z"
    },
    "scrolled": true
   },
   "outputs": [],
   "source": [
    "# profiling_grid"
   ]
  }
 ],
 "metadata": {
  "hide_input": false,
  "kernelspec": {
   "display_name": "Python 3",
   "language": "python",
   "name": "python3"
  },
  "language_info": {
   "codemirror_mode": {
    "name": "ipython",
    "version": 3
   },
   "file_extension": ".py",
   "mimetype": "text/x-python",
   "name": "python",
   "nbconvert_exporter": "python",
   "pygments_lexer": "ipython3",
   "version": "3.8.10"
  },
  "toc": {
   "base_numbering": 1,
   "nav_menu": {},
   "number_sections": true,
   "sideBar": true,
   "skip_h1_title": false,
   "title_cell": "Table of Contents",
   "title_sidebar": "Contents",
   "toc_cell": false,
   "toc_position": {
    "height": "calc(100% - 180px)",
    "left": "10px",
    "top": "150px",
    "width": "384px"
   },
   "toc_section_display": true,
   "toc_window_display": true
  },
  "varInspector": {
   "cols": {
    "lenName": 16,
    "lenType": 16,
    "lenVar": 40
   },
   "kernels_config": {
    "python": {
     "delete_cmd_postfix": "",
     "delete_cmd_prefix": "del ",
     "library": "var_list.py",
     "varRefreshCmd": "print(var_dic_list())"
    },
    "r": {
     "delete_cmd_postfix": ") ",
     "delete_cmd_prefix": "rm(",
     "library": "var_list.r",
     "varRefreshCmd": "cat(var_dic_list()) "
    }
   },
   "types_to_exclude": [
    "module",
    "function",
    "builtin_function_or_method",
    "instance",
    "_Feature"
   ],
   "window_display": false
  }
 },
 "nbformat": 4,
 "nbformat_minor": 5
}
