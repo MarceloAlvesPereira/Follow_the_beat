{
 "cells": [
  {
   "cell_type": "code",
   "execution_count": 1,
   "id": "6de699c6",
   "metadata": {
    "ExecuteTime": {
     "end_time": "2022-05-21T16:58:25.693396Z",
     "start_time": "2022-05-21T16:58:23.477301Z"
    }
   },
   "outputs": [],
   "source": [
    "import collections\n",
    "import datetime\n",
    "import math\n",
    "\n",
    "import os\n",
    "import time\n",
    "\n",
    "import numpy as np\n",
    "import pandas as pd\n",
    "from scipy.sparse import csr_matrix\n",
    "\n",
    "import pickle\n",
    "\n",
    "import matplotlib.pyplot as plt\n",
    "import seaborn as sns\n",
    "\n",
    "from sklearn.preprocessing import MinMaxScaler\n",
    "\n",
    "import random\n",
    "\n",
    "import gc\n",
    "\n",
    "pd.options.display.float_format = \"{:.2f}\".format\n",
    "format = '%d/%m/%Y %H:%M'"
   ]
  },
  {
   "cell_type": "markdown",
   "id": "9ef48a7a",
   "metadata": {},
   "source": [
    "# Load data"
   ]
  },
  {
   "cell_type": "markdown",
   "id": "c614bb88",
   "metadata": {},
   "source": [
    "Load all data required."
   ]
  },
  {
   "cell_type": "code",
   "execution_count": 2,
   "id": "58b47e8d",
   "metadata": {
    "ExecuteTime": {
     "end_time": "2022-05-21T16:58:25.709377Z",
     "start_time": "2022-05-21T16:58:25.696415Z"
    }
   },
   "outputs": [],
   "source": [
    "def load_file(data_path, msg):\n",
    "    if msg != '':\n",
    "        txt = msg + ' - ' + data_path\n",
    "    else:\n",
    "        txt = data_path\n",
    "\n",
    "    if os.path.exists(data_path):\n",
    "        print('Loaded: ' + txt)\n",
    "        with open(data_path, 'rb') as f:\n",
    "            file_loaded = pickle.load(f)\n",
    "        return file_loaded\n",
    "    else:\n",
    "        print('File not found: ' + txt)"
   ]
  },
  {
   "cell_type": "code",
   "execution_count": 3,
   "id": "e542b232",
   "metadata": {
    "ExecuteTime": {
     "end_time": "2022-05-21T16:58:25.724316Z",
     "start_time": "2022-05-21T16:58:25.711352Z"
    }
   },
   "outputs": [
    {
     "name": "stdout",
     "output_type": "stream",
     "text": [
      "Loaded: Run times - C:\\Users\\map_f\\OneDrive\\Documents\\GitHub\\Follow_the_beat\\data\\processed\\run_times.pkl\n"
     ]
    }
   ],
   "source": [
    "data_path = os.getcwd() + '\\\\data\\\\processed\\\\run_times.pkl'\n",
    "txt = 'Run times - ' + data_path\n",
    "if os.path.exists(data_path):\n",
    "    print('Loaded: ' + txt)\n",
    "    with open(data_path, 'rb') as f:\n",
    "        profiling_grid = pickle.load(f)"
   ]
  },
  {
   "cell_type": "code",
   "execution_count": 4,
   "id": "705d70c5",
   "metadata": {
    "ExecuteTime": {
     "end_time": "2022-05-21T16:58:28.590689Z",
     "start_time": "2022-05-21T16:58:25.727339Z"
    }
   },
   "outputs": [
    {
     "name": "stdout",
     "output_type": "stream",
     "text": [
      "Loaded: Playlists dictionary (training) - C:\\Users\\map_f\\OneDrive\\Documents\\GitHub\\Follow_the_beat\\data\\processed\\3_playlists_dict_train.pkl\n",
      "Loaded: Playlists dictionary (test) - C:\\Users\\map_f\\OneDrive\\Documents\\GitHub\\Follow_the_beat\\data\\processed\\3_playlists_dict_test.pkl\n",
      "Playlist - training set: 1243\n",
      "Playlist - test set: 533\n",
      "\n",
      "Loaded: Tracks dictionary (training) - C:\\Users\\map_f\\OneDrive\\Documents\\GitHub\\Follow_the_beat\\data\\processed\\4_tracks_dict_train.pkl\n",
      "Loaded: Tracks dictionary (test) - C:\\Users\\map_f\\OneDrive\\Documents\\GitHub\\Follow_the_beat\\data\\processed\\4_tracks_dict_test.pkl\n",
      "Tracks - training set: 63699\n",
      "Tracks - test set: 31183\n",
      "\n",
      "Loaded: Artist dictionary (training) - C:\\Users\\map_f\\OneDrive\\Documents\\GitHub\\Follow_the_beat\\data\\processed\\5_artists_dict_train.pkl\n",
      "Loaded: Artist dictionary (test) - C:\\Users\\map_f\\OneDrive\\Documents\\GitHub\\Follow_the_beat\\data\\processed\\5_artists_dict_test.pkl\n",
      "Artist - training set: 22639\n",
      "Artist - test set: 12780\n",
      "\n",
      "Loaded: Albums dictionary (training) - C:\\Users\\map_f\\OneDrive\\Documents\\GitHub\\Follow_the_beat\\data\\processed\\6_albums_dict_train.pkl\n",
      "Loaded: Albums dictionary (test) - C:\\Users\\map_f\\OneDrive\\Documents\\GitHub\\Follow_the_beat\\data\\processed\\6_albums_dict_test.pkl\n",
      "Albums - training set: 46688\n",
      "Albums - test set: 24258\n",
      "\n"
     ]
    }
   ],
   "source": [
    "# Load all data\n",
    "playlists_train = load_file(\n",
    "    os.getcwd() + '\\\\data\\\\processed\\\\3_playlists_dict_train.pkl',\n",
    "    'Playlists dictionary (training)')\n",
    "playlists_test = load_file(\n",
    "    os.getcwd() + '\\\\data\\\\processed\\\\3_playlists_dict_test.pkl',\n",
    "    'Playlists dictionary (test)')\n",
    "print('Playlist - training set: ' + str(len(playlists_train)))\n",
    "print('Playlist - test set: ' + str(len(playlists_test)))\n",
    "print()\n",
    "\n",
    "tracks_dict_train = load_file(\n",
    "    os.getcwd() + '\\\\data\\\\processed\\\\4_tracks_dict_train.pkl',\n",
    "    'Tracks dictionary (training)')\n",
    "tracks_dict_test = load_file(\n",
    "    os.getcwd() + '\\\\data\\\\processed\\\\4_tracks_dict_test.pkl',\n",
    "    'Tracks dictionary (test)')\n",
    "print('Tracks - training set: ' + str(len(tracks_dict_train)))\n",
    "print('Tracks - test set: ' + str(len(tracks_dict_test)))\n",
    "print()\n",
    "\n",
    "artists_dict_train = load_file(\n",
    "    os.getcwd() + '\\\\data\\\\processed\\\\5_artists_dict_train.pkl',\n",
    "    'Artist dictionary (training)')\n",
    "artists_dict_test = load_file(\n",
    "    os.getcwd() + '\\\\data\\\\processed\\\\5_artists_dict_test.pkl',\n",
    "    'Artist dictionary (test)')\n",
    "print('Artist - training set: ' + str(len(artists_dict_train)))\n",
    "print('Artist - test set: ' + str(len(artists_dict_test)))\n",
    "print()\n",
    "\n",
    "albums_dict_train = load_file(\n",
    "    os.getcwd() + '\\\\data\\\\processed\\\\6_albums_dict_train.pkl',\n",
    "    'Albums dictionary (training)')\n",
    "albums_dict_test = load_file(\n",
    "    os.getcwd() + '\\\\data\\\\processed\\\\6_albums_dict_test.pkl',\n",
    "    'Albums dictionary (test)')\n",
    "print('Albums - training set: ' + str(len(albums_dict_train)))\n",
    "print('Albums - test set: ' + str(len(albums_dict_test)))\n",
    "print()"
   ]
  },
  {
   "cell_type": "code",
   "execution_count": 5,
   "id": "88715dd5",
   "metadata": {
    "ExecuteTime": {
     "end_time": "2022-05-21T16:58:29.441885Z",
     "start_time": "2022-05-21T16:58:28.592753Z"
    }
   },
   "outputs": [
    {
     "name": "stdout",
     "output_type": "stream",
     "text": [
      "Loaded: All tracks as a dictionary - C:\\Users\\map_f\\OneDrive\\Documents\\GitHub\\Follow_the_beat\\data\\processed\\4_tracks_dict.pkl\n",
      "85458\n"
     ]
    }
   ],
   "source": [
    "# All tracks\n",
    "data_path = os.getcwd() + '\\\\data\\\\processed\\\\4_tracks_dict.pkl'\n",
    "txt = 'All tracks as a dictionary - ' + data_path\n",
    "\n",
    "if os.path.exists(data_path):\n",
    "    print('Loaded: ' + txt)\n",
    "    with open(data_path, 'rb') as f:\n",
    "        tracks_dict = pickle.load(f)\n",
    "else:\n",
    "    tracks_dict = dict_all_tracks(data_path, playlists_dict)\n",
    "\n",
    "print(len(tracks_dict))"
   ]
  },
  {
   "cell_type": "code",
   "execution_count": 6,
   "id": "3d55430e",
   "metadata": {
    "ExecuteTime": {
     "end_time": "2022-05-21T16:58:29.502955Z",
     "start_time": "2022-05-21T16:58:29.445022Z"
    }
   },
   "outputs": [
    {
     "name": "stdout",
     "output_type": "stream",
     "text": [
      "Loaded: All artists as a dictionary - C:\\Users\\map_f\\OneDrive\\Documents\\GitHub\\Follow_the_beat\\data\\processed\\5_artists_dict.pkl\n",
      "28669\n"
     ]
    }
   ],
   "source": [
    "# All artists\n",
    "data_path = os.getcwd() + '\\\\data\\\\processed\\\\5_artists_dict.pkl'\n",
    "txt = 'All artists as a dictionary - ' + data_path\n",
    "\n",
    "if os.path.exists(data_path):\n",
    "    print('Loaded: ' + txt)\n",
    "    with open(data_path, 'rb') as f:\n",
    "        artists_dict = pickle.load(f)\n",
    "else:\n",
    "    artists_dict = dict_all_artists(data_path, playlists_dict)\n",
    "\n",
    "print(len(artists_dict))"
   ]
  },
  {
   "cell_type": "code",
   "execution_count": 7,
   "id": "0bead7f9",
   "metadata": {
    "ExecuteTime": {
     "end_time": "2022-05-21T16:58:30.257349Z",
     "start_time": "2022-05-21T16:58:29.507941Z"
    }
   },
   "outputs": [
    {
     "name": "stdout",
     "output_type": "stream",
     "text": [
      "Loaded: All albums as a dictionary - C:\\Users\\map_f\\OneDrive\\Documents\\GitHub\\Follow_the_beat\\data\\processed\\6_albums_dict.pkl\n",
      "62095\n"
     ]
    }
   ],
   "source": [
    "# All albums\n",
    "data_path = os.getcwd() + '\\\\data\\\\processed\\\\6_albums_dict.pkl'\n",
    "txt = 'All albums as a dictionary - ' + data_path\n",
    "\n",
    "if os.path.exists(data_path):\n",
    "    print('Loaded: ' + txt)\n",
    "    with open(data_path, 'rb') as f:\n",
    "        albums_dict = pickle.load(f)\n",
    "else:\n",
    "    albums_dict = dict_all_albums(data_path, playlists_dict)\n",
    "print(len(albums_dict))"
   ]
  },
  {
   "cell_type": "markdown",
   "id": "9531b371",
   "metadata": {},
   "source": [
    "## Create data frames to perform analysis"
   ]
  },
  {
   "cell_type": "code",
   "execution_count": 8,
   "id": "3eea615e",
   "metadata": {
    "ExecuteTime": {
     "end_time": "2022-05-21T16:58:39.958139Z",
     "start_time": "2022-05-21T16:58:30.260342Z"
    }
   },
   "outputs": [
    {
     "name": "stdout",
     "output_type": "stream",
     "text": [
      "df_playlists_train: (4, 1243)\n",
      "df_playlists_test: (4, 533)\n",
      "df_tracks_train: (7, 63699)\n",
      "df_tracks_test: (7, 31183)\n",
      "df_artists_train: (3, 22639)\n",
      "df_artists_test: (3, 12780)\n",
      "df_albums_train: (4, 46688)\n",
      "df_albums_test: (4, 24258)\n"
     ]
    }
   ],
   "source": [
    "gc.collect()\n",
    "df_playlists_train = playlists_train.T\n",
    "print(\"df_playlists_train:\", df_playlists_train.shape)\n",
    "\n",
    "df_playlists_test = playlists_test.T\n",
    "print(\"df_playlists_test:\", df_playlists_test.shape)\n",
    "\n",
    "df_tracks_train = pd.DataFrame.from_dict(tracks_dict_train, orient='index')\n",
    "df_tracks_train = df_tracks_train.T\n",
    "print(\"df_tracks_train:\", df_tracks_train.shape)\n",
    "\n",
    "df_tracks_test = pd.DataFrame.from_dict(tracks_dict_test, orient='index')\n",
    "df_tracks_test = df_tracks_test.T\n",
    "print(\"df_tracks_test:\", df_tracks_test.shape)\n",
    "\n",
    "df_artists_train = pd.DataFrame.from_dict(artists_dict_train, orient='index')\n",
    "df_artists_train = df_artists_train.T\n",
    "print(\"df_artists_train:\", df_artists_train.shape)\n",
    "\n",
    "df_artists_test = pd.DataFrame.from_dict(artists_dict_test, orient='index')\n",
    "df_artists_test = df_artists_test.T\n",
    "print(\"df_artists_test:\", df_artists_test.shape)\n",
    "\n",
    "df_albums_train = pd.DataFrame.from_dict(albums_dict_train, orient='index')\n",
    "df_albums_train = df_albums_train.T\n",
    "print(\"df_albums_train:\", df_albums_train.shape)\n",
    "\n",
    "df_albums_test = pd.DataFrame.from_dict(albums_dict_test, orient='index')\n",
    "df_albums_test = df_albums_test.T\n",
    "print(\"df_albums_test:\", df_albums_test.shape)"
   ]
  },
  {
   "cell_type": "markdown",
   "id": "5271f0bd",
   "metadata": {},
   "source": [
    "# Co-occurrence matrix"
   ]
  },
  {
   "cell_type": "markdown",
   "id": "6147b809",
   "metadata": {},
   "source": [
    "## Tracks co-occurrence matrix"
   ]
  },
  {
   "cell_type": "code",
   "execution_count": 9,
   "id": "d3dc0998",
   "metadata": {
    "ExecuteTime": {
     "end_time": "2022-05-21T16:58:39.973566Z",
     "start_time": "2022-05-21T16:58:39.960134Z"
    }
   },
   "outputs": [],
   "source": [
    "def co_occurrence_matrix_tracks(playlists_dict, tracks_dict):\n",
    "    matrix = {}\n",
    "    for i, item in enumerate(tracks_dict):\n",
    "        tracks_matched = []\n",
    "        for j, playlist_id in enumerate(tracks_dict[item]['in_playlist']):\n",
    "            for tr, track in enumerate(playlists_dict[playlist_id]['tracks']):\n",
    "                tracks_matched.append(track['id'])\n",
    "        counter = collections.Counter(tracks_matched)\n",
    "        b = pd.DataFrame.from_dict(counter, orient='index', columns=['cnt'])\n",
    "        b = b.sort_values('cnt', ascending=False)\n",
    "\n",
    "        min_max = MinMaxScaler()\n",
    "        b['count_scaled'] = min_max.fit_transform(b[['cnt']])\n",
    "        b['rank'] = b['count_scaled'].rank(method='average', ascending=False)\n",
    "\n",
    "        matrix.update({item: b})\n",
    "    return (matrix)"
   ]
  },
  {
   "cell_type": "markdown",
   "id": "dba37002",
   "metadata": {},
   "source": [
    "## Artists co-occurrence matrix"
   ]
  },
  {
   "cell_type": "code",
   "execution_count": 10,
   "id": "12365288",
   "metadata": {
    "ExecuteTime": {
     "end_time": "2022-05-21T16:58:39.989199Z",
     "start_time": "2022-05-21T16:58:39.976238Z"
    }
   },
   "outputs": [],
   "source": [
    "def co_occurrence_matrix_artists(playlists_dict, artists_dict):\n",
    "    matrix = {}\n",
    "    for i, item in enumerate(artists_dict):\n",
    "        artist_matched = []\n",
    "        for j, playlist_id in enumerate(artists_dict[item]['in_playlist']):\n",
    "            for tr, track in enumerate(playlists_dict[playlist_id]['tracks']):\n",
    "                for a, artist in enumerate(track['artists']):\n",
    "                    artist_matched.append(artist['id'])\n",
    "        counter = collections.Counter(artist_matched)\n",
    "        b = pd.DataFrame.from_dict(counter, orient='index', columns=['cnt'])\n",
    "        b = b.sort_values('cnt', ascending=False)\n",
    "\n",
    "        min_max = MinMaxScaler()\n",
    "        b['count_scaled'] = min_max.fit_transform(b[['cnt']])\n",
    "        b['rank'] = b['count_scaled'].rank(method='average', ascending=False)\n",
    "\n",
    "        matrix.update({item: b})\n",
    "    return (matrix)"
   ]
  },
  {
   "cell_type": "markdown",
   "id": "c039515c",
   "metadata": {},
   "source": [
    "## Albums co-occurrence matrix"
   ]
  },
  {
   "cell_type": "code",
   "execution_count": 11,
   "id": "c856667f",
   "metadata": {
    "ExecuteTime": {
     "end_time": "2022-05-21T16:58:40.004962Z",
     "start_time": "2022-05-21T16:58:39.993460Z"
    }
   },
   "outputs": [],
   "source": [
    "def co_occurrence_matrix_albums(playlists_dict, albums_dict):\n",
    "    matrix = {}\n",
    "    for i, item in enumerate(albums_dict):\n",
    "        albums_matched = []\n",
    "        for j, playlist_id in enumerate(albums_dict[item]['in_playlist']):\n",
    "            for tr, track in enumerate(playlists_dict[playlist_id]['tracks']):\n",
    "                albums_matched.append(track['album']['id'])\n",
    "        counter = collections.Counter(albums_matched)\n",
    "        b = pd.DataFrame.from_dict(counter, orient='index', columns=['cnt'])\n",
    "        b = b.sort_values('cnt', ascending=False)\n",
    "\n",
    "        min_max = MinMaxScaler()\n",
    "        b['count_scaled'] = min_max.fit_transform(b[[\"cnt\"]])\n",
    "        b[\"rank\"] = b['count_scaled'].rank(method='average', ascending=False)\n",
    "\n",
    "        matrix.update({item: b})\n",
    "    return (matrix)"
   ]
  },
  {
   "cell_type": "markdown",
   "id": "f09e1bad",
   "metadata": {},
   "source": [
    "##  Create all co-ocurrence matrix"
   ]
  },
  {
   "cell_type": "code",
   "execution_count": 12,
   "id": "289f9da8",
   "metadata": {
    "ExecuteTime": {
     "end_time": "2022-05-21T16:58:40.020252Z",
     "start_time": "2022-05-21T16:58:40.007278Z"
    }
   },
   "outputs": [],
   "source": [
    "def co_ocurrence(playlist, df, data_path, txt):\n",
    "    # check if data extraction already exists then load if it exists, otherwise run query\n",
    "    if os.path.exists(data_path):\n",
    "        print('Co-occurrence ' + txt + ' - Loaded: ' + data_path)\n",
    "        # load file only if the next step was not executed (getting tracks)\n",
    "        with open(data_path, 'rb') as f:\n",
    "            co_occurrence = pickle.load(f)\n",
    "    else:\n",
    "        print('Co-occurrence ' + txt + ' - Saved: ' + data_path)\n",
    "        # list of all user ids (UID) and playlist ids (PID)\n",
    "        uid_pid_raw = []\n",
    "\n",
    "        if txt == 'tracks':\n",
    "            co_occurrence = co_occurrence_matrix_tracks(playlist, df)\n",
    "        elif txt == 'artists':\n",
    "            co_occurrence = co_occurrence_matrix_artists(playlist, df)\n",
    "        elif txt == 'albums':\n",
    "            co_occurrence = co_occurrence_matrix_albums(playlist, df)\n",
    "\n",
    "        # Save the data\n",
    "        with open(data_path, 'wb') as f:\n",
    "            pickle.dump(co_occurrence, f)\n",
    "\n",
    "    len(co_occurrence)\n",
    "    # co_occurrence_tracks['1MJ5f5EYBC92ADD6xcz7nb']\n",
    "    return co_occurrence"
   ]
  },
  {
   "cell_type": "code",
   "execution_count": 13,
   "id": "65bd1d88",
   "metadata": {
    "ExecuteTime": {
     "end_time": "2022-05-21T17:10:50.736749Z",
     "start_time": "2022-05-21T16:58:40.023230Z"
    }
   },
   "outputs": [
    {
     "name": "stdout",
     "output_type": "stream",
     "text": [
      "Co-occurrence tracks - Saved: C:\\Users\\map_f\\OneDrive\\Documents\\GitHub\\Follow_the_beat\\data\\processed\\7_co_occurrence_tracks_train.pkl\n",
      "Co-occurrence artists - Saved: C:\\Users\\map_f\\OneDrive\\Documents\\GitHub\\Follow_the_beat\\data\\processed\\7_co_occurrence_artists_train.pkl\n",
      "Co-occurrence albums - Saved: C:\\Users\\map_f\\OneDrive\\Documents\\GitHub\\Follow_the_beat\\data\\processed\\7_co_occurrence_albums_train.pkl\n",
      "co_occurrence_tracks_train: 63699\n",
      "co_occurrence_artists_train: 22639\n",
      "co_occurrence_albums_train: 46688\n"
     ]
    }
   ],
   "source": [
    "gc.collect()\n",
    "\n",
    "d = []\n",
    "t_start = time.time()\n",
    "co_occurrence_tracks_train = co_ocurrence(\n",
    "    df_playlists_train, df_tracks_train,\n",
    "    os.getcwd() + '\\\\data\\\\processed\\\\7_co_occurrence_tracks_train.pkl',\n",
    "    'tracks')\n",
    "t_end = time.time()\n",
    "d.append({'task': 'co_ocurrence_tracks', 'run_time': t_end - t_start})\n",
    "\n",
    "t_start = time.time()\n",
    "co_occurrence_artists_train = co_ocurrence(\n",
    "    df_playlists_train, df_artists_train,\n",
    "    os.getcwd() + '\\\\data\\\\processed\\\\7_co_occurrence_artists_train.pkl',\n",
    "    'artists')\n",
    "t_end = time.time()\n",
    "d.append({'task': 'co_ocurrence_artists', 'run_time': t_end - t_start})\n",
    "\n",
    "t_start = time.time()\n",
    "co_occurrence_albums_train = co_ocurrence(\n",
    "    df_playlists_train, df_albums_train,\n",
    "    os.getcwd() + '\\\\data\\\\processed\\\\7_co_occurrence_albums_train.pkl',\n",
    "    'albums')\n",
    "t_end = time.time()\n",
    "d.append({'task': 'co_ocurrence_albums', 'run_time': t_end - t_start})\n",
    "\n",
    "print(\"co_occurrence_tracks_train:\", len(co_occurrence_tracks_train))\n",
    "print(\"co_occurrence_artists_train:\", len(co_occurrence_artists_train))\n",
    "print(\"co_occurrence_albums_train:\", len(co_occurrence_albums_train))"
   ]
  },
  {
   "cell_type": "markdown",
   "id": "26a67f57",
   "metadata": {},
   "source": [
    "# Model"
   ]
  },
  {
   "cell_type": "code",
   "execution_count": 14,
   "id": "ed2ea1eb",
   "metadata": {
    "ExecuteTime": {
     "end_time": "2022-05-21T17:10:50.751726Z",
     "start_time": "2022-05-21T17:10:50.739770Z"
    }
   },
   "outputs": [],
   "source": [
    "def prepare_inputs(playlist_trx, trx_train, trx_test, fraction):\n",
    "    trx = playlist_trx.tracks\n",
    "    n = int((len(trx) + 1) * fraction)\n",
    "\n",
    "    ids = pd.DataFrame(trx).id  # ids of the original playlist\n",
    "    selected_ids = random.sample(ids.values.tolist(), n)\n",
    "\n",
    "    db = trx_train.T\n",
    "    trx_available = db[~db.id.isin(selected_ids)]\n",
    "\n",
    "    reference_trx = trx_test.T[trx_test.T.id.isin(selected_ids)]\n",
    "    expected_trx = trx_test.T[~trx_test.T.id.isin(selected_ids)\n",
    "                              & trx_test.T.id.isin(ids)]\n",
    "\n",
    "    return trx_available, reference_trx, expected_trx"
   ]
  },
  {
   "cell_type": "code",
   "execution_count": 15,
   "id": "91765016",
   "metadata": {
    "ExecuteTime": {
     "end_time": "2022-05-21T17:10:50.767701Z",
     "start_time": "2022-05-21T17:10:50.753705Z"
    }
   },
   "outputs": [],
   "source": [
    "def get_tracks_from_playlist(pid):\n",
    "    p = playlists_train.loc[pid].tracks\n",
    "    pid = pd.DataFrame(p)\n",
    "    return pid\n",
    "\n",
    "# a = get_tracks_from_playlist('5mveLg9twuCna0WwuzvXch')"
   ]
  },
  {
   "cell_type": "markdown",
   "id": "6f474740",
   "metadata": {},
   "source": [
    "## Random"
   ]
  },
  {
   "cell_type": "code",
   "execution_count": 16,
   "id": "37ae7041",
   "metadata": {
    "ExecuteTime": {
     "end_time": "2022-05-21T17:10:50.785261Z",
     "start_time": "2022-05-21T17:10:50.770301Z"
    },
    "run_control": {
     "marked": false
    }
   },
   "outputs": [],
   "source": [
    "def get_trk_rnd(playlist_trx, trx_train, trx_test, ref_fraction):\n",
    "    trx_available, reference_trx, expected_trx = prepare_inputs(\n",
    "        playlist_trx, trx_train, trx_test, ref_fraction)\n",
    "\n",
    "    select = random.sample(trx_available['id'].values.tolist(),\n",
    "                           len(expected_trx))\n",
    "\n",
    "    selected_trx = trx_available[trx_available.id.isin(select)]\n",
    "\n",
    "    return reference_trx, expected_trx, selected_trx\n",
    "\n",
    "\n",
    "# reference_trx, expected_trx, selected_trx = get_trk_rnd(\n",
    "#     df_playlists_test['1h4bUPnrpgn8qXGJ5dvTsu'], df_tracks_train,\n",
    "#     df_tracks_test, .5)\n",
    "# print(len(reference_trx), len(expected_trx), len(selected_trx))\n",
    "# reference_trx, expected_trx, selected_trx"
   ]
  },
  {
   "cell_type": "markdown",
   "id": "cf894af3",
   "metadata": {},
   "source": [
    "## Stratified selection"
   ]
  },
  {
   "cell_type": "code",
   "execution_count": 17,
   "id": "2ac3a156",
   "metadata": {
    "ExecuteTime": {
     "end_time": "2022-05-21T17:10:58.140566Z",
     "start_time": "2022-05-21T17:10:50.790018Z"
    }
   },
   "outputs": [
    {
     "name": "stdout",
     "output_type": "stream",
     "text": [
      "Loaded: All tracks as a dictionary - C:\\Users\\map_f\\OneDrive\\Documents\\GitHub\\Follow_the_beat\\data\\processed\\4_tracks_dict.pkl\n",
      "85458\n"
     ]
    }
   ],
   "source": [
    "# All tracks\n",
    "data_path = os.getcwd() + '\\\\data\\\\processed\\\\4_tracks_dict.pkl'\n",
    "txt = 'All tracks as a dictionary - ' + data_path\n",
    "\n",
    "if os.path.exists(data_path):\n",
    "    print('Loaded: ' + txt)\n",
    "    with open(data_path, 'rb') as f:\n",
    "        tracks_dict = pickle.load(f)\n",
    "else:\n",
    "    tracks_dict = dict_all_tracks(data_path, playlists_dict)\n",
    "\n",
    "print(len(tracks_dict))\n",
    "\n",
    "df_tracks = pd.DataFrame.from_dict(tracks_dict)\n",
    "df_tracks = df_tracks.T\n",
    "df_tracks['cnt'] = df_tracks.in_playlist.str.len()\n",
    "df_tracks = df_tracks.sort_values(by='cnt', ascending=False)\n",
    "df_tracks['cum_sum'] = df_tracks['cnt'].cumsum()\n",
    "df_tracks['cum_perc'] = 100 * df_tracks[\n",
    "            'cum_sum'] / df_tracks['cnt'].sum()\n",
    "\n",
    "tracks_frequency = df_tracks[['id','cnt', 'cum_sum', 'cum_perc']].copy()"
   ]
  },
  {
   "cell_type": "code",
   "execution_count": 18,
   "id": "a93d862b",
   "metadata": {
    "ExecuteTime": {
     "end_time": "2022-05-21T17:10:58.155380Z",
     "start_time": "2022-05-21T17:10:58.142994Z"
    },
    "run_control": {
     "marked": false
    }
   },
   "outputs": [],
   "source": [
    "def get_trk_strata(playlist_trx, trx_train, trx_test, ref_fraction):\n",
    "    trx_available, reference_trx, expected_trx = prepare_inputs(\n",
    "        playlist_trx, trx_train, trx_test, ref_fraction)\n",
    "\n",
    "    trx_freq = tracks_frequency\n",
    "    \n",
    "    select = trx_freq.drop(trx_freq.index)\n",
    "\n",
    "    df = pd.DataFrame(np.random.uniform(0,1,size=(500, 1)), columns=['rnd'])\n",
    "                      \n",
    "    aux =[]\n",
    "    for rnd in df['rnd']:\n",
    "        trx_freq['cmp'] = rnd <= trx_freq.cum_perc\n",
    "        aux.append(trx_freq[trx_freq['cmp']==True].iloc[0])\n",
    "    \n",
    "    select = pd.DataFrame(aux)\n",
    "    select = select.drop_duplicates()\n",
    "    select = select[~select.id.isin(reference_trx['id'])]\n",
    "    select = select.reset_index()\n",
    "    select = select.iloc[0:len(expected_trx)]['id']\n",
    "\n",
    "    selected_trx = trx_available[trx_available.id.isin(select)]\n",
    "\n",
    "    return reference_trx, expected_trx, selected_trx\n",
    "\n",
    "# reference_trx, expected_trx, selected_trx = get_trk_strata(\n",
    "#     df_playlists_test['1h4bUPnrpgn8qXGJ5dvTsu'], df_tracks_train,\n",
    "#     df_tracks_test, .5)\n",
    "# print(len(reference_trx), len(expected_trx), len(selected_trx))\n",
    "# reference_trx, expected_trx, selected_trx"
   ]
  },
  {
   "cell_type": "markdown",
   "id": "d60cf1da",
   "metadata": {},
   "source": [
    "## Album"
   ]
  },
  {
   "cell_type": "code",
   "execution_count": 19,
   "id": "af54a771",
   "metadata": {
    "ExecuteTime": {
     "end_time": "2022-05-21T17:10:58.185198Z",
     "start_time": "2022-05-21T17:10:58.158335Z"
    },
    "run_control": {
     "marked": true
    }
   },
   "outputs": [],
   "source": [
    "def get_trk_album(playlist_trx, trx_train, trx_test, ref_fraction):\n",
    "    trx_available, reference_trx, expected_trx = prepare_inputs(\n",
    "        playlist_trx, trx_train, trx_test, ref_fraction)\n",
    "\n",
    "    select = []\n",
    "    selected_trx = trx_available[trx_available.id.isin(select)]\n",
    "    try_n = 0\n",
    "    while len(selected_trx) < len(expected_trx) and try_n < 10:\n",
    "        try_n = try_n + 1\n",
    "        for t, cur_trk in enumerate(reference_trx.T):\n",
    "            aid = reference_trx.loc[cur_trk].album['id']\n",
    "            if aid in albums_dict_train.keys():\n",
    "                co_ocur_aid = co_occurrence_albums_train[aid].iloc[1].name\n",
    "                playlist_id = random.sample(\n",
    "                    albums_dict_train[co_ocur_aid]['in_playlist'], 1)[0]\n",
    "                trx = get_tracks_from_playlist(playlist_id)\n",
    "                aux = random.sample(\n",
    "                    set(get_tracks_from_playlist(playlist_id).id), 1)[0]\n",
    "            else:\n",
    "                aux = random.sample(trx_available['id'].values.tolist(), 1)[0]\n",
    "            select.append(aux)\n",
    "\n",
    "        df = pd.DataFrame(select, columns=['id'])\n",
    "        df = df[~df.id.isin(reference_trx['id'])]\n",
    "        df = df.reset_index()\n",
    "        df = df.iloc[0:len(expected_trx)]['id']\n",
    "\n",
    "        selected_trx = trx_available[trx_available.id.isin(df)]\n",
    "    return reference_trx, expected_trx, selected_trx\n",
    "\n",
    "# ref_trx, expect_trx, select_trx = get_trk_album(\n",
    "#     df_playlists_test['1h4bUPnrpgn8qXGJ5dvTsu'], df_tracks_train,\n",
    "#     df_tracks_test, .25)\n",
    "# print(len(ref_trx), len(expect_trx), len(select_trx))\n",
    "# ref_trx, expect_trx, select_trx"
   ]
  },
  {
   "cell_type": "markdown",
   "id": "5cc61f23",
   "metadata": {},
   "source": [
    "## Artist"
   ]
  },
  {
   "cell_type": "code",
   "execution_count": 20,
   "id": "9731ee1d",
   "metadata": {
    "ExecuteTime": {
     "end_time": "2022-05-21T17:10:58.200709Z",
     "start_time": "2022-05-21T17:10:58.188140Z"
    },
    "code_folding": [],
    "run_control": {
     "marked": false
    }
   },
   "outputs": [],
   "source": [
    "def get_trk_artist(playlist_trx, trx_train, trx_test, ref_fraction):\n",
    "    trx_available, reference_trx, expected_trx = prepare_inputs(\n",
    "        playlist_trx, trx_train, trx_test, ref_fraction)\n",
    "\n",
    "    select = []\n",
    "    selected_trx = trx_available[trx_available.id.isin(select)]\n",
    "    try_n = 0\n",
    "    while len(selected_trx) < len(expected_trx) and try_n < 10:\n",
    "        try_n = try_n + 1\n",
    "        for t, cur_trk in enumerate(reference_trx.T):\n",
    "            aid = reference_trx.loc[cur_trk].artists[0]['id']\n",
    "            if aid in artists_dict_train.keys():\n",
    "                co_ocur_aid = co_occurrence_artists_train[aid].iloc[1].name\n",
    "                playlist_id = random.sample(\n",
    "                    artists_dict_train[co_ocur_aid]['in_playlist'], 1)[0]\n",
    "                trx = get_tracks_from_playlist(playlist_id)\n",
    "                aux = random.sample(\n",
    "                    set(get_tracks_from_playlist(playlist_id).id), 1)[0]\n",
    "            else:\n",
    "                aux = random.sample(trx_available['id'].values.tolist(), 1)[0]\n",
    "            select.append(aux)\n",
    "\n",
    "        df = pd.DataFrame(select, columns=['id'])\n",
    "        df = df[~df.id.isin(reference_trx['id'])]\n",
    "        df = df.reset_index()\n",
    "        df = df.iloc[0:len(expected_trx)]['id']\n",
    "\n",
    "        selected_trx = trx_available[trx_available.id.isin(df)]\n",
    "    return reference_trx, expected_trx, selected_trx\n",
    "\n",
    "# reference_trx, expected_trx, selected_trx = get_trk_artist(\n",
    "#     df_playlists_test['1h4bUPnrpgn8qXGJ5dvTsu'], df_tracks_train,\n",
    "#     df_tracks_test, .5)\n",
    "# print(len(reference_trx), len(expected_trx), len(selected_trx))\n",
    "# reference_trx, expected_trx, selected_trx"
   ]
  },
  {
   "cell_type": "markdown",
   "id": "5f17764d",
   "metadata": {},
   "source": [
    "## Playlist"
   ]
  },
  {
   "cell_type": "code",
   "execution_count": 21,
   "id": "fbe1d695",
   "metadata": {
    "ExecuteTime": {
     "end_time": "2022-05-21T17:10:58.215866Z",
     "start_time": "2022-05-21T17:10:58.204098Z"
    },
    "run_control": {
     "marked": false
    }
   },
   "outputs": [],
   "source": [
    "def get_trk_playlist(playlist_trx, trx_train, trx_test, ref_fraction):\n",
    "    trx_available, reference_trx, expected_trx = prepare_inputs(\n",
    "        playlist_trx, trx_train, trx_test, ref_fraction)\n",
    "\n",
    "    select = []\n",
    "    selected_trx = trx_available[trx_available.id.isin(select)]\n",
    "    try_n = 0\n",
    "    while len(selected_trx) < len(expected_trx) and try_n < 10:\n",
    "        try_n = try_n + 1\n",
    "        for t, cur_trk in enumerate(reference_trx.T):\n",
    "            aid = cur_trk\n",
    "            if aid in tracks_dict_train.keys():\n",
    "                co_ocur_aid = co_occurrence_tracks_train[aid].iloc[1].name\n",
    "                playlist_id = random.sample(\n",
    "                    tracks_dict_train[co_ocur_aid]['in_playlist'], 1)[0]\n",
    "                trx = get_tracks_from_playlist(playlist_id)\n",
    "                aux = random.sample(\n",
    "                    set(get_tracks_from_playlist(playlist_id).id), 1)[0]\n",
    "            else:\n",
    "                aux = random.sample(trx_available['id'].values.tolist(), 1)[0]\n",
    "            select.append(aux)\n",
    "\n",
    "        df = pd.DataFrame(select, columns=['id'])\n",
    "        df = df[~df.id.isin(reference_trx['id'])]\n",
    "        df = df.reset_index()\n",
    "        df = df.iloc[0:len(expected_trx)]['id']\n",
    "\n",
    "        selected_trx = trx_available[trx_available.id.isin(df)]\n",
    "    return reference_trx, expected_trx, selected_trx\n",
    "\n",
    "\n",
    "# reference_trx, expected_trx, selected_trx = get_trk_playlist(\n",
    "#     df_playlists_test['1h4bUPnrpgn8qXGJ5dvTsu'], df_tracks_train,\n",
    "#     df_tracks_test, .5)\n",
    "# print(len(reference_trx), len(expected_trx), len(selected_trx))\n",
    "# reference_trx, expected_trx, selected_trx"
   ]
  },
  {
   "cell_type": "markdown",
   "id": "22781461",
   "metadata": {
    "ExecuteTime": {
     "end_time": "2022-05-07T00:00:10.793486Z",
     "start_time": "2022-05-07T00:00:08.844112Z"
    }
   },
   "source": [
    "# Evaluate models"
   ]
  },
  {
   "cell_type": "code",
   "execution_count": 22,
   "id": "52e5fdc6",
   "metadata": {
    "ExecuteTime": {
     "end_time": "2022-05-21T17:10:58.230999Z",
     "start_time": "2022-05-21T17:10:58.217959Z"
    },
    "run_control": {
     "marked": false
    }
   },
   "outputs": [],
   "source": [
    "def get_trk(method, reference, ref_fraction):\n",
    "    if method == 'random':\n",
    "        reference_trx, expected_trx, selected_trx = get_trk_rnd(\n",
    "            df_playlists_test[reference], df_tracks_train, df_tracks_test,\n",
    "            ref_fraction)\n",
    "    elif method == 'strata':\n",
    "        reference_trx, expected_trx, selected_trx = get_trk_strata(\n",
    "            df_playlists_test[reference], df_tracks_train, df_tracks_test,\n",
    "            ref_fraction)\n",
    "    elif method == 'artist':\n",
    "        reference_trx, expected_trx, selected_trx = get_trk_artist(\n",
    "            df_playlists_test[reference], df_tracks_train, df_tracks_test,\n",
    "            ref_fraction)\n",
    "    elif method == 'album':\n",
    "        reference_trx, expected_trx, selected_trx = get_trk_album(\n",
    "            df_playlists_test[reference], df_tracks_train, df_tracks_test,\n",
    "            ref_fraction)\n",
    "    elif method == 'playlist':\n",
    "        reference_trx, expected_trx, selected_trx = get_trk_playlist(\n",
    "            df_playlists_test[reference], df_tracks_train, df_tracks_test,\n",
    "            ref_fraction)\n",
    "\n",
    "    return reference_trx, expected_trx, selected_trx"
   ]
  },
  {
   "cell_type": "code",
   "execution_count": 23,
   "id": "cb9f7409",
   "metadata": {
    "ExecuteTime": {
     "end_time": "2022-05-21T17:10:58.246184Z",
     "start_time": "2022-05-21T17:10:58.233712Z"
    }
   },
   "outputs": [],
   "source": [
    "methods = ['random', 'strata', 'artist', 'album', 'playlist']\n",
    "splits = [.25, .5, .75]"
   ]
  },
  {
   "cell_type": "code",
   "execution_count": null,
   "id": "26a08691",
   "metadata": {
    "ExecuteTime": {
     "start_time": "2022-05-21T16:58:23.511Z"
    },
    "run_control": {
     "marked": false
    },
    "scrolled": false
   },
   "outputs": [
    {
     "name": "stdout",
     "output_type": "stream",
     "text": [
      "random\n",
      "0.25\n",
      "21/05/2022 13:10 - 0/533 - LEN: 0\n",
      "21/05/2022 13:11 - 100/533 - LEN: 100\n",
      "21/05/2022 13:11 - 200/533 - LEN: 200\n",
      "21/05/2022 13:11 - 300/533 - LEN: 300\n",
      "21/05/2022 13:12 - 400/533 - LEN: 400\n",
      "21/05/2022 13:12 - 500/533 - LEN: 500\n",
      "0.5\n",
      "21/05/2022 13:12 - 0/533 - LEN: 533\n",
      "21/05/2022 13:12 - 100/533 - LEN: 633\n",
      "21/05/2022 13:13 - 200/533 - LEN: 733\n",
      "21/05/2022 13:13 - 300/533 - LEN: 833\n",
      "21/05/2022 13:13 - 400/533 - LEN: 933\n",
      "21/05/2022 13:14 - 500/533 - LEN: 1033\n",
      "0.75\n",
      "21/05/2022 13:14 - 0/533 - LEN: 1066\n",
      "21/05/2022 13:14 - 100/533 - LEN: 1166\n",
      "21/05/2022 13:14 - 200/533 - LEN: 1266\n",
      "21/05/2022 13:15 - 300/533 - LEN: 1366\n",
      "21/05/2022 13:15 - 400/533 - LEN: 1466\n",
      "21/05/2022 13:15 - 500/533 - LEN: 1566\n",
      "strata\n",
      "0.25\n",
      "21/05/2022 13:15 - 0/533 - LEN: 1599\n"
     ]
    }
   ],
   "source": [
    "gc.collect()\n",
    "\n",
    "results = pd.DataFrame(columns=[\n",
    "    'playlist', 'method', 'frac', 'total_tracks', 'selected_tracks', 'matches',\n",
    "    'error'\n",
    "])\n",
    "\n",
    "a = df_playlists_test\n",
    "for m, method in enumerate(methods):\n",
    "    print(method)\n",
    "    t_start = time.time()\n",
    "    for f, frac in enumerate(splits):\n",
    "        print(frac)\n",
    "        for p, playlist in enumerate(a):\n",
    "            if p % 100 == 0:\n",
    "                print(\"%s - %d/%d - LEN: %d\" %\n",
    "                      (datetime.datetime.now().strftime(format), p, len(\n",
    "                          a.T), len(results)))\n",
    "            reference_trx, expected_trx, selected_trx = get_trk(\n",
    "                method, playlist, frac)\n",
    "\n",
    "            matches = len(selected_trx[selected_trx.id.isin(\n",
    "                expected_trx.id)].id)\n",
    "            total_trx = a[playlist].total_tracks\n",
    "            error = 1 - matches / a[playlist].total_tracks\n",
    "            sel_trx = len(selected_trx)\n",
    "\n",
    "            results = results.append(\n",
    "                {\n",
    "                    'playlist': playlist,\n",
    "                    'method': method,\n",
    "                    'frac': frac,\n",
    "                    'total_tracks': total_trx,\n",
    "                    'selected_tracks': sel_trx,\n",
    "                    'matches': matches,\n",
    "                    'error': error\n",
    "                },\n",
    "                ignore_index=True)\n",
    "    t_end = time.time()\n",
    "    d.append({'task': 'model_' + method, 'run_time': t_end - t_start})\n",
    "\n",
    "results.set_index('playlist', inplace=True)\n",
    "# print(len(reference_trx), len(expected_trx), len(selected_trx))"
   ]
  },
  {
   "cell_type": "code",
   "execution_count": null,
   "id": "a8d2fc2c",
   "metadata": {
    "ExecuteTime": {
     "start_time": "2022-05-21T16:58:23.513Z"
    }
   },
   "outputs": [],
   "source": [
    "# All tracks\n",
    "data_path = os.getcwd() + '\\\\data\\\\processed\\\\10_results.pkl'\n",
    "txt = 'Results - ' + data_path\n",
    "\n",
    "if os.path.exists(data_path):\n",
    "    print('Loaded: ' + txt)\n",
    "    with open(data_path, 'rb') as f:\n",
    "        results = pickle.load(f)\n",
    "else:\n",
    "    with open(data_path, 'wb') as f:\n",
    "    pickle.dump(results, f)\n",
    "\n",
    "print(len(results))"
   ]
  },
  {
   "cell_type": "code",
   "execution_count": null,
   "id": "44984df4",
   "metadata": {
    "ExecuteTime": {
     "start_time": "2022-05-21T16:58:23.515Z"
    }
   },
   "outputs": [],
   "source": [
    "results"
   ]
  },
  {
   "cell_type": "markdown",
   "id": "3b2a13eb",
   "metadata": {},
   "source": [
    "# Save run time"
   ]
  },
  {
   "cell_type": "code",
   "execution_count": null,
   "id": "c2fddbce",
   "metadata": {
    "ExecuteTime": {
     "start_time": "2022-05-21T16:58:23.518Z"
    }
   },
   "outputs": [],
   "source": [
    "data_path = os.getcwd() + '\\\\data\\\\processed\\\\run_times.pkl'\n",
    "txt = 'Run times - ' + data_path\n",
    "\n",
    "print('Saved: ' + txt)\n",
    "# with open(data_path, 'wb') as f:\n",
    "#     pickle.dump(profiling_grid, f)\n",
    "\n",
    "profiling_grid = pd.DataFrame(d)\n",
    "print(len(profiling_grid))"
   ]
  },
  {
   "cell_type": "code",
   "execution_count": null,
   "id": "e6c126f6",
   "metadata": {
    "ExecuteTime": {
     "start_time": "2022-05-21T16:58:23.520Z"
    },
    "scrolled": true
   },
   "outputs": [],
   "source": [
    "profiling_grid = pd.DataFrame(d)\n",
    "profiling_grid"
   ]
  }
 ],
 "metadata": {
  "hide_input": false,
  "kernelspec": {
   "display_name": "Python 3",
   "language": "python",
   "name": "python3"
  },
  "language_info": {
   "codemirror_mode": {
    "name": "ipython",
    "version": 3
   },
   "file_extension": ".py",
   "mimetype": "text/x-python",
   "name": "python",
   "nbconvert_exporter": "python",
   "pygments_lexer": "ipython3",
   "version": "3.8.10"
  },
  "toc": {
   "base_numbering": 1,
   "nav_menu": {},
   "number_sections": true,
   "sideBar": true,
   "skip_h1_title": false,
   "title_cell": "Table of Contents",
   "title_sidebar": "Contents",
   "toc_cell": false,
   "toc_position": {
    "height": "calc(100% - 180px)",
    "left": "10px",
    "top": "150px",
    "width": "344px"
   },
   "toc_section_display": true,
   "toc_window_display": true
  },
  "varInspector": {
   "cols": {
    "lenName": 16,
    "lenType": 16,
    "lenVar": 40
   },
   "kernels_config": {
    "python": {
     "delete_cmd_postfix": "",
     "delete_cmd_prefix": "del ",
     "library": "var_list.py",
     "varRefreshCmd": "print(var_dic_list())"
    },
    "r": {
     "delete_cmd_postfix": ") ",
     "delete_cmd_prefix": "rm(",
     "library": "var_list.r",
     "varRefreshCmd": "cat(var_dic_list()) "
    }
   },
   "types_to_exclude": [
    "module",
    "function",
    "builtin_function_or_method",
    "instance",
    "_Feature"
   ],
   "window_display": false
  }
 },
 "nbformat": 4,
 "nbformat_minor": 5
}
