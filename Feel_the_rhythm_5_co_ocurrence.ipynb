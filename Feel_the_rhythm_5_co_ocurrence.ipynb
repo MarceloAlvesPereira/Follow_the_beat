{
 "cells": [
  {
   "cell_type": "code",
   "execution_count": 1,
   "id": "6de699c6",
   "metadata": {
    "ExecuteTime": {
     "end_time": "2022-05-17T01:41:48.624127Z",
     "start_time": "2022-05-17T01:41:45.839752Z"
    }
   },
   "outputs": [],
   "source": [
    "# import cProfile\n",
    "import collections\n",
    "import datetime\n",
    "import math\n",
    "\n",
    "import os\n",
    "# import sys\n",
    "import time\n",
    "\n",
    "import numpy as np\n",
    "import pandas as pd\n",
    "from scipy.sparse import csr_matrix\n",
    "\n",
    "import pickle\n",
    "\n",
    "import matplotlib.pyplot as plt\n",
    "import seaborn as sns\n",
    "\n",
    "from sklearn.preprocessing import MinMaxScaler\n",
    "# from sklearn.preprocessing import scale, StandardScaler, MinMaxScaler, RobustScaler\n",
    "\n",
    "import random\n",
    "\n",
    "import gc\n",
    "\n",
    "pd.options.display.float_format = \"{:.2f}\".format\n",
    "# plt.rcParams.update({'font.size': 18})\n",
    "format = '%d/%m/%Y %H:%M'"
   ]
  },
  {
   "cell_type": "markdown",
   "id": "9ef48a7a",
   "metadata": {},
   "source": [
    "# Load data"
   ]
  },
  {
   "cell_type": "markdown",
   "id": "c614bb88",
   "metadata": {},
   "source": [
    "Load all data required."
   ]
  },
  {
   "cell_type": "code",
   "execution_count": 2,
   "id": "58b47e8d",
   "metadata": {
    "ExecuteTime": {
     "end_time": "2022-05-17T01:41:48.639431Z",
     "start_time": "2022-05-17T01:41:48.630126Z"
    }
   },
   "outputs": [],
   "source": [
    "def load_file(data_path, msg):\n",
    "    if msg != '':\n",
    "        txt = msg + ' - ' + data_path\n",
    "    else:\n",
    "        txt = data_path\n",
    "\n",
    "    if os.path.exists(data_path):\n",
    "        print('Loaded: ' + txt)\n",
    "        with open(data_path, 'rb') as f:\n",
    "            file_loaded = pickle.load(f)\n",
    "        return file_loaded\n",
    "    else:\n",
    "        print('File not found: ' + txt)"
   ]
  },
  {
   "cell_type": "code",
   "execution_count": 3,
   "id": "705d70c5",
   "metadata": {
    "ExecuteTime": {
     "end_time": "2022-05-17T01:41:51.515786Z",
     "start_time": "2022-05-17T01:41:48.641803Z"
    }
   },
   "outputs": [
    {
     "name": "stdout",
     "output_type": "stream",
     "text": [
      "Loaded: Playlists dictionary (training) - C:\\Users\\map_f\\OneDrive\\Documents\\GitHub\\Follow_the_beat\\data\\processed\\3_playlists_dict_train.pkl\n",
      "Loaded: Playlists dictionary (test) - C:\\Users\\map_f\\OneDrive\\Documents\\GitHub\\Follow_the_beat\\data\\processed\\3_playlists_dict_test.pkl\n",
      "Playlist - training set: 1243\n",
      "Playlist - test set: 533\n",
      "\n",
      "Loaded: Tracks dictionary (training) - C:\\Users\\map_f\\OneDrive\\Documents\\GitHub\\Follow_the_beat\\data\\processed\\4_tracks_dict_train.pkl\n",
      "Loaded: Tracks dictionary (test) - C:\\Users\\map_f\\OneDrive\\Documents\\GitHub\\Follow_the_beat\\data\\processed\\4_tracks_dict_test.pkl\n",
      "Tracks - training set: 63699\n",
      "Tracks - test set: 31183\n",
      "\n",
      "Loaded: Artist dictionary (training) - C:\\Users\\map_f\\OneDrive\\Documents\\GitHub\\Follow_the_beat\\data\\processed\\5_artists_dict_train.pkl\n",
      "Loaded: Artist dictionary (test) - C:\\Users\\map_f\\OneDrive\\Documents\\GitHub\\Follow_the_beat\\data\\processed\\5_artists_dict_test.pkl\n",
      "Artist - training set: 22639\n",
      "Artist - test set: 12780\n",
      "\n",
      "Loaded: Albums dictionary (training) - C:\\Users\\map_f\\OneDrive\\Documents\\GitHub\\Follow_the_beat\\data\\processed\\6_albums_dict_train.pkl\n",
      "Loaded: Albums dictionary (test) - C:\\Users\\map_f\\OneDrive\\Documents\\GitHub\\Follow_the_beat\\data\\processed\\6_albums_dict_test.pkl\n",
      "Albums - training set: 46688\n",
      "Albums - test set: 24258\n",
      "\n"
     ]
    }
   ],
   "source": [
    "# Load all data\n",
    "\n",
    "playlists_train = load_file(\n",
    "    os.getcwd() + '\\\\data\\\\processed\\\\3_playlists_dict_train.pkl',\n",
    "    'Playlists dictionary (training)')\n",
    "playlists_test = load_file(\n",
    "    os.getcwd() + '\\\\data\\\\processed\\\\3_playlists_dict_test.pkl',\n",
    "    'Playlists dictionary (test)')\n",
    "print('Playlist - training set: ' + str(len(playlists_train)))\n",
    "print('Playlist - test set: ' + str(len(playlists_test)))\n",
    "print()\n",
    "\n",
    "tracks_dict_train = load_file(\n",
    "    os.getcwd() + '\\\\data\\\\processed\\\\4_tracks_dict_train.pkl',\n",
    "    'Tracks dictionary (training)')\n",
    "tracks_dict_test = load_file(\n",
    "    os.getcwd() + '\\\\data\\\\processed\\\\4_tracks_dict_test.pkl',\n",
    "    'Tracks dictionary (test)')\n",
    "print('Tracks - training set: ' + str(len(tracks_dict_train)))\n",
    "print('Tracks - test set: ' + str(len(tracks_dict_test)))\n",
    "print()\n",
    "\n",
    "artists_dict_train = load_file(\n",
    "    os.getcwd() + '\\\\data\\\\processed\\\\5_artists_dict_train.pkl',\n",
    "    'Artist dictionary (training)')\n",
    "artists_dict_test = load_file(\n",
    "    os.getcwd() + '\\\\data\\\\processed\\\\5_artists_dict_test.pkl',\n",
    "    'Artist dictionary (test)')\n",
    "print('Artist - training set: ' + str(len(artists_dict_train)))\n",
    "print('Artist - test set: ' + str(len(artists_dict_test)))\n",
    "print()\n",
    "\n",
    "albums_dict_train = load_file(\n",
    "    os.getcwd() + '\\\\data\\\\processed\\\\6_albums_dict_train.pkl',\n",
    "    'Albums dictionary (training)')\n",
    "albums_dict_test = load_file(\n",
    "    os.getcwd() + '\\\\data\\\\processed\\\\6_albums_dict_test.pkl',\n",
    "    'Albums dictionary (test)')\n",
    "print('Albums - training set: ' + str(len(albums_dict_train)))\n",
    "print('Albums - test set: ' + str(len(albums_dict_test)))\n",
    "print()"
   ]
  },
  {
   "cell_type": "code",
   "execution_count": 4,
   "id": "88715dd5",
   "metadata": {
    "ExecuteTime": {
     "end_time": "2022-05-17T01:41:52.311883Z",
     "start_time": "2022-05-17T01:41:51.518139Z"
    }
   },
   "outputs": [
    {
     "name": "stdout",
     "output_type": "stream",
     "text": [
      "Loaded: All tracks as a dictionary - C:\\Users\\map_f\\OneDrive\\Documents\\GitHub\\Follow_the_beat\\data\\processed\\4_tracks_dict.pkl\n",
      "85458\n"
     ]
    }
   ],
   "source": [
    "# All tracks\n",
    "data_path = os.getcwd() + '\\\\data\\\\processed\\\\4_tracks_dict.pkl'\n",
    "txt = 'All tracks as a dictionary - ' + data_path\n",
    "\n",
    "if os.path.exists(data_path):\n",
    "    print('Loaded: ' + txt)\n",
    "    with open(data_path, 'rb') as f:\n",
    "        tracks_dict = pickle.load(f)\n",
    "else:\n",
    "#     print('File not found: ' + txt)\n",
    "    tracks_dict = dict_all_tracks(data_path,playlists_dict)\n",
    "\n",
    "print(len(tracks_dict))"
   ]
  },
  {
   "cell_type": "code",
   "execution_count": 5,
   "id": "3d55430e",
   "metadata": {
    "ExecuteTime": {
     "end_time": "2022-05-17T01:41:52.374937Z",
     "start_time": "2022-05-17T01:41:52.313868Z"
    }
   },
   "outputs": [
    {
     "name": "stdout",
     "output_type": "stream",
     "text": [
      "Loaded: All artists as a dictionary - C:\\Users\\map_f\\OneDrive\\Documents\\GitHub\\Follow_the_beat\\data\\processed\\5_artists_dict.pkl\n",
      "28669\n"
     ]
    }
   ],
   "source": [
    "# All artists\n",
    "data_path = os.getcwd() + '\\\\data\\\\processed\\\\5_artists_dict.pkl'\n",
    "txt = 'All artists as a dictionary - ' + data_path\n",
    "\n",
    "if os.path.exists(data_path):\n",
    "    print('Loaded: ' + txt)\n",
    "    with open(data_path, 'rb') as f:\n",
    "        artists_dict = pickle.load(f)\n",
    "else:\n",
    "#     print('File not found: ' + txt)\n",
    "    artists_dict = dict_all_artists(data_path,playlists_dict)\n",
    "    \n",
    "print(len(artists_dict))"
   ]
  },
  {
   "cell_type": "code",
   "execution_count": 6,
   "id": "0bead7f9",
   "metadata": {
    "ExecuteTime": {
     "end_time": "2022-05-17T01:41:53.106396Z",
     "start_time": "2022-05-17T01:41:52.377903Z"
    }
   },
   "outputs": [
    {
     "name": "stdout",
     "output_type": "stream",
     "text": [
      "Loaded: All albums as a dictionary - C:\\Users\\map_f\\OneDrive\\Documents\\GitHub\\Follow_the_beat\\data\\processed\\6_albums_dict.pkl\n",
      "62095\n"
     ]
    }
   ],
   "source": [
    "# All albums\n",
    "data_path = os.getcwd() + '\\\\data\\\\processed\\\\6_albums_dict.pkl'\n",
    "txt = 'All albums as a dictionary - ' + data_path\n",
    "\n",
    "if os.path.exists(data_path):\n",
    "    print('Loaded: ' + txt)\n",
    "    with open(data_path, 'rb') as f:\n",
    "        albums_dict = pickle.load(f)\n",
    "else:\n",
    "#     print('File not found: ' + txt)\n",
    "    albums_dict = dict_all_albums(data_path,playlists_dict)\n",
    "print(len(albums_dict))"
   ]
  },
  {
   "cell_type": "markdown",
   "id": "9531b371",
   "metadata": {},
   "source": [
    "##### Create data frames to perform analysis"
   ]
  },
  {
   "cell_type": "code",
   "execution_count": 7,
   "id": "3eea615e",
   "metadata": {
    "ExecuteTime": {
     "end_time": "2022-05-17T01:42:02.360933Z",
     "start_time": "2022-05-17T01:41:53.108404Z"
    }
   },
   "outputs": [
    {
     "name": "stdout",
     "output_type": "stream",
     "text": [
      "df_playlists_train: (4, 1243)\n",
      "df_playlists_test: (4, 533)\n",
      "df_tracks_train: (7, 63699)\n",
      "df_tracks_test: (7, 31183)\n",
      "df_artists_train: (3, 22639)\n",
      "df_artists_test: (3, 12780)\n",
      "df_albums_train: (4, 46688)\n",
      "df_albums_test: (4, 24258)\n"
     ]
    }
   ],
   "source": [
    "gc.collect()\n",
    "df_playlists_train = playlists_train.T\n",
    "print(\"df_playlists_train:\", df_playlists_train.shape)\n",
    "\n",
    "df_playlists_test = playlists_test.T\n",
    "print(\"df_playlists_test:\", df_playlists_test.shape)\n",
    "\n",
    "df_tracks_train = pd.DataFrame.from_dict(tracks_dict_train, orient='index')\n",
    "df_tracks_train = df_tracks_train.T\n",
    "print(\"df_tracks_train:\", df_tracks_train.shape)\n",
    "\n",
    "df_tracks_test = pd.DataFrame.from_dict(tracks_dict_test, orient='index')\n",
    "df_tracks_test = df_tracks_test.T\n",
    "print(\"df_tracks_test:\", df_tracks_test.shape)\n",
    "\n",
    "df_artists_train = pd.DataFrame.from_dict(artists_dict_train, orient='index')\n",
    "df_artists_train = df_artists_train.T\n",
    "print(\"df_artists_train:\", df_artists_train.shape)\n",
    "\n",
    "df_artists_test = pd.DataFrame.from_dict(artists_dict_test, orient='index')\n",
    "df_artists_test = df_artists_test.T\n",
    "print(\"df_artists_test:\", df_artists_test.shape)\n",
    "\n",
    "df_albums_train = pd.DataFrame.from_dict(albums_dict_train, orient='index')\n",
    "df_albums_train = df_albums_train.T\n",
    "print(\"df_albums_train:\", df_albums_train.shape)\n",
    "\n",
    "df_albums_test = pd.DataFrame.from_dict(albums_dict_test, orient='index')\n",
    "df_albums_test = df_albums_test.T\n",
    "print(\"df_albums_test:\", df_albums_test.shape)"
   ]
  },
  {
   "cell_type": "markdown",
   "id": "5271f0bd",
   "metadata": {},
   "source": [
    "# Co-occurrence matrix"
   ]
  },
  {
   "cell_type": "markdown",
   "id": "6147b809",
   "metadata": {},
   "source": [
    "## Tracks co-occurrence matrix"
   ]
  },
  {
   "cell_type": "code",
   "execution_count": 8,
   "id": "d3dc0998",
   "metadata": {
    "ExecuteTime": {
     "end_time": "2022-05-17T01:42:02.375891Z",
     "start_time": "2022-05-17T01:42:02.362911Z"
    }
   },
   "outputs": [],
   "source": [
    "def co_occurrence_matrix_tracks(playlists_dict, tracks_dict):\n",
    "    matrix = {}\n",
    "    for i, item in enumerate(tracks_dict):\n",
    "        tracks_matched = []\n",
    "        for j, playlist_id in enumerate(tracks_dict[item]['in_playlist']):\n",
    "            for tr, track in enumerate(playlists_dict[playlist_id]['tracks']):\n",
    "                tracks_matched.append(track['id'])\n",
    "        counter = collections.Counter(tracks_matched)\n",
    "        b = pd.DataFrame.from_dict(counter, orient='index', columns=['cnt'])\n",
    "        b = b.sort_values('cnt', ascending=False)\n",
    "\n",
    "        min_max = MinMaxScaler()\n",
    "        b['count_scaled'] = min_max.fit_transform(b[['cnt']])\n",
    "        b['rank'] = b['count_scaled'].rank(method='average', ascending=False)\n",
    "\n",
    "        matrix.update({item: b})\n",
    "    return (matrix)"
   ]
  },
  {
   "cell_type": "markdown",
   "id": "dba37002",
   "metadata": {},
   "source": [
    "## Artists co-occurrence matrix"
   ]
  },
  {
   "cell_type": "code",
   "execution_count": 9,
   "id": "12365288",
   "metadata": {
    "ExecuteTime": {
     "end_time": "2022-05-17T01:42:02.391412Z",
     "start_time": "2022-05-17T01:42:02.377861Z"
    }
   },
   "outputs": [],
   "source": [
    "def co_occurrence_matrix_artists(playlists_dict, artists_dict):\n",
    "    matrix = {}\n",
    "    for i, item in enumerate(artists_dict):\n",
    "        artist_matched = []\n",
    "        for j, playlist_id in enumerate(artists_dict[item]['in_playlist']):\n",
    "            for tr, track in enumerate(playlists_dict[playlist_id]['tracks']):\n",
    "                for a, artist in enumerate(track['artists']):\n",
    "                    artist_matched.append(artist['id'])\n",
    "        counter = collections.Counter(artist_matched)\n",
    "        b = pd.DataFrame.from_dict(counter, orient='index', columns=['cnt'])\n",
    "        b = b.sort_values('cnt', ascending=False)\n",
    "\n",
    "        min_max = MinMaxScaler()\n",
    "        b['count_scaled'] = min_max.fit_transform(b[['cnt']])\n",
    "        b['rank'] = b['count_scaled'].rank(method='average', ascending=False)\n",
    "\n",
    "        matrix.update({item: b})\n",
    "    return (matrix)"
   ]
  },
  {
   "cell_type": "markdown",
   "id": "c039515c",
   "metadata": {},
   "source": [
    "## Albums co-occurrence matrix"
   ]
  },
  {
   "cell_type": "code",
   "execution_count": 10,
   "id": "c856667f",
   "metadata": {
    "ExecuteTime": {
     "end_time": "2022-05-17T01:42:02.407165Z",
     "start_time": "2022-05-17T01:42:02.393455Z"
    }
   },
   "outputs": [],
   "source": [
    "def co_occurrence_matrix_albums(playlists_dict, albums_dict):\n",
    "    matrix = {}\n",
    "    for i, item in enumerate(albums_dict):\n",
    "        albums_matched = []\n",
    "        for j, playlist_id in enumerate(albums_dict[item]['in_playlist']):\n",
    "            for tr, track in enumerate(playlists_dict[playlist_id]['tracks']):\n",
    "                albums_matched.append(track['album']['id'])\n",
    "        counter = collections.Counter(albums_matched)\n",
    "        b = pd.DataFrame.from_dict(counter, orient='index', columns=['cnt'])\n",
    "        b = b.sort_values('cnt', ascending=False)\n",
    "\n",
    "        min_max = MinMaxScaler()\n",
    "        b['count_scaled'] = min_max.fit_transform(b[[\"cnt\"]])\n",
    "        b[\"rank\"] = b['count_scaled'].rank(method='average', ascending=False)\n",
    "\n",
    "        matrix.update({item: b})\n",
    "    return (matrix)"
   ]
  },
  {
   "cell_type": "markdown",
   "id": "f09e1bad",
   "metadata": {},
   "source": [
    "##  Create all co-ocurrence matrix"
   ]
  },
  {
   "cell_type": "code",
   "execution_count": 11,
   "id": "289f9da8",
   "metadata": {
    "ExecuteTime": {
     "end_time": "2022-05-17T01:42:02.423123Z",
     "start_time": "2022-05-17T01:42:02.409160Z"
    }
   },
   "outputs": [],
   "source": [
    "def co_ocurrence(playlist, df, data_path, txt):\n",
    "    # check if data extraction already exists then load if it exists, otherwise run query\n",
    "    if os.path.exists(data_path):\n",
    "        print('Co-occurrence ' + txt + ' - Loaded: ' + data_path)\n",
    "        # load file only if the next step was not executed (getting tracks)\n",
    "        with open(data_path, 'rb') as f:\n",
    "            co_occurrence = pickle.load(f)\n",
    "    else:\n",
    "        print('Co-occurrence ' + txt + ' - Saved: ' + data_path)\n",
    "        # list of all user ids (UID) and playlist ids (PID)\n",
    "        uid_pid_raw = []\n",
    "\n",
    "        if txt == 'tracks':\n",
    "            co_occurrence = co_occurrence_matrix_tracks(playlist, df)\n",
    "        elif txt == 'artists':\n",
    "            co_occurrence = co_occurrence_matrix_artists(playlist, df)\n",
    "        elif txt == 'albums':\n",
    "            co_occurrence = co_occurrence_matrix_albums(playlist, df)\n",
    "\n",
    "        # Save the data\n",
    "        with open(data_path, 'wb') as f:\n",
    "            pickle.dump(co_occurrence, f)\n",
    "\n",
    "    len(co_occurrence)\n",
    "    # co_occurrence_tracks['1MJ5f5EYBC92ADD6xcz7nb']\n",
    "    return co_occurrence"
   ]
  },
  {
   "cell_type": "code",
   "execution_count": 12,
   "id": "65bd1d88",
   "metadata": {
    "ExecuteTime": {
     "end_time": "2022-05-17T01:43:17.605783Z",
     "start_time": "2022-05-17T01:42:02.425118Z"
    }
   },
   "outputs": [
    {
     "name": "stdout",
     "output_type": "stream",
     "text": [
      "Co-occurrence tracks - Loaded: C:\\Users\\map_f\\OneDrive\\Documents\\GitHub\\Follow_the_beat\\data\\processed\\7_co_occurrence_tracks_train.pkl\n",
      "Co-occurrence artists - Loaded: C:\\Users\\map_f\\OneDrive\\Documents\\GitHub\\Follow_the_beat\\data\\processed\\7_co_occurrence_artists_train.pkl\n",
      "Co-occurrence albums - Loaded: C:\\Users\\map_f\\OneDrive\\Documents\\GitHub\\Follow_the_beat\\data\\processed\\7_co_occurrence_albums_train.pkl\n",
      "co_occurrence_tracks_train: 63699\n",
      "co_occurrence_artists_train: 22639\n",
      "co_occurrence_albums_train: 46688\n"
     ]
    }
   ],
   "source": [
    "gc.collect()\n",
    "\n",
    "co_occurrence_tracks_train = co_ocurrence(\n",
    "    df_playlists_train, df_tracks_train,\n",
    "    os.getcwd() + '\\\\data\\\\processed\\\\7_co_occurrence_tracks_train.pkl',\n",
    "    'tracks')\n",
    "# co_occurrence_tracks_test = co_ocurrence(\n",
    "#     df_playlists_test, df_tracks_test,\n",
    "#     os.getcwd() + '\\\\data\\\\processed\\\\7_co_occurrence_tracks_test.pkl',\n",
    "#     'tracks')\n",
    "\n",
    "co_occurrence_artists_train = co_ocurrence(\n",
    "    df_playlists_train, df_artists_train,\n",
    "    os.getcwd() + '\\\\data\\\\processed\\\\7_co_occurrence_artists_train.pkl',\n",
    "    'artists')\n",
    "# co_occurrence_artists_test = co_ocurrence(\n",
    "#     df_playlists_test, df_artists_test,\n",
    "#     os.getcwd() + '\\\\data\\\\processed\\\\7_co_occurrence_artists_test.pkl',\n",
    "#     'artists')\n",
    "\n",
    "co_occurrence_albums_train = co_ocurrence(\n",
    "    df_playlists_train, df_albums_train,\n",
    "    os.getcwd() + '\\\\data\\\\processed\\\\7_co_occurrence_albums_train.pkl',\n",
    "    'albums')\n",
    "# co_occurrence_albums_test = co_ocurrence(\n",
    "#     df_playlists_test, df_albums_test,\n",
    "#     os.getcwd() + '\\\\data\\\\processed\\\\7_co_occurrence_albums_test.pkl',\n",
    "#     'albums')\n",
    "\n",
    "print(\"co_occurrence_tracks_train:\", len(co_occurrence_tracks_train))\n",
    "# print(\"co_occurrence_tracks_test:\", len(co_occurrence_tracks_test))\n",
    "print(\"co_occurrence_artists_train:\", len(co_occurrence_artists_train))\n",
    "# print(\"co_occurrence_artists_test:\", len(co_occurrence_artists_test)\n",
    "print(\"co_occurrence_albums_train:\", len(co_occurrence_albums_train))\n",
    "# print(\"co_occurrence_albums_test:\", len(co_occurrence_albums_test))"
   ]
  },
  {
   "cell_type": "markdown",
   "id": "26a67f57",
   "metadata": {},
   "source": [
    "# Model"
   ]
  },
  {
   "cell_type": "code",
   "execution_count": 13,
   "id": "ed2ea1eb",
   "metadata": {
    "ExecuteTime": {
     "end_time": "2022-05-17T01:43:17.621740Z",
     "start_time": "2022-05-17T01:43:17.607746Z"
    }
   },
   "outputs": [],
   "source": [
    "def prepare_inputs(playlist_trx, trx_train, trx_test, fraction):\n",
    "    trx = playlist_trx.tracks\n",
    "    n = int((len(trx) + 1) * fraction)\n",
    "\n",
    "    ids = pd.DataFrame(trx).id  # ids of the original playlist\n",
    "    selected_ids = random.sample(ids.values.tolist(), n)\n",
    "\n",
    "    db = trx_train.T\n",
    "    trx_available = db[~db.id.isin(selected_ids)]\n",
    "\n",
    "    reference_trx = trx_test.T[trx_test.T.id.isin(selected_ids)]\n",
    "    expected_trx = trx_test.T[~trx_test.T.id.isin(selected_ids)\n",
    "                              & trx_test.T.id.isin(ids)]\n",
    "\n",
    "    return trx_available, reference_trx, expected_trx"
   ]
  },
  {
   "cell_type": "markdown",
   "id": "6f474740",
   "metadata": {},
   "source": [
    "## Random"
   ]
  },
  {
   "cell_type": "code",
   "execution_count": 565,
   "id": "37ae7041",
   "metadata": {
    "ExecuteTime": {
     "end_time": "2022-05-17T05:27:05.101024Z",
     "start_time": "2022-05-17T05:27:04.913750Z"
    },
    "run_control": {
     "marked": false
    }
   },
   "outputs": [
    {
     "name": "stdout",
     "output_type": "stream",
     "text": [
      "['6KlX7QCrOD9qLQVO1FEgSa', '6DzjZ1LiJpGahHZaMmbGML', '32jHB7W9b08OTorAqR0cJo', '6HRa9FtX8ifjQmA3XFBXan', '0R9pry9kx9vAgwygHCUywR', '7nionv2ijjqUlg9m5iWPTc', '2pv8oYIvio5HQueEs0byrt', '4jyU03J2YOhRxgOHit2auK', '1jZRJKE7GZdiZzVgMS9mv2', '5w22WqfjUJ6OsDBVj9ub5u', '23EquxExXkNmGCCY96P0Iu', '5gcOQlB2n0cxdOOPKRQZBj', '4BY6dDtUBweniXJXnd13Ek', '4Y7FCCc3LvDxfzLjXJgi0v', '1x1EpeiOgliXheTFo2apzy', '5Ql3GqAhahKVhW4GyU59QB', '2nWjhmRImt6LScZIPQMBnM', '25r9whP3KOMLSCtGAM6HON', '37LePO4ZsI3Rh2PtmSSfA4', '6E4DqnxPVMoVrtOyf0DJhG', '7sehRHafpyOc063yc6wYv1', '4mx3kmZZwexQJ1FPxLghpc', '5oyCIQWuSgFB25yA66AIcG', '56f5GO8ir5ucrcQ00k4a8t', '6ey1X2kgEosYVXO9b35wZo', '1jjA9YFzvsmbmy08EaYdY3', '1V7H0FaVShX03W88jBsZcY', '19XuIC3pWHPA0P7uWBheX4', '5CSEaABQkS1hoLza0IpK2r', '3JdwGk8j7lHN5qdzJZklam', '5EuAj9nZiWRKeBkgxMXsW4', '1o1yoF3LSJVdYAkT60730Z', '13xxBnXOuiBxVxJI458B0i', '1ymNYpCCZqXdGG5mpBSWJF', '3VoQDi87LnR500mgLkTtgW', '7dEztoOcmsafZLM2GSPbna', '09Redp0z2ZsZGyJrBqhklP', '14defTisxg0wLogdzxTAAJ', '6IgUSKxsyl262D9EJaDsTZ', '2nOrEg4ZHuR0cFQHeV8RnI', '06qrC9Rnx3J6uaZszuiBT8', '2DeV4SryfbbEM1YgedzKP4', '3sKnPzW0jIXZVvapyGb1nH', '28EAuqOWfhDPXVkjAsyKgL', '19JK9LPCJTD8NJOpOcqDPk', '1ksna7ji7FVlKDpq6FUHSE', '5CQ30WqJwcep0pYcV4AMNc', '2s2WlMSrafV5QcrcKRJj5Q', '36OngHjzv5BOZiUhJr3mml', '6bnF93Rx87YqUBLSgjiMU8']\n"
     ]
    }
   ],
   "source": [
    "def get_trk_rnd(playlist_trx, trx_train, trx_test, ref_fraction):\n",
    "    trx_available, reference_trx, expected_trx = prepare_inputs(playlist_trx, trx_train, trx_test, ref_fraction)\n",
    "        \n",
    "    select = random.sample(trx_available['id'].values.tolist(), len(expected_trx))\n",
    "    \n",
    "    print(select)\n",
    "#     print(type(select))\n",
    "    selected_trx = trx_available[trx_available.id.isin(select)]\n",
    "\n",
    "    return reference_trx, expected_trx, selected_trx\n",
    "\n",
    "reference_trx, expected_trx, selected_trx = get_trk_rnd(\n",
    "    df_playlists_test['1h4bUPnrpgn8qXGJ5dvTsu'], df_tracks_train,\n",
    "    df_tracks_test, .5)\n",
    "# print(len(reference_trx), len(expected_trx), len(selected_trx))\n",
    "# reference_trx, expected_trx, selected_trx"
   ]
  },
  {
   "cell_type": "markdown",
   "id": "cf894af3",
   "metadata": {},
   "source": [
    "## Stratified selection"
   ]
  },
  {
   "cell_type": "code",
   "execution_count": 15,
   "id": "ab7fc723",
   "metadata": {
    "ExecuteTime": {
     "end_time": "2022-05-17T01:43:17.652626Z",
     "start_time": "2022-05-17T01:43:17.637666Z"
    },
    "run_control": {
     "marked": false
    }
   },
   "outputs": [],
   "source": [
    "# Calculate the tracks frequency\n",
    "def define_trx_freq(db):\n",
    "    data_path = os.getcwd() + '\\\\data\\\\processed\\\\8_tracks_frequency.pkl'\n",
    "    txt = 'Tracks frequency - ' + data_path\n",
    "    if os.path.exists(data_path):\n",
    "        print('Loaded: ' + txt)\n",
    "        with open(data_path, 'rb') as f:\n",
    "            tracks_frequency = pickle.load(f)\n",
    "            return tracks_frequency\n",
    "    else:\n",
    "        tracks_frequency = pd.DataFrame(\n",
    "            columns=['track_id', 'cnt', 'cum_sum', 'cum_perc'])\n",
    "\n",
    "        for t, trk in enumerate(db):\n",
    "            if t % 100 == 0:\n",
    "                print(\"%s - %d/%d - LEN: %d\" %\n",
    "                      (datetime.datetime.now().strftime(format), t, len(db),\n",
    "                       len(tracks_frequency)))\n",
    "\n",
    "            df = db[trk]\n",
    "            df = df[df.index != trk]\n",
    "            tracks_frequency = tracks_frequency.append(\n",
    "                {\n",
    "                    'track_id': trk,\n",
    "                    'cnt': df['cnt'].sum()\n",
    "                }, ignore_index=True)\n",
    "\n",
    "        tracks_frequency = tracks_frequency.sort_values(ascending=False,\n",
    "                                                        by='cnt')\n",
    "        tracks_frequency['cum_sum'] = tracks_frequency['cnt'].cumsum()\n",
    "        tracks_frequency['cum_perc'] = 100 * tracks_frequency[\n",
    "            'cum_sum'] / tracks_frequency['cnt'].sum()\n",
    "\n",
    "        print('Saved: ' + txt)\n",
    "        with open(data_path, 'wb') as f:\n",
    "            pickle.dump(tracks_frequency, f)\n",
    "\n",
    "        return tracks_frequency"
   ]
  },
  {
   "cell_type": "code",
   "execution_count": 16,
   "id": "bb5ab1b6",
   "metadata": {
    "ExecuteTime": {
     "end_time": "2022-05-17T01:43:17.714782Z",
     "start_time": "2022-05-17T01:43:17.654637Z"
    },
    "run_control": {
     "marked": false
    },
    "scrolled": true
   },
   "outputs": [
    {
     "name": "stdout",
     "output_type": "stream",
     "text": [
      "Loaded: Tracks frequency - C:\\Users\\map_f\\OneDrive\\Documents\\GitHub\\Follow_the_beat\\data\\processed\\8_tracks_frequency.pkl\n",
      "63699\n"
     ]
    }
   ],
   "source": [
    "tracks_frequency = define_trx_freq(co_occurrence_tracks_train)\n",
    "print(len(tracks_frequency))"
   ]
  },
  {
   "cell_type": "code",
   "execution_count": 585,
   "id": "a93d862b",
   "metadata": {
    "ExecuteTime": {
     "end_time": "2022-05-17T05:38:08.293296Z",
     "start_time": "2022-05-17T05:38:08.281328Z"
    },
    "run_control": {
     "marked": false
    }
   },
   "outputs": [],
   "source": [
    "def get_trk_strata(playlist_trx, trx_train, trx_test, ref_fraction):\n",
    "    trx_available, reference_trx, expected_trx = prepare_inputs(playlist_trx, trx_train, trx_test, ref_fraction)\n",
    "    \n",
    "    trx_freq = tracks_frequency[tracks_frequency.track_id.isin(trx_available['id'])]\n",
    "    \n",
    "    select = trx_freq.drop(trx_freq.index)\n",
    "\n",
    "    while len(select) < len(expected_trx)*2:\n",
    "        rnd = random.uniform(0, 1)\n",
    "        for i, c in enumerate(trx_freq.cum_perc):\n",
    "            if rnd <= c:\n",
    "                select = select.append(trx_freq.iloc[i])\n",
    "                select = select.drop_duplicates()\n",
    "                break\n",
    "    \n",
    "#     print(select)\n",
    "#     print(type(select))\n",
    "\n",
    "    select = select[~select.track_id.isin(reference_trx['id'])]\n",
    "    select = select.reset_index()\n",
    "    select = select.iloc[0:len(expected_trx)]['track_id']\n",
    "    \n",
    "    selected_trx = trx_available[trx_available.id.isin(select)]\n",
    "    \n",
    "    return reference_trx, expected_trx, selected_trx\n",
    "\n",
    "# reference_trx, expected_trx, selected_trx = get_trk_strata(\n",
    "#     df_playlists_test['1h4bUPnrpgn8qXGJ5dvTsu'], df_tracks_train,\n",
    "#     df_tracks_test, .5)\n",
    "# print(len(reference_trx), len(expected_trx), len(selected_trx))\n",
    "# reference_trx, expected_trx, selected_trx"
   ]
  },
  {
   "cell_type": "markdown",
   "id": "d60cf1da",
   "metadata": {},
   "source": [
    "## Album"
   ]
  },
  {
   "cell_type": "code",
   "execution_count": 542,
   "id": "91765016",
   "metadata": {
    "ExecuteTime": {
     "end_time": "2022-05-17T05:21:39.709448Z",
     "start_time": "2022-05-17T05:21:39.697480Z"
    }
   },
   "outputs": [],
   "source": [
    "def get_tracks_from_playlist(pid):\n",
    "    p = playlists_train.loc[pid].tracks\n",
    "    pid = pd.DataFrame(p)\n",
    "#     print(pid)\n",
    "    return pid\n",
    "# a = get_tracks_from_playlist('5mveLg9twuCna0WwuzvXch')"
   ]
  },
  {
   "cell_type": "code",
   "execution_count": 576,
   "id": "af54a771",
   "metadata": {
    "ExecuteTime": {
     "end_time": "2022-05-17T05:30:36.089188Z",
     "start_time": "2022-05-17T05:30:35.665314Z"
    }
   },
   "outputs": [],
   "source": [
    "def get_trk_album(playlist_trx, trx_train, trx_test, ref_fraction):\n",
    "    trx_available, reference_trx, expected_trx = prepare_inputs(playlist_trx, trx_train, trx_test, ref_fraction)\n",
    "    \n",
    "    select = []\n",
    "    for d in range(1,3):\n",
    "        for t, cur_trk in enumerate(reference_trx.T):\n",
    "            aid = reference_trx.loc[cur_trk].album['id']\n",
    "        #     print(t, 'tid:', cur_trk, 'aid: ', aid)\n",
    "            if aid in albums_dict_train.keys():\n",
    "                co_ocur_aid = co_occurrence_albums_train[aid].iloc[1].name\n",
    "        #         print('co_ocur aid:', co_ocur_aid)\n",
    "                playlist_id = random.sample(albums_dict_train[co_ocur_aid]['in_playlist'], 1)[0]\n",
    "#                 print(playlist_id)\n",
    "                trx = get_tracks_from_playlist(playlist_id)\n",
    "                aux = random.sample(set(get_tracks_from_playlist(playlist_id).id), 1)[0]\n",
    "            else:\n",
    "#                 print('RND')\n",
    "                aux = random.sample(trx_available['id'].values.tolist(), 1)[0]\n",
    "#                 print(aux)\n",
    "            select.append(aux)\n",
    "\n",
    "#     print(select)\n",
    "#     print(type(select))\n",
    "    \n",
    "    select = pd.DataFrame(select,columns=['id'])\n",
    "#     print(select)\n",
    "#     print(type(select))\n",
    "    \n",
    "    select = select[~select.id.isin(reference_trx['id'])]\n",
    "    select = select.reset_index()\n",
    "    select = select.iloc[0:len(expected_trx)]['id']\n",
    "    \n",
    "    selected_trx = trx_available[trx_available.id.isin(select)]\n",
    "    \n",
    "    return reference_trx, expected_trx, selected_trx\n",
    "\n",
    "\n",
    "reference_trx, expected_trx, selected_trx = get_trk_album(\n",
    "    df_playlists_test['1h4bUPnrpgn8qXGJ5dvTsu'], df_tracks_train,\n",
    "    df_tracks_test, .5)\n",
    "# print(len(reference_trx), len(expected_trx), len(selected_trx))\n",
    "# reference_trx, expected_trx, selected_trx"
   ]
  },
  {
   "cell_type": "code",
   "execution_count": 65,
   "id": "5fca543a",
   "metadata": {
    "ExecuteTime": {
     "end_time": "2022-05-17T02:02:01.057169Z",
     "start_time": "2022-05-17T02:02:00.872053Z"
    },
    "run_control": {
     "marked": false
    }
   },
   "outputs": [
    {
     "data": {
      "text/plain": [
       "(63651, 50, 50)"
      ]
     },
     "execution_count": 65,
     "metadata": {},
     "output_type": "execute_result"
    }
   ],
   "source": [
    "trx_available, reference_trx, expected_trx = prepare_inputs(df_playlists_test['1h4bUPnrpgn8qXGJ5dvTsu'], df_tracks_train, df_tracks_test, .5)\n",
    "\n",
    "len(trx_available), len(reference_trx), len(expected_trx)\n",
    "\n",
    "# reference_trx, expected_trx, selected_trx = get_trk_strata(\n",
    "#             df_playlists_test['1h4bUPnrpgn8qXGJ5dvTsu'], df_tracks_train, df_tracks_test,\n",
    "#             .5)"
   ]
  },
  {
   "cell_type": "markdown",
   "id": "5cc61f23",
   "metadata": {},
   "source": [
    "## Artist"
   ]
  },
  {
   "cell_type": "code",
   "execution_count": 624,
   "id": "0923e2f1",
   "metadata": {
    "ExecuteTime": {
     "end_time": "2022-05-17T05:49:52.073356Z",
     "start_time": "2022-05-17T05:49:52.056554Z"
    }
   },
   "outputs": [
    {
     "data": {
      "text/plain": [
       "'4GvEc3ANtPPjt1ZJllr5Zl'"
      ]
     },
     "execution_count": 624,
     "metadata": {},
     "output_type": "execute_result"
    }
   ],
   "source": [
    "aid = reference_trx.loc['7uzmGiiJyRfuViKKK3lVmR'].artists[0]['id']\n",
    "aid"
   ]
  },
  {
   "cell_type": "code",
   "execution_count": 621,
   "id": "877a71ff",
   "metadata": {
    "ExecuteTime": {
     "end_time": "2022-05-17T05:48:52.715569Z",
     "start_time": "2022-05-17T05:48:52.706593Z"
    }
   },
   "outputs": [
    {
     "data": {
      "text/plain": [
       "dict"
      ]
     },
     "execution_count": 621,
     "metadata": {},
     "output_type": "execute_result"
    }
   ],
   "source": [
    "type(aid)"
   ]
  },
  {
   "cell_type": "code",
   "execution_count": 623,
   "id": "4256786f",
   "metadata": {
    "ExecuteTime": {
     "end_time": "2022-05-17T05:49:36.311597Z",
     "start_time": "2022-05-17T05:49:36.303570Z"
    }
   },
   "outputs": [
    {
     "data": {
      "text/plain": [
       "'4GvEc3ANtPPjt1ZJllr5Zl'"
      ]
     },
     "execution_count": 623,
     "metadata": {},
     "output_type": "execute_result"
    }
   ],
   "source": [
    "aid['id']"
   ]
  },
  {
   "cell_type": "code",
   "execution_count": 626,
   "id": "9731ee1d",
   "metadata": {
    "ExecuteTime": {
     "end_time": "2022-05-17T05:50:12.735033Z",
     "start_time": "2022-05-17T05:50:12.272867Z"
    },
    "code_folding": [],
    "run_control": {
     "marked": true
    }
   },
   "outputs": [],
   "source": [
    "def get_trk_artist(playlist_trx, trx_train, trx_test, ref_fraction):\n",
    "    trx_available, reference_trx, expected_trx = prepare_inputs(playlist_trx, trx_train, trx_test, ref_fraction)\n",
    "    \n",
    "    select = []\n",
    "    for d in range(1,3):\n",
    "        for t, cur_trk in enumerate(reference_trx.T):\n",
    "            aid = reference_trx.loc[cur_trk].artists[0]['id']\n",
    "        #     print(t, 'tid:', cur_trk, 'aid: ', aid)\n",
    "            if aid in artists_dict_train.keys():\n",
    "                co_ocur_aid = co_occurrence_artists_train[aid].iloc[1].name\n",
    "        #         print('co_ocur aid:', co_ocur_aid)\n",
    "                playlist_id = random.sample(artists_dict_train[co_ocur_aid]['in_playlist'], 1)[0]\n",
    "#                 print(playlist_id)\n",
    "                trx = get_tracks_from_playlist(playlist_id)\n",
    "                aux = random.sample(set(get_tracks_from_playlist(playlist_id).id), 1)[0]\n",
    "            else:\n",
    "#                 print('RND')\n",
    "                aux = random.sample(trx_available['id'].values.tolist(), 1)[0]\n",
    "#                 print(aux)\n",
    "            select.append(aux)\n",
    "\n",
    "#     print(select)\n",
    "#     print(type(select))\n",
    "    \n",
    "    select = pd.DataFrame(select,columns=['id'])\n",
    "#     print(select)\n",
    "#     print(type(select))\n",
    "    \n",
    "    select = select[~select.id.isin(reference_trx['id'])]\n",
    "    select = select.reset_index()\n",
    "    select = select.iloc[0:len(expected_trx)]['id']\n",
    "    \n",
    "    selected_trx = trx_available[trx_available.id.isin(select)]\n",
    "    \n",
    "    return reference_trx, expected_trx, selected_trx\n",
    "\n",
    "\n",
    "# reference_trx, expected_trx, selected_trx = get_trk_artist(\n",
    "#     df_playlists_test['1h4bUPnrpgn8qXGJ5dvTsu'], df_tracks_train,\n",
    "#     df_tracks_test, .5)\n",
    "# print(len(reference_trx), len(expected_trx), len(selected_trx))\n",
    "# reference_trx, expected_trx, selected_trx"
   ]
  },
  {
   "cell_type": "markdown",
   "id": "5f17764d",
   "metadata": {},
   "source": [
    "## Playlist"
   ]
  },
  {
   "cell_type": "code",
   "execution_count": 596,
   "id": "fbe1d695",
   "metadata": {
    "ExecuteTime": {
     "end_time": "2022-05-17T05:45:11.587105Z",
     "start_time": "2022-05-17T05:45:11.160237Z"
    },
    "run_control": {
     "marked": true
    }
   },
   "outputs": [
    {
     "name": "stdout",
     "output_type": "stream",
     "text": [
      "50 50 50\n"
     ]
    }
   ],
   "source": [
    "def get_trk_playlist(playlist_trx, trx_train, trx_test, ref_fraction):\n",
    "    trx_available, reference_trx, expected_trx = prepare_inputs(playlist_trx, trx_train, trx_test, ref_fraction)\n",
    "    \n",
    "    select = []\n",
    "    for d in range(1,3):\n",
    "        for t, cur_trk in enumerate(reference_trx.T):\n",
    "            aid = cur_trk\n",
    "        #     print(t, 'tid:', cur_trk, 'aid: ', aid)\n",
    "            if aid in tracks_dict_train.keys():\n",
    "                co_ocur_aid = co_occurrence_tracks_train[aid].iloc[1].name\n",
    "        #         print('co_ocur aid:', co_ocur_aid)\n",
    "                playlist_id = random.sample(tracks_dict_train[co_ocur_aid]['in_playlist'], 1)[0]\n",
    "#                 print(playlist_id)\n",
    "                trx = get_tracks_from_playlist(playlist_id)\n",
    "                aux = random.sample(set(get_tracks_from_playlist(playlist_id).id), 1)[0]\n",
    "            else:\n",
    "#                 print('RND')\n",
    "                aux = random.sample(trx_available['id'].values.tolist(), 1)[0]\n",
    "#                 print(aux)\n",
    "            select.append(aux)\n",
    "\n",
    "#     print(select)\n",
    "#     print(type(select))\n",
    "    \n",
    "    select = pd.DataFrame(select,columns=['id'])\n",
    "#     print(select)\n",
    "#     print(type(select))\n",
    "    \n",
    "    select = select[~select.id.isin(reference_trx['id'])]\n",
    "    select = select.reset_index()\n",
    "    select = select.iloc[0:len(expected_trx)]['id']\n",
    "    \n",
    "    selected_trx = trx_available[trx_available.id.isin(select)]\n",
    "    \n",
    "    return reference_trx, expected_trx, selected_trx\n",
    "\n",
    "\n",
    "# reference_trx, expected_trx, selected_trx = get_trk_playlist(\n",
    "#     df_playlists_test['1h4bUPnrpgn8qXGJ5dvTsu'], df_tracks_train,\n",
    "#     df_tracks_test, .5)\n",
    "# print(len(reference_trx), len(expected_trx), len(selected_trx))\n",
    "# reference_trx, expected_trx, selected_trx"
   ]
  },
  {
   "cell_type": "markdown",
   "id": "22781461",
   "metadata": {
    "ExecuteTime": {
     "end_time": "2022-05-07T00:00:10.793486Z",
     "start_time": "2022-05-07T00:00:08.844112Z"
    }
   },
   "source": [
    "# Evaluate models"
   ]
  },
  {
   "cell_type": "code",
   "execution_count": 577,
   "id": "52e5fdc6",
   "metadata": {
    "ExecuteTime": {
     "end_time": "2022-05-17T05:30:41.448275Z",
     "start_time": "2022-05-17T05:30:41.434145Z"
    },
    "run_control": {
     "marked": false
    }
   },
   "outputs": [],
   "source": [
    "def get_trk(method, reference, ref_fraction):\n",
    "    if method == 'random':\n",
    "        reference_trx, expected_trx, selected_trx = get_trk_rnd(\n",
    "            df_playlists_test[reference], df_tracks_train, df_tracks_test,\n",
    "            ref_fraction)\n",
    "    elif method == 'strata':\n",
    "        reference_trx, expected_trx, selected_trx = get_trk_strata(\n",
    "            df_playlists_test[reference], df_tracks_train, df_tracks_test,\n",
    "            ref_fraction)\n",
    "    elif method == 'artist':\n",
    "        reference_trx, expected_trx, selected_trx = get_trk_artist(\n",
    "            df_playlists_test[reference], df_tracks_train, df_tracks_test,\n",
    "            ref_fraction)\n",
    "    elif method == 'album':\n",
    "        reference_trx, expected_trx, selected_trx = get_trk_album(\n",
    "            df_playlists_test[reference], df_tracks_train, df_tracks_test,\n",
    "            ref_fraction)\n",
    "    elif method == 'playlist':\n",
    "        reference_trx, expected_trx, selected_trx = get_trk_playlist(\n",
    "            df_playlists_test[reference], df_tracks_train, df_tracks_test,\n",
    "            ref_fraction)\n",
    "\n",
    "    return reference_trx, expected_trx, selected_trx"
   ]
  },
  {
   "cell_type": "code",
   "execution_count": null,
   "id": "cb9f7409",
   "metadata": {
    "ExecuteTime": {
     "end_time": "2022-05-17T01:43:22.293214Z",
     "start_time": "2022-05-17T01:41:45.932Z"
    }
   },
   "outputs": [],
   "source": [
    "methods = ['random', 'strata', 'artist', 'album', 'playlist']\n",
    "splits = [.25, .5, .75]"
   ]
  },
  {
   "cell_type": "code",
   "execution_count": 627,
   "id": "d98ae316",
   "metadata": {
    "ExecuteTime": {
     "end_time": "2022-05-17T05:50:37.222074Z",
     "start_time": "2022-05-17T05:50:37.217090Z"
    }
   },
   "outputs": [],
   "source": [
    "methods = ['artist', 'album', 'playlist']\n",
    "splits = [.5]"
   ]
  },
  {
   "cell_type": "code",
   "execution_count": 628,
   "id": "26a08691",
   "metadata": {
    "ExecuteTime": {
     "end_time": "2022-05-17T05:58:19.993118Z",
     "start_time": "2022-05-17T05:50:37.465802Z"
    },
    "run_control": {
     "marked": false
    },
    "scrolled": false
   },
   "outputs": [
    {
     "name": "stdout",
     "output_type": "stream",
     "text": [
      "artist\n",
      "0.5\n",
      "17/05/2022 01:50 - 0/533 - LEN: 0\n",
      "17/05/2022 01:51 - 100/533 - LEN: 100\n",
      "17/05/2022 01:51 - 200/533 - LEN: 200\n",
      "17/05/2022 01:52 - 300/533 - LEN: 300\n",
      "17/05/2022 01:52 - 400/533 - LEN: 400\n",
      "17/05/2022 01:53 - 500/533 - LEN: 500\n",
      "album\n",
      "0.5\n",
      "17/05/2022 01:53 - 0/533 - LEN: 533\n",
      "17/05/2022 01:54 - 100/533 - LEN: 633\n",
      "17/05/2022 01:54 - 200/533 - LEN: 733\n",
      "17/05/2022 01:55 - 300/533 - LEN: 833\n",
      "17/05/2022 01:56 - 400/533 - LEN: 933\n",
      "17/05/2022 01:56 - 500/533 - LEN: 1033\n",
      "playlist\n",
      "0.5\n",
      "17/05/2022 01:56 - 0/533 - LEN: 1066\n",
      "17/05/2022 01:57 - 100/533 - LEN: 1166\n",
      "17/05/2022 01:57 - 200/533 - LEN: 1266\n",
      "17/05/2022 01:57 - 300/533 - LEN: 1366\n",
      "17/05/2022 01:57 - 400/533 - LEN: 1466\n",
      "17/05/2022 01:58 - 500/533 - LEN: 1566\n"
     ]
    }
   ],
   "source": [
    "results = pd.DataFrame(columns=[\n",
    "    'playlist', 'method', 'frac', 'total_tracks', 'selected_tracks', 'matches',\n",
    "    'error'\n",
    "])\n",
    "\n",
    "a = df_playlists_test\n",
    "for m, method in enumerate(methods):\n",
    "    print(method)\n",
    "    for f, frac in enumerate(splits):\n",
    "        print(frac)\n",
    "        for p, playlist in enumerate(a):\n",
    "            if p % 100 == 0:\n",
    "                print(\"%s - %d/%d - LEN: %d\" % (datetime.datetime.now().strftime(format), p, len(a.T), len(results)))\n",
    "            #                 if p == 0:\n",
    "            #                 print(p)\n",
    "            #                 print(df_playlists_test[playlist])\n",
    "            #                 print(type(df_playlists_test[playlist]))\n",
    "            #                 print(df_playlists_test[playlist])\n",
    "            reference_trx, expected_trx, selected_trx = get_trk(\n",
    "            method, playlist, frac)\n",
    "\n",
    "            matches = len(selected_trx[selected_trx.id.isin(expected_trx.id)].id)\n",
    "            total_trx = a[playlist].total_tracks\n",
    "            error = 1 - matches / a[playlist].total_tracks\n",
    "            sel_trx = len(selected_trx)\n",
    "\n",
    "            results = results.append(\n",
    "            {\n",
    "            'playlist': playlist,\n",
    "            'method': method,\n",
    "            'frac': frac,\n",
    "            'total_tracks': total_trx,\n",
    "            'selected_tracks': sel_trx,\n",
    "            'matches': matches,\n",
    "            'error': error\n",
    "            },\n",
    "            ignore_index=True)\n",
    "\n",
    "results.set_index('playlist', inplace=True)\n",
    "# print(len(reference_trx), len(expected_trx), len(selected_trx))"
   ]
  },
  {
   "cell_type": "code",
   "execution_count": 629,
   "id": "44984df4",
   "metadata": {
    "ExecuteTime": {
     "end_time": "2022-05-17T05:58:25.327701Z",
     "start_time": "2022-05-17T05:58:25.294392Z"
    }
   },
   "outputs": [
    {
     "data": {
      "text/html": [
       "<div>\n",
       "<style scoped>\n",
       "    .dataframe tbody tr th:only-of-type {\n",
       "        vertical-align: middle;\n",
       "    }\n",
       "\n",
       "    .dataframe tbody tr th {\n",
       "        vertical-align: top;\n",
       "    }\n",
       "\n",
       "    .dataframe thead th {\n",
       "        text-align: right;\n",
       "    }\n",
       "</style>\n",
       "<table border=\"1\" class=\"dataframe\">\n",
       "  <thead>\n",
       "    <tr style=\"text-align: right;\">\n",
       "      <th></th>\n",
       "      <th>method</th>\n",
       "      <th>frac</th>\n",
       "      <th>total_tracks</th>\n",
       "      <th>selected_tracks</th>\n",
       "      <th>matches</th>\n",
       "      <th>error</th>\n",
       "    </tr>\n",
       "    <tr>\n",
       "      <th>playlist</th>\n",
       "      <th></th>\n",
       "      <th></th>\n",
       "      <th></th>\n",
       "      <th></th>\n",
       "      <th></th>\n",
       "      <th></th>\n",
       "    </tr>\n",
       "  </thead>\n",
       "  <tbody>\n",
       "    <tr>\n",
       "      <th>1h4bUPnrpgn8qXGJ5dvTsu</th>\n",
       "      <td>artist</td>\n",
       "      <td>0.50</td>\n",
       "      <td>100</td>\n",
       "      <td>50</td>\n",
       "      <td>0</td>\n",
       "      <td>1.00</td>\n",
       "    </tr>\n",
       "    <tr>\n",
       "      <th>7Mht6GZuNHUvNwYMTDgB6b</th>\n",
       "      <td>artist</td>\n",
       "      <td>0.50</td>\n",
       "      <td>25</td>\n",
       "      <td>12</td>\n",
       "      <td>0</td>\n",
       "      <td>1.00</td>\n",
       "    </tr>\n",
       "    <tr>\n",
       "      <th>6mmP0zJCnevFrXGWVSMjPP</th>\n",
       "      <td>artist</td>\n",
       "      <td>0.50</td>\n",
       "      <td>100</td>\n",
       "      <td>50</td>\n",
       "      <td>0</td>\n",
       "      <td>1.00</td>\n",
       "    </tr>\n",
       "    <tr>\n",
       "      <th>4UJ9uTJatHD4isU6JjC9BB</th>\n",
       "      <td>artist</td>\n",
       "      <td>0.50</td>\n",
       "      <td>100</td>\n",
       "      <td>50</td>\n",
       "      <td>0</td>\n",
       "      <td>1.00</td>\n",
       "    </tr>\n",
       "    <tr>\n",
       "      <th>0wL43aIFVaADL1Xbd6JTL9</th>\n",
       "      <td>artist</td>\n",
       "      <td>0.50</td>\n",
       "      <td>100</td>\n",
       "      <td>50</td>\n",
       "      <td>0</td>\n",
       "      <td>1.00</td>\n",
       "    </tr>\n",
       "    <tr>\n",
       "      <th>...</th>\n",
       "      <td>...</td>\n",
       "      <td>...</td>\n",
       "      <td>...</td>\n",
       "      <td>...</td>\n",
       "      <td>...</td>\n",
       "      <td>...</td>\n",
       "    </tr>\n",
       "    <tr>\n",
       "      <th>7FJ4amm0nefcEIUysxLfuv</th>\n",
       "      <td>playlist</td>\n",
       "      <td>0.50</td>\n",
       "      <td>53</td>\n",
       "      <td>26</td>\n",
       "      <td>0</td>\n",
       "      <td>1.00</td>\n",
       "    </tr>\n",
       "    <tr>\n",
       "      <th>5Gr2UCda20e13ZPHZ1lHTd</th>\n",
       "      <td>playlist</td>\n",
       "      <td>0.50</td>\n",
       "      <td>100</td>\n",
       "      <td>50</td>\n",
       "      <td>0</td>\n",
       "      <td>1.00</td>\n",
       "    </tr>\n",
       "    <tr>\n",
       "      <th>3y2wvGfXaszvSI1fZWpllM</th>\n",
       "      <td>playlist</td>\n",
       "      <td>0.50</td>\n",
       "      <td>25</td>\n",
       "      <td>12</td>\n",
       "      <td>0</td>\n",
       "      <td>1.00</td>\n",
       "    </tr>\n",
       "    <tr>\n",
       "      <th>4CeyODedBm7b9bObDpkoGw</th>\n",
       "      <td>playlist</td>\n",
       "      <td>0.50</td>\n",
       "      <td>24</td>\n",
       "      <td>12</td>\n",
       "      <td>0</td>\n",
       "      <td>1.00</td>\n",
       "    </tr>\n",
       "    <tr>\n",
       "      <th>7p26YrYpOVw4wU88i23FJE</th>\n",
       "      <td>playlist</td>\n",
       "      <td>0.50</td>\n",
       "      <td>40</td>\n",
       "      <td>20</td>\n",
       "      <td>0</td>\n",
       "      <td>1.00</td>\n",
       "    </tr>\n",
       "  </tbody>\n",
       "</table>\n",
       "<p>1599 rows × 6 columns</p>\n",
       "</div>"
      ],
      "text/plain": [
       "                          method  frac total_tracks selected_tracks matches  \\\n",
       "playlist                                                                      \n",
       "1h4bUPnrpgn8qXGJ5dvTsu    artist  0.50          100              50       0   \n",
       "7Mht6GZuNHUvNwYMTDgB6b    artist  0.50           25              12       0   \n",
       "6mmP0zJCnevFrXGWVSMjPP    artist  0.50          100              50       0   \n",
       "4UJ9uTJatHD4isU6JjC9BB    artist  0.50          100              50       0   \n",
       "0wL43aIFVaADL1Xbd6JTL9    artist  0.50          100              50       0   \n",
       "...                          ...   ...          ...             ...     ...   \n",
       "7FJ4amm0nefcEIUysxLfuv  playlist  0.50           53              26       0   \n",
       "5Gr2UCda20e13ZPHZ1lHTd  playlist  0.50          100              50       0   \n",
       "3y2wvGfXaszvSI1fZWpllM  playlist  0.50           25              12       0   \n",
       "4CeyODedBm7b9bObDpkoGw  playlist  0.50           24              12       0   \n",
       "7p26YrYpOVw4wU88i23FJE  playlist  0.50           40              20       0   \n",
       "\n",
       "                        error  \n",
       "playlist                       \n",
       "1h4bUPnrpgn8qXGJ5dvTsu   1.00  \n",
       "7Mht6GZuNHUvNwYMTDgB6b   1.00  \n",
       "6mmP0zJCnevFrXGWVSMjPP   1.00  \n",
       "4UJ9uTJatHD4isU6JjC9BB   1.00  \n",
       "0wL43aIFVaADL1Xbd6JTL9   1.00  \n",
       "...                       ...  \n",
       "7FJ4amm0nefcEIUysxLfuv   1.00  \n",
       "5Gr2UCda20e13ZPHZ1lHTd   1.00  \n",
       "3y2wvGfXaszvSI1fZWpllM   1.00  \n",
       "4CeyODedBm7b9bObDpkoGw   1.00  \n",
       "7p26YrYpOVw4wU88i23FJE   1.00  \n",
       "\n",
       "[1599 rows x 6 columns]"
      ]
     },
     "execution_count": 629,
     "metadata": {},
     "output_type": "execute_result"
    }
   ],
   "source": [
    "results"
   ]
  },
  {
   "cell_type": "code",
   "execution_count": 630,
   "id": "afb68787",
   "metadata": {
    "ExecuteTime": {
     "end_time": "2022-05-17T05:58:33.919118Z",
     "start_time": "2022-05-17T05:58:33.901961Z"
    }
   },
   "outputs": [
    {
     "data": {
      "text/plain": [
       "count     1599\n",
       "unique      16\n",
       "top          0\n",
       "freq      1340\n",
       "Name: matches, dtype: int64"
      ]
     },
     "execution_count": 630,
     "metadata": {},
     "output_type": "execute_result"
    }
   ],
   "source": [
    "summ = results['matches'].describe()\n",
    "summ"
   ]
  },
  {
   "cell_type": "code",
   "execution_count": 631,
   "id": "4e0c6746",
   "metadata": {
    "ExecuteTime": {
     "end_time": "2022-05-17T05:58:35.883794Z",
     "start_time": "2022-05-17T05:58:35.870684Z"
    }
   },
   "outputs": [],
   "source": [
    "# profiling_grid['performance_ratio'] = profiling_grid['accuracy']/profiling_grid['run_time']\n",
    "# profiling_grid['run_time_mean'] = profiling_grid.groupby('classifier')['run_time'].transform('mean')\n",
    "# profiling_grid['accuracy_mean'] = profiling_grid.groupby('classifier')['accuracy'].transform('mean')\n",
    "# profiling_grid['performance_average'] = profiling_grid.groupby('classifier')['performance_ratio'].transform('mean')\n",
    "# profiling_grid['rank_overall'] = profiling_grid['performance_ratio'].rank(method='dense', ascending=False)\n",
    "# profiling_grid['rank_average'] = profiling_grid['performance_average'].rank(method='dense', ascending=False)"
   ]
  },
  {
   "cell_type": "code",
   "execution_count": 632,
   "id": "637a22dd",
   "metadata": {
    "ExecuteTime": {
     "end_time": "2022-05-17T05:58:37.170104Z",
     "start_time": "2022-05-17T05:58:37.159119Z"
    }
   },
   "outputs": [],
   "source": [
    "# def visualize_all_box(df, group):\n",
    "#     rows = math.ceil(math.sqrt(len(df.keys()) - 1))\n",
    "#     cols = math.floor(math.sqrt(len(df.keys()) - 1))\n",
    "\n",
    "#     fig, axes = plt.subplots(ncols=cols, nrows=rows, figsize=(20, 15))\n",
    "#     fig.suptitle('Boxplot of each method split and fraction recommended')\n",
    "\n",
    "#     i = 0\n",
    "#     for method in df.keys():\n",
    "#         i = i + 1\n",
    "\n",
    "#         r = int((i - 1) / cols)\n",
    "#         c = i - r * cols - 1\n",
    "#         print(r, c)\n",
    "#         sns.boxplot(ax=axes[r, c],\n",
    "#                     data=df,\n",
    "#                     x=group,\n",
    "#                     y=matches,\n",
    "#                     hue=group,\n",
    "#                     palette='summer_r',\n",
    "#                     showmeans=True,\n",
    "#                     meanprops={\n",
    "#                         \"marker\": \"o\",\n",
    "#                         \"markerfacecolor\": \"red\",\n",
    "#                         \"markeredgecolor\": \"red\"\n",
    "#                     },\n",
    "#                     flierprops=dict(marker='.',\n",
    "#                                     markerfacecolor='steelblue',\n",
    "#                                     markeredgecolor='steelblue',\n",
    "#                                     alpha=.5),\n",
    "#                     boxprops=dict(alpha=.7),\n",
    "#                     width=.5,\n",
    "#                     notch=True).set_title(method)\n",
    "\n",
    "# #         for line in axes[r, c].get_lines()[6::7]:\n",
    "# #             #                 line.set_mec('purple') # to test that we have the correct Line2Ds\n",
    "# #             offsets = line.get_xdata()\n",
    "# #             #                 print(y)\n",
    "# #             line.set_xdata(offsets +\n",
    "# #                            np.random.uniform(-0.05, 0.05, offsets.size))\n",
    "\n",
    "#         axes[r, c].legend(loc='upper center',\n",
    "#                           title=method,\n",
    "#                           frameon=False,\n",
    "#                           ncol=2)\n",
    "#         axes[r, c].set_xticklabels(['25%', '50%', '75%'])\n",
    "#     plt.subplots_adjust(left=0.1,\n",
    "#                         bottom=0.1,\n",
    "#                         right=0.9,\n",
    "#                         top=0.9,\n",
    "#                         wspace=0.15,\n",
    "#                         hspace=0.25)\n",
    "#     plt.show()\n",
    "\n",
    "\n",
    "# visualize_all_box(results, 'frac')\n",
    "\n",
    "# # Statistical summary of the numerical columns\n",
    "# summ = results.describe().transpose()\n",
    "# summ"
   ]
  },
  {
   "cell_type": "markdown",
   "id": "9e897c55",
   "metadata": {},
   "source": [
    "## Results visualization"
   ]
  },
  {
   "cell_type": "code",
   "execution_count": 633,
   "id": "931d0079",
   "metadata": {
    "ExecuteTime": {
     "end_time": "2022-05-17T05:58:38.876694Z",
     "start_time": "2022-05-17T05:58:38.366072Z"
    }
   },
   "outputs": [
    {
     "data": {
      "image/png": "[encoded data removed]",
      "text/plain": [
       "<Figure size 1080x1080 with 2 Axes>"
      ]
     },
     "metadata": {
      "needs_background": "light"
     },
     "output_type": "display_data"
    }
   ],
   "source": [
    "fig, axes = plt.subplots(ncols=1, nrows=2, figsize=(15, 15))\n",
    "sns.scatterplot(ax=axes[0], x='frac', y='error', data=results, s=500, alpha =0.7, hue='method');\n",
    "# plt.y_label('Run time') #y label\n",
    "\n",
    "# sns.scatterplot(ax=axes[1], x='run_time_mean', y='accuracy_mean', data=profiling_grid, s=500, alpha =0.7, hue='classifier');\n",
    "# plt.xlabel('Mean run time') #y label\n",
    "# plt.ylabel('Mean accuracy') #x label\n",
    "# plt.grid()\n",
    "plt.rcParams['axes.grid'] = True"
   ]
  },
  {
   "cell_type": "markdown",
   "id": "0643d88d",
   "metadata": {},
   "source": [
    "#  Tests"
   ]
  },
  {
   "cell_type": "code",
   "execution_count": null,
   "id": "f4f47b02",
   "metadata": {},
   "outputs": [],
   "source": [
    "# # def get_trk_album2(playlist_trx, trx_train, trx_test, ref_fraction):\n",
    "# #     trx_available, reference_trx, expected_trx = prepare_inputs(playlist_trx, trx_train, trx_test, ref_fraction)\n",
    "\n",
    "# trx_freq = tracks_frequency[tracks_frequency.track_id.isin(trx_available['id'])]\n",
    "\n",
    "# select = trx_freq.drop(trx_freq.index)\n",
    "\n",
    "# while len(select) < len(expected_trx)*2:\n",
    "#     rnd = random.uniform(0, 1)\n",
    "#     for i, c in enumerate(trx_freq.cum_perc):\n",
    "#         if rnd <= c:\n",
    "#             select = select.append(trx_freq.iloc[i])\n",
    "#             select = select.drop_duplicates()\n",
    "#             break\n",
    "\n",
    "# select = select[~select.track_id.isin(reference_trx['id'])]\n",
    "# select = select.reset_index()\n",
    "# select = select.iloc[0:len(expected_trx)]['track_id']\n",
    "\n",
    "# selected_trx = trx_available[trx_available.id.isin(select)]\n",
    "\n",
    "# return reference_trx, expected_trx, selected_trx\n",
    "\n",
    "# # reference_trx, expected_trx, selected_trx = get_trk_strata(\n",
    "# #     df_playlists_test['1h4bUPnrpgn8qXGJ5dvTsu'], df_tracks_train,\n",
    "# #     df_tracks_test, .5)\n",
    "# # print(len(reference_trx), len(expected_trx), len(selected_trx))\n",
    "# # reference_trx, expected_trx, selected_trx"
   ]
  },
  {
   "cell_type": "code",
   "execution_count": 57,
   "id": "c6812735",
   "metadata": {
    "ExecuteTime": {
     "end_time": "2022-05-17T01:59:59.378477Z",
     "start_time": "2022-05-17T01:59:59.368339Z"
    },
    "run_control": {
     "marked": false
    }
   },
   "outputs": [],
   "source": [
    "# def get_tracks_by_album_artist(data_path):\n",
    "#     # check if data extraction already exists then load if it exists, otherwise run query\n",
    "#     if os.path.exists(data_path + '9_tracks_by_artist.pkl') and os.path.exists(\n",
    "#             data_path + '9_tracks_by_album.pkl'):\n",
    "#         print('Tracks by album - Loaded: ' + data_path)\n",
    "#         # load file only if the next step was not executed (getting tracks)\n",
    "#         with open(data_path + '9_tracks_by_artist.pkl', 'rb') as f:\n",
    "#             trx_by_artists = pickle.load(f)\n",
    "\n",
    "#         print('Tracks by artist - Loaded: ' + data_path)\n",
    "#         # load file only if the next step was not executed (getting tracks)\n",
    "#         with open(data_path + '9_tracks_by_album.pkl', 'rb') as f:\n",
    "#             trx_by_albums = pickle.load(f)\n",
    "#     else:\n",
    "#         trx_by_albums, trx_by_artists = tracks_by_album_artist()\n",
    "\n",
    "#         # Save the data\n",
    "#         print('Tracks by album - Saved: ' + data_path)\n",
    "#         with open(data_path + '9_tracks_by_artist.pkl', 'wb') as f:\n",
    "#             pickle.dump(trx_by_artists, f)\n",
    "\n",
    "#         print('Tracks by artist - Saved: ' + data_path)\n",
    "#         with open(data_path + '9_tracks_by_album.pkl', 'wb') as f:\n",
    "#             pickle.dump(trx_by_albums, f)\n",
    "#     return trx_by_albums, trx_by_artists"
   ]
  },
  {
   "cell_type": "code",
   "execution_count": 430,
   "id": "3cf8c346",
   "metadata": {
    "ExecuteTime": {
     "end_time": "2022-05-17T04:20:44.018953Z",
     "start_time": "2022-05-17T04:20:44.011884Z"
    }
   },
   "outputs": [],
   "source": [
    "# def get_tracks_from_playlist_from_selected_album(pid, aid, ntid):\n",
    "#     p = playlists_train.loc[pid].tracks\n",
    "# #     p = p[~p['id']==ntid]\n",
    "# #     print(type(p))\n",
    "    \n",
    "#     r = []\n",
    "#     for i, tr in enumerate(p):\n",
    "# #         print(i,tr)\n",
    "#         if tr['album']['id'] == aid:\n",
    "#             r.append(tr)\n",
    "# #             tracks_matched.append(track['id'])\n",
    "#     return r"
   ]
  },
  {
   "cell_type": "code",
   "execution_count": 460,
   "id": "ddf7a594",
   "metadata": {
    "ExecuteTime": {
     "end_time": "2022-05-17T04:39:26.157921Z",
     "start_time": "2022-05-17T04:39:26.142456Z"
    },
    "scrolled": false
   },
   "outputs": [],
   "source": [
    "# select = []\n",
    "# for t, cur_trk in enumerate(reference_trx.T):\n",
    "#     if t < 2:\n",
    "#         #         print(t, cur_trk_album)\n",
    "#         aid = reference_trx.loc[cur_trk].album['id']\n",
    "#         print(t, 'tid:', cur_trk, 'aid: ')\n",
    "        \n",
    "# #         print(co_occurrence_albums_train[aid])\n",
    "# #         print()\n",
    "# #         for co_ocur_aid in co_occurrence_albums_train[aid].T:\n",
    "#         print('AA')\n",
    "#         co_ocur_aid = co_occurrence_albums_train[aid].iloc[1].name\n",
    "# #         if co_ocur_aid != aid:\n",
    "#         print('AAAAAAA')\n",
    "#         print()\n",
    "#         print('co_ocur aid:', co_ocur_aid)\n",
    "#         #                 co_ocur_aid = co_occurrence_albums_train[aid].iloc[1].name\n",
    "#         #                 print(co_ocur_aid)\n",
    "\n",
    "# #                 playlists = random.sample(\n",
    "# #                     albums_dict_train[co_ocur_aid]['in_playlist'],\n",
    "# #                     len(albums_dict_train[co_ocur_aid]['in_playlist']))\n",
    "#         playlist_id = random.sample(albums_dict_train[co_ocur_aid]['in_playlist'], 1)[0]\n",
    "# #                 for playlist_id in playlists:\n",
    "#         print('BBBBBBBB')\n",
    "#         select = random.sample(get_tracks_from_playlist(playlist_id), 1)\n",
    "# #                 selected = get_tracks_from_playlist_from_selected_album(\n",
    "# #                     playlist_id, aid,cur_trk)\n",
    "\n",
    "# #                 if len(selected) > 0:\n",
    "# #                     select = random.sample(selected, 1)\n",
    "# #                     print('break', select)\n",
    "# #                     print()\n",
    "# #                     break\n",
    "# #                     else:\n",
    "# #                         print(select)\n",
    "# #             if len(select) > 0:\n",
    "# #                 print('bbbbccccc')\n",
    "# #                 break\n",
    "\n",
    "# #         print('CCCCCCC')\n",
    "# #         if len(select) > 0:\n",
    "# #             break\n",
    "# #         else:\n",
    "# #             print('RRRRRRR')\n",
    "# #             print('random')\n",
    "# #             select = random.sample(get_tracks_from_playlist(playlist_id), 1)\n",
    "        \n",
    "# #         print('DDDDDDDDDD')\n",
    "# #         print()\n",
    "# #         if len(select) > 0:\n",
    "# #             print('final', select)\n",
    "# #             break"
   ]
  },
  {
   "cell_type": "code",
   "execution_count": 42,
   "id": "cbdff73d",
   "metadata": {
    "ExecuteTime": {
     "end_time": "2022-05-17T01:48:04.518570Z",
     "start_time": "2022-05-17T01:48:04.505079Z"
    }
   },
   "outputs": [],
   "source": [
    "# artists_dict['72FGvJgYbs0NBeJqECy6cF']"
   ]
  },
  {
   "cell_type": "code",
   "execution_count": 43,
   "id": "6b6fd4f1",
   "metadata": {
    "ExecuteTime": {
     "end_time": "2022-05-17T01:48:05.076545Z",
     "start_time": "2022-05-17T01:48:05.072774Z"
    }
   },
   "outputs": [],
   "source": [
    "# albums_dict['0a7qEtQgY7QvUyzJ6bcnlc']"
   ]
  },
  {
   "cell_type": "code",
   "execution_count": 44,
   "id": "0d2dd779",
   "metadata": {
    "ExecuteTime": {
     "end_time": "2022-05-17T01:48:06.069389Z",
     "start_time": "2022-05-17T01:48:06.057333Z"
    },
    "run_control": {
     "marked": false
    },
    "scrolled": false
   },
   "outputs": [],
   "source": [
    "# def tracks_by_album_artist():\n",
    "#     albums = {}\n",
    "#     artists = {}\n",
    "#     cnt = 0\n",
    "#     for t, tid in enumerate(tracks_dict):\n",
    "# #         if t % 100 == 0:\n",
    "# #                 print(\"%s - %d/%d - LEN: %d\" %\n",
    "# #                       (datetime.datetime.now().strftime(format), t, len(albums),\n",
    "# #                        len(tracks_dict)))\n",
    "\n",
    "# #         tr = {}\n",
    "\n",
    "#         # Albums\n",
    "#         alb = tracks_dict[tid]['album']['id']\n",
    "#         if alb not in albums.keys():\n",
    "#             tr = {}\n",
    "#             tr['trx'] = [tid]\n",
    "#             tr['cnt'] = [len(tracks_dict[tid]['in_playlist'])]\n",
    "#             albums.update({alb: tr})\n",
    "#         else:\n",
    "#             curr_track = albums.get(alb)\n",
    "#             curr_in_track = curr_track['trx'].copy()\n",
    "#             curr_in_track.append(tid)\n",
    "#             tr['trx'] = curr_in_track\n",
    "#             aux_cnt = curr_track['cnt'].copy()\n",
    "#             aux_cnt.append(len(tracks_dict[tid]['in_playlist']))\n",
    "#             tr['cnt'] = aux_cnt\n",
    "#             albums.update({alb: tr})\n",
    "\n",
    "#         # Artists\n",
    "# #         tr2 = {}\n",
    "#         for artist in tracks_dict[tid]['artists']:\n",
    "#             art = artist['id']\n",
    "#             if art not in artists.keys():\n",
    "#                 tr2 = {}\n",
    "#                 tr2['trx'] = [tid]\n",
    "#                 tr2['cnt'] = [len(tracks_dict[tid]['in_playlist'])]\n",
    "#                 artists.update({art: tr2})\n",
    "#                 if art == '72FGvJgYbs0NBeJqECy6cF':\n",
    "#                     cnt = cnt + 1\n",
    "#                     print(cnt, 'aid: ',art, 'tid: ', tid)\n",
    "#                     print(tr2)\n",
    "#                     print()\n",
    "#             else:\n",
    "#                 curr_track2 = {}\n",
    "#                 curr_track2 = artists.get(art)\n",
    "#                 curr_in_track2 = curr_track2['trx'].copy()\n",
    "#                 if art == '72FGvJgYbs0NBeJqECy6cF':\n",
    "#                     cnt = cnt + 1\n",
    "#                     print(cnt, 'aid: ',art, 'tid: ', tid)\n",
    "#                     print(curr_track2)\n",
    "#                     print(curr_in_track2)\n",
    "#                 curr_in_track2.append(tid)\n",
    "#                 if art == '72FGvJgYbs0NBeJqECy6cF':\n",
    "#                     print(curr_in_track2)\n",
    "#                 tr2['trx'] = curr_in_track2\n",
    "# #                 tr2['trx'] = curr_track2['trx'].copy().append(tid)\n",
    "#                 aux_cnt2 = curr_track2['cnt'].copy()\n",
    "#                 aux_cnt2.append(len(tracks_dict[tid]['in_playlist']))\n",
    "#                 tr2['cnt'] = aux_cnt2\n",
    "#                 artists.update({art: tr2})\n",
    "                \n",
    "#                 if art == '72FGvJgYbs0NBeJqECy6cF':\n",
    "#                     print(curr_track2)\n",
    "#                     print(curr_in_track2)\n",
    "#                     print(tr2)\n",
    "#                     print()\n",
    "# #     print(artists['72FGvJgYbs0NBeJqECy6cF'])\n",
    "# #                 print(artists)\n",
    "# #         asdf = albums\n",
    "# #         qwer = artists\n",
    "#     return albums, artists\n",
    "\n",
    "# # bkp = tracks_dict\n",
    "# # tmp = {}\n",
    "# # tmp.update({'1tx6cTPSabCIN0V90Hzlhc':tracks_dict['1tx6cTPSabCIN0V90Hzlhc']})\n",
    "# # tmp.update({'2dKyeWBPwhqMfPetw8PiFg':tracks_dict['2dKyeWBPwhqMfPetw8PiFg']})\n",
    "\n",
    "# # tracks_dict = tmp\n",
    "\n",
    "# aaa, bbb = tracks_by_album_artist()\n",
    "\n",
    "# # tracks_dict = bkp\n",
    "\n",
    "# # aaa['72FGvJgYbs0NBeJqECy6cF']\n",
    "# "
   ]
  },
  {
   "cell_type": "code",
   "execution_count": 47,
   "id": "97369144",
   "metadata": {
    "ExecuteTime": {
     "end_time": "2022-05-17T01:48:29.580512Z",
     "start_time": "2022-05-17T01:48:29.577249Z"
    }
   },
   "outputs": [],
   "source": [
    "# bbb['72FGvJgYbs0NBeJqECy6cF']"
   ]
  },
  {
   "cell_type": "code",
   "execution_count": 45,
   "id": "696281e0",
   "metadata": {
    "ExecuteTime": {
     "end_time": "2022-05-17T01:48:12.264571Z",
     "start_time": "2022-05-17T01:48:12.256594Z"
    }
   },
   "outputs": [],
   "source": [
    "# tracks_dict['0cWLJcdvM6QlOQ7UJdB4jb']"
   ]
  },
  {
   "cell_type": "code",
   "execution_count": 46,
   "id": "8cc4c62c",
   "metadata": {
    "ExecuteTime": {
     "end_time": "2022-05-17T01:48:14.677821Z",
     "start_time": "2022-05-17T01:48:14.664857Z"
    },
    "scrolled": true
   },
   "outputs": [],
   "source": [
    "# tracks_dict['6St9ArMKEPj7KOSTEo29Ii']"
   ]
  },
  {
   "cell_type": "code",
   "execution_count": 48,
   "id": "1b6dac73",
   "metadata": {
    "ExecuteTime": {
     "end_time": "2022-05-17T01:48:35.576411Z",
     "start_time": "2022-05-17T01:48:35.561250Z"
    }
   },
   "outputs": [],
   "source": [
    "# tracks_dict['1tx6cTPSabCIN0V90Hzlhc']"
   ]
  },
  {
   "cell_type": "code",
   "execution_count": null,
   "id": "e9d3230e",
   "metadata": {
    "ExecuteTime": {
     "end_time": "2022-05-17T01:43:22.307293Z",
     "start_time": "2022-05-17T01:41:45.962Z"
    }
   },
   "outputs": [],
   "source": [
    "# # reference_trx, expected_trx, \n",
    "# selected_trx = selected_trx.append(expected_trx[expected_trx['id'] == '0e3CM2Fm4cpDtxjzYkdLAr'])\n",
    "\n",
    "# matches = selected_trx[selected_trx.id.isin(expected_trx.id)].id\n",
    "# matches\n",
    "# len(matches)"
   ]
  },
  {
   "cell_type": "code",
   "execution_count": null,
   "id": "996b1727",
   "metadata": {
    "ExecuteTime": {
     "end_time": "2022-05-17T01:43:22.304062Z",
     "start_time": "2022-05-17T01:41:45.957Z"
    }
   },
   "outputs": [],
   "source": [
    "# expected_trx"
   ]
  },
  {
   "cell_type": "code",
   "execution_count": 34,
   "id": "330df2cf",
   "metadata": {
    "ExecuteTime": {
     "end_time": "2022-05-17T01:43:21.396319Z",
     "start_time": "2022-05-17T01:43:21.383274Z"
    },
    "code_folding": [],
    "run_control": {
     "marked": false
    }
   },
   "outputs": [],
   "source": [
    "# reference_trx"
   ]
  },
  {
   "cell_type": "code",
   "execution_count": 35,
   "id": "cf48bc50",
   "metadata": {
    "ExecuteTime": {
     "end_time": "2022-05-17T01:43:21.412277Z",
     "start_time": "2022-05-17T01:43:21.398313Z"
    },
    "run_control": {
     "marked": true
    },
    "scrolled": true
   },
   "outputs": [],
   "source": [
    "# for t, trk in enumerate(reference_trx['id']):\n",
    "#     if t == 0:\n",
    "#         print(trk)\n",
    "# #         print(reference_trx.T[trk].artists)\n",
    "#         for a in reference_trx.T[trk].artists:\n",
    "#             print(a)\n",
    "#             print(a['id'])\n",
    "# #             co_occurrence_artists_train[a.id]\n",
    "            "
   ]
  },
  {
   "cell_type": "code",
   "execution_count": 36,
   "id": "407cb4c2",
   "metadata": {
    "ExecuteTime": {
     "end_time": "2022-05-17T01:43:21.427379Z",
     "start_time": "2022-05-17T01:43:21.414272Z"
    },
    "run_control": {
     "marked": true
    }
   },
   "outputs": [],
   "source": [
    "# prepare_inputs_co_occur\n",
    "# def prepare_inputs_co_occur(playlist_trx, trx_train, trx_test, fraction):\n",
    "#     trx = playlist_trx.tracks\n",
    "#     n = int((len(trx) + 1) * fraction)\n",
    "\n",
    "#     ids = pd.DataFrame(trx).id  # ids of the original playlist\n",
    "#     selected_ids = random.sample(ids.values.tolist(), n)\n",
    "\n",
    "#     db = trx_train.T\n",
    "#     trx_available = db[~db.id.isin(selected_ids)]\n",
    "\n",
    "#     reference_trx = trx_test.T[trx_test.T.id.isin(selected_ids)]\n",
    "#     expected_trx = trx_test.T[~trx_test.T.id.isin(selected_ids)\n",
    "#                               & trx_test.T.id.isin(ids)]\n",
    "\n",
    "#     return trx_available, reference_trx, expected_trx"
   ]
  },
  {
   "cell_type": "code",
   "execution_count": 58,
   "id": "29958407",
   "metadata": {
    "ExecuteTime": {
     "end_time": "2022-05-17T01:59:59.763628Z",
     "start_time": "2022-05-17T01:59:59.757419Z"
    }
   },
   "outputs": [],
   "source": [
    "# Tracks by albums and artists\n",
    "# data_path = os.getcwd() + '\\\\data\\\\processed\\\\'\n",
    "# trx_by_albums, trx_by_artists = get_tracks_by_album_artist(data_path)\n",
    "\n",
    "# print('Albums: ', len(trx_by_albums))\n",
    "# print('Artists: ', len(trx_by_artists))"
   ]
  },
  {
   "cell_type": "code",
   "execution_count": 59,
   "id": "7eae370a",
   "metadata": {
    "ExecuteTime": {
     "end_time": "2022-05-17T02:00:00.552066Z",
     "start_time": "2022-05-17T02:00:00.535565Z"
    }
   },
   "outputs": [],
   "source": [
    "# trx_by_artists['72FGvJgYbs0NBeJqECy6cF']"
   ]
  },
  {
   "cell_type": "code",
   "execution_count": 60,
   "id": "e8185534",
   "metadata": {
    "ExecuteTime": {
     "end_time": "2022-05-17T02:00:01.068624Z",
     "start_time": "2022-05-17T02:00:01.063608Z"
    },
    "run_control": {
     "marked": true
    }
   },
   "outputs": [],
   "source": [
    "# trx_by_albums['0cTd2N7LixNrzfQuivSEmG']"
   ]
  },
  {
   "cell_type": "code",
   "execution_count": 61,
   "id": "ca1ebd13",
   "metadata": {
    "ExecuteTime": {
     "end_time": "2022-05-17T02:00:01.537923Z",
     "start_time": "2022-05-17T02:00:01.527933Z"
    }
   },
   "outputs": [],
   "source": [
    "# trx_by_artists['72FGvJgYbs0NBeJqECy6cF']"
   ]
  },
  {
   "cell_type": "code",
   "execution_count": 62,
   "id": "9eaa8bea",
   "metadata": {
    "ExecuteTime": {
     "end_time": "2022-05-17T02:00:02.559544Z",
     "start_time": "2022-05-17T02:00:02.554551Z"
    }
   },
   "outputs": [],
   "source": [
    "# tracks_dict"
   ]
  },
  {
   "cell_type": "code",
   "execution_count": 63,
   "id": "51e02118",
   "metadata": {
    "ExecuteTime": {
     "end_time": "2022-05-17T02:00:03.429622Z",
     "start_time": "2022-05-17T02:00:03.415659Z"
    }
   },
   "outputs": [],
   "source": [
    "# tracks_dict['2dKyeWBPwhqMfPetw8PiFg']"
   ]
  },
  {
   "cell_type": "code",
   "execution_count": 64,
   "id": "7391e3ed",
   "metadata": {
    "ExecuteTime": {
     "end_time": "2022-05-17T02:00:05.174670Z",
     "start_time": "2022-05-17T02:00:05.159685Z"
    }
   },
   "outputs": [],
   "source": [
    "# tracks_dict['1tx6cTPSabCIN0V90Hzlhc']"
   ]
  },
  {
   "cell_type": "code",
   "execution_count": null,
   "id": "9a5f3c7f",
   "metadata": {
    "ExecuteTime": {
     "end_time": "2022-05-17T01:43:22.305689Z",
     "start_time": "2022-05-17T01:41:45.959Z"
    }
   },
   "outputs": [],
   "source": [
    "# selected_trx"
   ]
  },
  {
   "cell_type": "code",
   "execution_count": null,
   "id": "eb68d9f5",
   "metadata": {
    "ExecuteTime": {
     "end_time": "2022-05-17T01:43:22.308940Z",
     "start_time": "2022-05-17T01:41:45.965Z"
    }
   },
   "outputs": [],
   "source": [
    "# selected_trx.info()"
   ]
  },
  {
   "cell_type": "code",
   "execution_count": null,
   "id": "24c2c6c3",
   "metadata": {
    "ExecuteTime": {
     "end_time": "2022-05-17T01:43:22.310520Z",
     "start_time": "2022-05-17T01:41:45.968Z"
    }
   },
   "outputs": [],
   "source": [
    "# for t, tid in enumerate(co_occurrence_tracks_train):\n",
    "#     if t == 10:\n",
    "#         df = co_occurrence_tracks_train[tid]\n",
    "#         df['cum_sum'] = df['cnt'].cumsum()\n",
    "#         df['cum_perc'] = 100*df['cum_sum']/df['cnt'].sum()\n",
    "#         selector = random.sample(list(df.index),len(df))\n",
    "#         print(selector)\n",
    "#         print(len(selector))\n",
    "\n",
    "#         cnt = 0\n",
    "#         tot = 0\n",
    "#         for i, item in enumerate(co_occurrence_tracks_train[tid]['cnt']):\n",
    "#                 cnt = cnt + 1\n",
    "#                 tot = tot + item\n",
    "#         print(cnt)\n",
    "#         print(tot)"
   ]
  },
  {
   "cell_type": "code",
   "execution_count": null,
   "id": "c6f1ae0a",
   "metadata": {
    "ExecuteTime": {
     "end_time": "2022-05-17T01:43:22.311588Z",
     "start_time": "2022-05-17T01:41:45.971Z"
    }
   },
   "outputs": [],
   "source": [
    "# def ranking(df,id_column):\n",
    "#     single_list_temp = single_list(df[id_column])\n",
    "#     data = {id_column: single_list_temp}\n",
    "#     aux_df = pd.DataFrame(data)\n",
    "    \n",
    "#     name = id_column.replace('_id','_count')\n",
    "#     ranked_sorted = aux_df.groupby([id_column]).agg(\n",
    "#         temp_count=pd.NamedAgg(column=id_column, aggfunc=\"count\")\n",
    "#     )\n",
    "#     ranked_sorted = ranked_sorted.rename(columns={'temp_count': name})\n",
    "#     ranked_sorted = ranked_sorted.sort_values(name,ascending=False)\n",
    "#     return ranked_sorted\n",
    "# # ranking(df_test,'tracks_id')\n",
    "# # print(tracks_rank)\n",
    "\n",
    "# def top(ranked,n):\n",
    "#     top_n = ranked.iloc[:n]\n",
    "    \n",
    "#     return top_n\n",
    "# # tracks_rank = ranking(df_test,'tracks_id')\n",
    "# # top(tracks_rank,10)\n",
    "#     return ranked\n",
    "\n",
    "# a = track_rank = ranking(df_test,'tracks_id')"
   ]
  },
  {
   "cell_type": "code",
   "execution_count": null,
   "id": "1cd58a22",
   "metadata": {
    "ExecuteTime": {
     "end_time": "2022-05-17T01:43:22.313182Z",
     "start_time": "2022-05-17T01:41:45.974Z"
    }
   },
   "outputs": [],
   "source": [
    "# df['cum_sum'] = df['cnt'].cumsum()\n",
    "# df['cum_perc'] = 100*df['cum_sum']/co_occurrence_tracks_train['cnt'].sum()"
   ]
  },
  {
   "cell_type": "code",
   "execution_count": null,
   "id": "80f6dcfa",
   "metadata": {
    "ExecuteTime": {
     "end_time": "2022-05-17T01:43:22.315272Z",
     "start_time": "2022-05-17T01:41:45.976Z"
    }
   },
   "outputs": [],
   "source": [
    "# matrix track x track\n",
    "# track_rank = ranking(df_test,'tracks_id')\n",
    "# s_tracks_id = list(track_rank.index)\n",
    "\n",
    "# shape = [len(s_tracks_id), len(s_tracks_id)]\n",
    "# track_matrix = np.zeros(shape, dtype=int, order='C')\n",
    "\n",
    "# for i, row_track in enumerate(s_tracks_id):\n",
    "#     row = s_tracks_id.index(row_track)\n",
    "#     if i != row: print(\"i: \" + str(i) + \": \" + row_track), print()\n",
    "\n",
    "#     for playlist in df_test['tracks_id']:\n",
    "#         try:\n",
    "#             check = playlist.index(row_track)\n",
    "#         except ValueError:\n",
    "#             #             print(row)\n",
    "#             check = -1\n",
    "#         if check >= 0:\n",
    "#             for col_track in playlist:\n",
    "#                 if col_track is not None:\n",
    "#                     col = s_tracks_id.index(col_track)\n",
    "#                     #                     print(col_track  + \" - \" + str(col))\n",
    "#                     #                     tr = df_test['tracks'][n][col]\n",
    "#                     #                     print(\"track: \" + str(n) + \": \" + col_track + \" - col_match:\" + str(col) + \": \") # + tr)\n",
    "#                     track_matrix[row, col] += 1\n",
    "# # print(track_matrix)"
   ]
  }
 ],
 "metadata": {
  "hide_input": false,
  "kernelspec": {
   "display_name": "Python 3",
   "language": "python",
   "name": "python3"
  },
  "language_info": {
   "codemirror_mode": {
    "name": "ipython",
    "version": 3
   },
   "file_extension": ".py",
   "mimetype": "text/x-python",
   "name": "python",
   "nbconvert_exporter": "python",
   "pygments_lexer": "ipython3",
   "version": "3.8.10"
  },
  "toc": {
   "base_numbering": 1,
   "nav_menu": {},
   "number_sections": true,
   "sideBar": true,
   "skip_h1_title": false,
   "title_cell": "Table of Contents",
   "title_sidebar": "Contents",
   "toc_cell": false,
   "toc_position": {
    "height": "calc(100% - 180px)",
    "left": "10px",
    "top": "150px",
    "width": "344px"
   },
   "toc_section_display": true,
   "toc_window_display": true
  },
  "varInspector": {
   "cols": {
    "lenName": 16,
    "lenType": 16,
    "lenVar": 40
   },
   "kernels_config": {
    "python": {
     "delete_cmd_postfix": "",
     "delete_cmd_prefix": "del ",
     "library": "var_list.py",
     "varRefreshCmd": "print(var_dic_list())"
    },
    "r": {
     "delete_cmd_postfix": ") ",
     "delete_cmd_prefix": "rm(",
     "library": "var_list.r",
     "varRefreshCmd": "cat(var_dic_list()) "
    }
   },
   "types_to_exclude": [
    "module",
    "function",
    "builtin_function_or_method",
    "instance",
    "_Feature"
   ],
   "window_display": false
  }
 },
 "nbformat": 4,
 "nbformat_minor": 5
}
